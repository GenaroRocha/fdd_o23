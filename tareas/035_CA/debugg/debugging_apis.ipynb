{
 "cells": [
  {
   "cell_type": "markdown",
   "metadata": {},
   "source": [
    "<a target=\"_blank\" href=\"https://colab.research.google.com/github/sonder-art/fdd_o23/blob/main/codigo/debugg/debugging_apis.ipynb\">\n",
    "  <img src=\"https://colab.research.google.com/assets/colab-badge.svg\" alt=\"Open In Colab\"/>\n",
    "</a>"
   ]
  },
  {
   "cell_type": "markdown",
   "metadata": {},
   "source": [
    "Se entrega a mas tardar el martes 14 de Noviembre a las 11:55 pm. Vale 40 puntos de tarea.\n",
    "Te recomiendo leer todo el ejercicio antes de empezar a ahcer codigo, para que te des una idea de que formato y estructura necesitamos"
   ]
  },
  {
   "cell_type": "code",
   "execution_count": 2,
   "metadata": {},
   "outputs": [],
   "source": [
    "import pandas as pd\n",
    "import requests\n",
    "import pyarrow\n"
   ]
  },
  {
   "cell_type": "markdown",
   "metadata": {},
   "source": [
    "Objetivos del Ejercicio:\n",
    "\n",
    "    Realizar una solicitud a la API de Pokémon para obtener datos sobre un Pokémon específico.\n",
    "    Cargar y visualizar los datos en bruto para comprender su estructura.\n",
    "    Limpiar y organizar los datos para un análisis posterior.\n",
    "    Guardar los datos limpios en un archivo CSV."
   ]
  },
  {
   "cell_type": "markdown",
   "metadata": {},
   "source": [
    "El objetivo es crear un `DataFrame` (tidydata) de varios pokemones que ademas contengan metadata de sus moviemientos.  \n",
    "Para ello deberas realizar request al `API` de pokemon, entender como vienen los datos y despues combinarlos con los `joins` correspondientes."
   ]
  },
  {
   "cell_type": "markdown",
   "metadata": {},
   "source": [
    "# API request"
   ]
  },
  {
   "cell_type": "markdown",
   "metadata": {},
   "source": [
    "Crea codigo para acceder al API de pokemon y hacer requests"
   ]
  },
  {
   "cell_type": "code",
   "execution_count": null,
   "metadata": {},
   "outputs": [],
   "source": [
    "def obtener_informacion_pokemon(nombre_pokemon):\n",
    "    url = f'https://pokeapi.co/api/v2/pokemon/{nombre_pokemon.lower()}/'\n",
    "    \n",
    "    try:\n",
    "        # Hacer la solicitud GET a la API\n",
    "        respuesta = requests.get(url)\n",
    "\n",
    "        # Verificar si la solicitud fue exitosa (código de estado 200)\n",
    "        if respuesta.status_code == 200:\n",
    "            # Convertir la respuesta a formato JSON\n",
    "            datos_pokemon = respuesta.json()\n",
    "\n",
    "            # Mostrar información relevante\n",
    "            print(f\"Nombre: {datos_pokemon['name']}\")\n",
    "            print(f\"ID: {datos_pokemon['id']}\")\n",
    "            print(\"Tipos:\")\n",
    "            for tipo in datos_pokemon['types']:\n",
    "                print(f\"- {tipo['type']['name']}\")\n",
    "        else:\n",
    "            print(f\"Error en la solicitud: {respuesta.status_code}\")\n",
    "    except requests.exceptions.RequestException as e:\n",
    "        print(f\"Error de conexión: {e}\")\n",
    "\n",
    "# Ejemplo de uso\n",
    "nombre_pokemon =\"ditto\"\n",
    "#input(\"Introduce el nombre del Pokémon: \")\n",
    "\n",
    "obtener_informacion_pokemon(nombre_pokemon)\n"
   ]
  },
  {
   "cell_type": "markdown",
   "metadata": {},
   "source": [
    "## Pokemon Data"
   ]
  },
  {
   "cell_type": "markdown",
   "metadata": {},
   "source": [
    "Para  el tipo de pokemon debes obtener:\n",
    "1. `pokemon_id`\n",
    "2. `pokemon_name`\n",
    "3. `type`(s) cada pokemon tiene a 1 o dos tipos (no mas). Tienes que guardar ambos  \n",
    "\n",
    "Guarda los `moves` del pokemon pues los usaremos mas adelante. En especial el `name` y la `url` de cada movimiento apra que podamos iterar después"
   ]
  },
  {
   "cell_type": "code",
   "execution_count": null,
   "metadata": {},
   "outputs": [],
   "source": [
    "# Elige tu pokemon\n",
    "pokemon_name = 'lucario'\n",
    "\n",
    "\n",
    "def obtener_informacion_pokemon(nombre_pokemon):\n",
    "    url = f'https://pokeapi.co/api/v2/pokemon/{nombre_pokemon.lower()}/'\n",
    "    \n",
    "    try:\n",
    "        # Hacer la solicitud GET a la API\n",
    "        respuesta = requests.get(url)\n",
    "\n",
    "        # Verificar si la solicitud fue exitosa (código de estado 200)\n",
    "        if respuesta.status_code == 200:\n",
    "            # Convertir la respuesta a formato JSON\n",
    "            datos_pokemon = respuesta.json()\n",
    "\n",
    "            # Obtener información\n",
    "            pokemon_id = datos_pokemon['id']\n",
    "            pokemon_name = datos_pokemon['name']\n",
    "            \n",
    "            # Obtener tipos\n",
    "            types = [tipo['type']['name'] for tipo in datos_pokemon['types']]\n",
    "\n",
    "            # Obtener movimientos\n",
    "            moves = [{'name': movimiento['move']['name'], 'url': movimiento['move']['url']} for movimiento in datos_pokemon['moves']]\n",
    "            # Mostrar información relevante\n",
    "            print(f\"ID: {pokemon_id}\")\n",
    "            print(f\"Nombre: {pokemon_name}\")\n",
    "            print(f\"Tipos: {', '.join(types)}\")\n",
    "            print(\"Moves:\")\n",
    "            for move in moves:\n",
    "                print(f\"- {move['name']} (URL: {move['url']})\")\n",
    "        else:\n",
    "            print(f\"Error en la solicitud: {respuesta.status_code}\")\n",
    "    except requests.exceptions.RequestException as e:\n",
    "        print(f\"Error de conexión: {e}\")\n",
    "\n",
    "\n",
    "#\n",
    "obtener_informacion_pokemon(pokemon_name)"
   ]
  },
  {
   "cell_type": "markdown",
   "metadata": {},
   "source": [
    "## Moves Data"
   ]
  },
  {
   "cell_type": "markdown",
   "metadata": {},
   "source": [
    "Ahora para cada movimiento `move` del pokemon debes obtener los siguientes datos usando la `url`\n",
    "1. `name`\n",
    "2. `accuracy`\n",
    "3. `type`\n",
    "4. `power`\n",
    "5. `pp`"
   ]
  },
  {
   "cell_type": "code",
   "execution_count": 6,
   "metadata": {},
   "outputs": [],
   "source": [
    "# Solicitud para obtener datos de movimientos de un Pokémon\n",
    " # Mostrar información principal\n",
    "def obtener_informacion_pokemon(nombre_pokemon):\n",
    "    url = f'https://pokeapi.co/api/v2/pokemon/{nombre_pokemon.lower()}/'\n",
    "    \n",
    "    try:\n",
    "        # Hacer la solicitud GET a la API\n",
    "        respuesta = requests.get(url)\n",
    "\n",
    "        # Verificar si la solicitud fue exitosa (código de estado 200)\n",
    "        if respuesta.status_code == 200:\n",
    "            # Convertir la respuesta a formato JSON\n",
    "            datos_pokemon = respuesta.json()\n",
    "\n",
    "            # Obtener información principal\n",
    "            pokemon_id = datos_pokemon['id']\n",
    "            pokemon_name = datos_pokemon['name']\n",
    "            types = [tipo['type']['name'] for tipo in datos_pokemon['types']]\n",
    "            moves = [{'name': movimiento['move']['name'], 'url': movimiento['move']['url']} for movimiento in datos_pokemon['moves']]\n",
    "            print(f\"ID: {pokemon_id}\")\n",
    "            print(f\"Nombre: {pokemon_name}\")\n",
    "            print(f\"Tipos: {', '.join(types)}\")\n",
    "            \n",
    "            # Obtener información detallada de cada movimiento\n",
    "            print(\"\\nDetalles de Moves:\")\n",
    "            for move in moves:\n",
    "                move_data = obtener_informacion_movimiento(move['url'])\n",
    "                print(f\"- {move['name']}:\")\n",
    "                print(f\"  - Accuracy: {move_data['accuracy']}\")\n",
    "                print(f\"  - Type: {move_data['type']['name']}\")\n",
    "                print(f\"  - Power: {move_data['power']}\")\n",
    "                print(f\"  - PP: {move_data['pp']}\")\n",
    "                print()\n",
    "\n",
    "        else:\n",
    "            print(f\"Error en la solicitud: {respuesta.status_code}\")\n",
    "    except requests.exceptions.RequestException as e:\n",
    "        print(f\"Error de conexión: {e}\")\n",
    "        \n",
    "    \n",
    "def obtener_informacion_movimiento(url_movimiento):\n",
    "    try:\n",
    "        # Hacer la solicitud GET a la URL del movimiento\n",
    "        respuesta = requests.get(url_movimiento)\n",
    "\n",
    "        # Verificar si la solicitud fue exitosa (código de estado 200)\n",
    "        if respuesta.status_code == 200:\n",
    "            # Convertir la respuesta a formato JSON\n",
    "            datos_movimiento = respuesta.json()\n",
    "\n",
    "            # Obtener información detallada del movimiento\n",
    "            movimiento_info = {\n",
    "                'name': datos_movimiento['name'],\n",
    "                'accuracy': datos_movimiento['accuracy'],\n",
    "                'type': datos_movimiento['type']['name'],\n",
    "                'power': datos_movimiento['power'],\n",
    "                'pp': datos_movimiento['pp'],\n",
    "            }\n",
    "\n",
    "            return movimiento_info\n",
    "        else:\n",
    "            print(f\"Error en la solicitud del movimiento: {respuesta.status_code}\")\n",
    "    except requests.exceptions.RequestException as e:\n",
    "        print(f\"Error de conexión: {e}\")\n",
    "        "
   ]
  },
  {
   "cell_type": "markdown",
   "metadata": {},
   "source": [
    "# API Request para varios pokemons"
   ]
  },
  {
   "cell_type": "markdown",
   "metadata": {},
   "source": [
    "Ahora que sabes como funciona el `API` realiza las peticiones de los siguientes pokemones respecto a sus caracteristicas\n",
    "y moviemientos, y guardalas en una lista, diciconario o tabla (lo que mas te acomode). "
   ]
  },
  {
   "cell_type": "code",
   "execution_count": null,
   "metadata": {},
   "outputs": [],
   "source": [
    "pokemons =['lucario', 'pikachu', 'gengar', 'charizard', 'blastoise', 'venusaur', 'dragonite', 'mew', 'mewtwo', 'garchomp']"
   ]
  },
  {
   "cell_type": "code",
   "execution_count": null,
   "metadata": {},
   "outputs": [],
   "source": [
    "\n",
    "pokemons = ['lucario', 'pikachu', 'gengar', 'charizard', 'blastoise', 'venusaur', 'dragonite', 'mew', 'mewtwo', 'garchomp']\n",
    "\n",
    "# Almacenar la información de cada Pokémon en una lista\n",
    "informacion_pokemons = []\n",
    "\n",
    "# Solicitar información para cada Pokémon en la lista\n",
    "for pokemon in pokemons:\n",
    "    print(pokemon)\n",
    "    pokemon_info = obtener_informacion_pokemon(pokemon)\n",
    "    if pokemon_info:\n",
    "        informacion_pokemons.append(pokemon_info)\n",
    "print(informacion_pokemons)"
   ]
  },
  {
   "cell_type": "markdown",
   "metadata": {},
   "source": [
    "# Evolucion a  Tabular"
   ]
  },
  {
   "cell_type": "markdown",
   "metadata": {},
   "source": [
    "Ahora para cada request (`pokemon` y `movimiento`) convierte su informacion a datos tabulares. Toma en cuenta que vamos a realizar operaciones sobre esos DataFrames, por lo tanto tienes que elegir un formato adecuado.  \n",
    "Para cada pokemon, y para cada movimiento debe existir un `DataFrame`"
   ]
  },
  {
   "cell_type": "code",
   "execution_count": null,
   "metadata": {},
   "outputs": [],
   "source": [
    "# Almacenar la información de cada Pokémon y sus movimientos en listas\n",
    "informacion_pokemons = []\n",
    "informacion_movimientos = []\n",
    "\n",
    "# Solicitar información para cada Pokémon en la lista\n",
    "for pokemon in pokemons:\n",
    "    pokemon_info = obtener_informacion_pokemon(pokemon)\n",
    "    if pokemon_info:\n",
    "        informacion_pokemons.append(pokemon_info)\n",
    "\n",
    "        # Solicitar información para cada movimiento del Pokémon\n",
    "        for move in pokemon_info['Moves']:\n",
    "            movimiento_info = obtener_informacion_movimiento(move['url'])\n",
    "            if movimiento_info:\n",
    "                informacion_movimientos.append({\n",
    "                    'Pokemon': pokemon_info['Nombre'],\n",
    "                    'ID': pokemon_info['ID'],\n",
    "                    'Move': movimiento_info['Nombre'],\n",
    "                    'Accuracy': movimiento_info['Accuracy'],\n",
    "                    'Tipo': movimiento_info['Tipo'],\n",
    "                    'Poder': movimiento_info['Poder'],\n",
    "                    'PP': movimiento_info['PP']\n",
    "                })\n",
    "\n",
    "# Crear DataFrames\n",
    "df_pokemons = pd.DataFrame(informacion_pokemons)\n",
    "df_movimientos = pd.DataFrame(informacion_movimientos)\n",
    "\n",
    "# Mostrar DataFrames\n",
    "print(\"DataFrame de Pokémon:\")\n",
    "print(df_pokemons)\n",
    "\n",
    "print(\"\\nDataFrame de Movimientos:\")\n",
    "print(df_movimientos)"
   ]
  },
  {
   "cell_type": "markdown",
   "metadata": {},
   "source": [
    "# Union de Informacion"
   ]
  },
  {
   "cell_type": "markdown",
   "metadata": {},
   "source": [
    "1. Obten el nombre y caracteristicas de todos lo movimientos que aparecen en por lo menos 3 pokemons de los de la lista, y guarda los datos de movimiento en un solo `DataFrame`"
   ]
  },
  {
   "cell_type": "code",
   "execution_count": null,
   "metadata": {},
   "outputs": [],
   "source": [
    "\n",
    "# Encontrar movimientos que aparecen en al menos 3 Pokémon\n",
    "movimientos_frecuentes = df_movimientos['Move'].value_counts()[df_movimientos['Move'].value_counts() >= 3].index\n",
    "\n",
    "# Filtrar el DataFrame de movimientos para incluir solo los movimientos frecuentes\n",
    "df_movimientos_frecuentes = df_movimientos[df_movimientos['Move'].isin(movimientos_frecuentes)]\n",
    "\n",
    "# Mostrar el DataFrame resultante\n",
    "print(\"DataFrame de Movimientos Frecuentes:\")\n",
    "print(df_movimientos_frecuentes)"
   ]
  },
  {
   "cell_type": "markdown",
   "metadata": {},
   "source": [
    "1.1 Salva los datos en un archivo csv"
   ]
  },
  {
   "cell_type": "code",
   "execution_count": null,
   "metadata": {},
   "outputs": [],
   "source": [
    "pd.DataFrame().to_csv('pokemon_moves_3.csv',index=False)"
   ]
  },
  {
   "cell_type": "markdown",
   "metadata": {},
   "source": [
    "2. Obten el nombre y caracteristicas todos los moviemientos que no se repiten en ningun otro pokemon, osea son movimientos unicos para un solo pokemon"
   ]
  },
  {
   "cell_type": "code",
   "execution_count": null,
   "metadata": {},
   "outputs": [],
   "source": [
    "\n",
    "\n",
    "# Cargar el DataFrame de movimientos desde el archivo\n",
    "df_movimientos = pd.read_json('informacion_movimientos.json')\n",
    "\n",
    "# Encontrar movimientos que aparecen solo en un Pokémon\n",
    "movimientos_unicos = df_movimientos['Move'].value_counts()[df_movimientos['Move'].value_counts() == 1].index\n",
    "\n",
    "# Filtrar el DataFrame de movimientos para incluir solo los movimientos únicos\n",
    "df_movimientos_unicos = df_movimientos[df_movimientos['Move'].isin(movimientos_unicos)]\n",
    "\n",
    "# Mostrar el DataFrame resultante\n",
    "print(\"DataFrame de Movimientos Únicos:\")\n",
    "print(df_movimientos_unicos)\n"
   ]
  },
  {
   "cell_type": "markdown",
   "metadata": {},
   "source": [
    "2.2 Salvalos a un csv"
   ]
  },
  {
   "cell_type": "code",
   "execution_count": null,
   "metadata": {},
   "outputs": [],
   "source": [
    "\n",
    "df_movimientos_unicos.to_csv('pokemon_moves_unicos.csv', index=False)\n"
   ]
  },
  {
   "cell_type": "markdown",
   "metadata": {},
   "source": [
    "# Manejo de tipos"
   ]
  },
  {
   "cell_type": "markdown",
   "metadata": {},
   "source": [
    "Para cada tipo de pokemon (fire, water, grass, etc) que aparecen en los datos. Obten una serie de dataframes que contengan a los pokemones que son de cada tipo. Y colocalos en un diccionarion donde la llave (`key`) es el tipo"
   ]
  },
  {
   "cell_type": "code",
   "execution_count": null,
   "metadata": {},
   "outputs": [],
   "source": [
    "# Tu codigo aqui\n",
    "# Cargar el DataFrame de pokemons desde el archivo\n",
    "df_pokemons = pd.read_json('informacion_pokemons.json')\n",
    "\n",
    "# Inicializar un diccionario para almacenar DataFrames de cada tipo\n",
    "pokemons_por_tipo = {}\n",
    "\n",
    "# Agrupar por el tipo de Pokémon y crear un DataFrame para cada tipo\n",
    "for tipo, grupo in df_pokemons.groupby('Tipos'):\n",
    "    pokemons_por_tipo[tipo] = grupo\n",
    "\n",
    "# Mostrar el diccionario resultante\n",
    "print(\"Diccionario de Pokémons por Tipo:\")\n",
    "for tipo, dataframe in pokemons_por_tipo.items():\n",
    "    print(f\"\\nTipo: {tipo}\")\n",
    "    print(dataframe)\n",
    "    \n"
   ]
  },
  {
   "cell_type": "markdown",
   "metadata": {},
   "source": [
    "Despues guara ese diccionario en un json llamado `tipos.json`"
   ]
  },
  {
   "cell_type": "code",
   "execution_count": null,
   "metadata": {},
   "outputs": [],
   "source": [
    "with open('tipos.json', 'w') as json_file:\n",
    "    json.dump(pokemons_por_tipo, json_file, indent=2)\n",
    "\n",
    "print(\"El diccionario de Pokémons por Tipo ha sido guardado en 'tipos.json'.\")"
   ]
  },
  {
   "cell_type": "markdown",
   "metadata": {},
   "source": [
    "# Seleccion de Pokemones"
   ]
  },
  {
   "cell_type": "markdown",
   "metadata": {},
   "source": [
    "Ahora crea un DataFrame que para cada pokemon unicamente contenga los movimientos que son de su tipo (osea si es tipo fuego y voldaor solo usa movimientos de tipo volador y fuego). Y crea una tabla donde tengan los siguientes datos en formato `tidydata`:\n",
    "1. `pokemon_id`\n",
    "2. `pokemon_name`\n",
    "3. `type`(s) cada pokemon tiene a 1 o dos tipos (no mas). Tienes que guardar ambos  \n",
    "4. `name` (del movimiento)\n",
    "5. `accuracy`\n",
    "6. `type`\n",
    "7. `power`\n",
    "8. `pp`"
   ]
  },
  {
   "cell_type": "code",
   "execution_count": null,
   "metadata": {},
   "outputs": [],
   "source": [
    "# Inicializar listas para almacenar datos en formato tidydata\n",
    "tidydata_rows = []\n",
    "\n",
    "# Iterar sobre cada Pokémon y sus movimientos\n",
    "for index, row in df_pokemons.iterrows():\n",
    "    pokemon_id = row['ID']\n",
    "    pokemon_name = row['Nombre']\n",
    "    tipos = row['Tipos']\n",
    "\n",
    "    # Filtrar movimientos por tipo de Pokémon\n",
    "    movimientos_pokemon = df_movimientos[df_movimientos['Tipo'].isin(tipos)]\n",
    "\n",
    "    # Iterar sobre los movimientos del Pokémon\n",
    "    for index_move, row_move in movimientos_pokemon.iterrows():\n",
    "        move_data = {\n",
    "            'pokemon_id': pokemon_id,\n",
    "            'pokemon_name': pokemon_name,\n",
    "            'type': tipos,\n",
    "            'name': row_move['Move'],\n",
    "            'accuracy': row_move['Accuracy'],\n",
    "            'move_type': row_move['Tipo'],\n",
    "            'power': row_move['Poder'],\n",
    "            'pp': row_move['PP'],\n",
    "        }\n",
    "        tidydata_rows.append(move_data)\n",
    "\n",
    "# Crear el DataFrame en formato tidydata\n",
    "df_tidydata = pd.DataFrame(tidydata_rows)\n",
    "\n",
    "# Mostrar el DataFrame resultante\n",
    "print(\"DataFrame en formato tidydata:\")\n",
    "print(df_tidydata)\n",
    "\n",
    "# Guardar el DataFrame en un archivo CSV\n",
    "df_tidydata.to_csv('tidydata_pokemon_moves.csv', index=False)\n"
   ]
  },
  {
   "cell_type": "markdown",
   "metadata": {},
   "source": [
    "Finalmente guarda los datos en `.parquet`"
   ]
  },
  {
   "cell_type": "code",
   "execution_count": null,
   "metadata": {},
   "outputs": [],
   "source": [
    "# Nombre del archivo: tabla_pokemon.parquet\n",
    "pq.write_table(pa.Table.from_pandas(df_tidydata), 'tidydata_pokemon_moves.parquet')\n",
    "\n",
    "print(\"Datos en formato .parquet guardados correctamente.\""
   ]
  }
 ],
 "metadata": {
  "kernelspec": {
   "display_name": "Python 3",
   "language": "python",
   "name": "python3"
  },
  "language_info": {
   "codemirror_mode": {
    "name": "ipython",
    "version": 3
   },
   "file_extension": ".py",
   "mimetype": "text/x-python",
   "name": "python",
   "nbconvert_exporter": "python",
   "pygments_lexer": "ipython3",
   "version": "3.11.5"
  }
 },
 "nbformat": 4,
 "nbformat_minor": 2
}
