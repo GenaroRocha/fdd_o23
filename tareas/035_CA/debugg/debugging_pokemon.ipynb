{
 "cells": [
  {
   "cell_type": "code",
   "execution_count": 2,
   "metadata": {},
   "outputs": [],
   "source": [
    "import pandas as pd\n",
    "import numpy as np\n",
    "from io import StringIO\n"
   ]
  },
  {
   "cell_type": "markdown",
   "metadata": {},
   "source": [
    "Imagina que eres un investigador en el mundo de Pokémon y has recibido una base de datos con información desactualizada y desordenada sobre avistamientos de Pokémon. Tu misión es limpiar y actualizar esta base de datos para que pueda ser utilizada en un estudio sobre la población de Pokémon en la región."
   ]
  },
  {
   "cell_type": "markdown",
   "metadata": {},
   "source": [
    "Datos Iniciales\n",
    "\n",
    "Los datos iniciales contienen las siguientes columnas:\n",
    "\n",
    "    SightingDate: Fecha del avistamiento.\n",
    "    TrainerID: Identificación del entrenador que reportó el avistamiento.\n",
    "    PokemonName: Nombre del Pokémon avistado.\n",
    "    CP: Puntos de combate del Pokémon reportado.\n",
    "    HP: Puntos de salud del Pokémon reportado.\n",
    "    Type: Tipo del Pokémon.\n",
    "    Weather: Clima durante el avistamiento."
   ]
  },
  {
   "cell_type": "markdown",
   "metadata": {},
   "source": [
    "# 1 Carga de Datos"
   ]
  },
  {
   "cell_type": "code",
   "execution_count": 29,
   "metadata": {},
   "outputs": [
    {
     "name": "stdout",
     "output_type": "stream",
     "text": [
      "               SightingDate    SightingTimeUTC TrainerID PokémonName       CP  \\\n",
      "0  2023-11-08T14:00:00+0000  2023-11-08T14:00Z     TR123     Pikachu      500   \n",
      "1  2023-07-12T09:30:00+0100  2023-07-12T08:30Z     TR456       Eevee  MISSING   \n",
      "2  2023/02/23T22:15:00+0900  2023-02-23T13:15Z     TR789    Magicarp    1,000   \n",
      "3  2023-04-30T06:45:00-0400  2023-04-30T10:45Z     TR101      Gengar      800   \n",
      "4  2023-08-15T16:00:00+1000                NaN     TR102   Bulbasaur      750   \n",
      "\n",
      "   HP          Type        Weather  \n",
      "0  35      Electric          Clear  \n",
      "1  55        Normal         Cloudy  \n",
      "2  10         Water           Rain  \n",
      "3  45         Ghost  PARTLY_CLOUDY  \n",
      "4  50  Grass/Poison          Sunny  \n"
     ]
    }
   ],
   "source": [
    "# path_datos = 'pokemon.csv'\n",
    "# TODO completa el codigo para cargar los datos\n",
    "# df = pd.read_csv(path_datos)\n",
    "\n",
    "# Especifica la ruta al archivo CSV y la codificación ISO\n",
    "path_datos = 'pokemon.csv'\n",
    "codificacion_iso = 'iso-8859-1'  # Asegúrate de usar la codificación correcta\n",
    "\n",
    "# Carga los datos desde el archivo CSV\n",
    "df = pd.read_csv(path_datos, encoding=codificacion_iso)\n",
    "print(df)"
   ]
  },
  {
   "cell_type": "markdown",
   "metadata": {},
   "source": [
    "# Limpieza de Datos"
   ]
  },
  {
   "cell_type": "markdown",
   "metadata": {},
   "source": [
    "## 1 Normalizacion de Zonas Horarias"
   ]
  },
  {
   "cell_type": "markdown",
   "metadata": {},
   "source": [
    "Normaliza la columna `'SightingTimeUTC'` a la zona horaria UTC y convierte `'SightingDate'` al mismo formato de tiempo.\n"
   ]
  },
  {
   "cell_type": "code",
   "execution_count": 4,
   "metadata": {},
   "outputs": [
    {
     "name": "stdout",
     "output_type": "stream",
     "text": [
      "0    2023-11-08T14:00Z\n",
      "1    2023-07-12T08:30Z\n",
      "2    2023-02-23T13:15Z\n",
      "3    2023-04-30T10:45Z\n",
      "4                  NaN\n",
      "Name: SightingTimeUTC, dtype: object\n",
      "Antes\n",
      "0    2023-11-08T14:00:00+0000\n",
      "1    2023-07-12T09:30:00+0100\n",
      "2    2023/02/23T22:15:00+0900\n",
      "3    2023-04-30T06:45:00-0400\n",
      "4    2023-08-15T16:00:00+1000\n",
      "Name: SightingDate, dtype: object\n",
      "Después\n",
      "0    2023-11-08 14:00:00+00:00\n",
      "1    2023-07-12 09:30:00+01:00\n",
      "2    2023-02-23 22:15:00+09:00\n",
      "3    2023-04-30 06:45:00-04:00\n",
      "4    2023-08-15 16:00:00+10:00\n",
      "Name: SightingDate, dtype: object\n"
     ]
    }
   ],
   "source": [
    "import pytz\n",
    "#Investiga el formato al que pertence\n",
    "\n",
    "df['SightingTimeUTC'].head()\n",
    "print(df['SightingTimeUTC'])\n",
    "#Por las entradas de la tabla sabemos que es UTF\n",
    "\n",
    "print(\"Antes\")\n",
    "print(df['SightingDate'])\n",
    "\n",
    "#Convierto SightingDate a UTF\n",
    "#df['SightingDate'] = pd.to_datetime(df['SightingDate'], utc=True)\n",
    "df['SightingDate'] = pd.to_datetime(df['SightingDate'], format='ISO8601')\n",
    "print(\"Después\")\n",
    "print(df['SightingDate'])\n",
    "  \n",
    "\n",
    "\n",
    "\n"
   ]
  },
  {
   "cell_type": "markdown",
   "metadata": {},
   "source": [
    "Compara si la fecha de la columna `'SightingDate'` coincide con la fecha en `'SightingTimeUTC'` una vez normalizada.\n"
   ]
  },
  {
   "cell_type": "code",
   "execution_count": 5,
   "metadata": {},
   "outputs": [
    {
     "name": "stdout",
     "output_type": "stream",
     "text": [
      "               SightingDate           SightingTimeUTC TrainerID PokémonName  \\\n",
      "0 2023-11-08 14:00:00+00:00 2023-11-08 14:00:00+00:00     TR123     Pikachu   \n",
      "1 2023-07-12 08:30:00+00:00 2023-07-12 08:30:00+00:00     TR456       Eevee   \n",
      "2 2023-02-23 13:15:00+00:00 2023-02-23 13:15:00+00:00     TR789    Magicarp   \n",
      "3 2023-04-30 10:45:00+00:00 2023-04-30 10:45:00+00:00     TR101      Gengar   \n",
      "4 2023-08-15 06:00:00+00:00                       NaT     TR102   Bulbasaur   \n",
      "\n",
      "        CP  HP          Type        Weather  Coincide  \n",
      "0      500  35      Electric          Clear      True  \n",
      "1  MISSING  55        Normal         Cloudy      True  \n",
      "2    1,000  10         Water           Rain      True  \n",
      "3      800  45         Ghost  PARTLY_CLOUDY      True  \n",
      "4      750  50  Grass/Poison          Sunny     False  \n"
     ]
    }
   ],
   "source": [
    "df['SightingDate'] = pd.to_datetime(df['SightingDate'], utc=True)\n",
    "df['SightingTimeUTC'] = pd.to_datetime(df['SightingTimeUTC'], utc=True)\n",
    "\n",
    "# Compara si las fechas coinciden\n",
    "df['Coincide'] = df['SightingDate'].dt.floor('T') == df['SightingTimeUTC'].dt.floor('T')\n",
    "\n",
    "# Muestra el DataFrame resultante\n",
    "print(df)\n"
   ]
  },
  {
   "cell_type": "markdown",
   "metadata": {},
   "source": [
    "Ajusta `'SightingTimeUTC'` a la zona horaria local de cada entrenador y crea una columna `'SightingTimeLocal'`."
   ]
  },
  {
   "cell_type": "code",
   "execution_count": 6,
   "metadata": {},
   "outputs": [
    {
     "name": "stdout",
     "output_type": "stream",
     "text": [
      "               SightingDate           SightingTimeUTC TrainerID PokémonName  \\\n",
      "0 2023-11-08 14:00:00+00:00 2023-11-08 14:00:00+00:00     TR123     Pikachu   \n",
      "1 2023-07-12 08:30:00+00:00 2023-07-12 08:30:00+00:00     TR456       Eevee   \n",
      "2 2023-02-23 13:15:00+00:00 2023-02-23 13:15:00+00:00     TR789    Magicarp   \n",
      "3 2023-04-30 10:45:00+00:00 2023-04-30 10:45:00+00:00     TR101      Gengar   \n",
      "4 2023-08-15 06:00:00+00:00                       NaT     TR102   Bulbasaur   \n",
      "\n",
      "        CP  HP          Type        Weather  Coincide          ZonaHoraria  \\\n",
      "0      500  35      Electric          Clear      True  America/Mexico_City   \n",
      "1  MISSING  55        Normal         Cloudy      True        Europe/London   \n",
      "2    1,000  10         Water           Rain      True           Asia/Tokyo   \n",
      "3      800  45         Ghost  PARTLY_CLOUDY      True     America/New_York   \n",
      "4      750  50  Grass/Poison          Sunny     False     Australia/Sydney   \n",
      "\n",
      "           SightingTimeLocal  \n",
      "0  2023-11-08 08:00:00-06:00  \n",
      "1  2023-07-12 09:30:00+01:00  \n",
      "2  2023-02-23 22:15:00+09:00  \n",
      "3  2023-04-30 06:45:00-04:00  \n",
      "4                        NaT  \n"
     ]
    }
   ],
   "source": [
    "#Mapeo de zonas horarias\n",
    "zona_horaria_por_entrenador = {\n",
    "    'TR123': 'America/Mexico_City',\n",
    "    'TR456': 'Europe/London',\n",
    "    'TR789': 'Asia/Tokyo',\n",
    "    'TR101': 'America/New_York',\n",
    "    'TR102': 'Australia/Sydney',\n",
    "    # Agrega más mapeos según sea necesario\n",
    "}\n",
    "\n",
    "# Agrega una nueva columna 'ZonaHoraria' al DataFrame, utilizando una zona horaria predeterminada para NaN\n",
    "df['ZonaHoraria'] = df['TrainerID'].map(zona_horaria_por_entrenador).fillna('UTC')\n",
    "\n",
    "# Ajusta la zona horaria de la columna 'SightingTimeUTC' utilizando la nueva columna 'ZonaHoraria'\n",
    "df['SightingTimeLocal'] = df.apply(lambda row: row['SightingTimeUTC'].astimezone(pytz.timezone(row['ZonaHoraria'])) if pd.notnull(row['SightingTimeUTC']) else pd.NaT, axis=1)\n",
    "\n",
    "# Imprime el DataFrame resultante\n",
    "print(df)\n"
   ]
  },
  {
   "cell_type": "markdown",
   "metadata": {},
   "source": [
    "Calcula el tiempo transcurrido desde el momento del avistamiento hasta `'ahora'` (tu hora local) y crea una columna `'TimeSinceSighting'`."
   ]
  },
  {
   "cell_type": "code",
   "execution_count": 13,
   "metadata": {},
   "outputs": [
    {
     "name": "stdout",
     "output_type": "stream",
     "text": [
      "               SightingDate           SightingTimeUTC TrainerID PokémonName  \\\n",
      "0 2023-11-08 14:00:00+00:00 2023-11-08 14:00:00+00:00     TR123     Pikachu   \n",
      "1 2023-07-12 08:30:00+00:00 2023-07-12 08:30:00+00:00     TR456       Eevee   \n",
      "2 2023-02-23 13:15:00+00:00 2023-02-23 13:15:00+00:00     TR789    Magicarp   \n",
      "3 2023-04-30 10:45:00+00:00 2023-04-30 10:45:00+00:00     TR101      Gengar   \n",
      "4 2023-08-15 06:00:00+00:00                       NaT     TR102   Bulbasaur   \n",
      "\n",
      "        CP  HP          Type        Weather  Coincide          ZonaHoraria  \\\n",
      "0      500  35      Electric          Clear      True  America/Mexico_City   \n",
      "1  MISSING  55        Normal         Cloudy      True        Europe/London   \n",
      "2    1,000  10         Water           Rain      True           Asia/Tokyo   \n",
      "3      800  45         Ghost  PARTLY_CLOUDY      True     America/New_York   \n",
      "4      750  50  Grass/Poison          Sunny     False     Australia/Sydney   \n",
      "\n",
      "          SightingTimeLocal  TimeSinceSighting  \n",
      "0 2023-11-08 14:00:00+00:00        3431.662459  \n",
      "1 2023-07-12 08:30:00+00:00      175121.662459  \n",
      "2 2023-02-23 13:15:00+00:00      374996.662459  \n",
      "3 2023-04-30 10:45:00+00:00      280106.662459  \n",
      "4                       NaT                NaN  \n"
     ]
    },
    {
     "data": {
      "text/plain": [
       "\"\\n# Obtén la hora actual en tu zona horaria local\\nhora_actual_local = datetime.datetime.now(pytz.timezone('tu_zona_horaria_local'))\\n\\n# Convierte la columna 'SightingTimeLocal' a objeto datetime si aún no lo está\\ndf['SightingTimeLocal'] = pd.to_datetime(df['SightingTimeLocal'])\\n\\n# Asegúrate de que ambos objetos de fecha y hora tengan la misma zona horaria\\ndf['SightingTimeLocal'] = df['SightingTimeLocal'].dt.tz_localize(pytz.timezone('tu_zona_horaria_local'))\\n\\n# Calcula el tiempo transcurrido desde el avistamiento hasta ahora\\ndf['TimeSinceSighting'] = (hora_actual_local - df['SightingTimeLocal']).dt.total_seconds() / 60  # En minutos\\n\""
      ]
     },
     "execution_count": 13,
     "metadata": {},
     "output_type": "execute_result"
    }
   ],
   "source": [
    "import datetime\n",
    "\n",
    "\"\"\"\n",
    "# Obtén la hora actual en tu zona horaria local\n",
    "hora_actual_local = datetime.datetime.now(pytz.timezone('America/New_York'))\n",
    "\n",
    "# Convierte la columna 'SightingTimeLocal' a datetime64 con información de zona horaria UTC\n",
    "df['SightingTimeLocal'] = df['SightingTimeLocal'].dt.tz_convert('UTC')\n",
    "\n",
    "# Calcula el tiempo transcurrido desde el avistamiento hasta ahora\n",
    "df['TimeSinceSighting'] = (hora_actual_local - df['SightingTimeLocal']).dt.total_seconds() / 60  # En minutos\n",
    "\"\"\"\n",
    "# Obtén la hora actual en tu zona horaria local\n",
    "hora_actual_local = datetime.datetime.now(pytz.timezone('America/New_York'))\n",
    "# Asegúrate de que 'SightingTimeLocal' está en formato datetime y tiene zonas horarias asignadas\n",
    "df['SightingTimeLocal'] = pd.to_datetime(df['SightingTimeLocal'], utc=True)\n",
    "\n",
    "# Calcula el tiempo transcurrido desde el avistamiento hasta ahora\n",
    "df['TimeSinceSighting'] = (hora_actual_local - df['SightingTimeLocal']).dt.total_seconds() / 60  # En minutos\n",
    "\n",
    "# Imprime el DataFrame resultante\n",
    "print(df)\n"
   ]
  },
  {
   "cell_type": "markdown",
   "metadata": {},
   "source": [
    "## 2. Limpeiza de IDs"
   ]
  },
  {
   "cell_type": "markdown",
   "metadata": {},
   "source": [
    "Llena los valores faltantes en `'TrainerID'` con el ID `'UNKNOWN'`.\n"
   ]
  },
  {
   "cell_type": "code",
   "execution_count": 14,
   "metadata": {},
   "outputs": [
    {
     "name": "stdout",
     "output_type": "stream",
     "text": [
      "               SightingDate           SightingTimeUTC TrainerID PokémonName  \\\n",
      "0 2023-11-08 14:00:00+00:00 2023-11-08 14:00:00+00:00     TR123     Pikachu   \n",
      "1 2023-07-12 08:30:00+00:00 2023-07-12 08:30:00+00:00     TR456       Eevee   \n",
      "2 2023-02-23 13:15:00+00:00 2023-02-23 13:15:00+00:00     TR789    Magicarp   \n",
      "3 2023-04-30 10:45:00+00:00 2023-04-30 10:45:00+00:00     TR101      Gengar   \n",
      "4 2023-08-15 06:00:00+00:00                       NaT     TR102   Bulbasaur   \n",
      "\n",
      "        CP  HP          Type        Weather  Coincide          ZonaHoraria  \\\n",
      "0      500  35      Electric          Clear      True  America/Mexico_City   \n",
      "1  MISSING  55        Normal         Cloudy      True        Europe/London   \n",
      "2    1,000  10         Water           Rain      True           Asia/Tokyo   \n",
      "3      800  45         Ghost  PARTLY_CLOUDY      True     America/New_York   \n",
      "4      750  50  Grass/Poison          Sunny     False     Australia/Sydney   \n",
      "\n",
      "          SightingTimeLocal  TimeSinceSighting  \n",
      "0 2023-11-08 14:00:00+00:00        3431.662459  \n",
      "1 2023-07-12 08:30:00+00:00      175121.662459  \n",
      "2 2023-02-23 13:15:00+00:00      374996.662459  \n",
      "3 2023-04-30 10:45:00+00:00      280106.662459  \n",
      "4                       NaT                NaN  \n"
     ]
    }
   ],
   "source": [
    "df['TrainerID'].fillna('UNKNOWN', inplace=True)\n",
    "print(df)\n"
   ]
  },
  {
   "cell_type": "markdown",
   "metadata": {},
   "source": [
    "## 3. Corrección de Nombres de Pokémon"
   ]
  },
  {
   "cell_type": "markdown",
   "metadata": {},
   "source": [
    "Asegúrate de que los nombres de Pokémon estén capitalizados correctamente.\n"
   ]
  },
  {
   "cell_type": "code",
   "execution_count": 15,
   "metadata": {},
   "outputs": [
    {
     "name": "stdout",
     "output_type": "stream",
     "text": [
      "               SightingDate           SightingTimeUTC TrainerID PokémonName  \\\n",
      "0 2023-11-08 14:00:00+00:00 2023-11-08 14:00:00+00:00     TR123     Pikachu   \n",
      "1 2023-07-12 08:30:00+00:00 2023-07-12 08:30:00+00:00     TR456       Eevee   \n",
      "2 2023-02-23 13:15:00+00:00 2023-02-23 13:15:00+00:00     TR789    Magicarp   \n",
      "3 2023-04-30 10:45:00+00:00 2023-04-30 10:45:00+00:00     TR101      Gengar   \n",
      "4 2023-08-15 06:00:00+00:00                       NaT     TR102   Bulbasaur   \n",
      "\n",
      "        CP  HP          Type        Weather  Coincide          ZonaHoraria  \\\n",
      "0      500  35      Electric          Clear      True  America/Mexico_City   \n",
      "1  MISSING  55        Normal         Cloudy      True        Europe/London   \n",
      "2    1,000  10         Water           Rain      True           Asia/Tokyo   \n",
      "3      800  45         Ghost  PARTLY_CLOUDY      True     America/New_York   \n",
      "4      750  50  Grass/Poison          Sunny     False     Australia/Sydney   \n",
      "\n",
      "          SightingTimeLocal  TimeSinceSighting PokemonName  \n",
      "0 2023-11-08 14:00:00+00:00        3431.662459     Pikachu  \n",
      "1 2023-07-12 08:30:00+00:00      175121.662459       Eevee  \n",
      "2 2023-02-23 13:15:00+00:00      374996.662459    Magicarp  \n",
      "3 2023-04-30 10:45:00+00:00      280106.662459      Gengar  \n",
      "4                       NaT                NaN   Bulbasaur  \n"
     ]
    }
   ],
   "source": [
    "df['PokemonName'] =  df['PokémonName'].str.capitalize()\n",
    "\n",
    "# Imprime el DataFrame resultante\n",
    "print(df)\n"
   ]
  },
  {
   "cell_type": "markdown",
   "metadata": {},
   "source": [
    "## 4. Conversión de 'CP' y 'HP' a Numéricos"
   ]
  },
  {
   "cell_type": "markdown",
   "metadata": {},
   "source": [
    "Convierte `'CP'` y `'HP'` a valores numéricos, manejando los `'MISSING'` y comas como separadores de miles."
   ]
  },
  {
   "cell_type": "code",
   "execution_count": 20,
   "metadata": {},
   "outputs": [
    {
     "name": "stdout",
     "output_type": "stream",
     "text": [
      "               SightingDate           SightingTimeUTC TrainerID PokémonName  \\\n",
      "0 2023-11-08 14:00:00+00:00 2023-11-08 14:00:00+00:00     TR123     Pikachu   \n",
      "1 2023-07-12 08:30:00+00:00 2023-07-12 08:30:00+00:00     TR456       Eevee   \n",
      "2 2023-02-23 13:15:00+00:00 2023-02-23 13:15:00+00:00     TR789    Magicarp   \n",
      "3 2023-04-30 10:45:00+00:00 2023-04-30 10:45:00+00:00     TR101      Gengar   \n",
      "4 2023-08-15 06:00:00+00:00                       NaT     TR102   Bulbasaur   \n",
      "\n",
      "       CP  HP          Type        Weather  Coincide          ZonaHoraria  \\\n",
      "0   500.0  35      Electric          Clear      True  America/Mexico_City   \n",
      "1     NaN  55        Normal         Cloudy      True        Europe/London   \n",
      "2  1000.0  10         Water           Rain      True           Asia/Tokyo   \n",
      "3   800.0  45         Ghost  PARTLY_CLOUDY      True     America/New_York   \n",
      "4   750.0  50  Grass/Poison          Sunny     False     Australia/Sydney   \n",
      "\n",
      "          SightingTimeLocal  TimeSinceSighting PokemonName  \n",
      "0 2023-11-08 14:00:00+00:00        3431.662459     Pikachu  \n",
      "1 2023-07-12 08:30:00+00:00      175121.662459       Eevee  \n",
      "2 2023-02-23 13:15:00+00:00      374996.662459    Magicarp  \n",
      "3 2023-04-30 10:45:00+00:00      280106.662459      Gengar  \n",
      "4                       NaT                NaN   Bulbasaur  \n"
     ]
    }
   ],
   "source": [
    "\n",
    "\n",
    "# Elimina las comas y convierte a valores numéricos\n",
    "df['CP'] = pd.to_numeric(df['CP'].astype(str).str.replace(',', ''), errors='coerce')\n",
    "df['HP'] = pd.to_numeric(df['HP'].astype(str).str.replace(',', ''), errors='coerce')\n",
    "\n",
    "df['CP'] = df['CP'].replace('MISSING', pd.NA)\n",
    "df['HP'] = df['HP'].replace('MISSING', pd.NA)\n",
    "\n",
    "# Imprime el DataFrame resultante\n",
    "print(df)"
   ]
  },
  {
   "cell_type": "markdown",
   "metadata": {},
   "source": [
    "## 5. Estandarización de 'Type'"
   ]
  },
  {
   "cell_type": "markdown",
   "metadata": {},
   "source": [
    "Divide la columna `'Type'` en `'PrimaryType'` y `'SecondaryType'` cuando hay dos tipos.\n"
   ]
  },
  {
   "cell_type": "code",
   "execution_count": 25,
   "metadata": {},
   "outputs": [
    {
     "name": "stdout",
     "output_type": "stream",
     "text": [
      "               SightingDate           SightingTimeUTC TrainerID PokémonName  \\\n",
      "0 2023-11-08 14:00:00+00:00 2023-11-08 14:00:00+00:00     TR123     Pikachu   \n",
      "1 2023-07-12 08:30:00+00:00 2023-07-12 08:30:00+00:00     TR456       Eevee   \n",
      "2 2023-02-23 13:15:00+00:00 2023-02-23 13:15:00+00:00     TR789    Magicarp   \n",
      "3 2023-04-30 10:45:00+00:00 2023-04-30 10:45:00+00:00     TR101      Gengar   \n",
      "4 2023-08-15 06:00:00+00:00                       NaT     TR102   Bulbasaur   \n",
      "\n",
      "       CP  HP          Type        Weather  Coincide          ZonaHoraria  \\\n",
      "0   500.0  35      Electric          Clear      True  America/Mexico_City   \n",
      "1     NaN  55        Normal         Cloudy      True        Europe/London   \n",
      "2  1000.0  10         Water           Rain      True           Asia/Tokyo   \n",
      "3   800.0  45         Ghost  PARTLY_CLOUDY      True     America/New_York   \n",
      "4   750.0  50  Grass/Poison          Sunny     False     Australia/Sydney   \n",
      "\n",
      "          SightingTimeLocal  TimeSinceSighting PokemonName PrimaryType  \\\n",
      "0 2023-11-08 14:00:00+00:00        3431.662459     Pikachu    Electric   \n",
      "1 2023-07-12 08:30:00+00:00      175121.662459       Eevee      Normal   \n",
      "2 2023-02-23 13:15:00+00:00      374996.662459    Magicarp       Water   \n",
      "3 2023-04-30 10:45:00+00:00      280106.662459      Gengar       Ghost   \n",
      "4                       NaT                NaN   Bulbasaur       Grass   \n",
      "\n",
      "  SecondaryType  \n",
      "0          None  \n",
      "1          None  \n",
      "2          None  \n",
      "3          None  \n",
      "4        Poison  \n"
     ]
    }
   ],
   "source": [
    "# Divide la columna 'Type' en dos columnas: 'PrimaryType' y 'SecondaryType'\n",
    "\n",
    "df[['PrimaryType', 'SecondaryType']] = df['Type'].str.split('/', n=1, expand=True)\n",
    "\n",
    "\n",
    "\n",
    "# Imprime el DataFrame resultante\n",
    "print(df)"
   ]
  },
  {
   "cell_type": "markdown",
   "metadata": {},
   "source": [
    "## 6. Corrección del Clima"
   ]
  },
  {
   "cell_type": "markdown",
   "metadata": {},
   "source": [
    "Estándariza la columna `'Weather'` para que todos los valores sean mayúsculas.\n"
   ]
  },
  {
   "cell_type": "code",
   "execution_count": 30,
   "metadata": {},
   "outputs": [
    {
     "name": "stdout",
     "output_type": "stream",
     "text": [
      "               SightingDate    SightingTimeUTC TrainerID PokémonName       CP  \\\n",
      "0  2023-11-08T14:00:00+0000  2023-11-08T14:00Z     TR123     Pikachu      500   \n",
      "1  2023-07-12T09:30:00+0100  2023-07-12T08:30Z     TR456       Eevee  MISSING   \n",
      "2  2023/02/23T22:15:00+0900  2023-02-23T13:15Z     TR789    Magicarp    1,000   \n",
      "3  2023-04-30T06:45:00-0400  2023-04-30T10:45Z     TR101      Gengar      800   \n",
      "4  2023-08-15T16:00:00+1000                NaN     TR102   Bulbasaur      750   \n",
      "\n",
      "   HP          Type        Weather  \n",
      "0  35      Electric          CLEAR  \n",
      "1  55        Normal         CLOUDY  \n",
      "2  10         Water           RAIN  \n",
      "3  45         Ghost  PARTLY_CLOUDY  \n",
      "4  50  Grass/Poison          SUNNY  \n"
     ]
    }
   ],
   "source": [
    "df['Weather'] = df['Weather'].str.upper()\n",
    "# Imprime el DataFrame actualizado\n",
    "print(df)\n"
   ]
  },
  {
   "cell_type": "markdown",
   "metadata": {},
   "source": [
    "# 3 Analisis de Datos"
   ]
  },
  {
   "cell_type": "markdown",
   "metadata": {},
   "source": [
    "## Agrupaciones"
   ]
  },
  {
   "cell_type": "markdown",
   "metadata": {},
   "source": [
    "Agrupa el DataFrame por `'Type'` y calcula la suma de `'CP'` para cada grupo."
   ]
  },
  {
   "cell_type": "code",
   "execution_count": 31,
   "metadata": {},
   "outputs": [
    {
     "name": "stdout",
     "output_type": "stream",
     "text": [
      "Type\n",
      "Electric            500\n",
      "Ghost               800\n",
      "Grass/Poison        750\n",
      "Normal          MISSING\n",
      "Water             1,000\n",
      "Name: CP, dtype: object\n"
     ]
    }
   ],
   "source": [
    "# Agrupa por 'Type' y suma 'CP' para cada grupo\n",
    "sum_cp_by_type = df.groupby('Type')['CP'].sum()\n",
    "\n",
    "# Imprime el resultado\n",
    "print(sum_cp_by_type)"
   ]
  },
  {
   "cell_type": "markdown",
   "metadata": {},
   "source": [
    "Después de la suma, agrega una columna que calcule la media de `'HP'` por cada `'Type'`, pero solo para aquellos Pokémon cuyo `'CP'` sea mayor que el promedio de `'CP'` de todo el DataFrame."
   ]
  },
  {
   "cell_type": "code",
   "execution_count": 33,
   "metadata": {},
   "outputs": [
    {
     "name": "stdout",
     "output_type": "stream",
     "text": [
      "               SightingDate    SightingTimeUTC TrainerID PokémonName     CP  \\\n",
      "0  2023-11-08T14:00:00+0000  2023-11-08T14:00Z     TR123     Pikachu  500.0   \n",
      "1  2023-07-12T09:30:00+0100  2023-07-12T08:30Z     TR456       Eevee    NaN   \n",
      "2  2023/02/23T22:15:00+0900  2023-02-23T13:15Z     TR789    Magicarp    NaN   \n",
      "3  2023-04-30T06:45:00-0400  2023-04-30T10:45Z     TR101      Gengar  800.0   \n",
      "4  2023-08-15T16:00:00+1000                NaN     TR102   Bulbasaur  750.0   \n",
      "\n",
      "   HP          Type        Weather  Suma_CP  Media_HP  \n",
      "0  35      Electric          CLEAR      NaN       NaN  \n",
      "1  55        Normal         CLOUDY      NaN       NaN  \n",
      "2  10         Water           RAIN      NaN       NaN  \n",
      "3  45         Ghost  PARTLY_CLOUDY    800.0      45.0  \n",
      "4  50  Grass/Poison          SUNNY    750.0      50.0  \n"
     ]
    }
   ],
   "source": [
    "# Convierte la columna 'CP' a numérica, ignorando los valores 'MISSING'\n",
    "df['CP'] = pd.to_numeric(df['CP'], errors='coerce')\n",
    "\n",
    "# Calcula el promedio de 'CP' de todo el DataFrame\n",
    "promedio_cp_total = df['CP'].mean()\n",
    "\n",
    "# Filtra los Pokémon cuyo 'CP' sea mayor que el promedio total\n",
    "pokemon_cp_mayor_promedio = df[df['CP'] > promedio_cp_total]\n",
    "\n",
    "# Agrupa por 'Type' y calcula la suma de 'CP' y la media de 'HP' para esos Pokémon\n",
    "resultados_agregados = pokemon_cp_mayor_promedio.groupby('Type').agg({'CP': 'sum', 'HP': 'mean'}).reset_index()\n",
    "\n",
    "# Renombra las columnas resultantes\n",
    "resultados_agregados.columns = ['Type', 'Suma_CP', 'Media_HP']\n",
    "\n",
    "# Fusiona los resultados agregados de nuevo con el DataFrame original\n",
    "df = pd.merge(df, resultados_agregados, on='Type', how='left')\n",
    "\n",
    "# Imprime el DataFrame resultante\n",
    "print(df)"
   ]
  }
 ],
 "metadata": {
  "kernelspec": {
   "display_name": "Python 3",
   "language": "python",
   "name": "python3"
  },
  "language_info": {
   "codemirror_mode": {
    "name": "ipython",
    "version": 3
   },
   "file_extension": ".py",
   "mimetype": "text/x-python",
   "name": "python",
   "nbconvert_exporter": "python",
   "pygments_lexer": "ipython3",
   "version": "3.11.5"
  }
 },
 "nbformat": 4,
 "nbformat_minor": 2
}
