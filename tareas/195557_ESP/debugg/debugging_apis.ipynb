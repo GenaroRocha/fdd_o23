{
 "cells": [
  {
   "cell_type": "markdown",
   "metadata": {},
   "source": [
    "<a target=\"_blank\" href=\"https://colab.research.google.com/github/sonder-art/fdd_o23/blob/main/codigo/debugg/debugging_apis.ipynb\">\n",
    "  <img src=\"https://colab.research.google.com/assets/colab-badge.svg\" alt=\"Open In Colab\"/>\n",
    "</a>"
   ]
  },
  {
   "cell_type": "markdown",
   "metadata": {},
   "source": [
    "Se entrega a mas tardar el martes 14 de Noviembre a las 11:55 pm. Vale 40 puntos de tarea.\n",
    "**Te recomiendo leer todo el ejercicio antes de empezar a hacer codigo, para que te des una idea de que formato y estructura necesitamos**"
   ]
  },
  {
   "cell_type": "code",
   "execution_count": 27,
   "metadata": {},
   "outputs": [],
   "source": [
    "import pandas as pd\n",
    "# Completa las librerias que necesites\n",
    "import requests\n",
    "from collections import Counter\n",
    "import json"
   ]
  },
  {
   "cell_type": "markdown",
   "metadata": {},
   "source": [
    "Objetivos del Ejercicio:\n",
    "\n",
    "    Realizar una solicitud a la API de Pokémon para obtener datos sobre un Pokémon específico.\n",
    "    Cargar y visualizar los datos en bruto para comprender su estructura.\n",
    "    Limpiar y organizar los datos para un análisis posterior.\n",
    "    Guardar los datos limpios en un archivo CSV."
   ]
  },
  {
   "cell_type": "markdown",
   "metadata": {},
   "source": [
    "El objetivo es crear un `DataFrame` (tidydata) de varios pokemones que ademas contengan metadata de sus moviemientos.  \n",
    "Para ello deberas realizar request al `API` de pokemon, entender como vienen los datos y despues combinarlos con los `joins` correspondientes."
   ]
  },
  {
   "cell_type": "markdown",
   "metadata": {},
   "source": [
    "# API request"
   ]
  },
  {
   "cell_type": "markdown",
   "metadata": {},
   "source": [
    "Crea codigo para acceder al API de pokemon y hacer requests. esta primera parte del codigo solo es para entender como es la estructura de los datos"
   ]
  },
  {
   "cell_type": "markdown",
   "metadata": {},
   "source": [
    "Compelta el siguiente snippet para obter los datos del API de pokemon. La idea de estos primeros snippets es solo entender como funcionan los datos y como llegan. Para ello solo analizamos un pokemon y sus movimientos, mas adelante tenemos que repetirlo pero para varios pokemons."
   ]
  },
  {
   "cell_type": "markdown",
   "metadata": {},
   "source": [
    "## Pokemon Data"
   ]
  },
  {
   "cell_type": "markdown",
   "metadata": {},
   "source": [
    "Para  el tipo de pokemon debes obtener:\n",
    "1. `pokemon_id`\n",
    "2. `pokemon_name`\n",
    "3. `type`(s) cada pokemon tiene a 1 o dos tipos (no mas). Tienes que guardar ambos  \n",
    "\n",
    "Guarda los `moves` del pokemon pues los usaremos mas adelante. En especial el `name` y la `url` de cada movimiento para que podamos iterar despues"
   ]
  },
  {
   "cell_type": "code",
   "execution_count": 1,
   "metadata": {},
   "outputs": [],
   "source": [
    "# Elige tu pokemon\n",
    "pokemon_name = 'lucario'"
   ]
  },
  {
   "cell_type": "code",
   "execution_count": 5,
   "metadata": {},
   "outputs": [
    {
     "name": "stdout",
     "output_type": "stream",
     "text": [
      "   pokemon_id pokemon_name     type1  type2\n",
      "0         448      lucario  fighting  steel\n",
      "              name                                  url\n",
      "0       mega-punch    https://pokeapi.co/api/v2/move/5/\n",
      "1        ice-punch    https://pokeapi.co/api/v2/move/8/\n",
      "2    thunder-punch    https://pokeapi.co/api/v2/move/9/\n",
      "3     swords-dance   https://pokeapi.co/api/v2/move/14/\n",
      "4        mega-kick   https://pokeapi.co/api/v2/move/25/\n",
      "..             ...                                  ...\n",
      "105     steel-beam  https://pokeapi.co/api/v2/move/796/\n",
      "106  terrain-pulse  https://pokeapi.co/api/v2/move/805/\n",
      "107       coaching  https://pokeapi.co/api/v2/move/811/\n",
      "108     tera-blast  https://pokeapi.co/api/v2/move/851/\n",
      "109     trailblaze  https://pokeapi.co/api/v2/move/885/\n",
      "\n",
      "[110 rows x 2 columns]\n",
      "         move_name  power  pp move_type\n",
      "0       mega-punch   80.0  20    normal\n",
      "1        ice-punch   75.0  15       ice\n",
      "2    thunder-punch   75.0  15  electric\n",
      "3     swords-dance    NaN  20    normal\n",
      "4        mega-kick  120.0   5    normal\n",
      "..             ...    ...  ..       ...\n",
      "105     steel-beam  140.0   5     steel\n",
      "106  terrain-pulse   50.0  10    normal\n",
      "107       coaching    NaN  10  fighting\n",
      "108     tera-blast   80.0  10    normal\n",
      "109     trailblaze   50.0  20     grass\n",
      "\n",
      "[110 rows x 4 columns]\n"
     ]
    }
   ],
   "source": [
    "# Solicitud para obtener datos de un Pokémon\n",
    "pokemon_url = f'https://pokeapi.co/api/v2/pokemon/{pokemon_name}'\n",
    "# Realizar la solicitud al API\n",
    "pokemon_response = requests.get(pokemon_url)\n",
    "\n",
    "# Verificar que la respuesta es exitosa\n",
    "if pokemon_response.status_code == 200:\n",
    "    # Convertir la respuesta en formato JSON\n",
    "    pokemon_data = pokemon_response.json()\n",
    "\n",
    "    # Obtener el ID y el nombre del Pokémon\n",
    "    pokemon_id = pokemon_data['id']\n",
    "    pokemon_name = pokemon_data['name']\n",
    "\n",
    "    # Obtener los tipos del Pokémon\n",
    "    types = [t['type']['name'] for t in pokemon_data['types']]\n",
    "\n",
    "    # Obtener los movimientos del Pokémon\n",
    "    moves = [{'name': move['move']['name'], 'url': move['move']['url']} for move in pokemon_data['moves']]\n",
    "\n",
    "    # Crear un DataFrame para visualizar los datos\n",
    "    df_pokemon = pd.DataFrame({\n",
    "        'pokemon_id': [pokemon_id],\n",
    "        'pokemon_name': [pokemon_name],\n",
    "        'type1': [types[0]] if len(types) > 0 else [None],\n",
    "        'type2': [types[1]] if len(types) > 1 else [None]\n",
    "    })\n",
    "\n",
    "    df_moves = pd.DataFrame(moves)\n",
    "\n",
    "    print(df_pokemon)\n",
    "    print(df_moves)\n",
    "else:\n",
    "    print(\"Error en la solicitud al API\")\n",
    "    \n",
    "    # Lista para almacenar los metadatos de los movimientos\n",
    "moves_metadata = []\n",
    "\n",
    "# Iterar sobre cada movimiento\n",
    "for move in moves:\n",
    "    move_url = move['url']\n",
    "    move_response = requests.get(move_url)\n",
    "\n",
    "    if move_response.status_code == 200:\n",
    "        move_data = move_response.json()\n",
    "\n",
    "        # Aquí puedes elegir qué metadatos deseas extraer. Ejemplo: power, pp, type\n",
    "        move_metadata = {\n",
    "            'move_name': move['name'],\n",
    "            'power': move_data.get('power', None),\n",
    "            'pp': move_data.get('pp', None),\n",
    "            'move_type': move_data['type']['name']\n",
    "        }\n",
    "\n",
    "        moves_metadata.append(move_metadata)\n",
    "    else:\n",
    "        print(f\"Error al obtener datos del movimiento: {move['name']}\")\n",
    "\n",
    "# Convertir la lista de metadatos en un DataFrame\n",
    "df_moves_metadata = pd.DataFrame(moves_metadata)\n",
    "print(df_moves_metadata)\n"
   ]
  },
  {
   "cell_type": "markdown",
   "metadata": {},
   "source": [
    "## Moves Data"
   ]
  },
  {
   "cell_type": "markdown",
   "metadata": {},
   "source": [
    "Ahora para cada movimiento `move` del pokemon debes obtener los siguientes datos usando la `url`\n",
    "1. `name`\n",
    "2. `accuracy`\n",
    "3. `type`\n",
    "4. `power`\n",
    "5. `pp`"
   ]
  },
  {
   "cell_type": "code",
   "execution_count": 14,
   "metadata": {},
   "outputs": [
    {
     "name": "stdout",
     "output_type": "stream",
     "text": [
      "              name  accuracy      type  power  pp\n",
      "0       mega-punch      85.0    normal   80.0  20\n",
      "1        ice-punch     100.0       ice   75.0  15\n",
      "2    thunder-punch     100.0  electric   75.0  15\n",
      "3     swords-dance       NaN    normal    NaN  20\n",
      "4        mega-kick      75.0    normal  120.0   5\n",
      "..             ...       ...       ...    ...  ..\n",
      "105     steel-beam      95.0     steel  140.0   5\n",
      "106  terrain-pulse     100.0    normal   50.0  10\n",
      "107       coaching       NaN  fighting    NaN  10\n",
      "108     tera-blast     100.0    normal   80.0  10\n",
      "109     trailblaze     100.0     grass   50.0  20\n",
      "\n",
      "[110 rows x 5 columns]\n"
     ]
    }
   ],
   "source": [
    "# Lista para almacenar los detalles de cada movimiento\n",
    "detailed_moves = []\n",
    "\n",
    "for move in moves:  # Asegúrate de que 'moves' contiene los movimientos que has recolectado anteriormente\n",
    "    move_url = move['url']\n",
    "    moves_response = requests.get(move_url)\n",
    "\n",
    "    if moves_response.status_code == 200:\n",
    "        moves_data = moves_response.json()\n",
    "\n",
    "        # Extracción de los datos requeridos\n",
    "        move_details = {\n",
    "            'name': moves_data['name'],\n",
    "            'accuracy': moves_data.get('accuracy'),  # Algunos movimientos pueden no tener precisión definida\n",
    "            'type': moves_data['type']['name'],\n",
    "            'power': moves_data.get('power'),  # Algunos movimientos pueden no tener poder definido\n",
    "            'pp': moves_data['pp']\n",
    "        }\n",
    "\n",
    "        detailed_moves.append(move_details)\n",
    "    else:\n",
    "        print(f\"Error al obtener datos del movimiento: {move['name']}\")\n",
    "\n",
    "# Convertir la lista de detalles de movimientos en un DataFrame\n",
    "df_detailed_moves = pd.DataFrame(detailed_moves)\n",
    "print(df_detailed_moves)\n",
    "\n",
    "# Asegúrate de que esta función se ejecuta correctamente\n",
    "def get_move_details(move_url):\n",
    "    response = requests.get(move_url)\n",
    "    if response.status_code == 200:\n",
    "        move_data = response.json()\n",
    "        return {\n",
    "            'name': move_data['name'],\n",
    "            'accuracy': move_data.get('accuracy'),\n",
    "            'type': move_data['type']['name'],\n",
    "            'power': move_data.get('power'),\n",
    "            'pp': move_data['pp']\n",
    "        }\n",
    "    else:\n",
    "        print(f\"Error al obtener datos del movimiento: {move_url}\")\n",
    "        return None\n",
    "\n",
    "# Iterar sobre cada Pokémon y sus movimientos para obtener detalles\n",
    "for pokemon, details in pokemon_data.items():\n",
    "    move_details_list = []\n",
    "    for move in details['moves']:\n",
    "        move_details = get_move_details(move['url'])\n",
    "        if move_details:\n",
    "            move_details_list.append(move_details)\n",
    "    # Asegúrate de que esta línea se ejecute correctamente y que la clave sea 'move_details'\n",
    "    pokemon_data[pokemon]['move_details'] = move_details_list\n",
    "\n"
   ]
  },
  {
   "cell_type": "markdown",
   "metadata": {},
   "source": [
    "# API Request para varios pokemons"
   ]
  },
  {
   "cell_type": "markdown",
   "metadata": {},
   "source": [
    "Ahora que sabes como funciona el `API` realiza las peticiones de los siguientes pokemones respecto a sus caracteristicas\n",
    "y moviemientos, y guardalas en una lista, diciconario o tabla (lo que mas te acomode). "
   ]
  },
  {
   "cell_type": "code",
   "execution_count": 8,
   "metadata": {},
   "outputs": [],
   "source": [
    "pokemons =['lucario', 'pikachu', 'gengar', 'charizard', 'blastoise', 'venusaur', 'dragonite', 'mew', 'mewtwo', 'garchomp']"
   ]
  },
  {
   "cell_type": "code",
   "execution_count": 11,
   "metadata": {},
   "outputs": [],
   "source": [
    "# Diccionario para almacenar los datos de cada Pokémon\n",
    "pokemon_data = {}\n",
    "\n",
    "for pokemon in pokemons:\n",
    "    # Datos del Pokémon\n",
    "    pokemon_url = f'https://pokeapi.co/api/v2/pokemon/{pokemon}'\n",
    "    response = requests.get(pokemon_url)\n",
    "\n",
    "    if response.status_code == 200:\n",
    "        data = response.json()\n",
    "        \n",
    "        # Extracción de la información básica del Pokémon\n",
    "        pokemon_details = {\n",
    "            'id': data['id'],\n",
    "            'name': data['name'],\n",
    "            'types': [t['type']['name'] for t in data['types']],\n",
    "            'moves': [{'name': move['move']['name'], 'url': move['move']['url']} for move in data['moves']]\n",
    "        }\n",
    "\n",
    "        # Agregar los detalles al diccionario\n",
    "        pokemon_data[pokemon] = pokemon_details\n",
    "    else:\n",
    "        print(f\"Error al obtener datos de {pokemon}\")\n",
    "\n",
    "# Aquí, pokemon_data contiene los datos de cada Pokémon y sus movimientos\n"
   ]
  },
  {
   "cell_type": "markdown",
   "metadata": {},
   "source": [
    "# Evolucion a  Tabular"
   ]
  },
  {
   "cell_type": "markdown",
   "metadata": {},
   "source": [
    "Ahora para cada request (`pokemon` y `movimiento`) convierte su informacion a datos tabulares. Toma en cuenta que vamos a realizar operaciones sobre esos DataFrames, por lo tanto tienes que elegir un formato adecuado.  \n",
    "Para cada pokemon, y para cada movimiento debe existir un `DataFrame` o puedes guardarlos en uno solo, aunque es recomendable dejarlos por separado."
   ]
  },
  {
   "cell_type": "code",
   "execution_count": 16,
   "metadata": {},
   "outputs": [],
   "source": [
    "# Tu codigo aqui\n",
    "\n",
    "# DataFrame para almacenar los detalles de los Pokémon\n",
    "pokemon_columns = ['pokemon_id', 'pokemon_name', 'type1', 'type2']\n",
    "pokemon_rows = []\n",
    "\n",
    "# DataFrame para almacenar los detalles de los movimientos\n",
    "moves_columns = ['pokemon_name', 'move_name', 'accuracy', 'type', 'power', 'pp']\n",
    "moves_rows = []\n",
    "\n",
    "for pokemon, details in pokemon_data.items():\n",
    "    # Añadir detalles del Pokémon\n",
    "    types = details['types']\n",
    "    pokemon_rows.append([\n",
    "        details['id'],\n",
    "        pokemon,\n",
    "        types[0] if len(types) > 0 else None,\n",
    "        types[1] if len(types) > 1 else None\n",
    "    ])\n",
    "    \n",
    "    # Añadir detalles de los movimientos\n",
    "    for move in details['move_details']:\n",
    "        moves_rows.append([\n",
    "            pokemon,\n",
    "            move['name'],\n",
    "            move['accuracy'],\n",
    "            move['type'],\n",
    "            move['power'],\n",
    "            move['pp']\n",
    "        ])\n",
    "\n",
    "# Crear los DataFrames\n",
    "df_pokemon = pd.DataFrame(pokemon_rows, columns=pokemon_columns)\n",
    "df_moves = pd.DataFrame(moves_rows, columns=moves_columns)\n",
    "\n",
    "# Ahora tienes df_pokemon con los detalles de cada Pokémon y df_moves con los detalles de cada movimiento\n"
   ]
  },
  {
   "cell_type": "markdown",
   "metadata": {},
   "source": [
    "# Union de Informacion"
   ]
  },
  {
   "cell_type": "markdown",
   "metadata": {},
   "source": [
    "1. Obten el nombre y caracteristicas de todos lo movimientos que aparecen en por lo menos 3 pokemons de los de la lista (osea por lo menos 3 pokemons pueden realizar el movimiento), y guarda los datos de movimiento en un solo `DataFrame`"
   ]
  },
  {
   "cell_type": "code",
   "execution_count": 18,
   "metadata": {},
   "outputs": [
    {
     "name": "stdout",
     "output_type": "stream",
     "text": [
      "                 name  accuracy      type  power  pp\n",
      "0          mega-punch      85.0    normal   80.0  20\n",
      "1           ice-punch     100.0       ice   75.0  15\n",
      "2       thunder-punch     100.0  electric   75.0  15\n",
      "3        swords-dance       NaN    normal    NaN  20\n",
      "4           mega-kick      75.0    normal  120.0   5\n",
      "..                ...       ...       ...    ...  ..\n",
      "204  stomping-tantrum     100.0    ground   75.0  10\n",
      "205      draco-meteor      90.0    dragon  130.0   5\n",
      "206         iron-head     100.0     steel   80.0  15\n",
      "207    chilling-water     100.0     water   50.0  20\n",
      "208         power-gem     100.0      rock   80.0  20\n",
      "\n",
      "[209 rows x 5 columns]\n"
     ]
    }
   ],
   "source": [
    "# Tu codigo aqui\n",
    "# Contar la frecuencia de cada movimiento entre todos los Pokémon\n",
    "movimientos_frecuentes = Counter([move['name'] for pokemon in pokemon_data.values() for move in pokemon['move_details']])\n",
    "\n",
    "# Filtrar los movimientos que aparecen en al menos 3 Pokémon\n",
    "movimientos_comunes = [mov for mov, count in movimientos_frecuentes.items() if count >= 3]\n",
    "\n",
    "# DataFrame para almacenar los detalles de los movimientos comunes\n",
    "movimientos_comunes_detalles = []\n",
    "\n",
    "for pokemon in pokemon_data.values():\n",
    "    for move in pokemon['move_details']:\n",
    "        if move['name'] in movimientos_comunes:\n",
    "            movimientos_comunes_detalles.append(move)\n",
    "\n",
    "# Eliminar duplicados\n",
    "movimientos_comunes_unicos = {v['name']:v for v in movimientos_comunes_detalles}.values()\n",
    "\n",
    "# Crear el DataFrame\n",
    "df_movimientos_comunes = pd.DataFrame(movimientos_comunes_unicos)\n",
    "\n",
    "# Visualizar el DataFrame\n",
    "print(df_movimientos_comunes)\n"
   ]
  },
  {
   "cell_type": "markdown",
   "metadata": {},
   "source": [
    "1.1 Salva los datos en un archivo csv"
   ]
  },
  {
   "cell_type": "code",
   "execution_count": 22,
   "metadata": {},
   "outputs": [],
   "source": [
    "df_movimientos_comunes.to_csv('pokemon_moves_3.csv', index=False)\n"
   ]
  },
  {
   "cell_type": "markdown",
   "metadata": {},
   "source": [
    "2. Obten el nombre y caracteristicas todos los moviemientos que no se repiten en ningun otro pokemon, osea son movimientos unicos para un solo pokemon"
   ]
  },
  {
   "cell_type": "code",
   "execution_count": 23,
   "metadata": {},
   "outputs": [],
   "source": [
    "# Tu codigo aqui\n",
    "# 2. Obtener los movimientos únicos\n",
    "\n",
    "# Contar la frecuencia de cada movimiento entre todos los Pokémon\n",
    "movimientos_frecuencia = Counter([move['name'] for pokemon in pokemon_data.values() for move in pokemon['move_details']])\n",
    "\n",
    "# Filtrar los movimientos únicos\n",
    "movimientos_unicos = [mov for mov, count in movimientos_frecuencia.items() if count == 1]\n",
    "\n",
    "# DataFrame para almacenar los detalles de los movimientos únicos\n",
    "movimientos_unicos_detalles = []\n",
    "\n",
    "for pokemon in pokemon_data.values():\n",
    "    for move in pokemon['move_details']:\n",
    "        if move['name'] in movimientos_unicos:\n",
    "            # Agregar el nombre del Pokémon al detalle del movimiento para identificar a qué Pokémon pertenece\n",
    "            move['pokemon_name'] = pokemon['name']\n",
    "            movimientos_unicos_detalles.append(move)\n",
    "\n",
    "# Crear el DataFrame para movimientos únicos\n",
    "df_movimientos_unicos = pd.DataFrame(movimientos_unicos_detalles)\n"
   ]
  },
  {
   "cell_type": "markdown",
   "metadata": {},
   "source": [
    "2.2 Salvalos a un csv"
   ]
  },
  {
   "cell_type": "code",
   "execution_count": 24,
   "metadata": {},
   "outputs": [],
   "source": [
    "df_movimientos_unicos.to_csv('unrepeated_moves.csv', index=False)\n"
   ]
  },
  {
   "cell_type": "markdown",
   "metadata": {},
   "source": [
    "# Manejo de tipos"
   ]
  },
  {
   "cell_type": "markdown",
   "metadata": {},
   "source": [
    "Para cada tipo de pokemon (fire, water, grass, etc) que aparecen en los datos. Obten una serie de dataframes que contengan a los pokemones que son de cada tipo. Y colocalos en un diccionarion donde la llave (`key`) es el tipo"
   ]
  },
  {
   "cell_type": "code",
   "execution_count": 29,
   "metadata": {},
   "outputs": [],
   "source": [
    "\n",
    "# Extraer todos los tipos de Pokémon\n",
    "tipos = set([t for pokemon in pokemon_data.values() for t in pokemon['types']])\n",
    "\n",
    "# Crear un diccionario de DataFrames, uno por cada tipo\n",
    "df_tipos = {}\n",
    "\n",
    "for tipo in tipos:\n",
    "    # Filtrar los Pokémon que pertenecen a este tipo\n",
    "    pokemons_del_tipo = [pokemon for pokemon in pokemon_data.values() if tipo in pokemon['types']]\n",
    "    \n",
    "    # Crear un DataFrame para cada tipo\n",
    "    df_tipos[tipo] = pd.DataFrame(pokemons_del_tipo)\n"
   ]
  },
  {
   "cell_type": "markdown",
   "metadata": {},
   "source": [
    "Despues guarda ese diccionario en un json llamado `tipos.json`"
   ]
  },
  {
   "cell_type": "code",
   "execution_count": 30,
   "metadata": {},
   "outputs": [],
   "source": [
    "# Tu codigo aqui\n",
    "# Nonbre del json `pokemon_tipes.json`\n",
    "# Guardar el diccionario en un archivo JSON\n",
    "# Dado que los DataFrames no son serializables directamente a JSON, primero los convertiremos a un formato adecuado\n",
    "json_data = {tipo: df.to_json() for tipo, df in df_tipos.items()}\n",
    "\n",
    "with open('pokemon_tipes.json', 'w') as file:\n",
    "    json.dump(json_data, file)\n"
   ]
  },
  {
   "cell_type": "markdown",
   "metadata": {},
   "source": [
    "# Seleccion de Pokemones"
   ]
  },
  {
   "cell_type": "markdown",
   "metadata": {},
   "source": [
    "Ahora crea un DataFrame que para cada pokemon unicamente contenga los movimientos que son de su tipo (osea si es tipo fuego y voldaor solo usa movimientos de tipo volador y fuego). Y crea una tabla donde tengan los siguientes datos en formato `tidydata`:\n",
    "1. `pokemon_id`\n",
    "2. `pokemon_name`\n",
    "3. `type`(s) cada pokemon tiene a 1 o dos tipos (no mas). Tienes que guardar ambos  \n",
    "4. `name` (del movimiento)\n",
    "5. `accuracy`\n",
    "6. `type`\n",
    "7. `power`\n",
    "8. `pp`"
   ]
  },
  {
   "cell_type": "code",
   "execution_count": 32,
   "metadata": {},
   "outputs": [],
   "source": [
    "# Tu codigo aqui\n",
    "# Lista para almacenar los datos filtrados\n",
    "datos_filtrados = []\n",
    "\n",
    "for pokemon, details in pokemon_data.items():\n",
    "    # Obtener los tipos del Pokémon\n",
    "    tipos_pokemon = details['types']\n",
    "    \n",
    "    for move in details['move_details']:\n",
    "        # Incluir solo los movimientos que coinciden con el tipo del Pokémon\n",
    "        if move['type'] in tipos_pokemon:\n",
    "            datos_filtrados.append({\n",
    "                'pokemon_id': details['id'],\n",
    "                'pokemon_name': pokemon,\n",
    "                'type1': tipos_pokemon[0] if len(tipos_pokemon) > 0 else None,\n",
    "                'type2': tipos_pokemon[1] if len(tipos_pokemon) > 1 else None,\n",
    "                'move_name': move['name'],\n",
    "                'accuracy': move['accuracy'],\n",
    "                'move_type': move['type'],\n",
    "                'power': move['power'],\n",
    "                'pp': move['pp']\n",
    "            })\n",
    "\n",
    "# Crear un DataFrame con los datos filtrados\n",
    "df_movimientos_tipos = pd.DataFrame(datos_filtrados)"
   ]
  },
  {
   "cell_type": "markdown",
   "metadata": {},
   "source": [
    "Finalmente guarda los datos en `.parquet`"
   ]
  },
  {
   "cell_type": "code",
   "execution_count": 33,
   "metadata": {},
   "outputs": [],
   "source": [
    "# Nombre del archivo: tabla_pokemon.parquet\n",
    "df_movimientos_tipos.to_parquet('tabla_pokemon.parquet', index=False)\n"
   ]
  }
 ],
 "metadata": {
  "kernelspec": {
   "display_name": "Python 3",
   "language": "python",
   "name": "python3"
  },
  "language_info": {
   "codemirror_mode": {
    "name": "ipython",
    "version": 3
   },
   "file_extension": ".py",
   "mimetype": "text/x-python",
   "name": "python",
   "nbconvert_exporter": "python",
   "pygments_lexer": "ipython3",
   "version": "3.11.4"
  }
 },
 "nbformat": 4,
 "nbformat_minor": 2
}
