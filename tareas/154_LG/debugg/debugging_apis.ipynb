{
  "cells": [
    {
      "cell_type": "markdown",
      "metadata": {
        "id": "SUOgPz2nGjqr"
      },
      "source": [
        "<a target=\"_blank\" href=\"https://colab.research.google.com/github/sonder-art/fdd_o23/blob/main/codigo/debugg/debugging_apis.ipynb\">\n",
        "  <img src=\"https://colab.research.google.com/assets/colab-badge.svg\" alt=\"Open In Colab\"/>\n",
        "</a>"
      ]
    },
    {
      "cell_type": "markdown",
      "metadata": {
        "id": "-jLpj6YPGjqx"
      },
      "source": [
        "Se entrega a mas tardar el martes 14 de Noviembre a las 11:55 pm. Vale 40 puntos de tarea.\n",
        "Te recomiendo leer todo el ejercicio antes de empezar a ahcer codigo, para que te des una idea de que formato y estructura necesitamos"
      ]
    },
    {
      "cell_type": "code",
      "execution_count": null,
      "metadata": {
        "id": "-uoBfwa2Gjqy"
      },
      "outputs": [],
      "source": [
        "import pandas as pd\n",
        "import requests\n",
        "from collections import defaultdict\n",
        "import json"
      ]
    },
    {
      "cell_type": "markdown",
      "metadata": {
        "id": "UM24aNbnGjq0"
      },
      "source": [
        "Objetivos del Ejercicio:\n",
        "\n",
        "    Realizar una solicitud a la API de Pokémon para obtener datos sobre un Pokémon específico.\n",
        "    Cargar y visualizar los datos en bruto para comprender su estructura.\n",
        "    Limpiar y organizar los datos para un análisis posterior.\n",
        "    Guardar los datos limpios en un archivo CSV."
      ]
    },
    {
      "cell_type": "markdown",
      "metadata": {
        "id": "oc00XWN6Gjq1"
      },
      "source": [
        "El objetivo es crear un `DataFrame` (tidydata) de varios pokemones que ademas contengan metadata de sus moviemientos.  \n",
        "Para ello deberas realizar request al `API` de pokemon, entender como vienen los datos y despues combinarlos con los `joins` correspondientes."
      ]
    },
    {
      "cell_type": "markdown",
      "metadata": {
        "id": "VAxv9eflGjq1"
      },
      "source": [
        "# API request"
      ]
    },
    {
      "cell_type": "markdown",
      "metadata": {
        "id": "ub2eq-1FGjq2"
      },
      "source": [
        "Crea codigo para acceder al API de pokemon y hacer requests"
      ]
    },
    {
      "cell_type": "code",
      "source": [
        "# Function to get data for a specific Pokémon\n",
        "def get_pokemon_data(pokemon_name):\n",
        "    url = f'https://pokeapi.co/api/v2/pokemon/{pokemon_name}'\n",
        "    response = requests.get(url)\n",
        "\n",
        "    if response.status_code == 200:\n",
        "        pokemon_data = response.json()\n",
        "        return pokemon_data\n",
        "    else:\n",
        "        print(f\"Failed to retrieve data for {pokemon_name}\")\n",
        "        return None\n",
        "\n",
        "# Example usage\n",
        "pokemon_name = 'pikachu'  # Replace with the name of the Pokémon you want to get data for\n",
        "data = get_pokemon_data(pokemon_name)\n",
        "\n",
        "if data:\n",
        "    # Convert data to DataFrame and perform operations as required\n",
        "    # For example, let's create a DataFrame for the Pokémon's moves\n",
        "    moves_data = pd.DataFrame(data['moves'])\n",
        "    print(moves_data.head())  # Visualize the first few rows of the moves data\n"
      ],
      "metadata": {
        "id": "c_9czQVQHM8B",
        "colab": {
          "base_uri": "https://localhost:8080/"
        },
        "outputId": "b0d8c6b7-4241-4903-9e68-40ded047a44a"
      },
      "execution_count": null,
      "outputs": [
        {
          "output_type": "stream",
          "name": "stdout",
          "text": [
            "                                                move  \\\n",
            "0  {'name': 'mega-punch', 'url': 'https://pokeapi...   \n",
            "1  {'name': 'pay-day', 'url': 'https://pokeapi.co...   \n",
            "2  {'name': 'thunder-punch', 'url': 'https://poke...   \n",
            "3  {'name': 'slam', 'url': 'https://pokeapi.co/ap...   \n",
            "4  {'name': 'double-kick', 'url': 'https://pokeap...   \n",
            "\n",
            "                               version_group_details  \n",
            "0  [{'level_learned_at': 0, 'move_learn_method': ...  \n",
            "1  [{'level_learned_at': 0, 'move_learn_method': ...  \n",
            "2  [{'level_learned_at': 0, 'move_learn_method': ...  \n",
            "3  [{'level_learned_at': 20, 'move_learn_method':...  \n",
            "4  [{'level_learned_at': 9, 'move_learn_method': ...  \n"
          ]
        }
      ]
    },
    {
      "cell_type": "markdown",
      "metadata": {
        "id": "dser8A-jGjq3"
      },
      "source": [
        "Compelta el siguiente snippet para obter los datos del API de pokemon."
      ]
    },
    {
      "cell_type": "markdown",
      "metadata": {
        "id": "p9lvfvL6Gjq3"
      },
      "source": [
        "## Pokemon Data"
      ]
    },
    {
      "cell_type": "markdown",
      "metadata": {
        "id": "SvWXCgU4Gjq4"
      },
      "source": [
        "Para  el tipo de pokemon debes obtener:\n",
        "1. `pokemon_id`\n",
        "2. `pokemon_name`\n",
        "3. `type`(s) cada pokemon tiene a 1 o dos tipos (no mas). Tienes que guardar ambos  \n",
        "\n",
        "Guarda los `moves` del pokemon pues los usaremos mas adelante. En especial el `name` y la `url` de cada movimiento apra que podamos iterar despues"
      ]
    },
    {
      "cell_type": "code",
      "execution_count": null,
      "metadata": {
        "id": "17RtQWahGjq4"
      },
      "outputs": [],
      "source": [
        "# Elige tu pokemon\n",
        "pokemon_name = 'lucario'"
      ]
    },
    {
      "cell_type": "code",
      "execution_count": null,
      "metadata": {
        "id": "4TsLV04pGjq4",
        "colab": {
          "base_uri": "https://localhost:8080/"
        },
        "outputId": "d3e388a2-b7d5-4acf-a18c-ce2934d05a1b"
      },
      "outputs": [
        {
          "output_type": "stream",
          "name": "stdout",
          "text": [
            "ID: 448\n",
            "Name: lucario\n",
            "Types: ['fighting', 'steel']\n",
            "         move_name                             move_url\n",
            "0       mega-punch    https://pokeapi.co/api/v2/move/5/\n",
            "1        ice-punch    https://pokeapi.co/api/v2/move/8/\n",
            "2    thunder-punch    https://pokeapi.co/api/v2/move/9/\n",
            "3     swords-dance   https://pokeapi.co/api/v2/move/14/\n",
            "4        mega-kick   https://pokeapi.co/api/v2/move/25/\n",
            "..             ...                                  ...\n",
            "105     steel-beam  https://pokeapi.co/api/v2/move/796/\n",
            "106  terrain-pulse  https://pokeapi.co/api/v2/move/805/\n",
            "107       coaching  https://pokeapi.co/api/v2/move/811/\n",
            "108     tera-blast  https://pokeapi.co/api/v2/move/851/\n",
            "109     trailblaze  https://pokeapi.co/api/v2/move/885/\n",
            "\n",
            "[110 rows x 2 columns]\n"
          ]
        }
      ],
      "source": [
        "# Solicitud para obtener datos de un Pokémon\n",
        "pokemon_url = f'https://pokeapi.co/api/v2/pokemon/{pokemon_name}'\n",
        "pokemon_response = requests.get(pokemon_url)\n",
        "pokemon_data = pokemon_response.json()\n",
        "pokemon_id = pokemon_data['id']\n",
        "pokemon_name = pokemon_data['name']\n",
        "\n",
        "# Extraemos los tipos del Pokémon\n",
        "types = [t['type']['name'] for t in pokemon_data['types']]\n",
        "\n",
        "# Guardamos los movimientos del Pokémon\n",
        "moves = pd.DataFrame([{'move_name': move['move']['name'], 'move_url': move['move']['url']} for move in pokemon_data['moves']])\n",
        "\n",
        "# Mostramos los datos extraídos\n",
        "print(f'ID: {pokemon_id}')\n",
        "print(f'Name: {pokemon_name}')\n",
        "print(f'Types: {types}')\n",
        "print(moves)"
      ]
    },
    {
      "cell_type": "markdown",
      "metadata": {
        "id": "SpHOjL5PGjq4"
      },
      "source": [
        "## Moves Data"
      ]
    },
    {
      "cell_type": "markdown",
      "metadata": {
        "id": "dyuTcMyyGjq5"
      },
      "source": [
        "Ahora para cada movimiento `move` del pokemon debes obtener los siguientes datos usando la `url`\n",
        "1. `name`\n",
        "2. `accuracy`\n",
        "3. `type`\n",
        "4. `power`\n",
        "5. `pp`"
      ]
    },
    {
      "cell_type": "code",
      "execution_count": null,
      "metadata": {
        "id": "nRk-W4qvGjq5",
        "colab": {
          "base_uri": "https://localhost:8080/"
        },
        "outputId": "31528c79-8f79-42b5-bc6c-82476648e133"
      },
      "outputs": [
        {
          "output_type": "stream",
          "name": "stdout",
          "text": [
            "              name  accuracy      type  power  pp\n",
            "0       mega-punch      85.0    normal   80.0  20\n",
            "1        ice-punch     100.0       ice   75.0  15\n",
            "2    thunder-punch     100.0  electric   75.0  15\n",
            "3     swords-dance       NaN    normal    NaN  20\n",
            "4        mega-kick      75.0    normal  120.0   5\n",
            "..             ...       ...       ...    ...  ..\n",
            "105     steel-beam      95.0     steel  140.0   5\n",
            "106  terrain-pulse     100.0    normal   50.0  10\n",
            "107       coaching       NaN  fighting    NaN  10\n",
            "108     tera-blast     100.0    normal   80.0  10\n",
            "109     trailblaze     100.0     grass   50.0  20\n",
            "\n",
            "[110 rows x 5 columns]\n"
          ]
        }
      ],
      "source": [
        "# Solicitud para obtener datos de movimientos de un Pokémon\n",
        "\n",
        "moves_details=[]\n",
        "for _, move_row in moves.iterrows():\n",
        "    # Extraemos el URL del movimiento de la columna 'move_url'\n",
        "    move_url = move_row['move_url']\n",
        "    moves_response = requests.get(move_url)\n",
        "    moves_data = moves_response.json()\n",
        "    moves_details.append({\n",
        "    'name': moves_data['name'],\n",
        "    'accuracy': moves_data.get('accuracy', 'N/A'),  # Algunos movimientos no tienen accuracy\n",
        "    'type': moves_data['type']['name'],\n",
        "    'power': moves_data.get('power', 'N/A'),  # Algunos movimientos no tienen potencia\n",
        "    'pp': moves_data['pp']\n",
        "            })\n",
        "moves_df = pd.DataFrame(moves_details)\n",
        "    # Mostramos el DataFrame\n",
        "print(moves_df)"
      ]
    },
    {
      "cell_type": "markdown",
      "metadata": {
        "id": "4fo9EVQtGjq5"
      },
      "source": [
        "# API Request para varios pokemons"
      ]
    },
    {
      "cell_type": "markdown",
      "metadata": {
        "id": "taQmIKfNGjq5"
      },
      "source": [
        "Ahora que sabes como funciona el `API` realiza las peticiones de los siguientes pokemones respecto a sus caracteristicas\n",
        "y moviemientos, y guardalas en una lista, diciconario o tabla (lo que mas te acomode)."
      ]
    },
    {
      "cell_type": "code",
      "execution_count": null,
      "metadata": {
        "id": "gS-Rv2WtGjq5"
      },
      "outputs": [],
      "source": [
        "pokemons =['lucario', 'pikachu', 'gengar', 'charizard', 'blastoise', 'venusaur', 'dragonite', 'mew', 'mewtwo', 'garchomp']"
      ]
    },
    {
      "cell_type": "code",
      "execution_count": null,
      "metadata": {
        "id": "pULflqPqGjq6",
        "colab": {
          "base_uri": "https://localhost:8080/"
        },
        "outputId": "83dd2e5a-84d2-451f-f79a-9aa3111717e5"
      },
      "outputs": [
        {
          "output_type": "stream",
          "name": "stdout",
          "text": [
            "    id       name              types  \\\n",
            "0  448    lucario  [fighting, steel]   \n",
            "1   25    pikachu         [electric]   \n",
            "2   94     gengar    [ghost, poison]   \n",
            "3    6  charizard     [fire, flying]   \n",
            "4    9  blastoise            [water]   \n",
            "5    3   venusaur    [grass, poison]   \n",
            "6  149  dragonite   [dragon, flying]   \n",
            "7  151        mew          [psychic]   \n",
            "8  150     mewtwo          [psychic]   \n",
            "9  445   garchomp   [dragon, ground]   \n",
            "\n",
            "                                               moves  \n",
            "0  [{'move_name': 'mega-punch', 'move_url': 'http...  \n",
            "1  [{'move_name': 'mega-punch', 'move_url': 'http...  \n",
            "2  [{'move_name': 'mega-punch', 'move_url': 'http...  \n",
            "3  [{'move_name': 'mega-punch', 'move_url': 'http...  \n",
            "4  [{'move_name': 'mega-punch', 'move_url': 'http...  \n",
            "5  [{'move_name': 'swords-dance', 'move_url': 'ht...  \n",
            "6  [{'move_name': 'mega-punch', 'move_url': 'http...  \n",
            "7  [{'move_name': 'pound', 'move_url': 'https://p...  \n",
            "8  [{'move_name': 'mega-punch', 'move_url': 'http...  \n",
            "9  [{'move_name': 'swords-dance', 'move_url': 'ht...  \n"
          ]
        }
      ],
      "source": [
        "# Solicitudes para obtener datos de un Pokémon\n",
        "pokemon_details=[]\n",
        "for pokemon in pokemons:\n",
        "    # Datos del Pokémon\n",
        "        pokemon_url = f'https://pokeapi.co/api/v2/pokemon/{pokemon}'\n",
        "        response = requests.get(pokemon_url)\n",
        "        data = response.json()\n",
        "        # Extraemos los datos relevantes\n",
        "        pokemon_id = data['id']\n",
        "        pokemon_name = data['name']\n",
        "        types = [t['type']['name'] for t in data['types']]\n",
        "        moves = [{'move_name': move['move']['name'], 'move_url': move['move']['url']} for move in data['moves']]\n",
        "\n",
        "        # Agregamos los datos al diccionario\n",
        "        pokemon_details.append({\n",
        "            'id': pokemon_id,\n",
        "            'name': pokemon_name,\n",
        "            'types': types,\n",
        "            'moves': moves\n",
        "        })\n",
        "\n",
        "pokemon_df = pd.DataFrame(pokemon_details)\n",
        "print(pokemon_df)\n",
        "\n",
        "    # No olvides incluir los movimientos"
      ]
    },
    {
      "cell_type": "markdown",
      "metadata": {
        "id": "E1O_VW5PGjq6"
      },
      "source": [
        "# Evolucion a  Tabular"
      ]
    },
    {
      "cell_type": "markdown",
      "metadata": {
        "id": "y9FB1wsFGjq6"
      },
      "source": [
        "Ahora para cada request (`pokemon` y `movimiento`) convierte su informacion a datos tabulares. Toma en cuenta que vamos a realizar operaciones sobre esos DataFrames, por lo tanto tienes que elegir un formato adecuado.  \n",
        "Para cada pokemon, y para cada movimiento debe existir un `DataFrame`"
      ]
    },
    {
      "cell_type": "code",
      "execution_count": null,
      "metadata": {
        "id": "JVwzvNpnGjq6"
      },
      "outputs": [],
      "source": [
        "# Ya los tenía en modo tabular."
      ]
    },
    {
      "cell_type": "markdown",
      "metadata": {
        "id": "NqctN2PeGjq6"
      },
      "source": [
        "# Union de Informacion"
      ]
    },
    {
      "cell_type": "markdown",
      "metadata": {
        "id": "9bN9IUMSGjq7"
      },
      "source": [
        "1. Obten el nombre y caracteristicas de todos lo movimientos que aparecen en por lo menos 3 pokemons de los de la lista, y guarda los datos de movimiento en un solo `DataFrame`"
      ]
    },
    {
      "cell_type": "code",
      "execution_count": null,
      "metadata": {
        "id": "DXpPNc3PGjq7",
        "colab": {
          "base_uri": "https://localhost:8080/"
        },
        "outputId": "9e3034de-8188-4504-827d-7571a091ca0f"
      },
      "outputs": [
        {
          "output_type": "stream",
          "name": "stdout",
          "text": [
            "            move_name  accuracy  power  pp   type\n",
            "0          mega-punch       100     50  20  grass\n",
            "1           ice-punch       100     50  20  grass\n",
            "2       thunder-punch       100     50  20  grass\n",
            "3        swords-dance       100     50  20  grass\n",
            "4           mega-kick       100     50  20  grass\n",
            "..                ...       ...    ...  ..    ...\n",
            "204  stomping-tantrum       100     50  20  grass\n",
            "205      draco-meteor       100     50  20  grass\n",
            "206         iron-head       100     50  20  grass\n",
            "207    chilling-water       100     50  20  grass\n",
            "208         power-gem       100     50  20  grass\n",
            "\n",
            "[209 rows x 5 columns]\n"
          ]
        }
      ],
      "source": [
        "# Crearemos un diccionario para contar la frecuencia de cada movimiento entre todos los Pokémon\n",
        "move_counts = defaultdict(int)\n",
        "\n",
        "# Recorremos cada lista de movimientos de los Pokémon y contamos los movimientos\n",
        "for details in pokemon_details:\n",
        "    for move in details['moves']:\n",
        "        move_counts[move['move_name']] += 1\n",
        "\n",
        "# Filtramos los movimientos que aparecen en al menos 3 Pokémon\n",
        "common_moves = [move for move, count in move_counts.items() if count >= 3]\n",
        "\n",
        "# Ahora, extraemos las características de estos movimientos comunes\n",
        "moves_details = []\n",
        "\n",
        "for move_name in common_moves:\n",
        "    # Construimos la URL para la solicitud de la API del movimiento\n",
        "    move_url = f'https://pokeapi.co/api/v2/move/{move_name}'\n",
        "\n",
        "    # Realizamos la solicitud a la API\n",
        "    move_response = requests.get(move_url)\n",
        "    move_data = moves_response.json()\n",
        "\n",
        "        # Extraemos la información de cada movimiento y la agregamos a la lista\n",
        "    moves_details.append({\n",
        "            'move_name': move_name,\n",
        "            'accuracy': move_data.get('accuracy', 'N/A'),\n",
        "            'power': move_data.get('power', 'N/A'),\n",
        "            'pp': move_data['pp'],\n",
        "            'type': move_data['type']['name']\n",
        "        })\n",
        "# Creamos un DataFrame con los detalles de los movimientos comunes\n",
        "common_moves_df = pd.DataFrame(moves_details)\n",
        "\n",
        "# Mostramos el DataFrame con los movimientos comunes\n",
        "print(common_moves_df)"
      ]
    },
    {
      "cell_type": "markdown",
      "metadata": {
        "id": "ozfL27VLGjq7"
      },
      "source": [
        "1.1 Salva los datos en un archivo csv"
      ]
    },
    {
      "cell_type": "code",
      "execution_count": null,
      "metadata": {
        "id": "LDWAHAAhGjq7"
      },
      "outputs": [],
      "source": [
        "common_moves_df.to_csv('pokemon_moves_3.csv',index=False)"
      ]
    },
    {
      "cell_type": "markdown",
      "metadata": {
        "id": "bYkUTt8sGjq7"
      },
      "source": [
        "2. Obten el nombre y caracteristicas todos los moviemientos que no se repiten en ningun otro pokemon, osea son movimientos unicos para un solo pokemon"
      ]
    },
    {
      "cell_type": "code",
      "execution_count": null,
      "metadata": {
        "id": "os9Nf-0YGjq8",
        "colab": {
          "base_uri": "https://localhost:8080/"
        },
        "outputId": "3d6406c4-8dd9-413e-c4bd-d65180eda4d7"
      },
      "outputs": [
        {
          "output_type": "stream",
          "name": "stdout",
          "text": [
            "       move_name  accuracy  power  pp     type\n",
            "0      foresight       NaN    NaN  40   normal\n",
            "1      bone-rush      90.0   25.0  10   ground\n",
            "2    meteor-mash      90.0   90.0  10    steel\n",
            "3    metal-sound      85.0    NaN  40    steel\n",
            "4        copycat       NaN    NaN  20   normal\n",
            "..           ...       ...    ...  ..      ...\n",
            "102       pounce     100.0   50.0  20      bug\n",
            "103      recover       NaN    NaN  10   normal\n",
            "104  miracle-eye       NaN    NaN  40  psychic\n",
            "105    psystrike     100.0  100.0  10  psychic\n",
            "106  sand-attack     100.0    NaN  15   ground\n",
            "\n",
            "[107 rows x 5 columns]\n"
          ]
        }
      ],
      "source": [
        "# Usaremos el mismo diccionario 'move_counts' para contar la frecuencia de cada movimiento\n",
        "\n",
        "# Filtramos los movimientos que son únicos para un solo Pokémon\n",
        "unique_moves = [move for move, count in move_counts.items() if count == 1]\n",
        "\n",
        "# Extraemos las características de estos movimientos únicos\n",
        "unique_moves_details = []\n",
        "\n",
        "for move_name in unique_moves:\n",
        "    # Construimos la URL para la solicitud de la API del movimiento\n",
        "    move_url = f'https://pokeapi.co/api/v2/move/{move_name}'\n",
        "\n",
        "    # Realizamos la solicitud a la API\n",
        "    move_response = requests.get(move_url)\n",
        "\n",
        "    # Verificamos que la respuesta sea exitosa\n",
        "    if move_response.status_code == 200:\n",
        "        move_data = move_response.json()\n",
        "\n",
        "        # Extraemos la información de cada movimiento y la agregamos a la lista\n",
        "        unique_moves_details.append({\n",
        "            'move_name': move_name,\n",
        "            'accuracy': move_data.get('accuracy', 'N/A'),\n",
        "            'power': move_data.get('power', 'N/A'),\n",
        "            'pp': move_data['pp'],\n",
        "            'type': move_data['type']['name']\n",
        "        })\n",
        "    else:\n",
        "        print(f\"Error al obtener datos del movimiento {move_name} con status: {move_response.status_code}\")\n",
        "\n",
        "# Creamos un DataFrame con los detalles de los movimientos únicos\n",
        "unique_moves_df = pd.DataFrame(unique_moves_details)\n",
        "\n",
        "# Mostramos el DataFrame con los movimientos únicos\n",
        "print(unique_moves_df)\n"
      ]
    },
    {
      "cell_type": "markdown",
      "metadata": {
        "id": "kI4q_b-tGjq8"
      },
      "source": [
        "2.2 Salvalos a un csv"
      ]
    },
    {
      "cell_type": "code",
      "execution_count": null,
      "metadata": {
        "id": "InKUehoNGjq8"
      },
      "outputs": [],
      "source": [
        "unique_moves_df.to_csv('unrepeated_moves.csv',index=False)"
      ]
    },
    {
      "cell_type": "markdown",
      "metadata": {
        "id": "6LjORjgaGjq8"
      },
      "source": [
        "# Manejo de tipos"
      ]
    },
    {
      "cell_type": "markdown",
      "metadata": {
        "id": "JPLgLtIUGjq8"
      },
      "source": [
        "Para cada tipo de pokemon (fire, water, grass, etc) que aparecen en los datos. Obten una serie de dataframes que contengan a los pokemones que son de cada tipo. Y colocalos en un diccionarion donde la llave (`key`) es el tipo"
      ]
    },
    {
      "cell_type": "code",
      "execution_count": null,
      "metadata": {
        "id": "JlCbtU_jGjq8",
        "colab": {
          "base_uri": "https://localhost:8080/"
        },
        "outputId": "f6a0ff60-6785-4fb5-f7f5-ca310cd28f0a"
      },
      "outputs": [
        {
          "output_type": "stream",
          "name": "stderr",
          "text": [
            "<ipython-input-12-e660b779932f>:12: FutureWarning: The frame.append method is deprecated and will be removed from pandas in a future version. Use pandas.concat instead.\n",
            "  df_tipos[tipo] = df_tipos[tipo].append(row, ignore_index=True)\n",
            "<ipython-input-12-e660b779932f>:12: FutureWarning: The frame.append method is deprecated and will be removed from pandas in a future version. Use pandas.concat instead.\n",
            "  df_tipos[tipo] = df_tipos[tipo].append(row, ignore_index=True)\n",
            "<ipython-input-12-e660b779932f>:12: FutureWarning: The frame.append method is deprecated and will be removed from pandas in a future version. Use pandas.concat instead.\n",
            "  df_tipos[tipo] = df_tipos[tipo].append(row, ignore_index=True)\n",
            "<ipython-input-12-e660b779932f>:12: FutureWarning: The frame.append method is deprecated and will be removed from pandas in a future version. Use pandas.concat instead.\n",
            "  df_tipos[tipo] = df_tipos[tipo].append(row, ignore_index=True)\n",
            "<ipython-input-12-e660b779932f>:12: FutureWarning: The frame.append method is deprecated and will be removed from pandas in a future version. Use pandas.concat instead.\n",
            "  df_tipos[tipo] = df_tipos[tipo].append(row, ignore_index=True)\n",
            "<ipython-input-12-e660b779932f>:12: FutureWarning: The frame.append method is deprecated and will be removed from pandas in a future version. Use pandas.concat instead.\n",
            "  df_tipos[tipo] = df_tipos[tipo].append(row, ignore_index=True)\n",
            "<ipython-input-12-e660b779932f>:12: FutureWarning: The frame.append method is deprecated and will be removed from pandas in a future version. Use pandas.concat instead.\n",
            "  df_tipos[tipo] = df_tipos[tipo].append(row, ignore_index=True)\n",
            "<ipython-input-12-e660b779932f>:12: FutureWarning: The frame.append method is deprecated and will be removed from pandas in a future version. Use pandas.concat instead.\n",
            "  df_tipos[tipo] = df_tipos[tipo].append(row, ignore_index=True)\n",
            "<ipython-input-12-e660b779932f>:12: FutureWarning: The frame.append method is deprecated and will be removed from pandas in a future version. Use pandas.concat instead.\n",
            "  df_tipos[tipo] = df_tipos[tipo].append(row, ignore_index=True)\n",
            "<ipython-input-12-e660b779932f>:12: FutureWarning: The frame.append method is deprecated and will be removed from pandas in a future version. Use pandas.concat instead.\n",
            "  df_tipos[tipo] = df_tipos[tipo].append(row, ignore_index=True)\n",
            "<ipython-input-12-e660b779932f>:12: FutureWarning: The frame.append method is deprecated and will be removed from pandas in a future version. Use pandas.concat instead.\n",
            "  df_tipos[tipo] = df_tipos[tipo].append(row, ignore_index=True)\n",
            "<ipython-input-12-e660b779932f>:12: FutureWarning: The frame.append method is deprecated and will be removed from pandas in a future version. Use pandas.concat instead.\n",
            "  df_tipos[tipo] = df_tipos[tipo].append(row, ignore_index=True)\n"
          ]
        }
      ],
      "source": [
        "# Suponiendo que 'pokemon_df' ya está definido y contiene una columna 'types' que es una lista de tipos para cada Pokémon\n",
        "\n",
        "# Inicializamos un diccionario vacío para los DataFrames de tipos de Pokémon\n",
        "df_tipos = {}\n",
        "\n",
        "# Iteramos sobre cada Pokémon y sus tipos para llenar los DataFrames\n",
        "for index, row in pokemon_df.iterrows():\n",
        "    for tipo in row['types']:\n",
        "        # Si el tipo aún no tiene un DataFrame, crea uno y añade el Pokémon\n",
        "        if tipo not in df_tipos:\n",
        "            df_tipos[tipo] = pd.DataFrame(columns=pokemon_df.columns)\n",
        "        df_tipos[tipo] = df_tipos[tipo].append(row, ignore_index=True)\n"
      ]
    },
    {
      "cell_type": "markdown",
      "metadata": {
        "id": "lvZlSk-8Gjq9"
      },
      "source": [
        "Despues guara ese diccionario en un json llamado `tipos.json`"
      ]
    },
    {
      "cell_type": "code",
      "execution_count": null,
      "metadata": {
        "id": "6wOFKtdPGjq9"
      },
      "outputs": [],
      "source": [
        "# Convertir cada DataFrame en un diccionario y guardarlo en un archivo JSON\n",
        "pokemon_types_dict = {tipo: df.to_dict('records') for tipo, df in df_tipos.items()}\n",
        "\n",
        "# Guardamos el diccionario en un archivo JSON\n",
        "with open('pokemon_tipes.json', 'w') as f:\n",
        "    json.dump(pokemon_types_dict, f)"
      ]
    },
    {
      "cell_type": "markdown",
      "metadata": {
        "id": "7BtnEZh9Gjq9"
      },
      "source": [
        "# Seleccion de Pokemones"
      ]
    },
    {
      "cell_type": "markdown",
      "metadata": {
        "id": "6sUapmP1Gjq9"
      },
      "source": [
        "Ahora crea un DataFrame que para cada pokemon unicamente contenga los movimientos que son de su tipo (osea si es tipo fuego y voldaor solo usa movimientos de tipo volador y fuego). Y crea una tabla donde tengan los siguientes datos en formato `tidydata`:\n",
        "1. `pokemon_id`\n",
        "2. `pokemon_name`\n",
        "3. `type`(s) cada pokemon tiene a 1 o dos tipos (no mas). Tienes que guardar ambos  \n",
        "4. `name` (del movimiento)\n",
        "5. `accuracy`\n",
        "6. `type`\n",
        "7. `power`\n",
        "8. `pp`"
      ]
    },
    {
      "cell_type": "code",
      "execution_count": null,
      "metadata": {
        "id": "tD0Sb-2MGjq9"
      },
      "outputs": [],
      "source": [
        "import pandas as pd\n",
        "\n",
        "# Assuming pokemon_details is a list that contains each Pokémon's details\n",
        "# We will use this to create our new DataFrame\n",
        "# This list should be available from the previous steps\n",
        "\n",
        "# Initialize an empty list to hold the data for the new DataFrame\n",
        "filtered_moves = []\n",
        "\n",
        "# Loop through each pokemon's details\n",
        "for pokemon in pokemon_details:\n",
        "    pokemon_id = pokemon['id']\n",
        "    pokemon_name = pokemon['name']\n",
        "    pokemon_types = pokemon['types']\n",
        "\n",
        "    # Loop through each move of the pokemon\n",
        "    for move in pokemon['moves']:\n",
        "        move_name = move['move_name']\n",
        "        move_url = move['move_url']\n",
        "        # Fetch move details from the API\n",
        "        move_response = requests.get(move_url)\n",
        "        move_data = move_response.json()\n",
        "\n",
        "        # Check if the move's type is one of the pokemon's types\n",
        "        if move_data['type']['name'] in pokemon_types:\n",
        "            filtered_moves.append({\n",
        "                'pokemon_id': pokemon_id,\n",
        "                'pokemon_name': pokemon_name,\n",
        "                'type': ' & '.join(pokemon_types),  # Join the types with ' & ' if there are more than one\n",
        "                'name': move_name,\n",
        "                'accuracy': move_data.get('accuracy', 'N/A'),\n",
        "                'move_type': move_data['type']['name'],\n",
        "                'power': move_data.get('power', 'N/A'),\n",
        "                'pp': move_data['pp']\n",
        "            })\n",
        "\n",
        "# Create the new DataFrame\n",
        "moves_df = pd.DataFrame(filtered_moves)\n",
        "\n"
      ]
    },
    {
      "cell_type": "markdown",
      "metadata": {
        "id": "6IbSc7bPGjrD"
      },
      "source": [
        "Finalmente guarda los datos en `.parquet`"
      ]
    },
    {
      "cell_type": "code",
      "execution_count": null,
      "metadata": {
        "id": "CAqF85kUGjrD",
        "colab": {
          "base_uri": "https://localhost:8080/"
        },
        "outputId": "0a84c1e7-e4bc-4810-f62a-4d958b3ef36b"
      },
      "outputs": [
        {
          "output_type": "stream",
          "name": "stdout",
          "text": [
            "     pokemon_id pokemon_name              type              name  accuracy  \\\n",
            "0           448      lucario  fighting & steel          low-kick     100.0   \n",
            "1           448      lucario  fighting & steel           counter     100.0   \n",
            "2           448      lucario  fighting & steel          reversal     100.0   \n",
            "3           448      lucario  fighting & steel            detect       NaN   \n",
            "4           448      lucario  fighting & steel         iron-tail      75.0   \n",
            "..          ...          ...               ...               ...       ...   \n",
            "265         445     garchomp   dragon & ground         dual-chop      90.0   \n",
            "266         445     garchomp   dragon & ground  stomping-tantrum     100.0   \n",
            "267         445     garchomp   dragon & ground    breaking-swipe     100.0   \n",
            "268         445     garchomp   dragon & ground        scale-shot      90.0   \n",
            "269         445     garchomp   dragon & ground   scorching-sands     100.0   \n",
            "\n",
            "    move_type  power  pp  \n",
            "0    fighting    NaN  20  \n",
            "1    fighting    NaN  20  \n",
            "2    fighting    NaN  15  \n",
            "3    fighting    NaN   5  \n",
            "4       steel  100.0  15  \n",
            "..        ...    ...  ..  \n",
            "265    dragon   40.0  15  \n",
            "266    ground   75.0  10  \n",
            "267    dragon   60.0  15  \n",
            "268    dragon   25.0  20  \n",
            "269    ground   70.0  10  \n",
            "\n",
            "[270 rows x 8 columns]\n"
          ]
        }
      ],
      "source": [
        "# Save the DataFrame in Parquet format\n",
        "moves_df.to_parquet('tabla_pokemon.parquet')\n",
        "\n",
        "#print the DataFrame\n",
        "print(moves_df)"
      ]
    }
  ],
  "metadata": {
    "kernelspec": {
      "display_name": "Python 3",
      "name": "python3"
    },
    "language_info": {
      "codemirror_mode": {
        "name": "ipython",
        "version": 3
      },
      "file_extension": ".py",
      "mimetype": "text/x-python",
      "name": "python",
      "nbconvert_exporter": "python",
      "pygments_lexer": "ipython3",
      "version": "3.10.13"
    },
    "colab": {
      "provenance": [],
      "gpuType": "T4"
    },
    "accelerator": "GPU"
  },
  "nbformat": 4,
  "nbformat_minor": 0
}