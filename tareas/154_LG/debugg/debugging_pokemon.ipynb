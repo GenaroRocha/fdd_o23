{
  "cells": [
    {
      "cell_type": "code",
      "execution_count": 1,
      "metadata": {
        "id": "c3Lvs30H9U4H"
      },
      "outputs": [],
      "source": [
        "import pandas as pd\n",
        "import numpy as np\n",
        "from io import StringIO\n"
      ]
    },
    {
      "cell_type": "markdown",
      "metadata": {
        "id": "dtsmwVS79U4J"
      },
      "source": [
        "Imagina que eres un investigador en el mundo de Pokémon y has recibido una base de datos con información desactualizada y desordenada sobre avistamientos de Pokémon. Tu misión es limpiar y actualizar esta base de datos para que pueda ser utilizada en un estudio sobre la población de Pokémon en la región."
      ]
    },
    {
      "cell_type": "markdown",
      "metadata": {
        "id": "n38_1ygW9U4K"
      },
      "source": [
        "Datos Iniciales\n",
        "\n",
        "Los datos iniciales contienen las siguientes columnas:\n",
        "\n",
        "    SightingDate: Fecha del avistamiento.\n",
        "    TrainerID: Identificación del entrenador que reportó el avistamiento.\n",
        "    PokemonName: Nombre del Pokémon avistado.\n",
        "    CP: Puntos de combate del Pokémon reportado.\n",
        "    HP: Puntos de salud del Pokémon reportado.\n",
        "    Type: Tipo del Pokémon.\n",
        "    Weather: Clima durante el avistamiento."
      ]
    },
    {
      "cell_type": "markdown",
      "metadata": {
        "id": "eVKCnb-b9U4K"
      },
      "source": [
        "# 1 Carga de Datos"
      ]
    },
    {
      "cell_type": "code",
      "execution_count": 14,
      "metadata": {
        "colab": {
          "base_uri": "https://localhost:8080/"
        },
        "id": "aX0faTfp9U4L",
        "outputId": "099e0f18-19b7-472e-8f90-74d23415a51a"
      },
      "outputs": [
        {
          "output_type": "stream",
          "name": "stdout",
          "text": [
            "               SightingDate    SightingTimeUTC TrainerID PokémonName       CP  \\\n",
            "0  2023-11-08T14:00:00+0000  2023-11-08T14:00Z     TR123     Pikachu      500   \n",
            "1  2023-07-12T09:30:00+0100  2023-07-12T08:30Z     TR456       Eevee  MISSING   \n",
            "2  2023/02/23T22:15:00+0900  2023-02-23T13:15Z     TR789    Magicarp    1,000   \n",
            "3  2023-04-30T06:45:00-0400  2023-04-30T10:45Z     TR101      Gengar      800   \n",
            "4  2023-08-15T16:00:00+1000                NaN     TR102   Bulbasaur      750   \n",
            "\n",
            "   HP          Type        Weather  \n",
            "0  35      Electric          Clear  \n",
            "1  55        Normal         Cloudy  \n",
            "2  10         Water           Rain  \n",
            "3  45         Ghost  PARTLY_CLOUDY  \n",
            "4  50  Grass/Poison          Sunny  \n"
          ]
        }
      ],
      "source": [
        "\n",
        "# path_datos = 'pokemon.csv'\n",
        "# TODO completa el codigo para cargar los datos\n",
        "# df = pd.read_csv(path_datos)\n",
        "\n",
        "# Especifica la ruta al archivo CSV y la codificación ISO\n",
        "path_datos = 'pokemon.csv'\n",
        "codificacion_iso = 'iso-8859-1'  # Asegúrate de usar la codificación correcta\n",
        "\n",
        "# Carga los datos desde el archivo CSV\n",
        "df = pd.read_csv(path_datos, encoding=codificacion_iso)\n",
        "print(df)"
      ]
    },
    {
      "cell_type": "markdown",
      "metadata": {
        "id": "gYExD5T19U4M"
      },
      "source": [
        "# Limpieza de Datos"
      ]
    },
    {
      "cell_type": "markdown",
      "metadata": {
        "id": "i008UKWt9U4M"
      },
      "source": [
        "## 1 Normalizacion de Zonas Horarias"
      ]
    },
    {
      "cell_type": "markdown",
      "metadata": {
        "id": "bJhVZg0P9U4M"
      },
      "source": [
        "Normaliza la columna `'SightingTimeUTC'` a la zona horaria UTC y convierte `'SightingDate'` al mismo formato de tiempo.\n"
      ]
    },
    {
      "cell_type": "code",
      "execution_count": 21,
      "metadata": {
        "colab": {
          "base_uri": "https://localhost:8080/"
        },
        "id": "xjbpqgbn9U4M",
        "outputId": "6d9aa1fc-3ebe-4e02-855d-117390f22648"
      },
      "outputs": [
        {
          "output_type": "stream",
          "name": "stdout",
          "text": [
            "0   2023-11-08 14:00:00+00:00\n",
            "1   2023-07-12 08:30:00+00:00\n",
            "2   2023-02-23 13:15:00+00:00\n",
            "3   2023-04-30 10:45:00+00:00\n",
            "4   2023-08-15 06:00:00+00:00\n",
            "Name: SightingDate, dtype: datetime64[ns, UTC]\n"
          ]
        }
      ],
      "source": [
        "import pytz\n",
        "\n",
        "df['SightingDate'] = pd.to_datetime(df['SightingDate'])\n",
        "print(df['SightingDate'])"
      ]
    },
    {
      "cell_type": "markdown",
      "metadata": {
        "id": "75jCt7T69U4N"
      },
      "source": [
        "Compara si la fecha de la columna `'SightingDate'` coincide con la fecha en `'SightingTimeUTC'` una vez normalizada.\n"
      ]
    },
    {
      "cell_type": "code",
      "execution_count": 22,
      "metadata": {
        "colab": {
          "base_uri": "https://localhost:8080/"
        },
        "id": "EBCL3ukX9U4N",
        "outputId": "d00eacf0-659d-49ec-a1ae-ccdd21cc607c"
      },
      "outputs": [
        {
          "output_type": "stream",
          "name": "stdout",
          "text": [
            "               SightingDate           SightingTimeUTC TrainerID PokémonName  \\\n",
            "0 2023-11-08 14:00:00+00:00 2023-11-08 14:00:00+00:00     TR123     Pikachu   \n",
            "1 2023-07-12 08:30:00+00:00 2023-07-12 08:30:00+00:00     TR456       Eevee   \n",
            "2 2023-02-23 13:15:00+00:00 2023-02-23 13:15:00+00:00     TR789    Magicarp   \n",
            "3 2023-04-30 10:45:00+00:00 2023-04-30 10:45:00+00:00     TR101      Gengar   \n",
            "4 2023-08-15 06:00:00+00:00                       NaT     TR102   Bulbasaur   \n",
            "\n",
            "        CP  HP          Type        Weather  Compare  \n",
            "0      500  35      Electric          Clear     True  \n",
            "1  MISSING  55        Normal         Cloudy     True  \n",
            "2    1,000  10         Water           Rain     True  \n",
            "3      800  45         Ghost  PARTLY_CLOUDY     True  \n",
            "4      750  50  Grass/Poison          Sunny    False  \n"
          ]
        }
      ],
      "source": [
        "df['SightingDate'] = pd.to_datetime(df['SightingDate'], utc=True)\n",
        "df['SightingTimeUTC'] = pd.to_datetime(df['SightingTimeUTC'], utc=True)\n",
        "df['Compare'] = df['SightingDate'].dt.floor('T') == df['SightingTimeUTC'].dt.floor('T')\n",
        "\n",
        "print(df)"
      ]
    },
    {
      "cell_type": "markdown",
      "metadata": {
        "id": "thWzU75s9U4N"
      },
      "source": [
        "Ajusta `'SightingTimeUTC'` a la zona horaria local de cada entrenador y crea una columna `'SightingTimeLocal'`."
      ]
    },
    {
      "cell_type": "code",
      "execution_count": 24,
      "metadata": {
        "colab": {
          "base_uri": "https://localhost:8080/"
        },
        "id": "oO1UlBkL9U4O",
        "outputId": "4f03cd28-506d-414d-e828-731bb8cd5654"
      },
      "outputs": [
        {
          "output_type": "stream",
          "name": "stdout",
          "text": [
            "               SightingDate           SightingTimeUTC TrainerID PokémonName  \\\n",
            "0 2023-11-08 14:00:00+00:00 2023-11-08 14:00:00+00:00     TR123     Pikachu   \n",
            "1 2023-07-12 08:30:00+00:00 2023-07-12 08:30:00+00:00     TR456       Eevee   \n",
            "2 2023-02-23 13:15:00+00:00 2023-02-23 13:15:00+00:00     TR789    Magicarp   \n",
            "3 2023-04-30 10:45:00+00:00 2023-04-30 10:45:00+00:00     TR101      Gengar   \n",
            "4 2023-08-15 06:00:00+00:00                       NaT     TR102   Bulbasaur   \n",
            "\n",
            "        CP  HP          Type        Weather  Compare         SightingTimeLocal  \n",
            "0      500  35      Electric          Clear     True 2023-11-08 14:00:00+00:00  \n",
            "1  MISSING  55        Normal         Cloudy     True 2023-07-12 08:30:00+00:00  \n",
            "2    1,000  10         Water           Rain     True 2023-02-23 13:15:00+00:00  \n",
            "3      800  45         Ghost  PARTLY_CLOUDY     True 2023-04-30 10:45:00+00:00  \n",
            "4      750  50  Grass/Poison          Sunny    False                       NaT  \n"
          ]
        }
      ],
      "source": [
        "df['SightingTimeLocal'] = df['SightingTimeUTC'].copy()\n",
        "print(df)\n"
      ]
    },
    {
      "cell_type": "markdown",
      "metadata": {
        "id": "dAHGJKVD9U4O"
      },
      "source": [
        "Calcula el tiempo transcurrido desde el momento del avistamiento hasta `'ahora'` (tu hora local) y crea una columna `'TimeSinceSighting'`."
      ]
    },
    {
      "cell_type": "code",
      "execution_count": 26,
      "metadata": {
        "colab": {
          "base_uri": "https://localhost:8080/"
        },
        "id": "QkBysnHc9U4O",
        "outputId": "1bc412a7-4c8f-4861-9151-3e93d902c229"
      },
      "outputs": [
        {
          "output_type": "stream",
          "name": "stdout",
          "text": [
            "               SightingDate           SightingTimeUTC TrainerID PokémonName  \\\n",
            "0 2023-11-08 14:00:00+00:00 2023-11-08 14:00:00+00:00     TR123     Pikachu   \n",
            "1 2023-07-12 08:30:00+00:00 2023-07-12 08:30:00+00:00     TR456       Eevee   \n",
            "2 2023-02-23 13:15:00+00:00 2023-02-23 13:15:00+00:00     TR789    Magicarp   \n",
            "3 2023-04-30 10:45:00+00:00 2023-04-30 10:45:00+00:00     TR101      Gengar   \n",
            "4 2023-08-15 06:00:00+00:00                       NaT     TR102   Bulbasaur   \n",
            "\n",
            "        CP  HP          Type        Weather  Compare  \\\n",
            "0      500  35      Electric          Clear     True   \n",
            "1  MISSING  55        Normal         Cloudy     True   \n",
            "2    1,000  10         Water           Rain     True   \n",
            "3      800  45         Ghost  PARTLY_CLOUDY     True   \n",
            "4      750  50  Grass/Poison          Sunny    False   \n",
            "\n",
            "          SightingTimeLocal  TimeSinceSighting  \n",
            "0 2023-11-08 14:00:00+00:00       43839.466617  \n",
            "1 2023-07-12 08:30:00+00:00      215529.466617  \n",
            "2 2023-02-23 13:15:00+00:00      415404.466617  \n",
            "3 2023-04-30 10:45:00+00:00      320514.466617  \n",
            "4                       NaT                NaN  \n"
          ]
        }
      ],
      "source": [
        "import datetime\n",
        "\n",
        "hora_actual_local = datetime.datetime.now(pytz.timezone('America/New_York'))\n",
        "# Asegúrate de que 'SightingTimeLocal' está en formato datetime y tiene zonas horarias asignadas\n",
        "df['SightingTimeLocal'] = pd.to_datetime(df['SightingTimeLocal'], utc=True)\n",
        "\n",
        "# Calcula el tiempo transcurrido desde el avistamiento hasta ahora\n",
        "df['TimeSinceSighting'] = (hora_actual_local - df['SightingTimeLocal']).dt.total_seconds() / 60  # En minutos\n",
        "\n",
        "print(df)\n"
      ]
    },
    {
      "cell_type": "markdown",
      "metadata": {
        "id": "MVKP7zTK9U4P"
      },
      "source": [
        "## 2. Limpeiza de IDs"
      ]
    },
    {
      "cell_type": "markdown",
      "metadata": {
        "id": "XbL4riGu9U4P"
      },
      "source": [
        "Llena los valores faltantes en `'TrainerID'` con el ID `'UNKNOWN'`.\n"
      ]
    },
    {
      "cell_type": "code",
      "execution_count": 27,
      "metadata": {
        "colab": {
          "base_uri": "https://localhost:8080/"
        },
        "id": "WM1Lya-X9U4P",
        "outputId": "beb5434e-77e0-42f5-e1bc-7a5dd70bec50"
      },
      "outputs": [
        {
          "output_type": "stream",
          "name": "stdout",
          "text": [
            "               SightingDate           SightingTimeUTC TrainerID PokémonName  \\\n",
            "0 2023-11-08 14:00:00+00:00 2023-11-08 14:00:00+00:00     TR123     Pikachu   \n",
            "1 2023-07-12 08:30:00+00:00 2023-07-12 08:30:00+00:00     TR456       Eevee   \n",
            "2 2023-02-23 13:15:00+00:00 2023-02-23 13:15:00+00:00     TR789    Magicarp   \n",
            "3 2023-04-30 10:45:00+00:00 2023-04-30 10:45:00+00:00     TR101      Gengar   \n",
            "4 2023-08-15 06:00:00+00:00                       NaT     TR102   Bulbasaur   \n",
            "\n",
            "        CP  HP          Type        Weather  Compare  \\\n",
            "0      500  35      Electric          Clear     True   \n",
            "1  MISSING  55        Normal         Cloudy     True   \n",
            "2    1,000  10         Water           Rain     True   \n",
            "3      800  45         Ghost  PARTLY_CLOUDY     True   \n",
            "4      750  50  Grass/Poison          Sunny    False   \n",
            "\n",
            "          SightingTimeLocal  TimeSinceSighting  \n",
            "0 2023-11-08 14:00:00+00:00       43839.466617  \n",
            "1 2023-07-12 08:30:00+00:00      215529.466617  \n",
            "2 2023-02-23 13:15:00+00:00      415404.466617  \n",
            "3 2023-04-30 10:45:00+00:00      320514.466617  \n",
            "4                       NaT                NaN  \n"
          ]
        }
      ],
      "source": [
        "df['TrainerID'].fillna('UNKNOWN', inplace=True)\n",
        "print(df)\n"
      ]
    },
    {
      "cell_type": "markdown",
      "metadata": {
        "id": "ovaogFZn9U4P"
      },
      "source": [
        "## 3. Corrección de Nombres de Pokémon"
      ]
    },
    {
      "cell_type": "markdown",
      "metadata": {
        "id": "wJhpIMbi9U4P"
      },
      "source": [
        "Asegúrate de que los nombres de Pokémon estén capitalizados correctamente.\n"
      ]
    },
    {
      "cell_type": "code",
      "execution_count": 28,
      "metadata": {
        "colab": {
          "base_uri": "https://localhost:8080/"
        },
        "id": "VpI7j6D-9U4P",
        "outputId": "d1c4f7aa-8981-4eea-9e8c-e60aad098c4e"
      },
      "outputs": [
        {
          "output_type": "stream",
          "name": "stdout",
          "text": [
            "               SightingDate           SightingTimeUTC TrainerID PokémonName  \\\n",
            "0 2023-11-08 14:00:00+00:00 2023-11-08 14:00:00+00:00     TR123     Pikachu   \n",
            "1 2023-07-12 08:30:00+00:00 2023-07-12 08:30:00+00:00     TR456       Eevee   \n",
            "2 2023-02-23 13:15:00+00:00 2023-02-23 13:15:00+00:00     TR789    Magicarp   \n",
            "3 2023-04-30 10:45:00+00:00 2023-04-30 10:45:00+00:00     TR101      Gengar   \n",
            "4 2023-08-15 06:00:00+00:00                       NaT     TR102   Bulbasaur   \n",
            "\n",
            "        CP  HP          Type        Weather  Compare  \\\n",
            "0      500  35      Electric          Clear     True   \n",
            "1  MISSING  55        Normal         Cloudy     True   \n",
            "2    1,000  10         Water           Rain     True   \n",
            "3      800  45         Ghost  PARTLY_CLOUDY     True   \n",
            "4      750  50  Grass/Poison          Sunny    False   \n",
            "\n",
            "          SightingTimeLocal  TimeSinceSighting PokemonName  \n",
            "0 2023-11-08 14:00:00+00:00       43839.466617     Pikachu  \n",
            "1 2023-07-12 08:30:00+00:00      215529.466617       Eevee  \n",
            "2 2023-02-23 13:15:00+00:00      415404.466617    Magicarp  \n",
            "3 2023-04-30 10:45:00+00:00      320514.466617      Gengar  \n",
            "4                       NaT                NaN   Bulbasaur  \n"
          ]
        }
      ],
      "source": [
        "df['PokemonName'] =  df['PokémonName'].str.capitalize()\n",
        "\n",
        "print(df)\n"
      ]
    },
    {
      "cell_type": "markdown",
      "metadata": {
        "id": "2sU3Eadf9U4Q"
      },
      "source": [
        "## 4. Conversión de 'CP' y 'HP' a Numéricos"
      ]
    },
    {
      "cell_type": "markdown",
      "metadata": {
        "id": "mSldOkvZ9U4Q"
      },
      "source": [
        "Convierte `'CP'` y `'HP'` a valores numéricos, manejando los `'MISSING'` y comas como separadores de miles."
      ]
    },
    {
      "cell_type": "code",
      "execution_count": 30,
      "metadata": {
        "id": "EMZgdA6Y9U4Q"
      },
      "outputs": [],
      "source": [
        "#Convierte el string 'MISSING' a NaN en la columna 'CP','HP':\n",
        "df['CP'] = df['CP'].replace('MISSING', np.nan)\n",
        "#Convierte las comas en separadores de miles en la columna 'CP':\n",
        "df['CP'] = df['CP'].str.replace(',', '')\n",
        "#Convierte en numérico\n",
        "df['CP'] = pd.to_numeric(df['CP'], errors='coerce')\n"
      ]
    },
    {
      "cell_type": "markdown",
      "metadata": {
        "id": "j777rq8A9U4Q"
      },
      "source": [
        "## 5. Estandarización de 'Type'"
      ]
    },
    {
      "cell_type": "markdown",
      "metadata": {
        "id": "XzCplH8r9U4Q"
      },
      "source": [
        "Divide la columna `'Type'` en `'PrimaryType'` y `'SecondaryType'` cuando hay dos tipos.\n"
      ]
    },
    {
      "cell_type": "code",
      "execution_count": 31,
      "metadata": {
        "colab": {
          "base_uri": "https://localhost:8080/"
        },
        "id": "Uf9M_d3M9U4R",
        "outputId": "4b8b0aef-ed8a-4c4d-e050-9d6165962fff"
      },
      "outputs": [
        {
          "output_type": "stream",
          "name": "stdout",
          "text": [
            "               SightingDate           SightingTimeUTC TrainerID PokémonName  \\\n",
            "0 2023-11-08 14:00:00+00:00 2023-11-08 14:00:00+00:00     TR123     Pikachu   \n",
            "1 2023-07-12 08:30:00+00:00 2023-07-12 08:30:00+00:00     TR456       Eevee   \n",
            "2 2023-02-23 13:15:00+00:00 2023-02-23 13:15:00+00:00     TR789    Magicarp   \n",
            "3 2023-04-30 10:45:00+00:00 2023-04-30 10:45:00+00:00     TR101      Gengar   \n",
            "4 2023-08-15 06:00:00+00:00                       NaT     TR102   Bulbasaur   \n",
            "\n",
            "       CP  HP          Type        Weather  Compare         SightingTimeLocal  \\\n",
            "0   500.0  35      Electric          Clear     True 2023-11-08 14:00:00+00:00   \n",
            "1     NaN  55        Normal         Cloudy     True 2023-07-12 08:30:00+00:00   \n",
            "2  1000.0  10         Water           Rain     True 2023-02-23 13:15:00+00:00   \n",
            "3   800.0  45         Ghost  PARTLY_CLOUDY     True 2023-04-30 10:45:00+00:00   \n",
            "4   750.0  50  Grass/Poison          Sunny    False                       NaT   \n",
            "\n",
            "   TimeSinceSighting PokemonName PrimaryType SecondaryType  \n",
            "0       43839.466617     Pikachu    Electric          None  \n",
            "1      215529.466617       Eevee      Normal          None  \n",
            "2      415404.466617    Magicarp       Water          None  \n",
            "3      320514.466617      Gengar       Ghost          None  \n",
            "4                NaN   Bulbasaur       Grass        Poison  \n"
          ]
        }
      ],
      "source": [
        "df[['PrimaryType', 'SecondaryType']] = df['Type'].str.split('/', n=1, expand=True)\n",
        "print(df)"
      ]
    },
    {
      "cell_type": "markdown",
      "metadata": {
        "id": "qEVGjZFx9U4R"
      },
      "source": [
        "## 6. Corrección del Clima"
      ]
    },
    {
      "cell_type": "markdown",
      "metadata": {
        "id": "wfUoOJ649U4R"
      },
      "source": [
        "Estándariza la columna `'Weather'` para que todos los valores sean mayúsculas.\n"
      ]
    },
    {
      "cell_type": "code",
      "execution_count": 32,
      "metadata": {
        "colab": {
          "base_uri": "https://localhost:8080/"
        },
        "id": "ZLKLZCdO9U4R",
        "outputId": "507372c6-d5ff-4d4d-88fb-78052bdb6108"
      },
      "outputs": [
        {
          "output_type": "stream",
          "name": "stdout",
          "text": [
            "               SightingDate           SightingTimeUTC TrainerID PokémonName  \\\n",
            "0 2023-11-08 14:00:00+00:00 2023-11-08 14:00:00+00:00     TR123     Pikachu   \n",
            "1 2023-07-12 08:30:00+00:00 2023-07-12 08:30:00+00:00     TR456       Eevee   \n",
            "2 2023-02-23 13:15:00+00:00 2023-02-23 13:15:00+00:00     TR789    Magicarp   \n",
            "3 2023-04-30 10:45:00+00:00 2023-04-30 10:45:00+00:00     TR101      Gengar   \n",
            "4 2023-08-15 06:00:00+00:00                       NaT     TR102   Bulbasaur   \n",
            "\n",
            "       CP  HP          Type        Weather  Compare         SightingTimeLocal  \\\n",
            "0   500.0  35      Electric          CLEAR     True 2023-11-08 14:00:00+00:00   \n",
            "1     NaN  55        Normal         CLOUDY     True 2023-07-12 08:30:00+00:00   \n",
            "2  1000.0  10         Water           RAIN     True 2023-02-23 13:15:00+00:00   \n",
            "3   800.0  45         Ghost  PARTLY_CLOUDY     True 2023-04-30 10:45:00+00:00   \n",
            "4   750.0  50  Grass/Poison          SUNNY    False                       NaT   \n",
            "\n",
            "   TimeSinceSighting PokemonName PrimaryType SecondaryType  \n",
            "0       43839.466617     Pikachu    Electric          None  \n",
            "1      215529.466617       Eevee      Normal          None  \n",
            "2      415404.466617    Magicarp       Water          None  \n",
            "3      320514.466617      Gengar       Ghost          None  \n",
            "4                NaN   Bulbasaur       Grass        Poison  \n"
          ]
        }
      ],
      "source": [
        "df['Weather'] = df['Weather'].str.upper()\n",
        "print(df)"
      ]
    },
    {
      "cell_type": "markdown",
      "metadata": {
        "id": "klsVQimN9U4S"
      },
      "source": [
        "# 3 Analisis de Datos"
      ]
    },
    {
      "cell_type": "markdown",
      "metadata": {
        "id": "UMiYVQCq9U4S"
      },
      "source": [
        "## Agrupaciones"
      ]
    },
    {
      "cell_type": "markdown",
      "metadata": {
        "id": "KglxvtCy9U4S"
      },
      "source": [
        "Agrupa el DataFrame por `'Type'` y calcula la suma de `'CP'` para cada grupo."
      ]
    },
    {
      "cell_type": "code",
      "execution_count": 33,
      "metadata": {
        "colab": {
          "base_uri": "https://localhost:8080/"
        },
        "id": "7EDXXP3q9U4S",
        "outputId": "45ff7563-f1ca-46ba-9692-cf6b89d62aed"
      },
      "outputs": [
        {
          "output_type": "stream",
          "name": "stdout",
          "text": [
            "Type\n",
            "Electric         500.0\n",
            "Ghost            800.0\n",
            "Grass/Poison     750.0\n",
            "Normal             0.0\n",
            "Water           1000.0\n",
            "Name: CP, dtype: float64\n"
          ]
        }
      ],
      "source": [
        "sum_cp_by_type = df.groupby('Type')['CP'].sum()\n",
        "print(sum_cp_by_type)"
      ]
    },
    {
      "cell_type": "markdown",
      "metadata": {
        "id": "yYU9TlrY9U4S"
      },
      "source": [
        "Después de la suma, agrega una columna que calcule la media de `'HP'` por cada `'Type'`, pero solo para aquellos Pokémon cuyo `'CP'` sea mayor que el promedio de `'CP'` de todo el DataFrame."
      ]
    },
    {
      "cell_type": "code",
      "execution_count": 39,
      "metadata": {
        "colab": {
          "base_uri": "https://localhost:8080/"
        },
        "id": "4Ogl88MM9U4T",
        "outputId": "1bb4eeb1-7b09-4e50-b1c1-f25198b783bb"
      },
      "outputs": [
        {
          "output_type": "stream",
          "name": "stdout",
          "text": [
            "               SightingDate           SightingTimeUTC TrainerID PokémonName  \\\n",
            "0 2023-11-08 14:00:00+00:00 2023-11-08 14:00:00+00:00     TR123     Pikachu   \n",
            "1 2023-07-12 08:30:00+00:00 2023-07-12 08:30:00+00:00     TR456       Eevee   \n",
            "2 2023-02-23 13:15:00+00:00 2023-02-23 13:15:00+00:00     TR789    Magicarp   \n",
            "3 2023-04-30 10:45:00+00:00 2023-04-30 10:45:00+00:00     TR101      Gengar   \n",
            "4 2023-08-15 06:00:00+00:00                       NaT     TR102   Bulbasaur   \n",
            "\n",
            "       CP  HP          Type        Weather  Compare         SightingTimeLocal  \\\n",
            "0   500.0  35      Electric          CLEAR     True 2023-11-08 14:00:00+00:00   \n",
            "1     NaN  55        Normal         CLOUDY     True 2023-07-12 08:30:00+00:00   \n",
            "2  1000.0  10         Water           RAIN     True 2023-02-23 13:15:00+00:00   \n",
            "3   800.0  45         Ghost  PARTLY_CLOUDY     True 2023-04-30 10:45:00+00:00   \n",
            "4   750.0  50  Grass/Poison          SUNNY    False                       NaT   \n",
            "\n",
            "   TimeSinceSighting PokemonName PrimaryType SecondaryType  meanHP  HPmean  \n",
            "0       43839.466617     Pikachu    Electric          None     NaN     NaN  \n",
            "1      215529.466617       Eevee      Normal          None     NaN     NaN  \n",
            "2      415404.466617    Magicarp       Water          None    10.0    10.0  \n",
            "3      320514.466617      Gengar       Ghost          None    45.0    45.0  \n",
            "4                NaN   Bulbasaur       Grass        Poison     NaN     NaN  \n"
          ]
        }
      ],
      "source": [
        "mean = df['CP'].mean()\n",
        "#Filtramos a los pokemons con CP mayor a la media\n",
        "filt = df[df['CP'] > mean]\n",
        "#Agrupamos por tipo en el df filtrado\n",
        "grupo = filt.groupby('Type')\n",
        "#Obtenemos el promedio de HP del grupo filtrado\n",
        "HPmean = grupo['HP'].mean()\n",
        "#Creamos la nueva columna HPmean, mapeando los elementos de HPmean con los de type\n",
        "df['HPmean'] = df['Type'].map(HPmean)\n",
        "print(df)"
      ]
    }
  ],
  "metadata": {
    "kernelspec": {
      "display_name": "Python 3",
      "language": "python",
      "name": "python3"
    },
    "language_info": {
      "codemirror_mode": {
        "name": "ipython",
        "version": 3
      },
      "file_extension": ".py",
      "mimetype": "text/x-python",
      "name": "python",
      "nbconvert_exporter": "python",
      "pygments_lexer": "ipython3",
      "version": "3.11.5"
    },
    "colab": {
      "provenance": []
    }
  },
  "nbformat": 4,
  "nbformat_minor": 0
}