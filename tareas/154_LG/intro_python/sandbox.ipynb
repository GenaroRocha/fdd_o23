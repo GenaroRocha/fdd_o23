{
  "cells": [
    {
      "cell_type": "markdown",
      "metadata": {
        "id": "Izk2SB42uNZd"
      },
      "source": [
        "# App y __name__"
      ]
    },
    {
      "cell_type": "code",
      "execution_count": null,
      "metadata": {
        "id": "uwQmeYnduNZf"
      },
      "outputs": [],
      "source": []
    },
    {
      "cell_type": "code",
      "execution_count": 1,
      "metadata": {
        "id": "-UUhDEQYuNZf"
      },
      "outputs": [],
      "source": [
        "import app"
      ]
    },
    {
      "cell_type": "code",
      "execution_count": 2,
      "metadata": {
        "colab": {
          "base_uri": "https://localhost:8080/"
        },
        "id": "ILL7ZM8XuNZg",
        "outputId": "b58a55c6-e966-4143-e5ae-56ba73f00f82"
      },
      "outputs": [
        {
          "output_type": "execute_result",
          "data": {
            "text/plain": [
              "<function app.hello_world()>"
            ]
          },
          "metadata": {},
          "execution_count": 2
        }
      ],
      "source": [
        "app.hello_world"
      ]
    },
    {
      "cell_type": "code",
      "execution_count": 3,
      "metadata": {
        "colab": {
          "base_uri": "https://localhost:8080/"
        },
        "id": "Cz3z1yCxuNZg",
        "outputId": "265158d4-512b-4f09-8765-3265e68427b1"
      },
      "outputs": [
        {
          "output_type": "stream",
          "name": "stdout",
          "text": [
            "Hello World\n",
            "La variable __name__ tien el valor de app\n"
          ]
        }
      ],
      "source": [
        "app.hello_world()"
      ]
    },
    {
      "cell_type": "code",
      "execution_count": 4,
      "metadata": {
        "colab": {
          "base_uri": "https://localhost:8080/",
          "height": 35
        },
        "id": "wfKUqWeTuNZh",
        "outputId": "4a17ff7e-fbd7-443d-a304-6a80ea64217c"
      },
      "outputs": [
        {
          "output_type": "execute_result",
          "data": {
            "text/plain": [
              "'app'"
            ],
            "application/vnd.google.colaboratory.intrinsic+json": {
              "type": "string"
            }
          },
          "metadata": {},
          "execution_count": 4
        }
      ],
      "source": [
        "app.__name__"
      ]
    },
    {
      "cell_type": "markdown",
      "metadata": {
        "id": "Fs6Rfi8VuNZh"
      },
      "source": [
        "Si modificas el app.py las modificaciones no se veran reflejadas en este notebook hasta que reinicies el kernel/env (o utilices librerias especializadas). Incluso si vuelves a ejecutar la casilla de importar `import app`. Esto se debe a que python no vuelve importar el modulo si ya lo tiene importado (no revisa diferencias o cambios).  \n",
        "Sin embargo si el `import` fallo por alguna razon, y realizas la modificacion para que funcine si puedes importar esa nueva version, pues jamas fue importada por el error."
      ]
    },
    {
      "cell_type": "markdown",
      "metadata": {
        "id": "S_Lm5UaCuNZh"
      },
      "source": [
        "Si desean ver las modificaciones que realizaron a otros scripts sin recargar el kernel pueden usar `importlib`"
      ]
    },
    {
      "cell_type": "code",
      "execution_count": 5,
      "metadata": {
        "colab": {
          "base_uri": "https://localhost:8080/"
        },
        "id": "0FaHqAa7uNZi",
        "outputId": "f5b83a9e-04b8-4678-b587-f2540cf4a7ec"
      },
      "outputs": [
        {
          "output_type": "execute_result",
          "data": {
            "text/plain": [
              "<module 'app' from '/content/app.py'>"
            ]
          },
          "metadata": {},
          "execution_count": 5
        }
      ],
      "source": [
        "import importlib\n",
        "importlib.reload(app)"
      ]
    },
    {
      "cell_type": "markdown",
      "metadata": {
        "id": "V1u0VMKJuNZi"
      },
      "source": [
        "# OS"
      ]
    },
    {
      "cell_type": "code",
      "execution_count": 6,
      "metadata": {
        "id": "yUS9BvvLuNZi"
      },
      "outputs": [],
      "source": [
        "import os"
      ]
    },
    {
      "cell_type": "markdown",
      "metadata": {
        "id": "x2ehKDQRuNZj"
      },
      "source": [
        "Obtener el directorio de trabajo actual:"
      ]
    },
    {
      "cell_type": "code",
      "execution_count": 7,
      "metadata": {
        "colab": {
          "base_uri": "https://localhost:8080/"
        },
        "id": "rooXHgjEuNZj",
        "outputId": "f99696e3-90c2-4203-eeb5-c7be36b99154"
      },
      "outputs": [
        {
          "output_type": "stream",
          "name": "stdout",
          "text": [
            "/content\n"
          ]
        }
      ],
      "source": [
        "current_directory = os.getcwd()\n",
        "print(current_directory)"
      ]
    },
    {
      "cell_type": "markdown",
      "metadata": {
        "id": "wqh-jruMuNZj"
      },
      "source": [
        "Listar archivos y directorios en el directorio actual:"
      ]
    },
    {
      "cell_type": "code",
      "execution_count": 8,
      "metadata": {
        "colab": {
          "base_uri": "https://localhost:8080/"
        },
        "id": "HY0W2RifuNZj",
        "outputId": "e2baf998-045d-4ae0-f92e-af53df853eaa"
      },
      "outputs": [
        {
          "output_type": "stream",
          "name": "stdout",
          "text": [
            ".config\n",
            "app.py\n",
            "__pycache__\n",
            "sample_data\n"
          ]
        }
      ],
      "source": [
        "for filename in os.listdir('.'):\n",
        "    print(filename)"
      ]
    },
    {
      "cell_type": "markdown",
      "metadata": {
        "id": "fT-GAVVQuNZj"
      },
      "source": [
        "Verificar si una ruta es un archivo o un directorio:"
      ]
    },
    {
      "cell_type": "code",
      "execution_count": 9,
      "metadata": {
        "colab": {
          "base_uri": "https://localhost:8080/"
        },
        "id": "5Trok4FwuNZk",
        "outputId": "1c585b4a-1f43-4a70-c8c8-9040c5549e7b"
      },
      "outputs": [
        {
          "output_type": "stream",
          "name": "stdout",
          "text": [
            ".config It is a directory!\n",
            "app.py It is a file!\n",
            "__pycache__ It is a directory!\n",
            "sample_data It is a directory!\n"
          ]
        }
      ],
      "source": [
        "for f in os.listdir('.'):\n",
        "    if os.path.isfile(f):\n",
        "        print(f'{f} It is a file!')\n",
        "    elif os.path.isdir(f):\n",
        "        print(f'{f} It is a directory!')"
      ]
    },
    {
      "cell_type": "markdown",
      "metadata": {
        "id": "pZr3PlGFuNZk"
      },
      "source": [
        "Join dos paths"
      ]
    },
    {
      "cell_type": "code",
      "execution_count": 10,
      "metadata": {
        "colab": {
          "base_uri": "https://localhost:8080/"
        },
        "id": "QnA8tz-ouNZk",
        "outputId": "988ff244-8a02-4735-ef23-50d25a57b36f"
      },
      "outputs": [
        {
          "output_type": "stream",
          "name": "stdout",
          "text": [
            "carpeta_vacia/.gitkeep\n"
          ]
        },
        {
          "output_type": "execute_result",
          "data": {
            "text/plain": [
              "False"
            ]
          },
          "metadata": {},
          "execution_count": 10
        }
      ],
      "source": [
        "f = os.path.join('carpeta_vacia','.gitkeep')\n",
        "print(f)\n",
        "os.path.isfile(f)"
      ]
    },
    {
      "cell_type": "markdown",
      "metadata": {
        "id": "j4ZhJLgpuNZk"
      },
      "source": [
        "Obtener el path absoluto a un folder o un file con join"
      ]
    },
    {
      "cell_type": "code",
      "execution_count": 11,
      "metadata": {
        "colab": {
          "base_uri": "https://localhost:8080/"
        },
        "id": "0Tv0t8YquNZk",
        "outputId": "ff47a7a0-a84e-4d55-d092-dc76e130eaa7"
      },
      "outputs": [
        {
          "output_type": "execute_result",
          "data": {
            "text/plain": [
              "['/content/.config',\n",
              " '/content/app.py',\n",
              " '/content/__pycache__',\n",
              " '/content/sample_data']"
            ]
          },
          "metadata": {},
          "execution_count": 11
        }
      ],
      "source": [
        "[os.path.join(os.getcwd(),f) for f in os.listdir('.')]"
      ]
    },
    {
      "cell_type": "markdown",
      "metadata": {
        "id": "HALiSMP8uNZl"
      },
      "source": [
        "Ejercicio obtener paths absolutos a los files (no directorios) usando listas comprensica `[i for i in ...]` con las funciones que hemos visto"
      ]
    },
    {
      "cell_type": "code",
      "execution_count": 12,
      "metadata": {
        "colab": {
          "base_uri": "https://localhost:8080/"
        },
        "id": "gEd3EZ8GuNZl",
        "outputId": "1002e076-ba95-44bf-c247-4c4feb389578"
      },
      "outputs": [
        {
          "output_type": "execute_result",
          "data": {
            "text/plain": [
              "['/content/app.py']"
            ]
          },
          "metadata": {},
          "execution_count": 12
        }
      ],
      "source": [
        "[os.path.join(os.getcwd(),f) for f in os.listdir('.') if os.path.isfile(f)]"
      ]
    },
    {
      "cell_type": "markdown",
      "metadata": {
        "id": "72omjfIzuNZl"
      },
      "source": [
        "Crear directorios"
      ]
    },
    {
      "cell_type": "code",
      "execution_count": 13,
      "metadata": {
        "id": "ulInuY0uuNZl"
      },
      "outputs": [],
      "source": [
        "os.makedirs('empty_dir', exist_ok=True) # exists_ok=False regresara error si el folder existe"
      ]
    },
    {
      "cell_type": "markdown",
      "metadata": {
        "id": "M-sZG4B7uNZl"
      },
      "source": [
        "Obtener variables de entorno:"
      ]
    },
    {
      "cell_type": "code",
      "execution_count": 14,
      "metadata": {
        "colab": {
          "base_uri": "https://localhost:8080/"
        },
        "id": "9ytCbgj8uNZl",
        "outputId": "35902b0a-9fe6-404c-83a3-3f35a3b29311"
      },
      "outputs": [
        {
          "output_type": "stream",
          "name": "stdout",
          "text": [
            "None\n"
          ]
        }
      ],
      "source": [
        "path_variable = os.environ.get('USER')\n",
        "print(path_variable)\n"
      ]
    },
    {
      "cell_type": "markdown",
      "metadata": {
        "id": "1T5BWvhkuNZl"
      },
      "source": [
        "|Dividir la ruta de un archivo en la ruta y el nombre del archivo:"
      ]
    },
    {
      "cell_type": "code",
      "execution_count": 15,
      "metadata": {
        "colab": {
          "base_uri": "https://localhost:8080/"
        },
        "id": "WtfaAj3GuNZl",
        "outputId": "55d33921-3e6c-4baa-cd9d-636d52976baa"
      },
      "outputs": [
        {
          "output_type": "stream",
          "name": "stdout",
          "text": [
            "/path/to\n",
            "file.txt\n"
          ]
        }
      ],
      "source": [
        "directory, filename = os.path.split('/path/to/file.txt')\n",
        "print(directory)  # Output: '/path/to'\n",
        "print(filename)   # Output: 'file.txt'"
      ]
    },
    {
      "cell_type": "markdown",
      "metadata": {
        "id": "B-8xy1HYuNZm"
      },
      "source": [
        "Obtener el nombre del archivo"
      ]
    },
    {
      "cell_type": "code",
      "execution_count": 16,
      "metadata": {
        "colab": {
          "base_uri": "https://localhost:8080/",
          "height": 35
        },
        "id": "TdhIqPixuNZm",
        "outputId": "10a67019-a224-4d00-f49f-bda553caddd8"
      },
      "outputs": [
        {
          "output_type": "execute_result",
          "data": {
            "text/plain": [
              "'file.txt'"
            ],
            "application/vnd.google.colaboratory.intrinsic+json": {
              "type": "string"
            }
          },
          "metadata": {},
          "execution_count": 16
        }
      ],
      "source": [
        "os.path.basename('/path/to/file.txt')"
      ]
    },
    {
      "cell_type": "markdown",
      "metadata": {
        "id": "umzy6eHfuNZm"
      },
      "source": [
        "Verificar si una ruta específica existe:"
      ]
    },
    {
      "cell_type": "code",
      "execution_count": 17,
      "metadata": {
        "id": "D3PtL2R1uNZm"
      },
      "outputs": [],
      "source": [
        "if os.path.exists('carpeta_vacia/.gitkeep'):\n",
        "    print('It exists!')"
      ]
    },
    {
      "cell_type": "markdown",
      "metadata": {
        "id": "iDNFI-EtuNZm"
      },
      "source": [
        "# Funciones"
      ]
    },
    {
      "cell_type": "markdown",
      "metadata": {
        "id": "hUaZY6z1uNZm"
      },
      "source": [
        "Para definir una funcion en python utilizamos el keyword `def` seguido de `espacio`, `nombre de la funcion`, espacio y los `argumentos` que va a recibir entre parentesis."
      ]
    },
    {
      "cell_type": "code",
      "execution_count": 18,
      "metadata": {
        "colab": {
          "base_uri": "https://localhost:8080/"
        },
        "id": "9dHEmKe9uNZn",
        "outputId": "3b796c42-539e-42bd-eddd-9470396e7556"
      },
      "outputs": [
        {
          "output_type": "execute_result",
          "data": {
            "text/plain": [
              "10"
            ]
          },
          "metadata": {},
          "execution_count": 18
        }
      ],
      "source": [
        "def suma(a,b):\n",
        "    return a + b\n",
        "\n",
        "suma(2, 8)"
      ]
    },
    {
      "cell_type": "markdown",
      "metadata": {
        "id": "bDgGbjUfuNZn"
      },
      "source": [
        "    *args recopila argumentos posicionales adicionales en una tupla.\n",
        "    **kwargs recopila argumentos por palabra clave adicionales en un diccionario.\n",
        "\n",
        "Ambos son extremadamente útiles para funciones o métodos donde esperas que el número de argumentos varíe o para crear funciones/métodos más flexibles. También son comunes en decoradores y al extender métodos de clases en herencia para asegurarse de que los argumentos pasados al método original o al método de la clase padre se mantengan intactos."
      ]
    },
    {
      "cell_type": "markdown",
      "metadata": {
        "id": "cvlzYPJfuNZn"
      },
      "source": [
        "## `*args`"
      ]
    },
    {
      "cell_type": "markdown",
      "metadata": {
        "id": "lJmjvGN1uNZn"
      },
      "source": [
        "`*args` permite que una función acepte cualquier número de argumentos posicionales. Se recopila como una tupla. El nombre \"args\" es simplemente una convención, lo que importa es el asterisco (`*`) que precede al nombre."
      ]
    },
    {
      "cell_type": "code",
      "execution_count": 19,
      "metadata": {
        "colab": {
          "base_uri": "https://localhost:8080/"
        },
        "id": "QH28jyMbuNZo",
        "outputId": "6a12564b-2455-40af-c7cd-08084d88aa04"
      },
      "outputs": [
        {
          "output_type": "stream",
          "name": "stdout",
          "text": [
            "Thorfinn\n",
            "Hange\n",
            "Madoka\n"
          ]
        }
      ],
      "source": [
        "def mostrar_nombres(*nombres):\n",
        "    for nombre in nombres:\n",
        "        print(nombre)\n",
        "\n",
        "mostrar_nombres(\"Thorfinn\", \"Hange\", \"Madoka\")"
      ]
    },
    {
      "cell_type": "markdown",
      "metadata": {
        "id": "luOG9OTeuNZo"
      },
      "source": [
        "En el ejemplo anterior, aunque pasamos tres argumentos a mostrar_nombres, gracias a `*nombres`, la función los recoge todos en una tupla llamada nombres."
      ]
    },
    {
      "cell_type": "markdown",
      "metadata": {
        "id": "Cpu5uJO1uNZo"
      },
      "source": [
        "## `**kwargs`"
      ]
    },
    {
      "cell_type": "markdown",
      "metadata": {
        "id": "CGF7mamIuNZo"
      },
      "source": [
        "Permite que una función acepte cualquier número de argumentos por palabra clave. Se recopila como un `diccionario`. Al igual que con \"`args`\", el nombre \"`kwargs`\" es una convención, y lo que importa es el doble asterisco (`**`) que precede al nombre."
      ]
    },
    {
      "cell_type": "code",
      "execution_count": 20,
      "metadata": {
        "colab": {
          "base_uri": "https://localhost:8080/"
        },
        "id": "GfUsCbUyuNZo",
        "outputId": "7d24ddc5-e5b3-4a0f-8b6d-d0635a8e352f"
      },
      "outputs": [
        {
          "output_type": "stream",
          "name": "stdout",
          "text": [
            "nombre: Thorfinn\n",
            "edad: 20\n",
            "país: Vinlandia\n"
          ]
        }
      ],
      "source": [
        "def mostrar_datos(**datos):\n",
        "    for clave, valor in datos.items():\n",
        "        print(f\"{clave}: {valor}\")\n",
        "\n",
        "mostrar_datos(nombre=\"Thorfinn\", edad=20, país=\"Vinlandia\")\n"
      ]
    },
    {
      "cell_type": "markdown",
      "metadata": {
        "id": "kCO9_9GmuNZp"
      },
      "source": [
        "En el ejemplo anterior, los argumentos por palabra clave que pasamos a la función `mostrar_datos` son recogidos en un diccionario llamado datos gracias a `**kwargs`."
      ]
    },
    {
      "cell_type": "markdown",
      "metadata": {
        "id": "j6FOLVn8uNZp"
      },
      "source": [
        "## `*args` & `**kwargs`"
      ]
    },
    {
      "cell_type": "markdown",
      "metadata": {
        "id": "m0lLmWvXuNZp"
      },
      "source": [
        "Puedes usar `*args` y `**kwargs` en la misma función, pero `*args` tiene que aparecer antes de `**kwargs` en la lista de parámetros de la función"
      ]
    },
    {
      "cell_type": "code",
      "execution_count": 21,
      "metadata": {
        "colab": {
          "base_uri": "https://localhost:8080/"
        },
        "id": "tiPZL_ByuNZp",
        "outputId": "dc400729-c443-4b5e-b00c-4de70048b278"
      },
      "outputs": [
        {
          "output_type": "stream",
          "name": "stdout",
          "text": [
            "1 2\n",
            "(3, 4, 5)\n",
            "{'clave1': 'valor1', 'clave2': 'valor2'}\n"
          ]
        }
      ],
      "source": [
        "def funcion_mixta(a, b, *args, **kwargs):\n",
        "    print(a, b)\n",
        "    print(args)\n",
        "    print(kwargs)\n",
        "\n",
        "funcion_mixta(1, 2, 3, 4, 5, clave1=\"valor1\", clave2=\"valor2\")\n"
      ]
    },
    {
      "cell_type": "markdown",
      "metadata": {
        "id": "8Ja5x3yFuNZp"
      },
      "source": [
        "# Clases"
      ]
    },
    {
      "cell_type": "markdown",
      "metadata": {
        "id": "rze1QHE_uNZp"
      },
      "source": [
        "## Clase base"
      ]
    },
    {
      "cell_type": "code",
      "execution_count": 22,
      "metadata": {
        "id": "ZtajSHY8uNZp"
      },
      "outputs": [],
      "source": [
        "class Persona:\n",
        "    def __init__(self, nombre, edad):  # Constructor de la clase\n",
        "        self.nombre = nombre\n",
        "        self.edad = edad\n",
        "\n",
        "    def mostrar_informacion(self):\n",
        "        \"\"\"Muestra la información de la persona.\"\"\"\n",
        "        print(f\"Nombre: {self.nombre}\")\n",
        "        print(f\"Edad: {self.edad}\")\n",
        "\n",
        "    def cumplir_anos(self):\n",
        "        \"\"\"Incrementa la edad de la persona en 1 año.\"\"\"\n",
        "        self.edad += 1\n",
        "        print(f\"¡{self.nombre} ahora tiene {self.edad} años!\")"
      ]
    },
    {
      "cell_type": "code",
      "execution_count": 23,
      "metadata": {
        "colab": {
          "base_uri": "https://localhost:8080/"
        },
        "id": "hVwT2jX1uNZp",
        "outputId": "4198a3e7-1486-43ff-be86-d7432ab23106"
      },
      "outputs": [
        {
          "output_type": "stream",
          "name": "stdout",
          "text": [
            "Nombre: Thorfinn\n",
            "Edad: 20\n",
            "¡Thorfinn ahora tiene 21 años!\n",
            "Nombre: Hange\n",
            "Edad: 30\n"
          ]
        }
      ],
      "source": [
        "# Crear una instancia de la clase Persona\n",
        "persona1 = Persona(\"Thorfinn\", 20)\n",
        "\n",
        "# Usar métodos de la clase\n",
        "persona1.mostrar_informacion()\n",
        "persona1.cumplir_anos()\n",
        "\n",
        "# Crear otra instancia de la clase Persona\n",
        "persona2 = Persona(\"Hange\", 30)\n",
        "persona2.mostrar_informacion()"
      ]
    },
    {
      "cell_type": "markdown",
      "metadata": {
        "id": "BMKKVvGwuNZq"
      },
      "source": [
        "La clase `Persona`` define una \"plantilla\" para crear objetos de tipo Persona.\n",
        "\n",
        "El método `__init__` es un constructor especial que se llama cuando creas una nueva instancia de la clase. Los valores pasados al constructor (nombre y edad en este caso) se utilizan para inicializar las variables de instancia `self.nombre` y `self.edad`.\n",
        "\n",
        "Los métodos `mostrar_informacion` y `cumplir_anos` son funciones que actúan sobre los objetos de la clase `Persona` y pueden acceder o modificar sus atributos.\n",
        "\n",
        "La palabra clave self hace referencia a la instancia específica de la clase y permite acceder a los atributos y métodos asociados con esa instancia.\n",
        "\n",
        "Este es un ejemplo básico. Las clases en Python pueden tener mucha más funcionalidad, incluyendo herencia, métodos estáticos, métodos de clase, decoradores y mucho más.\n"
      ]
    },
    {
      "cell_type": "markdown",
      "metadata": {
        "id": "x4U6VrS_uNZq"
      },
      "source": [
        "### Atributos"
      ]
    },
    {
      "cell_type": "markdown",
      "metadata": {
        "id": "IyzTHyBtuNZq"
      },
      "source": [
        "Puedes acceder a los atributos del objeto utilizando la notacion de `.`"
      ]
    },
    {
      "cell_type": "code",
      "execution_count": 24,
      "metadata": {
        "colab": {
          "base_uri": "https://localhost:8080/"
        },
        "id": "DtGwggRluNZq",
        "outputId": "277d531f-beff-40d8-969c-c898c30befe3"
      },
      "outputs": [
        {
          "output_type": "stream",
          "name": "stdout",
          "text": [
            "Thorfinn\n",
            "30\n"
          ]
        }
      ],
      "source": [
        "print(persona1.nombre)\n",
        "print(persona2.edad)"
      ]
    },
    {
      "cell_type": "markdown",
      "metadata": {
        "id": "wTxXr2CEuNZr"
      },
      "source": [
        "## Herencia"
      ]
    },
    {
      "cell_type": "markdown",
      "metadata": {
        "id": "Dg-Qio43uNZr"
      },
      "source": [
        "La función `super()` en Python se utiliza para llamar a un método en una clase padre.\n",
        "\n",
        "A continuación, te presento un ejemplo en el que una clase Empleado hereda de la clase `Persona` y utiliza `super()` para invocar el constructor de la clase padre."
      ]
    },
    {
      "cell_type": "code",
      "execution_count": 25,
      "metadata": {
        "id": "Ev9rI5k1uNZr"
      },
      "outputs": [],
      "source": [
        "class Alumne(Persona):\n",
        "    def __init__(self, nombre, edad, cu):\n",
        "        super().__init__(nombre, edad)  # Llamar al constructor de la clase madre (Persona)\n",
        "        self.cu = cu\n",
        "\n",
        "    def mostrar_informacion(self):\n",
        "        super().mostrar_informacion()  # Llamar al método mostrar_informacion de la clase madre\n",
        "        print(f\"CU del Alumne: {self.cu}\")"
      ]
    },
    {
      "cell_type": "code",
      "execution_count": 26,
      "metadata": {
        "colab": {
          "base_uri": "https://localhost:8080/"
        },
        "id": "Bldms4JauNZr",
        "outputId": "177256b0-12ef-463f-8f1c-c8d8a043ffe7"
      },
      "outputs": [
        {
          "output_type": "stream",
          "name": "stdout",
          "text": [
            "Nombre: Luffy\n",
            "Edad: 19\n",
            "CU del Alumne: 547\n"
          ]
        }
      ],
      "source": [
        "alumne = Alumne('Luffy', 19, 547)\n",
        "alumne.mostrar_informacion()"
      ]
    },
    {
      "cell_type": "markdown",
      "metadata": {
        "id": "T1Z9wXK6uNZr"
      },
      "source": [
        "## Funciones Especiales"
      ]
    },
    {
      "cell_type": "markdown",
      "metadata": {
        "id": "brWm2ZXEuNZr"
      },
      "source": [
        "Las funciones especiales que utilizan la notación `__funcion__` en Python son a menudo llamadas \"métodos mágicos\" o \"dunder methods\" (abreviatura de \"double underscore\"). Estos métodos permiten a los objetos personalizar su comportamiento con respecto a operadores y funciones nativas de Python."
      ]
    },
    {
      "cell_type": "markdown",
      "metadata": {
        "id": "1oW7hJRyuNZs"
      },
      "source": [
        "### `__init__` y `__del__`"
      ]
    },
    {
      "cell_type": "markdown",
      "metadata": {
        "id": "04nO6EXGuNZs"
      },
      "source": [
        "`__init__`: Constructor de la clase.  \n",
        "`__del__`: Destructor, se invoca cuando el objeto está a punto de ser destruido."
      ]
    },
    {
      "cell_type": "code",
      "execution_count": 27,
      "metadata": {
        "colab": {
          "base_uri": "https://localhost:8080/"
        },
        "id": "dvdAKirruNZs",
        "outputId": "fe1f9169-3cd6-4f8c-b137-08ebf5809d08"
      },
      "outputs": [
        {
          "output_type": "stream",
          "name": "stdout",
          "text": [
            "Objeto creado.\n",
            "Objeto destruido.\n"
          ]
        }
      ],
      "source": [
        "class Ejemplo:\n",
        "    def __init__(self):\n",
        "        print(\"Objeto creado.\")\n",
        "\n",
        "    def __del__(self):\n",
        "        print(\"Objeto destruido.\")\n",
        "\n",
        "# Uso\n",
        "obj = Ejemplo()  # Imprime \"Objeto creado.\"\n",
        "del obj  # Imprime \"Objeto destruido.\"\n"
      ]
    },
    {
      "cell_type": "markdown",
      "metadata": {
        "id": "S_kJYl_AuNZs"
      },
      "source": [
        "### `__str__` y `__repr__`"
      ]
    },
    {
      "cell_type": "markdown",
      "metadata": {
        "id": "B0TX1go2uNZs"
      },
      "source": [
        "`__str__`: Devuelve una representación legible del objeto, utilizada por la función `print()`.  \n",
        "`__repr__`: Devuelve una representación oficial del objeto, útil para desarrolladores."
      ]
    },
    {
      "cell_type": "code",
      "execution_count": 28,
      "metadata": {
        "colab": {
          "base_uri": "https://localhost:8080/",
          "height": 70
        },
        "id": "BwSveAxTuNZs",
        "outputId": "57728744-101e-49ac-ad20-f370b5e64466"
      },
      "outputs": [
        {
          "output_type": "stream",
          "name": "stdout",
          "text": [
            "Madoka, 14 años.\n",
            "Persona('Madoka', 14)\n"
          ]
        },
        {
          "output_type": "execute_result",
          "data": {
            "text/plain": [
              "\"Persona('Madoka', 14)\""
            ],
            "application/vnd.google.colaboratory.intrinsic+json": {
              "type": "string"
            }
          },
          "metadata": {},
          "execution_count": 28
        }
      ],
      "source": [
        "class Persona:\n",
        "    def __init__(self, nombre, edad):\n",
        "        self.nombre = nombre\n",
        "        self.edad = edad\n",
        "\n",
        "    def __str__(self):\n",
        "        return f\"{self.nombre}, {self.edad} años.\"\n",
        "\n",
        "    def __repr__(self):\n",
        "        return f\"Persona('{self.nombre}', {self.edad})\"\n",
        "\n",
        "# Uso\n",
        "persona = Persona(\"Madoka\", 14)\n",
        "print(persona)  # Imprime \"Madoka, 14 años.\"\n",
        "print(repr(persona))  # Imprime \"Persona('Madoka', 14)\"\n",
        "persona.__repr__()\n"
      ]
    },
    {
      "cell_type": "markdown",
      "metadata": {
        "id": "QyaTvrYduNZt"
      },
      "source": [
        "### `__add__`, `__sub__`"
      ]
    },
    {
      "cell_type": "markdown",
      "metadata": {
        "id": "7_JqhFcVuNZt"
      },
      "source": [
        "Estos métodos permiten definir el comportamiento de operadores aritméticos (+, -, *, /, etc.)."
      ]
    },
    {
      "cell_type": "code",
      "execution_count": 29,
      "metadata": {
        "colab": {
          "base_uri": "https://localhost:8080/"
        },
        "id": "kj5RMBjuuNZt",
        "outputId": "759bbd01-344c-459a-f472-401e727ee976"
      },
      "outputs": [
        {
          "output_type": "stream",
          "name": "stdout",
          "text": [
            "8\n",
            "2\n"
          ]
        }
      ],
      "source": [
        "class Numero:\n",
        "    def __init__(self, valor):\n",
        "        self.valor = valor\n",
        "\n",
        "    def __add__(self, otro_numero):\n",
        "        return Numero(self.valor + otro_numero.valor) # regresa un objeto de tipo numero\n",
        "\n",
        "    def __sub__(self, otro_numero):\n",
        "        return Numero(self.valor - otro_numero.valor) # regresa un objeto de tipo numero\n",
        "\n",
        "    def __str__(self):\n",
        "        return str(self.valor)\n",
        "\n",
        "# Uso\n",
        "num1 = Numero(5)\n",
        "num2 = Numero(3)\n",
        "num3 = num1 + num2  # Uso de __add__\n",
        "print(num3)  # Imprime \"8\"\n",
        "\n",
        "num4 = num1 - num2\n",
        "print(num4)"
      ]
    },
    {
      "cell_type": "markdown",
      "metadata": {
        "id": "MZ4XSph2uNZt"
      },
      "source": [
        "### `__eq__`, `__lt__`, `__le__`"
      ]
    },
    {
      "cell_type": "markdown",
      "metadata": {
        "id": "bD9opDNWuNZt"
      },
      "source": [
        "Estos métodos definen el comportamiento de operadores de comparación (==, <, <=, etc.)."
      ]
    },
    {
      "cell_type": "code",
      "execution_count": 30,
      "metadata": {
        "colab": {
          "base_uri": "https://localhost:8080/"
        },
        "id": "-I4VXbe4uNZu",
        "outputId": "e6f5994b-7c65-4130-b771-2dd868d0663a"
      },
      "outputs": [
        {
          "output_type": "stream",
          "name": "stdout",
          "text": [
            "True\n",
            "False\n"
          ]
        }
      ],
      "source": [
        "class Punto:\n",
        "    def __init__(self, x, y):\n",
        "        self.x = x\n",
        "        self.y = y\n",
        "\n",
        "    def __eq__(self, otro_punto):\n",
        "        return self.x == otro_punto.x and self.y == otro_punto.y\n",
        "\n",
        "# Uso\n",
        "punto1 = Punto(2, 3)\n",
        "punto2 = Punto(2, 3)\n",
        "punto3 = Punto(3, 4)\n",
        "\n",
        "print(punto1 == punto2)  # Imprime \"True\" porque utilizamos __eq__\n",
        "print(punto1 == punto3)  # Imprime \"False\"\n"
      ]
    },
    {
      "cell_type": "markdown",
      "metadata": {
        "id": "A59bZXOruNZu"
      },
      "source": [
        "### `__len__`"
      ]
    },
    {
      "cell_type": "markdown",
      "metadata": {
        "id": "GFyrZ6qBuNZu"
      },
      "source": [
        "Permite definir el comportamiento de la función `len()` para el objeto."
      ]
    },
    {
      "cell_type": "code",
      "execution_count": 31,
      "metadata": {
        "colab": {
          "base_uri": "https://localhost:8080/"
        },
        "id": "AJxamo9TuNZu",
        "outputId": "8abc40e0-80e3-480b-93d2-fd9b0a07c314"
      },
      "outputs": [
        {
          "output_type": "stream",
          "name": "stdout",
          "text": [
            "2\n"
          ]
        }
      ],
      "source": [
        "class Contenedor:\n",
        "    def __init__(self):\n",
        "        self.items = []\n",
        "\n",
        "    def agregar(self, item):\n",
        "        self.items.append(item)\n",
        "\n",
        "    def __len__(self):\n",
        "        return len(self.items)\n",
        "\n",
        "# Uso\n",
        "contenedor = Contenedor()\n",
        "contenedor.agregar(\"manzana\")\n",
        "contenedor.agregar(\"banana\")\n",
        "print(len(contenedor))  # Imprime \"2\" porque utilizamos __len__\n"
      ]
    },
    {
      "cell_type": "markdown",
      "metadata": {
        "id": "_7qJF594uNZv"
      },
      "source": [
        "# Decoradores"
      ]
    },
    {
      "cell_type": "markdown",
      "metadata": {
        "id": "ai7_XOAnuNZv"
      },
      "source": [
        "Un decorador en Python es una herramienta poderosa que permite modificar o extender la funcionalidad de funciones o métodos sin cambiar su código original. Esencialmente, un decorador es una función que toma otra función (o método) como argumento, y devuelve una función que, por lo general, extiende o modifica la función original.  \n",
        "\n",
        "Un decorador se aplica con `@decorador` antes de la funcion."
      ]
    },
    {
      "cell_type": "markdown",
      "metadata": {
        "id": "td53nbofuNZv"
      },
      "source": [
        "## Regsitro de llamadas"
      ]
    },
    {
      "cell_type": "markdown",
      "metadata": {
        "id": "hITfRtNHuNZv"
      },
      "source": [
        "La función `registrar` es un decorador que recibe una función `func` como argumento. Cuando decoras una función con `@registrar, esencialmente estás haciendo algo parecido a:  \n",
        "\n",
        "`saludar = registrar(saludar)`  \n"
      ]
    },
    {
      "cell_type": "markdown",
      "metadata": {
        "id": "O57GqQOBuNZv"
      },
      "source": [
        "El resultado de `registrar(saludar)` es la función `envoltorio`. Es decir, después de aplicar el decorador, cuando llamas a `saludar(...)`, en realidad estás llamando a `envoltorio(...)`.  \n"
      ]
    },
    {
      "cell_type": "markdown",
      "metadata": {
        "id": "hHEqv-CyuNZw"
      },
      "source": [
        "La definición def `envoltorio(*args, **kwargs)`: está preparada para recibir cualquier número y tipo de argumentos, ya sean posicionales o por palabra clave, gracias a `*args` y `**kwargs`, respectivamente."
      ]
    },
    {
      "cell_type": "code",
      "execution_count": 32,
      "metadata": {
        "colab": {
          "base_uri": "https://localhost:8080/"
        },
        "id": "MMSLeiXDuNZw",
        "outputId": "3f27db22-f909-42a5-99a1-eb27c1a36fd6"
      },
      "outputs": [
        {
          "output_type": "stream",
          "name": "stdout",
          "text": [
            "Se llamó a la función: saludar\n",
            "Hola, Marx!\n"
          ]
        }
      ],
      "source": [
        "def registrar(func):\n",
        "    def envoltorio(*args, **kwargs):\n",
        "        print(f\"Se llamó a la función: {func.__name__}\")\n",
        "        resultado = func(*args, **kwargs)\n",
        "        return resultado\n",
        "    return envoltorio\n",
        "\n",
        "@registrar\n",
        "def saludar(nombre):\n",
        "    print(f\"Hola, {nombre}!\")\n",
        "\n",
        "saludar(\"Marx\")\n",
        "# Output:\n",
        "# Se llamó a la función: saludar\n",
        "# Hola, Juan!\n"
      ]
    },
    {
      "cell_type": "markdown",
      "metadata": {
        "id": "jfpbtUj2uNZw"
      },
      "source": [
        "+ `def registrar(func)`: La función toma un solo argumento func, que será la función que el decorador modificará.  \n",
        "+ `def envoltorio(*args, **kwargs)`: Dentro de `registar`, definimos una función interna llamada `envoltorio` (`wrapper`). Esta función se encargará de ejecutar la función original `func`, pero añadiendo la funcionalidad extra de registrar de ejecución. Los argumentos *args y **kwargs permiten que envoltorio acepte cualquier número y tipo de argumentos, asegurando que cualquier función pueda ser decorada por `registar`\n",
        "+ `resultado = func(*args, **kwargs)`: Aquí es donde se ejecuta la función original que estamos decorando. Los argumentos que se pasaron a `envoltorio` (a través de `*args` y `**kwargs`) se pasan directamente a `func`. El resultado de esta función se guarda en la variable resultado, para que luego pueda ser devuelto por envoltorio.\n",
        "+ `return resultado`: Finalmente, `envoltorio` devuelve el resultado de la función original. Esto asegura que cualquier código que llame a la función decorada obtenga el mismo resultado que si llamara a la función sin decorar.\n",
        "+ `return envoltorio`: La función `registrar` devuelve envoltorio. Esencialmente, cuando decoras una función con `@registrar`, lo que realmente estás haciendo es reemplazar esa función con `envoltorio`. Sin embargo, dado que `envoltorio` llama a la función original dentro de sí misma, todo funciona de manera transparente."
      ]
    },
    {
      "cell_type": "markdown",
      "metadata": {
        "id": "-1qClmd0uNZw"
      },
      "source": [
        "## Medir tiempo de ejecucion"
      ]
    },
    {
      "cell_type": "code",
      "execution_count": 33,
      "metadata": {
        "colab": {
          "base_uri": "https://localhost:8080/"
        },
        "id": "wpf1FeDxuNZw",
        "outputId": "641e722f-f5fe-46bd-e388-0598250f58dc"
      },
      "outputs": [
        {
          "output_type": "stream",
          "name": "stdout",
          "text": [
            "esperar tardó 2.0021159648895264 segundos en ejecutarse.\n"
          ]
        }
      ],
      "source": [
        "import time\n",
        "\n",
        "def medir_tiempo(func):\n",
        "    def envoltorio(*args, **kwargs):\n",
        "        inicio = time.time()\n",
        "        resultado = func(*args, **kwargs)\n",
        "        fin = time.time()\n",
        "        print(f\"{func.__name__} tardó {fin - inicio} segundos en ejecutarse.\")\n",
        "        return resultado\n",
        "    return envoltorio\n",
        "\n",
        "@medir_tiempo\n",
        "def esperar(segundos):\n",
        "    time.sleep(segundos)\n",
        "\n",
        "esperar(2)\n"
      ]
    },
    {
      "cell_type": "markdown",
      "metadata": {
        "id": "bvo_ZHoJuNZx"
      },
      "source": [
        "## Decorador como clase"
      ]
    },
    {
      "cell_type": "markdown",
      "metadata": {
        "id": "-t9je1ZLuNZx"
      },
      "source": [
        "Cuando utilizamos decoradores en los métodos de una clase, la mecánica de cómo funciona la decoración cambia un poco. En lugar de simplemente devolver un método envuelto, estamos tratando con una instancia de una clase (el decorador) que intenta comportarse como una función. Para que esto funcione, necesitamos modificar la estructura del decorador."
      ]
    },
    {
      "cell_type": "markdown",
      "metadata": {
        "id": "7f0X50L3uNZx"
      },
      "source": [
        "Una solución es implementar la instancia del decorador como un descriptor, que define un método `__get__`. Este método permite que una instancia de una clase se comporte de manera especial cuando se accede a ella como un atributo."
      ]
    },
    {
      "cell_type": "markdown",
      "metadata": {
        "id": "pEaDrEMguNZx"
      },
      "source": [
        "El método `__get__` se utiliza para definir el comportamiento cuando se accede a un atributo. Si un objeto define __get__, se dice que es un \"descriptor de acceso\"."
      ]
    },
    {
      "cell_type": "markdown",
      "metadata": {
        "id": "o3gtWwAJuNZx"
      },
      "source": [
        "__get__(self, instance, owner)\n",
        "\n",
        "    self: La instancia del descriptor.\n",
        "    instance: La instancia del objeto que contiene el descriptor. Si el descriptor se accede desde la clase y no desde una instancia de la clase, este argumento será None.\n",
        "    owner: La clase que posee (o contiene) el descriptor.\n",
        "\n",
        "Un uso común de __get__ es para calcular valores derivados de otros atributos o para implementar propiedades que se calculan dinámicamente."
      ]
    },
    {
      "cell_type": "code",
      "execution_count": 34,
      "metadata": {
        "colab": {
          "base_uri": "https://localhost:8080/"
        },
        "id": "4UTLC1rLuNZx",
        "outputId": "1c880423-f5da-457d-ddf2-e48ee20f379c"
      },
      "outputs": [
        {
          "output_type": "stream",
          "name": "stdout",
          "text": [
            "Mi nombre es ROBIN\n"
          ]
        }
      ],
      "source": [
        "class CapitalizarNombre:\n",
        "    def __init__(self, func):\n",
        "        self.func = func\n",
        "\n",
        "    def __get__(self, instance, owner):\n",
        "        # Esto convierte la instancia del decorador en un método ligado\n",
        "        def wrapper(*args, **kwargs):\n",
        "            instance.nombre = instance.nombre.upper()\n",
        "            return self.func(instance, *args, **kwargs)\n",
        "        return wrapper\n",
        "\n",
        "class Persona:\n",
        "    def __init__(self, nombre):\n",
        "        self.nombre = nombre\n",
        "\n",
        "    @CapitalizarNombre\n",
        "    def mostrar(self):\n",
        "        print(f\"Mi nombre es {self.nombre}\")\n",
        "\n",
        "p = Persona(\"Robin\")\n",
        "p.mostrar()\n",
        "# Output:\n",
        "# Mi nombre es ROBIN\n"
      ]
    },
    {
      "cell_type": "markdown",
      "metadata": {
        "id": "B9rx9-lyuNZy"
      },
      "source": [
        "## Decoradores de clases"
      ]
    },
    {
      "cell_type": "markdown",
      "metadata": {
        "id": "yTVtxy51uNZy"
      },
      "source": [
        "### @staticmethod"
      ]
    },
    {
      "cell_type": "markdown",
      "metadata": {
        "id": "u-3me8kCuNZy"
      },
      "source": [
        "Se utiliza para definir un método estático dentro de una clase. Los métodos estáticos no toman un argumento `self` y no pueden modificar el estado del objeto, pero pueden acceder a los atributos de clase."
      ]
    },
    {
      "cell_type": "code",
      "execution_count": 35,
      "metadata": {
        "colab": {
          "base_uri": "https://localhost:8080/"
        },
        "id": "WYbkBsDluNZy",
        "outputId": "094b115c-8451-4b8e-e4d9-a49b720361e8"
      },
      "outputs": [
        {
          "output_type": "stream",
          "name": "stdout",
          "text": [
            "valor de atributo de clase\n"
          ]
        }
      ],
      "source": [
        "class Ejemplo:\n",
        "    atributo_clase = \"valor de atributo de clase\"\n",
        "\n",
        "    @staticmethod\n",
        "    def metodo_estatico():\n",
        "        print(Ejemplo.atributo_clase)\n",
        "\n",
        "Ejemplo.metodo_estatico()  # Salida: atributo de clase\n"
      ]
    },
    {
      "cell_type": "markdown",
      "metadata": {
        "id": "TpegKUNHuNZy"
      },
      "source": [
        "### @classmethod"
      ]
    },
    {
      "cell_type": "markdown",
      "metadata": {
        "id": "CpVvmIPEuNZy"
      },
      "source": [
        "Se utiliza para definir un método de clase. Toma un argumento, generalmente llamado `cls`, **que hace referencia a la clase, no a la instancia del objeto**."
      ]
    },
    {
      "cell_type": "code",
      "execution_count": 36,
      "metadata": {
        "colab": {
          "base_uri": "https://localhost:8080/"
        },
        "id": "zI-6Y0tvuNZy",
        "outputId": "8256e57c-b472-45d9-a51b-5efc366bd39d"
      },
      "outputs": [
        {
          "output_type": "stream",
          "name": "stdout",
          "text": [
            "valor de atributo de clase\n"
          ]
        }
      ],
      "source": [
        "class Ejemplo:\n",
        "    atributo_clase = \"valor de atributo de clase\" # atributo de la clase\n",
        "\n",
        "    @classmethod\n",
        "    def metodo_clase(cls):\n",
        "        print(cls.atributo_clase)\n",
        "\n",
        "Ejemplo.metodo_clase()  # Salida: atributo de clase\n"
      ]
    },
    {
      "cell_type": "markdown",
      "metadata": {
        "id": "WNY5t_BMuNZz"
      },
      "source": [
        "### @property"
      ]
    },
    {
      "cell_type": "markdown",
      "metadata": {
        "id": "LtGEBzILuNZz"
      },
      "source": [
        "Permite acceder a un método como si fuera un atributo, sin necesidad de llamarlo como una función. Es útil para definir getters en clases."
      ]
    },
    {
      "cell_type": "code",
      "execution_count": 37,
      "metadata": {
        "colab": {
          "base_uri": "https://localhost:8080/"
        },
        "id": "8ughS2t_uNZz",
        "outputId": "2d34896b-781b-40aa-e038-fad61855f287"
      },
      "outputs": [
        {
          "output_type": "stream",
          "name": "stdout",
          "text": [
            "Monkey D. Luffy\n"
          ]
        }
      ],
      "source": [
        "class Persona:\n",
        "    def __init__(self, nombre, apellido):\n",
        "        self._nombre = nombre\n",
        "        self._apellido = apellido\n",
        "\n",
        "    @property\n",
        "    def nombre_completo(self):\n",
        "        return f\"{self._nombre} {self._apellido}\"\n",
        "\n",
        "persona = Persona(\"Monkey\", \"D. Luffy\")\n",
        "print(persona.nombre_completo)  # Salida: Juan Pérez\n"
      ]
    },
    {
      "cell_type": "markdown",
      "metadata": {
        "id": "K1UuNT4ruNZz"
      },
      "source": [
        "### @setter"
      ]
    },
    {
      "cell_type": "markdown",
      "metadata": {
        "id": "9NoGOp-duNZz"
      },
      "source": [
        "**Tarea**:\n",
        "    Explica detalladamente como funciona el siguiente snippet de codigo"
      ]
    },
    {
      "cell_type": "code",
      "execution_count": 38,
      "metadata": {
        "colab": {
          "base_uri": "https://localhost:8080/"
        },
        "id": "ibJKkciquNZz",
        "outputId": "eeb0612b-f3d0-44ae-a64c-2c5d2a621187"
      },
      "outputs": [
        {
          "output_type": "stream",
          "name": "stdout",
          "text": [
            "Shinji\n",
            "Ikari\n"
          ]
        }
      ],
      "source": [
        "class Persona:\n",
        "    def __init__(self, nombre, apellido):\n",
        "        self._nombre = nombre\n",
        "        self._apellido = apellido\n",
        "\n",
        "    @property\n",
        "    def nombre_completo(self):\n",
        "        return f\"{self._nombre} {self._apellido}\"\n",
        "\n",
        "    @nombre_completo.setter\n",
        "    def nombre_completo(self, nombre_completo):\n",
        "        self._nombre, self._apellido = nombre_completo.split(\" \")\n",
        "\n",
        "persona = Persona(\"J\", \"Mokoto\")\n",
        "persona.nombre_completo = \"Shinji Ikari\"\n",
        "print(persona._nombre)  # Salida: Ana\n",
        "print(persona._apellido)  # Salida: Rodríguez\n"
      ]
    },
    {
      "cell_type": "markdown",
      "metadata": {
        "id": "5z5zD2suuNZ0"
      },
      "source": [
        "Responde la tarea aqui:"
      ]
    },
    {
      "cell_type": "markdown",
      "metadata": {
        "id": "k-Iv00c0uNZ0"
      },
      "source": [
        "# Archivos"
      ]
    },
    {
      "cell_type": "markdown",
      "metadata": {
        "id": "TFUlpOMDuNZ0"
      },
      "source": [
        "## with"
      ]
    },
    {
      "cell_type": "markdown",
      "metadata": {
        "id": "ZK_1qYCsuNZ0"
      },
      "source": [
        "El bloque with en Python es usado para simplificar la gestión de recursos, como archivos, conexiones de red, o bases de datos. Se utiliza en conjunto con objetos que soportan el protocolo de contexto, es decir, objetos que definen los métodos `__enter__()` y `__exit__()`. El propósito principal es asegurarse de que los recursos se limpien o se liberen correctamente, incluso si ocurren excepciones."
      ]
    },
    {
      "cell_type": "code",
      "execution_count": 39,
      "metadata": {
        "colab": {
          "base_uri": "https://localhost:8080/"
        },
        "id": "GlMiKc2ouNZ0",
        "outputId": "ae073d3b-0e98-4805-8c8a-85909a1709f8"
      },
      "outputs": [
        {
          "output_type": "stream",
          "name": "stdout",
          "text": [
            "Entrando al bloque with...\n",
            "¡Hola desde EjemploWith!\n",
            "Saliendo del bloque with...\n",
            "Fuera del bloque with.\n"
          ]
        }
      ],
      "source": [
        "class EjemploWith:\n",
        "\n",
        "    def __enter__(self):\n",
        "        print(\"Entrando al bloque with...\")\n",
        "        return self  # Este valor es asignado a la variable después de 'as'\n",
        "\n",
        "    def __exit__(self, exc_type, exc_value, traceback):\n",
        "        print(\"Saliendo del bloque with...\")\n",
        "        # Si retorna True, cualquier excepción que ocurra en el bloque with será suprimida.\n",
        "        # Si retorna False, la excepción se propagará.\n",
        "        return False\n",
        "\n",
        "    def decir_hola(self):\n",
        "        print(\"¡Hola desde EjemploWith!\")\n",
        "\n",
        "# Usar nuestra clase con 'with'\n",
        "with EjemploWith() as ejemplo:\n",
        "    ejemplo.decir_hola()\n",
        "\n",
        "print(\"Fuera del bloque with.\")\n"
      ]
    },
    {
      "cell_type": "markdown",
      "metadata": {
        "id": "WMoqgnljuNZ1"
      },
      "source": [
        "## Crear y escribir en un archivo de texto:"
      ]
    },
    {
      "cell_type": "markdown",
      "metadata": {
        "id": "9rBFV2TTuNZ1"
      },
      "source": [
        "El modo 'w' indica que el archivo se debe abrir en modo de escritura.  \n",
        "Si el archivo ya existe, su contenido se sobrescribirá. Si no existe, se creará."
      ]
    },
    {
      "cell_type": "code",
      "execution_count": 49,
      "metadata": {
        "id": "xTyPNP3FuNZ1"
      },
      "outputs": [],
      "source": [
        "# Crear (o abrir si ya existe) un archivo llamado 'mi_archivo.txt' y escribir en él\n",
        "with open('mi_archivo.txt', 'w') as file:\n",
        "    file.write(\"Hola, mundo!\\n\")   # Escribe la primera línea\n",
        "    file.write(\"Bienvenido a mi archivo de texto.\\n\")  # Escribe la segunda línea\n",
        "    file.write(\"¡Hasta luego!\\n\")  # Escribe la tercera línea"
      ]
    },
    {
      "cell_type": "code",
      "execution_count": 50,
      "metadata": {
        "colab": {
          "base_uri": "https://localhost:8080/"
        },
        "id": "IBY1hKpbuNZ1",
        "outputId": "a163b2ca-211e-4590-9e5c-991ccd7ec2e8"
      },
      "outputs": [
        {
          "output_type": "stream",
          "name": "stdout",
          "text": [
            "<_io.TextIOWrapper name='mi_archivo.txt' mode='w' encoding='UTF-8'>\n"
          ]
        }
      ],
      "source": [
        "with open('mi_archivo.txt', 'w') as file:\n",
        "    print(file)"
      ]
    },
    {
      "cell_type": "markdown",
      "metadata": {
        "id": "VBbE3O82uNZ1"
      },
      "source": [
        "## Leer de un archivo de texto:"
      ]
    },
    {
      "cell_type": "markdown",
      "metadata": {
        "id": "LZALCscPuNZ1"
      },
      "source": [
        "El modo 'r' indica que el archivo se debe abrir en modo de lectura. Es el modo por defecto, así que también puedes omitirlo `open('mi_archivo.txt')` haría lo mismo."
      ]
    },
    {
      "cell_type": "code",
      "execution_count": 51,
      "metadata": {
        "colab": {
          "base_uri": "https://localhost:8080/"
        },
        "id": "xLQ6RqppuNZ2",
        "outputId": "3df6258b-6439-4e44-9e2a-684692fdb5f9"
      },
      "outputs": [
        {
          "output_type": "stream",
          "name": "stdout",
          "text": [
            "\n"
          ]
        }
      ],
      "source": [
        "# Leer el contenido de 'mi_archivo.txt'\n",
        "with open('mi_archivo.txt', 'r') as file:\n",
        "    contenido = file.read()\n",
        "    print(contenido)"
      ]
    },
    {
      "cell_type": "markdown",
      "metadata": {
        "id": "amLNLJ3GuNZ2"
      },
      "source": [
        "Si quieres leer el archivo línea por línea, puedes hacerlo de la siguiente manera:"
      ]
    },
    {
      "cell_type": "code",
      "execution_count": 52,
      "metadata": {
        "id": "AZDMyR-xuNZ2"
      },
      "outputs": [],
      "source": [
        "with open('mi_archivo.txt', 'r') as file:\n",
        "    for linea in file:\n",
        "        print(linea, end='')  # end='' evita las líneas en blanco adicionales al imprimir"
      ]
    },
    {
      "cell_type": "markdown",
      "metadata": {
        "id": "4ypoEBzRuNZ2"
      },
      "source": [
        "## Agregar contenido"
      ]
    },
    {
      "cell_type": "markdown",
      "metadata": {
        "id": "oxdcasOjuNZ2"
      },
      "source": [
        "El modo `a` coloca el cursor al final del archivo antes de escribir, por lo que todo lo que escribas se añadirá después del contenido existente. Si el archivo no existe, se creará."
      ]
    },
    {
      "cell_type": "code",
      "execution_count": 53,
      "metadata": {
        "colab": {
          "base_uri": "https://localhost:8080/"
        },
        "id": "Lsk1dvGduNZ2",
        "outputId": "70337c08-9fdd-4bb5-f115-8b223cf411da"
      },
      "outputs": [
        {
          "output_type": "stream",
          "name": "stdout",
          "text": [
            "Esta es una línea adicional.\n",
            "Y esta es otra línea adicional.\n",
            "\n"
          ]
        }
      ],
      "source": [
        "with open('mi_archivo.txt', 'a') as file:\n",
        "    file.write(\"Esta es una línea adicional.\\n\")\n",
        "    file.write(\"Y esta es otra línea adicional.\\n\")\n",
        "\n",
        "# Leer el contenido de 'mi_archivo.txt'\n",
        "with open('mi_archivo.txt', 'r') as file:\n",
        "    contenido = file.read()\n",
        "    print(contenido)\n"
      ]
    }
  ],
  "metadata": {
    "kernelspec": {
      "display_name": "itam",
      "language": "python",
      "name": "python3"
    },
    "language_info": {
      "codemirror_mode": {
        "name": "ipython",
        "version": 3
      },
      "file_extension": ".py",
      "mimetype": "text/x-python",
      "name": "python",
      "nbconvert_exporter": "python",
      "pygments_lexer": "ipython3",
      "version": "3.10.12"
    },
    "orig_nbformat": 4,
    "colab": {
      "provenance": []
    }
  },
  "nbformat": 4,
  "nbformat_minor": 0
}