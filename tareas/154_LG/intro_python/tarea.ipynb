{
  "cells": [
    {
      "cell_type": "markdown",
      "metadata": {
        "id": "I2wAQT9lwo1-"
      },
      "source": [
        "Antes de hacer algo asegurate de hacer pull del repo de la clase, crear un nuevo branch, copiar esta carpeta a tu carepta de tareas y trabajar sobre ella.  \n",
        "Cuando acabes has git add, commit y pull request a los archivos que modificaste.  \n",
        "Valor de la tarea es de 20 puntos y se entrega el siguiente lunes por la mannana."
      ]
    },
    {
      "cell_type": "markdown",
      "metadata": {
        "id": "IxeTRMNDwo2A"
      },
      "source": [
        "Hay un requirement.txt que puedes utilizar."
      ]
    },
    {
      "cell_type": "markdown",
      "metadata": {
        "id": "-hTzSb8Swo2A"
      },
      "source": [
        "# Tarea: Registro de Actividades con Decoradores y Clases\n",
        "\n"
      ]
    },
    {
      "cell_type": "markdown",
      "metadata": {
        "id": "Y5TtDnLGwo2A"
      },
      "source": [
        "Objetivo: Crear un sistema que registre las actividades de una clase Usuario en un archivo de texto."
      ]
    },
    {
      "cell_type": "markdown",
      "metadata": {
        "id": "RKS3XOhrwo2B"
      },
      "source": [
        "## Instrucciones:\n",
        "\n"
      ]
    },
    {
      "cell_type": "markdown",
      "metadata": {
        "id": "03BlBrgKwo2B"
      },
      "source": [
        "Define un decorador llamado `registrar_actividad` que, cuando se aplique a un método, registre la actividad en un archivo llamado `registro.txt`. La actividad debe tener el formato: \"`[FECHA Y HORA]` - Se ejecutó el método `[NOMBRE DEL MÉTODO]` con los argumentos: `[ARGUMENTOS]`\".\n",
        "\n",
        "Crea una clase llamada Usuario con los siguientes métodos:\n",
        "        `crear(nombre, apellido)`: establece el nombre y apellido del usuario.\n",
        "        `obtener_info()`: devuelve el nombre y apellido del usuario.\n",
        "        `modificar(nombre, apellido)`: modifica el nombre y apellido del usuario.\n",
        "\n",
        "Asegúrate de aplicar el decorador `registrar_actividad` a estos métodos.\n",
        "\n",
        "Implementa la lógica para registrar la actividad utilizando el contexto with para manejar el archivo `registro.txt`."
      ]
    },
    {
      "cell_type": "markdown",
      "metadata": {
        "id": "gxswDtK1wo2B"
      },
      "source": [
        "Ejemplo de uso:"
      ]
    },
    {
      "cell_type": "markdown",
      "metadata": {
        "id": "mi20SOPmwo2B"
      },
      "source": [
        "```usuario = Usuario()\n",
        "usuario.crear(\"Ms\", \"Kobayashi\")\n",
        "info = usuario.obtener_info()\n",
        "usuario.modificar(\"Tohru\", \"Kobayashi\")\n",
        "```"
      ]
    },
    {
      "cell_type": "markdown",
      "metadata": {
        "id": "-HzBAn5Jwo2B"
      },
      "source": [
        "```\n",
        "[2023-10-05 10:10:10] - Se ejecutó el método crear con los argumentos: ('Ms', 'Kobayashi')\n",
        "[2023-10-05 10:10:15] - Se ejecutó el método obtener_info con los argumentos: ()\n",
        "[2023-10-05 10:10:20] - Se ejecutó el método modificar con los argumentos: ('Tohru', 'Kobayashi')\n",
        "```\n"
      ]
    },
    {
      "cell_type": "markdown",
      "metadata": {
        "id": "pKIrpshMwo2C"
      },
      "source": [
        "Sugerencias"
      ]
    },
    {
      "cell_type": "markdown",
      "metadata": {
        "id": "DgsVvIzHwo2C"
      },
      "source": [
        "Sugerencias:\n",
        "\n",
        "    Utiliza el módulo datetime para obtener la fecha y hora actual cuando registres una actividad.\n",
        "    En el decorador, usa func.__name__ para obtener el nombre del método que estás registrando."
      ]
    },
    {
      "cell_type": "markdown",
      "metadata": {
        "id": "wBATipIbwo2C"
      },
      "source": [
        "## Codigo"
      ]
    },
    {
      "cell_type": "code",
      "execution_count": 1,
      "metadata": {
        "id": "LfxoCp_Hwo2C"
      },
      "outputs": [],
      "source": [
        "import datetime\n",
        "def registrar_actividad(func):\n",
        "    def envoltorio(*args, **kwargs):\n",
        "        now = datetime.datetime.now()\n",
        "        now = now.strftime(\"[%Y-%m-%d %H:%M:%S]\")\n",
        "        with open('registro.txt', 'a') as file:\n",
        "            file.write(f\"{now} - Se ejecutó el método {func.__name__} con los argumentos {args[1:]}\\n\")\n",
        "        return func(*args,**kwargs)\n",
        "    return envoltorio\n",
        "\n",
        "class Usuario:\n",
        "    def __init__(self):\n",
        "        self._nombre = None\n",
        "        self._apellido = None\n",
        "\n",
        "    @registrar_actividad\n",
        "    def crear(self, nombre, apellido):\n",
        "        self._nombre = nombre\n",
        "        self._apellido = apellido\n",
        "\n",
        "    @registrar_actividad\n",
        "    def obtener_info(self):\n",
        "        print(f\"Nombre: {self._nombre}, Apellido: {self._apellido}\")\n",
        "\n",
        "    @registrar_actividad\n",
        "    def modificar(self, nombre, apellido):\n",
        "        self._nombre = nombre\n",
        "        self._apellido = apellido"
      ]
    },
    {
      "cell_type": "code",
      "execution_count": 2,
      "metadata": {
        "colab": {
          "base_uri": "https://localhost:8080/"
        },
        "id": "_hYgwpgowo2D",
        "outputId": "5130e297-461f-43ce-b88e-ff60ad408fe9"
      },
      "outputs": [
        {
          "output_type": "stream",
          "name": "stdout",
          "text": [
            "Nombre: Ms, Apellido: Kobayashi\n"
          ]
        }
      ],
      "source": [
        "usuario = Usuario()\n",
        "usuario.crear(\"Ms\", \"Kobayashi\")\n",
        "info = usuario.obtener_info()\n",
        "usuario.modificar(\"Tohru\", \"Kobayashi\")"
      ]
    },
    {
      "cell_type": "markdown",
      "metadata": {
        "id": "40R18190wo2D"
      },
      "source": [
        "# Tarea: Evaluación de Tiempos de Ejecución"
      ]
    },
    {
      "cell_type": "markdown",
      "metadata": {
        "id": "Z9GupRx7wo2D"
      },
      "source": [
        "Objetivo: Utilizar un decorador para medir y registrar los tiempos de ejecución de diversas operaciones en Python, y guardar los resultados en un archivo llamado tiempos.txt."
      ]
    },
    {
      "cell_type": "markdown",
      "metadata": {
        "id": "jhKJZicawo2D"
      },
      "source": [
        "## Instrucciones"
      ]
    },
    {
      "cell_type": "markdown",
      "metadata": {
        "id": "sCzkWIjzwo2D"
      },
      "source": [
        "Define un decorador llamado medir_tiempo que registre el tiempo que tarda en ejecutarse la función decorada. El decorador debe escribir el tiempo de ejecución, junto con el nombre de la función, y el tamano del arreglo, en el archivo tiempos.txt, **separados por comas**. Basicamente un `csv` donde se guarden los tiempos de ejecucion.  \n",
        "\n",
        "La primera linea del archivo debe de representar el nombre de las columnas, las siguientes lineas representan las observaciones:\n",
        "`funcion,n,tiempo`."
      ]
    },
    {
      "cell_type": "markdown",
      "metadata": {
        "id": "XMjWmUp8wo2D"
      },
      "source": [
        "Ejecuta las funciones con diferentes valores de n = [10, 1000, 10000, 100000, 1000000, 5000000] para generar datos en tiempos.txt.  \n",
        "Corre cada funcion al menos unas 5 veces para cada tamanno del arreglo. Asegurate de no sobreescribir el archivo txt para que no se elimine la ejecucion."
      ]
    },
    {
      "cell_type": "markdown",
      "metadata": {
        "id": "tZNPDq1Jwo2D"
      },
      "source": [
        "## Ejemplo de Uso"
      ]
    },
    {
      "cell_type": "markdown",
      "metadata": {
        "id": "nnjiu-6ewo2E"
      },
      "source": [
        "```\n",
        "iterar_lista(10000)\n",
        "iterar_tupla(10000)\n",
        "iterar_objeto(10000)\n",
        "usar_yield(10000)\n",
        "\n",
        "```"
      ]
    },
    {
      "cell_type": "markdown",
      "metadata": {
        "id": "xJGBcHLLwo2E"
      },
      "source": [
        "```\n",
        "[2023-10-05 10:10:10] - La función iterar_lista tardó 0.00123 segundos con n=10000\n",
        "[2023-10-05 10:10:11] - La función iterar_tupla tardó 0.00120 segundos con n=10000\n",
        "[2023-10-05 10:10:12] - La función iterar_objeto tardó 0.00543 segundos con n=10000\n",
        "[2023-10-05 10:10:13] - La función usar_yield tardó 0.00093 segundos con n=10000\n",
        "\n",
        "```"
      ]
    },
    {
      "cell_type": "markdown",
      "metadata": {
        "id": "mbwQfJHnwo2E"
      },
      "source": [
        "```\n",
        "tiempos.txt:\n",
        "funcion,n,tiempo,\n",
        "asd,1000,10\n",
        "```"
      ]
    },
    {
      "cell_type": "markdown",
      "metadata": {
        "id": "G20OfQ9awo2E"
      },
      "source": [
        "## Codigo"
      ]
    },
    {
      "cell_type": "code",
      "execution_count": 5,
      "metadata": {
        "id": "Lx13-0z8wo2E"
      },
      "outputs": [],
      "source": [
        "import time\n",
        "import datetime\n",
        "import numpy as np\n",
        "import pandas as pd\n",
        "import polars as pl\n",
        "\n",
        "def medir_tiempo(func):\n",
        "    def envoltorio(*args, **kwargs):\n",
        "        inicio = time.time()\n",
        "        func(*args, **kwargs)\n",
        "        fin = time.time()\n",
        "        cosas = args[0]\n",
        "        with open('tiempos.txt', 'a') as archivo:\n",
        "            archivo.write(f\"{func.__name__}, {fin - inicio}, {cosas}\\n\")\n",
        "        return None\n",
        "    return envoltorio\n",
        "\n",
        "\n",
        "@medir_tiempo\n",
        "def sumar_lista(n):\n",
        "    lista = [i for i in range(n)]\n",
        "    return sum(lista)\n",
        "\n",
        "@medir_tiempo\n",
        "def sumar_tupla(n):\n",
        "    tupla = tuple(i for i in range(n))\n",
        "    return sum(tupla)\n",
        "\n",
        "@medir_tiempo\n",
        "def sumar_objeto(n):\n",
        "    class ClaseEjemplo:\n",
        "        def __init__(self, numero):\n",
        "            self.numero = numero\n",
        "\n",
        "    objetos = [ClaseEjemplo(i) for i in range(n)]\n",
        "    return sum(obj.numero for obj in objetos)\n",
        "\n",
        "@medir_tiempo\n",
        "def sumar_usando_yield(n):\n",
        "    def generador():\n",
        "        for i in range(n):\n",
        "            yield i\n",
        "\n",
        "    return sum(generador())\n",
        "\n",
        "@medir_tiempo\n",
        "def sumar_conjunto(n):\n",
        "    conjunto = set(range(n))\n",
        "    return sum(conjunto)\n",
        "\n",
        "@medir_tiempo\n",
        "def sumar_valores_diccionario(n):\n",
        "    diccionario = {i: i for i in range(n)}\n",
        "    return sum(diccionario.values())\n",
        "\n",
        "@medir_tiempo\n",
        "def sumar_numpy_array(n):\n",
        "    array = np.arange(n)\n",
        "    return np.sum(array)\n",
        "\n",
        "@medir_tiempo\n",
        "def sumar_pandas_series(n):\n",
        "    serie = pd.Series(range(n))\n",
        "    return serie.sum()\n",
        "\n",
        "@medir_tiempo\n",
        "def sumar_polars_series(n):\n",
        "    serie = pl.Series(\"valores\", list(range(n)))\n",
        "    return serie.sum()"
      ]
    },
    {
      "cell_type": "code",
      "execution_count": 6,
      "metadata": {
        "id": "c7am7i80wo2F"
      },
      "outputs": [],
      "source": [
        "for i in range(0,5):\n",
        "    for n in [10, 1000, 10000, 100000, 1000000, 5000000]:\n",
        "        sumar_lista(n)\n",
        "        sumar_tupla(n)\n",
        "        sumar_objeto(n)\n",
        "        sumar_usando_yield(n)\n",
        "        sumar_conjunto(n)\n",
        "        sumar_valores_diccionario(n)\n",
        "        sumar_numpy_array(n)\n",
        "        sumar_pandas_series(n)\n",
        "        sumar_polars_series(n)"
      ]
    },
    {
      "cell_type": "markdown",
      "metadata": {
        "id": "M6YRxYhlwo2F"
      },
      "source": [
        "# Tarea Yield"
      ]
    },
    {
      "cell_type": "markdown",
      "metadata": {
        "id": "Ck0GxvQ-wo2F"
      },
      "source": [
        "Investiga y explica en tus propias palabras que es un iterador y un el objeto `yield`"
      ]
    },
    {
      "cell_type": "markdown",
      "metadata": {
        "id": "ky97RCUiwo2F"
      },
      "source": [
        "Explicacion:"
      ]
    },
    {
      "cell_type": "markdown",
      "source": [
        "Un iterador es una herramienta que permite atravesar una colección de elementos, como listas, conjuntos o tuplas. El propósito de un iterador es realizar una operación repetida sobre una serie limitada de elementos en una estructura.\n",
        "\n",
        "En Python, la palabra clave 'yield' se emplea en una función especial conocida como generador. Un generador es un método eficiente para crear un iterador. Al utilizar 'yield' en una función, se produce un valor que la función almacena temporalmente, y la ejecución se reanuda desde ese punto en la próxima llamada a la función."
      ],
      "metadata": {
        "id": "aL8dYEKZymv4"
      }
    }
  ],
  "metadata": {
    "kernelspec": {
      "display_name": "itam",
      "language": "python",
      "name": "python3"
    },
    "language_info": {
      "name": "python",
      "version": "3.10.9"
    },
    "orig_nbformat": 4,
    "colab": {
      "provenance": []
    }
  },
  "nbformat": 4,
  "nbformat_minor": 0
}