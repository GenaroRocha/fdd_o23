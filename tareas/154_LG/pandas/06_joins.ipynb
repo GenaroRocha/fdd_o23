{
  "cells": [
    {
      "cell_type": "code",
      "execution_count": 1,
      "metadata": {
        "id": "I_-DMwVj6WV2"
      },
      "outputs": [],
      "source": [
        "import pandas as pd\n",
        "import numpy as np"
      ]
    },
    {
      "cell_type": "markdown",
      "metadata": {
        "id": "nHke20236WV4"
      },
      "source": [
        "En este ejemplo, estamos creando dos DataFrames (df1 y df2) con datos similares a tablas de SQL. El DataFrame df1 tiene cuatro filas y dos columnas (key y value), mientras que el DataFrame df2 tiene cuatro filas y dos columnas (key y value)."
      ]
    },
    {
      "cell_type": "code",
      "execution_count": 2,
      "metadata": {
        "colab": {
          "base_uri": "https://localhost:8080/"
        },
        "id": "KDdcQ6U96WV5",
        "outputId": "16a651df-be85-4af1-e8dd-7bc3d99c1c69"
      },
      "outputs": [
        {
          "output_type": "stream",
          "name": "stdout",
          "text": [
            "df1:\n",
            "  key  value\n",
            "0   A      1\n",
            "1   B      2\n",
            "2   C      3\n",
            "3   D      4\n",
            "df2:\n",
            "  key  value\n",
            "0   B      5\n",
            "1   D      6\n",
            "2   E      7\n",
            "3   F      8\n"
          ]
        }
      ],
      "source": [
        "# Crear dos DataFrames con datos similares a tablas de SQL\n",
        "df1 = pd.DataFrame({\n",
        "    'key': ['A', 'B', 'C', 'D'],\n",
        "    'value': [1, 2, 3, 4]\n",
        "})\n",
        "\n",
        "df2 = pd.DataFrame({\n",
        "    'key': ['B', 'D', 'E', 'F'],\n",
        "    'value': [5, 6, 7, 8]\n",
        "})\n",
        "\n",
        "# Mostrar los dos DataFrames\n",
        "print('df1:')\n",
        "print(df1)\n",
        "print('df2:')\n",
        "print(df2)\n"
      ]
    },
    {
      "cell_type": "markdown",
      "metadata": {
        "id": "S2SiAAz26WV6"
      },
      "source": [
        "Inner join: se obtienen solamente las filas que tienen una clave común en ambos DataFrames."
      ]
    },
    {
      "cell_type": "code",
      "execution_count": 3,
      "metadata": {
        "colab": {
          "base_uri": "https://localhost:8080/"
        },
        "id": "5xnWkkrd6WV7",
        "outputId": "e01ac206-afe6-4ece-9609-5c8a27e8dd7f"
      },
      "outputs": [
        {
          "output_type": "stream",
          "name": "stdout",
          "text": [
            "Inner Join:\n",
            "  key  value_x  value_y\n",
            "0   B        2        5\n",
            "1   D        4        6\n"
          ]
        }
      ],
      "source": [
        "# Realizar un inner join\n",
        "inner_join = pd.merge(df1, df2, on='key', how='inner')\n",
        "print('Inner Join:')\n",
        "print(inner_join)"
      ]
    },
    {
      "cell_type": "markdown",
      "metadata": {
        "id": "XWcSAYkg6WV7"
      },
      "source": [
        "Left join: se obtienen todas las filas del DataFrame izquierdo (df1) y las filas del DataFrame derecho (df2) que tienen una clave común."
      ]
    },
    {
      "cell_type": "code",
      "execution_count": 4,
      "metadata": {
        "colab": {
          "base_uri": "https://localhost:8080/"
        },
        "id": "G-MkkH9H6WV8",
        "outputId": "4dd1d980-cd8b-4c0f-ad43-53b26fe0a4d6"
      },
      "outputs": [
        {
          "output_type": "stream",
          "name": "stdout",
          "text": [
            "Left Join:\n",
            "  key  value_x  value_y\n",
            "0   A        1      NaN\n",
            "1   B        2      5.0\n",
            "2   C        3      NaN\n",
            "3   D        4      6.0\n"
          ]
        }
      ],
      "source": [
        "# Realizar un left join\n",
        "left_join = pd.merge(df1, df2, on='key', how='left')\n",
        "print('Left Join:')\n",
        "print(left_join)"
      ]
    },
    {
      "cell_type": "markdown",
      "metadata": {
        "id": "GoLt3Gep6WV8"
      },
      "source": [
        "Right join: se obtienen todas las filas del DataFrame derecho (df2) y las filas del DataFrame izquierdo (df1) que tienen una clave común."
      ]
    },
    {
      "cell_type": "code",
      "execution_count": 5,
      "metadata": {
        "colab": {
          "base_uri": "https://localhost:8080/"
        },
        "id": "_DtLKchW6WV8",
        "outputId": "10f5a3f7-96cc-4f9e-81b2-1637a5a7111f"
      },
      "outputs": [
        {
          "output_type": "stream",
          "name": "stdout",
          "text": [
            "Right Join:\n",
            "  key  value_x  value_y\n",
            "0   B      2.0        5\n",
            "1   D      4.0        6\n",
            "2   E      NaN        7\n",
            "3   F      NaN        8\n"
          ]
        }
      ],
      "source": [
        "# Realizar un right join\n",
        "right_join = pd.merge(df1, df2, on='key', how='right')\n",
        "print('Right Join:')\n",
        "print(right_join)"
      ]
    },
    {
      "cell_type": "markdown",
      "metadata": {
        "id": "RA2ZVqh-6WV9"
      },
      "source": [
        "Outer join: se obtienen todas las filas de ambos DataFrames, y se rellenan los valores faltantes con NaN si una fila no tiene una clave común en el otro DataFrame."
      ]
    },
    {
      "cell_type": "code",
      "execution_count": 6,
      "metadata": {
        "colab": {
          "base_uri": "https://localhost:8080/"
        },
        "id": "rhjNP4RJ6WV9",
        "outputId": "031a47d4-c82b-45b4-a997-d5920b944c57"
      },
      "outputs": [
        {
          "output_type": "stream",
          "name": "stdout",
          "text": [
            "Outer Join:\n",
            "  key  value_x  value_y\n",
            "0   A      1.0      NaN\n",
            "1   B      2.0      5.0\n",
            "2   C      3.0      NaN\n",
            "3   D      4.0      6.0\n",
            "4   E      NaN      7.0\n",
            "5   F      NaN      8.0\n"
          ]
        }
      ],
      "source": [
        "# Realizar un outer join\n",
        "outer_join = pd.merge(df1, df2, on='key', how='outer')\n",
        "print('Outer Join:')\n",
        "print(outer_join)"
      ]
    },
    {
      "cell_type": "markdown",
      "metadata": {
        "id": "GbJ7ABIv6WV-"
      },
      "source": [
        "Merge join: utilizamos el método merge() de Pandas para realizar un join en lugar de la función pd.merge()"
      ]
    },
    {
      "cell_type": "code",
      "execution_count": 7,
      "metadata": {
        "colab": {
          "base_uri": "https://localhost:8080/"
        },
        "id": "kYQNWkI66WV-",
        "outputId": "f3b5b977-a7f0-4007-b4b4-459e59a22196"
      },
      "outputs": [
        {
          "output_type": "stream",
          "name": "stdout",
          "text": [
            "Merge Join:\n",
            "  key  value_x  value_y\n",
            "0   A      1.0      NaN\n",
            "1   B      2.0      5.0\n",
            "2   C      3.0      NaN\n",
            "3   D      4.0      6.0\n",
            "4   E      NaN      7.0\n",
            "5   F      NaN      8.0\n"
          ]
        }
      ],
      "source": [
        "# Utilizar el método merge para realizar un join\n",
        "merge_join = df1.merge(df2, on='key', how='outer')\n",
        "print('Merge Join:')\n",
        "print(merge_join)"
      ]
    },
    {
      "cell_type": "markdown",
      "metadata": {
        "id": "1pBkxFGk6WV_"
      },
      "source": [
        "# Varios Datasets"
      ]
    },
    {
      "cell_type": "markdown",
      "metadata": {
        "id": "PLmk8JF26WV_"
      },
      "source": [
        "En este ejemplo, estamos creando tres DataFrames (df1, df2 y df3) con datos similares a tablas de SQL. Cada DataFrame tiene una columna de clave (key1, key2 y key3) y una columna de valor (value1, value2 y value3).\n",
        "\n",
        "Luego, estamos realizando un inner join en las columnas key1, key2 y key3 de cada DataFrame utilizando la función pd.merge() tres veces y encadenando las operaciones de join. En cada llamada a pd.merge(), especificamos las columnas de clave utilizando los parámetros left_on y right_on, y el tipo de join utilizando el parámetro how."
      ]
    },
    {
      "cell_type": "code",
      "execution_count": 8,
      "metadata": {
        "colab": {
          "base_uri": "https://localhost:8080/"
        },
        "id": "LJmGzyTm6WV_",
        "outputId": "08e42f9b-a148-431e-8e4c-f7b4e7a0a365"
      },
      "outputs": [
        {
          "output_type": "stream",
          "name": "stdout",
          "text": [
            "df1:\n",
            "  key1  value1\n",
            "0    A       1\n",
            "1    B       2\n",
            "2    C       3\n",
            "3    D       4\n",
            "df2:\n",
            "  key2  value2\n",
            "0    B       5\n",
            "1    D       6\n",
            "2    E       7\n",
            "3    F       8\n",
            "df3:\n",
            "  key3  value3\n",
            "0    C       9\n",
            "1    D      10\n",
            "2    F      11\n",
            "3    G      12\n",
            "Inner Join:\n",
            "  key1  value1 key2  value2 key3  value3\n",
            "0    D       4    D       6    D      10\n"
          ]
        }
      ],
      "source": [
        "\n",
        "# Crear tres DataFrames con datos similares a tablas de SQL\n",
        "df1 = pd.DataFrame({\n",
        "    'key1': ['A', 'B', 'C', 'D'],\n",
        "    'value1': [1, 2, 3, 4]\n",
        "})\n",
        "\n",
        "df2 = pd.DataFrame({\n",
        "    'key2': ['B', 'D', 'E', 'F'],\n",
        "    'value2': [5, 6, 7, 8]\n",
        "})\n",
        "\n",
        "df3 = pd.DataFrame({\n",
        "    'key3': ['C', 'D', 'F', 'G'],\n",
        "    'value3': [9, 10, 11, 12]\n",
        "})\n",
        "\n",
        "# Mostrar los tres DataFrames\n",
        "print('df1:')\n",
        "print(df1)\n",
        "print('df2:')\n",
        "print(df2)\n",
        "print('df3:')\n",
        "print(df3)\n",
        "\n",
        "# Realizar un inner join con tres DataFrames\n",
        "inner_join = pd.merge(pd.merge(df1, df2, left_on='key1', right_on='key2', how='inner'),\n",
        "                      df3, left_on='key2', right_on='key3', how='inner')\n",
        "\n",
        "# Mostrar el resultado del inner join\n",
        "print('Inner Join:')\n",
        "print(inner_join)\n",
        ""
      ]
    },
    {
      "cell_type": "markdown",
      "metadata": {
        "id": "d13xxAH26WWA"
      },
      "source": [
        "# Ejemplo"
      ]
    },
    {
      "cell_type": "code",
      "execution_count": 9,
      "metadata": {
        "colab": {
          "base_uri": "https://localhost:8080/"
        },
        "id": "Kf4-nSFd6WWA",
        "outputId": "ea249d36-c5b8-4aee-bce7-74ec115fff93"
      },
      "outputs": [
        {
          "output_type": "stream",
          "name": "stdout",
          "text": [
            "Students:\n",
            "   id     name  class_id\n",
            "0   1    Alice       101\n",
            "1   2      Bob       101\n",
            "2   3  Charlie       102\n",
            "3   4     Dave       103\n",
            "4   5      Eve       103\n",
            "Classes:\n",
            "    id     name\n",
            "0  101     Math\n",
            "1  102  Science\n",
            "2  103  History\n",
            "3  104  English\n",
            "Grades:\n",
            "   id  student_id  class_id  grade\n",
            "0   1           1       101     90\n",
            "1   2           2       101     85\n",
            "2   3           3       102     80\n",
            "3   4           4       103     75\n",
            "4   5           5       103     95\n",
            "5   6           1       102     87\n",
            "6   7           3       101     88\n",
            "7   8           5       103     79\n",
            "8   9           2       102     92\n",
            "9  10           4       101     83\n"
          ]
        }
      ],
      "source": [
        "\n",
        "# Crear un DataFrame de estudiantes\n",
        "students = pd.DataFrame({\n",
        "    'id': np.arange(1, 6),\n",
        "    'name': ['Alice', 'Bob', 'Charlie', 'Dave', 'Eve'],\n",
        "    'class_id': [101, 101, 102, 103, 103]\n",
        "})\n",
        "\n",
        "# Crear un DataFrame de clases\n",
        "classes = pd.DataFrame({\n",
        "    'id': [101, 102, 103, 104],\n",
        "    'name': ['Math', 'Science', 'History', 'English']\n",
        "})\n",
        "\n",
        "# Crear un DataFrame de calificaciones\n",
        "grades = pd.DataFrame({\n",
        "    'id': [1, 2, 3, 4, 5, 6, 7, 8, 9, 10],\n",
        "    'student_id': [1, 2, 3, 4, 5, 1, 3, 5, 2, 4],\n",
        "    'class_id': [101, 101, 102, 103, 103, 102, 101, 103, 102, 101],\n",
        "    'grade': [90, 85, 80, 75, 95, 87, 88, 79, 92, 83]\n",
        "})\n",
        "\n",
        "# Mostrar los DataFrames\n",
        "print('Students:')\n",
        "print(students)\n",
        "print('Classes:')\n",
        "print(classes)\n",
        "print('Grades:')\n",
        "print(grades)\n"
      ]
    },
    {
      "cell_type": "markdown",
      "metadata": {
        "id": "Lca2HU9q6WWA"
      },
      "source": [
        "# Merge de estudiantes y clases en función de class_id"
      ]
    },
    {
      "cell_type": "code",
      "execution_count": 10,
      "metadata": {
        "colab": {
          "base_uri": "https://localhost:8080/"
        },
        "id": "CmzqMtD06WWA",
        "outputId": "f18bf00b-7cde-4828-ddcd-82cdd2844dfb"
      },
      "outputs": [
        {
          "output_type": "stream",
          "name": "stdout",
          "text": [
            "Merged:\n",
            "   id_x   name_x  class_id  id_y   name_y\n",
            "0   1.0    Alice     101.0   101     Math\n",
            "1   2.0      Bob     101.0   101     Math\n",
            "2   3.0  Charlie     102.0   102  Science\n",
            "3   4.0     Dave     103.0   103  History\n",
            "4   5.0      Eve     103.0   103  History\n",
            "5   NaN      NaN       NaN   104  English\n"
          ]
        }
      ],
      "source": [
        "# Merge de estudiantes y clases en función de class_id\n",
        "merged = pd.merge(students, classes, left_on='class_id', right_on='id', how='outer')\n",
        "print('Merged:')\n",
        "print(merged)\n",
        "\n"
      ]
    },
    {
      "cell_type": "markdown",
      "metadata": {
        "id": "z4zrl52t6WWB"
      },
      "source": [
        "# Join de estudiantes y clases en función de class_id"
      ]
    },
    {
      "cell_type": "markdown",
      "metadata": {
        "id": "G9k1Q-sJ6WWB"
      },
      "source": [
        "# Inner join de estudiantes y calificaciones en función de student_id y class_id\n"
      ]
    },
    {
      "cell_type": "code",
      "execution_count": 11,
      "metadata": {
        "colab": {
          "base_uri": "https://localhost:8080/",
          "height": 224
        },
        "id": "dylCps0J6WWB",
        "outputId": "b74fd2c0-89e7-489a-f219-29b3e257d984"
      },
      "outputs": [
        {
          "output_type": "stream",
          "name": "stdout",
          "text": [
            "Inner Join:\n"
          ]
        },
        {
          "output_type": "execute_result",
          "data": {
            "text/plain": [
              "   id     name  class_id  student_id  grade\n",
              "0   1    Alice       101           1     90\n",
              "1   2      Bob       101           2     85\n",
              "2   3  Charlie       102           3     80\n",
              "3   4     Dave       103           4     75\n",
              "4   5      Eve       103           5     95"
            ],
            "text/html": [
              "\n",
              "  <div id=\"df-0dd0eded-7d44-4b63-bff2-60da386c7dd0\" class=\"colab-df-container\">\n",
              "    <div>\n",
              "<style scoped>\n",
              "    .dataframe tbody tr th:only-of-type {\n",
              "        vertical-align: middle;\n",
              "    }\n",
              "\n",
              "    .dataframe tbody tr th {\n",
              "        vertical-align: top;\n",
              "    }\n",
              "\n",
              "    .dataframe thead th {\n",
              "        text-align: right;\n",
              "    }\n",
              "</style>\n",
              "<table border=\"1\" class=\"dataframe\">\n",
              "  <thead>\n",
              "    <tr style=\"text-align: right;\">\n",
              "      <th></th>\n",
              "      <th>id</th>\n",
              "      <th>name</th>\n",
              "      <th>class_id</th>\n",
              "      <th>student_id</th>\n",
              "      <th>grade</th>\n",
              "    </tr>\n",
              "  </thead>\n",
              "  <tbody>\n",
              "    <tr>\n",
              "      <th>0</th>\n",
              "      <td>1</td>\n",
              "      <td>Alice</td>\n",
              "      <td>101</td>\n",
              "      <td>1</td>\n",
              "      <td>90</td>\n",
              "    </tr>\n",
              "    <tr>\n",
              "      <th>1</th>\n",
              "      <td>2</td>\n",
              "      <td>Bob</td>\n",
              "      <td>101</td>\n",
              "      <td>2</td>\n",
              "      <td>85</td>\n",
              "    </tr>\n",
              "    <tr>\n",
              "      <th>2</th>\n",
              "      <td>3</td>\n",
              "      <td>Charlie</td>\n",
              "      <td>102</td>\n",
              "      <td>3</td>\n",
              "      <td>80</td>\n",
              "    </tr>\n",
              "    <tr>\n",
              "      <th>3</th>\n",
              "      <td>4</td>\n",
              "      <td>Dave</td>\n",
              "      <td>103</td>\n",
              "      <td>4</td>\n",
              "      <td>75</td>\n",
              "    </tr>\n",
              "    <tr>\n",
              "      <th>4</th>\n",
              "      <td>5</td>\n",
              "      <td>Eve</td>\n",
              "      <td>103</td>\n",
              "      <td>5</td>\n",
              "      <td>95</td>\n",
              "    </tr>\n",
              "  </tbody>\n",
              "</table>\n",
              "</div>\n",
              "    <div class=\"colab-df-buttons\">\n",
              "\n",
              "  <div class=\"colab-df-container\">\n",
              "    <button class=\"colab-df-convert\" onclick=\"convertToInteractive('df-0dd0eded-7d44-4b63-bff2-60da386c7dd0')\"\n",
              "            title=\"Convert this dataframe to an interactive table.\"\n",
              "            style=\"display:none;\">\n",
              "\n",
              "  <svg xmlns=\"http://www.w3.org/2000/svg\" height=\"24px\" viewBox=\"0 -960 960 960\">\n",
              "    <path d=\"M120-120v-720h720v720H120Zm60-500h600v-160H180v160Zm220 220h160v-160H400v160Zm0 220h160v-160H400v160ZM180-400h160v-160H180v160Zm440 0h160v-160H620v160ZM180-180h160v-160H180v160Zm440 0h160v-160H620v160Z\"/>\n",
              "  </svg>\n",
              "    </button>\n",
              "\n",
              "  <style>\n",
              "    .colab-df-container {\n",
              "      display:flex;\n",
              "      gap: 12px;\n",
              "    }\n",
              "\n",
              "    .colab-df-convert {\n",
              "      background-color: #E8F0FE;\n",
              "      border: none;\n",
              "      border-radius: 50%;\n",
              "      cursor: pointer;\n",
              "      display: none;\n",
              "      fill: #1967D2;\n",
              "      height: 32px;\n",
              "      padding: 0 0 0 0;\n",
              "      width: 32px;\n",
              "    }\n",
              "\n",
              "    .colab-df-convert:hover {\n",
              "      background-color: #E2EBFA;\n",
              "      box-shadow: 0px 1px 2px rgba(60, 64, 67, 0.3), 0px 1px 3px 1px rgba(60, 64, 67, 0.15);\n",
              "      fill: #174EA6;\n",
              "    }\n",
              "\n",
              "    .colab-df-buttons div {\n",
              "      margin-bottom: 4px;\n",
              "    }\n",
              "\n",
              "    [theme=dark] .colab-df-convert {\n",
              "      background-color: #3B4455;\n",
              "      fill: #D2E3FC;\n",
              "    }\n",
              "\n",
              "    [theme=dark] .colab-df-convert:hover {\n",
              "      background-color: #434B5C;\n",
              "      box-shadow: 0px 1px 3px 1px rgba(0, 0, 0, 0.15);\n",
              "      filter: drop-shadow(0px 1px 2px rgba(0, 0, 0, 0.3));\n",
              "      fill: #FFFFFF;\n",
              "    }\n",
              "  </style>\n",
              "\n",
              "    <script>\n",
              "      const buttonEl =\n",
              "        document.querySelector('#df-0dd0eded-7d44-4b63-bff2-60da386c7dd0 button.colab-df-convert');\n",
              "      buttonEl.style.display =\n",
              "        google.colab.kernel.accessAllowed ? 'block' : 'none';\n",
              "\n",
              "      async function convertToInteractive(key) {\n",
              "        const element = document.querySelector('#df-0dd0eded-7d44-4b63-bff2-60da386c7dd0');\n",
              "        const dataTable =\n",
              "          await google.colab.kernel.invokeFunction('convertToInteractive',\n",
              "                                                    [key], {});\n",
              "        if (!dataTable) return;\n",
              "\n",
              "        const docLinkHtml = 'Like what you see? Visit the ' +\n",
              "          '<a target=\"_blank\" href=https://colab.research.google.com/notebooks/data_table.ipynb>data table notebook</a>'\n",
              "          + ' to learn more about interactive tables.';\n",
              "        element.innerHTML = '';\n",
              "        dataTable['output_type'] = 'display_data';\n",
              "        await google.colab.output.renderOutput(dataTable, element);\n",
              "        const docLink = document.createElement('div');\n",
              "        docLink.innerHTML = docLinkHtml;\n",
              "        element.appendChild(docLink);\n",
              "      }\n",
              "    </script>\n",
              "  </div>\n",
              "\n",
              "\n",
              "<div id=\"df-49e52bf9-9324-45b8-a855-49b90fc97bcd\">\n",
              "  <button class=\"colab-df-quickchart\" onclick=\"quickchart('df-49e52bf9-9324-45b8-a855-49b90fc97bcd')\"\n",
              "            title=\"Suggest charts\"\n",
              "            style=\"display:none;\">\n",
              "\n",
              "<svg xmlns=\"http://www.w3.org/2000/svg\" height=\"24px\"viewBox=\"0 0 24 24\"\n",
              "     width=\"24px\">\n",
              "    <g>\n",
              "        <path d=\"M19 3H5c-1.1 0-2 .9-2 2v14c0 1.1.9 2 2 2h14c1.1 0 2-.9 2-2V5c0-1.1-.9-2-2-2zM9 17H7v-7h2v7zm4 0h-2V7h2v10zm4 0h-2v-4h2v4z\"/>\n",
              "    </g>\n",
              "</svg>\n",
              "  </button>\n",
              "\n",
              "<style>\n",
              "  .colab-df-quickchart {\n",
              "      --bg-color: #E8F0FE;\n",
              "      --fill-color: #1967D2;\n",
              "      --hover-bg-color: #E2EBFA;\n",
              "      --hover-fill-color: #174EA6;\n",
              "      --disabled-fill-color: #AAA;\n",
              "      --disabled-bg-color: #DDD;\n",
              "  }\n",
              "\n",
              "  [theme=dark] .colab-df-quickchart {\n",
              "      --bg-color: #3B4455;\n",
              "      --fill-color: #D2E3FC;\n",
              "      --hover-bg-color: #434B5C;\n",
              "      --hover-fill-color: #FFFFFF;\n",
              "      --disabled-bg-color: #3B4455;\n",
              "      --disabled-fill-color: #666;\n",
              "  }\n",
              "\n",
              "  .colab-df-quickchart {\n",
              "    background-color: var(--bg-color);\n",
              "    border: none;\n",
              "    border-radius: 50%;\n",
              "    cursor: pointer;\n",
              "    display: none;\n",
              "    fill: var(--fill-color);\n",
              "    height: 32px;\n",
              "    padding: 0;\n",
              "    width: 32px;\n",
              "  }\n",
              "\n",
              "  .colab-df-quickchart:hover {\n",
              "    background-color: var(--hover-bg-color);\n",
              "    box-shadow: 0 1px 2px rgba(60, 64, 67, 0.3), 0 1px 3px 1px rgba(60, 64, 67, 0.15);\n",
              "    fill: var(--button-hover-fill-color);\n",
              "  }\n",
              "\n",
              "  .colab-df-quickchart-complete:disabled,\n",
              "  .colab-df-quickchart-complete:disabled:hover {\n",
              "    background-color: var(--disabled-bg-color);\n",
              "    fill: var(--disabled-fill-color);\n",
              "    box-shadow: none;\n",
              "  }\n",
              "\n",
              "  .colab-df-spinner {\n",
              "    border: 2px solid var(--fill-color);\n",
              "    border-color: transparent;\n",
              "    border-bottom-color: var(--fill-color);\n",
              "    animation:\n",
              "      spin 1s steps(1) infinite;\n",
              "  }\n",
              "\n",
              "  @keyframes spin {\n",
              "    0% {\n",
              "      border-color: transparent;\n",
              "      border-bottom-color: var(--fill-color);\n",
              "      border-left-color: var(--fill-color);\n",
              "    }\n",
              "    20% {\n",
              "      border-color: transparent;\n",
              "      border-left-color: var(--fill-color);\n",
              "      border-top-color: var(--fill-color);\n",
              "    }\n",
              "    30% {\n",
              "      border-color: transparent;\n",
              "      border-left-color: var(--fill-color);\n",
              "      border-top-color: var(--fill-color);\n",
              "      border-right-color: var(--fill-color);\n",
              "    }\n",
              "    40% {\n",
              "      border-color: transparent;\n",
              "      border-right-color: var(--fill-color);\n",
              "      border-top-color: var(--fill-color);\n",
              "    }\n",
              "    60% {\n",
              "      border-color: transparent;\n",
              "      border-right-color: var(--fill-color);\n",
              "    }\n",
              "    80% {\n",
              "      border-color: transparent;\n",
              "      border-right-color: var(--fill-color);\n",
              "      border-bottom-color: var(--fill-color);\n",
              "    }\n",
              "    90% {\n",
              "      border-color: transparent;\n",
              "      border-bottom-color: var(--fill-color);\n",
              "    }\n",
              "  }\n",
              "</style>\n",
              "\n",
              "  <script>\n",
              "    async function quickchart(key) {\n",
              "      const quickchartButtonEl =\n",
              "        document.querySelector('#' + key + ' button');\n",
              "      quickchartButtonEl.disabled = true;  // To prevent multiple clicks.\n",
              "      quickchartButtonEl.classList.add('colab-df-spinner');\n",
              "      try {\n",
              "        const charts = await google.colab.kernel.invokeFunction(\n",
              "            'suggestCharts', [key], {});\n",
              "      } catch (error) {\n",
              "        console.error('Error during call to suggestCharts:', error);\n",
              "      }\n",
              "      quickchartButtonEl.classList.remove('colab-df-spinner');\n",
              "      quickchartButtonEl.classList.add('colab-df-quickchart-complete');\n",
              "    }\n",
              "    (() => {\n",
              "      let quickchartButtonEl =\n",
              "        document.querySelector('#df-49e52bf9-9324-45b8-a855-49b90fc97bcd button');\n",
              "      quickchartButtonEl.style.display =\n",
              "        google.colab.kernel.accessAllowed ? 'block' : 'none';\n",
              "    })();\n",
              "  </script>\n",
              "</div>\n",
              "    </div>\n",
              "  </div>\n"
            ]
          },
          "metadata": {},
          "execution_count": 11
        }
      ],
      "source": [
        "# Inner join de estudiantes y calificaciones en función de student_id y class_id\n",
        "inner_join = pd.merge(students, grades, on=['id', 'class_id'], how='inner')\n",
        "print('Inner Join:')\n",
        "inner_join"
      ]
    },
    {
      "cell_type": "markdown",
      "metadata": {
        "id": "HxXK_Fxh6WWC"
      },
      "source": [
        "# Listas con pd.Concat"
      ]
    },
    {
      "cell_type": "markdown",
      "metadata": {
        "id": "SUPUq1tT6WWC"
      },
      "source": [
        "pd.concat() es una función de Pandas que se utiliza para concatenar DataFrames en función de su índice o de una columna específica. A diferencia de pd.merge(), pd.concat() no realiza operaciones de unión basadas en las claves de las columnas."
      ]
    },
    {
      "cell_type": "code",
      "execution_count": 12,
      "metadata": {
        "colab": {
          "base_uri": "https://localhost:8080/"
        },
        "id": "OSRrcsd56WWC",
        "outputId": "76658ad0-4f22-445d-e107-47e42551aa2e"
      },
      "outputs": [
        {
          "output_type": "stream",
          "name": "stdout",
          "text": [
            "df1:\n",
            "  key1  value1\n",
            "0    A       1\n",
            "1    B       2\n",
            "2    C       3\n",
            "3    D       4\n",
            "df2:\n",
            "  key2  value2\n",
            "0    B       5\n",
            "1    D       6\n",
            "2    E       7\n",
            "3    F       8\n",
            "df3:\n",
            "  key3  value3\n",
            "0    C       9\n",
            "1    D      10\n",
            "2    F      11\n",
            "3    G      12\n"
          ]
        }
      ],
      "source": [
        "# Crear tres DataFrames con datos similares a tablas de SQL\n",
        "df1 = pd.DataFrame({\n",
        "    'key1': ['A', 'B', 'C', 'D'],\n",
        "    'value1': [1, 2, 3, 4]\n",
        "})\n",
        "\n",
        "df2 = pd.DataFrame({\n",
        "    'key2': ['B', 'D', 'E', 'F'],\n",
        "    'value2': [5, 6, 7, 8]\n",
        "})\n",
        "\n",
        "df3 = pd.DataFrame({\n",
        "    'key3': ['C', 'D', 'F', 'G'],\n",
        "    'value3': [9, 10, 11, 12]\n",
        "})\n",
        "\n",
        "# Mostrar los tres DataFrames\n",
        "print('df1:')\n",
        "print(df1)\n",
        "print('df2:')\n",
        "print(df2)\n",
        "print('df3:')\n",
        "print(df3)\n"
      ]
    },
    {
      "cell_type": "markdown",
      "metadata": {
        "id": "4CuwCaED6WWD"
      },
      "source": [
        "Para replicar el inner join, podemos utilizar pd.concat() con los parámetros join='inner' y axis=1. Esto concatenará los DataFrames en función de sus columnas comunes."
      ]
    },
    {
      "cell_type": "code",
      "execution_count": 13,
      "metadata": {
        "colab": {
          "base_uri": "https://localhost:8080/"
        },
        "id": "XLmGF-Ug6WWD",
        "outputId": "62cb375c-c60c-48c0-de1e-7bb3a711dca2"
      },
      "outputs": [
        {
          "output_type": "stream",
          "name": "stdout",
          "text": [
            "Inner Join:\n",
            "  index  value1  value2  value3\n",
            "0     D       4       6      10\n"
          ]
        }
      ],
      "source": [
        "# Realizar un inner join con tres DataFrames utilizando pd.concat()\n",
        "inner_join = pd.concat([df1.set_index('key1'), df2.set_index('key2'), df3.set_index('key3')],\n",
        "                       join='inner', axis=1).reset_index()\n",
        "\n",
        "# Mostrar el resultado del inner join\n",
        "print('Inner Join:')\n",
        "print(inner_join)"
      ]
    },
    {
      "cell_type": "markdown",
      "metadata": {
        "id": "Q5CORZtG6WWD"
      },
      "source": [
        "# Tarea"
      ]
    },
    {
      "cell_type": "markdown",
      "metadata": {
        "id": "OKe97wMI6WWD"
      },
      "source": [
        "Completa los joins usando pd.concat"
      ]
    },
    {
      "cell_type": "markdown",
      "metadata": {
        "id": "0Rp4X-R76WWD"
      },
      "source": [
        "Para replicar el left join, podemos utilizar pd.concat() con los parámetros join='left' y axis=1. Esto concatenará los DataFrames en función de sus columnas comunes y agregará las filas del DataFrame de la izquierda que no tengan correspondencia en el DataFrame de la derecha."
      ]
    },
    {
      "cell_type": "code",
      "execution_count": 14,
      "metadata": {
        "colab": {
          "base_uri": "https://localhost:8080/"
        },
        "id": "2SDhUDb56WWE",
        "outputId": "db7a0271-32ab-458c-f3af-431e96ac049e"
      },
      "outputs": [
        {
          "output_type": "stream",
          "name": "stdout",
          "text": [
            "Left Join: \n",
            "   index  value1  value2  value3\n",
            "0     A     1.0     NaN     NaN\n",
            "1     B     2.0     5.0     NaN\n",
            "2     C     3.0     NaN     9.0\n",
            "3     D     4.0     6.0    10.0\n"
          ]
        }
      ],
      "source": [
        "# Realizamos left join con tres DataFrames\n",
        "left_join = pd.concat([df1.set_index('key1'), df2.set_index('key2'), df3.set_index('key3')],\n",
        "                      join='outer', axis = 1 ).reset_index().dropna(subset = 'value1')\n",
        "\n",
        "# Mostramos el resultado del left join\n",
        "print('Left Join: \\n', left_join)"
      ]
    },
    {
      "cell_type": "markdown",
      "metadata": {
        "id": "uE3njdaV6WWE"
      },
      "source": [
        "# Right join con pd.concat"
      ]
    },
    {
      "cell_type": "code",
      "execution_count": 15,
      "metadata": {
        "colab": {
          "base_uri": "https://localhost:8080/"
        },
        "id": "alUAAZ1j6WWE",
        "outputId": "142ad6c3-37f2-4e6c-8c69-e0fba7998800"
      },
      "outputs": [
        {
          "output_type": "stream",
          "name": "stdout",
          "text": [
            "Right Join: \n",
            "   index  value1  value2  value3\n",
            "2     C     3.0     NaN     9.0\n",
            "3     D     4.0     6.0    10.0\n",
            "5     F     NaN     8.0    11.0\n",
            "6     G     NaN     NaN    12.0\n"
          ]
        }
      ],
      "source": [
        "# Realizamos right join con tres DataFrames\n",
        "right_join = pd.concat([df1.set_index('key1'), df2.set_index('key2'), df3.set_index('key3')],\n",
        "                       join='outer', axis=1).reset_index().dropna(subset='value3')\n",
        "\n",
        "# Mostramos el resultado del right join\n",
        "print('Right Join: \\n', right_join)"
      ]
    },
    {
      "cell_type": "markdown",
      "metadata": {
        "id": "xqmoE-rd6WWF"
      },
      "source": [
        "# Outer Join con pd.concat"
      ]
    },
    {
      "cell_type": "code",
      "execution_count": 16,
      "metadata": {
        "colab": {
          "base_uri": "https://localhost:8080/"
        },
        "id": "Tju5JEaL6WWF",
        "outputId": "fe2fa0d5-c15c-444e-e267-b870259c6df6"
      },
      "outputs": [
        {
          "output_type": "stream",
          "name": "stdout",
          "text": [
            "Outer Join: \n",
            "   index  value1  value2  value3\n",
            "0     A     1.0     NaN     NaN\n",
            "1     B     2.0     5.0     NaN\n",
            "2     C     3.0     NaN     9.0\n",
            "3     D     4.0     6.0    10.0\n",
            "4     E     NaN     7.0     NaN\n",
            "5     F     NaN     8.0    11.0\n",
            "6     G     NaN     NaN    12.0\n"
          ]
        }
      ],
      "source": [
        "# Realizamos outer join\n",
        "outer_join = pd.concat([df1.set_index('key1'), df2.set_index('key2'), df3.set_index('key3')],\n",
        "                       join='outer', axis=1).reset_index()\n",
        "\n",
        "# Mostramos el resultado del outer join\n",
        "print('Outer Join: \\n', outer_join)"
      ]
    }
  ],
  "metadata": {
    "kernelspec": {
      "display_name": "itam",
      "language": "python",
      "name": "python3"
    },
    "language_info": {
      "codemirror_mode": {
        "name": "ipython",
        "version": 3
      },
      "file_extension": ".py",
      "mimetype": "text/x-python",
      "name": "python",
      "nbconvert_exporter": "python",
      "pygments_lexer": "ipython3",
      "version": "3.11.0"
    },
    "orig_nbformat": 4,
    "colab": {
      "provenance": []
    }
  },
  "nbformat": 4,
  "nbformat_minor": 0
}