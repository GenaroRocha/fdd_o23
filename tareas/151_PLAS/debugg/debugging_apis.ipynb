{
 "cells": [
  {
   "cell_type": "markdown",
   "metadata": {},
   "source": [
    "<a target=\"_blank\" href=\"https://colab.research.google.com/github/sonder-art/fdd_o23/blob/main/codigo/debugg/debugging_apis.ipynb\">\n",
    "  <img src=\"https://colab.research.google.com/assets/colab-badge.svg\" alt=\"Open In Colab\"/>\n",
    "</a>"
   ]
  },
  {
   "cell_type": "markdown",
   "metadata": {},
   "source": [
    "Se entrega a mas tardar el martes 14 de Noviembre a las 11:55 pm. Vale 40 puntos de tarea.\n",
    "**Te recomiendo leer todo el ejercicio antes de empezar a hacer codigo, para que te des una idea de que formato y estructura necesitamos**"
   ]
  },
  {
   "cell_type": "code",
   "execution_count": 1,
   "metadata": {},
   "outputs": [],
   "source": [
    "import pandas as pd\n",
    "import requests"
   ]
  },
  {
   "cell_type": "markdown",
   "metadata": {},
   "source": [
    "Objetivos del Ejercicio:\n",
    "\n",
    "    Realizar una solicitud a la API de Pokémon para obtener datos sobre un Pokémon específico.\n",
    "    Cargar y visualizar los datos en bruto para comprender su estructura.\n",
    "    Limpiar y organizar los datos para un análisis posterior.\n",
    "    Guardar los datos limpios en un archivo CSV."
   ]
  },
  {
   "cell_type": "markdown",
   "metadata": {},
   "source": [
    "El objetivo es crear un `DataFrame` (tidydata) de varios pokemones que ademas contengan metadata de sus moviemientos.  \n",
    "Para ello deberas realizar request al `API` de pokemon, entender como vienen los datos y despues combinarlos con los `joins` correspondientes."
   ]
  },
  {
   "cell_type": "markdown",
   "metadata": {},
   "source": [
    "# API request"
   ]
  },
  {
   "cell_type": "markdown",
   "metadata": {},
   "source": [
    "Crea codigo para acceder al API de pokemon y hacer requests. esta primera parte del codigo solo es para entender como es la estructura de los datos"
   ]
  },
  {
   "cell_type": "markdown",
   "metadata": {},
   "source": [
    "Compelta el siguiente snippet para obter los datos del API de pokemon. La idea de estos primeros snippets es solo entender como funcionan los datos y como llegan. Para ello solo analizamos un pokemon y sus movimientos, mas adelante tenemos que repetirlo pero para varios pokemons."
   ]
  },
  {
   "cell_type": "markdown",
   "metadata": {},
   "source": [
    "## Pokemon Data"
   ]
  },
  {
   "cell_type": "markdown",
   "metadata": {},
   "source": [
    "Para  el tipo de pokemon debes obtener:\n",
    "1. `pokemon_id`\n",
    "2. `pokemon_name`\n",
    "3. `type`(s) cada pokemon tiene a 1 o dos tipos (no mas). Tienes que guardar ambos  \n",
    "\n",
    "Guarda los `moves` del pokemon pues los usaremos mas adelante. En especial el `name` y la `url` de cada movimiento para que podamos iterar despues"
   ]
  },
  {
   "cell_type": "code",
   "execution_count": 3,
   "metadata": {},
   "outputs": [],
   "source": [
    "# Elige tu pokemon\n",
    "pokemon_name = 'lucario'"
   ]
  },
  {
   "cell_type": "code",
   "execution_count": 19,
   "metadata": {},
   "outputs": [
    {
     "name": "stdout",
     "output_type": "stream",
     "text": [
      "{'pokemon_id': 448, 'pokemon_name': 'lucario', 'type': ['fighting, steel'], 'moves': [{'name': 'mega-punch', 'url': 'https://pokeapi.co/api/v2/move/5/'}, {'name': 'ice-punch', 'url': 'https://pokeapi.co/api/v2/move/8/'}, {'name': 'thunder-punch', 'url': 'https://pokeapi.co/api/v2/move/9/'}, {'name': 'swords-dance', 'url': 'https://pokeapi.co/api/v2/move/14/'}, {'name': 'mega-kick', 'url': 'https://pokeapi.co/api/v2/move/25/'}, {'name': 'headbutt', 'url': 'https://pokeapi.co/api/v2/move/29/'}, {'name': 'body-slam', 'url': 'https://pokeapi.co/api/v2/move/34/'}, {'name': 'take-down', 'url': 'https://pokeapi.co/api/v2/move/36/'}, {'name': 'roar', 'url': 'https://pokeapi.co/api/v2/move/46/'}, {'name': 'hyper-beam', 'url': 'https://pokeapi.co/api/v2/move/63/'}, {'name': 'low-kick', 'url': 'https://pokeapi.co/api/v2/move/67/'}, {'name': 'counter', 'url': 'https://pokeapi.co/api/v2/move/68/'}, {'name': 'strength', 'url': 'https://pokeapi.co/api/v2/move/70/'}, {'name': 'earthquake', 'url': 'https://pokeapi.co/api/v2/move/89/'}, {'name': 'dig', 'url': 'https://pokeapi.co/api/v2/move/91/'}, {'name': 'toxic', 'url': 'https://pokeapi.co/api/v2/move/92/'}, {'name': 'psychic', 'url': 'https://pokeapi.co/api/v2/move/94/'}, {'name': 'agility', 'url': 'https://pokeapi.co/api/v2/move/97/'}, {'name': 'quick-attack', 'url': 'https://pokeapi.co/api/v2/move/98/'}, {'name': 'screech', 'url': 'https://pokeapi.co/api/v2/move/103/'}, {'name': 'double-team', 'url': 'https://pokeapi.co/api/v2/move/104/'}, {'name': 'focus-energy', 'url': 'https://pokeapi.co/api/v2/move/116/'}, {'name': 'metronome', 'url': 'https://pokeapi.co/api/v2/move/118/'}, {'name': 'swift', 'url': 'https://pokeapi.co/api/v2/move/129/'}, {'name': 'rest', 'url': 'https://pokeapi.co/api/v2/move/156/'}, {'name': 'rock-slide', 'url': 'https://pokeapi.co/api/v2/move/157/'}, {'name': 'substitute', 'url': 'https://pokeapi.co/api/v2/move/164/'}, {'name': 'snore', 'url': 'https://pokeapi.co/api/v2/move/173/'}, {'name': 'reversal', 'url': 'https://pokeapi.co/api/v2/move/179/'}, {'name': 'protect', 'url': 'https://pokeapi.co/api/v2/move/182/'}, {'name': 'scary-face', 'url': 'https://pokeapi.co/api/v2/move/184/'}, {'name': 'mud-slap', 'url': 'https://pokeapi.co/api/v2/move/189/'}, {'name': 'foresight', 'url': 'https://pokeapi.co/api/v2/move/193/'}, {'name': 'detect', 'url': 'https://pokeapi.co/api/v2/move/197/'}, {'name': 'bone-rush', 'url': 'https://pokeapi.co/api/v2/move/198/'}, {'name': 'endure', 'url': 'https://pokeapi.co/api/v2/move/203/'}, {'name': 'swagger', 'url': 'https://pokeapi.co/api/v2/move/207/'}, {'name': 'fury-cutter', 'url': 'https://pokeapi.co/api/v2/move/210/'}, {'name': 'attract', 'url': 'https://pokeapi.co/api/v2/move/213/'}, {'name': 'sleep-talk', 'url': 'https://pokeapi.co/api/v2/move/214/'}, {'name': 'return', 'url': 'https://pokeapi.co/api/v2/move/216/'}, {'name': 'frustration', 'url': 'https://pokeapi.co/api/v2/move/218/'}, {'name': 'iron-tail', 'url': 'https://pokeapi.co/api/v2/move/231/'}, {'name': 'metal-claw', 'url': 'https://pokeapi.co/api/v2/move/232/'}, {'name': 'hidden-power', 'url': 'https://pokeapi.co/api/v2/move/237/'}, {'name': 'rain-dance', 'url': 'https://pokeapi.co/api/v2/move/240/'}, {'name': 'sunny-day', 'url': 'https://pokeapi.co/api/v2/move/241/'}, {'name': 'crunch', 'url': 'https://pokeapi.co/api/v2/move/242/'}, {'name': 'extreme-speed', 'url': 'https://pokeapi.co/api/v2/move/245/'}, {'name': 'shadow-ball', 'url': 'https://pokeapi.co/api/v2/move/247/'}, {'name': 'rock-smash', 'url': 'https://pokeapi.co/api/v2/move/249/'}, {'name': 'facade', 'url': 'https://pokeapi.co/api/v2/move/263/'}, {'name': 'focus-punch', 'url': 'https://pokeapi.co/api/v2/move/264/'}, {'name': 'helping-hand', 'url': 'https://pokeapi.co/api/v2/move/270/'}, {'name': 'role-play', 'url': 'https://pokeapi.co/api/v2/move/272/'}, {'name': 'revenge', 'url': 'https://pokeapi.co/api/v2/move/279/'}, {'name': 'brick-break', 'url': 'https://pokeapi.co/api/v2/move/280/'}, {'name': 'secret-power', 'url': 'https://pokeapi.co/api/v2/move/290/'}, {'name': 'blaze-kick', 'url': 'https://pokeapi.co/api/v2/move/299/'}, {'name': 'meteor-mash', 'url': 'https://pokeapi.co/api/v2/move/309/'}, {'name': 'rock-tomb', 'url': 'https://pokeapi.co/api/v2/move/317/'}, {'name': 'metal-sound', 'url': 'https://pokeapi.co/api/v2/move/319/'}, {'name': 'aerial-ace', 'url': 'https://pokeapi.co/api/v2/move/332/'}, {'name': 'iron-defense', 'url': 'https://pokeapi.co/api/v2/move/334/'}, {'name': 'bulk-up', 'url': 'https://pokeapi.co/api/v2/move/339/'}, {'name': 'calm-mind', 'url': 'https://pokeapi.co/api/v2/move/347/'}, {'name': 'water-pulse', 'url': 'https://pokeapi.co/api/v2/move/352/'}, {'name': 'natural-gift', 'url': 'https://pokeapi.co/api/v2/move/363/'}, {'name': 'feint', 'url': 'https://pokeapi.co/api/v2/move/364/'}, {'name': 'close-combat', 'url': 'https://pokeapi.co/api/v2/move/370/'}, {'name': 'payback', 'url': 'https://pokeapi.co/api/v2/move/371/'}, {'name': 'fling', 'url': 'https://pokeapi.co/api/v2/move/374/'}, {'name': 'me-first', 'url': 'https://pokeapi.co/api/v2/move/382/'}, {'name': 'copycat', 'url': 'https://pokeapi.co/api/v2/move/383/'}, {'name': 'magnet-rise', 'url': 'https://pokeapi.co/api/v2/move/393/'}, {'name': 'force-palm', 'url': 'https://pokeapi.co/api/v2/move/395/'}, {'name': 'aura-sphere', 'url': 'https://pokeapi.co/api/v2/move/396/'}, {'name': 'poison-jab', 'url': 'https://pokeapi.co/api/v2/move/398/'}, {'name': 'dark-pulse', 'url': 'https://pokeapi.co/api/v2/move/399/'}, {'name': 'dragon-pulse', 'url': 'https://pokeapi.co/api/v2/move/406/'}, {'name': 'drain-punch', 'url': 'https://pokeapi.co/api/v2/move/409/'}, {'name': 'vacuum-wave', 'url': 'https://pokeapi.co/api/v2/move/410/'}, {'name': 'focus-blast', 'url': 'https://pokeapi.co/api/v2/move/411/'}, {'name': 'giga-impact', 'url': 'https://pokeapi.co/api/v2/move/416/'}, {'name': 'nasty-plot', 'url': 'https://pokeapi.co/api/v2/move/417/'}, {'name': 'shadow-claw', 'url': 'https://pokeapi.co/api/v2/move/421/'}, {'name': 'zen-headbutt', 'url': 'https://pokeapi.co/api/v2/move/428/'}, {'name': 'flash-cannon', 'url': 'https://pokeapi.co/api/v2/move/430/'}, {'name': 'rock-climb', 'url': 'https://pokeapi.co/api/v2/move/431/'}, {'name': 'stone-edge', 'url': 'https://pokeapi.co/api/v2/move/444/'}, {'name': 'captivate', 'url': 'https://pokeapi.co/api/v2/move/445/'}, {'name': 'hone-claws', 'url': 'https://pokeapi.co/api/v2/move/468/'}, {'name': 'low-sweep', 'url': 'https://pokeapi.co/api/v2/move/490/'}, {'name': 'round', 'url': 'https://pokeapi.co/api/v2/move/496/'}, {'name': 'quick-guard', 'url': 'https://pokeapi.co/api/v2/move/501/'}, {'name': 'heal-pulse', 'url': 'https://pokeapi.co/api/v2/move/505/'}, {'name': 'retaliate', 'url': 'https://pokeapi.co/api/v2/move/514/'}, {'name': 'final-gambit', 'url': 'https://pokeapi.co/api/v2/move/515/'}, {'name': 'bulldoze', 'url': 'https://pokeapi.co/api/v2/move/523/'}, {'name': 'work-up', 'url': 'https://pokeapi.co/api/v2/move/526/'}, {'name': 'dual-chop', 'url': 'https://pokeapi.co/api/v2/move/530/'}, {'name': 'confide', 'url': 'https://pokeapi.co/api/v2/move/590/'}, {'name': 'power-up-punch', 'url': 'https://pokeapi.co/api/v2/move/612/'}, {'name': 'laser-focus', 'url': 'https://pokeapi.co/api/v2/move/673/'}, {'name': 'life-dew', 'url': 'https://pokeapi.co/api/v2/move/791/'}, {'name': 'steel-beam', 'url': 'https://pokeapi.co/api/v2/move/796/'}, {'name': 'terrain-pulse', 'url': 'https://pokeapi.co/api/v2/move/805/'}, {'name': 'coaching', 'url': 'https://pokeapi.co/api/v2/move/811/'}, {'name': 'tera-blast', 'url': 'https://pokeapi.co/api/v2/move/851/'}, {'name': 'trailblaze', 'url': 'https://pokeapi.co/api/v2/move/885/'}]}\n"
     ]
    }
   ],
   "source": [
    "# Solicitud para obtener datos de un Pokémon\n",
    "pokemon_url = f'https://pokeapi.co/api/v2/pokemon/{pokemon_name}'\n",
    "pokemon_response = requests.get(pokemon_url)\n",
    "pokemon_data = pokemon_response.json()\n",
    "\n",
    "# Creamos la lista de movimientos \n",
    "moves  = []\n",
    "for move in pokemon_data['moves']:\n",
    "            move_name = move['move']['name']\n",
    "            move_url = move['move']['url']\n",
    "            moves.append({\"name\": move_name, \"url\": move_url})\n",
    "            \n",
    "# Creamos un diccionario para el pokemon\n",
    "pokemon = {\n",
    "    \"pokemon_id\": pokemon_data['id'],\n",
    "    \"pokemon_name\":pokemon_data['name'],\n",
    "    \"type\": [\", \".join(tipo['type']['name'] for tipo in pokemon_data['types'])],\n",
    "    \"moves\": moves\n",
    "}\n",
    "\n",
    "print(pokemon)"
   ]
  },
  {
   "cell_type": "markdown",
   "metadata": {},
   "source": [
    "## Moves Data"
   ]
  },
  {
   "cell_type": "markdown",
   "metadata": {},
   "source": [
    "Ahora para cada movimiento `move` del pokemon debes obtener los siguientes datos usando la `url`\n",
    "1. `name`\n",
    "2. `accuracy`\n",
    "3. `type`\n",
    "4. `power`\n",
    "5. `pp`"
   ]
  },
  {
   "cell_type": "code",
   "execution_count": 20,
   "metadata": {},
   "outputs": [
    {
     "name": "stdout",
     "output_type": "stream",
     "text": [
      "{'name': 'mega-punch', 'accuracy': 85, 'type': 'normal', 'power': 80, 'pp': 20}\n",
      "{'name': 'ice-punch', 'accuracy': 100, 'type': 'ice', 'power': 75, 'pp': 15}\n",
      "{'name': 'thunder-punch', 'accuracy': 100, 'type': 'electric', 'power': 75, 'pp': 15}\n",
      "{'name': 'swords-dance', 'accuracy': None, 'type': 'normal', 'power': None, 'pp': 20}\n",
      "{'name': 'mega-kick', 'accuracy': 75, 'type': 'normal', 'power': 120, 'pp': 5}\n",
      "{'name': 'headbutt', 'accuracy': 100, 'type': 'normal', 'power': 70, 'pp': 15}\n",
      "{'name': 'body-slam', 'accuracy': 100, 'type': 'normal', 'power': 85, 'pp': 15}\n",
      "{'name': 'take-down', 'accuracy': 85, 'type': 'normal', 'power': 90, 'pp': 20}\n",
      "{'name': 'roar', 'accuracy': None, 'type': 'normal', 'power': None, 'pp': 20}\n",
      "{'name': 'hyper-beam', 'accuracy': 90, 'type': 'normal', 'power': 150, 'pp': 5}\n",
      "{'name': 'low-kick', 'accuracy': 100, 'type': 'fighting', 'power': None, 'pp': 20}\n",
      "{'name': 'counter', 'accuracy': 100, 'type': 'fighting', 'power': None, 'pp': 20}\n",
      "{'name': 'strength', 'accuracy': 100, 'type': 'normal', 'power': 80, 'pp': 15}\n",
      "{'name': 'earthquake', 'accuracy': 100, 'type': 'ground', 'power': 100, 'pp': 10}\n",
      "{'name': 'dig', 'accuracy': 100, 'type': 'ground', 'power': 80, 'pp': 10}\n",
      "{'name': 'toxic', 'accuracy': 90, 'type': 'poison', 'power': None, 'pp': 10}\n",
      "{'name': 'psychic', 'accuracy': 100, 'type': 'psychic', 'power': 90, 'pp': 10}\n",
      "{'name': 'agility', 'accuracy': None, 'type': 'psychic', 'power': None, 'pp': 30}\n",
      "{'name': 'quick-attack', 'accuracy': 100, 'type': 'normal', 'power': 40, 'pp': 30}\n",
      "{'name': 'screech', 'accuracy': 85, 'type': 'normal', 'power': None, 'pp': 40}\n",
      "{'name': 'double-team', 'accuracy': None, 'type': 'normal', 'power': None, 'pp': 15}\n",
      "{'name': 'focus-energy', 'accuracy': None, 'type': 'normal', 'power': None, 'pp': 30}\n",
      "{'name': 'metronome', 'accuracy': None, 'type': 'normal', 'power': None, 'pp': 10}\n",
      "{'name': 'swift', 'accuracy': None, 'type': 'normal', 'power': 60, 'pp': 20}\n",
      "{'name': 'rest', 'accuracy': None, 'type': 'psychic', 'power': None, 'pp': 10}\n",
      "{'name': 'rock-slide', 'accuracy': 90, 'type': 'rock', 'power': 75, 'pp': 10}\n",
      "{'name': 'substitute', 'accuracy': None, 'type': 'normal', 'power': None, 'pp': 10}\n",
      "{'name': 'snore', 'accuracy': 100, 'type': 'normal', 'power': 50, 'pp': 15}\n",
      "{'name': 'reversal', 'accuracy': 100, 'type': 'fighting', 'power': None, 'pp': 15}\n",
      "{'name': 'protect', 'accuracy': None, 'type': 'normal', 'power': None, 'pp': 10}\n",
      "{'name': 'scary-face', 'accuracy': 100, 'type': 'normal', 'power': None, 'pp': 10}\n",
      "{'name': 'mud-slap', 'accuracy': 100, 'type': 'ground', 'power': 20, 'pp': 10}\n",
      "{'name': 'foresight', 'accuracy': None, 'type': 'normal', 'power': None, 'pp': 40}\n",
      "{'name': 'detect', 'accuracy': None, 'type': 'fighting', 'power': None, 'pp': 5}\n",
      "{'name': 'bone-rush', 'accuracy': 90, 'type': 'ground', 'power': 25, 'pp': 10}\n",
      "{'name': 'endure', 'accuracy': None, 'type': 'normal', 'power': None, 'pp': 10}\n",
      "{'name': 'swagger', 'accuracy': 85, 'type': 'normal', 'power': None, 'pp': 15}\n",
      "{'name': 'fury-cutter', 'accuracy': 95, 'type': 'bug', 'power': 40, 'pp': 20}\n",
      "{'name': 'attract', 'accuracy': 100, 'type': 'normal', 'power': None, 'pp': 15}\n",
      "{'name': 'sleep-talk', 'accuracy': None, 'type': 'normal', 'power': None, 'pp': 10}\n",
      "{'name': 'return', 'accuracy': 100, 'type': 'normal', 'power': None, 'pp': 20}\n",
      "{'name': 'frustration', 'accuracy': 100, 'type': 'normal', 'power': None, 'pp': 20}\n",
      "{'name': 'iron-tail', 'accuracy': 75, 'type': 'steel', 'power': 100, 'pp': 15}\n",
      "{'name': 'metal-claw', 'accuracy': 95, 'type': 'steel', 'power': 50, 'pp': 35}\n",
      "{'name': 'hidden-power', 'accuracy': 100, 'type': 'normal', 'power': 60, 'pp': 15}\n",
      "{'name': 'rain-dance', 'accuracy': None, 'type': 'water', 'power': None, 'pp': 5}\n",
      "{'name': 'sunny-day', 'accuracy': None, 'type': 'fire', 'power': None, 'pp': 5}\n",
      "{'name': 'crunch', 'accuracy': 100, 'type': 'dark', 'power': 80, 'pp': 15}\n",
      "{'name': 'extreme-speed', 'accuracy': 100, 'type': 'normal', 'power': 80, 'pp': 5}\n",
      "{'name': 'shadow-ball', 'accuracy': 100, 'type': 'ghost', 'power': 80, 'pp': 15}\n",
      "{'name': 'rock-smash', 'accuracy': 100, 'type': 'fighting', 'power': 40, 'pp': 15}\n",
      "{'name': 'facade', 'accuracy': 100, 'type': 'normal', 'power': 70, 'pp': 20}\n",
      "{'name': 'focus-punch', 'accuracy': 100, 'type': 'fighting', 'power': 150, 'pp': 20}\n",
      "{'name': 'helping-hand', 'accuracy': None, 'type': 'normal', 'power': None, 'pp': 20}\n",
      "{'name': 'role-play', 'accuracy': None, 'type': 'psychic', 'power': None, 'pp': 10}\n",
      "{'name': 'revenge', 'accuracy': 100, 'type': 'fighting', 'power': 60, 'pp': 10}\n",
      "{'name': 'brick-break', 'accuracy': 100, 'type': 'fighting', 'power': 75, 'pp': 15}\n",
      "{'name': 'secret-power', 'accuracy': 100, 'type': 'normal', 'power': 70, 'pp': 20}\n",
      "{'name': 'blaze-kick', 'accuracy': 90, 'type': 'fire', 'power': 85, 'pp': 10}\n",
      "{'name': 'meteor-mash', 'accuracy': 90, 'type': 'steel', 'power': 90, 'pp': 10}\n",
      "{'name': 'rock-tomb', 'accuracy': 95, 'type': 'rock', 'power': 60, 'pp': 15}\n",
      "{'name': 'metal-sound', 'accuracy': 85, 'type': 'steel', 'power': None, 'pp': 40}\n",
      "{'name': 'aerial-ace', 'accuracy': None, 'type': 'flying', 'power': 60, 'pp': 20}\n",
      "{'name': 'iron-defense', 'accuracy': None, 'type': 'steel', 'power': None, 'pp': 15}\n",
      "{'name': 'bulk-up', 'accuracy': None, 'type': 'fighting', 'power': None, 'pp': 20}\n",
      "{'name': 'calm-mind', 'accuracy': None, 'type': 'psychic', 'power': None, 'pp': 20}\n",
      "{'name': 'water-pulse', 'accuracy': 100, 'type': 'water', 'power': 60, 'pp': 20}\n",
      "{'name': 'natural-gift', 'accuracy': 100, 'type': 'normal', 'power': None, 'pp': 15}\n",
      "{'name': 'feint', 'accuracy': 100, 'type': 'normal', 'power': 30, 'pp': 10}\n",
      "{'name': 'close-combat', 'accuracy': 100, 'type': 'fighting', 'power': 120, 'pp': 5}\n",
      "{'name': 'payback', 'accuracy': 100, 'type': 'dark', 'power': 50, 'pp': 10}\n",
      "{'name': 'fling', 'accuracy': 100, 'type': 'dark', 'power': None, 'pp': 10}\n",
      "{'name': 'me-first', 'accuracy': None, 'type': 'normal', 'power': None, 'pp': 20}\n",
      "{'name': 'copycat', 'accuracy': None, 'type': 'normal', 'power': None, 'pp': 20}\n",
      "{'name': 'magnet-rise', 'accuracy': None, 'type': 'electric', 'power': None, 'pp': 10}\n",
      "{'name': 'force-palm', 'accuracy': 100, 'type': 'fighting', 'power': 60, 'pp': 10}\n",
      "{'name': 'aura-sphere', 'accuracy': None, 'type': 'fighting', 'power': 80, 'pp': 20}\n",
      "{'name': 'poison-jab', 'accuracy': 100, 'type': 'poison', 'power': 80, 'pp': 20}\n",
      "{'name': 'dark-pulse', 'accuracy': 100, 'type': 'dark', 'power': 80, 'pp': 15}\n",
      "{'name': 'dragon-pulse', 'accuracy': 100, 'type': 'dragon', 'power': 85, 'pp': 10}\n",
      "{'name': 'drain-punch', 'accuracy': 100, 'type': 'fighting', 'power': 75, 'pp': 10}\n",
      "{'name': 'vacuum-wave', 'accuracy': 100, 'type': 'fighting', 'power': 40, 'pp': 30}\n",
      "{'name': 'focus-blast', 'accuracy': 70, 'type': 'fighting', 'power': 120, 'pp': 5}\n",
      "{'name': 'giga-impact', 'accuracy': 90, 'type': 'normal', 'power': 150, 'pp': 5}\n",
      "{'name': 'nasty-plot', 'accuracy': None, 'type': 'dark', 'power': None, 'pp': 20}\n",
      "{'name': 'shadow-claw', 'accuracy': 100, 'type': 'ghost', 'power': 70, 'pp': 15}\n",
      "{'name': 'zen-headbutt', 'accuracy': 90, 'type': 'psychic', 'power': 80, 'pp': 15}\n",
      "{'name': 'flash-cannon', 'accuracy': 100, 'type': 'steel', 'power': 80, 'pp': 10}\n",
      "{'name': 'rock-climb', 'accuracy': 85, 'type': 'normal', 'power': 90, 'pp': 20}\n",
      "{'name': 'stone-edge', 'accuracy': 80, 'type': 'rock', 'power': 100, 'pp': 5}\n",
      "{'name': 'captivate', 'accuracy': 100, 'type': 'normal', 'power': None, 'pp': 20}\n",
      "{'name': 'hone-claws', 'accuracy': None, 'type': 'dark', 'power': None, 'pp': 15}\n",
      "{'name': 'low-sweep', 'accuracy': 100, 'type': 'fighting', 'power': 65, 'pp': 20}\n",
      "{'name': 'round', 'accuracy': 100, 'type': 'normal', 'power': 60, 'pp': 15}\n",
      "{'name': 'quick-guard', 'accuracy': None, 'type': 'fighting', 'power': None, 'pp': 15}\n",
      "{'name': 'heal-pulse', 'accuracy': None, 'type': 'psychic', 'power': None, 'pp': 10}\n",
      "{'name': 'retaliate', 'accuracy': 100, 'type': 'normal', 'power': 70, 'pp': 5}\n",
      "{'name': 'final-gambit', 'accuracy': 100, 'type': 'fighting', 'power': None, 'pp': 5}\n",
      "{'name': 'bulldoze', 'accuracy': 100, 'type': 'ground', 'power': 60, 'pp': 20}\n",
      "{'name': 'work-up', 'accuracy': None, 'type': 'normal', 'power': None, 'pp': 30}\n",
      "{'name': 'dual-chop', 'accuracy': 90, 'type': 'dragon', 'power': 40, 'pp': 15}\n",
      "{'name': 'confide', 'accuracy': None, 'type': 'normal', 'power': None, 'pp': 20}\n",
      "{'name': 'power-up-punch', 'accuracy': 100, 'type': 'fighting', 'power': 40, 'pp': 20}\n",
      "{'name': 'laser-focus', 'accuracy': None, 'type': 'normal', 'power': None, 'pp': 30}\n",
      "{'name': 'life-dew', 'accuracy': None, 'type': 'water', 'power': None, 'pp': 10}\n",
      "{'name': 'steel-beam', 'accuracy': 95, 'type': 'steel', 'power': 140, 'pp': 5}\n",
      "{'name': 'terrain-pulse', 'accuracy': 100, 'type': 'normal', 'power': 50, 'pp': 10}\n",
      "{'name': 'coaching', 'accuracy': None, 'type': 'fighting', 'power': None, 'pp': 10}\n",
      "{'name': 'tera-blast', 'accuracy': 100, 'type': 'normal', 'power': 80, 'pp': 10}\n",
      "{'name': 'trailblaze', 'accuracy': 100, 'type': 'grass', 'power': 50, 'pp': 20}\n"
     ]
    }
   ],
   "source": [
    "# Solicitud para obtener datos de movimientos de un Pokémon\n",
    "for m in moves:\n",
    "    moves_response = requests.get(f'{m.get(\"url\")}')\n",
    "    moves_data = moves_response.json()\n",
    "    info_moves = {\n",
    "            'name': moves_data['name'],\n",
    "            'accuracy': moves_data['accuracy'],\n",
    "            'type': moves_data['type']['name'],\n",
    "            'power': moves_data['power'],\n",
    "            'pp': moves_data['pp']\n",
    "        }\n",
    "    print(info_moves)"
   ]
  },
  {
   "cell_type": "markdown",
   "metadata": {},
   "source": [
    "# API Request para varios pokemons"
   ]
  },
  {
   "cell_type": "markdown",
   "metadata": {},
   "source": [
    "Ahora que sabes como funciona el `API` realiza las peticiones de los siguientes pokemones respecto a sus caracteristicas\n",
    "y moviemientos, y guardalas en una lista, diciconario o tabla (lo que mas te acomode). "
   ]
  },
  {
   "cell_type": "code",
   "execution_count": 22,
   "metadata": {},
   "outputs": [],
   "source": [
    "pokemons =['lucario', 'pikachu', 'gengar', 'charizard', 'blastoise', 'venusaur', 'dragonite', 'mew', 'mewtwo', 'garchomp']"
   ]
  },
  {
   "cell_type": "code",
   "execution_count": 25,
   "metadata": {},
   "outputs": [
    {
     "name": "stdout",
     "output_type": "stream",
     "text": [
      "[{'pokemon_id': 448, 'pokemon_name': 'lucario', 'type': ['fighting, steel'], 'moves': [{'name': 'mega-punch', 'url': 'https://pokeapi.co/api/v2/move/5/'}, {'name': 'ice-punch', 'url': 'https://pokeapi.co/api/v2/move/8/'}, {'name': 'mega-kick', 'url': 'https://pokeapi.co/api/v2/move/25/'}, {'name': 'headbutt', 'url': 'https://pokeapi.co/api/v2/move/29/'}, {'name': 'tackle', 'url': 'https://pokeapi.co/api/v2/move/33/'}, {'name': 'body-slam', 'url': 'https://pokeapi.co/api/v2/move/34/'}, {'name': 'take-down', 'url': 'https://pokeapi.co/api/v2/move/36/'}, {'name': 'double-edge', 'url': 'https://pokeapi.co/api/v2/move/38/'}, {'name': 'tail-whip', 'url': 'https://pokeapi.co/api/v2/move/39/'}, {'name': 'bite', 'url': 'https://pokeapi.co/api/v2/move/44/'}, {'name': 'roar', 'url': 'https://pokeapi.co/api/v2/move/46/'}, {'name': 'water-gun', 'url': 'https://pokeapi.co/api/v2/move/55/'}, {'name': 'hydro-pump', 'url': 'https://pokeapi.co/api/v2/move/56/'}, {'name': 'surf', 'url': 'https://pokeapi.co/api/v2/move/57/'}, {'name': 'ice-beam', 'url': 'https://pokeapi.co/api/v2/move/58/'}, {'name': 'blizzard', 'url': 'https://pokeapi.co/api/v2/move/59/'}, {'name': 'bubble-beam', 'url': 'https://pokeapi.co/api/v2/move/61/'}, {'name': 'hyper-beam', 'url': 'https://pokeapi.co/api/v2/move/63/'}, {'name': 'submission', 'url': 'https://pokeapi.co/api/v2/move/66/'}, {'name': 'counter', 'url': 'https://pokeapi.co/api/v2/move/68/'}, {'name': 'seismic-toss', 'url': 'https://pokeapi.co/api/v2/move/69/'}, {'name': 'strength', 'url': 'https://pokeapi.co/api/v2/move/70/'}, {'name': 'earthquake', 'url': 'https://pokeapi.co/api/v2/move/89/'}, {'name': 'fissure', 'url': 'https://pokeapi.co/api/v2/move/90/'}, {'name': 'dig', 'url': 'https://pokeapi.co/api/v2/move/91/'}, {'name': 'toxic', 'url': 'https://pokeapi.co/api/v2/move/92/'}, {'name': 'rage', 'url': 'https://pokeapi.co/api/v2/move/99/'}, {'name': 'mimic', 'url': 'https://pokeapi.co/api/v2/move/102/'}, {'name': 'double-team', 'url': 'https://pokeapi.co/api/v2/move/104/'}, {'name': 'withdraw', 'url': 'https://pokeapi.co/api/v2/move/110/'}, {'name': 'defense-curl', 'url': 'https://pokeapi.co/api/v2/move/111/'}, {'name': 'reflect', 'url': 'https://pokeapi.co/api/v2/move/115/'}, {'name': 'bide', 'url': 'https://pokeapi.co/api/v2/move/117/'}, {'name': 'waterfall', 'url': 'https://pokeapi.co/api/v2/move/127/'}, {'name': 'skull-bash', 'url': 'https://pokeapi.co/api/v2/move/130/'}, {'name': 'bubble', 'url': 'https://pokeapi.co/api/v2/move/145/'}, {'name': 'rest', 'url': 'https://pokeapi.co/api/v2/move/156/'}, {'name': 'rock-slide', 'url': 'https://pokeapi.co/api/v2/move/157/'}, {'name': 'substitute', 'url': 'https://pokeapi.co/api/v2/move/164/'}, {'name': 'snore', 'url': 'https://pokeapi.co/api/v2/move/173/'}, {'name': 'curse', 'url': 'https://pokeapi.co/api/v2/move/174/'}, {'name': 'protect', 'url': 'https://pokeapi.co/api/v2/move/182/'}, {'name': 'mud-slap', 'url': 'https://pokeapi.co/api/v2/move/189/'}, {'name': 'icy-wind', 'url': 'https://pokeapi.co/api/v2/move/196/'}, {'name': 'outrage', 'url': 'https://pokeapi.co/api/v2/move/200/'}, {'name': 'endure', 'url': 'https://pokeapi.co/api/v2/move/203/'}, {'name': 'rollout', 'url': 'https://pokeapi.co/api/v2/move/205/'}, {'name': 'false-swipe', 'url': 'https://pokeapi.co/api/v2/move/206/'}, {'name': 'swagger', 'url': 'https://pokeapi.co/api/v2/move/207/'}, {'name': 'attract', 'url': 'https://pokeapi.co/api/v2/move/213/'}, {'name': 'sleep-talk', 'url': 'https://pokeapi.co/api/v2/move/214/'}, {'name': 'return', 'url': 'https://pokeapi.co/api/v2/move/216/'}, {'name': 'frustration', 'url': 'https://pokeapi.co/api/v2/move/218/'}, {'name': 'dynamic-punch', 'url': 'https://pokeapi.co/api/v2/move/223/'}, {'name': 'rapid-spin', 'url': 'https://pokeapi.co/api/v2/move/229/'}, {'name': 'iron-tail', 'url': 'https://pokeapi.co/api/v2/move/231/'}, {'name': 'hidden-power', 'url': 'https://pokeapi.co/api/v2/move/237/'}, {'name': 'rain-dance', 'url': 'https://pokeapi.co/api/v2/move/240/'}, {'name': 'crunch', 'url': 'https://pokeapi.co/api/v2/move/242/'}, {'name': 'rock-smash', 'url': 'https://pokeapi.co/api/v2/move/249/'}, {'name': 'whirlpool', 'url': 'https://pokeapi.co/api/v2/move/250/'}, {'name': 'fake-out', 'url': 'https://pokeapi.co/api/v2/move/252/'}, {'name': 'hail', 'url': 'https://pokeapi.co/api/v2/move/258/'}, {'name': 'facade', 'url': 'https://pokeapi.co/api/v2/move/263/'}, {'name': 'focus-punch', 'url': 'https://pokeapi.co/api/v2/move/264/'}, {'name': 'helping-hand', 'url': 'https://pokeapi.co/api/v2/move/270/'}, {'name': 'brick-break', 'url': 'https://pokeapi.co/api/v2/move/280/'}, {'name': 'secret-power', 'url': 'https://pokeapi.co/api/v2/move/290/'}, {'name': 'dive', 'url': 'https://pokeapi.co/api/v2/move/291/'}, {'name': 'hydro-cannon', 'url': 'https://pokeapi.co/api/v2/move/308/'}, {'name': 'weather-ball', 'url': 'https://pokeapi.co/api/v2/move/311/'}, {'name': 'rock-tomb', 'url': 'https://pokeapi.co/api/v2/move/317/'}, {'name': 'signal-beam', 'url': 'https://pokeapi.co/api/v2/move/324/'}, {'name': 'muddy-water', 'url': 'https://pokeapi.co/api/v2/move/330/'}, {'name': 'iron-defense', 'url': 'https://pokeapi.co/api/v2/move/334/'}, {'name': 'water-pulse', 'url': 'https://pokeapi.co/api/v2/move/352/'}, {'name': 'gyro-ball', 'url': 'https://pokeapi.co/api/v2/move/360/'}, {'name': 'brine', 'url': 'https://pokeapi.co/api/v2/move/362/'}, {'name': 'natural-gift', 'url': 'https://pokeapi.co/api/v2/move/363/'}, {'name': 'fling', 'url': 'https://pokeapi.co/api/v2/move/374/'}, {'name': 'aura-sphere', 'url': 'https://pokeapi.co/api/v2/move/396/'}, {'name': 'dark-pulse', 'url': 'https://pokeapi.co/api/v2/move/399/'}, {'name': 'aqua-tail', 'url': 'https://pokeapi.co/api/v2/move/401/'}, {'name': 'dragon-pulse', 'url': 'https://pokeapi.co/api/v2/move/406/'}, {'name': 'focus-blast', 'url': 'https://pokeapi.co/api/v2/move/411/'}, {'name': 'giga-impact', 'url': 'https://pokeapi.co/api/v2/move/416/'}, {'name': 'avalanche', 'url': 'https://pokeapi.co/api/v2/move/419/'}, {'name': 'zen-headbutt', 'url': 'https://pokeapi.co/api/v2/move/428/'}, {'name': 'flash-cannon', 'url': 'https://pokeapi.co/api/v2/move/430/'}, {'name': 'rock-climb', 'url': 'https://pokeapi.co/api/v2/move/431/'}, {'name': 'captivate', 'url': 'https://pokeapi.co/api/v2/move/445/'}, {'name': 'aqua-jet', 'url': 'https://pokeapi.co/api/v2/move/453/'}, {'name': 'smack-down', 'url': 'https://pokeapi.co/api/v2/move/479/'}, {'name': 'round', 'url': 'https://pokeapi.co/api/v2/move/496/'}, {'name': 'scald', 'url': 'https://pokeapi.co/api/v2/move/503/'}, {'name': 'shell-smash', 'url': 'https://pokeapi.co/api/v2/move/504/'}, {'name': 'water-pledge', 'url': 'https://pokeapi.co/api/v2/move/518/'}, {'name': 'bulldoze', 'url': 'https://pokeapi.co/api/v2/move/523/'}, {'name': 'dragon-tail', 'url': 'https://pokeapi.co/api/v2/move/525/'}, {'name': 'work-up', 'url': 'https://pokeapi.co/api/v2/move/526/'}, {'name': 'confide', 'url': 'https://pokeapi.co/api/v2/move/590/'}, {'name': 'power-up-punch', 'url': 'https://pokeapi.co/api/v2/move/612/'}, {'name': 'liquidation', 'url': 'https://pokeapi.co/api/v2/move/710/'}, {'name': 'body-press', 'url': 'https://pokeapi.co/api/v2/move/776/'}, {'name': 'terrain-pulse', 'url': 'https://pokeapi.co/api/v2/move/805/'}, {'name': 'flip-turn', 'url': 'https://pokeapi.co/api/v2/move/812/'}]}, {'pokemon_id': 25, 'pokemon_name': 'pikachu', 'type': ['electric'], 'moves': [{'name': 'mega-punch', 'url': 'https://pokeapi.co/api/v2/move/5/'}, {'name': 'ice-punch', 'url': 'https://pokeapi.co/api/v2/move/8/'}, {'name': 'mega-kick', 'url': 'https://pokeapi.co/api/v2/move/25/'}, {'name': 'headbutt', 'url': 'https://pokeapi.co/api/v2/move/29/'}, {'name': 'tackle', 'url': 'https://pokeapi.co/api/v2/move/33/'}, {'name': 'body-slam', 'url': 'https://pokeapi.co/api/v2/move/34/'}, {'name': 'take-down', 'url': 'https://pokeapi.co/api/v2/move/36/'}, {'name': 'double-edge', 'url': 'https://pokeapi.co/api/v2/move/38/'}, {'name': 'tail-whip', 'url': 'https://pokeapi.co/api/v2/move/39/'}, {'name': 'bite', 'url': 'https://pokeapi.co/api/v2/move/44/'}, {'name': 'roar', 'url': 'https://pokeapi.co/api/v2/move/46/'}, {'name': 'water-gun', 'url': 'https://pokeapi.co/api/v2/move/55/'}, {'name': 'hydro-pump', 'url': 'https://pokeapi.co/api/v2/move/56/'}, {'name': 'surf', 'url': 'https://pokeapi.co/api/v2/move/57/'}, {'name': 'ice-beam', 'url': 'https://pokeapi.co/api/v2/move/58/'}, {'name': 'blizzard', 'url': 'https://pokeapi.co/api/v2/move/59/'}, {'name': 'bubble-beam', 'url': 'https://pokeapi.co/api/v2/move/61/'}, {'name': 'hyper-beam', 'url': 'https://pokeapi.co/api/v2/move/63/'}, {'name': 'submission', 'url': 'https://pokeapi.co/api/v2/move/66/'}, {'name': 'counter', 'url': 'https://pokeapi.co/api/v2/move/68/'}, {'name': 'seismic-toss', 'url': 'https://pokeapi.co/api/v2/move/69/'}, {'name': 'strength', 'url': 'https://pokeapi.co/api/v2/move/70/'}, {'name': 'earthquake', 'url': 'https://pokeapi.co/api/v2/move/89/'}, {'name': 'fissure', 'url': 'https://pokeapi.co/api/v2/move/90/'}, {'name': 'dig', 'url': 'https://pokeapi.co/api/v2/move/91/'}, {'name': 'toxic', 'url': 'https://pokeapi.co/api/v2/move/92/'}, {'name': 'rage', 'url': 'https://pokeapi.co/api/v2/move/99/'}, {'name': 'mimic', 'url': 'https://pokeapi.co/api/v2/move/102/'}, {'name': 'double-team', 'url': 'https://pokeapi.co/api/v2/move/104/'}, {'name': 'withdraw', 'url': 'https://pokeapi.co/api/v2/move/110/'}, {'name': 'defense-curl', 'url': 'https://pokeapi.co/api/v2/move/111/'}, {'name': 'reflect', 'url': 'https://pokeapi.co/api/v2/move/115/'}, {'name': 'bide', 'url': 'https://pokeapi.co/api/v2/move/117/'}, {'name': 'waterfall', 'url': 'https://pokeapi.co/api/v2/move/127/'}, {'name': 'skull-bash', 'url': 'https://pokeapi.co/api/v2/move/130/'}, {'name': 'bubble', 'url': 'https://pokeapi.co/api/v2/move/145/'}, {'name': 'rest', 'url': 'https://pokeapi.co/api/v2/move/156/'}, {'name': 'rock-slide', 'url': 'https://pokeapi.co/api/v2/move/157/'}, {'name': 'substitute', 'url': 'https://pokeapi.co/api/v2/move/164/'}, {'name': 'snore', 'url': 'https://pokeapi.co/api/v2/move/173/'}, {'name': 'curse', 'url': 'https://pokeapi.co/api/v2/move/174/'}, {'name': 'protect', 'url': 'https://pokeapi.co/api/v2/move/182/'}, {'name': 'mud-slap', 'url': 'https://pokeapi.co/api/v2/move/189/'}, {'name': 'icy-wind', 'url': 'https://pokeapi.co/api/v2/move/196/'}, {'name': 'outrage', 'url': 'https://pokeapi.co/api/v2/move/200/'}, {'name': 'endure', 'url': 'https://pokeapi.co/api/v2/move/203/'}, {'name': 'rollout', 'url': 'https://pokeapi.co/api/v2/move/205/'}, {'name': 'false-swipe', 'url': 'https://pokeapi.co/api/v2/move/206/'}, {'name': 'swagger', 'url': 'https://pokeapi.co/api/v2/move/207/'}, {'name': 'attract', 'url': 'https://pokeapi.co/api/v2/move/213/'}, {'name': 'sleep-talk', 'url': 'https://pokeapi.co/api/v2/move/214/'}, {'name': 'return', 'url': 'https://pokeapi.co/api/v2/move/216/'}, {'name': 'frustration', 'url': 'https://pokeapi.co/api/v2/move/218/'}, {'name': 'dynamic-punch', 'url': 'https://pokeapi.co/api/v2/move/223/'}, {'name': 'rapid-spin', 'url': 'https://pokeapi.co/api/v2/move/229/'}, {'name': 'iron-tail', 'url': 'https://pokeapi.co/api/v2/move/231/'}, {'name': 'hidden-power', 'url': 'https://pokeapi.co/api/v2/move/237/'}, {'name': 'rain-dance', 'url': 'https://pokeapi.co/api/v2/move/240/'}, {'name': 'crunch', 'url': 'https://pokeapi.co/api/v2/move/242/'}, {'name': 'rock-smash', 'url': 'https://pokeapi.co/api/v2/move/249/'}, {'name': 'whirlpool', 'url': 'https://pokeapi.co/api/v2/move/250/'}, {'name': 'fake-out', 'url': 'https://pokeapi.co/api/v2/move/252/'}, {'name': 'hail', 'url': 'https://pokeapi.co/api/v2/move/258/'}, {'name': 'facade', 'url': 'https://pokeapi.co/api/v2/move/263/'}, {'name': 'focus-punch', 'url': 'https://pokeapi.co/api/v2/move/264/'}, {'name': 'helping-hand', 'url': 'https://pokeapi.co/api/v2/move/270/'}, {'name': 'brick-break', 'url': 'https://pokeapi.co/api/v2/move/280/'}, {'name': 'secret-power', 'url': 'https://pokeapi.co/api/v2/move/290/'}, {'name': 'dive', 'url': 'https://pokeapi.co/api/v2/move/291/'}, {'name': 'hydro-cannon', 'url': 'https://pokeapi.co/api/v2/move/308/'}, {'name': 'weather-ball', 'url': 'https://pokeapi.co/api/v2/move/311/'}, {'name': 'rock-tomb', 'url': 'https://pokeapi.co/api/v2/move/317/'}, {'name': 'signal-beam', 'url': 'https://pokeapi.co/api/v2/move/324/'}, {'name': 'muddy-water', 'url': 'https://pokeapi.co/api/v2/move/330/'}, {'name': 'iron-defense', 'url': 'https://pokeapi.co/api/v2/move/334/'}, {'name': 'water-pulse', 'url': 'https://pokeapi.co/api/v2/move/352/'}, {'name': 'gyro-ball', 'url': 'https://pokeapi.co/api/v2/move/360/'}, {'name': 'brine', 'url': 'https://pokeapi.co/api/v2/move/362/'}, {'name': 'natural-gift', 'url': 'https://pokeapi.co/api/v2/move/363/'}, {'name': 'fling', 'url': 'https://pokeapi.co/api/v2/move/374/'}, {'name': 'aura-sphere', 'url': 'https://pokeapi.co/api/v2/move/396/'}, {'name': 'dark-pulse', 'url': 'https://pokeapi.co/api/v2/move/399/'}, {'name': 'aqua-tail', 'url': 'https://pokeapi.co/api/v2/move/401/'}, {'name': 'dragon-pulse', 'url': 'https://pokeapi.co/api/v2/move/406/'}, {'name': 'focus-blast', 'url': 'https://pokeapi.co/api/v2/move/411/'}, {'name': 'giga-impact', 'url': 'https://pokeapi.co/api/v2/move/416/'}, {'name': 'avalanche', 'url': 'https://pokeapi.co/api/v2/move/419/'}, {'name': 'zen-headbutt', 'url': 'https://pokeapi.co/api/v2/move/428/'}, {'name': 'flash-cannon', 'url': 'https://pokeapi.co/api/v2/move/430/'}, {'name': 'rock-climb', 'url': 'https://pokeapi.co/api/v2/move/431/'}, {'name': 'captivate', 'url': 'https://pokeapi.co/api/v2/move/445/'}, {'name': 'aqua-jet', 'url': 'https://pokeapi.co/api/v2/move/453/'}, {'name': 'smack-down', 'url': 'https://pokeapi.co/api/v2/move/479/'}, {'name': 'round', 'url': 'https://pokeapi.co/api/v2/move/496/'}, {'name': 'scald', 'url': 'https://pokeapi.co/api/v2/move/503/'}, {'name': 'shell-smash', 'url': 'https://pokeapi.co/api/v2/move/504/'}, {'name': 'water-pledge', 'url': 'https://pokeapi.co/api/v2/move/518/'}, {'name': 'bulldoze', 'url': 'https://pokeapi.co/api/v2/move/523/'}, {'name': 'dragon-tail', 'url': 'https://pokeapi.co/api/v2/move/525/'}, {'name': 'work-up', 'url': 'https://pokeapi.co/api/v2/move/526/'}, {'name': 'confide', 'url': 'https://pokeapi.co/api/v2/move/590/'}, {'name': 'power-up-punch', 'url': 'https://pokeapi.co/api/v2/move/612/'}, {'name': 'liquidation', 'url': 'https://pokeapi.co/api/v2/move/710/'}, {'name': 'body-press', 'url': 'https://pokeapi.co/api/v2/move/776/'}, {'name': 'terrain-pulse', 'url': 'https://pokeapi.co/api/v2/move/805/'}, {'name': 'flip-turn', 'url': 'https://pokeapi.co/api/v2/move/812/'}]}, {'pokemon_id': 94, 'pokemon_name': 'gengar', 'type': ['ghost, poison'], 'moves': [{'name': 'mega-punch', 'url': 'https://pokeapi.co/api/v2/move/5/'}, {'name': 'ice-punch', 'url': 'https://pokeapi.co/api/v2/move/8/'}, {'name': 'mega-kick', 'url': 'https://pokeapi.co/api/v2/move/25/'}, {'name': 'headbutt', 'url': 'https://pokeapi.co/api/v2/move/29/'}, {'name': 'tackle', 'url': 'https://pokeapi.co/api/v2/move/33/'}, {'name': 'body-slam', 'url': 'https://pokeapi.co/api/v2/move/34/'}, {'name': 'take-down', 'url': 'https://pokeapi.co/api/v2/move/36/'}, {'name': 'double-edge', 'url': 'https://pokeapi.co/api/v2/move/38/'}, {'name': 'tail-whip', 'url': 'https://pokeapi.co/api/v2/move/39/'}, {'name': 'bite', 'url': 'https://pokeapi.co/api/v2/move/44/'}, {'name': 'roar', 'url': 'https://pokeapi.co/api/v2/move/46/'}, {'name': 'water-gun', 'url': 'https://pokeapi.co/api/v2/move/55/'}, {'name': 'hydro-pump', 'url': 'https://pokeapi.co/api/v2/move/56/'}, {'name': 'surf', 'url': 'https://pokeapi.co/api/v2/move/57/'}, {'name': 'ice-beam', 'url': 'https://pokeapi.co/api/v2/move/58/'}, {'name': 'blizzard', 'url': 'https://pokeapi.co/api/v2/move/59/'}, {'name': 'bubble-beam', 'url': 'https://pokeapi.co/api/v2/move/61/'}, {'name': 'hyper-beam', 'url': 'https://pokeapi.co/api/v2/move/63/'}, {'name': 'submission', 'url': 'https://pokeapi.co/api/v2/move/66/'}, {'name': 'counter', 'url': 'https://pokeapi.co/api/v2/move/68/'}, {'name': 'seismic-toss', 'url': 'https://pokeapi.co/api/v2/move/69/'}, {'name': 'strength', 'url': 'https://pokeapi.co/api/v2/move/70/'}, {'name': 'earthquake', 'url': 'https://pokeapi.co/api/v2/move/89/'}, {'name': 'fissure', 'url': 'https://pokeapi.co/api/v2/move/90/'}, {'name': 'dig', 'url': 'https://pokeapi.co/api/v2/move/91/'}, {'name': 'toxic', 'url': 'https://pokeapi.co/api/v2/move/92/'}, {'name': 'rage', 'url': 'https://pokeapi.co/api/v2/move/99/'}, {'name': 'mimic', 'url': 'https://pokeapi.co/api/v2/move/102/'}, {'name': 'double-team', 'url': 'https://pokeapi.co/api/v2/move/104/'}, {'name': 'withdraw', 'url': 'https://pokeapi.co/api/v2/move/110/'}, {'name': 'defense-curl', 'url': 'https://pokeapi.co/api/v2/move/111/'}, {'name': 'reflect', 'url': 'https://pokeapi.co/api/v2/move/115/'}, {'name': 'bide', 'url': 'https://pokeapi.co/api/v2/move/117/'}, {'name': 'waterfall', 'url': 'https://pokeapi.co/api/v2/move/127/'}, {'name': 'skull-bash', 'url': 'https://pokeapi.co/api/v2/move/130/'}, {'name': 'bubble', 'url': 'https://pokeapi.co/api/v2/move/145/'}, {'name': 'rest', 'url': 'https://pokeapi.co/api/v2/move/156/'}, {'name': 'rock-slide', 'url': 'https://pokeapi.co/api/v2/move/157/'}, {'name': 'substitute', 'url': 'https://pokeapi.co/api/v2/move/164/'}, {'name': 'snore', 'url': 'https://pokeapi.co/api/v2/move/173/'}, {'name': 'curse', 'url': 'https://pokeapi.co/api/v2/move/174/'}, {'name': 'protect', 'url': 'https://pokeapi.co/api/v2/move/182/'}, {'name': 'mud-slap', 'url': 'https://pokeapi.co/api/v2/move/189/'}, {'name': 'icy-wind', 'url': 'https://pokeapi.co/api/v2/move/196/'}, {'name': 'outrage', 'url': 'https://pokeapi.co/api/v2/move/200/'}, {'name': 'endure', 'url': 'https://pokeapi.co/api/v2/move/203/'}, {'name': 'rollout', 'url': 'https://pokeapi.co/api/v2/move/205/'}, {'name': 'false-swipe', 'url': 'https://pokeapi.co/api/v2/move/206/'}, {'name': 'swagger', 'url': 'https://pokeapi.co/api/v2/move/207/'}, {'name': 'attract', 'url': 'https://pokeapi.co/api/v2/move/213/'}, {'name': 'sleep-talk', 'url': 'https://pokeapi.co/api/v2/move/214/'}, {'name': 'return', 'url': 'https://pokeapi.co/api/v2/move/216/'}, {'name': 'frustration', 'url': 'https://pokeapi.co/api/v2/move/218/'}, {'name': 'dynamic-punch', 'url': 'https://pokeapi.co/api/v2/move/223/'}, {'name': 'rapid-spin', 'url': 'https://pokeapi.co/api/v2/move/229/'}, {'name': 'iron-tail', 'url': 'https://pokeapi.co/api/v2/move/231/'}, {'name': 'hidden-power', 'url': 'https://pokeapi.co/api/v2/move/237/'}, {'name': 'rain-dance', 'url': 'https://pokeapi.co/api/v2/move/240/'}, {'name': 'crunch', 'url': 'https://pokeapi.co/api/v2/move/242/'}, {'name': 'rock-smash', 'url': 'https://pokeapi.co/api/v2/move/249/'}, {'name': 'whirlpool', 'url': 'https://pokeapi.co/api/v2/move/250/'}, {'name': 'fake-out', 'url': 'https://pokeapi.co/api/v2/move/252/'}, {'name': 'hail', 'url': 'https://pokeapi.co/api/v2/move/258/'}, {'name': 'facade', 'url': 'https://pokeapi.co/api/v2/move/263/'}, {'name': 'focus-punch', 'url': 'https://pokeapi.co/api/v2/move/264/'}, {'name': 'helping-hand', 'url': 'https://pokeapi.co/api/v2/move/270/'}, {'name': 'brick-break', 'url': 'https://pokeapi.co/api/v2/move/280/'}, {'name': 'secret-power', 'url': 'https://pokeapi.co/api/v2/move/290/'}, {'name': 'dive', 'url': 'https://pokeapi.co/api/v2/move/291/'}, {'name': 'hydro-cannon', 'url': 'https://pokeapi.co/api/v2/move/308/'}, {'name': 'weather-ball', 'url': 'https://pokeapi.co/api/v2/move/311/'}, {'name': 'rock-tomb', 'url': 'https://pokeapi.co/api/v2/move/317/'}, {'name': 'signal-beam', 'url': 'https://pokeapi.co/api/v2/move/324/'}, {'name': 'muddy-water', 'url': 'https://pokeapi.co/api/v2/move/330/'}, {'name': 'iron-defense', 'url': 'https://pokeapi.co/api/v2/move/334/'}, {'name': 'water-pulse', 'url': 'https://pokeapi.co/api/v2/move/352/'}, {'name': 'gyro-ball', 'url': 'https://pokeapi.co/api/v2/move/360/'}, {'name': 'brine', 'url': 'https://pokeapi.co/api/v2/move/362/'}, {'name': 'natural-gift', 'url': 'https://pokeapi.co/api/v2/move/363/'}, {'name': 'fling', 'url': 'https://pokeapi.co/api/v2/move/374/'}, {'name': 'aura-sphere', 'url': 'https://pokeapi.co/api/v2/move/396/'}, {'name': 'dark-pulse', 'url': 'https://pokeapi.co/api/v2/move/399/'}, {'name': 'aqua-tail', 'url': 'https://pokeapi.co/api/v2/move/401/'}, {'name': 'dragon-pulse', 'url': 'https://pokeapi.co/api/v2/move/406/'}, {'name': 'focus-blast', 'url': 'https://pokeapi.co/api/v2/move/411/'}, {'name': 'giga-impact', 'url': 'https://pokeapi.co/api/v2/move/416/'}, {'name': 'avalanche', 'url': 'https://pokeapi.co/api/v2/move/419/'}, {'name': 'zen-headbutt', 'url': 'https://pokeapi.co/api/v2/move/428/'}, {'name': 'flash-cannon', 'url': 'https://pokeapi.co/api/v2/move/430/'}, {'name': 'rock-climb', 'url': 'https://pokeapi.co/api/v2/move/431/'}, {'name': 'captivate', 'url': 'https://pokeapi.co/api/v2/move/445/'}, {'name': 'aqua-jet', 'url': 'https://pokeapi.co/api/v2/move/453/'}, {'name': 'smack-down', 'url': 'https://pokeapi.co/api/v2/move/479/'}, {'name': 'round', 'url': 'https://pokeapi.co/api/v2/move/496/'}, {'name': 'scald', 'url': 'https://pokeapi.co/api/v2/move/503/'}, {'name': 'shell-smash', 'url': 'https://pokeapi.co/api/v2/move/504/'}, {'name': 'water-pledge', 'url': 'https://pokeapi.co/api/v2/move/518/'}, {'name': 'bulldoze', 'url': 'https://pokeapi.co/api/v2/move/523/'}, {'name': 'dragon-tail', 'url': 'https://pokeapi.co/api/v2/move/525/'}, {'name': 'work-up', 'url': 'https://pokeapi.co/api/v2/move/526/'}, {'name': 'confide', 'url': 'https://pokeapi.co/api/v2/move/590/'}, {'name': 'power-up-punch', 'url': 'https://pokeapi.co/api/v2/move/612/'}, {'name': 'liquidation', 'url': 'https://pokeapi.co/api/v2/move/710/'}, {'name': 'body-press', 'url': 'https://pokeapi.co/api/v2/move/776/'}, {'name': 'terrain-pulse', 'url': 'https://pokeapi.co/api/v2/move/805/'}, {'name': 'flip-turn', 'url': 'https://pokeapi.co/api/v2/move/812/'}]}, {'pokemon_id': 6, 'pokemon_name': 'charizard', 'type': ['fire, flying'], 'moves': [{'name': 'mega-punch', 'url': 'https://pokeapi.co/api/v2/move/5/'}, {'name': 'ice-punch', 'url': 'https://pokeapi.co/api/v2/move/8/'}, {'name': 'mega-kick', 'url': 'https://pokeapi.co/api/v2/move/25/'}, {'name': 'headbutt', 'url': 'https://pokeapi.co/api/v2/move/29/'}, {'name': 'tackle', 'url': 'https://pokeapi.co/api/v2/move/33/'}, {'name': 'body-slam', 'url': 'https://pokeapi.co/api/v2/move/34/'}, {'name': 'take-down', 'url': 'https://pokeapi.co/api/v2/move/36/'}, {'name': 'double-edge', 'url': 'https://pokeapi.co/api/v2/move/38/'}, {'name': 'tail-whip', 'url': 'https://pokeapi.co/api/v2/move/39/'}, {'name': 'bite', 'url': 'https://pokeapi.co/api/v2/move/44/'}, {'name': 'roar', 'url': 'https://pokeapi.co/api/v2/move/46/'}, {'name': 'water-gun', 'url': 'https://pokeapi.co/api/v2/move/55/'}, {'name': 'hydro-pump', 'url': 'https://pokeapi.co/api/v2/move/56/'}, {'name': 'surf', 'url': 'https://pokeapi.co/api/v2/move/57/'}, {'name': 'ice-beam', 'url': 'https://pokeapi.co/api/v2/move/58/'}, {'name': 'blizzard', 'url': 'https://pokeapi.co/api/v2/move/59/'}, {'name': 'bubble-beam', 'url': 'https://pokeapi.co/api/v2/move/61/'}, {'name': 'hyper-beam', 'url': 'https://pokeapi.co/api/v2/move/63/'}, {'name': 'submission', 'url': 'https://pokeapi.co/api/v2/move/66/'}, {'name': 'counter', 'url': 'https://pokeapi.co/api/v2/move/68/'}, {'name': 'seismic-toss', 'url': 'https://pokeapi.co/api/v2/move/69/'}, {'name': 'strength', 'url': 'https://pokeapi.co/api/v2/move/70/'}, {'name': 'earthquake', 'url': 'https://pokeapi.co/api/v2/move/89/'}, {'name': 'fissure', 'url': 'https://pokeapi.co/api/v2/move/90/'}, {'name': 'dig', 'url': 'https://pokeapi.co/api/v2/move/91/'}, {'name': 'toxic', 'url': 'https://pokeapi.co/api/v2/move/92/'}, {'name': 'rage', 'url': 'https://pokeapi.co/api/v2/move/99/'}, {'name': 'mimic', 'url': 'https://pokeapi.co/api/v2/move/102/'}, {'name': 'double-team', 'url': 'https://pokeapi.co/api/v2/move/104/'}, {'name': 'withdraw', 'url': 'https://pokeapi.co/api/v2/move/110/'}, {'name': 'defense-curl', 'url': 'https://pokeapi.co/api/v2/move/111/'}, {'name': 'reflect', 'url': 'https://pokeapi.co/api/v2/move/115/'}, {'name': 'bide', 'url': 'https://pokeapi.co/api/v2/move/117/'}, {'name': 'waterfall', 'url': 'https://pokeapi.co/api/v2/move/127/'}, {'name': 'skull-bash', 'url': 'https://pokeapi.co/api/v2/move/130/'}, {'name': 'bubble', 'url': 'https://pokeapi.co/api/v2/move/145/'}, {'name': 'rest', 'url': 'https://pokeapi.co/api/v2/move/156/'}, {'name': 'rock-slide', 'url': 'https://pokeapi.co/api/v2/move/157/'}, {'name': 'substitute', 'url': 'https://pokeapi.co/api/v2/move/164/'}, {'name': 'snore', 'url': 'https://pokeapi.co/api/v2/move/173/'}, {'name': 'curse', 'url': 'https://pokeapi.co/api/v2/move/174/'}, {'name': 'protect', 'url': 'https://pokeapi.co/api/v2/move/182/'}, {'name': 'mud-slap', 'url': 'https://pokeapi.co/api/v2/move/189/'}, {'name': 'icy-wind', 'url': 'https://pokeapi.co/api/v2/move/196/'}, {'name': 'outrage', 'url': 'https://pokeapi.co/api/v2/move/200/'}, {'name': 'endure', 'url': 'https://pokeapi.co/api/v2/move/203/'}, {'name': 'rollout', 'url': 'https://pokeapi.co/api/v2/move/205/'}, {'name': 'false-swipe', 'url': 'https://pokeapi.co/api/v2/move/206/'}, {'name': 'swagger', 'url': 'https://pokeapi.co/api/v2/move/207/'}, {'name': 'attract', 'url': 'https://pokeapi.co/api/v2/move/213/'}, {'name': 'sleep-talk', 'url': 'https://pokeapi.co/api/v2/move/214/'}, {'name': 'return', 'url': 'https://pokeapi.co/api/v2/move/216/'}, {'name': 'frustration', 'url': 'https://pokeapi.co/api/v2/move/218/'}, {'name': 'dynamic-punch', 'url': 'https://pokeapi.co/api/v2/move/223/'}, {'name': 'rapid-spin', 'url': 'https://pokeapi.co/api/v2/move/229/'}, {'name': 'iron-tail', 'url': 'https://pokeapi.co/api/v2/move/231/'}, {'name': 'hidden-power', 'url': 'https://pokeapi.co/api/v2/move/237/'}, {'name': 'rain-dance', 'url': 'https://pokeapi.co/api/v2/move/240/'}, {'name': 'crunch', 'url': 'https://pokeapi.co/api/v2/move/242/'}, {'name': 'rock-smash', 'url': 'https://pokeapi.co/api/v2/move/249/'}, {'name': 'whirlpool', 'url': 'https://pokeapi.co/api/v2/move/250/'}, {'name': 'fake-out', 'url': 'https://pokeapi.co/api/v2/move/252/'}, {'name': 'hail', 'url': 'https://pokeapi.co/api/v2/move/258/'}, {'name': 'facade', 'url': 'https://pokeapi.co/api/v2/move/263/'}, {'name': 'focus-punch', 'url': 'https://pokeapi.co/api/v2/move/264/'}, {'name': 'helping-hand', 'url': 'https://pokeapi.co/api/v2/move/270/'}, {'name': 'brick-break', 'url': 'https://pokeapi.co/api/v2/move/280/'}, {'name': 'secret-power', 'url': 'https://pokeapi.co/api/v2/move/290/'}, {'name': 'dive', 'url': 'https://pokeapi.co/api/v2/move/291/'}, {'name': 'hydro-cannon', 'url': 'https://pokeapi.co/api/v2/move/308/'}, {'name': 'weather-ball', 'url': 'https://pokeapi.co/api/v2/move/311/'}, {'name': 'rock-tomb', 'url': 'https://pokeapi.co/api/v2/move/317/'}, {'name': 'signal-beam', 'url': 'https://pokeapi.co/api/v2/move/324/'}, {'name': 'muddy-water', 'url': 'https://pokeapi.co/api/v2/move/330/'}, {'name': 'iron-defense', 'url': 'https://pokeapi.co/api/v2/move/334/'}, {'name': 'water-pulse', 'url': 'https://pokeapi.co/api/v2/move/352/'}, {'name': 'gyro-ball', 'url': 'https://pokeapi.co/api/v2/move/360/'}, {'name': 'brine', 'url': 'https://pokeapi.co/api/v2/move/362/'}, {'name': 'natural-gift', 'url': 'https://pokeapi.co/api/v2/move/363/'}, {'name': 'fling', 'url': 'https://pokeapi.co/api/v2/move/374/'}, {'name': 'aura-sphere', 'url': 'https://pokeapi.co/api/v2/move/396/'}, {'name': 'dark-pulse', 'url': 'https://pokeapi.co/api/v2/move/399/'}, {'name': 'aqua-tail', 'url': 'https://pokeapi.co/api/v2/move/401/'}, {'name': 'dragon-pulse', 'url': 'https://pokeapi.co/api/v2/move/406/'}, {'name': 'focus-blast', 'url': 'https://pokeapi.co/api/v2/move/411/'}, {'name': 'giga-impact', 'url': 'https://pokeapi.co/api/v2/move/416/'}, {'name': 'avalanche', 'url': 'https://pokeapi.co/api/v2/move/419/'}, {'name': 'zen-headbutt', 'url': 'https://pokeapi.co/api/v2/move/428/'}, {'name': 'flash-cannon', 'url': 'https://pokeapi.co/api/v2/move/430/'}, {'name': 'rock-climb', 'url': 'https://pokeapi.co/api/v2/move/431/'}, {'name': 'captivate', 'url': 'https://pokeapi.co/api/v2/move/445/'}, {'name': 'aqua-jet', 'url': 'https://pokeapi.co/api/v2/move/453/'}, {'name': 'smack-down', 'url': 'https://pokeapi.co/api/v2/move/479/'}, {'name': 'round', 'url': 'https://pokeapi.co/api/v2/move/496/'}, {'name': 'scald', 'url': 'https://pokeapi.co/api/v2/move/503/'}, {'name': 'shell-smash', 'url': 'https://pokeapi.co/api/v2/move/504/'}, {'name': 'water-pledge', 'url': 'https://pokeapi.co/api/v2/move/518/'}, {'name': 'bulldoze', 'url': 'https://pokeapi.co/api/v2/move/523/'}, {'name': 'dragon-tail', 'url': 'https://pokeapi.co/api/v2/move/525/'}, {'name': 'work-up', 'url': 'https://pokeapi.co/api/v2/move/526/'}, {'name': 'confide', 'url': 'https://pokeapi.co/api/v2/move/590/'}, {'name': 'power-up-punch', 'url': 'https://pokeapi.co/api/v2/move/612/'}, {'name': 'liquidation', 'url': 'https://pokeapi.co/api/v2/move/710/'}, {'name': 'body-press', 'url': 'https://pokeapi.co/api/v2/move/776/'}, {'name': 'terrain-pulse', 'url': 'https://pokeapi.co/api/v2/move/805/'}, {'name': 'flip-turn', 'url': 'https://pokeapi.co/api/v2/move/812/'}]}, {'pokemon_id': 9, 'pokemon_name': 'blastoise', 'type': ['water'], 'moves': [{'name': 'mega-punch', 'url': 'https://pokeapi.co/api/v2/move/5/'}, {'name': 'ice-punch', 'url': 'https://pokeapi.co/api/v2/move/8/'}, {'name': 'mega-kick', 'url': 'https://pokeapi.co/api/v2/move/25/'}, {'name': 'headbutt', 'url': 'https://pokeapi.co/api/v2/move/29/'}, {'name': 'tackle', 'url': 'https://pokeapi.co/api/v2/move/33/'}, {'name': 'body-slam', 'url': 'https://pokeapi.co/api/v2/move/34/'}, {'name': 'take-down', 'url': 'https://pokeapi.co/api/v2/move/36/'}, {'name': 'double-edge', 'url': 'https://pokeapi.co/api/v2/move/38/'}, {'name': 'tail-whip', 'url': 'https://pokeapi.co/api/v2/move/39/'}, {'name': 'bite', 'url': 'https://pokeapi.co/api/v2/move/44/'}, {'name': 'roar', 'url': 'https://pokeapi.co/api/v2/move/46/'}, {'name': 'water-gun', 'url': 'https://pokeapi.co/api/v2/move/55/'}, {'name': 'hydro-pump', 'url': 'https://pokeapi.co/api/v2/move/56/'}, {'name': 'surf', 'url': 'https://pokeapi.co/api/v2/move/57/'}, {'name': 'ice-beam', 'url': 'https://pokeapi.co/api/v2/move/58/'}, {'name': 'blizzard', 'url': 'https://pokeapi.co/api/v2/move/59/'}, {'name': 'bubble-beam', 'url': 'https://pokeapi.co/api/v2/move/61/'}, {'name': 'hyper-beam', 'url': 'https://pokeapi.co/api/v2/move/63/'}, {'name': 'submission', 'url': 'https://pokeapi.co/api/v2/move/66/'}, {'name': 'counter', 'url': 'https://pokeapi.co/api/v2/move/68/'}, {'name': 'seismic-toss', 'url': 'https://pokeapi.co/api/v2/move/69/'}, {'name': 'strength', 'url': 'https://pokeapi.co/api/v2/move/70/'}, {'name': 'earthquake', 'url': 'https://pokeapi.co/api/v2/move/89/'}, {'name': 'fissure', 'url': 'https://pokeapi.co/api/v2/move/90/'}, {'name': 'dig', 'url': 'https://pokeapi.co/api/v2/move/91/'}, {'name': 'toxic', 'url': 'https://pokeapi.co/api/v2/move/92/'}, {'name': 'rage', 'url': 'https://pokeapi.co/api/v2/move/99/'}, {'name': 'mimic', 'url': 'https://pokeapi.co/api/v2/move/102/'}, {'name': 'double-team', 'url': 'https://pokeapi.co/api/v2/move/104/'}, {'name': 'withdraw', 'url': 'https://pokeapi.co/api/v2/move/110/'}, {'name': 'defense-curl', 'url': 'https://pokeapi.co/api/v2/move/111/'}, {'name': 'reflect', 'url': 'https://pokeapi.co/api/v2/move/115/'}, {'name': 'bide', 'url': 'https://pokeapi.co/api/v2/move/117/'}, {'name': 'waterfall', 'url': 'https://pokeapi.co/api/v2/move/127/'}, {'name': 'skull-bash', 'url': 'https://pokeapi.co/api/v2/move/130/'}, {'name': 'bubble', 'url': 'https://pokeapi.co/api/v2/move/145/'}, {'name': 'rest', 'url': 'https://pokeapi.co/api/v2/move/156/'}, {'name': 'rock-slide', 'url': 'https://pokeapi.co/api/v2/move/157/'}, {'name': 'substitute', 'url': 'https://pokeapi.co/api/v2/move/164/'}, {'name': 'snore', 'url': 'https://pokeapi.co/api/v2/move/173/'}, {'name': 'curse', 'url': 'https://pokeapi.co/api/v2/move/174/'}, {'name': 'protect', 'url': 'https://pokeapi.co/api/v2/move/182/'}, {'name': 'mud-slap', 'url': 'https://pokeapi.co/api/v2/move/189/'}, {'name': 'icy-wind', 'url': 'https://pokeapi.co/api/v2/move/196/'}, {'name': 'outrage', 'url': 'https://pokeapi.co/api/v2/move/200/'}, {'name': 'endure', 'url': 'https://pokeapi.co/api/v2/move/203/'}, {'name': 'rollout', 'url': 'https://pokeapi.co/api/v2/move/205/'}, {'name': 'false-swipe', 'url': 'https://pokeapi.co/api/v2/move/206/'}, {'name': 'swagger', 'url': 'https://pokeapi.co/api/v2/move/207/'}, {'name': 'attract', 'url': 'https://pokeapi.co/api/v2/move/213/'}, {'name': 'sleep-talk', 'url': 'https://pokeapi.co/api/v2/move/214/'}, {'name': 'return', 'url': 'https://pokeapi.co/api/v2/move/216/'}, {'name': 'frustration', 'url': 'https://pokeapi.co/api/v2/move/218/'}, {'name': 'dynamic-punch', 'url': 'https://pokeapi.co/api/v2/move/223/'}, {'name': 'rapid-spin', 'url': 'https://pokeapi.co/api/v2/move/229/'}, {'name': 'iron-tail', 'url': 'https://pokeapi.co/api/v2/move/231/'}, {'name': 'hidden-power', 'url': 'https://pokeapi.co/api/v2/move/237/'}, {'name': 'rain-dance', 'url': 'https://pokeapi.co/api/v2/move/240/'}, {'name': 'crunch', 'url': 'https://pokeapi.co/api/v2/move/242/'}, {'name': 'rock-smash', 'url': 'https://pokeapi.co/api/v2/move/249/'}, {'name': 'whirlpool', 'url': 'https://pokeapi.co/api/v2/move/250/'}, {'name': 'fake-out', 'url': 'https://pokeapi.co/api/v2/move/252/'}, {'name': 'hail', 'url': 'https://pokeapi.co/api/v2/move/258/'}, {'name': 'facade', 'url': 'https://pokeapi.co/api/v2/move/263/'}, {'name': 'focus-punch', 'url': 'https://pokeapi.co/api/v2/move/264/'}, {'name': 'helping-hand', 'url': 'https://pokeapi.co/api/v2/move/270/'}, {'name': 'brick-break', 'url': 'https://pokeapi.co/api/v2/move/280/'}, {'name': 'secret-power', 'url': 'https://pokeapi.co/api/v2/move/290/'}, {'name': 'dive', 'url': 'https://pokeapi.co/api/v2/move/291/'}, {'name': 'hydro-cannon', 'url': 'https://pokeapi.co/api/v2/move/308/'}, {'name': 'weather-ball', 'url': 'https://pokeapi.co/api/v2/move/311/'}, {'name': 'rock-tomb', 'url': 'https://pokeapi.co/api/v2/move/317/'}, {'name': 'signal-beam', 'url': 'https://pokeapi.co/api/v2/move/324/'}, {'name': 'muddy-water', 'url': 'https://pokeapi.co/api/v2/move/330/'}, {'name': 'iron-defense', 'url': 'https://pokeapi.co/api/v2/move/334/'}, {'name': 'water-pulse', 'url': 'https://pokeapi.co/api/v2/move/352/'}, {'name': 'gyro-ball', 'url': 'https://pokeapi.co/api/v2/move/360/'}, {'name': 'brine', 'url': 'https://pokeapi.co/api/v2/move/362/'}, {'name': 'natural-gift', 'url': 'https://pokeapi.co/api/v2/move/363/'}, {'name': 'fling', 'url': 'https://pokeapi.co/api/v2/move/374/'}, {'name': 'aura-sphere', 'url': 'https://pokeapi.co/api/v2/move/396/'}, {'name': 'dark-pulse', 'url': 'https://pokeapi.co/api/v2/move/399/'}, {'name': 'aqua-tail', 'url': 'https://pokeapi.co/api/v2/move/401/'}, {'name': 'dragon-pulse', 'url': 'https://pokeapi.co/api/v2/move/406/'}, {'name': 'focus-blast', 'url': 'https://pokeapi.co/api/v2/move/411/'}, {'name': 'giga-impact', 'url': 'https://pokeapi.co/api/v2/move/416/'}, {'name': 'avalanche', 'url': 'https://pokeapi.co/api/v2/move/419/'}, {'name': 'zen-headbutt', 'url': 'https://pokeapi.co/api/v2/move/428/'}, {'name': 'flash-cannon', 'url': 'https://pokeapi.co/api/v2/move/430/'}, {'name': 'rock-climb', 'url': 'https://pokeapi.co/api/v2/move/431/'}, {'name': 'captivate', 'url': 'https://pokeapi.co/api/v2/move/445/'}, {'name': 'aqua-jet', 'url': 'https://pokeapi.co/api/v2/move/453/'}, {'name': 'smack-down', 'url': 'https://pokeapi.co/api/v2/move/479/'}, {'name': 'round', 'url': 'https://pokeapi.co/api/v2/move/496/'}, {'name': 'scald', 'url': 'https://pokeapi.co/api/v2/move/503/'}, {'name': 'shell-smash', 'url': 'https://pokeapi.co/api/v2/move/504/'}, {'name': 'water-pledge', 'url': 'https://pokeapi.co/api/v2/move/518/'}, {'name': 'bulldoze', 'url': 'https://pokeapi.co/api/v2/move/523/'}, {'name': 'dragon-tail', 'url': 'https://pokeapi.co/api/v2/move/525/'}, {'name': 'work-up', 'url': 'https://pokeapi.co/api/v2/move/526/'}, {'name': 'confide', 'url': 'https://pokeapi.co/api/v2/move/590/'}, {'name': 'power-up-punch', 'url': 'https://pokeapi.co/api/v2/move/612/'}, {'name': 'liquidation', 'url': 'https://pokeapi.co/api/v2/move/710/'}, {'name': 'body-press', 'url': 'https://pokeapi.co/api/v2/move/776/'}, {'name': 'terrain-pulse', 'url': 'https://pokeapi.co/api/v2/move/805/'}, {'name': 'flip-turn', 'url': 'https://pokeapi.co/api/v2/move/812/'}]}, {'pokemon_id': 3, 'pokemon_name': 'venusaur', 'type': ['grass, poison'], 'moves': [{'name': 'mega-punch', 'url': 'https://pokeapi.co/api/v2/move/5/'}, {'name': 'ice-punch', 'url': 'https://pokeapi.co/api/v2/move/8/'}, {'name': 'mega-kick', 'url': 'https://pokeapi.co/api/v2/move/25/'}, {'name': 'headbutt', 'url': 'https://pokeapi.co/api/v2/move/29/'}, {'name': 'tackle', 'url': 'https://pokeapi.co/api/v2/move/33/'}, {'name': 'body-slam', 'url': 'https://pokeapi.co/api/v2/move/34/'}, {'name': 'take-down', 'url': 'https://pokeapi.co/api/v2/move/36/'}, {'name': 'double-edge', 'url': 'https://pokeapi.co/api/v2/move/38/'}, {'name': 'tail-whip', 'url': 'https://pokeapi.co/api/v2/move/39/'}, {'name': 'bite', 'url': 'https://pokeapi.co/api/v2/move/44/'}, {'name': 'roar', 'url': 'https://pokeapi.co/api/v2/move/46/'}, {'name': 'water-gun', 'url': 'https://pokeapi.co/api/v2/move/55/'}, {'name': 'hydro-pump', 'url': 'https://pokeapi.co/api/v2/move/56/'}, {'name': 'surf', 'url': 'https://pokeapi.co/api/v2/move/57/'}, {'name': 'ice-beam', 'url': 'https://pokeapi.co/api/v2/move/58/'}, {'name': 'blizzard', 'url': 'https://pokeapi.co/api/v2/move/59/'}, {'name': 'bubble-beam', 'url': 'https://pokeapi.co/api/v2/move/61/'}, {'name': 'hyper-beam', 'url': 'https://pokeapi.co/api/v2/move/63/'}, {'name': 'submission', 'url': 'https://pokeapi.co/api/v2/move/66/'}, {'name': 'counter', 'url': 'https://pokeapi.co/api/v2/move/68/'}, {'name': 'seismic-toss', 'url': 'https://pokeapi.co/api/v2/move/69/'}, {'name': 'strength', 'url': 'https://pokeapi.co/api/v2/move/70/'}, {'name': 'earthquake', 'url': 'https://pokeapi.co/api/v2/move/89/'}, {'name': 'fissure', 'url': 'https://pokeapi.co/api/v2/move/90/'}, {'name': 'dig', 'url': 'https://pokeapi.co/api/v2/move/91/'}, {'name': 'toxic', 'url': 'https://pokeapi.co/api/v2/move/92/'}, {'name': 'rage', 'url': 'https://pokeapi.co/api/v2/move/99/'}, {'name': 'mimic', 'url': 'https://pokeapi.co/api/v2/move/102/'}, {'name': 'double-team', 'url': 'https://pokeapi.co/api/v2/move/104/'}, {'name': 'withdraw', 'url': 'https://pokeapi.co/api/v2/move/110/'}, {'name': 'defense-curl', 'url': 'https://pokeapi.co/api/v2/move/111/'}, {'name': 'reflect', 'url': 'https://pokeapi.co/api/v2/move/115/'}, {'name': 'bide', 'url': 'https://pokeapi.co/api/v2/move/117/'}, {'name': 'waterfall', 'url': 'https://pokeapi.co/api/v2/move/127/'}, {'name': 'skull-bash', 'url': 'https://pokeapi.co/api/v2/move/130/'}, {'name': 'bubble', 'url': 'https://pokeapi.co/api/v2/move/145/'}, {'name': 'rest', 'url': 'https://pokeapi.co/api/v2/move/156/'}, {'name': 'rock-slide', 'url': 'https://pokeapi.co/api/v2/move/157/'}, {'name': 'substitute', 'url': 'https://pokeapi.co/api/v2/move/164/'}, {'name': 'snore', 'url': 'https://pokeapi.co/api/v2/move/173/'}, {'name': 'curse', 'url': 'https://pokeapi.co/api/v2/move/174/'}, {'name': 'protect', 'url': 'https://pokeapi.co/api/v2/move/182/'}, {'name': 'mud-slap', 'url': 'https://pokeapi.co/api/v2/move/189/'}, {'name': 'icy-wind', 'url': 'https://pokeapi.co/api/v2/move/196/'}, {'name': 'outrage', 'url': 'https://pokeapi.co/api/v2/move/200/'}, {'name': 'endure', 'url': 'https://pokeapi.co/api/v2/move/203/'}, {'name': 'rollout', 'url': 'https://pokeapi.co/api/v2/move/205/'}, {'name': 'false-swipe', 'url': 'https://pokeapi.co/api/v2/move/206/'}, {'name': 'swagger', 'url': 'https://pokeapi.co/api/v2/move/207/'}, {'name': 'attract', 'url': 'https://pokeapi.co/api/v2/move/213/'}, {'name': 'sleep-talk', 'url': 'https://pokeapi.co/api/v2/move/214/'}, {'name': 'return', 'url': 'https://pokeapi.co/api/v2/move/216/'}, {'name': 'frustration', 'url': 'https://pokeapi.co/api/v2/move/218/'}, {'name': 'dynamic-punch', 'url': 'https://pokeapi.co/api/v2/move/223/'}, {'name': 'rapid-spin', 'url': 'https://pokeapi.co/api/v2/move/229/'}, {'name': 'iron-tail', 'url': 'https://pokeapi.co/api/v2/move/231/'}, {'name': 'hidden-power', 'url': 'https://pokeapi.co/api/v2/move/237/'}, {'name': 'rain-dance', 'url': 'https://pokeapi.co/api/v2/move/240/'}, {'name': 'crunch', 'url': 'https://pokeapi.co/api/v2/move/242/'}, {'name': 'rock-smash', 'url': 'https://pokeapi.co/api/v2/move/249/'}, {'name': 'whirlpool', 'url': 'https://pokeapi.co/api/v2/move/250/'}, {'name': 'fake-out', 'url': 'https://pokeapi.co/api/v2/move/252/'}, {'name': 'hail', 'url': 'https://pokeapi.co/api/v2/move/258/'}, {'name': 'facade', 'url': 'https://pokeapi.co/api/v2/move/263/'}, {'name': 'focus-punch', 'url': 'https://pokeapi.co/api/v2/move/264/'}, {'name': 'helping-hand', 'url': 'https://pokeapi.co/api/v2/move/270/'}, {'name': 'brick-break', 'url': 'https://pokeapi.co/api/v2/move/280/'}, {'name': 'secret-power', 'url': 'https://pokeapi.co/api/v2/move/290/'}, {'name': 'dive', 'url': 'https://pokeapi.co/api/v2/move/291/'}, {'name': 'hydro-cannon', 'url': 'https://pokeapi.co/api/v2/move/308/'}, {'name': 'weather-ball', 'url': 'https://pokeapi.co/api/v2/move/311/'}, {'name': 'rock-tomb', 'url': 'https://pokeapi.co/api/v2/move/317/'}, {'name': 'signal-beam', 'url': 'https://pokeapi.co/api/v2/move/324/'}, {'name': 'muddy-water', 'url': 'https://pokeapi.co/api/v2/move/330/'}, {'name': 'iron-defense', 'url': 'https://pokeapi.co/api/v2/move/334/'}, {'name': 'water-pulse', 'url': 'https://pokeapi.co/api/v2/move/352/'}, {'name': 'gyro-ball', 'url': 'https://pokeapi.co/api/v2/move/360/'}, {'name': 'brine', 'url': 'https://pokeapi.co/api/v2/move/362/'}, {'name': 'natural-gift', 'url': 'https://pokeapi.co/api/v2/move/363/'}, {'name': 'fling', 'url': 'https://pokeapi.co/api/v2/move/374/'}, {'name': 'aura-sphere', 'url': 'https://pokeapi.co/api/v2/move/396/'}, {'name': 'dark-pulse', 'url': 'https://pokeapi.co/api/v2/move/399/'}, {'name': 'aqua-tail', 'url': 'https://pokeapi.co/api/v2/move/401/'}, {'name': 'dragon-pulse', 'url': 'https://pokeapi.co/api/v2/move/406/'}, {'name': 'focus-blast', 'url': 'https://pokeapi.co/api/v2/move/411/'}, {'name': 'giga-impact', 'url': 'https://pokeapi.co/api/v2/move/416/'}, {'name': 'avalanche', 'url': 'https://pokeapi.co/api/v2/move/419/'}, {'name': 'zen-headbutt', 'url': 'https://pokeapi.co/api/v2/move/428/'}, {'name': 'flash-cannon', 'url': 'https://pokeapi.co/api/v2/move/430/'}, {'name': 'rock-climb', 'url': 'https://pokeapi.co/api/v2/move/431/'}, {'name': 'captivate', 'url': 'https://pokeapi.co/api/v2/move/445/'}, {'name': 'aqua-jet', 'url': 'https://pokeapi.co/api/v2/move/453/'}, {'name': 'smack-down', 'url': 'https://pokeapi.co/api/v2/move/479/'}, {'name': 'round', 'url': 'https://pokeapi.co/api/v2/move/496/'}, {'name': 'scald', 'url': 'https://pokeapi.co/api/v2/move/503/'}, {'name': 'shell-smash', 'url': 'https://pokeapi.co/api/v2/move/504/'}, {'name': 'water-pledge', 'url': 'https://pokeapi.co/api/v2/move/518/'}, {'name': 'bulldoze', 'url': 'https://pokeapi.co/api/v2/move/523/'}, {'name': 'dragon-tail', 'url': 'https://pokeapi.co/api/v2/move/525/'}, {'name': 'work-up', 'url': 'https://pokeapi.co/api/v2/move/526/'}, {'name': 'confide', 'url': 'https://pokeapi.co/api/v2/move/590/'}, {'name': 'power-up-punch', 'url': 'https://pokeapi.co/api/v2/move/612/'}, {'name': 'liquidation', 'url': 'https://pokeapi.co/api/v2/move/710/'}, {'name': 'body-press', 'url': 'https://pokeapi.co/api/v2/move/776/'}, {'name': 'terrain-pulse', 'url': 'https://pokeapi.co/api/v2/move/805/'}, {'name': 'flip-turn', 'url': 'https://pokeapi.co/api/v2/move/812/'}]}, {'pokemon_id': 149, 'pokemon_name': 'dragonite', 'type': ['dragon, flying'], 'moves': [{'name': 'mega-punch', 'url': 'https://pokeapi.co/api/v2/move/5/'}, {'name': 'ice-punch', 'url': 'https://pokeapi.co/api/v2/move/8/'}, {'name': 'mega-kick', 'url': 'https://pokeapi.co/api/v2/move/25/'}, {'name': 'headbutt', 'url': 'https://pokeapi.co/api/v2/move/29/'}, {'name': 'tackle', 'url': 'https://pokeapi.co/api/v2/move/33/'}, {'name': 'body-slam', 'url': 'https://pokeapi.co/api/v2/move/34/'}, {'name': 'take-down', 'url': 'https://pokeapi.co/api/v2/move/36/'}, {'name': 'double-edge', 'url': 'https://pokeapi.co/api/v2/move/38/'}, {'name': 'tail-whip', 'url': 'https://pokeapi.co/api/v2/move/39/'}, {'name': 'bite', 'url': 'https://pokeapi.co/api/v2/move/44/'}, {'name': 'roar', 'url': 'https://pokeapi.co/api/v2/move/46/'}, {'name': 'water-gun', 'url': 'https://pokeapi.co/api/v2/move/55/'}, {'name': 'hydro-pump', 'url': 'https://pokeapi.co/api/v2/move/56/'}, {'name': 'surf', 'url': 'https://pokeapi.co/api/v2/move/57/'}, {'name': 'ice-beam', 'url': 'https://pokeapi.co/api/v2/move/58/'}, {'name': 'blizzard', 'url': 'https://pokeapi.co/api/v2/move/59/'}, {'name': 'bubble-beam', 'url': 'https://pokeapi.co/api/v2/move/61/'}, {'name': 'hyper-beam', 'url': 'https://pokeapi.co/api/v2/move/63/'}, {'name': 'submission', 'url': 'https://pokeapi.co/api/v2/move/66/'}, {'name': 'counter', 'url': 'https://pokeapi.co/api/v2/move/68/'}, {'name': 'seismic-toss', 'url': 'https://pokeapi.co/api/v2/move/69/'}, {'name': 'strength', 'url': 'https://pokeapi.co/api/v2/move/70/'}, {'name': 'earthquake', 'url': 'https://pokeapi.co/api/v2/move/89/'}, {'name': 'fissure', 'url': 'https://pokeapi.co/api/v2/move/90/'}, {'name': 'dig', 'url': 'https://pokeapi.co/api/v2/move/91/'}, {'name': 'toxic', 'url': 'https://pokeapi.co/api/v2/move/92/'}, {'name': 'rage', 'url': 'https://pokeapi.co/api/v2/move/99/'}, {'name': 'mimic', 'url': 'https://pokeapi.co/api/v2/move/102/'}, {'name': 'double-team', 'url': 'https://pokeapi.co/api/v2/move/104/'}, {'name': 'withdraw', 'url': 'https://pokeapi.co/api/v2/move/110/'}, {'name': 'defense-curl', 'url': 'https://pokeapi.co/api/v2/move/111/'}, {'name': 'reflect', 'url': 'https://pokeapi.co/api/v2/move/115/'}, {'name': 'bide', 'url': 'https://pokeapi.co/api/v2/move/117/'}, {'name': 'waterfall', 'url': 'https://pokeapi.co/api/v2/move/127/'}, {'name': 'skull-bash', 'url': 'https://pokeapi.co/api/v2/move/130/'}, {'name': 'bubble', 'url': 'https://pokeapi.co/api/v2/move/145/'}, {'name': 'rest', 'url': 'https://pokeapi.co/api/v2/move/156/'}, {'name': 'rock-slide', 'url': 'https://pokeapi.co/api/v2/move/157/'}, {'name': 'substitute', 'url': 'https://pokeapi.co/api/v2/move/164/'}, {'name': 'snore', 'url': 'https://pokeapi.co/api/v2/move/173/'}, {'name': 'curse', 'url': 'https://pokeapi.co/api/v2/move/174/'}, {'name': 'protect', 'url': 'https://pokeapi.co/api/v2/move/182/'}, {'name': 'mud-slap', 'url': 'https://pokeapi.co/api/v2/move/189/'}, {'name': 'icy-wind', 'url': 'https://pokeapi.co/api/v2/move/196/'}, {'name': 'outrage', 'url': 'https://pokeapi.co/api/v2/move/200/'}, {'name': 'endure', 'url': 'https://pokeapi.co/api/v2/move/203/'}, {'name': 'rollout', 'url': 'https://pokeapi.co/api/v2/move/205/'}, {'name': 'false-swipe', 'url': 'https://pokeapi.co/api/v2/move/206/'}, {'name': 'swagger', 'url': 'https://pokeapi.co/api/v2/move/207/'}, {'name': 'attract', 'url': 'https://pokeapi.co/api/v2/move/213/'}, {'name': 'sleep-talk', 'url': 'https://pokeapi.co/api/v2/move/214/'}, {'name': 'return', 'url': 'https://pokeapi.co/api/v2/move/216/'}, {'name': 'frustration', 'url': 'https://pokeapi.co/api/v2/move/218/'}, {'name': 'dynamic-punch', 'url': 'https://pokeapi.co/api/v2/move/223/'}, {'name': 'rapid-spin', 'url': 'https://pokeapi.co/api/v2/move/229/'}, {'name': 'iron-tail', 'url': 'https://pokeapi.co/api/v2/move/231/'}, {'name': 'hidden-power', 'url': 'https://pokeapi.co/api/v2/move/237/'}, {'name': 'rain-dance', 'url': 'https://pokeapi.co/api/v2/move/240/'}, {'name': 'crunch', 'url': 'https://pokeapi.co/api/v2/move/242/'}, {'name': 'rock-smash', 'url': 'https://pokeapi.co/api/v2/move/249/'}, {'name': 'whirlpool', 'url': 'https://pokeapi.co/api/v2/move/250/'}, {'name': 'fake-out', 'url': 'https://pokeapi.co/api/v2/move/252/'}, {'name': 'hail', 'url': 'https://pokeapi.co/api/v2/move/258/'}, {'name': 'facade', 'url': 'https://pokeapi.co/api/v2/move/263/'}, {'name': 'focus-punch', 'url': 'https://pokeapi.co/api/v2/move/264/'}, {'name': 'helping-hand', 'url': 'https://pokeapi.co/api/v2/move/270/'}, {'name': 'brick-break', 'url': 'https://pokeapi.co/api/v2/move/280/'}, {'name': 'secret-power', 'url': 'https://pokeapi.co/api/v2/move/290/'}, {'name': 'dive', 'url': 'https://pokeapi.co/api/v2/move/291/'}, {'name': 'hydro-cannon', 'url': 'https://pokeapi.co/api/v2/move/308/'}, {'name': 'weather-ball', 'url': 'https://pokeapi.co/api/v2/move/311/'}, {'name': 'rock-tomb', 'url': 'https://pokeapi.co/api/v2/move/317/'}, {'name': 'signal-beam', 'url': 'https://pokeapi.co/api/v2/move/324/'}, {'name': 'muddy-water', 'url': 'https://pokeapi.co/api/v2/move/330/'}, {'name': 'iron-defense', 'url': 'https://pokeapi.co/api/v2/move/334/'}, {'name': 'water-pulse', 'url': 'https://pokeapi.co/api/v2/move/352/'}, {'name': 'gyro-ball', 'url': 'https://pokeapi.co/api/v2/move/360/'}, {'name': 'brine', 'url': 'https://pokeapi.co/api/v2/move/362/'}, {'name': 'natural-gift', 'url': 'https://pokeapi.co/api/v2/move/363/'}, {'name': 'fling', 'url': 'https://pokeapi.co/api/v2/move/374/'}, {'name': 'aura-sphere', 'url': 'https://pokeapi.co/api/v2/move/396/'}, {'name': 'dark-pulse', 'url': 'https://pokeapi.co/api/v2/move/399/'}, {'name': 'aqua-tail', 'url': 'https://pokeapi.co/api/v2/move/401/'}, {'name': 'dragon-pulse', 'url': 'https://pokeapi.co/api/v2/move/406/'}, {'name': 'focus-blast', 'url': 'https://pokeapi.co/api/v2/move/411/'}, {'name': 'giga-impact', 'url': 'https://pokeapi.co/api/v2/move/416/'}, {'name': 'avalanche', 'url': 'https://pokeapi.co/api/v2/move/419/'}, {'name': 'zen-headbutt', 'url': 'https://pokeapi.co/api/v2/move/428/'}, {'name': 'flash-cannon', 'url': 'https://pokeapi.co/api/v2/move/430/'}, {'name': 'rock-climb', 'url': 'https://pokeapi.co/api/v2/move/431/'}, {'name': 'captivate', 'url': 'https://pokeapi.co/api/v2/move/445/'}, {'name': 'aqua-jet', 'url': 'https://pokeapi.co/api/v2/move/453/'}, {'name': 'smack-down', 'url': 'https://pokeapi.co/api/v2/move/479/'}, {'name': 'round', 'url': 'https://pokeapi.co/api/v2/move/496/'}, {'name': 'scald', 'url': 'https://pokeapi.co/api/v2/move/503/'}, {'name': 'shell-smash', 'url': 'https://pokeapi.co/api/v2/move/504/'}, {'name': 'water-pledge', 'url': 'https://pokeapi.co/api/v2/move/518/'}, {'name': 'bulldoze', 'url': 'https://pokeapi.co/api/v2/move/523/'}, {'name': 'dragon-tail', 'url': 'https://pokeapi.co/api/v2/move/525/'}, {'name': 'work-up', 'url': 'https://pokeapi.co/api/v2/move/526/'}, {'name': 'confide', 'url': 'https://pokeapi.co/api/v2/move/590/'}, {'name': 'power-up-punch', 'url': 'https://pokeapi.co/api/v2/move/612/'}, {'name': 'liquidation', 'url': 'https://pokeapi.co/api/v2/move/710/'}, {'name': 'body-press', 'url': 'https://pokeapi.co/api/v2/move/776/'}, {'name': 'terrain-pulse', 'url': 'https://pokeapi.co/api/v2/move/805/'}, {'name': 'flip-turn', 'url': 'https://pokeapi.co/api/v2/move/812/'}]}, {'pokemon_id': 151, 'pokemon_name': 'mew', 'type': ['psychic'], 'moves': [{'name': 'mega-punch', 'url': 'https://pokeapi.co/api/v2/move/5/'}, {'name': 'ice-punch', 'url': 'https://pokeapi.co/api/v2/move/8/'}, {'name': 'mega-kick', 'url': 'https://pokeapi.co/api/v2/move/25/'}, {'name': 'headbutt', 'url': 'https://pokeapi.co/api/v2/move/29/'}, {'name': 'tackle', 'url': 'https://pokeapi.co/api/v2/move/33/'}, {'name': 'body-slam', 'url': 'https://pokeapi.co/api/v2/move/34/'}, {'name': 'take-down', 'url': 'https://pokeapi.co/api/v2/move/36/'}, {'name': 'double-edge', 'url': 'https://pokeapi.co/api/v2/move/38/'}, {'name': 'tail-whip', 'url': 'https://pokeapi.co/api/v2/move/39/'}, {'name': 'bite', 'url': 'https://pokeapi.co/api/v2/move/44/'}, {'name': 'roar', 'url': 'https://pokeapi.co/api/v2/move/46/'}, {'name': 'water-gun', 'url': 'https://pokeapi.co/api/v2/move/55/'}, {'name': 'hydro-pump', 'url': 'https://pokeapi.co/api/v2/move/56/'}, {'name': 'surf', 'url': 'https://pokeapi.co/api/v2/move/57/'}, {'name': 'ice-beam', 'url': 'https://pokeapi.co/api/v2/move/58/'}, {'name': 'blizzard', 'url': 'https://pokeapi.co/api/v2/move/59/'}, {'name': 'bubble-beam', 'url': 'https://pokeapi.co/api/v2/move/61/'}, {'name': 'hyper-beam', 'url': 'https://pokeapi.co/api/v2/move/63/'}, {'name': 'submission', 'url': 'https://pokeapi.co/api/v2/move/66/'}, {'name': 'counter', 'url': 'https://pokeapi.co/api/v2/move/68/'}, {'name': 'seismic-toss', 'url': 'https://pokeapi.co/api/v2/move/69/'}, {'name': 'strength', 'url': 'https://pokeapi.co/api/v2/move/70/'}, {'name': 'earthquake', 'url': 'https://pokeapi.co/api/v2/move/89/'}, {'name': 'fissure', 'url': 'https://pokeapi.co/api/v2/move/90/'}, {'name': 'dig', 'url': 'https://pokeapi.co/api/v2/move/91/'}, {'name': 'toxic', 'url': 'https://pokeapi.co/api/v2/move/92/'}, {'name': 'rage', 'url': 'https://pokeapi.co/api/v2/move/99/'}, {'name': 'mimic', 'url': 'https://pokeapi.co/api/v2/move/102/'}, {'name': 'double-team', 'url': 'https://pokeapi.co/api/v2/move/104/'}, {'name': 'withdraw', 'url': 'https://pokeapi.co/api/v2/move/110/'}, {'name': 'defense-curl', 'url': 'https://pokeapi.co/api/v2/move/111/'}, {'name': 'reflect', 'url': 'https://pokeapi.co/api/v2/move/115/'}, {'name': 'bide', 'url': 'https://pokeapi.co/api/v2/move/117/'}, {'name': 'waterfall', 'url': 'https://pokeapi.co/api/v2/move/127/'}, {'name': 'skull-bash', 'url': 'https://pokeapi.co/api/v2/move/130/'}, {'name': 'bubble', 'url': 'https://pokeapi.co/api/v2/move/145/'}, {'name': 'rest', 'url': 'https://pokeapi.co/api/v2/move/156/'}, {'name': 'rock-slide', 'url': 'https://pokeapi.co/api/v2/move/157/'}, {'name': 'substitute', 'url': 'https://pokeapi.co/api/v2/move/164/'}, {'name': 'snore', 'url': 'https://pokeapi.co/api/v2/move/173/'}, {'name': 'curse', 'url': 'https://pokeapi.co/api/v2/move/174/'}, {'name': 'protect', 'url': 'https://pokeapi.co/api/v2/move/182/'}, {'name': 'mud-slap', 'url': 'https://pokeapi.co/api/v2/move/189/'}, {'name': 'icy-wind', 'url': 'https://pokeapi.co/api/v2/move/196/'}, {'name': 'outrage', 'url': 'https://pokeapi.co/api/v2/move/200/'}, {'name': 'endure', 'url': 'https://pokeapi.co/api/v2/move/203/'}, {'name': 'rollout', 'url': 'https://pokeapi.co/api/v2/move/205/'}, {'name': 'false-swipe', 'url': 'https://pokeapi.co/api/v2/move/206/'}, {'name': 'swagger', 'url': 'https://pokeapi.co/api/v2/move/207/'}, {'name': 'attract', 'url': 'https://pokeapi.co/api/v2/move/213/'}, {'name': 'sleep-talk', 'url': 'https://pokeapi.co/api/v2/move/214/'}, {'name': 'return', 'url': 'https://pokeapi.co/api/v2/move/216/'}, {'name': 'frustration', 'url': 'https://pokeapi.co/api/v2/move/218/'}, {'name': 'dynamic-punch', 'url': 'https://pokeapi.co/api/v2/move/223/'}, {'name': 'rapid-spin', 'url': 'https://pokeapi.co/api/v2/move/229/'}, {'name': 'iron-tail', 'url': 'https://pokeapi.co/api/v2/move/231/'}, {'name': 'hidden-power', 'url': 'https://pokeapi.co/api/v2/move/237/'}, {'name': 'rain-dance', 'url': 'https://pokeapi.co/api/v2/move/240/'}, {'name': 'crunch', 'url': 'https://pokeapi.co/api/v2/move/242/'}, {'name': 'rock-smash', 'url': 'https://pokeapi.co/api/v2/move/249/'}, {'name': 'whirlpool', 'url': 'https://pokeapi.co/api/v2/move/250/'}, {'name': 'fake-out', 'url': 'https://pokeapi.co/api/v2/move/252/'}, {'name': 'hail', 'url': 'https://pokeapi.co/api/v2/move/258/'}, {'name': 'facade', 'url': 'https://pokeapi.co/api/v2/move/263/'}, {'name': 'focus-punch', 'url': 'https://pokeapi.co/api/v2/move/264/'}, {'name': 'helping-hand', 'url': 'https://pokeapi.co/api/v2/move/270/'}, {'name': 'brick-break', 'url': 'https://pokeapi.co/api/v2/move/280/'}, {'name': 'secret-power', 'url': 'https://pokeapi.co/api/v2/move/290/'}, {'name': 'dive', 'url': 'https://pokeapi.co/api/v2/move/291/'}, {'name': 'hydro-cannon', 'url': 'https://pokeapi.co/api/v2/move/308/'}, {'name': 'weather-ball', 'url': 'https://pokeapi.co/api/v2/move/311/'}, {'name': 'rock-tomb', 'url': 'https://pokeapi.co/api/v2/move/317/'}, {'name': 'signal-beam', 'url': 'https://pokeapi.co/api/v2/move/324/'}, {'name': 'muddy-water', 'url': 'https://pokeapi.co/api/v2/move/330/'}, {'name': 'iron-defense', 'url': 'https://pokeapi.co/api/v2/move/334/'}, {'name': 'water-pulse', 'url': 'https://pokeapi.co/api/v2/move/352/'}, {'name': 'gyro-ball', 'url': 'https://pokeapi.co/api/v2/move/360/'}, {'name': 'brine', 'url': 'https://pokeapi.co/api/v2/move/362/'}, {'name': 'natural-gift', 'url': 'https://pokeapi.co/api/v2/move/363/'}, {'name': 'fling', 'url': 'https://pokeapi.co/api/v2/move/374/'}, {'name': 'aura-sphere', 'url': 'https://pokeapi.co/api/v2/move/396/'}, {'name': 'dark-pulse', 'url': 'https://pokeapi.co/api/v2/move/399/'}, {'name': 'aqua-tail', 'url': 'https://pokeapi.co/api/v2/move/401/'}, {'name': 'dragon-pulse', 'url': 'https://pokeapi.co/api/v2/move/406/'}, {'name': 'focus-blast', 'url': 'https://pokeapi.co/api/v2/move/411/'}, {'name': 'giga-impact', 'url': 'https://pokeapi.co/api/v2/move/416/'}, {'name': 'avalanche', 'url': 'https://pokeapi.co/api/v2/move/419/'}, {'name': 'zen-headbutt', 'url': 'https://pokeapi.co/api/v2/move/428/'}, {'name': 'flash-cannon', 'url': 'https://pokeapi.co/api/v2/move/430/'}, {'name': 'rock-climb', 'url': 'https://pokeapi.co/api/v2/move/431/'}, {'name': 'captivate', 'url': 'https://pokeapi.co/api/v2/move/445/'}, {'name': 'aqua-jet', 'url': 'https://pokeapi.co/api/v2/move/453/'}, {'name': 'smack-down', 'url': 'https://pokeapi.co/api/v2/move/479/'}, {'name': 'round', 'url': 'https://pokeapi.co/api/v2/move/496/'}, {'name': 'scald', 'url': 'https://pokeapi.co/api/v2/move/503/'}, {'name': 'shell-smash', 'url': 'https://pokeapi.co/api/v2/move/504/'}, {'name': 'water-pledge', 'url': 'https://pokeapi.co/api/v2/move/518/'}, {'name': 'bulldoze', 'url': 'https://pokeapi.co/api/v2/move/523/'}, {'name': 'dragon-tail', 'url': 'https://pokeapi.co/api/v2/move/525/'}, {'name': 'work-up', 'url': 'https://pokeapi.co/api/v2/move/526/'}, {'name': 'confide', 'url': 'https://pokeapi.co/api/v2/move/590/'}, {'name': 'power-up-punch', 'url': 'https://pokeapi.co/api/v2/move/612/'}, {'name': 'liquidation', 'url': 'https://pokeapi.co/api/v2/move/710/'}, {'name': 'body-press', 'url': 'https://pokeapi.co/api/v2/move/776/'}, {'name': 'terrain-pulse', 'url': 'https://pokeapi.co/api/v2/move/805/'}, {'name': 'flip-turn', 'url': 'https://pokeapi.co/api/v2/move/812/'}]}, {'pokemon_id': 150, 'pokemon_name': 'mewtwo', 'type': ['psychic'], 'moves': [{'name': 'mega-punch', 'url': 'https://pokeapi.co/api/v2/move/5/'}, {'name': 'ice-punch', 'url': 'https://pokeapi.co/api/v2/move/8/'}, {'name': 'mega-kick', 'url': 'https://pokeapi.co/api/v2/move/25/'}, {'name': 'headbutt', 'url': 'https://pokeapi.co/api/v2/move/29/'}, {'name': 'tackle', 'url': 'https://pokeapi.co/api/v2/move/33/'}, {'name': 'body-slam', 'url': 'https://pokeapi.co/api/v2/move/34/'}, {'name': 'take-down', 'url': 'https://pokeapi.co/api/v2/move/36/'}, {'name': 'double-edge', 'url': 'https://pokeapi.co/api/v2/move/38/'}, {'name': 'tail-whip', 'url': 'https://pokeapi.co/api/v2/move/39/'}, {'name': 'bite', 'url': 'https://pokeapi.co/api/v2/move/44/'}, {'name': 'roar', 'url': 'https://pokeapi.co/api/v2/move/46/'}, {'name': 'water-gun', 'url': 'https://pokeapi.co/api/v2/move/55/'}, {'name': 'hydro-pump', 'url': 'https://pokeapi.co/api/v2/move/56/'}, {'name': 'surf', 'url': 'https://pokeapi.co/api/v2/move/57/'}, {'name': 'ice-beam', 'url': 'https://pokeapi.co/api/v2/move/58/'}, {'name': 'blizzard', 'url': 'https://pokeapi.co/api/v2/move/59/'}, {'name': 'bubble-beam', 'url': 'https://pokeapi.co/api/v2/move/61/'}, {'name': 'hyper-beam', 'url': 'https://pokeapi.co/api/v2/move/63/'}, {'name': 'submission', 'url': 'https://pokeapi.co/api/v2/move/66/'}, {'name': 'counter', 'url': 'https://pokeapi.co/api/v2/move/68/'}, {'name': 'seismic-toss', 'url': 'https://pokeapi.co/api/v2/move/69/'}, {'name': 'strength', 'url': 'https://pokeapi.co/api/v2/move/70/'}, {'name': 'earthquake', 'url': 'https://pokeapi.co/api/v2/move/89/'}, {'name': 'fissure', 'url': 'https://pokeapi.co/api/v2/move/90/'}, {'name': 'dig', 'url': 'https://pokeapi.co/api/v2/move/91/'}, {'name': 'toxic', 'url': 'https://pokeapi.co/api/v2/move/92/'}, {'name': 'rage', 'url': 'https://pokeapi.co/api/v2/move/99/'}, {'name': 'mimic', 'url': 'https://pokeapi.co/api/v2/move/102/'}, {'name': 'double-team', 'url': 'https://pokeapi.co/api/v2/move/104/'}, {'name': 'withdraw', 'url': 'https://pokeapi.co/api/v2/move/110/'}, {'name': 'defense-curl', 'url': 'https://pokeapi.co/api/v2/move/111/'}, {'name': 'reflect', 'url': 'https://pokeapi.co/api/v2/move/115/'}, {'name': 'bide', 'url': 'https://pokeapi.co/api/v2/move/117/'}, {'name': 'waterfall', 'url': 'https://pokeapi.co/api/v2/move/127/'}, {'name': 'skull-bash', 'url': 'https://pokeapi.co/api/v2/move/130/'}, {'name': 'bubble', 'url': 'https://pokeapi.co/api/v2/move/145/'}, {'name': 'rest', 'url': 'https://pokeapi.co/api/v2/move/156/'}, {'name': 'rock-slide', 'url': 'https://pokeapi.co/api/v2/move/157/'}, {'name': 'substitute', 'url': 'https://pokeapi.co/api/v2/move/164/'}, {'name': 'snore', 'url': 'https://pokeapi.co/api/v2/move/173/'}, {'name': 'curse', 'url': 'https://pokeapi.co/api/v2/move/174/'}, {'name': 'protect', 'url': 'https://pokeapi.co/api/v2/move/182/'}, {'name': 'mud-slap', 'url': 'https://pokeapi.co/api/v2/move/189/'}, {'name': 'icy-wind', 'url': 'https://pokeapi.co/api/v2/move/196/'}, {'name': 'outrage', 'url': 'https://pokeapi.co/api/v2/move/200/'}, {'name': 'endure', 'url': 'https://pokeapi.co/api/v2/move/203/'}, {'name': 'rollout', 'url': 'https://pokeapi.co/api/v2/move/205/'}, {'name': 'false-swipe', 'url': 'https://pokeapi.co/api/v2/move/206/'}, {'name': 'swagger', 'url': 'https://pokeapi.co/api/v2/move/207/'}, {'name': 'attract', 'url': 'https://pokeapi.co/api/v2/move/213/'}, {'name': 'sleep-talk', 'url': 'https://pokeapi.co/api/v2/move/214/'}, {'name': 'return', 'url': 'https://pokeapi.co/api/v2/move/216/'}, {'name': 'frustration', 'url': 'https://pokeapi.co/api/v2/move/218/'}, {'name': 'dynamic-punch', 'url': 'https://pokeapi.co/api/v2/move/223/'}, {'name': 'rapid-spin', 'url': 'https://pokeapi.co/api/v2/move/229/'}, {'name': 'iron-tail', 'url': 'https://pokeapi.co/api/v2/move/231/'}, {'name': 'hidden-power', 'url': 'https://pokeapi.co/api/v2/move/237/'}, {'name': 'rain-dance', 'url': 'https://pokeapi.co/api/v2/move/240/'}, {'name': 'crunch', 'url': 'https://pokeapi.co/api/v2/move/242/'}, {'name': 'rock-smash', 'url': 'https://pokeapi.co/api/v2/move/249/'}, {'name': 'whirlpool', 'url': 'https://pokeapi.co/api/v2/move/250/'}, {'name': 'fake-out', 'url': 'https://pokeapi.co/api/v2/move/252/'}, {'name': 'hail', 'url': 'https://pokeapi.co/api/v2/move/258/'}, {'name': 'facade', 'url': 'https://pokeapi.co/api/v2/move/263/'}, {'name': 'focus-punch', 'url': 'https://pokeapi.co/api/v2/move/264/'}, {'name': 'helping-hand', 'url': 'https://pokeapi.co/api/v2/move/270/'}, {'name': 'brick-break', 'url': 'https://pokeapi.co/api/v2/move/280/'}, {'name': 'secret-power', 'url': 'https://pokeapi.co/api/v2/move/290/'}, {'name': 'dive', 'url': 'https://pokeapi.co/api/v2/move/291/'}, {'name': 'hydro-cannon', 'url': 'https://pokeapi.co/api/v2/move/308/'}, {'name': 'weather-ball', 'url': 'https://pokeapi.co/api/v2/move/311/'}, {'name': 'rock-tomb', 'url': 'https://pokeapi.co/api/v2/move/317/'}, {'name': 'signal-beam', 'url': 'https://pokeapi.co/api/v2/move/324/'}, {'name': 'muddy-water', 'url': 'https://pokeapi.co/api/v2/move/330/'}, {'name': 'iron-defense', 'url': 'https://pokeapi.co/api/v2/move/334/'}, {'name': 'water-pulse', 'url': 'https://pokeapi.co/api/v2/move/352/'}, {'name': 'gyro-ball', 'url': 'https://pokeapi.co/api/v2/move/360/'}, {'name': 'brine', 'url': 'https://pokeapi.co/api/v2/move/362/'}, {'name': 'natural-gift', 'url': 'https://pokeapi.co/api/v2/move/363/'}, {'name': 'fling', 'url': 'https://pokeapi.co/api/v2/move/374/'}, {'name': 'aura-sphere', 'url': 'https://pokeapi.co/api/v2/move/396/'}, {'name': 'dark-pulse', 'url': 'https://pokeapi.co/api/v2/move/399/'}, {'name': 'aqua-tail', 'url': 'https://pokeapi.co/api/v2/move/401/'}, {'name': 'dragon-pulse', 'url': 'https://pokeapi.co/api/v2/move/406/'}, {'name': 'focus-blast', 'url': 'https://pokeapi.co/api/v2/move/411/'}, {'name': 'giga-impact', 'url': 'https://pokeapi.co/api/v2/move/416/'}, {'name': 'avalanche', 'url': 'https://pokeapi.co/api/v2/move/419/'}, {'name': 'zen-headbutt', 'url': 'https://pokeapi.co/api/v2/move/428/'}, {'name': 'flash-cannon', 'url': 'https://pokeapi.co/api/v2/move/430/'}, {'name': 'rock-climb', 'url': 'https://pokeapi.co/api/v2/move/431/'}, {'name': 'captivate', 'url': 'https://pokeapi.co/api/v2/move/445/'}, {'name': 'aqua-jet', 'url': 'https://pokeapi.co/api/v2/move/453/'}, {'name': 'smack-down', 'url': 'https://pokeapi.co/api/v2/move/479/'}, {'name': 'round', 'url': 'https://pokeapi.co/api/v2/move/496/'}, {'name': 'scald', 'url': 'https://pokeapi.co/api/v2/move/503/'}, {'name': 'shell-smash', 'url': 'https://pokeapi.co/api/v2/move/504/'}, {'name': 'water-pledge', 'url': 'https://pokeapi.co/api/v2/move/518/'}, {'name': 'bulldoze', 'url': 'https://pokeapi.co/api/v2/move/523/'}, {'name': 'dragon-tail', 'url': 'https://pokeapi.co/api/v2/move/525/'}, {'name': 'work-up', 'url': 'https://pokeapi.co/api/v2/move/526/'}, {'name': 'confide', 'url': 'https://pokeapi.co/api/v2/move/590/'}, {'name': 'power-up-punch', 'url': 'https://pokeapi.co/api/v2/move/612/'}, {'name': 'liquidation', 'url': 'https://pokeapi.co/api/v2/move/710/'}, {'name': 'body-press', 'url': 'https://pokeapi.co/api/v2/move/776/'}, {'name': 'terrain-pulse', 'url': 'https://pokeapi.co/api/v2/move/805/'}, {'name': 'flip-turn', 'url': 'https://pokeapi.co/api/v2/move/812/'}]}, {'pokemon_id': 445, 'pokemon_name': 'garchomp', 'type': ['dragon, ground'], 'moves': [{'name': 'mega-punch', 'url': 'https://pokeapi.co/api/v2/move/5/'}, {'name': 'ice-punch', 'url': 'https://pokeapi.co/api/v2/move/8/'}, {'name': 'mega-kick', 'url': 'https://pokeapi.co/api/v2/move/25/'}, {'name': 'headbutt', 'url': 'https://pokeapi.co/api/v2/move/29/'}, {'name': 'tackle', 'url': 'https://pokeapi.co/api/v2/move/33/'}, {'name': 'body-slam', 'url': 'https://pokeapi.co/api/v2/move/34/'}, {'name': 'take-down', 'url': 'https://pokeapi.co/api/v2/move/36/'}, {'name': 'double-edge', 'url': 'https://pokeapi.co/api/v2/move/38/'}, {'name': 'tail-whip', 'url': 'https://pokeapi.co/api/v2/move/39/'}, {'name': 'bite', 'url': 'https://pokeapi.co/api/v2/move/44/'}, {'name': 'roar', 'url': 'https://pokeapi.co/api/v2/move/46/'}, {'name': 'water-gun', 'url': 'https://pokeapi.co/api/v2/move/55/'}, {'name': 'hydro-pump', 'url': 'https://pokeapi.co/api/v2/move/56/'}, {'name': 'surf', 'url': 'https://pokeapi.co/api/v2/move/57/'}, {'name': 'ice-beam', 'url': 'https://pokeapi.co/api/v2/move/58/'}, {'name': 'blizzard', 'url': 'https://pokeapi.co/api/v2/move/59/'}, {'name': 'bubble-beam', 'url': 'https://pokeapi.co/api/v2/move/61/'}, {'name': 'hyper-beam', 'url': 'https://pokeapi.co/api/v2/move/63/'}, {'name': 'submission', 'url': 'https://pokeapi.co/api/v2/move/66/'}, {'name': 'counter', 'url': 'https://pokeapi.co/api/v2/move/68/'}, {'name': 'seismic-toss', 'url': 'https://pokeapi.co/api/v2/move/69/'}, {'name': 'strength', 'url': 'https://pokeapi.co/api/v2/move/70/'}, {'name': 'earthquake', 'url': 'https://pokeapi.co/api/v2/move/89/'}, {'name': 'fissure', 'url': 'https://pokeapi.co/api/v2/move/90/'}, {'name': 'dig', 'url': 'https://pokeapi.co/api/v2/move/91/'}, {'name': 'toxic', 'url': 'https://pokeapi.co/api/v2/move/92/'}, {'name': 'rage', 'url': 'https://pokeapi.co/api/v2/move/99/'}, {'name': 'mimic', 'url': 'https://pokeapi.co/api/v2/move/102/'}, {'name': 'double-team', 'url': 'https://pokeapi.co/api/v2/move/104/'}, {'name': 'withdraw', 'url': 'https://pokeapi.co/api/v2/move/110/'}, {'name': 'defense-curl', 'url': 'https://pokeapi.co/api/v2/move/111/'}, {'name': 'reflect', 'url': 'https://pokeapi.co/api/v2/move/115/'}, {'name': 'bide', 'url': 'https://pokeapi.co/api/v2/move/117/'}, {'name': 'waterfall', 'url': 'https://pokeapi.co/api/v2/move/127/'}, {'name': 'skull-bash', 'url': 'https://pokeapi.co/api/v2/move/130/'}, {'name': 'bubble', 'url': 'https://pokeapi.co/api/v2/move/145/'}, {'name': 'rest', 'url': 'https://pokeapi.co/api/v2/move/156/'}, {'name': 'rock-slide', 'url': 'https://pokeapi.co/api/v2/move/157/'}, {'name': 'substitute', 'url': 'https://pokeapi.co/api/v2/move/164/'}, {'name': 'snore', 'url': 'https://pokeapi.co/api/v2/move/173/'}, {'name': 'curse', 'url': 'https://pokeapi.co/api/v2/move/174/'}, {'name': 'protect', 'url': 'https://pokeapi.co/api/v2/move/182/'}, {'name': 'mud-slap', 'url': 'https://pokeapi.co/api/v2/move/189/'}, {'name': 'icy-wind', 'url': 'https://pokeapi.co/api/v2/move/196/'}, {'name': 'outrage', 'url': 'https://pokeapi.co/api/v2/move/200/'}, {'name': 'endure', 'url': 'https://pokeapi.co/api/v2/move/203/'}, {'name': 'rollout', 'url': 'https://pokeapi.co/api/v2/move/205/'}, {'name': 'false-swipe', 'url': 'https://pokeapi.co/api/v2/move/206/'}, {'name': 'swagger', 'url': 'https://pokeapi.co/api/v2/move/207/'}, {'name': 'attract', 'url': 'https://pokeapi.co/api/v2/move/213/'}, {'name': 'sleep-talk', 'url': 'https://pokeapi.co/api/v2/move/214/'}, {'name': 'return', 'url': 'https://pokeapi.co/api/v2/move/216/'}, {'name': 'frustration', 'url': 'https://pokeapi.co/api/v2/move/218/'}, {'name': 'dynamic-punch', 'url': 'https://pokeapi.co/api/v2/move/223/'}, {'name': 'rapid-spin', 'url': 'https://pokeapi.co/api/v2/move/229/'}, {'name': 'iron-tail', 'url': 'https://pokeapi.co/api/v2/move/231/'}, {'name': 'hidden-power', 'url': 'https://pokeapi.co/api/v2/move/237/'}, {'name': 'rain-dance', 'url': 'https://pokeapi.co/api/v2/move/240/'}, {'name': 'crunch', 'url': 'https://pokeapi.co/api/v2/move/242/'}, {'name': 'rock-smash', 'url': 'https://pokeapi.co/api/v2/move/249/'}, {'name': 'whirlpool', 'url': 'https://pokeapi.co/api/v2/move/250/'}, {'name': 'fake-out', 'url': 'https://pokeapi.co/api/v2/move/252/'}, {'name': 'hail', 'url': 'https://pokeapi.co/api/v2/move/258/'}, {'name': 'facade', 'url': 'https://pokeapi.co/api/v2/move/263/'}, {'name': 'focus-punch', 'url': 'https://pokeapi.co/api/v2/move/264/'}, {'name': 'helping-hand', 'url': 'https://pokeapi.co/api/v2/move/270/'}, {'name': 'brick-break', 'url': 'https://pokeapi.co/api/v2/move/280/'}, {'name': 'secret-power', 'url': 'https://pokeapi.co/api/v2/move/290/'}, {'name': 'dive', 'url': 'https://pokeapi.co/api/v2/move/291/'}, {'name': 'hydro-cannon', 'url': 'https://pokeapi.co/api/v2/move/308/'}, {'name': 'weather-ball', 'url': 'https://pokeapi.co/api/v2/move/311/'}, {'name': 'rock-tomb', 'url': 'https://pokeapi.co/api/v2/move/317/'}, {'name': 'signal-beam', 'url': 'https://pokeapi.co/api/v2/move/324/'}, {'name': 'muddy-water', 'url': 'https://pokeapi.co/api/v2/move/330/'}, {'name': 'iron-defense', 'url': 'https://pokeapi.co/api/v2/move/334/'}, {'name': 'water-pulse', 'url': 'https://pokeapi.co/api/v2/move/352/'}, {'name': 'gyro-ball', 'url': 'https://pokeapi.co/api/v2/move/360/'}, {'name': 'brine', 'url': 'https://pokeapi.co/api/v2/move/362/'}, {'name': 'natural-gift', 'url': 'https://pokeapi.co/api/v2/move/363/'}, {'name': 'fling', 'url': 'https://pokeapi.co/api/v2/move/374/'}, {'name': 'aura-sphere', 'url': 'https://pokeapi.co/api/v2/move/396/'}, {'name': 'dark-pulse', 'url': 'https://pokeapi.co/api/v2/move/399/'}, {'name': 'aqua-tail', 'url': 'https://pokeapi.co/api/v2/move/401/'}, {'name': 'dragon-pulse', 'url': 'https://pokeapi.co/api/v2/move/406/'}, {'name': 'focus-blast', 'url': 'https://pokeapi.co/api/v2/move/411/'}, {'name': 'giga-impact', 'url': 'https://pokeapi.co/api/v2/move/416/'}, {'name': 'avalanche', 'url': 'https://pokeapi.co/api/v2/move/419/'}, {'name': 'zen-headbutt', 'url': 'https://pokeapi.co/api/v2/move/428/'}, {'name': 'flash-cannon', 'url': 'https://pokeapi.co/api/v2/move/430/'}, {'name': 'rock-climb', 'url': 'https://pokeapi.co/api/v2/move/431/'}, {'name': 'captivate', 'url': 'https://pokeapi.co/api/v2/move/445/'}, {'name': 'aqua-jet', 'url': 'https://pokeapi.co/api/v2/move/453/'}, {'name': 'smack-down', 'url': 'https://pokeapi.co/api/v2/move/479/'}, {'name': 'round', 'url': 'https://pokeapi.co/api/v2/move/496/'}, {'name': 'scald', 'url': 'https://pokeapi.co/api/v2/move/503/'}, {'name': 'shell-smash', 'url': 'https://pokeapi.co/api/v2/move/504/'}, {'name': 'water-pledge', 'url': 'https://pokeapi.co/api/v2/move/518/'}, {'name': 'bulldoze', 'url': 'https://pokeapi.co/api/v2/move/523/'}, {'name': 'dragon-tail', 'url': 'https://pokeapi.co/api/v2/move/525/'}, {'name': 'work-up', 'url': 'https://pokeapi.co/api/v2/move/526/'}, {'name': 'confide', 'url': 'https://pokeapi.co/api/v2/move/590/'}, {'name': 'power-up-punch', 'url': 'https://pokeapi.co/api/v2/move/612/'}, {'name': 'liquidation', 'url': 'https://pokeapi.co/api/v2/move/710/'}, {'name': 'body-press', 'url': 'https://pokeapi.co/api/v2/move/776/'}, {'name': 'terrain-pulse', 'url': 'https://pokeapi.co/api/v2/move/805/'}, {'name': 'flip-turn', 'url': 'https://pokeapi.co/api/v2/move/812/'}]}]\n",
      "[{'name': 'mega-punch', 'accuracy': 85, 'type': 'normal', 'power': 80, 'pp': 20}, {'name': 'ice-punch', 'accuracy': 100, 'type': 'ice', 'power': 75, 'pp': 15}, {'name': 'mega-kick', 'accuracy': 75, 'type': 'normal', 'power': 120, 'pp': 5}, {'name': 'headbutt', 'accuracy': 100, 'type': 'normal', 'power': 70, 'pp': 15}, {'name': 'tackle', 'accuracy': 100, 'type': 'normal', 'power': 40, 'pp': 35}, {'name': 'body-slam', 'accuracy': 100, 'type': 'normal', 'power': 85, 'pp': 15}, {'name': 'take-down', 'accuracy': 85, 'type': 'normal', 'power': 90, 'pp': 20}, {'name': 'double-edge', 'accuracy': 100, 'type': 'normal', 'power': 120, 'pp': 15}, {'name': 'tail-whip', 'accuracy': 100, 'type': 'normal', 'power': None, 'pp': 30}, {'name': 'bite', 'accuracy': 100, 'type': 'dark', 'power': 60, 'pp': 25}, {'name': 'roar', 'accuracy': None, 'type': 'normal', 'power': None, 'pp': 20}, {'name': 'water-gun', 'accuracy': 100, 'type': 'water', 'power': 40, 'pp': 25}, {'name': 'hydro-pump', 'accuracy': 80, 'type': 'water', 'power': 110, 'pp': 5}, {'name': 'surf', 'accuracy': 100, 'type': 'water', 'power': 90, 'pp': 15}, {'name': 'ice-beam', 'accuracy': 100, 'type': 'ice', 'power': 90, 'pp': 10}, {'name': 'blizzard', 'accuracy': 70, 'type': 'ice', 'power': 110, 'pp': 5}, {'name': 'bubble-beam', 'accuracy': 100, 'type': 'water', 'power': 65, 'pp': 20}, {'name': 'hyper-beam', 'accuracy': 90, 'type': 'normal', 'power': 150, 'pp': 5}, {'name': 'submission', 'accuracy': 80, 'type': 'fighting', 'power': 80, 'pp': 20}, {'name': 'counter', 'accuracy': 100, 'type': 'fighting', 'power': None, 'pp': 20}, {'name': 'seismic-toss', 'accuracy': 100, 'type': 'fighting', 'power': None, 'pp': 20}, {'name': 'strength', 'accuracy': 100, 'type': 'normal', 'power': 80, 'pp': 15}, {'name': 'earthquake', 'accuracy': 100, 'type': 'ground', 'power': 100, 'pp': 10}, {'name': 'fissure', 'accuracy': 30, 'type': 'ground', 'power': None, 'pp': 5}, {'name': 'dig', 'accuracy': 100, 'type': 'ground', 'power': 80, 'pp': 10}, {'name': 'toxic', 'accuracy': 90, 'type': 'poison', 'power': None, 'pp': 10}, {'name': 'rage', 'accuracy': 100, 'type': 'normal', 'power': 20, 'pp': 20}, {'name': 'mimic', 'accuracy': None, 'type': 'normal', 'power': None, 'pp': 10}, {'name': 'double-team', 'accuracy': None, 'type': 'normal', 'power': None, 'pp': 15}, {'name': 'withdraw', 'accuracy': None, 'type': 'water', 'power': None, 'pp': 40}, {'name': 'defense-curl', 'accuracy': None, 'type': 'normal', 'power': None, 'pp': 40}, {'name': 'reflect', 'accuracy': None, 'type': 'psychic', 'power': None, 'pp': 20}, {'name': 'bide', 'accuracy': None, 'type': 'normal', 'power': None, 'pp': 10}, {'name': 'waterfall', 'accuracy': 100, 'type': 'water', 'power': 80, 'pp': 15}, {'name': 'skull-bash', 'accuracy': 100, 'type': 'normal', 'power': 130, 'pp': 10}, {'name': 'bubble', 'accuracy': 100, 'type': 'water', 'power': 40, 'pp': 30}, {'name': 'rest', 'accuracy': None, 'type': 'psychic', 'power': None, 'pp': 10}, {'name': 'rock-slide', 'accuracy': 90, 'type': 'rock', 'power': 75, 'pp': 10}, {'name': 'substitute', 'accuracy': None, 'type': 'normal', 'power': None, 'pp': 10}, {'name': 'snore', 'accuracy': 100, 'type': 'normal', 'power': 50, 'pp': 15}, {'name': 'curse', 'accuracy': None, 'type': 'ghost', 'power': None, 'pp': 10}, {'name': 'protect', 'accuracy': None, 'type': 'normal', 'power': None, 'pp': 10}, {'name': 'mud-slap', 'accuracy': 100, 'type': 'ground', 'power': 20, 'pp': 10}, {'name': 'icy-wind', 'accuracy': 95, 'type': 'ice', 'power': 55, 'pp': 15}, {'name': 'outrage', 'accuracy': 100, 'type': 'dragon', 'power': 120, 'pp': 10}, {'name': 'endure', 'accuracy': None, 'type': 'normal', 'power': None, 'pp': 10}, {'name': 'rollout', 'accuracy': 90, 'type': 'rock', 'power': 30, 'pp': 20}, {'name': 'false-swipe', 'accuracy': 100, 'type': 'normal', 'power': 40, 'pp': 40}, {'name': 'swagger', 'accuracy': 85, 'type': 'normal', 'power': None, 'pp': 15}, {'name': 'attract', 'accuracy': 100, 'type': 'normal', 'power': None, 'pp': 15}, {'name': 'sleep-talk', 'accuracy': None, 'type': 'normal', 'power': None, 'pp': 10}, {'name': 'return', 'accuracy': 100, 'type': 'normal', 'power': None, 'pp': 20}, {'name': 'frustration', 'accuracy': 100, 'type': 'normal', 'power': None, 'pp': 20}, {'name': 'dynamic-punch', 'accuracy': 50, 'type': 'fighting', 'power': 100, 'pp': 5}, {'name': 'rapid-spin', 'accuracy': 100, 'type': 'normal', 'power': 50, 'pp': 40}, {'name': 'iron-tail', 'accuracy': 75, 'type': 'steel', 'power': 100, 'pp': 15}, {'name': 'hidden-power', 'accuracy': 100, 'type': 'normal', 'power': 60, 'pp': 15}, {'name': 'rain-dance', 'accuracy': None, 'type': 'water', 'power': None, 'pp': 5}, {'name': 'crunch', 'accuracy': 100, 'type': 'dark', 'power': 80, 'pp': 15}, {'name': 'rock-smash', 'accuracy': 100, 'type': 'fighting', 'power': 40, 'pp': 15}, {'name': 'whirlpool', 'accuracy': 85, 'type': 'water', 'power': 35, 'pp': 15}, {'name': 'fake-out', 'accuracy': 100, 'type': 'normal', 'power': 40, 'pp': 10}, {'name': 'hail', 'accuracy': None, 'type': 'ice', 'power': None, 'pp': 10}, {'name': 'facade', 'accuracy': 100, 'type': 'normal', 'power': 70, 'pp': 20}, {'name': 'focus-punch', 'accuracy': 100, 'type': 'fighting', 'power': 150, 'pp': 20}, {'name': 'helping-hand', 'accuracy': None, 'type': 'normal', 'power': None, 'pp': 20}, {'name': 'brick-break', 'accuracy': 100, 'type': 'fighting', 'power': 75, 'pp': 15}, {'name': 'secret-power', 'accuracy': 100, 'type': 'normal', 'power': 70, 'pp': 20}, {'name': 'dive', 'accuracy': 100, 'type': 'water', 'power': 80, 'pp': 10}, {'name': 'hydro-cannon', 'accuracy': 90, 'type': 'water', 'power': 150, 'pp': 5}, {'name': 'weather-ball', 'accuracy': 100, 'type': 'normal', 'power': 50, 'pp': 10}, {'name': 'rock-tomb', 'accuracy': 95, 'type': 'rock', 'power': 60, 'pp': 15}, {'name': 'signal-beam', 'accuracy': 100, 'type': 'bug', 'power': 75, 'pp': 15}, {'name': 'muddy-water', 'accuracy': 85, 'type': 'water', 'power': 90, 'pp': 10}, {'name': 'iron-defense', 'accuracy': None, 'type': 'steel', 'power': None, 'pp': 15}, {'name': 'water-pulse', 'accuracy': 100, 'type': 'water', 'power': 60, 'pp': 20}, {'name': 'gyro-ball', 'accuracy': 100, 'type': 'steel', 'power': None, 'pp': 5}, {'name': 'brine', 'accuracy': 100, 'type': 'water', 'power': 65, 'pp': 10}, {'name': 'natural-gift', 'accuracy': 100, 'type': 'normal', 'power': None, 'pp': 15}, {'name': 'fling', 'accuracy': 100, 'type': 'dark', 'power': None, 'pp': 10}, {'name': 'aura-sphere', 'accuracy': None, 'type': 'fighting', 'power': 80, 'pp': 20}, {'name': 'dark-pulse', 'accuracy': 100, 'type': 'dark', 'power': 80, 'pp': 15}, {'name': 'aqua-tail', 'accuracy': 90, 'type': 'water', 'power': 90, 'pp': 10}, {'name': 'dragon-pulse', 'accuracy': 100, 'type': 'dragon', 'power': 85, 'pp': 10}, {'name': 'focus-blast', 'accuracy': 70, 'type': 'fighting', 'power': 120, 'pp': 5}, {'name': 'giga-impact', 'accuracy': 90, 'type': 'normal', 'power': 150, 'pp': 5}, {'name': 'avalanche', 'accuracy': 100, 'type': 'ice', 'power': 60, 'pp': 10}, {'name': 'zen-headbutt', 'accuracy': 90, 'type': 'psychic', 'power': 80, 'pp': 15}, {'name': 'flash-cannon', 'accuracy': 100, 'type': 'steel', 'power': 80, 'pp': 10}, {'name': 'rock-climb', 'accuracy': 85, 'type': 'normal', 'power': 90, 'pp': 20}, {'name': 'captivate', 'accuracy': 100, 'type': 'normal', 'power': None, 'pp': 20}, {'name': 'aqua-jet', 'accuracy': 100, 'type': 'water', 'power': 40, 'pp': 20}, {'name': 'smack-down', 'accuracy': 100, 'type': 'rock', 'power': 50, 'pp': 15}, {'name': 'round', 'accuracy': 100, 'type': 'normal', 'power': 60, 'pp': 15}, {'name': 'scald', 'accuracy': 100, 'type': 'water', 'power': 80, 'pp': 15}, {'name': 'shell-smash', 'accuracy': None, 'type': 'normal', 'power': None, 'pp': 15}, {'name': 'water-pledge', 'accuracy': 100, 'type': 'water', 'power': 80, 'pp': 10}, {'name': 'bulldoze', 'accuracy': 100, 'type': 'ground', 'power': 60, 'pp': 20}, {'name': 'dragon-tail', 'accuracy': 90, 'type': 'dragon', 'power': 60, 'pp': 10}, {'name': 'work-up', 'accuracy': None, 'type': 'normal', 'power': None, 'pp': 30}, {'name': 'confide', 'accuracy': None, 'type': 'normal', 'power': None, 'pp': 20}, {'name': 'power-up-punch', 'accuracy': 100, 'type': 'fighting', 'power': 40, 'pp': 20}, {'name': 'liquidation', 'accuracy': 100, 'type': 'water', 'power': 85, 'pp': 10}, {'name': 'body-press', 'accuracy': 100, 'type': 'fighting', 'power': 80, 'pp': 10}, {'name': 'terrain-pulse', 'accuracy': 100, 'type': 'normal', 'power': 50, 'pp': 10}, {'name': 'flip-turn', 'accuracy': 100, 'type': 'water', 'power': 60, 'pp': 20}]\n"
     ]
    }
   ],
   "source": [
    "lista_pokemones = []\n",
    "movimientos = []\n",
    "# Solicitudes para obtener datos de un Pokémon\n",
    "for pokemon in pokemons:\n",
    "    # Datos del Pokémon\n",
    "    pokemon_url = f'https://pokeapi.co/api/v2/pokemon/{pokemon}'\n",
    "    pokemon_response = requests.get(pokemon_url)\n",
    "    pokemon_data = pokemon_response.json()\n",
    "    \n",
    "    for move in pokemon_data['moves']:\n",
    "        move_name = move['move']['name']\n",
    "        move_url = move['move']['url']\n",
    "        movimientos.append({\"name\": move_name, \"url\": move_url})\n",
    "        \n",
    "    pokemon_dict = {\n",
    "        \"pokemon_id\": pokemon_data['id'],\n",
    "        \"pokemon_name\":pokemon_data['name'],\n",
    "        \"type\": [\", \".join(tipo['type']['name'] for tipo in pokemon_data['types'])],\n",
    "        \"moves\": moves\n",
    "    }\n",
    "    lista_pokemones.append(pokemon_dict)\n",
    "lista_movimientos = []\n",
    "for m in moves:\n",
    "        moves_response = requests.get(f'{m.get(\"url\")}')\n",
    "        moves_data = moves_response.json()\n",
    "        info_moves = {\n",
    "            'name': moves_data['name'],\n",
    "            'accuracy': moves_data['accuracy'],\n",
    "            'type': moves_data['type']['name'],\n",
    "            'power': moves_data['power'],\n",
    "            'pp': moves_data['pp']\n",
    "        }\n",
    "        lista_movimientos.append(info_moves)\n",
    "print(lista_pokemones)\n",
    "print(lista_movimientos)"
   ]
  },
  {
   "cell_type": "markdown",
   "metadata": {},
   "source": [
    "# Evolucion a  Tabular"
   ]
  },
  {
   "cell_type": "markdown",
   "metadata": {},
   "source": [
    "Ahora para cada request (`pokemon` y `movimiento`) convierte su informacion a datos tabulares. Toma en cuenta que vamos a realizar operaciones sobre esos DataFrames, por lo tanto tienes que elegir un formato adecuado.  \n",
    "Para cada pokemon, y para cada movimiento debe existir un `DataFrame` o puedes guardarlos en uno solo, aunque es recomendable dejarlos por separado."
   ]
  },
  {
   "cell_type": "code",
   "execution_count": 29,
   "metadata": {},
   "outputs": [
    {
     "data": {
      "text/html": [
       "<div>\n",
       "<style scoped>\n",
       "    .dataframe tbody tr th:only-of-type {\n",
       "        vertical-align: middle;\n",
       "    }\n",
       "\n",
       "    .dataframe tbody tr th {\n",
       "        vertical-align: top;\n",
       "    }\n",
       "\n",
       "    .dataframe thead th {\n",
       "        text-align: right;\n",
       "    }\n",
       "</style>\n",
       "<table border=\"1\" class=\"dataframe\">\n",
       "  <thead>\n",
       "    <tr style=\"text-align: right;\">\n",
       "      <th></th>\n",
       "      <th>name</th>\n",
       "      <th>accuracy</th>\n",
       "      <th>type</th>\n",
       "      <th>power</th>\n",
       "      <th>pp</th>\n",
       "    </tr>\n",
       "  </thead>\n",
       "  <tbody>\n",
       "    <tr>\n",
       "      <th>0</th>\n",
       "      <td>mega-punch</td>\n",
       "      <td>85.0</td>\n",
       "      <td>normal</td>\n",
       "      <td>80.0</td>\n",
       "      <td>20</td>\n",
       "    </tr>\n",
       "    <tr>\n",
       "      <th>1</th>\n",
       "      <td>ice-punch</td>\n",
       "      <td>100.0</td>\n",
       "      <td>ice</td>\n",
       "      <td>75.0</td>\n",
       "      <td>15</td>\n",
       "    </tr>\n",
       "    <tr>\n",
       "      <th>2</th>\n",
       "      <td>mega-kick</td>\n",
       "      <td>75.0</td>\n",
       "      <td>normal</td>\n",
       "      <td>120.0</td>\n",
       "      <td>5</td>\n",
       "    </tr>\n",
       "    <tr>\n",
       "      <th>3</th>\n",
       "      <td>headbutt</td>\n",
       "      <td>100.0</td>\n",
       "      <td>normal</td>\n",
       "      <td>70.0</td>\n",
       "      <td>15</td>\n",
       "    </tr>\n",
       "    <tr>\n",
       "      <th>4</th>\n",
       "      <td>tackle</td>\n",
       "      <td>100.0</td>\n",
       "      <td>normal</td>\n",
       "      <td>40.0</td>\n",
       "      <td>35</td>\n",
       "    </tr>\n",
       "    <tr>\n",
       "      <th>...</th>\n",
       "      <td>...</td>\n",
       "      <td>...</td>\n",
       "      <td>...</td>\n",
       "      <td>...</td>\n",
       "      <td>...</td>\n",
       "    </tr>\n",
       "    <tr>\n",
       "      <th>101</th>\n",
       "      <td>power-up-punch</td>\n",
       "      <td>100.0</td>\n",
       "      <td>fighting</td>\n",
       "      <td>40.0</td>\n",
       "      <td>20</td>\n",
       "    </tr>\n",
       "    <tr>\n",
       "      <th>102</th>\n",
       "      <td>liquidation</td>\n",
       "      <td>100.0</td>\n",
       "      <td>water</td>\n",
       "      <td>85.0</td>\n",
       "      <td>10</td>\n",
       "    </tr>\n",
       "    <tr>\n",
       "      <th>103</th>\n",
       "      <td>body-press</td>\n",
       "      <td>100.0</td>\n",
       "      <td>fighting</td>\n",
       "      <td>80.0</td>\n",
       "      <td>10</td>\n",
       "    </tr>\n",
       "    <tr>\n",
       "      <th>104</th>\n",
       "      <td>terrain-pulse</td>\n",
       "      <td>100.0</td>\n",
       "      <td>normal</td>\n",
       "      <td>50.0</td>\n",
       "      <td>10</td>\n",
       "    </tr>\n",
       "    <tr>\n",
       "      <th>105</th>\n",
       "      <td>flip-turn</td>\n",
       "      <td>100.0</td>\n",
       "      <td>water</td>\n",
       "      <td>60.0</td>\n",
       "      <td>20</td>\n",
       "    </tr>\n",
       "  </tbody>\n",
       "</table>\n",
       "<p>106 rows × 5 columns</p>\n",
       "</div>"
      ],
      "text/plain": [
       "               name  accuracy      type  power  pp\n",
       "0        mega-punch      85.0    normal   80.0  20\n",
       "1         ice-punch     100.0       ice   75.0  15\n",
       "2         mega-kick      75.0    normal  120.0   5\n",
       "3          headbutt     100.0    normal   70.0  15\n",
       "4            tackle     100.0    normal   40.0  35\n",
       "..              ...       ...       ...    ...  ..\n",
       "101  power-up-punch     100.0  fighting   40.0  20\n",
       "102     liquidation     100.0     water   85.0  10\n",
       "103      body-press     100.0  fighting   80.0  10\n",
       "104   terrain-pulse     100.0    normal   50.0  10\n",
       "105       flip-turn     100.0     water   60.0  20\n",
       "\n",
       "[106 rows x 5 columns]"
      ]
     },
     "execution_count": 29,
     "metadata": {},
     "output_type": "execute_result"
    }
   ],
   "source": [
    "# Convertimos las listas a DataFrames\n",
    "pokemon_df = pd.DataFrame(lista_pokemones)\n",
    "moves_df = pd.DataFrame(lista_movimientos)\n",
    "\n",
    "# Trabajamos limpiando el df de moves, quitando los na (en caso de haber) y eliminando los repetidos\n",
    "moves_df.dropna()\n",
    "moves_df.drop_duplicates()"
   ]
  },
  {
   "cell_type": "markdown",
   "metadata": {},
   "source": [
    "# Union de Informacion"
   ]
  },
  {
   "cell_type": "markdown",
   "metadata": {},
   "source": [
    "1. Obten el nombre y caracteristicas de todos lo movimientos que aparecen en por lo menos 3 pokemons de los de la lista (osea por lo menos 3 pokemons pueden realizar el movimiento), y guarda los datos de movimiento en un solo `DataFrame`"
   ]
  },
  {
   "cell_type": "code",
   "execution_count": null,
   "metadata": {},
   "outputs": [],
   "source": [
    "# Tu codigo aqui\n"
   ]
  },
  {
   "cell_type": "markdown",
   "metadata": {},
   "source": [
    "1.1 Salva los datos en un archivo csv"
   ]
  },
  {
   "cell_type": "code",
   "execution_count": null,
   "metadata": {},
   "outputs": [],
   "source": [
    "pd.DataFrame().to_csv('pokemon_moves_3.csv',index=False)"
   ]
  },
  {
   "cell_type": "markdown",
   "metadata": {},
   "source": [
    "2. Obten el nombre y caracteristicas todos los moviemientos que no se repiten en ningun otro pokemon, osea son movimientos unicos para un solo pokemon"
   ]
  },
  {
   "cell_type": "code",
   "execution_count": null,
   "metadata": {},
   "outputs": [],
   "source": [
    "# Tu codigo aqui"
   ]
  },
  {
   "cell_type": "markdown",
   "metadata": {},
   "source": [
    "2.2 Salvalos a un csv"
   ]
  },
  {
   "cell_type": "code",
   "execution_count": null,
   "metadata": {},
   "outputs": [],
   "source": [
    "pd.DataFrame().to_csv('unrepeated_moves.csv',index=False)"
   ]
  },
  {
   "cell_type": "markdown",
   "metadata": {},
   "source": [
    "# Manejo de tipos"
   ]
  },
  {
   "cell_type": "markdown",
   "metadata": {},
   "source": [
    "Para cada tipo de pokemon (fire, water, grass, etc) que aparecen en los datos. Obten una serie de dataframes que contengan a los pokemones que son de cada tipo. Y colocalos en un diccionarion donde la llave (`key`) es el tipo"
   ]
  },
  {
   "cell_type": "code",
   "execution_count": null,
   "metadata": {},
   "outputs": [],
   "source": [
    "# Tu codigo aqui\n",
    "\n",
    "\n",
    "# Esta es la estructura que debes crear al final\n",
    "df_tipos = {\n",
    "    'fire':pd.DataFrame(),\n",
    "    'water':pd.DataFrame(),\n",
    "    # \n",
    "}"
   ]
  },
  {
   "cell_type": "markdown",
   "metadata": {},
   "source": [
    "Despues guara ese diccionario en un json llamado `tipos.json`"
   ]
  },
  {
   "cell_type": "code",
   "execution_count": null,
   "metadata": {},
   "outputs": [],
   "source": [
    "# Tu codigo aqui\n",
    "# Nonbre del json `pokemon_tipes.json`"
   ]
  },
  {
   "cell_type": "markdown",
   "metadata": {},
   "source": [
    "# Seleccion de Pokemones"
   ]
  },
  {
   "cell_type": "markdown",
   "metadata": {},
   "source": [
    "Ahora crea un DataFrame que para cada pokemon unicamente contenga los movimientos que son de su tipo (osea si es tipo fuego y voldaor solo usa movimientos de tipo volador y fuego). Y crea una tabla donde tengan los siguientes datos en formato `tidydata`:\n",
    "1. `pokemon_id`\n",
    "2. `pokemon_name`\n",
    "3. `type`(s) cada pokemon tiene a 1 o dos tipos (no mas). Tienes que guardar ambos  \n",
    "4. `name` (del movimiento)\n",
    "5. `accuracy`\n",
    "6. `type`\n",
    "7. `power`\n",
    "8. `pp`"
   ]
  },
  {
   "cell_type": "code",
   "execution_count": null,
   "metadata": {},
   "outputs": [],
   "source": [
    "# Tu codigo aqui\n"
   ]
  },
  {
   "cell_type": "markdown",
   "metadata": {},
   "source": [
    "Finalmente guarda los datos en `.parquet`"
   ]
  },
  {
   "cell_type": "code",
   "execution_count": null,
   "metadata": {},
   "outputs": [],
   "source": [
    "# Nombre del archivo: tabla_pokemon.parquet"
   ]
  }
 ],
 "metadata": {
  "kernelspec": {
   "display_name": "Python 3",
   "language": "python",
   "name": "python3"
  },
  "language_info": {
   "codemirror_mode": {
    "name": "ipython",
    "version": 3
   },
   "file_extension": ".py",
   "mimetype": "text/x-python",
   "name": "python",
   "nbconvert_exporter": "python",
   "pygments_lexer": "ipython3",
   "version": "3.11.0"
  }
 },
 "nbformat": 4,
 "nbformat_minor": 2
}
