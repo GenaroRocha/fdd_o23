{
 "cells": [
  {
   "cell_type": "markdown",
   "metadata": {},
   "source": [
    "<a target=\"_blank\" href=\"https://colab.research.google.com/github/sonder-art/fdd_o23/blob/main/codigo/debugg/debugging_apis.ipynb\">\n",
    "  <img src=\"https://colab.research.google.com/assets/colab-badge.svg\" alt=\"Open In Colab\"/>\n",
    "</a>"
   ]
  },
  {
   "cell_type": "markdown",
   "metadata": {},
   "source": [
    "Se entrega a mas tardar el martes 14 de Noviembre a las 11:55 pm. Vale 40 puntos de tarea.\n",
    "Te recomiendo leer todo el ejercicio antes de empezar a ahcer codigo, para que te des una idea de que formato y estructura necesitamos"
   ]
  },
  {
   "cell_type": "code",
   "execution_count": 51,
   "metadata": {},
   "outputs": [],
   "source": [
    "import pandas as pd\n",
    "import requests\n",
    "import json\n",
    "import pyarrow.parquet as pq"
   ]
  },
  {
   "cell_type": "markdown",
   "metadata": {},
   "source": [
    "Objetivos del Ejercicio:\n",
    "\n",
    "    Realizar una solicitud a la API de Pokémon para obtener datos sobre un Pokémon específico.\n",
    "    Cargar y visualizar los datos en bruto para comprender su estructura.\n",
    "    Limpiar y organizar los datos para un análisis posterior.\n",
    "    Guardar los datos limpios en un archivo CSV."
   ]
  },
  {
   "cell_type": "markdown",
   "metadata": {},
   "source": [
    "El objetivo es crear un `DataFrame` (tidydata) de varios pokemones que ademas contengan metadata de sus moviemientos.  \n",
    "Para ello deberas realizar request al `API` de pokemon, entender como vienen los datos y despues combinarlos con los `joins` correspondientes."
   ]
  },
  {
   "cell_type": "markdown",
   "metadata": {},
   "source": [
    "# API request"
   ]
  },
  {
   "cell_type": "markdown",
   "metadata": {},
   "source": [
    "Crea codigo para acceder al API de pokemon y hacer requests"
   ]
  },
  {
   "cell_type": "markdown",
   "metadata": {},
   "source": [
    "Compelta el siguiente snippet para obter los datos del API de pokemon."
   ]
  },
  {
   "cell_type": "markdown",
   "metadata": {},
   "source": [
    "## Pokemon Data"
   ]
  },
  {
   "cell_type": "markdown",
   "metadata": {},
   "source": [
    "Para  el tipo de pokemon debes obtener:\n",
    "1. `pokemon_id`\n",
    "2. `pokemon_name`\n",
    "3. `type`(s) cada pokemon tiene a 1 o dos tipos (no mas). Tienes que guardar ambos  \n",
    "\n",
    "Guarda los `moves` del pokemon pues los usaremos mas adelante. En especial el `name` y la `url` de cada movimiento apra que podamos iterar despues"
   ]
  },
  {
   "cell_type": "code",
   "execution_count": 2,
   "metadata": {},
   "outputs": [],
   "source": [
    "# Elige tu pokemon\n",
    "pokemon_name = 'lucario'"
   ]
  },
  {
   "cell_type": "code",
   "execution_count": 4,
   "metadata": {},
   "outputs": [
    {
     "data": {
      "text/plain": [
       "{'id': 448,\n",
       " 'name': 'lucario',\n",
       " 'types': ['fighting', 'steel'],\n",
       " 'moves': [{'name': 'mega-punch', 'url': 'https://pokeapi.co/api/v2/move/5/'},\n",
       "  {'name': 'ice-punch', 'url': 'https://pokeapi.co/api/v2/move/8/'},\n",
       "  {'name': 'thunder-punch', 'url': 'https://pokeapi.co/api/v2/move/9/'},\n",
       "  {'name': 'swords-dance', 'url': 'https://pokeapi.co/api/v2/move/14/'},\n",
       "  {'name': 'mega-kick', 'url': 'https://pokeapi.co/api/v2/move/25/'},\n",
       "  {'name': 'headbutt', 'url': 'https://pokeapi.co/api/v2/move/29/'},\n",
       "  {'name': 'body-slam', 'url': 'https://pokeapi.co/api/v2/move/34/'},\n",
       "  {'name': 'take-down', 'url': 'https://pokeapi.co/api/v2/move/36/'},\n",
       "  {'name': 'roar', 'url': 'https://pokeapi.co/api/v2/move/46/'},\n",
       "  {'name': 'hyper-beam', 'url': 'https://pokeapi.co/api/v2/move/63/'},\n",
       "  {'name': 'low-kick', 'url': 'https://pokeapi.co/api/v2/move/67/'},\n",
       "  {'name': 'counter', 'url': 'https://pokeapi.co/api/v2/move/68/'},\n",
       "  {'name': 'strength', 'url': 'https://pokeapi.co/api/v2/move/70/'},\n",
       "  {'name': 'earthquake', 'url': 'https://pokeapi.co/api/v2/move/89/'},\n",
       "  {'name': 'dig', 'url': 'https://pokeapi.co/api/v2/move/91/'},\n",
       "  {'name': 'toxic', 'url': 'https://pokeapi.co/api/v2/move/92/'},\n",
       "  {'name': 'psychic', 'url': 'https://pokeapi.co/api/v2/move/94/'},\n",
       "  {'name': 'agility', 'url': 'https://pokeapi.co/api/v2/move/97/'},\n",
       "  {'name': 'quick-attack', 'url': 'https://pokeapi.co/api/v2/move/98/'},\n",
       "  {'name': 'screech', 'url': 'https://pokeapi.co/api/v2/move/103/'},\n",
       "  {'name': 'double-team', 'url': 'https://pokeapi.co/api/v2/move/104/'},\n",
       "  {'name': 'focus-energy', 'url': 'https://pokeapi.co/api/v2/move/116/'},\n",
       "  {'name': 'metronome', 'url': 'https://pokeapi.co/api/v2/move/118/'},\n",
       "  {'name': 'swift', 'url': 'https://pokeapi.co/api/v2/move/129/'},\n",
       "  {'name': 'rest', 'url': 'https://pokeapi.co/api/v2/move/156/'},\n",
       "  {'name': 'rock-slide', 'url': 'https://pokeapi.co/api/v2/move/157/'},\n",
       "  {'name': 'substitute', 'url': 'https://pokeapi.co/api/v2/move/164/'},\n",
       "  {'name': 'snore', 'url': 'https://pokeapi.co/api/v2/move/173/'},\n",
       "  {'name': 'reversal', 'url': 'https://pokeapi.co/api/v2/move/179/'},\n",
       "  {'name': 'protect', 'url': 'https://pokeapi.co/api/v2/move/182/'},\n",
       "  {'name': 'scary-face', 'url': 'https://pokeapi.co/api/v2/move/184/'},\n",
       "  {'name': 'mud-slap', 'url': 'https://pokeapi.co/api/v2/move/189/'},\n",
       "  {'name': 'foresight', 'url': 'https://pokeapi.co/api/v2/move/193/'},\n",
       "  {'name': 'detect', 'url': 'https://pokeapi.co/api/v2/move/197/'},\n",
       "  {'name': 'bone-rush', 'url': 'https://pokeapi.co/api/v2/move/198/'},\n",
       "  {'name': 'endure', 'url': 'https://pokeapi.co/api/v2/move/203/'},\n",
       "  {'name': 'swagger', 'url': 'https://pokeapi.co/api/v2/move/207/'},\n",
       "  {'name': 'fury-cutter', 'url': 'https://pokeapi.co/api/v2/move/210/'},\n",
       "  {'name': 'attract', 'url': 'https://pokeapi.co/api/v2/move/213/'},\n",
       "  {'name': 'sleep-talk', 'url': 'https://pokeapi.co/api/v2/move/214/'},\n",
       "  {'name': 'return', 'url': 'https://pokeapi.co/api/v2/move/216/'},\n",
       "  {'name': 'frustration', 'url': 'https://pokeapi.co/api/v2/move/218/'},\n",
       "  {'name': 'iron-tail', 'url': 'https://pokeapi.co/api/v2/move/231/'},\n",
       "  {'name': 'metal-claw', 'url': 'https://pokeapi.co/api/v2/move/232/'},\n",
       "  {'name': 'hidden-power', 'url': 'https://pokeapi.co/api/v2/move/237/'},\n",
       "  {'name': 'rain-dance', 'url': 'https://pokeapi.co/api/v2/move/240/'},\n",
       "  {'name': 'sunny-day', 'url': 'https://pokeapi.co/api/v2/move/241/'},\n",
       "  {'name': 'crunch', 'url': 'https://pokeapi.co/api/v2/move/242/'},\n",
       "  {'name': 'extreme-speed', 'url': 'https://pokeapi.co/api/v2/move/245/'},\n",
       "  {'name': 'shadow-ball', 'url': 'https://pokeapi.co/api/v2/move/247/'},\n",
       "  {'name': 'rock-smash', 'url': 'https://pokeapi.co/api/v2/move/249/'},\n",
       "  {'name': 'facade', 'url': 'https://pokeapi.co/api/v2/move/263/'},\n",
       "  {'name': 'focus-punch', 'url': 'https://pokeapi.co/api/v2/move/264/'},\n",
       "  {'name': 'helping-hand', 'url': 'https://pokeapi.co/api/v2/move/270/'},\n",
       "  {'name': 'role-play', 'url': 'https://pokeapi.co/api/v2/move/272/'},\n",
       "  {'name': 'revenge', 'url': 'https://pokeapi.co/api/v2/move/279/'},\n",
       "  {'name': 'brick-break', 'url': 'https://pokeapi.co/api/v2/move/280/'},\n",
       "  {'name': 'secret-power', 'url': 'https://pokeapi.co/api/v2/move/290/'},\n",
       "  {'name': 'blaze-kick', 'url': 'https://pokeapi.co/api/v2/move/299/'},\n",
       "  {'name': 'meteor-mash', 'url': 'https://pokeapi.co/api/v2/move/309/'},\n",
       "  {'name': 'rock-tomb', 'url': 'https://pokeapi.co/api/v2/move/317/'},\n",
       "  {'name': 'metal-sound', 'url': 'https://pokeapi.co/api/v2/move/319/'},\n",
       "  {'name': 'aerial-ace', 'url': 'https://pokeapi.co/api/v2/move/332/'},\n",
       "  {'name': 'iron-defense', 'url': 'https://pokeapi.co/api/v2/move/334/'},\n",
       "  {'name': 'bulk-up', 'url': 'https://pokeapi.co/api/v2/move/339/'},\n",
       "  {'name': 'calm-mind', 'url': 'https://pokeapi.co/api/v2/move/347/'},\n",
       "  {'name': 'water-pulse', 'url': 'https://pokeapi.co/api/v2/move/352/'},\n",
       "  {'name': 'natural-gift', 'url': 'https://pokeapi.co/api/v2/move/363/'},\n",
       "  {'name': 'feint', 'url': 'https://pokeapi.co/api/v2/move/364/'},\n",
       "  {'name': 'close-combat', 'url': 'https://pokeapi.co/api/v2/move/370/'},\n",
       "  {'name': 'payback', 'url': 'https://pokeapi.co/api/v2/move/371/'},\n",
       "  {'name': 'fling', 'url': 'https://pokeapi.co/api/v2/move/374/'},\n",
       "  {'name': 'me-first', 'url': 'https://pokeapi.co/api/v2/move/382/'},\n",
       "  {'name': 'copycat', 'url': 'https://pokeapi.co/api/v2/move/383/'},\n",
       "  {'name': 'magnet-rise', 'url': 'https://pokeapi.co/api/v2/move/393/'},\n",
       "  {'name': 'force-palm', 'url': 'https://pokeapi.co/api/v2/move/395/'},\n",
       "  {'name': 'aura-sphere', 'url': 'https://pokeapi.co/api/v2/move/396/'},\n",
       "  {'name': 'poison-jab', 'url': 'https://pokeapi.co/api/v2/move/398/'},\n",
       "  {'name': 'dark-pulse', 'url': 'https://pokeapi.co/api/v2/move/399/'},\n",
       "  {'name': 'dragon-pulse', 'url': 'https://pokeapi.co/api/v2/move/406/'},\n",
       "  {'name': 'drain-punch', 'url': 'https://pokeapi.co/api/v2/move/409/'},\n",
       "  {'name': 'vacuum-wave', 'url': 'https://pokeapi.co/api/v2/move/410/'},\n",
       "  {'name': 'focus-blast', 'url': 'https://pokeapi.co/api/v2/move/411/'},\n",
       "  {'name': 'giga-impact', 'url': 'https://pokeapi.co/api/v2/move/416/'},\n",
       "  {'name': 'nasty-plot', 'url': 'https://pokeapi.co/api/v2/move/417/'},\n",
       "  {'name': 'shadow-claw', 'url': 'https://pokeapi.co/api/v2/move/421/'},\n",
       "  {'name': 'zen-headbutt', 'url': 'https://pokeapi.co/api/v2/move/428/'},\n",
       "  {'name': 'flash-cannon', 'url': 'https://pokeapi.co/api/v2/move/430/'},\n",
       "  {'name': 'rock-climb', 'url': 'https://pokeapi.co/api/v2/move/431/'},\n",
       "  {'name': 'stone-edge', 'url': 'https://pokeapi.co/api/v2/move/444/'},\n",
       "  {'name': 'captivate', 'url': 'https://pokeapi.co/api/v2/move/445/'},\n",
       "  {'name': 'hone-claws', 'url': 'https://pokeapi.co/api/v2/move/468/'},\n",
       "  {'name': 'low-sweep', 'url': 'https://pokeapi.co/api/v2/move/490/'},\n",
       "  {'name': 'round', 'url': 'https://pokeapi.co/api/v2/move/496/'},\n",
       "  {'name': 'quick-guard', 'url': 'https://pokeapi.co/api/v2/move/501/'},\n",
       "  {'name': 'heal-pulse', 'url': 'https://pokeapi.co/api/v2/move/505/'},\n",
       "  {'name': 'retaliate', 'url': 'https://pokeapi.co/api/v2/move/514/'},\n",
       "  {'name': 'final-gambit', 'url': 'https://pokeapi.co/api/v2/move/515/'},\n",
       "  {'name': 'bulldoze', 'url': 'https://pokeapi.co/api/v2/move/523/'},\n",
       "  {'name': 'work-up', 'url': 'https://pokeapi.co/api/v2/move/526/'},\n",
       "  {'name': 'dual-chop', 'url': 'https://pokeapi.co/api/v2/move/530/'},\n",
       "  {'name': 'confide', 'url': 'https://pokeapi.co/api/v2/move/590/'},\n",
       "  {'name': 'power-up-punch', 'url': 'https://pokeapi.co/api/v2/move/612/'},\n",
       "  {'name': 'laser-focus', 'url': 'https://pokeapi.co/api/v2/move/673/'},\n",
       "  {'name': 'life-dew', 'url': 'https://pokeapi.co/api/v2/move/791/'},\n",
       "  {'name': 'steel-beam', 'url': 'https://pokeapi.co/api/v2/move/796/'},\n",
       "  {'name': 'terrain-pulse', 'url': 'https://pokeapi.co/api/v2/move/805/'},\n",
       "  {'name': 'coaching', 'url': 'https://pokeapi.co/api/v2/move/811/'},\n",
       "  {'name': 'tera-blast', 'url': 'https://pokeapi.co/api/v2/move/851/'},\n",
       "  {'name': 'trailblaze', 'url': 'https://pokeapi.co/api/v2/move/885/'}]}"
      ]
     },
     "execution_count": 4,
     "metadata": {},
     "output_type": "execute_result"
    }
   ],
   "source": [
    "# Solicitud para obtener datos de un Pokémon\n",
    "pokemon_url = f'https://pokeapi.co/api/v2/pokemon/{pokemon_name}'\n",
    "pokemon_response = requests.get(pokemon_url)\n",
    "pokemon_data = pokemon_response.json()\n",
    "lucario_map = {\n",
    "    'id': pokemon_data['id'],\n",
    "    'name': pokemon_data['name'],\n",
    "    'types': [type_info['type']['name'] for type_info in pokemon_data['types']],\n",
    "    'moves': [{'name': move['move']['name'], 'url': move['move']['url']} for move in pokemon_data['moves']]\n",
    "}\n",
    "lucario_map"
   ]
  },
  {
   "cell_type": "markdown",
   "metadata": {},
   "source": [
    "## Moves Data"
   ]
  },
  {
   "cell_type": "markdown",
   "metadata": {},
   "source": [
    "Ahora para cada movimiento `move` del pokemon debes obtener los siguientes datos usando la `url`\n",
    "1. `name`\n",
    "2. `accuracy`\n",
    "3. `type`\n",
    "4. `power`\n",
    "5. `pp`"
   ]
  },
  {
   "cell_type": "code",
   "execution_count": 16,
   "metadata": {},
   "outputs": [
    {
     "name": "stdout",
     "output_type": "stream",
     "text": [
      "{'name': 'mega-punch', 'accuracy': 85, 'type': 'normal', 'power': 80, 'pp': 20}\n",
      "{'name': 'fire-punch', 'accuracy': 100, 'type': 'fire', 'power': 75, 'pp': 15}\n",
      "{'name': 'ice-punch', 'accuracy': 100, 'type': 'ice', 'power': 75, 'pp': 15}\n",
      "{'name': 'thunder-punch', 'accuracy': 100, 'type': 'electric', 'power': 75, 'pp': 15}\n",
      "{'name': 'mega-kick', 'accuracy': 75, 'type': 'normal', 'power': 120, 'pp': 5}\n",
      "{'name': 'headbutt', 'accuracy': 100, 'type': 'normal', 'power': 70, 'pp': 15}\n",
      "{'name': 'body-slam', 'accuracy': 100, 'type': 'normal', 'power': 85, 'pp': 15}\n",
      "{'name': 'take-down', 'accuracy': 85, 'type': 'normal', 'power': 90, 'pp': 20}\n",
      "{'name': 'double-edge', 'accuracy': 100, 'type': 'normal', 'power': 120, 'pp': 15}\n",
      "{'name': 'disable', 'accuracy': 100, 'type': 'normal', 'power': None, 'pp': 20}\n",
      "{'name': 'hyper-beam', 'accuracy': 90, 'type': 'normal', 'power': 150, 'pp': 5}\n",
      "{'name': 'submission', 'accuracy': 80, 'type': 'fighting', 'power': 80, 'pp': 20}\n",
      "{'name': 'counter', 'accuracy': 100, 'type': 'fighting', 'power': None, 'pp': 20}\n",
      "{'name': 'seismic-toss', 'accuracy': 100, 'type': 'fighting', 'power': None, 'pp': 20}\n",
      "{'name': 'strength', 'accuracy': 100, 'type': 'normal', 'power': 80, 'pp': 15}\n",
      "{'name': 'mega-drain', 'accuracy': 100, 'type': 'grass', 'power': 40, 'pp': 15}\n",
      "{'name': 'thunderbolt', 'accuracy': 100, 'type': 'electric', 'power': 90, 'pp': 15}\n",
      "{'name': 'thunder-wave', 'accuracy': 90, 'type': 'electric', 'power': None, 'pp': 20}\n",
      "{'name': 'thunder', 'accuracy': 70, 'type': 'electric', 'power': 110, 'pp': 10}\n",
      "{'name': 'toxic', 'accuracy': 90, 'type': 'poison', 'power': None, 'pp': 10}\n",
      "{'name': 'psychic', 'accuracy': 100, 'type': 'psychic', 'power': 90, 'pp': 10}\n",
      "{'name': 'hypnosis', 'accuracy': 60, 'type': 'psychic', 'power': None, 'pp': 20}\n",
      "{'name': 'rage', 'accuracy': 100, 'type': 'normal', 'power': 20, 'pp': 20}\n",
      "{'name': 'night-shade', 'accuracy': 100, 'type': 'ghost', 'power': None, 'pp': 15}\n",
      "{'name': 'mimic', 'accuracy': None, 'type': 'normal', 'power': None, 'pp': 10}\n",
      "{'name': 'double-team', 'accuracy': None, 'type': 'normal', 'power': None, 'pp': 15}\n",
      "{'name': 'confuse-ray', 'accuracy': 100, 'type': 'ghost', 'power': None, 'pp': 10}\n",
      "{'name': 'haze', 'accuracy': None, 'type': 'ice', 'power': None, 'pp': 30}\n",
      "{'name': 'bide', 'accuracy': None, 'type': 'normal', 'power': None, 'pp': 10}\n",
      "{'name': 'metronome', 'accuracy': None, 'type': 'normal', 'power': None, 'pp': 10}\n",
      "{'name': 'self-destruct', 'accuracy': 100, 'type': 'normal', 'power': 200, 'pp': 5}\n",
      "{'name': 'lick', 'accuracy': 100, 'type': 'ghost', 'power': 30, 'pp': 30}\n",
      "{'name': 'smog', 'accuracy': 70, 'type': 'poison', 'power': 30, 'pp': 20}\n",
      "{'name': 'skull-bash', 'accuracy': 100, 'type': 'normal', 'power': 130, 'pp': 10}\n",
      "{'name': 'dream-eater', 'accuracy': 100, 'type': 'psychic', 'power': 100, 'pp': 15}\n",
      "{'name': 'poison-gas', 'accuracy': 90, 'type': 'poison', 'power': None, 'pp': 40}\n",
      "{'name': 'psywave', 'accuracy': 100, 'type': 'psychic', 'power': None, 'pp': 15}\n",
      "{'name': 'explosion', 'accuracy': 100, 'type': 'normal', 'power': 250, 'pp': 5}\n",
      "{'name': 'rest', 'accuracy': None, 'type': 'psychic', 'power': None, 'pp': 10}\n",
      "{'name': 'substitute', 'accuracy': None, 'type': 'normal', 'power': None, 'pp': 10}\n",
      "{'name': 'thief', 'accuracy': 100, 'type': 'dark', 'power': 60, 'pp': 25}\n",
      "{'name': 'nightmare', 'accuracy': 100, 'type': 'ghost', 'power': None, 'pp': 15}\n",
      "{'name': 'snore', 'accuracy': 100, 'type': 'normal', 'power': 50, 'pp': 15}\n",
      "{'name': 'curse', 'accuracy': None, 'type': 'ghost', 'power': None, 'pp': 10}\n",
      "{'name': 'spite', 'accuracy': 100, 'type': 'ghost', 'power': None, 'pp': 10}\n",
      "{'name': 'protect', 'accuracy': None, 'type': 'normal', 'power': None, 'pp': 10}\n",
      "{'name': 'scary-face', 'accuracy': 100, 'type': 'normal', 'power': None, 'pp': 10}\n",
      "{'name': 'sludge-bomb', 'accuracy': 100, 'type': 'poison', 'power': 90, 'pp': 10}\n",
      "{'name': 'zap-cannon', 'accuracy': 50, 'type': 'electric', 'power': 120, 'pp': 5}\n",
      "{'name': 'destiny-bond', 'accuracy': None, 'type': 'ghost', 'power': None, 'pp': 5}\n",
      "{'name': 'perish-song', 'accuracy': None, 'type': 'normal', 'power': None, 'pp': 5}\n",
      "{'name': 'icy-wind', 'accuracy': 95, 'type': 'ice', 'power': 55, 'pp': 15}\n",
      "{'name': 'giga-drain', 'accuracy': 100, 'type': 'grass', 'power': 75, 'pp': 10}\n",
      "{'name': 'endure', 'accuracy': None, 'type': 'normal', 'power': None, 'pp': 10}\n",
      "{'name': 'swagger', 'accuracy': 85, 'type': 'normal', 'power': None, 'pp': 15}\n",
      "{'name': 'mean-look', 'accuracy': None, 'type': 'normal', 'power': None, 'pp': 5}\n",
      "{'name': 'attract', 'accuracy': 100, 'type': 'normal', 'power': None, 'pp': 15}\n",
      "{'name': 'sleep-talk', 'accuracy': None, 'type': 'normal', 'power': None, 'pp': 10}\n",
      "{'name': 'return', 'accuracy': 100, 'type': 'normal', 'power': None, 'pp': 20}\n",
      "{'name': 'frustration', 'accuracy': 100, 'type': 'normal', 'power': None, 'pp': 20}\n",
      "{'name': 'pain-split', 'accuracy': None, 'type': 'normal', 'power': None, 'pp': 20}\n",
      "{'name': 'dynamic-punch', 'accuracy': 50, 'type': 'fighting', 'power': 100, 'pp': 5}\n",
      "{'name': 'encore', 'accuracy': 100, 'type': 'normal', 'power': None, 'pp': 5}\n",
      "{'name': 'hidden-power', 'accuracy': 100, 'type': 'normal', 'power': 60, 'pp': 15}\n",
      "{'name': 'rain-dance', 'accuracy': None, 'type': 'water', 'power': None, 'pp': 5}\n",
      "{'name': 'sunny-day', 'accuracy': None, 'type': 'fire', 'power': None, 'pp': 5}\n",
      "{'name': 'psych-up', 'accuracy': None, 'type': 'normal', 'power': None, 'pp': 10}\n",
      "{'name': 'shadow-ball', 'accuracy': 100, 'type': 'ghost', 'power': 80, 'pp': 15}\n",
      "{'name': 'rock-smash', 'accuracy': 100, 'type': 'fighting', 'power': 40, 'pp': 15}\n",
      "{'name': 'uproar', 'accuracy': 100, 'type': 'normal', 'power': 90, 'pp': 10}\n",
      "{'name': 'torment', 'accuracy': 100, 'type': 'dark', 'power': None, 'pp': 15}\n",
      "{'name': 'will-o-wisp', 'accuracy': 85, 'type': 'fire', 'power': None, 'pp': 15}\n",
      "{'name': 'facade', 'accuracy': 100, 'type': 'normal', 'power': 70, 'pp': 20}\n",
      "{'name': 'focus-punch', 'accuracy': 100, 'type': 'fighting', 'power': 150, 'pp': 20}\n",
      "{'name': 'taunt', 'accuracy': 100, 'type': 'dark', 'power': None, 'pp': 20}\n",
      "{'name': 'trick', 'accuracy': 100, 'type': 'psychic', 'power': None, 'pp': 10}\n",
      "{'name': 'role-play', 'accuracy': None, 'type': 'psychic', 'power': None, 'pp': 10}\n",
      "{'name': 'brick-break', 'accuracy': 100, 'type': 'fighting', 'power': 75, 'pp': 15}\n",
      "{'name': 'knock-off', 'accuracy': 100, 'type': 'dark', 'power': 65, 'pp': 20}\n",
      "{'name': 'skill-swap', 'accuracy': None, 'type': 'psychic', 'power': None, 'pp': 10}\n",
      "{'name': 'imprison', 'accuracy': None, 'type': 'psychic', 'power': None, 'pp': 10}\n",
      "{'name': 'snatch', 'accuracy': None, 'type': 'dark', 'power': None, 'pp': 10}\n",
      "{'name': 'secret-power', 'accuracy': 100, 'type': 'normal', 'power': 70, 'pp': 20}\n",
      "{'name': 'shadow-punch', 'accuracy': None, 'type': 'ghost', 'power': 60, 'pp': 20}\n",
      "{'name': 'natural-gift', 'accuracy': 100, 'type': 'normal', 'power': None, 'pp': 15}\n",
      "{'name': 'payback', 'accuracy': 100, 'type': 'dark', 'power': 50, 'pp': 10}\n",
      "{'name': 'embargo', 'accuracy': 100, 'type': 'dark', 'power': None, 'pp': 15}\n",
      "{'name': 'fling', 'accuracy': 100, 'type': 'dark', 'power': None, 'pp': 10}\n",
      "{'name': 'sucker-punch', 'accuracy': 100, 'type': 'dark', 'power': 70, 'pp': 5}\n",
      "{'name': 'toxic-spikes', 'accuracy': None, 'type': 'poison', 'power': None, 'pp': 20}\n",
      "{'name': 'poison-jab', 'accuracy': 100, 'type': 'poison', 'power': 80, 'pp': 20}\n",
      "{'name': 'dark-pulse', 'accuracy': 100, 'type': 'dark', 'power': 80, 'pp': 15}\n",
      "{'name': 'drain-punch', 'accuracy': 100, 'type': 'fighting', 'power': 75, 'pp': 10}\n",
      "{'name': 'focus-blast', 'accuracy': 70, 'type': 'fighting', 'power': 120, 'pp': 5}\n",
      "{'name': 'energy-ball', 'accuracy': 100, 'type': 'grass', 'power': 90, 'pp': 10}\n",
      "{'name': 'giga-impact', 'accuracy': 90, 'type': 'normal', 'power': 150, 'pp': 5}\n",
      "{'name': 'nasty-plot', 'accuracy': None, 'type': 'dark', 'power': None, 'pp': 20}\n",
      "{'name': 'shadow-claw', 'accuracy': 100, 'type': 'ghost', 'power': 70, 'pp': 15}\n",
      "{'name': 'trick-room', 'accuracy': None, 'type': 'psychic', 'power': None, 'pp': 5}\n",
      "{'name': 'gunk-shot', 'accuracy': 80, 'type': 'poison', 'power': 120, 'pp': 5}\n",
      "{'name': 'captivate', 'accuracy': 100, 'type': 'normal', 'power': None, 'pp': 20}\n",
      "{'name': 'ominous-wind', 'accuracy': 100, 'type': 'ghost', 'power': 60, 'pp': 5}\n",
      "{'name': 'wonder-room', 'accuracy': None, 'type': 'psychic', 'power': None, 'pp': 10}\n",
      "{'name': 'venoshock', 'accuracy': 100, 'type': 'poison', 'power': 65, 'pp': 10}\n",
      "{'name': 'telekinesis', 'accuracy': None, 'type': 'psychic', 'power': None, 'pp': 15}\n",
      "{'name': 'sludge-wave', 'accuracy': 100, 'type': 'poison', 'power': 95, 'pp': 10}\n",
      "{'name': 'acid-spray', 'accuracy': 100, 'type': 'poison', 'power': 40, 'pp': 20}\n",
      "{'name': 'foul-play', 'accuracy': 100, 'type': 'dark', 'power': 95, 'pp': 15}\n",
      "{'name': 'round', 'accuracy': 100, 'type': 'normal', 'power': 60, 'pp': 15}\n",
      "{'name': 'ally-switch', 'accuracy': None, 'type': 'psychic', 'power': None, 'pp': 15}\n",
      "{'name': 'hex', 'accuracy': 100, 'type': 'ghost', 'power': 65, 'pp': 10}\n",
      "{'name': 'reflect-type', 'accuracy': None, 'type': 'normal', 'power': None, 'pp': 15}\n",
      "{'name': 'phantom-force', 'accuracy': 100, 'type': 'ghost', 'power': 90, 'pp': 10}\n",
      "{'name': 'confide', 'accuracy': None, 'type': 'normal', 'power': None, 'pp': 20}\n",
      "{'name': 'dazzling-gleam', 'accuracy': 100, 'type': 'fairy', 'power': 80, 'pp': 10}\n",
      "{'name': 'infestation', 'accuracy': 100, 'type': 'bug', 'power': 20, 'pp': 20}\n",
      "{'name': 'power-up-punch', 'accuracy': 100, 'type': 'fighting', 'power': 40, 'pp': 20}\n",
      "{'name': 'laser-focus', 'accuracy': None, 'type': 'normal', 'power': None, 'pp': 30}\n",
      "{'name': 'skitter-smack', 'accuracy': 90, 'type': 'bug', 'power': 70, 'pp': 10}\n",
      "{'name': 'poltergeist', 'accuracy': 90, 'type': 'ghost', 'power': 110, 'pp': 5}\n",
      "{'name': 'corrosive-gas', 'accuracy': 100, 'type': 'poison', 'power': None, 'pp': 40}\n",
      "{'name': 'tera-blast', 'accuracy': 100, 'type': 'normal', 'power': 80, 'pp': 10}\n"
     ]
    }
   ],
   "source": [
    "# Solicitud para obtener datos de movimientos de un Pokémon\n",
    "\n",
    "for move in moves: \n",
    "    # Realiza la solicitud a la API para obtener detalles del movimiento\n",
    "    moves_response = requests.get(move['url'])\n",
    "    move_data = moves_response.json()\n",
    "    # Extrae los datos solicitados del movimiento\n",
    "    move_map = {\n",
    "        'name': move_data['name'],\n",
    "        'accuracy': move_data['accuracy'],\n",
    "        'type': move_data['type']['name'],\n",
    "        'power': move_data['power'],\n",
    "        'pp': move_data['pp']\n",
    "    }\n",
    "    print(move_map)"
   ]
  },
  {
   "cell_type": "markdown",
   "metadata": {},
   "source": [
    "# API Request para varios pokemons"
   ]
  },
  {
   "cell_type": "markdown",
   "metadata": {},
   "source": [
    "Ahora que sabes como funciona el `API` realiza las peticiones de los siguientes pokemones respecto a sus caracteristicas\n",
    "y movimientos, y guardalas en una lista, diciconario o tabla (lo que mas te acomode). "
   ]
  },
  {
   "cell_type": "code",
   "execution_count": 19,
   "metadata": {},
   "outputs": [],
   "source": [
    "pokemons = ['lucario', 'pikachu', 'gengar', 'charizard', 'blastoise', 'venusaur', 'dragonite', 'mew', 'mewtwo', 'garchomp']"
   ]
  },
  {
   "cell_type": "code",
   "execution_count": 26,
   "metadata": {},
   "outputs": [
    {
     "name": "stdout",
     "output_type": "stream",
     "text": [
      "{'lucario': {'id': 448, 'name': 'lucario', 'type1': 'fighting', 'type2': 'steel', 'moves': [{'name': 'mega-punch', 'url': 'https://pokeapi.co/api/v2/move/5/'}, {'name': 'ice-punch', 'url': 'https://pokeapi.co/api/v2/move/8/'}, {'name': 'thunder-punch', 'url': 'https://pokeapi.co/api/v2/move/9/'}, {'name': 'swords-dance', 'url': 'https://pokeapi.co/api/v2/move/14/'}, {'name': 'mega-kick', 'url': 'https://pokeapi.co/api/v2/move/25/'}, {'name': 'headbutt', 'url': 'https://pokeapi.co/api/v2/move/29/'}, {'name': 'body-slam', 'url': 'https://pokeapi.co/api/v2/move/34/'}, {'name': 'take-down', 'url': 'https://pokeapi.co/api/v2/move/36/'}, {'name': 'roar', 'url': 'https://pokeapi.co/api/v2/move/46/'}, {'name': 'hyper-beam', 'url': 'https://pokeapi.co/api/v2/move/63/'}, {'name': 'low-kick', 'url': 'https://pokeapi.co/api/v2/move/67/'}, {'name': 'counter', 'url': 'https://pokeapi.co/api/v2/move/68/'}, {'name': 'strength', 'url': 'https://pokeapi.co/api/v2/move/70/'}, {'name': 'earthquake', 'url': 'https://pokeapi.co/api/v2/move/89/'}, {'name': 'dig', 'url': 'https://pokeapi.co/api/v2/move/91/'}, {'name': 'toxic', 'url': 'https://pokeapi.co/api/v2/move/92/'}, {'name': 'psychic', 'url': 'https://pokeapi.co/api/v2/move/94/'}, {'name': 'agility', 'url': 'https://pokeapi.co/api/v2/move/97/'}, {'name': 'quick-attack', 'url': 'https://pokeapi.co/api/v2/move/98/'}, {'name': 'screech', 'url': 'https://pokeapi.co/api/v2/move/103/'}, {'name': 'double-team', 'url': 'https://pokeapi.co/api/v2/move/104/'}, {'name': 'focus-energy', 'url': 'https://pokeapi.co/api/v2/move/116/'}, {'name': 'metronome', 'url': 'https://pokeapi.co/api/v2/move/118/'}, {'name': 'swift', 'url': 'https://pokeapi.co/api/v2/move/129/'}, {'name': 'rest', 'url': 'https://pokeapi.co/api/v2/move/156/'}, {'name': 'rock-slide', 'url': 'https://pokeapi.co/api/v2/move/157/'}, {'name': 'substitute', 'url': 'https://pokeapi.co/api/v2/move/164/'}, {'name': 'snore', 'url': 'https://pokeapi.co/api/v2/move/173/'}, {'name': 'reversal', 'url': 'https://pokeapi.co/api/v2/move/179/'}, {'name': 'protect', 'url': 'https://pokeapi.co/api/v2/move/182/'}, {'name': 'scary-face', 'url': 'https://pokeapi.co/api/v2/move/184/'}, {'name': 'mud-slap', 'url': 'https://pokeapi.co/api/v2/move/189/'}, {'name': 'foresight', 'url': 'https://pokeapi.co/api/v2/move/193/'}, {'name': 'detect', 'url': 'https://pokeapi.co/api/v2/move/197/'}, {'name': 'bone-rush', 'url': 'https://pokeapi.co/api/v2/move/198/'}, {'name': 'endure', 'url': 'https://pokeapi.co/api/v2/move/203/'}, {'name': 'swagger', 'url': 'https://pokeapi.co/api/v2/move/207/'}, {'name': 'fury-cutter', 'url': 'https://pokeapi.co/api/v2/move/210/'}, {'name': 'attract', 'url': 'https://pokeapi.co/api/v2/move/213/'}, {'name': 'sleep-talk', 'url': 'https://pokeapi.co/api/v2/move/214/'}, {'name': 'return', 'url': 'https://pokeapi.co/api/v2/move/216/'}, {'name': 'frustration', 'url': 'https://pokeapi.co/api/v2/move/218/'}, {'name': 'iron-tail', 'url': 'https://pokeapi.co/api/v2/move/231/'}, {'name': 'metal-claw', 'url': 'https://pokeapi.co/api/v2/move/232/'}, {'name': 'hidden-power', 'url': 'https://pokeapi.co/api/v2/move/237/'}, {'name': 'rain-dance', 'url': 'https://pokeapi.co/api/v2/move/240/'}, {'name': 'sunny-day', 'url': 'https://pokeapi.co/api/v2/move/241/'}, {'name': 'crunch', 'url': 'https://pokeapi.co/api/v2/move/242/'}, {'name': 'extreme-speed', 'url': 'https://pokeapi.co/api/v2/move/245/'}, {'name': 'shadow-ball', 'url': 'https://pokeapi.co/api/v2/move/247/'}, {'name': 'rock-smash', 'url': 'https://pokeapi.co/api/v2/move/249/'}, {'name': 'facade', 'url': 'https://pokeapi.co/api/v2/move/263/'}, {'name': 'focus-punch', 'url': 'https://pokeapi.co/api/v2/move/264/'}, {'name': 'helping-hand', 'url': 'https://pokeapi.co/api/v2/move/270/'}, {'name': 'role-play', 'url': 'https://pokeapi.co/api/v2/move/272/'}, {'name': 'revenge', 'url': 'https://pokeapi.co/api/v2/move/279/'}, {'name': 'brick-break', 'url': 'https://pokeapi.co/api/v2/move/280/'}, {'name': 'secret-power', 'url': 'https://pokeapi.co/api/v2/move/290/'}, {'name': 'blaze-kick', 'url': 'https://pokeapi.co/api/v2/move/299/'}, {'name': 'meteor-mash', 'url': 'https://pokeapi.co/api/v2/move/309/'}, {'name': 'rock-tomb', 'url': 'https://pokeapi.co/api/v2/move/317/'}, {'name': 'metal-sound', 'url': 'https://pokeapi.co/api/v2/move/319/'}, {'name': 'aerial-ace', 'url': 'https://pokeapi.co/api/v2/move/332/'}, {'name': 'iron-defense', 'url': 'https://pokeapi.co/api/v2/move/334/'}, {'name': 'bulk-up', 'url': 'https://pokeapi.co/api/v2/move/339/'}, {'name': 'calm-mind', 'url': 'https://pokeapi.co/api/v2/move/347/'}, {'name': 'water-pulse', 'url': 'https://pokeapi.co/api/v2/move/352/'}, {'name': 'natural-gift', 'url': 'https://pokeapi.co/api/v2/move/363/'}, {'name': 'feint', 'url': 'https://pokeapi.co/api/v2/move/364/'}, {'name': 'close-combat', 'url': 'https://pokeapi.co/api/v2/move/370/'}, {'name': 'payback', 'url': 'https://pokeapi.co/api/v2/move/371/'}, {'name': 'fling', 'url': 'https://pokeapi.co/api/v2/move/374/'}, {'name': 'me-first', 'url': 'https://pokeapi.co/api/v2/move/382/'}, {'name': 'copycat', 'url': 'https://pokeapi.co/api/v2/move/383/'}, {'name': 'magnet-rise', 'url': 'https://pokeapi.co/api/v2/move/393/'}, {'name': 'force-palm', 'url': 'https://pokeapi.co/api/v2/move/395/'}, {'name': 'aura-sphere', 'url': 'https://pokeapi.co/api/v2/move/396/'}, {'name': 'poison-jab', 'url': 'https://pokeapi.co/api/v2/move/398/'}, {'name': 'dark-pulse', 'url': 'https://pokeapi.co/api/v2/move/399/'}, {'name': 'dragon-pulse', 'url': 'https://pokeapi.co/api/v2/move/406/'}, {'name': 'drain-punch', 'url': 'https://pokeapi.co/api/v2/move/409/'}, {'name': 'vacuum-wave', 'url': 'https://pokeapi.co/api/v2/move/410/'}, {'name': 'focus-blast', 'url': 'https://pokeapi.co/api/v2/move/411/'}, {'name': 'giga-impact', 'url': 'https://pokeapi.co/api/v2/move/416/'}, {'name': 'nasty-plot', 'url': 'https://pokeapi.co/api/v2/move/417/'}, {'name': 'shadow-claw', 'url': 'https://pokeapi.co/api/v2/move/421/'}, {'name': 'zen-headbutt', 'url': 'https://pokeapi.co/api/v2/move/428/'}, {'name': 'flash-cannon', 'url': 'https://pokeapi.co/api/v2/move/430/'}, {'name': 'rock-climb', 'url': 'https://pokeapi.co/api/v2/move/431/'}, {'name': 'stone-edge', 'url': 'https://pokeapi.co/api/v2/move/444/'}, {'name': 'captivate', 'url': 'https://pokeapi.co/api/v2/move/445/'}, {'name': 'hone-claws', 'url': 'https://pokeapi.co/api/v2/move/468/'}, {'name': 'low-sweep', 'url': 'https://pokeapi.co/api/v2/move/490/'}, {'name': 'round', 'url': 'https://pokeapi.co/api/v2/move/496/'}, {'name': 'quick-guard', 'url': 'https://pokeapi.co/api/v2/move/501/'}, {'name': 'heal-pulse', 'url': 'https://pokeapi.co/api/v2/move/505/'}, {'name': 'retaliate', 'url': 'https://pokeapi.co/api/v2/move/514/'}, {'name': 'final-gambit', 'url': 'https://pokeapi.co/api/v2/move/515/'}, {'name': 'bulldoze', 'url': 'https://pokeapi.co/api/v2/move/523/'}, {'name': 'work-up', 'url': 'https://pokeapi.co/api/v2/move/526/'}, {'name': 'dual-chop', 'url': 'https://pokeapi.co/api/v2/move/530/'}, {'name': 'confide', 'url': 'https://pokeapi.co/api/v2/move/590/'}, {'name': 'power-up-punch', 'url': 'https://pokeapi.co/api/v2/move/612/'}, {'name': 'laser-focus', 'url': 'https://pokeapi.co/api/v2/move/673/'}, {'name': 'life-dew', 'url': 'https://pokeapi.co/api/v2/move/791/'}, {'name': 'steel-beam', 'url': 'https://pokeapi.co/api/v2/move/796/'}, {'name': 'terrain-pulse', 'url': 'https://pokeapi.co/api/v2/move/805/'}, {'name': 'coaching', 'url': 'https://pokeapi.co/api/v2/move/811/'}, {'name': 'tera-blast', 'url': 'https://pokeapi.co/api/v2/move/851/'}, {'name': 'trailblaze', 'url': 'https://pokeapi.co/api/v2/move/885/'}]}, 'pikachu': {'id': 25, 'name': 'pikachu', 'type1': 'electric', 'type2': None, 'moves': [{'name': 'mega-punch', 'url': 'https://pokeapi.co/api/v2/move/5/'}, {'name': 'pay-day', 'url': 'https://pokeapi.co/api/v2/move/6/'}, {'name': 'thunder-punch', 'url': 'https://pokeapi.co/api/v2/move/9/'}, {'name': 'slam', 'url': 'https://pokeapi.co/api/v2/move/21/'}, {'name': 'double-kick', 'url': 'https://pokeapi.co/api/v2/move/24/'}, {'name': 'mega-kick', 'url': 'https://pokeapi.co/api/v2/move/25/'}, {'name': 'headbutt', 'url': 'https://pokeapi.co/api/v2/move/29/'}, {'name': 'body-slam', 'url': 'https://pokeapi.co/api/v2/move/34/'}, {'name': 'take-down', 'url': 'https://pokeapi.co/api/v2/move/36/'}, {'name': 'double-edge', 'url': 'https://pokeapi.co/api/v2/move/38/'}, {'name': 'tail-whip', 'url': 'https://pokeapi.co/api/v2/move/39/'}, {'name': 'growl', 'url': 'https://pokeapi.co/api/v2/move/45/'}, {'name': 'surf', 'url': 'https://pokeapi.co/api/v2/move/57/'}, {'name': 'submission', 'url': 'https://pokeapi.co/api/v2/move/66/'}, {'name': 'counter', 'url': 'https://pokeapi.co/api/v2/move/68/'}, {'name': 'seismic-toss', 'url': 'https://pokeapi.co/api/v2/move/69/'}, {'name': 'strength', 'url': 'https://pokeapi.co/api/v2/move/70/'}, {'name': 'thunder-shock', 'url': 'https://pokeapi.co/api/v2/move/84/'}, {'name': 'thunderbolt', 'url': 'https://pokeapi.co/api/v2/move/85/'}, {'name': 'thunder-wave', 'url': 'https://pokeapi.co/api/v2/move/86/'}, {'name': 'thunder', 'url': 'https://pokeapi.co/api/v2/move/87/'}, {'name': 'dig', 'url': 'https://pokeapi.co/api/v2/move/91/'}, {'name': 'toxic', 'url': 'https://pokeapi.co/api/v2/move/92/'}, {'name': 'agility', 'url': 'https://pokeapi.co/api/v2/move/97/'}, {'name': 'quick-attack', 'url': 'https://pokeapi.co/api/v2/move/98/'}, {'name': 'rage', 'url': 'https://pokeapi.co/api/v2/move/99/'}, {'name': 'mimic', 'url': 'https://pokeapi.co/api/v2/move/102/'}, {'name': 'double-team', 'url': 'https://pokeapi.co/api/v2/move/104/'}, {'name': 'defense-curl', 'url': 'https://pokeapi.co/api/v2/move/111/'}, {'name': 'light-screen', 'url': 'https://pokeapi.co/api/v2/move/113/'}, {'name': 'reflect', 'url': 'https://pokeapi.co/api/v2/move/115/'}, {'name': 'bide', 'url': 'https://pokeapi.co/api/v2/move/117/'}, {'name': 'swift', 'url': 'https://pokeapi.co/api/v2/move/129/'}, {'name': 'skull-bash', 'url': 'https://pokeapi.co/api/v2/move/130/'}, {'name': 'flash', 'url': 'https://pokeapi.co/api/v2/move/148/'}, {'name': 'rest', 'url': 'https://pokeapi.co/api/v2/move/156/'}, {'name': 'substitute', 'url': 'https://pokeapi.co/api/v2/move/164/'}, {'name': 'thief', 'url': 'https://pokeapi.co/api/v2/move/168/'}, {'name': 'snore', 'url': 'https://pokeapi.co/api/v2/move/173/'}, {'name': 'curse', 'url': 'https://pokeapi.co/api/v2/move/174/'}, {'name': 'reversal', 'url': 'https://pokeapi.co/api/v2/move/179/'}, {'name': 'protect', 'url': 'https://pokeapi.co/api/v2/move/182/'}, {'name': 'sweet-kiss', 'url': 'https://pokeapi.co/api/v2/move/186/'}, {'name': 'mud-slap', 'url': 'https://pokeapi.co/api/v2/move/189/'}, {'name': 'zap-cannon', 'url': 'https://pokeapi.co/api/v2/move/192/'}, {'name': 'detect', 'url': 'https://pokeapi.co/api/v2/move/197/'}, {'name': 'endure', 'url': 'https://pokeapi.co/api/v2/move/203/'}, {'name': 'charm', 'url': 'https://pokeapi.co/api/v2/move/204/'}, {'name': 'rollout', 'url': 'https://pokeapi.co/api/v2/move/205/'}, {'name': 'swagger', 'url': 'https://pokeapi.co/api/v2/move/207/'}, {'name': 'spark', 'url': 'https://pokeapi.co/api/v2/move/209/'}, {'name': 'attract', 'url': 'https://pokeapi.co/api/v2/move/213/'}, {'name': 'sleep-talk', 'url': 'https://pokeapi.co/api/v2/move/214/'}, {'name': 'return', 'url': 'https://pokeapi.co/api/v2/move/216/'}, {'name': 'frustration', 'url': 'https://pokeapi.co/api/v2/move/218/'}, {'name': 'dynamic-punch', 'url': 'https://pokeapi.co/api/v2/move/223/'}, {'name': 'encore', 'url': 'https://pokeapi.co/api/v2/move/227/'}, {'name': 'iron-tail', 'url': 'https://pokeapi.co/api/v2/move/231/'}, {'name': 'hidden-power', 'url': 'https://pokeapi.co/api/v2/move/237/'}, {'name': 'rain-dance', 'url': 'https://pokeapi.co/api/v2/move/240/'}, {'name': 'rock-smash', 'url': 'https://pokeapi.co/api/v2/move/249/'}, {'name': 'uproar', 'url': 'https://pokeapi.co/api/v2/move/253/'}, {'name': 'facade', 'url': 'https://pokeapi.co/api/v2/move/263/'}, {'name': 'focus-punch', 'url': 'https://pokeapi.co/api/v2/move/264/'}, {'name': 'charge', 'url': 'https://pokeapi.co/api/v2/move/268/'}, {'name': 'helping-hand', 'url': 'https://pokeapi.co/api/v2/move/270/'}, {'name': 'brick-break', 'url': 'https://pokeapi.co/api/v2/move/280/'}, {'name': 'knock-off', 'url': 'https://pokeapi.co/api/v2/move/282/'}, {'name': 'secret-power', 'url': 'https://pokeapi.co/api/v2/move/290/'}, {'name': 'fake-tears', 'url': 'https://pokeapi.co/api/v2/move/313/'}, {'name': 'signal-beam', 'url': 'https://pokeapi.co/api/v2/move/324/'}, {'name': 'covet', 'url': 'https://pokeapi.co/api/v2/move/343/'}, {'name': 'volt-tackle', 'url': 'https://pokeapi.co/api/v2/move/344/'}, {'name': 'calm-mind', 'url': 'https://pokeapi.co/api/v2/move/347/'}, {'name': 'shock-wave', 'url': 'https://pokeapi.co/api/v2/move/351/'}, {'name': 'natural-gift', 'url': 'https://pokeapi.co/api/v2/move/363/'}, {'name': 'feint', 'url': 'https://pokeapi.co/api/v2/move/364/'}, {'name': 'fling', 'url': 'https://pokeapi.co/api/v2/move/374/'}, {'name': 'magnet-rise', 'url': 'https://pokeapi.co/api/v2/move/393/'}, {'name': 'nasty-plot', 'url': 'https://pokeapi.co/api/v2/move/417/'}, {'name': 'discharge', 'url': 'https://pokeapi.co/api/v2/move/435/'}, {'name': 'captivate', 'url': 'https://pokeapi.co/api/v2/move/445/'}, {'name': 'grass-knot', 'url': 'https://pokeapi.co/api/v2/move/447/'}, {'name': 'charge-beam', 'url': 'https://pokeapi.co/api/v2/move/451/'}, {'name': 'electro-ball', 'url': 'https://pokeapi.co/api/v2/move/486/'}, {'name': 'round', 'url': 'https://pokeapi.co/api/v2/move/496/'}, {'name': 'echoed-voice', 'url': 'https://pokeapi.co/api/v2/move/497/'}, {'name': 'volt-switch', 'url': 'https://pokeapi.co/api/v2/move/521/'}, {'name': 'electroweb', 'url': 'https://pokeapi.co/api/v2/move/527/'}, {'name': 'wild-charge', 'url': 'https://pokeapi.co/api/v2/move/528/'}, {'name': 'disarming-voice', 'url': 'https://pokeapi.co/api/v2/move/574/'}, {'name': 'draining-kiss', 'url': 'https://pokeapi.co/api/v2/move/577/'}, {'name': 'play-rough', 'url': 'https://pokeapi.co/api/v2/move/583/'}, {'name': 'play-nice', 'url': 'https://pokeapi.co/api/v2/move/589/'}, {'name': 'confide', 'url': 'https://pokeapi.co/api/v2/move/590/'}, {'name': 'eerie-impulse', 'url': 'https://pokeapi.co/api/v2/move/598/'}, {'name': 'electric-terrain', 'url': 'https://pokeapi.co/api/v2/move/604/'}, {'name': 'nuzzle', 'url': 'https://pokeapi.co/api/v2/move/609/'}, {'name': 'laser-focus', 'url': 'https://pokeapi.co/api/v2/move/673/'}, {'name': 'rising-voltage', 'url': 'https://pokeapi.co/api/v2/move/804/'}, {'name': 'tera-blast', 'url': 'https://pokeapi.co/api/v2/move/851/'}, {'name': 'trailblaze', 'url': 'https://pokeapi.co/api/v2/move/885/'}]}, 'gengar': {'id': 94, 'name': 'gengar', 'type1': 'ghost', 'type2': 'poison', 'moves': [{'name': 'mega-punch', 'url': 'https://pokeapi.co/api/v2/move/5/'}, {'name': 'fire-punch', 'url': 'https://pokeapi.co/api/v2/move/7/'}, {'name': 'ice-punch', 'url': 'https://pokeapi.co/api/v2/move/8/'}, {'name': 'thunder-punch', 'url': 'https://pokeapi.co/api/v2/move/9/'}, {'name': 'mega-kick', 'url': 'https://pokeapi.co/api/v2/move/25/'}, {'name': 'headbutt', 'url': 'https://pokeapi.co/api/v2/move/29/'}, {'name': 'body-slam', 'url': 'https://pokeapi.co/api/v2/move/34/'}, {'name': 'take-down', 'url': 'https://pokeapi.co/api/v2/move/36/'}, {'name': 'double-edge', 'url': 'https://pokeapi.co/api/v2/move/38/'}, {'name': 'disable', 'url': 'https://pokeapi.co/api/v2/move/50/'}, {'name': 'hyper-beam', 'url': 'https://pokeapi.co/api/v2/move/63/'}, {'name': 'submission', 'url': 'https://pokeapi.co/api/v2/move/66/'}, {'name': 'counter', 'url': 'https://pokeapi.co/api/v2/move/68/'}, {'name': 'seismic-toss', 'url': 'https://pokeapi.co/api/v2/move/69/'}, {'name': 'strength', 'url': 'https://pokeapi.co/api/v2/move/70/'}, {'name': 'mega-drain', 'url': 'https://pokeapi.co/api/v2/move/72/'}, {'name': 'thunderbolt', 'url': 'https://pokeapi.co/api/v2/move/85/'}, {'name': 'thunder-wave', 'url': 'https://pokeapi.co/api/v2/move/86/'}, {'name': 'thunder', 'url': 'https://pokeapi.co/api/v2/move/87/'}, {'name': 'toxic', 'url': 'https://pokeapi.co/api/v2/move/92/'}, {'name': 'psychic', 'url': 'https://pokeapi.co/api/v2/move/94/'}, {'name': 'hypnosis', 'url': 'https://pokeapi.co/api/v2/move/95/'}, {'name': 'rage', 'url': 'https://pokeapi.co/api/v2/move/99/'}, {'name': 'night-shade', 'url': 'https://pokeapi.co/api/v2/move/101/'}, {'name': 'mimic', 'url': 'https://pokeapi.co/api/v2/move/102/'}, {'name': 'double-team', 'url': 'https://pokeapi.co/api/v2/move/104/'}, {'name': 'confuse-ray', 'url': 'https://pokeapi.co/api/v2/move/109/'}, {'name': 'haze', 'url': 'https://pokeapi.co/api/v2/move/114/'}, {'name': 'bide', 'url': 'https://pokeapi.co/api/v2/move/117/'}, {'name': 'metronome', 'url': 'https://pokeapi.co/api/v2/move/118/'}, {'name': 'self-destruct', 'url': 'https://pokeapi.co/api/v2/move/120/'}, {'name': 'lick', 'url': 'https://pokeapi.co/api/v2/move/122/'}, {'name': 'smog', 'url': 'https://pokeapi.co/api/v2/move/123/'}, {'name': 'skull-bash', 'url': 'https://pokeapi.co/api/v2/move/130/'}, {'name': 'dream-eater', 'url': 'https://pokeapi.co/api/v2/move/138/'}, {'name': 'poison-gas', 'url': 'https://pokeapi.co/api/v2/move/139/'}, {'name': 'psywave', 'url': 'https://pokeapi.co/api/v2/move/149/'}, {'name': 'explosion', 'url': 'https://pokeapi.co/api/v2/move/153/'}, {'name': 'rest', 'url': 'https://pokeapi.co/api/v2/move/156/'}, {'name': 'substitute', 'url': 'https://pokeapi.co/api/v2/move/164/'}, {'name': 'thief', 'url': 'https://pokeapi.co/api/v2/move/168/'}, {'name': 'nightmare', 'url': 'https://pokeapi.co/api/v2/move/171/'}, {'name': 'snore', 'url': 'https://pokeapi.co/api/v2/move/173/'}, {'name': 'curse', 'url': 'https://pokeapi.co/api/v2/move/174/'}, {'name': 'spite', 'url': 'https://pokeapi.co/api/v2/move/180/'}, {'name': 'protect', 'url': 'https://pokeapi.co/api/v2/move/182/'}, {'name': 'scary-face', 'url': 'https://pokeapi.co/api/v2/move/184/'}, {'name': 'sludge-bomb', 'url': 'https://pokeapi.co/api/v2/move/188/'}, {'name': 'zap-cannon', 'url': 'https://pokeapi.co/api/v2/move/192/'}, {'name': 'destiny-bond', 'url': 'https://pokeapi.co/api/v2/move/194/'}, {'name': 'perish-song', 'url': 'https://pokeapi.co/api/v2/move/195/'}, {'name': 'icy-wind', 'url': 'https://pokeapi.co/api/v2/move/196/'}, {'name': 'giga-drain', 'url': 'https://pokeapi.co/api/v2/move/202/'}, {'name': 'endure', 'url': 'https://pokeapi.co/api/v2/move/203/'}, {'name': 'swagger', 'url': 'https://pokeapi.co/api/v2/move/207/'}, {'name': 'mean-look', 'url': 'https://pokeapi.co/api/v2/move/212/'}, {'name': 'attract', 'url': 'https://pokeapi.co/api/v2/move/213/'}, {'name': 'sleep-talk', 'url': 'https://pokeapi.co/api/v2/move/214/'}, {'name': 'return', 'url': 'https://pokeapi.co/api/v2/move/216/'}, {'name': 'frustration', 'url': 'https://pokeapi.co/api/v2/move/218/'}, {'name': 'pain-split', 'url': 'https://pokeapi.co/api/v2/move/220/'}, {'name': 'dynamic-punch', 'url': 'https://pokeapi.co/api/v2/move/223/'}, {'name': 'encore', 'url': 'https://pokeapi.co/api/v2/move/227/'}, {'name': 'hidden-power', 'url': 'https://pokeapi.co/api/v2/move/237/'}, {'name': 'rain-dance', 'url': 'https://pokeapi.co/api/v2/move/240/'}, {'name': 'sunny-day', 'url': 'https://pokeapi.co/api/v2/move/241/'}, {'name': 'psych-up', 'url': 'https://pokeapi.co/api/v2/move/244/'}, {'name': 'shadow-ball', 'url': 'https://pokeapi.co/api/v2/move/247/'}, {'name': 'rock-smash', 'url': 'https://pokeapi.co/api/v2/move/249/'}, {'name': 'uproar', 'url': 'https://pokeapi.co/api/v2/move/253/'}, {'name': 'torment', 'url': 'https://pokeapi.co/api/v2/move/259/'}, {'name': 'will-o-wisp', 'url': 'https://pokeapi.co/api/v2/move/261/'}, {'name': 'facade', 'url': 'https://pokeapi.co/api/v2/move/263/'}, {'name': 'focus-punch', 'url': 'https://pokeapi.co/api/v2/move/264/'}, {'name': 'taunt', 'url': 'https://pokeapi.co/api/v2/move/269/'}, {'name': 'trick', 'url': 'https://pokeapi.co/api/v2/move/271/'}, {'name': 'role-play', 'url': 'https://pokeapi.co/api/v2/move/272/'}, {'name': 'brick-break', 'url': 'https://pokeapi.co/api/v2/move/280/'}, {'name': 'knock-off', 'url': 'https://pokeapi.co/api/v2/move/282/'}, {'name': 'skill-swap', 'url': 'https://pokeapi.co/api/v2/move/285/'}, {'name': 'imprison', 'url': 'https://pokeapi.co/api/v2/move/286/'}, {'name': 'snatch', 'url': 'https://pokeapi.co/api/v2/move/289/'}, {'name': 'secret-power', 'url': 'https://pokeapi.co/api/v2/move/290/'}, {'name': 'shadow-punch', 'url': 'https://pokeapi.co/api/v2/move/325/'}, {'name': 'natural-gift', 'url': 'https://pokeapi.co/api/v2/move/363/'}, {'name': 'payback', 'url': 'https://pokeapi.co/api/v2/move/371/'}, {'name': 'embargo', 'url': 'https://pokeapi.co/api/v2/move/373/'}, {'name': 'fling', 'url': 'https://pokeapi.co/api/v2/move/374/'}, {'name': 'sucker-punch', 'url': 'https://pokeapi.co/api/v2/move/389/'}, {'name': 'toxic-spikes', 'url': 'https://pokeapi.co/api/v2/move/390/'}, {'name': 'poison-jab', 'url': 'https://pokeapi.co/api/v2/move/398/'}, {'name': 'dark-pulse', 'url': 'https://pokeapi.co/api/v2/move/399/'}, {'name': 'drain-punch', 'url': 'https://pokeapi.co/api/v2/move/409/'}, {'name': 'focus-blast', 'url': 'https://pokeapi.co/api/v2/move/411/'}, {'name': 'energy-ball', 'url': 'https://pokeapi.co/api/v2/move/412/'}, {'name': 'giga-impact', 'url': 'https://pokeapi.co/api/v2/move/416/'}, {'name': 'nasty-plot', 'url': 'https://pokeapi.co/api/v2/move/417/'}, {'name': 'shadow-claw', 'url': 'https://pokeapi.co/api/v2/move/421/'}, {'name': 'trick-room', 'url': 'https://pokeapi.co/api/v2/move/433/'}, {'name': 'gunk-shot', 'url': 'https://pokeapi.co/api/v2/move/441/'}, {'name': 'captivate', 'url': 'https://pokeapi.co/api/v2/move/445/'}, {'name': 'ominous-wind', 'url': 'https://pokeapi.co/api/v2/move/466/'}, {'name': 'wonder-room', 'url': 'https://pokeapi.co/api/v2/move/472/'}, {'name': 'venoshock', 'url': 'https://pokeapi.co/api/v2/move/474/'}, {'name': 'telekinesis', 'url': 'https://pokeapi.co/api/v2/move/477/'}, {'name': 'sludge-wave', 'url': 'https://pokeapi.co/api/v2/move/482/'}, {'name': 'acid-spray', 'url': 'https://pokeapi.co/api/v2/move/491/'}, {'name': 'foul-play', 'url': 'https://pokeapi.co/api/v2/move/492/'}, {'name': 'round', 'url': 'https://pokeapi.co/api/v2/move/496/'}, {'name': 'ally-switch', 'url': 'https://pokeapi.co/api/v2/move/502/'}, {'name': 'hex', 'url': 'https://pokeapi.co/api/v2/move/506/'}, {'name': 'reflect-type', 'url': 'https://pokeapi.co/api/v2/move/513/'}, {'name': 'phantom-force', 'url': 'https://pokeapi.co/api/v2/move/566/'}, {'name': 'confide', 'url': 'https://pokeapi.co/api/v2/move/590/'}, {'name': 'dazzling-gleam', 'url': 'https://pokeapi.co/api/v2/move/605/'}, {'name': 'infestation', 'url': 'https://pokeapi.co/api/v2/move/611/'}, {'name': 'power-up-punch', 'url': 'https://pokeapi.co/api/v2/move/612/'}, {'name': 'laser-focus', 'url': 'https://pokeapi.co/api/v2/move/673/'}, {'name': 'skitter-smack', 'url': 'https://pokeapi.co/api/v2/move/806/'}, {'name': 'poltergeist', 'url': 'https://pokeapi.co/api/v2/move/809/'}, {'name': 'corrosive-gas', 'url': 'https://pokeapi.co/api/v2/move/810/'}, {'name': 'tera-blast', 'url': 'https://pokeapi.co/api/v2/move/851/'}]}, 'charizard': {'id': 6, 'name': 'charizard', 'type1': 'fire', 'type2': 'flying', 'moves': [{'name': 'mega-punch', 'url': 'https://pokeapi.co/api/v2/move/5/'}, {'name': 'fire-punch', 'url': 'https://pokeapi.co/api/v2/move/7/'}, {'name': 'thunder-punch', 'url': 'https://pokeapi.co/api/v2/move/9/'}, {'name': 'scratch', 'url': 'https://pokeapi.co/api/v2/move/10/'}, {'name': 'swords-dance', 'url': 'https://pokeapi.co/api/v2/move/14/'}, {'name': 'cut', 'url': 'https://pokeapi.co/api/v2/move/15/'}, {'name': 'wing-attack', 'url': 'https://pokeapi.co/api/v2/move/17/'}, {'name': 'fly', 'url': 'https://pokeapi.co/api/v2/move/19/'}, {'name': 'mega-kick', 'url': 'https://pokeapi.co/api/v2/move/25/'}, {'name': 'headbutt', 'url': 'https://pokeapi.co/api/v2/move/29/'}, {'name': 'body-slam', 'url': 'https://pokeapi.co/api/v2/move/34/'}, {'name': 'take-down', 'url': 'https://pokeapi.co/api/v2/move/36/'}, {'name': 'double-edge', 'url': 'https://pokeapi.co/api/v2/move/38/'}, {'name': 'leer', 'url': 'https://pokeapi.co/api/v2/move/43/'}, {'name': 'growl', 'url': 'https://pokeapi.co/api/v2/move/45/'}, {'name': 'roar', 'url': 'https://pokeapi.co/api/v2/move/46/'}, {'name': 'ember', 'url': 'https://pokeapi.co/api/v2/move/52/'}, {'name': 'flamethrower', 'url': 'https://pokeapi.co/api/v2/move/53/'}, {'name': 'hyper-beam', 'url': 'https://pokeapi.co/api/v2/move/63/'}, {'name': 'submission', 'url': 'https://pokeapi.co/api/v2/move/66/'}, {'name': 'counter', 'url': 'https://pokeapi.co/api/v2/move/68/'}, {'name': 'seismic-toss', 'url': 'https://pokeapi.co/api/v2/move/69/'}, {'name': 'strength', 'url': 'https://pokeapi.co/api/v2/move/70/'}, {'name': 'solar-beam', 'url': 'https://pokeapi.co/api/v2/move/76/'}, {'name': 'dragon-rage', 'url': 'https://pokeapi.co/api/v2/move/82/'}, {'name': 'fire-spin', 'url': 'https://pokeapi.co/api/v2/move/83/'}, {'name': 'earthquake', 'url': 'https://pokeapi.co/api/v2/move/89/'}, {'name': 'fissure', 'url': 'https://pokeapi.co/api/v2/move/90/'}, {'name': 'dig', 'url': 'https://pokeapi.co/api/v2/move/91/'}, {'name': 'toxic', 'url': 'https://pokeapi.co/api/v2/move/92/'}, {'name': 'rage', 'url': 'https://pokeapi.co/api/v2/move/99/'}, {'name': 'mimic', 'url': 'https://pokeapi.co/api/v2/move/102/'}, {'name': 'double-team', 'url': 'https://pokeapi.co/api/v2/move/104/'}, {'name': 'smokescreen', 'url': 'https://pokeapi.co/api/v2/move/108/'}, {'name': 'defense-curl', 'url': 'https://pokeapi.co/api/v2/move/111/'}, {'name': 'reflect', 'url': 'https://pokeapi.co/api/v2/move/115/'}, {'name': 'bide', 'url': 'https://pokeapi.co/api/v2/move/117/'}, {'name': 'fire-blast', 'url': 'https://pokeapi.co/api/v2/move/126/'}, {'name': 'swift', 'url': 'https://pokeapi.co/api/v2/move/129/'}, {'name': 'skull-bash', 'url': 'https://pokeapi.co/api/v2/move/130/'}, {'name': 'fury-swipes', 'url': 'https://pokeapi.co/api/v2/move/154/'}, {'name': 'rest', 'url': 'https://pokeapi.co/api/v2/move/156/'}, {'name': 'rock-slide', 'url': 'https://pokeapi.co/api/v2/move/157/'}, {'name': 'slash', 'url': 'https://pokeapi.co/api/v2/move/163/'}, {'name': 'substitute', 'url': 'https://pokeapi.co/api/v2/move/164/'}, {'name': 'snore', 'url': 'https://pokeapi.co/api/v2/move/173/'}, {'name': 'curse', 'url': 'https://pokeapi.co/api/v2/move/174/'}, {'name': 'protect', 'url': 'https://pokeapi.co/api/v2/move/182/'}, {'name': 'scary-face', 'url': 'https://pokeapi.co/api/v2/move/184/'}, {'name': 'mud-slap', 'url': 'https://pokeapi.co/api/v2/move/189/'}, {'name': 'outrage', 'url': 'https://pokeapi.co/api/v2/move/200/'}, {'name': 'sandstorm', 'url': 'https://pokeapi.co/api/v2/move/201/'}, {'name': 'endure', 'url': 'https://pokeapi.co/api/v2/move/203/'}, {'name': 'false-swipe', 'url': 'https://pokeapi.co/api/v2/move/206/'}, {'name': 'swagger', 'url': 'https://pokeapi.co/api/v2/move/207/'}, {'name': 'fury-cutter', 'url': 'https://pokeapi.co/api/v2/move/210/'}, {'name': 'steel-wing', 'url': 'https://pokeapi.co/api/v2/move/211/'}, {'name': 'attract', 'url': 'https://pokeapi.co/api/v2/move/213/'}, {'name': 'sleep-talk', 'url': 'https://pokeapi.co/api/v2/move/214/'}, {'name': 'return', 'url': 'https://pokeapi.co/api/v2/move/216/'}, {'name': 'frustration', 'url': 'https://pokeapi.co/api/v2/move/218/'}, {'name': 'dynamic-punch', 'url': 'https://pokeapi.co/api/v2/move/223/'}, {'name': 'dragon-breath', 'url': 'https://pokeapi.co/api/v2/move/225/'}, {'name': 'iron-tail', 'url': 'https://pokeapi.co/api/v2/move/231/'}, {'name': 'metal-claw', 'url': 'https://pokeapi.co/api/v2/move/232/'}, {'name': 'hidden-power', 'url': 'https://pokeapi.co/api/v2/move/237/'}, {'name': 'twister', 'url': 'https://pokeapi.co/api/v2/move/239/'}, {'name': 'sunny-day', 'url': 'https://pokeapi.co/api/v2/move/241/'}, {'name': 'crunch', 'url': 'https://pokeapi.co/api/v2/move/242/'}, {'name': 'rock-smash', 'url': 'https://pokeapi.co/api/v2/move/249/'}, {'name': 'beat-up', 'url': 'https://pokeapi.co/api/v2/move/251/'}, {'name': 'heat-wave', 'url': 'https://pokeapi.co/api/v2/move/257/'}, {'name': 'will-o-wisp', 'url': 'https://pokeapi.co/api/v2/move/261/'}, {'name': 'facade', 'url': 'https://pokeapi.co/api/v2/move/263/'}, {'name': 'focus-punch', 'url': 'https://pokeapi.co/api/v2/move/264/'}, {'name': 'helping-hand', 'url': 'https://pokeapi.co/api/v2/move/270/'}, {'name': 'brick-break', 'url': 'https://pokeapi.co/api/v2/move/280/'}, {'name': 'secret-power', 'url': 'https://pokeapi.co/api/v2/move/290/'}, {'name': 'blaze-kick', 'url': 'https://pokeapi.co/api/v2/move/299/'}, {'name': 'blast-burn', 'url': 'https://pokeapi.co/api/v2/move/307/'}, {'name': 'weather-ball', 'url': 'https://pokeapi.co/api/v2/move/311/'}, {'name': 'air-cutter', 'url': 'https://pokeapi.co/api/v2/move/314/'}, {'name': 'overheat', 'url': 'https://pokeapi.co/api/v2/move/315/'}, {'name': 'rock-tomb', 'url': 'https://pokeapi.co/api/v2/move/317/'}, {'name': 'aerial-ace', 'url': 'https://pokeapi.co/api/v2/move/332/'}, {'name': 'dragon-claw', 'url': 'https://pokeapi.co/api/v2/move/337/'}, {'name': 'dragon-dance', 'url': 'https://pokeapi.co/api/v2/move/349/'}, {'name': 'roost', 'url': 'https://pokeapi.co/api/v2/move/355/'}, {'name': 'natural-gift', 'url': 'https://pokeapi.co/api/v2/move/363/'}, {'name': 'tailwind', 'url': 'https://pokeapi.co/api/v2/move/366/'}, {'name': 'fling', 'url': 'https://pokeapi.co/api/v2/move/374/'}, {'name': 'flare-blitz', 'url': 'https://pokeapi.co/api/v2/move/394/'}, {'name': 'air-slash', 'url': 'https://pokeapi.co/api/v2/move/403/'}, {'name': 'dragon-pulse', 'url': 'https://pokeapi.co/api/v2/move/406/'}, {'name': 'focus-blast', 'url': 'https://pokeapi.co/api/v2/move/411/'}, {'name': 'giga-impact', 'url': 'https://pokeapi.co/api/v2/move/416/'}, {'name': 'shadow-claw', 'url': 'https://pokeapi.co/api/v2/move/421/'}, {'name': 'fire-fang', 'url': 'https://pokeapi.co/api/v2/move/424/'}, {'name': 'defog', 'url': 'https://pokeapi.co/api/v2/move/432/'}, {'name': 'captivate', 'url': 'https://pokeapi.co/api/v2/move/445/'}, {'name': 'ominous-wind', 'url': 'https://pokeapi.co/api/v2/move/466/'}, {'name': 'hone-claws', 'url': 'https://pokeapi.co/api/v2/move/468/'}, {'name': 'flame-burst', 'url': 'https://pokeapi.co/api/v2/move/481/'}, {'name': 'flame-charge', 'url': 'https://pokeapi.co/api/v2/move/488/'}, {'name': 'round', 'url': 'https://pokeapi.co/api/v2/move/496/'}, {'name': 'echoed-voice', 'url': 'https://pokeapi.co/api/v2/move/497/'}, {'name': 'sky-drop', 'url': 'https://pokeapi.co/api/v2/move/507/'}, {'name': 'incinerate', 'url': 'https://pokeapi.co/api/v2/move/510/'}, {'name': 'acrobatics', 'url': 'https://pokeapi.co/api/v2/move/512/'}, {'name': 'inferno', 'url': 'https://pokeapi.co/api/v2/move/517/'}, {'name': 'fire-pledge', 'url': 'https://pokeapi.co/api/v2/move/519/'}, {'name': 'bulldoze', 'url': 'https://pokeapi.co/api/v2/move/523/'}, {'name': 'dragon-tail', 'url': 'https://pokeapi.co/api/v2/move/525/'}, {'name': 'work-up', 'url': 'https://pokeapi.co/api/v2/move/526/'}, {'name': 'heat-crash', 'url': 'https://pokeapi.co/api/v2/move/535/'}, {'name': 'hurricane', 'url': 'https://pokeapi.co/api/v2/move/542/'}, {'name': 'confide', 'url': 'https://pokeapi.co/api/v2/move/590/'}, {'name': 'mystical-fire', 'url': 'https://pokeapi.co/api/v2/move/595/'}, {'name': 'power-up-punch', 'url': 'https://pokeapi.co/api/v2/move/612/'}, {'name': 'brutal-swing', 'url': 'https://pokeapi.co/api/v2/move/693/'}, {'name': 'breaking-swipe', 'url': 'https://pokeapi.co/api/v2/move/784/'}, {'name': 'scale-shot', 'url': 'https://pokeapi.co/api/v2/move/799/'}, {'name': 'dual-wingbeat', 'url': 'https://pokeapi.co/api/v2/move/814/'}, {'name': 'scorching-sands', 'url': 'https://pokeapi.co/api/v2/move/815/'}, {'name': 'tera-blast', 'url': 'https://pokeapi.co/api/v2/move/851/'}]}, 'blastoise': {'id': 9, 'name': 'blastoise', 'type1': 'water', 'type2': None, 'moves': [{'name': 'mega-punch', 'url': 'https://pokeapi.co/api/v2/move/5/'}, {'name': 'ice-punch', 'url': 'https://pokeapi.co/api/v2/move/8/'}, {'name': 'mega-kick', 'url': 'https://pokeapi.co/api/v2/move/25/'}, {'name': 'headbutt', 'url': 'https://pokeapi.co/api/v2/move/29/'}, {'name': 'tackle', 'url': 'https://pokeapi.co/api/v2/move/33/'}, {'name': 'body-slam', 'url': 'https://pokeapi.co/api/v2/move/34/'}, {'name': 'take-down', 'url': 'https://pokeapi.co/api/v2/move/36/'}, {'name': 'double-edge', 'url': 'https://pokeapi.co/api/v2/move/38/'}, {'name': 'tail-whip', 'url': 'https://pokeapi.co/api/v2/move/39/'}, {'name': 'bite', 'url': 'https://pokeapi.co/api/v2/move/44/'}, {'name': 'roar', 'url': 'https://pokeapi.co/api/v2/move/46/'}, {'name': 'water-gun', 'url': 'https://pokeapi.co/api/v2/move/55/'}, {'name': 'hydro-pump', 'url': 'https://pokeapi.co/api/v2/move/56/'}, {'name': 'surf', 'url': 'https://pokeapi.co/api/v2/move/57/'}, {'name': 'ice-beam', 'url': 'https://pokeapi.co/api/v2/move/58/'}, {'name': 'blizzard', 'url': 'https://pokeapi.co/api/v2/move/59/'}, {'name': 'bubble-beam', 'url': 'https://pokeapi.co/api/v2/move/61/'}, {'name': 'hyper-beam', 'url': 'https://pokeapi.co/api/v2/move/63/'}, {'name': 'submission', 'url': 'https://pokeapi.co/api/v2/move/66/'}, {'name': 'counter', 'url': 'https://pokeapi.co/api/v2/move/68/'}, {'name': 'seismic-toss', 'url': 'https://pokeapi.co/api/v2/move/69/'}, {'name': 'strength', 'url': 'https://pokeapi.co/api/v2/move/70/'}, {'name': 'earthquake', 'url': 'https://pokeapi.co/api/v2/move/89/'}, {'name': 'fissure', 'url': 'https://pokeapi.co/api/v2/move/90/'}, {'name': 'dig', 'url': 'https://pokeapi.co/api/v2/move/91/'}, {'name': 'toxic', 'url': 'https://pokeapi.co/api/v2/move/92/'}, {'name': 'rage', 'url': 'https://pokeapi.co/api/v2/move/99/'}, {'name': 'mimic', 'url': 'https://pokeapi.co/api/v2/move/102/'}, {'name': 'double-team', 'url': 'https://pokeapi.co/api/v2/move/104/'}, {'name': 'withdraw', 'url': 'https://pokeapi.co/api/v2/move/110/'}, {'name': 'defense-curl', 'url': 'https://pokeapi.co/api/v2/move/111/'}, {'name': 'reflect', 'url': 'https://pokeapi.co/api/v2/move/115/'}, {'name': 'bide', 'url': 'https://pokeapi.co/api/v2/move/117/'}, {'name': 'waterfall', 'url': 'https://pokeapi.co/api/v2/move/127/'}, {'name': 'skull-bash', 'url': 'https://pokeapi.co/api/v2/move/130/'}, {'name': 'bubble', 'url': 'https://pokeapi.co/api/v2/move/145/'}, {'name': 'rest', 'url': 'https://pokeapi.co/api/v2/move/156/'}, {'name': 'rock-slide', 'url': 'https://pokeapi.co/api/v2/move/157/'}, {'name': 'substitute', 'url': 'https://pokeapi.co/api/v2/move/164/'}, {'name': 'snore', 'url': 'https://pokeapi.co/api/v2/move/173/'}, {'name': 'curse', 'url': 'https://pokeapi.co/api/v2/move/174/'}, {'name': 'protect', 'url': 'https://pokeapi.co/api/v2/move/182/'}, {'name': 'mud-slap', 'url': 'https://pokeapi.co/api/v2/move/189/'}, {'name': 'icy-wind', 'url': 'https://pokeapi.co/api/v2/move/196/'}, {'name': 'outrage', 'url': 'https://pokeapi.co/api/v2/move/200/'}, {'name': 'endure', 'url': 'https://pokeapi.co/api/v2/move/203/'}, {'name': 'rollout', 'url': 'https://pokeapi.co/api/v2/move/205/'}, {'name': 'false-swipe', 'url': 'https://pokeapi.co/api/v2/move/206/'}, {'name': 'swagger', 'url': 'https://pokeapi.co/api/v2/move/207/'}, {'name': 'attract', 'url': 'https://pokeapi.co/api/v2/move/213/'}, {'name': 'sleep-talk', 'url': 'https://pokeapi.co/api/v2/move/214/'}, {'name': 'return', 'url': 'https://pokeapi.co/api/v2/move/216/'}, {'name': 'frustration', 'url': 'https://pokeapi.co/api/v2/move/218/'}, {'name': 'dynamic-punch', 'url': 'https://pokeapi.co/api/v2/move/223/'}, {'name': 'rapid-spin', 'url': 'https://pokeapi.co/api/v2/move/229/'}, {'name': 'iron-tail', 'url': 'https://pokeapi.co/api/v2/move/231/'}, {'name': 'hidden-power', 'url': 'https://pokeapi.co/api/v2/move/237/'}, {'name': 'rain-dance', 'url': 'https://pokeapi.co/api/v2/move/240/'}, {'name': 'crunch', 'url': 'https://pokeapi.co/api/v2/move/242/'}, {'name': 'rock-smash', 'url': 'https://pokeapi.co/api/v2/move/249/'}, {'name': 'whirlpool', 'url': 'https://pokeapi.co/api/v2/move/250/'}, {'name': 'fake-out', 'url': 'https://pokeapi.co/api/v2/move/252/'}, {'name': 'hail', 'url': 'https://pokeapi.co/api/v2/move/258/'}, {'name': 'facade', 'url': 'https://pokeapi.co/api/v2/move/263/'}, {'name': 'focus-punch', 'url': 'https://pokeapi.co/api/v2/move/264/'}, {'name': 'helping-hand', 'url': 'https://pokeapi.co/api/v2/move/270/'}, {'name': 'brick-break', 'url': 'https://pokeapi.co/api/v2/move/280/'}, {'name': 'secret-power', 'url': 'https://pokeapi.co/api/v2/move/290/'}, {'name': 'dive', 'url': 'https://pokeapi.co/api/v2/move/291/'}, {'name': 'hydro-cannon', 'url': 'https://pokeapi.co/api/v2/move/308/'}, {'name': 'weather-ball', 'url': 'https://pokeapi.co/api/v2/move/311/'}, {'name': 'rock-tomb', 'url': 'https://pokeapi.co/api/v2/move/317/'}, {'name': 'signal-beam', 'url': 'https://pokeapi.co/api/v2/move/324/'}, {'name': 'muddy-water', 'url': 'https://pokeapi.co/api/v2/move/330/'}, {'name': 'iron-defense', 'url': 'https://pokeapi.co/api/v2/move/334/'}, {'name': 'water-pulse', 'url': 'https://pokeapi.co/api/v2/move/352/'}, {'name': 'gyro-ball', 'url': 'https://pokeapi.co/api/v2/move/360/'}, {'name': 'brine', 'url': 'https://pokeapi.co/api/v2/move/362/'}, {'name': 'natural-gift', 'url': 'https://pokeapi.co/api/v2/move/363/'}, {'name': 'fling', 'url': 'https://pokeapi.co/api/v2/move/374/'}, {'name': 'aura-sphere', 'url': 'https://pokeapi.co/api/v2/move/396/'}, {'name': 'dark-pulse', 'url': 'https://pokeapi.co/api/v2/move/399/'}, {'name': 'aqua-tail', 'url': 'https://pokeapi.co/api/v2/move/401/'}, {'name': 'dragon-pulse', 'url': 'https://pokeapi.co/api/v2/move/406/'}, {'name': 'focus-blast', 'url': 'https://pokeapi.co/api/v2/move/411/'}, {'name': 'giga-impact', 'url': 'https://pokeapi.co/api/v2/move/416/'}, {'name': 'avalanche', 'url': 'https://pokeapi.co/api/v2/move/419/'}, {'name': 'zen-headbutt', 'url': 'https://pokeapi.co/api/v2/move/428/'}, {'name': 'flash-cannon', 'url': 'https://pokeapi.co/api/v2/move/430/'}, {'name': 'rock-climb', 'url': 'https://pokeapi.co/api/v2/move/431/'}, {'name': 'captivate', 'url': 'https://pokeapi.co/api/v2/move/445/'}, {'name': 'aqua-jet', 'url': 'https://pokeapi.co/api/v2/move/453/'}, {'name': 'smack-down', 'url': 'https://pokeapi.co/api/v2/move/479/'}, {'name': 'round', 'url': 'https://pokeapi.co/api/v2/move/496/'}, {'name': 'scald', 'url': 'https://pokeapi.co/api/v2/move/503/'}, {'name': 'shell-smash', 'url': 'https://pokeapi.co/api/v2/move/504/'}, {'name': 'water-pledge', 'url': 'https://pokeapi.co/api/v2/move/518/'}, {'name': 'bulldoze', 'url': 'https://pokeapi.co/api/v2/move/523/'}, {'name': 'dragon-tail', 'url': 'https://pokeapi.co/api/v2/move/525/'}, {'name': 'work-up', 'url': 'https://pokeapi.co/api/v2/move/526/'}, {'name': 'confide', 'url': 'https://pokeapi.co/api/v2/move/590/'}, {'name': 'power-up-punch', 'url': 'https://pokeapi.co/api/v2/move/612/'}, {'name': 'liquidation', 'url': 'https://pokeapi.co/api/v2/move/710/'}, {'name': 'body-press', 'url': 'https://pokeapi.co/api/v2/move/776/'}, {'name': 'terrain-pulse', 'url': 'https://pokeapi.co/api/v2/move/805/'}, {'name': 'flip-turn', 'url': 'https://pokeapi.co/api/v2/move/812/'}]}, 'venusaur': {'id': 3, 'name': 'venusaur', 'type1': 'grass', 'type2': 'poison', 'moves': [{'name': 'swords-dance', 'url': 'https://pokeapi.co/api/v2/move/14/'}, {'name': 'cut', 'url': 'https://pokeapi.co/api/v2/move/15/'}, {'name': 'bind', 'url': 'https://pokeapi.co/api/v2/move/20/'}, {'name': 'vine-whip', 'url': 'https://pokeapi.co/api/v2/move/22/'}, {'name': 'headbutt', 'url': 'https://pokeapi.co/api/v2/move/29/'}, {'name': 'tackle', 'url': 'https://pokeapi.co/api/v2/move/33/'}, {'name': 'body-slam', 'url': 'https://pokeapi.co/api/v2/move/34/'}, {'name': 'take-down', 'url': 'https://pokeapi.co/api/v2/move/36/'}, {'name': 'double-edge', 'url': 'https://pokeapi.co/api/v2/move/38/'}, {'name': 'growl', 'url': 'https://pokeapi.co/api/v2/move/45/'}, {'name': 'roar', 'url': 'https://pokeapi.co/api/v2/move/46/'}, {'name': 'hyper-beam', 'url': 'https://pokeapi.co/api/v2/move/63/'}, {'name': 'strength', 'url': 'https://pokeapi.co/api/v2/move/70/'}, {'name': 'mega-drain', 'url': 'https://pokeapi.co/api/v2/move/72/'}, {'name': 'leech-seed', 'url': 'https://pokeapi.co/api/v2/move/73/'}, {'name': 'growth', 'url': 'https://pokeapi.co/api/v2/move/74/'}, {'name': 'razor-leaf', 'url': 'https://pokeapi.co/api/v2/move/75/'}, {'name': 'solar-beam', 'url': 'https://pokeapi.co/api/v2/move/76/'}, {'name': 'poison-powder', 'url': 'https://pokeapi.co/api/v2/move/77/'}, {'name': 'sleep-powder', 'url': 'https://pokeapi.co/api/v2/move/79/'}, {'name': 'petal-dance', 'url': 'https://pokeapi.co/api/v2/move/80/'}, {'name': 'string-shot', 'url': 'https://pokeapi.co/api/v2/move/81/'}, {'name': 'earthquake', 'url': 'https://pokeapi.co/api/v2/move/89/'}, {'name': 'toxic', 'url': 'https://pokeapi.co/api/v2/move/92/'}, {'name': 'rage', 'url': 'https://pokeapi.co/api/v2/move/99/'}, {'name': 'mimic', 'url': 'https://pokeapi.co/api/v2/move/102/'}, {'name': 'double-team', 'url': 'https://pokeapi.co/api/v2/move/104/'}, {'name': 'defense-curl', 'url': 'https://pokeapi.co/api/v2/move/111/'}, {'name': 'light-screen', 'url': 'https://pokeapi.co/api/v2/move/113/'}, {'name': 'reflect', 'url': 'https://pokeapi.co/api/v2/move/115/'}, {'name': 'bide', 'url': 'https://pokeapi.co/api/v2/move/117/'}, {'name': 'amnesia', 'url': 'https://pokeapi.co/api/v2/move/133/'}, {'name': 'flash', 'url': 'https://pokeapi.co/api/v2/move/148/'}, {'name': 'rest', 'url': 'https://pokeapi.co/api/v2/move/156/'}, {'name': 'substitute', 'url': 'https://pokeapi.co/api/v2/move/164/'}, {'name': 'snore', 'url': 'https://pokeapi.co/api/v2/move/173/'}, {'name': 'curse', 'url': 'https://pokeapi.co/api/v2/move/174/'}, {'name': 'protect', 'url': 'https://pokeapi.co/api/v2/move/182/'}, {'name': 'sludge-bomb', 'url': 'https://pokeapi.co/api/v2/move/188/'}, {'name': 'mud-slap', 'url': 'https://pokeapi.co/api/v2/move/189/'}, {'name': 'outrage', 'url': 'https://pokeapi.co/api/v2/move/200/'}, {'name': 'giga-drain', 'url': 'https://pokeapi.co/api/v2/move/202/'}, {'name': 'endure', 'url': 'https://pokeapi.co/api/v2/move/203/'}, {'name': 'charm', 'url': 'https://pokeapi.co/api/v2/move/204/'}, {'name': 'false-swipe', 'url': 'https://pokeapi.co/api/v2/move/206/'}, {'name': 'swagger', 'url': 'https://pokeapi.co/api/v2/move/207/'}, {'name': 'fury-cutter', 'url': 'https://pokeapi.co/api/v2/move/210/'}, {'name': 'attract', 'url': 'https://pokeapi.co/api/v2/move/213/'}, {'name': 'sleep-talk', 'url': 'https://pokeapi.co/api/v2/move/214/'}, {'name': 'return', 'url': 'https://pokeapi.co/api/v2/move/216/'}, {'name': 'frustration', 'url': 'https://pokeapi.co/api/v2/move/218/'}, {'name': 'safeguard', 'url': 'https://pokeapi.co/api/v2/move/219/'}, {'name': 'sweet-scent', 'url': 'https://pokeapi.co/api/v2/move/230/'}, {'name': 'synthesis', 'url': 'https://pokeapi.co/api/v2/move/235/'}, {'name': 'hidden-power', 'url': 'https://pokeapi.co/api/v2/move/237/'}, {'name': 'sunny-day', 'url': 'https://pokeapi.co/api/v2/move/241/'}, {'name': 'rock-smash', 'url': 'https://pokeapi.co/api/v2/move/249/'}, {'name': 'facade', 'url': 'https://pokeapi.co/api/v2/move/263/'}, {'name': 'nature-power', 'url': 'https://pokeapi.co/api/v2/move/267/'}, {'name': 'helping-hand', 'url': 'https://pokeapi.co/api/v2/move/270/'}, {'name': 'knock-off', 'url': 'https://pokeapi.co/api/v2/move/282/'}, {'name': 'secret-power', 'url': 'https://pokeapi.co/api/v2/move/290/'}, {'name': 'weather-ball', 'url': 'https://pokeapi.co/api/v2/move/311/'}, {'name': 'bullet-seed', 'url': 'https://pokeapi.co/api/v2/move/331/'}, {'name': 'block', 'url': 'https://pokeapi.co/api/v2/move/335/'}, {'name': 'frenzy-plant', 'url': 'https://pokeapi.co/api/v2/move/338/'}, {'name': 'magical-leaf', 'url': 'https://pokeapi.co/api/v2/move/345/'}, {'name': 'natural-gift', 'url': 'https://pokeapi.co/api/v2/move/363/'}, {'name': 'worry-seed', 'url': 'https://pokeapi.co/api/v2/move/388/'}, {'name': 'seed-bomb', 'url': 'https://pokeapi.co/api/v2/move/402/'}, {'name': 'energy-ball', 'url': 'https://pokeapi.co/api/v2/move/412/'}, {'name': 'earth-power', 'url': 'https://pokeapi.co/api/v2/move/414/'}, {'name': 'giga-impact', 'url': 'https://pokeapi.co/api/v2/move/416/'}, {'name': 'rock-climb', 'url': 'https://pokeapi.co/api/v2/move/431/'}, {'name': 'leaf-storm', 'url': 'https://pokeapi.co/api/v2/move/437/'}, {'name': 'power-whip', 'url': 'https://pokeapi.co/api/v2/move/438/'}, {'name': 'captivate', 'url': 'https://pokeapi.co/api/v2/move/445/'}, {'name': 'grass-knot', 'url': 'https://pokeapi.co/api/v2/move/447/'}, {'name': 'venoshock', 'url': 'https://pokeapi.co/api/v2/move/474/'}, {'name': 'round', 'url': 'https://pokeapi.co/api/v2/move/496/'}, {'name': 'echoed-voice', 'url': 'https://pokeapi.co/api/v2/move/497/'}, {'name': 'grass-pledge', 'url': 'https://pokeapi.co/api/v2/move/520/'}, {'name': 'bulldoze', 'url': 'https://pokeapi.co/api/v2/move/523/'}, {'name': 'work-up', 'url': 'https://pokeapi.co/api/v2/move/526/'}, {'name': 'petal-blizzard', 'url': 'https://pokeapi.co/api/v2/move/572/'}, {'name': 'grassy-terrain', 'url': 'https://pokeapi.co/api/v2/move/580/'}, {'name': 'confide', 'url': 'https://pokeapi.co/api/v2/move/590/'}, {'name': 'stomping-tantrum', 'url': 'https://pokeapi.co/api/v2/move/707/'}, {'name': 'grassy-glide', 'url': 'https://pokeapi.co/api/v2/move/803/'}, {'name': 'terrain-pulse', 'url': 'https://pokeapi.co/api/v2/move/805/'}]}, 'dragonite': {'id': 149, 'name': 'dragonite', 'type1': 'dragon', 'type2': 'flying', 'moves': [{'name': 'mega-punch', 'url': 'https://pokeapi.co/api/v2/move/5/'}, {'name': 'fire-punch', 'url': 'https://pokeapi.co/api/v2/move/7/'}, {'name': 'ice-punch', 'url': 'https://pokeapi.co/api/v2/move/8/'}, {'name': 'thunder-punch', 'url': 'https://pokeapi.co/api/v2/move/9/'}, {'name': 'razor-wind', 'url': 'https://pokeapi.co/api/v2/move/13/'}, {'name': 'cut', 'url': 'https://pokeapi.co/api/v2/move/15/'}, {'name': 'wing-attack', 'url': 'https://pokeapi.co/api/v2/move/17/'}, {'name': 'fly', 'url': 'https://pokeapi.co/api/v2/move/19/'}, {'name': 'bind', 'url': 'https://pokeapi.co/api/v2/move/20/'}, {'name': 'slam', 'url': 'https://pokeapi.co/api/v2/move/21/'}, {'name': 'mega-kick', 'url': 'https://pokeapi.co/api/v2/move/25/'}, {'name': 'headbutt', 'url': 'https://pokeapi.co/api/v2/move/29/'}, {'name': 'horn-drill', 'url': 'https://pokeapi.co/api/v2/move/32/'}, {'name': 'body-slam', 'url': 'https://pokeapi.co/api/v2/move/34/'}, {'name': 'wrap', 'url': 'https://pokeapi.co/api/v2/move/35/'}, {'name': 'take-down', 'url': 'https://pokeapi.co/api/v2/move/36/'}, {'name': 'double-edge', 'url': 'https://pokeapi.co/api/v2/move/38/'}, {'name': 'leer', 'url': 'https://pokeapi.co/api/v2/move/43/'}, {'name': 'roar', 'url': 'https://pokeapi.co/api/v2/move/46/'}, {'name': 'flamethrower', 'url': 'https://pokeapi.co/api/v2/move/53/'}, {'name': 'mist', 'url': 'https://pokeapi.co/api/v2/move/54/'}, {'name': 'water-gun', 'url': 'https://pokeapi.co/api/v2/move/55/'}, {'name': 'hydro-pump', 'url': 'https://pokeapi.co/api/v2/move/56/'}, {'name': 'surf', 'url': 'https://pokeapi.co/api/v2/move/57/'}, {'name': 'ice-beam', 'url': 'https://pokeapi.co/api/v2/move/58/'}, {'name': 'blizzard', 'url': 'https://pokeapi.co/api/v2/move/59/'}, {'name': 'bubble-beam', 'url': 'https://pokeapi.co/api/v2/move/61/'}, {'name': 'hyper-beam', 'url': 'https://pokeapi.co/api/v2/move/63/'}, {'name': 'low-kick', 'url': 'https://pokeapi.co/api/v2/move/67/'}, {'name': 'strength', 'url': 'https://pokeapi.co/api/v2/move/70/'}, {'name': 'dragon-rage', 'url': 'https://pokeapi.co/api/v2/move/82/'}, {'name': 'fire-spin', 'url': 'https://pokeapi.co/api/v2/move/83/'}, {'name': 'thunderbolt', 'url': 'https://pokeapi.co/api/v2/move/85/'}, {'name': 'thunder-wave', 'url': 'https://pokeapi.co/api/v2/move/86/'}, {'name': 'thunder', 'url': 'https://pokeapi.co/api/v2/move/87/'}, {'name': 'earthquake', 'url': 'https://pokeapi.co/api/v2/move/89/'}, {'name': 'toxic', 'url': 'https://pokeapi.co/api/v2/move/92/'}, {'name': 'agility', 'url': 'https://pokeapi.co/api/v2/move/97/'}, {'name': 'rage', 'url': 'https://pokeapi.co/api/v2/move/99/'}, {'name': 'mimic', 'url': 'https://pokeapi.co/api/v2/move/102/'}, {'name': 'double-team', 'url': 'https://pokeapi.co/api/v2/move/104/'}, {'name': 'light-screen', 'url': 'https://pokeapi.co/api/v2/move/113/'}, {'name': 'haze', 'url': 'https://pokeapi.co/api/v2/move/114/'}, {'name': 'reflect', 'url': 'https://pokeapi.co/api/v2/move/115/'}, {'name': 'bide', 'url': 'https://pokeapi.co/api/v2/move/117/'}, {'name': 'metronome', 'url': 'https://pokeapi.co/api/v2/move/118/'}, {'name': 'fire-blast', 'url': 'https://pokeapi.co/api/v2/move/126/'}, {'name': 'waterfall', 'url': 'https://pokeapi.co/api/v2/move/127/'}, {'name': 'swift', 'url': 'https://pokeapi.co/api/v2/move/129/'}, {'name': 'skull-bash', 'url': 'https://pokeapi.co/api/v2/move/130/'}, {'name': 'rest', 'url': 'https://pokeapi.co/api/v2/move/156/'}, {'name': 'rock-slide', 'url': 'https://pokeapi.co/api/v2/move/157/'}, {'name': 'substitute', 'url': 'https://pokeapi.co/api/v2/move/164/'}, {'name': 'snore', 'url': 'https://pokeapi.co/api/v2/move/173/'}, {'name': 'curse', 'url': 'https://pokeapi.co/api/v2/move/174/'}, {'name': 'protect', 'url': 'https://pokeapi.co/api/v2/move/182/'}, {'name': 'scary-face', 'url': 'https://pokeapi.co/api/v2/move/184/'}, {'name': 'mud-slap', 'url': 'https://pokeapi.co/api/v2/move/189/'}, {'name': 'zap-cannon', 'url': 'https://pokeapi.co/api/v2/move/192/'}, {'name': 'icy-wind', 'url': 'https://pokeapi.co/api/v2/move/196/'}, {'name': 'detect', 'url': 'https://pokeapi.co/api/v2/move/197/'}, {'name': 'outrage', 'url': 'https://pokeapi.co/api/v2/move/200/'}, {'name': 'sandstorm', 'url': 'https://pokeapi.co/api/v2/move/201/'}, {'name': 'endure', 'url': 'https://pokeapi.co/api/v2/move/203/'}, {'name': 'swagger', 'url': 'https://pokeapi.co/api/v2/move/207/'}, {'name': 'fury-cutter', 'url': 'https://pokeapi.co/api/v2/move/210/'}, {'name': 'steel-wing', 'url': 'https://pokeapi.co/api/v2/move/211/'}, {'name': 'attract', 'url': 'https://pokeapi.co/api/v2/move/213/'}, {'name': 'sleep-talk', 'url': 'https://pokeapi.co/api/v2/move/214/'}, {'name': 'return', 'url': 'https://pokeapi.co/api/v2/move/216/'}, {'name': 'frustration', 'url': 'https://pokeapi.co/api/v2/move/218/'}, {'name': 'safeguard', 'url': 'https://pokeapi.co/api/v2/move/219/'}, {'name': 'dynamic-punch', 'url': 'https://pokeapi.co/api/v2/move/223/'}, {'name': 'dragon-breath', 'url': 'https://pokeapi.co/api/v2/move/225/'}, {'name': 'encore', 'url': 'https://pokeapi.co/api/v2/move/227/'}, {'name': 'iron-tail', 'url': 'https://pokeapi.co/api/v2/move/231/'}, {'name': 'hidden-power', 'url': 'https://pokeapi.co/api/v2/move/237/'}, {'name': 'twister', 'url': 'https://pokeapi.co/api/v2/move/239/'}, {'name': 'rain-dance', 'url': 'https://pokeapi.co/api/v2/move/240/'}, {'name': 'sunny-day', 'url': 'https://pokeapi.co/api/v2/move/241/'}, {'name': 'extreme-speed', 'url': 'https://pokeapi.co/api/v2/move/245/'}, {'name': 'rock-smash', 'url': 'https://pokeapi.co/api/v2/move/249/'}, {'name': 'whirlpool', 'url': 'https://pokeapi.co/api/v2/move/250/'}, {'name': 'heat-wave', 'url': 'https://pokeapi.co/api/v2/move/257/'}, {'name': 'hail', 'url': 'https://pokeapi.co/api/v2/move/258/'}, {'name': 'facade', 'url': 'https://pokeapi.co/api/v2/move/263/'}, {'name': 'focus-punch', 'url': 'https://pokeapi.co/api/v2/move/264/'}, {'name': 'helping-hand', 'url': 'https://pokeapi.co/api/v2/move/270/'}, {'name': 'superpower', 'url': 'https://pokeapi.co/api/v2/move/276/'}, {'name': 'brick-break', 'url': 'https://pokeapi.co/api/v2/move/280/'}, {'name': 'secret-power', 'url': 'https://pokeapi.co/api/v2/move/290/'}, {'name': 'dive', 'url': 'https://pokeapi.co/api/v2/move/291/'}, {'name': 'weather-ball', 'url': 'https://pokeapi.co/api/v2/move/311/'}, {'name': 'air-cutter', 'url': 'https://pokeapi.co/api/v2/move/314/'}, {'name': 'rock-tomb', 'url': 'https://pokeapi.co/api/v2/move/317/'}, {'name': 'aerial-ace', 'url': 'https://pokeapi.co/api/v2/move/332/'}, {'name': 'dragon-claw', 'url': 'https://pokeapi.co/api/v2/move/337/'}, {'name': 'dragon-dance', 'url': 'https://pokeapi.co/api/v2/move/349/'}, {'name': 'shock-wave', 'url': 'https://pokeapi.co/api/v2/move/351/'}, {'name': 'water-pulse', 'url': 'https://pokeapi.co/api/v2/move/352/'}, {'name': 'roost', 'url': 'https://pokeapi.co/api/v2/move/355/'}, {'name': 'natural-gift', 'url': 'https://pokeapi.co/api/v2/move/363/'}, {'name': 'tailwind', 'url': 'https://pokeapi.co/api/v2/move/366/'}, {'name': 'fling', 'url': 'https://pokeapi.co/api/v2/move/374/'}, {'name': 'aqua-tail', 'url': 'https://pokeapi.co/api/v2/move/401/'}, {'name': 'air-slash', 'url': 'https://pokeapi.co/api/v2/move/403/'}, {'name': 'dragon-pulse', 'url': 'https://pokeapi.co/api/v2/move/406/'}, {'name': 'dragon-rush', 'url': 'https://pokeapi.co/api/v2/move/407/'}, {'name': 'focus-blast', 'url': 'https://pokeapi.co/api/v2/move/411/'}, {'name': 'giga-impact', 'url': 'https://pokeapi.co/api/v2/move/416/'}, {'name': 'defog', 'url': 'https://pokeapi.co/api/v2/move/432/'}, {'name': 'draco-meteor', 'url': 'https://pokeapi.co/api/v2/move/434/'}, {'name': 'iron-head', 'url': 'https://pokeapi.co/api/v2/move/442/'}, {'name': 'stone-edge', 'url': 'https://pokeapi.co/api/v2/move/444/'}, {'name': 'captivate', 'url': 'https://pokeapi.co/api/v2/move/445/'}, {'name': 'aqua-jet', 'url': 'https://pokeapi.co/api/v2/move/453/'}, {'name': 'ominous-wind', 'url': 'https://pokeapi.co/api/v2/move/466/'}, {'name': 'hone-claws', 'url': 'https://pokeapi.co/api/v2/move/468/'}, {'name': 'round', 'url': 'https://pokeapi.co/api/v2/move/496/'}, {'name': 'sky-drop', 'url': 'https://pokeapi.co/api/v2/move/507/'}, {'name': 'incinerate', 'url': 'https://pokeapi.co/api/v2/move/510/'}, {'name': 'bulldoze', 'url': 'https://pokeapi.co/api/v2/move/523/'}, {'name': 'dragon-tail', 'url': 'https://pokeapi.co/api/v2/move/525/'}, {'name': 'hurricane', 'url': 'https://pokeapi.co/api/v2/move/542/'}, {'name': 'confide', 'url': 'https://pokeapi.co/api/v2/move/590/'}, {'name': 'power-up-punch', 'url': 'https://pokeapi.co/api/v2/move/612/'}, {'name': 'brutal-swing', 'url': 'https://pokeapi.co/api/v2/move/693/'}, {'name': 'stomping-tantrum', 'url': 'https://pokeapi.co/api/v2/move/707/'}, {'name': 'body-press', 'url': 'https://pokeapi.co/api/v2/move/776/'}, {'name': 'breaking-swipe', 'url': 'https://pokeapi.co/api/v2/move/784/'}, {'name': 'scale-shot', 'url': 'https://pokeapi.co/api/v2/move/799/'}, {'name': 'dual-wingbeat', 'url': 'https://pokeapi.co/api/v2/move/814/'}, {'name': 'tera-blast', 'url': 'https://pokeapi.co/api/v2/move/851/'}, {'name': 'ice-spinner', 'url': 'https://pokeapi.co/api/v2/move/861/'}, {'name': 'snowscape', 'url': 'https://pokeapi.co/api/v2/move/883/'}, {'name': 'chilling-water', 'url': 'https://pokeapi.co/api/v2/move/886/'}]}, 'mew': {'id': 151, 'name': 'mew', 'type1': 'psychic', 'type2': None, 'moves': [{'name': 'pound', 'url': 'https://pokeapi.co/api/v2/move/1/'}, {'name': 'mega-punch', 'url': 'https://pokeapi.co/api/v2/move/5/'}, {'name': 'pay-day', 'url': 'https://pokeapi.co/api/v2/move/6/'}, {'name': 'fire-punch', 'url': 'https://pokeapi.co/api/v2/move/7/'}, {'name': 'ice-punch', 'url': 'https://pokeapi.co/api/v2/move/8/'}, {'name': 'thunder-punch', 'url': 'https://pokeapi.co/api/v2/move/9/'}, {'name': 'razor-wind', 'url': 'https://pokeapi.co/api/v2/move/13/'}, {'name': 'swords-dance', 'url': 'https://pokeapi.co/api/v2/move/14/'}, {'name': 'cut', 'url': 'https://pokeapi.co/api/v2/move/15/'}, {'name': 'whirlwind', 'url': 'https://pokeapi.co/api/v2/move/18/'}, {'name': 'fly', 'url': 'https://pokeapi.co/api/v2/move/19/'}, {'name': 'bind', 'url': 'https://pokeapi.co/api/v2/move/20/'}, {'name': 'mega-kick', 'url': 'https://pokeapi.co/api/v2/move/25/'}, {'name': 'headbutt', 'url': 'https://pokeapi.co/api/v2/move/29/'}, {'name': 'horn-drill', 'url': 'https://pokeapi.co/api/v2/move/32/'}, {'name': 'body-slam', 'url': 'https://pokeapi.co/api/v2/move/34/'}, {'name': 'take-down', 'url': 'https://pokeapi.co/api/v2/move/36/'}, {'name': 'double-edge', 'url': 'https://pokeapi.co/api/v2/move/38/'}, {'name': 'pin-missile', 'url': 'https://pokeapi.co/api/v2/move/42/'}, {'name': 'roar', 'url': 'https://pokeapi.co/api/v2/move/46/'}, {'name': 'flamethrower', 'url': 'https://pokeapi.co/api/v2/move/53/'}, {'name': 'water-gun', 'url': 'https://pokeapi.co/api/v2/move/55/'}, {'name': 'hydro-pump', 'url': 'https://pokeapi.co/api/v2/move/56/'}, {'name': 'surf', 'url': 'https://pokeapi.co/api/v2/move/57/'}, {'name': 'ice-beam', 'url': 'https://pokeapi.co/api/v2/move/58/'}, {'name': 'blizzard', 'url': 'https://pokeapi.co/api/v2/move/59/'}, {'name': 'psybeam', 'url': 'https://pokeapi.co/api/v2/move/60/'}, {'name': 'bubble-beam', 'url': 'https://pokeapi.co/api/v2/move/61/'}, {'name': 'hyper-beam', 'url': 'https://pokeapi.co/api/v2/move/63/'}, {'name': 'submission', 'url': 'https://pokeapi.co/api/v2/move/66/'}, {'name': 'low-kick', 'url': 'https://pokeapi.co/api/v2/move/67/'}, {'name': 'counter', 'url': 'https://pokeapi.co/api/v2/move/68/'}, {'name': 'seismic-toss', 'url': 'https://pokeapi.co/api/v2/move/69/'}, {'name': 'strength', 'url': 'https://pokeapi.co/api/v2/move/70/'}, {'name': 'mega-drain', 'url': 'https://pokeapi.co/api/v2/move/72/'}, {'name': 'solar-beam', 'url': 'https://pokeapi.co/api/v2/move/76/'}, {'name': 'string-shot', 'url': 'https://pokeapi.co/api/v2/move/81/'}, {'name': 'dragon-rage', 'url': 'https://pokeapi.co/api/v2/move/82/'}, {'name': 'fire-spin', 'url': 'https://pokeapi.co/api/v2/move/83/'}, {'name': 'thunderbolt', 'url': 'https://pokeapi.co/api/v2/move/85/'}, {'name': 'thunder-wave', 'url': 'https://pokeapi.co/api/v2/move/86/'}, {'name': 'thunder', 'url': 'https://pokeapi.co/api/v2/move/87/'}, {'name': 'earthquake', 'url': 'https://pokeapi.co/api/v2/move/89/'}, {'name': 'fissure', 'url': 'https://pokeapi.co/api/v2/move/90/'}, {'name': 'dig', 'url': 'https://pokeapi.co/api/v2/move/91/'}, {'name': 'toxic', 'url': 'https://pokeapi.co/api/v2/move/92/'}, {'name': 'confusion', 'url': 'https://pokeapi.co/api/v2/move/93/'}, {'name': 'psychic', 'url': 'https://pokeapi.co/api/v2/move/94/'}, {'name': 'hypnosis', 'url': 'https://pokeapi.co/api/v2/move/95/'}, {'name': 'agility', 'url': 'https://pokeapi.co/api/v2/move/97/'}, {'name': 'rage', 'url': 'https://pokeapi.co/api/v2/move/99/'}, {'name': 'teleport', 'url': 'https://pokeapi.co/api/v2/move/100/'}, {'name': 'night-shade', 'url': 'https://pokeapi.co/api/v2/move/101/'}, {'name': 'mimic', 'url': 'https://pokeapi.co/api/v2/move/102/'}, {'name': 'screech', 'url': 'https://pokeapi.co/api/v2/move/103/'}, {'name': 'double-team', 'url': 'https://pokeapi.co/api/v2/move/104/'}, {'name': 'confuse-ray', 'url': 'https://pokeapi.co/api/v2/move/109/'}, {'name': 'defense-curl', 'url': 'https://pokeapi.co/api/v2/move/111/'}, {'name': 'barrier', 'url': 'https://pokeapi.co/api/v2/move/112/'}, {'name': 'light-screen', 'url': 'https://pokeapi.co/api/v2/move/113/'}, {'name': 'haze', 'url': 'https://pokeapi.co/api/v2/move/114/'}, {'name': 'reflect', 'url': 'https://pokeapi.co/api/v2/move/115/'}, {'name': 'focus-energy', 'url': 'https://pokeapi.co/api/v2/move/116/'}, {'name': 'bide', 'url': 'https://pokeapi.co/api/v2/move/117/'}, {'name': 'metronome', 'url': 'https://pokeapi.co/api/v2/move/118/'}, {'name': 'self-destruct', 'url': 'https://pokeapi.co/api/v2/move/120/'}, {'name': 'egg-bomb', 'url': 'https://pokeapi.co/api/v2/move/121/'}, {'name': 'fire-blast', 'url': 'https://pokeapi.co/api/v2/move/126/'}, {'name': 'waterfall', 'url': 'https://pokeapi.co/api/v2/move/127/'}, {'name': 'swift', 'url': 'https://pokeapi.co/api/v2/move/129/'}, {'name': 'skull-bash', 'url': 'https://pokeapi.co/api/v2/move/130/'}, {'name': 'amnesia', 'url': 'https://pokeapi.co/api/v2/move/133/'}, {'name': 'soft-boiled', 'url': 'https://pokeapi.co/api/v2/move/135/'}, {'name': 'dream-eater', 'url': 'https://pokeapi.co/api/v2/move/138/'}, {'name': 'leech-life', 'url': 'https://pokeapi.co/api/v2/move/141/'}, {'name': 'sky-attack', 'url': 'https://pokeapi.co/api/v2/move/143/'}, {'name': 'transform', 'url': 'https://pokeapi.co/api/v2/move/144/'}, {'name': 'flash', 'url': 'https://pokeapi.co/api/v2/move/148/'}, {'name': 'psywave', 'url': 'https://pokeapi.co/api/v2/move/149/'}, {'name': 'explosion', 'url': 'https://pokeapi.co/api/v2/move/153/'}, {'name': 'rest', 'url': 'https://pokeapi.co/api/v2/move/156/'}, {'name': 'rock-slide', 'url': 'https://pokeapi.co/api/v2/move/157/'}, {'name': 'tri-attack', 'url': 'https://pokeapi.co/api/v2/move/161/'}, {'name': 'super-fang', 'url': 'https://pokeapi.co/api/v2/move/162/'}, {'name': 'substitute', 'url': 'https://pokeapi.co/api/v2/move/164/'}, {'name': 'thief', 'url': 'https://pokeapi.co/api/v2/move/168/'}, {'name': 'nightmare', 'url': 'https://pokeapi.co/api/v2/move/171/'}, {'name': 'snore', 'url': 'https://pokeapi.co/api/v2/move/173/'}, {'name': 'curse', 'url': 'https://pokeapi.co/api/v2/move/174/'}, {'name': 'reversal', 'url': 'https://pokeapi.co/api/v2/move/179/'}, {'name': 'spite', 'url': 'https://pokeapi.co/api/v2/move/180/'}, {'name': 'protect', 'url': 'https://pokeapi.co/api/v2/move/182/'}, {'name': 'scary-face', 'url': 'https://pokeapi.co/api/v2/move/184/'}, {'name': 'feint-attack', 'url': 'https://pokeapi.co/api/v2/move/185/'}, {'name': 'sludge-bomb', 'url': 'https://pokeapi.co/api/v2/move/188/'}, {'name': 'mud-slap', 'url': 'https://pokeapi.co/api/v2/move/189/'}, {'name': 'spikes', 'url': 'https://pokeapi.co/api/v2/move/191/'}, {'name': 'zap-cannon', 'url': 'https://pokeapi.co/api/v2/move/192/'}, {'name': 'icy-wind', 'url': 'https://pokeapi.co/api/v2/move/196/'}, {'name': 'detect', 'url': 'https://pokeapi.co/api/v2/move/197/'}, {'name': 'outrage', 'url': 'https://pokeapi.co/api/v2/move/200/'}, {'name': 'sandstorm', 'url': 'https://pokeapi.co/api/v2/move/201/'}, {'name': 'giga-drain', 'url': 'https://pokeapi.co/api/v2/move/202/'}, {'name': 'endure', 'url': 'https://pokeapi.co/api/v2/move/203/'}, {'name': 'charm', 'url': 'https://pokeapi.co/api/v2/move/204/'}, {'name': 'rollout', 'url': 'https://pokeapi.co/api/v2/move/205/'}, {'name': 'false-swipe', 'url': 'https://pokeapi.co/api/v2/move/206/'}, {'name': 'swagger', 'url': 'https://pokeapi.co/api/v2/move/207/'}, {'name': 'fury-cutter', 'url': 'https://pokeapi.co/api/v2/move/210/'}, {'name': 'steel-wing', 'url': 'https://pokeapi.co/api/v2/move/211/'}, {'name': 'attract', 'url': 'https://pokeapi.co/api/v2/move/213/'}, {'name': 'sleep-talk', 'url': 'https://pokeapi.co/api/v2/move/214/'}, {'name': 'heal-bell', 'url': 'https://pokeapi.co/api/v2/move/215/'}, {'name': 'return', 'url': 'https://pokeapi.co/api/v2/move/216/'}, {'name': 'frustration', 'url': 'https://pokeapi.co/api/v2/move/218/'}, {'name': 'safeguard', 'url': 'https://pokeapi.co/api/v2/move/219/'}, {'name': 'pain-split', 'url': 'https://pokeapi.co/api/v2/move/220/'}, {'name': 'dynamic-punch', 'url': 'https://pokeapi.co/api/v2/move/223/'}, {'name': 'megahorn', 'url': 'https://pokeapi.co/api/v2/move/224/'}, {'name': 'dragon-breath', 'url': 'https://pokeapi.co/api/v2/move/225/'}, {'name': 'baton-pass', 'url': 'https://pokeapi.co/api/v2/move/226/'}, {'name': 'encore', 'url': 'https://pokeapi.co/api/v2/move/227/'}, {'name': 'sweet-scent', 'url': 'https://pokeapi.co/api/v2/move/230/'}, {'name': 'iron-tail', 'url': 'https://pokeapi.co/api/v2/move/231/'}, {'name': 'metal-claw', 'url': 'https://pokeapi.co/api/v2/move/232/'}, {'name': 'synthesis', 'url': 'https://pokeapi.co/api/v2/move/235/'}, {'name': 'hidden-power', 'url': 'https://pokeapi.co/api/v2/move/237/'}, {'name': 'twister', 'url': 'https://pokeapi.co/api/v2/move/239/'}, {'name': 'rain-dance', 'url': 'https://pokeapi.co/api/v2/move/240/'}, {'name': 'sunny-day', 'url': 'https://pokeapi.co/api/v2/move/241/'}, {'name': 'crunch', 'url': 'https://pokeapi.co/api/v2/move/242/'}, {'name': 'psych-up', 'url': 'https://pokeapi.co/api/v2/move/244/'}, {'name': 'ancient-power', 'url': 'https://pokeapi.co/api/v2/move/246/'}, {'name': 'shadow-ball', 'url': 'https://pokeapi.co/api/v2/move/247/'}, {'name': 'future-sight', 'url': 'https://pokeapi.co/api/v2/move/248/'}, {'name': 'rock-smash', 'url': 'https://pokeapi.co/api/v2/move/249/'}, {'name': 'whirlpool', 'url': 'https://pokeapi.co/api/v2/move/250/'}, {'name': 'beat-up', 'url': 'https://pokeapi.co/api/v2/move/251/'}, {'name': 'fake-out', 'url': 'https://pokeapi.co/api/v2/move/252/'}, {'name': 'uproar', 'url': 'https://pokeapi.co/api/v2/move/253/'}, {'name': 'heat-wave', 'url': 'https://pokeapi.co/api/v2/move/257/'}, {'name': 'hail', 'url': 'https://pokeapi.co/api/v2/move/258/'}, {'name': 'torment', 'url': 'https://pokeapi.co/api/v2/move/259/'}, {'name': 'will-o-wisp', 'url': 'https://pokeapi.co/api/v2/move/261/'}, {'name': 'facade', 'url': 'https://pokeapi.co/api/v2/move/263/'}, {'name': 'focus-punch', 'url': 'https://pokeapi.co/api/v2/move/264/'}, {'name': 'nature-power', 'url': 'https://pokeapi.co/api/v2/move/267/'}, {'name': 'charge', 'url': 'https://pokeapi.co/api/v2/move/268/'}, {'name': 'taunt', 'url': 'https://pokeapi.co/api/v2/move/269/'}, {'name': 'helping-hand', 'url': 'https://pokeapi.co/api/v2/move/270/'}, {'name': 'trick', 'url': 'https://pokeapi.co/api/v2/move/271/'}, {'name': 'role-play', 'url': 'https://pokeapi.co/api/v2/move/272/'}, {'name': 'superpower', 'url': 'https://pokeapi.co/api/v2/move/276/'}, {'name': 'magic-coat', 'url': 'https://pokeapi.co/api/v2/move/277/'}, {'name': 'recycle', 'url': 'https://pokeapi.co/api/v2/move/278/'}, {'name': 'revenge', 'url': 'https://pokeapi.co/api/v2/move/279/'}, {'name': 'brick-break', 'url': 'https://pokeapi.co/api/v2/move/280/'}, {'name': 'knock-off', 'url': 'https://pokeapi.co/api/v2/move/282/'}, {'name': 'endeavor', 'url': 'https://pokeapi.co/api/v2/move/283/'}, {'name': 'skill-swap', 'url': 'https://pokeapi.co/api/v2/move/285/'}, {'name': 'imprison', 'url': 'https://pokeapi.co/api/v2/move/286/'}, {'name': 'snatch', 'url': 'https://pokeapi.co/api/v2/move/289/'}, {'name': 'secret-power', 'url': 'https://pokeapi.co/api/v2/move/290/'}, {'name': 'dive', 'url': 'https://pokeapi.co/api/v2/move/291/'}, {'name': 'blaze-kick', 'url': 'https://pokeapi.co/api/v2/move/299/'}, {'name': 'hyper-voice', 'url': 'https://pokeapi.co/api/v2/move/304/'}, {'name': 'blast-burn', 'url': 'https://pokeapi.co/api/v2/move/307/'}, {'name': 'hydro-cannon', 'url': 'https://pokeapi.co/api/v2/move/308/'}, {'name': 'weather-ball', 'url': 'https://pokeapi.co/api/v2/move/311/'}, {'name': 'fake-tears', 'url': 'https://pokeapi.co/api/v2/move/313/'}, {'name': 'air-cutter', 'url': 'https://pokeapi.co/api/v2/move/314/'}, {'name': 'overheat', 'url': 'https://pokeapi.co/api/v2/move/315/'}, {'name': 'rock-tomb', 'url': 'https://pokeapi.co/api/v2/move/317/'}, {'name': 'silver-wind', 'url': 'https://pokeapi.co/api/v2/move/318/'}, {'name': 'cosmic-power', 'url': 'https://pokeapi.co/api/v2/move/322/'}, {'name': 'signal-beam', 'url': 'https://pokeapi.co/api/v2/move/324/'}, {'name': 'sand-tomb', 'url': 'https://pokeapi.co/api/v2/move/328/'}, {'name': 'muddy-water', 'url': 'https://pokeapi.co/api/v2/move/330/'}, {'name': 'bullet-seed', 'url': 'https://pokeapi.co/api/v2/move/331/'}, {'name': 'aerial-ace', 'url': 'https://pokeapi.co/api/v2/move/332/'}, {'name': 'icicle-spear', 'url': 'https://pokeapi.co/api/v2/move/333/'}, {'name': 'iron-defense', 'url': 'https://pokeapi.co/api/v2/move/334/'}, {'name': 'block', 'url': 'https://pokeapi.co/api/v2/move/335/'}, {'name': 'dragon-claw', 'url': 'https://pokeapi.co/api/v2/move/337/'}, {'name': 'frenzy-plant', 'url': 'https://pokeapi.co/api/v2/move/338/'}, {'name': 'bulk-up', 'url': 'https://pokeapi.co/api/v2/move/339/'}, {'name': 'bounce', 'url': 'https://pokeapi.co/api/v2/move/340/'}, {'name': 'mud-shot', 'url': 'https://pokeapi.co/api/v2/move/341/'}, {'name': 'poison-tail', 'url': 'https://pokeapi.co/api/v2/move/342/'}, {'name': 'covet', 'url': 'https://pokeapi.co/api/v2/move/343/'}, {'name': 'magical-leaf', 'url': 'https://pokeapi.co/api/v2/move/345/'}, {'name': 'calm-mind', 'url': 'https://pokeapi.co/api/v2/move/347/'}, {'name': 'leaf-blade', 'url': 'https://pokeapi.co/api/v2/move/348/'}, {'name': 'dragon-dance', 'url': 'https://pokeapi.co/api/v2/move/349/'}, {'name': 'rock-blast', 'url': 'https://pokeapi.co/api/v2/move/350/'}, {'name': 'shock-wave', 'url': 'https://pokeapi.co/api/v2/move/351/'}, {'name': 'water-pulse', 'url': 'https://pokeapi.co/api/v2/move/352/'}, {'name': 'roost', 'url': 'https://pokeapi.co/api/v2/move/355/'}, {'name': 'gravity', 'url': 'https://pokeapi.co/api/v2/move/356/'}, {'name': 'gyro-ball', 'url': 'https://pokeapi.co/api/v2/move/360/'}, {'name': 'brine', 'url': 'https://pokeapi.co/api/v2/move/362/'}, {'name': 'natural-gift', 'url': 'https://pokeapi.co/api/v2/move/363/'}, {'name': 'pluck', 'url': 'https://pokeapi.co/api/v2/move/365/'}, {'name': 'tailwind', 'url': 'https://pokeapi.co/api/v2/move/366/'}, {'name': 'u-turn', 'url': 'https://pokeapi.co/api/v2/move/369/'}, {'name': 'close-combat', 'url': 'https://pokeapi.co/api/v2/move/370/'}, {'name': 'payback', 'url': 'https://pokeapi.co/api/v2/move/371/'}, {'name': 'assurance', 'url': 'https://pokeapi.co/api/v2/move/372/'}, {'name': 'embargo', 'url': 'https://pokeapi.co/api/v2/move/373/'}, {'name': 'fling', 'url': 'https://pokeapi.co/api/v2/move/374/'}, {'name': 'gastro-acid', 'url': 'https://pokeapi.co/api/v2/move/380/'}, {'name': 'me-first', 'url': 'https://pokeapi.co/api/v2/move/382/'}, {'name': 'power-swap', 'url': 'https://pokeapi.co/api/v2/move/384/'}, {'name': 'guard-swap', 'url': 'https://pokeapi.co/api/v2/move/385/'}, {'name': 'last-resort', 'url': 'https://pokeapi.co/api/v2/move/387/'}, {'name': 'worry-seed', 'url': 'https://pokeapi.co/api/v2/move/388/'}, {'name': 'sucker-punch', 'url': 'https://pokeapi.co/api/v2/move/389/'}, {'name': 'toxic-spikes', 'url': 'https://pokeapi.co/api/v2/move/390/'}, {'name': 'magnet-rise', 'url': 'https://pokeapi.co/api/v2/move/393/'}, {'name': 'flare-blitz', 'url': 'https://pokeapi.co/api/v2/move/394/'}, {'name': 'aura-sphere', 'url': 'https://pokeapi.co/api/v2/move/396/'}, {'name': 'rock-polish', 'url': 'https://pokeapi.co/api/v2/move/397/'}, {'name': 'poison-jab', 'url': 'https://pokeapi.co/api/v2/move/398/'}, {'name': 'dark-pulse', 'url': 'https://pokeapi.co/api/v2/move/399/'}, {'name': 'aqua-tail', 'url': 'https://pokeapi.co/api/v2/move/401/'}, {'name': 'seed-bomb', 'url': 'https://pokeapi.co/api/v2/move/402/'}, {'name': 'air-slash', 'url': 'https://pokeapi.co/api/v2/move/403/'}, {'name': 'x-scissor', 'url': 'https://pokeapi.co/api/v2/move/404/'}, {'name': 'bug-buzz', 'url': 'https://pokeapi.co/api/v2/move/405/'}, {'name': 'dragon-pulse', 'url': 'https://pokeapi.co/api/v2/move/406/'}, {'name': 'power-gem', 'url': 'https://pokeapi.co/api/v2/move/408/'}, {'name': 'drain-punch', 'url': 'https://pokeapi.co/api/v2/move/409/'}, {'name': 'vacuum-wave', 'url': 'https://pokeapi.co/api/v2/move/410/'}, {'name': 'focus-blast', 'url': 'https://pokeapi.co/api/v2/move/411/'}, {'name': 'energy-ball', 'url': 'https://pokeapi.co/api/v2/move/412/'}, {'name': 'brave-bird', 'url': 'https://pokeapi.co/api/v2/move/413/'}, {'name': 'earth-power', 'url': 'https://pokeapi.co/api/v2/move/414/'}, {'name': 'giga-impact', 'url': 'https://pokeapi.co/api/v2/move/416/'}, {'name': 'nasty-plot', 'url': 'https://pokeapi.co/api/v2/move/417/'}, {'name': 'avalanche', 'url': 'https://pokeapi.co/api/v2/move/419/'}, {'name': 'shadow-claw', 'url': 'https://pokeapi.co/api/v2/move/421/'}, {'name': 'thunder-fang', 'url': 'https://pokeapi.co/api/v2/move/422/'}, {'name': 'ice-fang', 'url': 'https://pokeapi.co/api/v2/move/423/'}, {'name': 'fire-fang', 'url': 'https://pokeapi.co/api/v2/move/424/'}, {'name': 'psycho-cut', 'url': 'https://pokeapi.co/api/v2/move/427/'}, {'name': 'zen-headbutt', 'url': 'https://pokeapi.co/api/v2/move/428/'}, {'name': 'flash-cannon', 'url': 'https://pokeapi.co/api/v2/move/430/'}, {'name': 'rock-climb', 'url': 'https://pokeapi.co/api/v2/move/431/'}, {'name': 'defog', 'url': 'https://pokeapi.co/api/v2/move/432/'}, {'name': 'trick-room', 'url': 'https://pokeapi.co/api/v2/move/433/'}, {'name': 'draco-meteor', 'url': 'https://pokeapi.co/api/v2/move/434/'}, {'name': 'leaf-storm', 'url': 'https://pokeapi.co/api/v2/move/437/'}, {'name': 'power-whip', 'url': 'https://pokeapi.co/api/v2/move/438/'}, {'name': 'cross-poison', 'url': 'https://pokeapi.co/api/v2/move/440/'}, {'name': 'gunk-shot', 'url': 'https://pokeapi.co/api/v2/move/441/'}, {'name': 'iron-head', 'url': 'https://pokeapi.co/api/v2/move/442/'}, {'name': 'stone-edge', 'url': 'https://pokeapi.co/api/v2/move/444/'}, {'name': 'captivate', 'url': 'https://pokeapi.co/api/v2/move/445/'}, {'name': 'stealth-rock', 'url': 'https://pokeapi.co/api/v2/move/446/'}, {'name': 'grass-knot', 'url': 'https://pokeapi.co/api/v2/move/447/'}, {'name': 'bug-bite', 'url': 'https://pokeapi.co/api/v2/move/450/'}, {'name': 'charge-beam', 'url': 'https://pokeapi.co/api/v2/move/451/'}, {'name': 'ominous-wind', 'url': 'https://pokeapi.co/api/v2/move/466/'}, {'name': 'hone-claws', 'url': 'https://pokeapi.co/api/v2/move/468/'}, {'name': 'wonder-room', 'url': 'https://pokeapi.co/api/v2/move/472/'}, {'name': 'psyshock', 'url': 'https://pokeapi.co/api/v2/move/473/'}, {'name': 'venoshock', 'url': 'https://pokeapi.co/api/v2/move/474/'}, {'name': 'telekinesis', 'url': 'https://pokeapi.co/api/v2/move/477/'}, {'name': 'magic-room', 'url': 'https://pokeapi.co/api/v2/move/478/'}, {'name': 'smack-down', 'url': 'https://pokeapi.co/api/v2/move/479/'}, {'name': 'sludge-wave', 'url': 'https://pokeapi.co/api/v2/move/482/'}, {'name': 'heavy-slam', 'url': 'https://pokeapi.co/api/v2/move/484/'}, {'name': 'electro-ball', 'url': 'https://pokeapi.co/api/v2/move/486/'}, {'name': 'flame-charge', 'url': 'https://pokeapi.co/api/v2/move/488/'}, {'name': 'low-sweep', 'url': 'https://pokeapi.co/api/v2/move/490/'}, {'name': 'acid-spray', 'url': 'https://pokeapi.co/api/v2/move/491/'}, {'name': 'foul-play', 'url': 'https://pokeapi.co/api/v2/move/492/'}, {'name': 'after-you', 'url': 'https://pokeapi.co/api/v2/move/495/'}, {'name': 'round', 'url': 'https://pokeapi.co/api/v2/move/496/'}, {'name': 'echoed-voice', 'url': 'https://pokeapi.co/api/v2/move/497/'}, {'name': 'stored-power', 'url': 'https://pokeapi.co/api/v2/move/500/'}, {'name': 'ally-switch', 'url': 'https://pokeapi.co/api/v2/move/502/'}, {'name': 'scald', 'url': 'https://pokeapi.co/api/v2/move/503/'}, {'name': 'hex', 'url': 'https://pokeapi.co/api/v2/move/506/'}, {'name': 'sky-drop', 'url': 'https://pokeapi.co/api/v2/move/507/'}, {'name': 'incinerate', 'url': 'https://pokeapi.co/api/v2/move/510/'}, {'name': 'quash', 'url': 'https://pokeapi.co/api/v2/move/511/'}, {'name': 'acrobatics', 'url': 'https://pokeapi.co/api/v2/move/512/'}, {'name': 'reflect-type', 'url': 'https://pokeapi.co/api/v2/move/513/'}, {'name': 'retaliate', 'url': 'https://pokeapi.co/api/v2/move/514/'}, {'name': 'water-pledge', 'url': 'https://pokeapi.co/api/v2/move/518/'}, {'name': 'fire-pledge', 'url': 'https://pokeapi.co/api/v2/move/519/'}, {'name': 'grass-pledge', 'url': 'https://pokeapi.co/api/v2/move/520/'}, {'name': 'volt-switch', 'url': 'https://pokeapi.co/api/v2/move/521/'}, {'name': 'struggle-bug', 'url': 'https://pokeapi.co/api/v2/move/522/'}, {'name': 'bulldoze', 'url': 'https://pokeapi.co/api/v2/move/523/'}, {'name': 'frost-breath', 'url': 'https://pokeapi.co/api/v2/move/524/'}, {'name': 'dragon-tail', 'url': 'https://pokeapi.co/api/v2/move/525/'}, {'name': 'work-up', 'url': 'https://pokeapi.co/api/v2/move/526/'}, {'name': 'electroweb', 'url': 'https://pokeapi.co/api/v2/move/527/'}, {'name': 'wild-charge', 'url': 'https://pokeapi.co/api/v2/move/528/'}, {'name': 'drill-run', 'url': 'https://pokeapi.co/api/v2/move/529/'}, {'name': 'dual-chop', 'url': 'https://pokeapi.co/api/v2/move/530/'}, {'name': 'razor-shell', 'url': 'https://pokeapi.co/api/v2/move/534/'}, {'name': 'heat-crash', 'url': 'https://pokeapi.co/api/v2/move/535/'}, {'name': 'tail-slap', 'url': 'https://pokeapi.co/api/v2/move/541/'}, {'name': 'hurricane', 'url': 'https://pokeapi.co/api/v2/move/542/'}, {'name': 'snarl', 'url': 'https://pokeapi.co/api/v2/move/555/'}, {'name': 'phantom-force', 'url': 'https://pokeapi.co/api/v2/move/566/'}, {'name': 'disarming-voice', 'url': 'https://pokeapi.co/api/v2/move/574/'}, {'name': 'draining-kiss', 'url': 'https://pokeapi.co/api/v2/move/577/'}, {'name': 'grassy-terrain', 'url': 'https://pokeapi.co/api/v2/move/580/'}, {'name': 'misty-terrain', 'url': 'https://pokeapi.co/api/v2/move/581/'}, {'name': 'play-rough', 'url': 'https://pokeapi.co/api/v2/move/583/'}, {'name': 'confide', 'url': 'https://pokeapi.co/api/v2/move/590/'}, {'name': 'mystical-fire', 'url': 'https://pokeapi.co/api/v2/move/595/'}, {'name': 'eerie-impulse', 'url': 'https://pokeapi.co/api/v2/move/598/'}, {'name': 'venom-drench', 'url': 'https://pokeapi.co/api/v2/move/599/'}, {'name': 'electric-terrain', 'url': 'https://pokeapi.co/api/v2/move/604/'}, {'name': 'dazzling-gleam', 'url': 'https://pokeapi.co/api/v2/move/605/'}, {'name': 'infestation', 'url': 'https://pokeapi.co/api/v2/move/611/'}, {'name': 'power-up-punch', 'url': 'https://pokeapi.co/api/v2/move/612/'}, {'name': 'darkest-lariat', 'url': 'https://pokeapi.co/api/v2/move/663/'}, {'name': 'high-horsepower', 'url': 'https://pokeapi.co/api/v2/move/667/'}, {'name': 'solar-blade', 'url': 'https://pokeapi.co/api/v2/move/669/'}, {'name': 'laser-focus', 'url': 'https://pokeapi.co/api/v2/move/673/'}, {'name': 'throat-chop', 'url': 'https://pokeapi.co/api/v2/move/675/'}, {'name': 'pollen-puff', 'url': 'https://pokeapi.co/api/v2/move/676/'}, {'name': 'psychic-terrain', 'url': 'https://pokeapi.co/api/v2/move/678/'}, {'name': 'lunge', 'url': 'https://pokeapi.co/api/v2/move/679/'}, {'name': 'speed-swap', 'url': 'https://pokeapi.co/api/v2/move/683/'}, {'name': 'smart-strike', 'url': 'https://pokeapi.co/api/v2/move/684/'}, {'name': 'brutal-swing', 'url': 'https://pokeapi.co/api/v2/move/693/'}, {'name': 'aurora-veil', 'url': 'https://pokeapi.co/api/v2/move/694/'}, {'name': 'psychic-fangs', 'url': 'https://pokeapi.co/api/v2/move/706/'}, {'name': 'stomping-tantrum', 'url': 'https://pokeapi.co/api/v2/move/707/'}, {'name': 'liquidation', 'url': 'https://pokeapi.co/api/v2/move/710/'}, {'name': 'body-press', 'url': 'https://pokeapi.co/api/v2/move/776/'}, {'name': 'breaking-swipe', 'url': 'https://pokeapi.co/api/v2/move/784/'}, {'name': 'life-dew', 'url': 'https://pokeapi.co/api/v2/move/791/'}, {'name': 'steel-beam', 'url': 'https://pokeapi.co/api/v2/move/796/'}, {'name': 'expanding-force', 'url': 'https://pokeapi.co/api/v2/move/797/'}, {'name': 'steel-roller', 'url': 'https://pokeapi.co/api/v2/move/798/'}, {'name': 'scale-shot', 'url': 'https://pokeapi.co/api/v2/move/799/'}, {'name': 'meteor-beam', 'url': 'https://pokeapi.co/api/v2/move/800/'}, {'name': 'misty-explosion', 'url': 'https://pokeapi.co/api/v2/move/802/'}, {'name': 'grassy-glide', 'url': 'https://pokeapi.co/api/v2/move/803/'}, {'name': 'rising-voltage', 'url': 'https://pokeapi.co/api/v2/move/804/'}, {'name': 'terrain-pulse', 'url': 'https://pokeapi.co/api/v2/move/805/'}, {'name': 'skitter-smack', 'url': 'https://pokeapi.co/api/v2/move/806/'}, {'name': 'burning-jealousy', 'url': 'https://pokeapi.co/api/v2/move/807/'}, {'name': 'lash-out', 'url': 'https://pokeapi.co/api/v2/move/808/'}, {'name': 'poltergeist', 'url': 'https://pokeapi.co/api/v2/move/809/'}, {'name': 'corrosive-gas', 'url': 'https://pokeapi.co/api/v2/move/810/'}, {'name': 'coaching', 'url': 'https://pokeapi.co/api/v2/move/811/'}, {'name': 'flip-turn', 'url': 'https://pokeapi.co/api/v2/move/812/'}, {'name': 'triple-axel', 'url': 'https://pokeapi.co/api/v2/move/813/'}, {'name': 'dual-wingbeat', 'url': 'https://pokeapi.co/api/v2/move/814/'}, {'name': 'scorching-sands', 'url': 'https://pokeapi.co/api/v2/move/815/'}, {'name': 'tera-blast', 'url': 'https://pokeapi.co/api/v2/move/851/'}, {'name': 'ice-spinner', 'url': 'https://pokeapi.co/api/v2/move/861/'}, {'name': 'snowscape', 'url': 'https://pokeapi.co/api/v2/move/883/'}, {'name': 'pounce', 'url': 'https://pokeapi.co/api/v2/move/884/'}, {'name': 'trailblaze', 'url': 'https://pokeapi.co/api/v2/move/885/'}, {'name': 'chilling-water', 'url': 'https://pokeapi.co/api/v2/move/886/'}]}, 'mewtwo': {'id': 150, 'name': 'mewtwo', 'type1': 'psychic', 'type2': None, 'moves': [{'name': 'mega-punch', 'url': 'https://pokeapi.co/api/v2/move/5/'}, {'name': 'pay-day', 'url': 'https://pokeapi.co/api/v2/move/6/'}, {'name': 'fire-punch', 'url': 'https://pokeapi.co/api/v2/move/7/'}, {'name': 'ice-punch', 'url': 'https://pokeapi.co/api/v2/move/8/'}, {'name': 'thunder-punch', 'url': 'https://pokeapi.co/api/v2/move/9/'}, {'name': 'mega-kick', 'url': 'https://pokeapi.co/api/v2/move/25/'}, {'name': 'headbutt', 'url': 'https://pokeapi.co/api/v2/move/29/'}, {'name': 'body-slam', 'url': 'https://pokeapi.co/api/v2/move/34/'}, {'name': 'take-down', 'url': 'https://pokeapi.co/api/v2/move/36/'}, {'name': 'double-edge', 'url': 'https://pokeapi.co/api/v2/move/38/'}, {'name': 'disable', 'url': 'https://pokeapi.co/api/v2/move/50/'}, {'name': 'flamethrower', 'url': 'https://pokeapi.co/api/v2/move/53/'}, {'name': 'mist', 'url': 'https://pokeapi.co/api/v2/move/54/'}, {'name': 'water-gun', 'url': 'https://pokeapi.co/api/v2/move/55/'}, {'name': 'ice-beam', 'url': 'https://pokeapi.co/api/v2/move/58/'}, {'name': 'blizzard', 'url': 'https://pokeapi.co/api/v2/move/59/'}, {'name': 'psybeam', 'url': 'https://pokeapi.co/api/v2/move/60/'}, {'name': 'bubble-beam', 'url': 'https://pokeapi.co/api/v2/move/61/'}, {'name': 'hyper-beam', 'url': 'https://pokeapi.co/api/v2/move/63/'}, {'name': 'submission', 'url': 'https://pokeapi.co/api/v2/move/66/'}, {'name': 'low-kick', 'url': 'https://pokeapi.co/api/v2/move/67/'}, {'name': 'counter', 'url': 'https://pokeapi.co/api/v2/move/68/'}, {'name': 'seismic-toss', 'url': 'https://pokeapi.co/api/v2/move/69/'}, {'name': 'strength', 'url': 'https://pokeapi.co/api/v2/move/70/'}, {'name': 'solar-beam', 'url': 'https://pokeapi.co/api/v2/move/76/'}, {'name': 'thunderbolt', 'url': 'https://pokeapi.co/api/v2/move/85/'}, {'name': 'thunder-wave', 'url': 'https://pokeapi.co/api/v2/move/86/'}, {'name': 'thunder', 'url': 'https://pokeapi.co/api/v2/move/87/'}, {'name': 'earthquake', 'url': 'https://pokeapi.co/api/v2/move/89/'}, {'name': 'toxic', 'url': 'https://pokeapi.co/api/v2/move/92/'}, {'name': 'confusion', 'url': 'https://pokeapi.co/api/v2/move/93/'}, {'name': 'psychic', 'url': 'https://pokeapi.co/api/v2/move/94/'}, {'name': 'agility', 'url': 'https://pokeapi.co/api/v2/move/97/'}, {'name': 'rage', 'url': 'https://pokeapi.co/api/v2/move/99/'}, {'name': 'teleport', 'url': 'https://pokeapi.co/api/v2/move/100/'}, {'name': 'night-shade', 'url': 'https://pokeapi.co/api/v2/move/101/'}, {'name': 'mimic', 'url': 'https://pokeapi.co/api/v2/move/102/'}, {'name': 'double-team', 'url': 'https://pokeapi.co/api/v2/move/104/'}, {'name': 'recover', 'url': 'https://pokeapi.co/api/v2/move/105/'}, {'name': 'confuse-ray', 'url': 'https://pokeapi.co/api/v2/move/109/'}, {'name': 'barrier', 'url': 'https://pokeapi.co/api/v2/move/112/'}, {'name': 'light-screen', 'url': 'https://pokeapi.co/api/v2/move/113/'}, {'name': 'reflect', 'url': 'https://pokeapi.co/api/v2/move/115/'}, {'name': 'bide', 'url': 'https://pokeapi.co/api/v2/move/117/'}, {'name': 'metronome', 'url': 'https://pokeapi.co/api/v2/move/118/'}, {'name': 'self-destruct', 'url': 'https://pokeapi.co/api/v2/move/120/'}, {'name': 'fire-blast', 'url': 'https://pokeapi.co/api/v2/move/126/'}, {'name': 'swift', 'url': 'https://pokeapi.co/api/v2/move/129/'}, {'name': 'skull-bash', 'url': 'https://pokeapi.co/api/v2/move/130/'}, {'name': 'amnesia', 'url': 'https://pokeapi.co/api/v2/move/133/'}, {'name': 'dream-eater', 'url': 'https://pokeapi.co/api/v2/move/138/'}, {'name': 'flash', 'url': 'https://pokeapi.co/api/v2/move/148/'}, {'name': 'psywave', 'url': 'https://pokeapi.co/api/v2/move/149/'}, {'name': 'rest', 'url': 'https://pokeapi.co/api/v2/move/156/'}, {'name': 'rock-slide', 'url': 'https://pokeapi.co/api/v2/move/157/'}, {'name': 'tri-attack', 'url': 'https://pokeapi.co/api/v2/move/161/'}, {'name': 'substitute', 'url': 'https://pokeapi.co/api/v2/move/164/'}, {'name': 'nightmare', 'url': 'https://pokeapi.co/api/v2/move/171/'}, {'name': 'snore', 'url': 'https://pokeapi.co/api/v2/move/173/'}, {'name': 'curse', 'url': 'https://pokeapi.co/api/v2/move/174/'}, {'name': 'reversal', 'url': 'https://pokeapi.co/api/v2/move/179/'}, {'name': 'spite', 'url': 'https://pokeapi.co/api/v2/move/180/'}, {'name': 'protect', 'url': 'https://pokeapi.co/api/v2/move/182/'}, {'name': 'scary-face', 'url': 'https://pokeapi.co/api/v2/move/184/'}, {'name': 'mud-slap', 'url': 'https://pokeapi.co/api/v2/move/189/'}, {'name': 'zap-cannon', 'url': 'https://pokeapi.co/api/v2/move/192/'}, {'name': 'icy-wind', 'url': 'https://pokeapi.co/api/v2/move/196/'}, {'name': 'detect', 'url': 'https://pokeapi.co/api/v2/move/197/'}, {'name': 'sandstorm', 'url': 'https://pokeapi.co/api/v2/move/201/'}, {'name': 'endure', 'url': 'https://pokeapi.co/api/v2/move/203/'}, {'name': 'swagger', 'url': 'https://pokeapi.co/api/v2/move/207/'}, {'name': 'sleep-talk', 'url': 'https://pokeapi.co/api/v2/move/214/'}, {'name': 'return', 'url': 'https://pokeapi.co/api/v2/move/216/'}, {'name': 'frustration', 'url': 'https://pokeapi.co/api/v2/move/218/'}, {'name': 'safeguard', 'url': 'https://pokeapi.co/api/v2/move/219/'}, {'name': 'dynamic-punch', 'url': 'https://pokeapi.co/api/v2/move/223/'}, {'name': 'iron-tail', 'url': 'https://pokeapi.co/api/v2/move/231/'}, {'name': 'hidden-power', 'url': 'https://pokeapi.co/api/v2/move/237/'}, {'name': 'rain-dance', 'url': 'https://pokeapi.co/api/v2/move/240/'}, {'name': 'sunny-day', 'url': 'https://pokeapi.co/api/v2/move/241/'}, {'name': 'psych-up', 'url': 'https://pokeapi.co/api/v2/move/244/'}, {'name': 'ancient-power', 'url': 'https://pokeapi.co/api/v2/move/246/'}, {'name': 'shadow-ball', 'url': 'https://pokeapi.co/api/v2/move/247/'}, {'name': 'future-sight', 'url': 'https://pokeapi.co/api/v2/move/248/'}, {'name': 'rock-smash', 'url': 'https://pokeapi.co/api/v2/move/249/'}, {'name': 'hail', 'url': 'https://pokeapi.co/api/v2/move/258/'}, {'name': 'torment', 'url': 'https://pokeapi.co/api/v2/move/259/'}, {'name': 'will-o-wisp', 'url': 'https://pokeapi.co/api/v2/move/261/'}, {'name': 'facade', 'url': 'https://pokeapi.co/api/v2/move/263/'}, {'name': 'focus-punch', 'url': 'https://pokeapi.co/api/v2/move/264/'}, {'name': 'taunt', 'url': 'https://pokeapi.co/api/v2/move/269/'}, {'name': 'helping-hand', 'url': 'https://pokeapi.co/api/v2/move/270/'}, {'name': 'trick', 'url': 'https://pokeapi.co/api/v2/move/271/'}, {'name': 'role-play', 'url': 'https://pokeapi.co/api/v2/move/272/'}, {'name': 'magic-coat', 'url': 'https://pokeapi.co/api/v2/move/277/'}, {'name': 'recycle', 'url': 'https://pokeapi.co/api/v2/move/278/'}, {'name': 'brick-break', 'url': 'https://pokeapi.co/api/v2/move/280/'}, {'name': 'knock-off', 'url': 'https://pokeapi.co/api/v2/move/282/'}, {'name': 'skill-swap', 'url': 'https://pokeapi.co/api/v2/move/285/'}, {'name': 'imprison', 'url': 'https://pokeapi.co/api/v2/move/286/'}, {'name': 'snatch', 'url': 'https://pokeapi.co/api/v2/move/289/'}, {'name': 'secret-power', 'url': 'https://pokeapi.co/api/v2/move/290/'}, {'name': 'dive', 'url': 'https://pokeapi.co/api/v2/move/291/'}, {'name': 'weather-ball', 'url': 'https://pokeapi.co/api/v2/move/311/'}, {'name': 'rock-tomb', 'url': 'https://pokeapi.co/api/v2/move/317/'}, {'name': 'signal-beam', 'url': 'https://pokeapi.co/api/v2/move/324/'}, {'name': 'aerial-ace', 'url': 'https://pokeapi.co/api/v2/move/332/'}, {'name': 'bulk-up', 'url': 'https://pokeapi.co/api/v2/move/339/'}, {'name': 'calm-mind', 'url': 'https://pokeapi.co/api/v2/move/347/'}, {'name': 'shock-wave', 'url': 'https://pokeapi.co/api/v2/move/351/'}, {'name': 'water-pulse', 'url': 'https://pokeapi.co/api/v2/move/352/'}, {'name': 'gravity', 'url': 'https://pokeapi.co/api/v2/move/356/'}, {'name': 'miracle-eye', 'url': 'https://pokeapi.co/api/v2/move/357/'}, {'name': 'natural-gift', 'url': 'https://pokeapi.co/api/v2/move/363/'}, {'name': 'embargo', 'url': 'https://pokeapi.co/api/v2/move/373/'}, {'name': 'fling', 'url': 'https://pokeapi.co/api/v2/move/374/'}, {'name': 'me-first', 'url': 'https://pokeapi.co/api/v2/move/382/'}, {'name': 'power-swap', 'url': 'https://pokeapi.co/api/v2/move/384/'}, {'name': 'guard-swap', 'url': 'https://pokeapi.co/api/v2/move/385/'}, {'name': 'aura-sphere', 'url': 'https://pokeapi.co/api/v2/move/396/'}, {'name': 'poison-jab', 'url': 'https://pokeapi.co/api/v2/move/398/'}, {'name': 'dark-pulse', 'url': 'https://pokeapi.co/api/v2/move/399/'}, {'name': 'aqua-tail', 'url': 'https://pokeapi.co/api/v2/move/401/'}, {'name': 'power-gem', 'url': 'https://pokeapi.co/api/v2/move/408/'}, {'name': 'drain-punch', 'url': 'https://pokeapi.co/api/v2/move/409/'}, {'name': 'focus-blast', 'url': 'https://pokeapi.co/api/v2/move/411/'}, {'name': 'energy-ball', 'url': 'https://pokeapi.co/api/v2/move/412/'}, {'name': 'earth-power', 'url': 'https://pokeapi.co/api/v2/move/414/'}, {'name': 'giga-impact', 'url': 'https://pokeapi.co/api/v2/move/416/'}, {'name': 'nasty-plot', 'url': 'https://pokeapi.co/api/v2/move/417/'}, {'name': 'avalanche', 'url': 'https://pokeapi.co/api/v2/move/419/'}, {'name': 'psycho-cut', 'url': 'https://pokeapi.co/api/v2/move/427/'}, {'name': 'zen-headbutt', 'url': 'https://pokeapi.co/api/v2/move/428/'}, {'name': 'rock-climb', 'url': 'https://pokeapi.co/api/v2/move/431/'}, {'name': 'trick-room', 'url': 'https://pokeapi.co/api/v2/move/433/'}, {'name': 'stone-edge', 'url': 'https://pokeapi.co/api/v2/move/444/'}, {'name': 'grass-knot', 'url': 'https://pokeapi.co/api/v2/move/447/'}, {'name': 'charge-beam', 'url': 'https://pokeapi.co/api/v2/move/451/'}, {'name': 'wonder-room', 'url': 'https://pokeapi.co/api/v2/move/472/'}, {'name': 'psyshock', 'url': 'https://pokeapi.co/api/v2/move/473/'}, {'name': 'telekinesis', 'url': 'https://pokeapi.co/api/v2/move/477/'}, {'name': 'magic-room', 'url': 'https://pokeapi.co/api/v2/move/478/'}, {'name': 'electro-ball', 'url': 'https://pokeapi.co/api/v2/move/486/'}, {'name': 'low-sweep', 'url': 'https://pokeapi.co/api/v2/move/490/'}, {'name': 'foul-play', 'url': 'https://pokeapi.co/api/v2/move/492/'}, {'name': 'round', 'url': 'https://pokeapi.co/api/v2/move/496/'}, {'name': 'stored-power', 'url': 'https://pokeapi.co/api/v2/move/500/'}, {'name': 'ally-switch', 'url': 'https://pokeapi.co/api/v2/move/502/'}, {'name': 'hex', 'url': 'https://pokeapi.co/api/v2/move/506/'}, {'name': 'incinerate', 'url': 'https://pokeapi.co/api/v2/move/510/'}, {'name': 'bulldoze', 'url': 'https://pokeapi.co/api/v2/move/523/'}, {'name': 'psystrike', 'url': 'https://pokeapi.co/api/v2/move/540/'}, {'name': 'hurricane', 'url': 'https://pokeapi.co/api/v2/move/542/'}, {'name': 'confide', 'url': 'https://pokeapi.co/api/v2/move/590/'}, {'name': 'power-up-punch', 'url': 'https://pokeapi.co/api/v2/move/612/'}, {'name': 'laser-focus', 'url': 'https://pokeapi.co/api/v2/move/673/'}, {'name': 'psychic-terrain', 'url': 'https://pokeapi.co/api/v2/move/678/'}, {'name': 'speed-swap', 'url': 'https://pokeapi.co/api/v2/move/683/'}, {'name': 'brutal-swing', 'url': 'https://pokeapi.co/api/v2/move/693/'}, {'name': 'stomping-tantrum', 'url': 'https://pokeapi.co/api/v2/move/707/'}, {'name': 'life-dew', 'url': 'https://pokeapi.co/api/v2/move/791/'}, {'name': 'expanding-force', 'url': 'https://pokeapi.co/api/v2/move/797/'}, {'name': 'lash-out', 'url': 'https://pokeapi.co/api/v2/move/808/'}, {'name': 'tera-blast', 'url': 'https://pokeapi.co/api/v2/move/851/'}, {'name': 'trailblaze', 'url': 'https://pokeapi.co/api/v2/move/885/'}, {'name': 'chilling-water', 'url': 'https://pokeapi.co/api/v2/move/886/'}]}, 'garchomp': {'id': 445, 'name': 'garchomp', 'type1': 'dragon', 'type2': 'ground', 'moves': [{'name': 'swords-dance', 'url': 'https://pokeapi.co/api/v2/move/14/'}, {'name': 'cut', 'url': 'https://pokeapi.co/api/v2/move/15/'}, {'name': 'sand-attack', 'url': 'https://pokeapi.co/api/v2/move/28/'}, {'name': 'headbutt', 'url': 'https://pokeapi.co/api/v2/move/29/'}, {'name': 'tackle', 'url': 'https://pokeapi.co/api/v2/move/33/'}, {'name': 'body-slam', 'url': 'https://pokeapi.co/api/v2/move/34/'}, {'name': 'take-down', 'url': 'https://pokeapi.co/api/v2/move/36/'}, {'name': 'bite', 'url': 'https://pokeapi.co/api/v2/move/44/'}, {'name': 'roar', 'url': 'https://pokeapi.co/api/v2/move/46/'}, {'name': 'flamethrower', 'url': 'https://pokeapi.co/api/v2/move/53/'}, {'name': 'surf', 'url': 'https://pokeapi.co/api/v2/move/57/'}, {'name': 'hyper-beam', 'url': 'https://pokeapi.co/api/v2/move/63/'}, {'name': 'strength', 'url': 'https://pokeapi.co/api/v2/move/70/'}, {'name': 'dragon-rage', 'url': 'https://pokeapi.co/api/v2/move/82/'}, {'name': 'earthquake', 'url': 'https://pokeapi.co/api/v2/move/89/'}, {'name': 'dig', 'url': 'https://pokeapi.co/api/v2/move/91/'}, {'name': 'toxic', 'url': 'https://pokeapi.co/api/v2/move/92/'}, {'name': 'double-team', 'url': 'https://pokeapi.co/api/v2/move/104/'}, {'name': 'fire-blast', 'url': 'https://pokeapi.co/api/v2/move/126/'}, {'name': 'swift', 'url': 'https://pokeapi.co/api/v2/move/129/'}, {'name': 'rest', 'url': 'https://pokeapi.co/api/v2/move/156/'}, {'name': 'rock-slide', 'url': 'https://pokeapi.co/api/v2/move/157/'}, {'name': 'slash', 'url': 'https://pokeapi.co/api/v2/move/163/'}, {'name': 'substitute', 'url': 'https://pokeapi.co/api/v2/move/164/'}, {'name': 'snore', 'url': 'https://pokeapi.co/api/v2/move/173/'}, {'name': 'protect', 'url': 'https://pokeapi.co/api/v2/move/182/'}, {'name': 'scary-face', 'url': 'https://pokeapi.co/api/v2/move/184/'}, {'name': 'mud-slap', 'url': 'https://pokeapi.co/api/v2/move/189/'}, {'name': 'spikes', 'url': 'https://pokeapi.co/api/v2/move/191/'}, {'name': 'outrage', 'url': 'https://pokeapi.co/api/v2/move/200/'}, {'name': 'sandstorm', 'url': 'https://pokeapi.co/api/v2/move/201/'}, {'name': 'endure', 'url': 'https://pokeapi.co/api/v2/move/203/'}, {'name': 'false-swipe', 'url': 'https://pokeapi.co/api/v2/move/206/'}, {'name': 'swagger', 'url': 'https://pokeapi.co/api/v2/move/207/'}, {'name': 'fury-cutter', 'url': 'https://pokeapi.co/api/v2/move/210/'}, {'name': 'attract', 'url': 'https://pokeapi.co/api/v2/move/213/'}, {'name': 'sleep-talk', 'url': 'https://pokeapi.co/api/v2/move/214/'}, {'name': 'return', 'url': 'https://pokeapi.co/api/v2/move/216/'}, {'name': 'frustration', 'url': 'https://pokeapi.co/api/v2/move/218/'}, {'name': 'dragon-breath', 'url': 'https://pokeapi.co/api/v2/move/225/'}, {'name': 'iron-tail', 'url': 'https://pokeapi.co/api/v2/move/231/'}, {'name': 'metal-claw', 'url': 'https://pokeapi.co/api/v2/move/232/'}, {'name': 'hidden-power', 'url': 'https://pokeapi.co/api/v2/move/237/'}, {'name': 'twister', 'url': 'https://pokeapi.co/api/v2/move/239/'}, {'name': 'rain-dance', 'url': 'https://pokeapi.co/api/v2/move/240/'}, {'name': 'sunny-day', 'url': 'https://pokeapi.co/api/v2/move/241/'}, {'name': 'crunch', 'url': 'https://pokeapi.co/api/v2/move/242/'}, {'name': 'rock-smash', 'url': 'https://pokeapi.co/api/v2/move/249/'}, {'name': 'whirlpool', 'url': 'https://pokeapi.co/api/v2/move/250/'}, {'name': 'facade', 'url': 'https://pokeapi.co/api/v2/move/263/'}, {'name': 'helping-hand', 'url': 'https://pokeapi.co/api/v2/move/270/'}, {'name': 'brick-break', 'url': 'https://pokeapi.co/api/v2/move/280/'}, {'name': 'secret-power', 'url': 'https://pokeapi.co/api/v2/move/290/'}, {'name': 'rock-tomb', 'url': 'https://pokeapi.co/api/v2/move/317/'}, {'name': 'sand-tomb', 'url': 'https://pokeapi.co/api/v2/move/328/'}, {'name': 'aerial-ace', 'url': 'https://pokeapi.co/api/v2/move/332/'}, {'name': 'dragon-claw', 'url': 'https://pokeapi.co/api/v2/move/337/'}, {'name': 'mud-shot', 'url': 'https://pokeapi.co/api/v2/move/341/'}, {'name': 'natural-gift', 'url': 'https://pokeapi.co/api/v2/move/363/'}, {'name': 'fling', 'url': 'https://pokeapi.co/api/v2/move/374/'}, {'name': 'poison-jab', 'url': 'https://pokeapi.co/api/v2/move/398/'}, {'name': 'aqua-tail', 'url': 'https://pokeapi.co/api/v2/move/401/'}, {'name': 'dragon-pulse', 'url': 'https://pokeapi.co/api/v2/move/406/'}, {'name': 'dragon-rush', 'url': 'https://pokeapi.co/api/v2/move/407/'}, {'name': 'power-gem', 'url': 'https://pokeapi.co/api/v2/move/408/'}, {'name': 'earth-power', 'url': 'https://pokeapi.co/api/v2/move/414/'}, {'name': 'giga-impact', 'url': 'https://pokeapi.co/api/v2/move/416/'}, {'name': 'shadow-claw', 'url': 'https://pokeapi.co/api/v2/move/421/'}, {'name': 'thunder-fang', 'url': 'https://pokeapi.co/api/v2/move/422/'}, {'name': 'fire-fang', 'url': 'https://pokeapi.co/api/v2/move/424/'}, {'name': 'rock-climb', 'url': 'https://pokeapi.co/api/v2/move/431/'}, {'name': 'draco-meteor', 'url': 'https://pokeapi.co/api/v2/move/434/'}, {'name': 'iron-head', 'url': 'https://pokeapi.co/api/v2/move/442/'}, {'name': 'stone-edge', 'url': 'https://pokeapi.co/api/v2/move/444/'}, {'name': 'captivate', 'url': 'https://pokeapi.co/api/v2/move/445/'}, {'name': 'stealth-rock', 'url': 'https://pokeapi.co/api/v2/move/446/'}, {'name': 'hone-claws', 'url': 'https://pokeapi.co/api/v2/move/468/'}, {'name': 'round', 'url': 'https://pokeapi.co/api/v2/move/496/'}, {'name': 'incinerate', 'url': 'https://pokeapi.co/api/v2/move/510/'}, {'name': 'bulldoze', 'url': 'https://pokeapi.co/api/v2/move/523/'}, {'name': 'dragon-tail', 'url': 'https://pokeapi.co/api/v2/move/525/'}, {'name': 'dual-chop', 'url': 'https://pokeapi.co/api/v2/move/530/'}, {'name': 'confide', 'url': 'https://pokeapi.co/api/v2/move/590/'}, {'name': 'laser-focus', 'url': 'https://pokeapi.co/api/v2/move/673/'}, {'name': 'brutal-swing', 'url': 'https://pokeapi.co/api/v2/move/693/'}, {'name': 'stomping-tantrum', 'url': 'https://pokeapi.co/api/v2/move/707/'}, {'name': 'liquidation', 'url': 'https://pokeapi.co/api/v2/move/710/'}, {'name': 'breaking-swipe', 'url': 'https://pokeapi.co/api/v2/move/784/'}, {'name': 'scale-shot', 'url': 'https://pokeapi.co/api/v2/move/799/'}, {'name': 'scorching-sands', 'url': 'https://pokeapi.co/api/v2/move/815/'}, {'name': 'tera-blast', 'url': 'https://pokeapi.co/api/v2/move/851/'}]}}\n",
      "{'mega-punch': {'name': 'mega-punch', 'accuracy': 85, 'type': 'normal', 'power': 80, 'pp': 20}, 'fire-punch': {'name': 'fire-punch', 'accuracy': 100, 'type': 'fire', 'power': 75, 'pp': 15}, 'ice-punch': {'name': 'ice-punch', 'accuracy': 100, 'type': 'ice', 'power': 75, 'pp': 15}, 'thunder-punch': {'name': 'thunder-punch', 'accuracy': 100, 'type': 'electric', 'power': 75, 'pp': 15}, 'mega-kick': {'name': 'mega-kick', 'accuracy': 75, 'type': 'normal', 'power': 120, 'pp': 5}, 'headbutt': {'name': 'headbutt', 'accuracy': 100, 'type': 'normal', 'power': 70, 'pp': 15}, 'body-slam': {'name': 'body-slam', 'accuracy': 100, 'type': 'normal', 'power': 85, 'pp': 15}, 'take-down': {'name': 'take-down', 'accuracy': 85, 'type': 'normal', 'power': 90, 'pp': 20}, 'double-edge': {'name': 'double-edge', 'accuracy': 100, 'type': 'normal', 'power': 120, 'pp': 15}, 'disable': {'name': 'disable', 'accuracy': 100, 'type': 'normal', 'power': None, 'pp': 20}, 'hyper-beam': {'name': 'hyper-beam', 'accuracy': 90, 'type': 'normal', 'power': 150, 'pp': 5}, 'submission': {'name': 'submission', 'accuracy': 80, 'type': 'fighting', 'power': 80, 'pp': 20}, 'counter': {'name': 'counter', 'accuracy': 100, 'type': 'fighting', 'power': None, 'pp': 20}, 'seismic-toss': {'name': 'seismic-toss', 'accuracy': 100, 'type': 'fighting', 'power': None, 'pp': 20}, 'strength': {'name': 'strength', 'accuracy': 100, 'type': 'normal', 'power': 80, 'pp': 15}, 'mega-drain': {'name': 'mega-drain', 'accuracy': 100, 'type': 'grass', 'power': 40, 'pp': 15}, 'thunderbolt': {'name': 'thunderbolt', 'accuracy': 100, 'type': 'electric', 'power': 90, 'pp': 15}, 'thunder-wave': {'name': 'thunder-wave', 'accuracy': 90, 'type': 'electric', 'power': None, 'pp': 20}, 'thunder': {'name': 'thunder', 'accuracy': 70, 'type': 'electric', 'power': 110, 'pp': 10}, 'toxic': {'name': 'toxic', 'accuracy': 90, 'type': 'poison', 'power': None, 'pp': 10}, 'psychic': {'name': 'psychic', 'accuracy': 100, 'type': 'psychic', 'power': 90, 'pp': 10}, 'hypnosis': {'name': 'hypnosis', 'accuracy': 60, 'type': 'psychic', 'power': None, 'pp': 20}, 'rage': {'name': 'rage', 'accuracy': 100, 'type': 'normal', 'power': 20, 'pp': 20}, 'night-shade': {'name': 'night-shade', 'accuracy': 100, 'type': 'ghost', 'power': None, 'pp': 15}, 'mimic': {'name': 'mimic', 'accuracy': None, 'type': 'normal', 'power': None, 'pp': 10}, 'double-team': {'name': 'double-team', 'accuracy': None, 'type': 'normal', 'power': None, 'pp': 15}, 'confuse-ray': {'name': 'confuse-ray', 'accuracy': 100, 'type': 'ghost', 'power': None, 'pp': 10}, 'haze': {'name': 'haze', 'accuracy': None, 'type': 'ice', 'power': None, 'pp': 30}, 'bide': {'name': 'bide', 'accuracy': None, 'type': 'normal', 'power': None, 'pp': 10}, 'metronome': {'name': 'metronome', 'accuracy': None, 'type': 'normal', 'power': None, 'pp': 10}, 'self-destruct': {'name': 'self-destruct', 'accuracy': 100, 'type': 'normal', 'power': 200, 'pp': 5}, 'lick': {'name': 'lick', 'accuracy': 100, 'type': 'ghost', 'power': 30, 'pp': 30}, 'smog': {'name': 'smog', 'accuracy': 70, 'type': 'poison', 'power': 30, 'pp': 20}, 'skull-bash': {'name': 'skull-bash', 'accuracy': 100, 'type': 'normal', 'power': 130, 'pp': 10}, 'dream-eater': {'name': 'dream-eater', 'accuracy': 100, 'type': 'psychic', 'power': 100, 'pp': 15}, 'poison-gas': {'name': 'poison-gas', 'accuracy': 90, 'type': 'poison', 'power': None, 'pp': 40}, 'psywave': {'name': 'psywave', 'accuracy': 100, 'type': 'psychic', 'power': None, 'pp': 15}, 'explosion': {'name': 'explosion', 'accuracy': 100, 'type': 'normal', 'power': 250, 'pp': 5}, 'rest': {'name': 'rest', 'accuracy': None, 'type': 'psychic', 'power': None, 'pp': 10}, 'substitute': {'name': 'substitute', 'accuracy': None, 'type': 'normal', 'power': None, 'pp': 10}, 'thief': {'name': 'thief', 'accuracy': 100, 'type': 'dark', 'power': 60, 'pp': 25}, 'nightmare': {'name': 'nightmare', 'accuracy': 100, 'type': 'ghost', 'power': None, 'pp': 15}, 'snore': {'name': 'snore', 'accuracy': 100, 'type': 'normal', 'power': 50, 'pp': 15}, 'curse': {'name': 'curse', 'accuracy': None, 'type': 'ghost', 'power': None, 'pp': 10}, 'spite': {'name': 'spite', 'accuracy': 100, 'type': 'ghost', 'power': None, 'pp': 10}, 'protect': {'name': 'protect', 'accuracy': None, 'type': 'normal', 'power': None, 'pp': 10}, 'scary-face': {'name': 'scary-face', 'accuracy': 100, 'type': 'normal', 'power': None, 'pp': 10}, 'sludge-bomb': {'name': 'sludge-bomb', 'accuracy': 100, 'type': 'poison', 'power': 90, 'pp': 10}, 'zap-cannon': {'name': 'zap-cannon', 'accuracy': 50, 'type': 'electric', 'power': 120, 'pp': 5}, 'destiny-bond': {'name': 'destiny-bond', 'accuracy': None, 'type': 'ghost', 'power': None, 'pp': 5}, 'perish-song': {'name': 'perish-song', 'accuracy': None, 'type': 'normal', 'power': None, 'pp': 5}, 'icy-wind': {'name': 'icy-wind', 'accuracy': 95, 'type': 'ice', 'power': 55, 'pp': 15}, 'giga-drain': {'name': 'giga-drain', 'accuracy': 100, 'type': 'grass', 'power': 75, 'pp': 10}, 'endure': {'name': 'endure', 'accuracy': None, 'type': 'normal', 'power': None, 'pp': 10}, 'swagger': {'name': 'swagger', 'accuracy': 85, 'type': 'normal', 'power': None, 'pp': 15}, 'mean-look': {'name': 'mean-look', 'accuracy': None, 'type': 'normal', 'power': None, 'pp': 5}, 'attract': {'name': 'attract', 'accuracy': 100, 'type': 'normal', 'power': None, 'pp': 15}, 'sleep-talk': {'name': 'sleep-talk', 'accuracy': None, 'type': 'normal', 'power': None, 'pp': 10}, 'return': {'name': 'return', 'accuracy': 100, 'type': 'normal', 'power': None, 'pp': 20}, 'frustration': {'name': 'frustration', 'accuracy': 100, 'type': 'normal', 'power': None, 'pp': 20}, 'pain-split': {'name': 'pain-split', 'accuracy': None, 'type': 'normal', 'power': None, 'pp': 20}, 'dynamic-punch': {'name': 'dynamic-punch', 'accuracy': 50, 'type': 'fighting', 'power': 100, 'pp': 5}, 'encore': {'name': 'encore', 'accuracy': 100, 'type': 'normal', 'power': None, 'pp': 5}, 'hidden-power': {'name': 'hidden-power', 'accuracy': 100, 'type': 'normal', 'power': 60, 'pp': 15}, 'rain-dance': {'name': 'rain-dance', 'accuracy': None, 'type': 'water', 'power': None, 'pp': 5}, 'sunny-day': {'name': 'sunny-day', 'accuracy': None, 'type': 'fire', 'power': None, 'pp': 5}, 'psych-up': {'name': 'psych-up', 'accuracy': None, 'type': 'normal', 'power': None, 'pp': 10}, 'shadow-ball': {'name': 'shadow-ball', 'accuracy': 100, 'type': 'ghost', 'power': 80, 'pp': 15}, 'rock-smash': {'name': 'rock-smash', 'accuracy': 100, 'type': 'fighting', 'power': 40, 'pp': 15}, 'uproar': {'name': 'uproar', 'accuracy': 100, 'type': 'normal', 'power': 90, 'pp': 10}, 'torment': {'name': 'torment', 'accuracy': 100, 'type': 'dark', 'power': None, 'pp': 15}, 'will-o-wisp': {'name': 'will-o-wisp', 'accuracy': 85, 'type': 'fire', 'power': None, 'pp': 15}, 'facade': {'name': 'facade', 'accuracy': 100, 'type': 'normal', 'power': 70, 'pp': 20}, 'focus-punch': {'name': 'focus-punch', 'accuracy': 100, 'type': 'fighting', 'power': 150, 'pp': 20}, 'taunt': {'name': 'taunt', 'accuracy': 100, 'type': 'dark', 'power': None, 'pp': 20}, 'trick': {'name': 'trick', 'accuracy': 100, 'type': 'psychic', 'power': None, 'pp': 10}, 'role-play': {'name': 'role-play', 'accuracy': None, 'type': 'psychic', 'power': None, 'pp': 10}, 'brick-break': {'name': 'brick-break', 'accuracy': 100, 'type': 'fighting', 'power': 75, 'pp': 15}, 'knock-off': {'name': 'knock-off', 'accuracy': 100, 'type': 'dark', 'power': 65, 'pp': 20}, 'skill-swap': {'name': 'skill-swap', 'accuracy': None, 'type': 'psychic', 'power': None, 'pp': 10}, 'imprison': {'name': 'imprison', 'accuracy': None, 'type': 'psychic', 'power': None, 'pp': 10}, 'snatch': {'name': 'snatch', 'accuracy': None, 'type': 'dark', 'power': None, 'pp': 10}, 'secret-power': {'name': 'secret-power', 'accuracy': 100, 'type': 'normal', 'power': 70, 'pp': 20}, 'shadow-punch': {'name': 'shadow-punch', 'accuracy': None, 'type': 'ghost', 'power': 60, 'pp': 20}, 'natural-gift': {'name': 'natural-gift', 'accuracy': 100, 'type': 'normal', 'power': None, 'pp': 15}, 'payback': {'name': 'payback', 'accuracy': 100, 'type': 'dark', 'power': 50, 'pp': 10}, 'embargo': {'name': 'embargo', 'accuracy': 100, 'type': 'dark', 'power': None, 'pp': 15}, 'fling': {'name': 'fling', 'accuracy': 100, 'type': 'dark', 'power': None, 'pp': 10}, 'sucker-punch': {'name': 'sucker-punch', 'accuracy': 100, 'type': 'dark', 'power': 70, 'pp': 5}, 'toxic-spikes': {'name': 'toxic-spikes', 'accuracy': None, 'type': 'poison', 'power': None, 'pp': 20}, 'poison-jab': {'name': 'poison-jab', 'accuracy': 100, 'type': 'poison', 'power': 80, 'pp': 20}, 'dark-pulse': {'name': 'dark-pulse', 'accuracy': 100, 'type': 'dark', 'power': 80, 'pp': 15}, 'drain-punch': {'name': 'drain-punch', 'accuracy': 100, 'type': 'fighting', 'power': 75, 'pp': 10}, 'focus-blast': {'name': 'focus-blast', 'accuracy': 70, 'type': 'fighting', 'power': 120, 'pp': 5}, 'energy-ball': {'name': 'energy-ball', 'accuracy': 100, 'type': 'grass', 'power': 90, 'pp': 10}, 'giga-impact': {'name': 'giga-impact', 'accuracy': 90, 'type': 'normal', 'power': 150, 'pp': 5}, 'nasty-plot': {'name': 'nasty-plot', 'accuracy': None, 'type': 'dark', 'power': None, 'pp': 20}, 'shadow-claw': {'name': 'shadow-claw', 'accuracy': 100, 'type': 'ghost', 'power': 70, 'pp': 15}, 'trick-room': {'name': 'trick-room', 'accuracy': None, 'type': 'psychic', 'power': None, 'pp': 5}, 'gunk-shot': {'name': 'gunk-shot', 'accuracy': 80, 'type': 'poison', 'power': 120, 'pp': 5}, 'captivate': {'name': 'captivate', 'accuracy': 100, 'type': 'normal', 'power': None, 'pp': 20}, 'ominous-wind': {'name': 'ominous-wind', 'accuracy': 100, 'type': 'ghost', 'power': 60, 'pp': 5}, 'wonder-room': {'name': 'wonder-room', 'accuracy': None, 'type': 'psychic', 'power': None, 'pp': 10}, 'venoshock': {'name': 'venoshock', 'accuracy': 100, 'type': 'poison', 'power': 65, 'pp': 10}, 'telekinesis': {'name': 'telekinesis', 'accuracy': None, 'type': 'psychic', 'power': None, 'pp': 15}, 'sludge-wave': {'name': 'sludge-wave', 'accuracy': 100, 'type': 'poison', 'power': 95, 'pp': 10}, 'acid-spray': {'name': 'acid-spray', 'accuracy': 100, 'type': 'poison', 'power': 40, 'pp': 20}, 'foul-play': {'name': 'foul-play', 'accuracy': 100, 'type': 'dark', 'power': 95, 'pp': 15}, 'round': {'name': 'round', 'accuracy': 100, 'type': 'normal', 'power': 60, 'pp': 15}, 'ally-switch': {'name': 'ally-switch', 'accuracy': None, 'type': 'psychic', 'power': None, 'pp': 15}, 'hex': {'name': 'hex', 'accuracy': 100, 'type': 'ghost', 'power': 65, 'pp': 10}, 'reflect-type': {'name': 'reflect-type', 'accuracy': None, 'type': 'normal', 'power': None, 'pp': 15}, 'phantom-force': {'name': 'phantom-force', 'accuracy': 100, 'type': 'ghost', 'power': 90, 'pp': 10}, 'confide': {'name': 'confide', 'accuracy': None, 'type': 'normal', 'power': None, 'pp': 20}, 'dazzling-gleam': {'name': 'dazzling-gleam', 'accuracy': 100, 'type': 'fairy', 'power': 80, 'pp': 10}, 'infestation': {'name': 'infestation', 'accuracy': 100, 'type': 'bug', 'power': 20, 'pp': 20}, 'power-up-punch': {'name': 'power-up-punch', 'accuracy': 100, 'type': 'fighting', 'power': 40, 'pp': 20}, 'laser-focus': {'name': 'laser-focus', 'accuracy': None, 'type': 'normal', 'power': None, 'pp': 30}, 'skitter-smack': {'name': 'skitter-smack', 'accuracy': 90, 'type': 'bug', 'power': 70, 'pp': 10}, 'poltergeist': {'name': 'poltergeist', 'accuracy': 90, 'type': 'ghost', 'power': 110, 'pp': 5}, 'corrosive-gas': {'name': 'corrosive-gas', 'accuracy': 100, 'type': 'poison', 'power': None, 'pp': 40}, 'tera-blast': {'name': 'tera-blast', 'accuracy': 100, 'type': 'normal', 'power': 80, 'pp': 10}}\n"
     ]
    }
   ],
   "source": [
    "# Solicitudes para obtener datos de un Pokémon\n",
    "pokemon_data_dict = {}\n",
    "movs_data_dict = {}\n",
    "for pokemon in pokemons:\n",
    "    # Datos del Pokémon\n",
    "    pokemon_url = f'https://pokeapi.co/api/v2/pokemon/{pokemon}'\n",
    "    pokemon_response = requests.get(pokemon_url)\n",
    "    pokemon_data = pokemon_response.json()\n",
    "    movesp = [{'name': move['move']['name'], 'url': move['move']['url']} for move in pokemon_data['moves']]\n",
    "    types = [type_info['type']['name'] for type_info in pokemon_data['types']]\n",
    "    pokemon_info = {\n",
    "        'id': pokemon_data['id'],\n",
    "        'name': pokemon_data['name'],\n",
    "        'type1': types[0] if len(types) > 0 else None,\n",
    "        'type2': types[1] if len(types) > 1 else None,\n",
    "        'moves': movesp\n",
    "        }\n",
    "    pokemon_data_dict[pokemon] = pokemon_info\n",
    "for move in moves: \n",
    "    # Realiza la solicitud a la API para obtener detalles del movimiento\n",
    "    moves_response = requests.get(move['url'])\n",
    "    move_data = moves_response.json()\n",
    "    # Extrae los datos solicitados del movimiento\n",
    "    move_map = {\n",
    "        'name': move_data['name'],\n",
    "        'accuracy': move_data['accuracy'],\n",
    "        'type': move_data['type']['name'],\n",
    "        'power': move_data['power'],\n",
    "        'pp': move_data['pp']\n",
    "    }\n",
    "    movs_data_dict[move['name']] = move_map\n",
    "print(pokemon_data_dict)\n",
    "print(movs_data_dict)"
   ]
  },
  {
   "cell_type": "markdown",
   "metadata": {},
   "source": [
    "# Evolucion a  Tabular"
   ]
  },
  {
   "cell_type": "markdown",
   "metadata": {},
   "source": [
    "Ahora para cada request (`pokemon` y `movimiento`) convierte su informacion a datos tabulares. Toma en cuenta que vamos a realizar operaciones sobre esos DataFrames, por lo tanto tienes que elegir un formato adecuado.  \n",
    "Para cada pokemon, y para cada movimiento debe existir un `DataFrame`"
   ]
  },
  {
   "cell_type": "code",
   "execution_count": 29,
   "metadata": {},
   "outputs": [
    {
     "name": "stdout",
     "output_type": "stream",
     "text": [
      "DataFrame de Pokémon:\n",
      "            id       name     type1   type2  \\\n",
      "lucario    448    lucario  fighting   steel   \n",
      "pikachu     25    pikachu  electric    None   \n",
      "gengar      94     gengar     ghost  poison   \n",
      "charizard    6  charizard      fire  flying   \n",
      "blastoise    9  blastoise     water    None   \n",
      "venusaur     3   venusaur     grass  poison   \n",
      "dragonite  149  dragonite    dragon  flying   \n",
      "mew        151        mew   psychic    None   \n",
      "mewtwo     150     mewtwo   psychic    None   \n",
      "garchomp   445   garchomp    dragon  ground   \n",
      "\n",
      "                                                       moves  \n",
      "lucario    [{'name': 'mega-punch', 'url': 'https://pokeap...  \n",
      "pikachu    [{'name': 'mega-punch', 'url': 'https://pokeap...  \n",
      "gengar     [{'name': 'mega-punch', 'url': 'https://pokeap...  \n",
      "charizard  [{'name': 'mega-punch', 'url': 'https://pokeap...  \n",
      "blastoise  [{'name': 'mega-punch', 'url': 'https://pokeap...  \n",
      "venusaur   [{'name': 'swords-dance', 'url': 'https://poke...  \n",
      "dragonite  [{'name': 'mega-punch', 'url': 'https://pokeap...  \n",
      "mew        [{'name': 'pound', 'url': 'https://pokeapi.co/...  \n",
      "mewtwo     [{'name': 'mega-punch', 'url': 'https://pokeap...  \n",
      "garchomp   [{'name': 'swords-dance', 'url': 'https://poke...  \n",
      "\n",
      "DataFrame de Movimientos:\n",
      "                        name  accuracy      type  power  pp\n",
      "mega-punch        mega-punch      85.0    normal   80.0  20\n",
      "fire-punch        fire-punch     100.0      fire   75.0  15\n",
      "ice-punch          ice-punch     100.0       ice   75.0  15\n",
      "thunder-punch  thunder-punch     100.0  electric   75.0  15\n",
      "mega-kick          mega-kick      75.0    normal  120.0   5\n",
      "...                      ...       ...       ...    ...  ..\n",
      "laser-focus      laser-focus       NaN    normal    NaN  30\n",
      "skitter-smack  skitter-smack      90.0       bug   70.0  10\n",
      "poltergeist      poltergeist      90.0     ghost  110.0   5\n",
      "corrosive-gas  corrosive-gas     100.0    poison    NaN  40\n",
      "tera-blast        tera-blast     100.0    normal   80.0  10\n",
      "\n",
      "[122 rows x 5 columns]\n"
     ]
    }
   ],
   "source": [
    "# Crear un DataFrame para los Pokémon\n",
    "pokemon_df = pd.DataFrame.from_dict(pokemon_data_dict, orient='index')\n",
    "\n",
    "# Crear un DataFrame para los movimientos\n",
    "moves_df = pd.DataFrame.from_dict(movs_data_dict, orient='index')\n",
    "\n",
    "# Mostrar los DataFrames\n",
    "print(\"DataFrame de Pokémon:\")\n",
    "print(pokemon_df)\n",
    "\n",
    "print(\"\\nDataFrame de Movimientos:\")\n",
    "print(moves_df)"
   ]
  },
  {
   "cell_type": "markdown",
   "metadata": {},
   "source": [
    "# Union de Informacion"
   ]
  },
  {
   "cell_type": "markdown",
   "metadata": {},
   "source": [
    "1. Obten el nombre y caracteristicas de todos lo movimientos que aparecen en por lo menos 3 pokemons de los de la lista, y guarda los datos de movimiento en un solo `DataFrame`"
   ]
  },
  {
   "cell_type": "code",
   "execution_count": 30,
   "metadata": {},
   "outputs": [
    {
     "name": "stdout",
     "output_type": "stream",
     "text": [
      "DataFrame de Movimientos Frecuentes:\n",
      "                          name  accuracy      type  power  pp\n",
      "mega-punch          mega-punch      85.0    normal   80.0  20\n",
      "fire-punch          fire-punch     100.0      fire   75.0  15\n",
      "ice-punch            ice-punch     100.0       ice   75.0  15\n",
      "thunder-punch    thunder-punch     100.0  electric   75.0  15\n",
      "mega-kick            mega-kick      75.0    normal  120.0   5\n",
      "...                        ...       ...       ...    ...  ..\n",
      "hex                        hex     100.0     ghost   65.0  10\n",
      "confide                confide       NaN    normal    NaN  20\n",
      "power-up-punch  power-up-punch     100.0  fighting   40.0  20\n",
      "laser-focus        laser-focus       NaN    normal    NaN  30\n",
      "tera-blast          tera-blast     100.0    normal   80.0  10\n",
      "\n",
      "[99 rows x 5 columns]\n"
     ]
    }
   ],
   "source": [
    "# Obtener la lista de movimientos que aparecen en al menos 3 Pokémon\n",
    "movimientos_comunes = set()\n",
    "\n",
    "for moves_lista in pokemon_df['moves']:\n",
    "    for move in moves_lista:\n",
    "        movimientos_comunes.add(move['name'])\n",
    "\n",
    "movimientos_frecuentes = [move for move in movimientos_comunes if sum(pokemon_df['moves'].apply(lambda x: move in [m['name'] for m in x])) >= 3]\n",
    "\n",
    "# Filtrar el DataFrame de movimientos\n",
    "movimientos_frecuentes_df = moves_df[moves_df['name'].isin(movimientos_frecuentes)]\n",
    "\n",
    "# Mostrar el DataFrame de movimientos frecuentes\n",
    "print(\"DataFrame de Movimientos Frecuentes:\")\n",
    "print(movimientos_frecuentes_df)"
   ]
  },
  {
   "cell_type": "markdown",
   "metadata": {},
   "source": [
    "1.1 Salva los datos en un archivo csv"
   ]
  },
  {
   "cell_type": "code",
   "execution_count": 31,
   "metadata": {},
   "outputs": [],
   "source": [
    "movimientos_frecuentes_df.to_csv('pokemon_moves_3.csv',index=False)"
   ]
  },
  {
   "cell_type": "markdown",
   "metadata": {},
   "source": [
    "2. Obten el nombre y caracteristicas todos los moviemientos que no se repiten en ningun otro pokemon, osea son movimientos unicos para un solo pokemon"
   ]
  },
  {
   "cell_type": "code",
   "execution_count": 32,
   "metadata": {},
   "outputs": [
    {
     "name": "stdout",
     "output_type": "stream",
     "text": [
      "DataFrame de Movimientos Frecuentes:\n",
      "                      name  accuracy    type  power  pp\n",
      "lick                  lick     100.0   ghost   30.0  30\n",
      "smog                  smog      70.0  poison   30.0  20\n",
      "poison-gas      poison-gas      90.0  poison    NaN  40\n",
      "destiny-bond  destiny-bond       NaN   ghost    NaN   5\n",
      "perish-song    perish-song       NaN  normal    NaN   5\n",
      "mean-look        mean-look       NaN  normal    NaN   5\n",
      "shadow-punch  shadow-punch       NaN   ghost   60.0  20\n"
     ]
    }
   ],
   "source": [
    "movimientos_unicos = [move for move in movimientos_comunes if sum(pokemon_df['moves'].apply(lambda x: move in [m['name'] for m in x])) == 1]\n",
    "\n",
    "# Filtrar el DataFrame de movimientos\n",
    "movimientos_unicos_df = moves_df[moves_df['name'].isin(movimientos_unicos)]\n",
    "\n",
    "# Mostrar el DataFrame de movimientos frecuentes\n",
    "print(\"DataFrame de Movimientos Frecuentes:\")\n",
    "print(movimientos_unicos_df)"
   ]
  },
  {
   "cell_type": "markdown",
   "metadata": {},
   "source": [
    "2.2 Salvalos a un csv"
   ]
  },
  {
   "cell_type": "code",
   "execution_count": 33,
   "metadata": {},
   "outputs": [],
   "source": [
    "movimientos_unicos_df.to_csv('unrepeated_moves.csv',index=False)"
   ]
  },
  {
   "cell_type": "markdown",
   "metadata": {},
   "source": [
    "# Manejo de tipos"
   ]
  },
  {
   "cell_type": "markdown",
   "metadata": {},
   "source": [
    "Para cada tipo de pokemon (fire, water, grass, etc) que aparecen en los datos. Obten una serie de dataframes que contengan a los pokemones que son de cada tipo. Y colocalos en un diccionarion donde la llave (`key`) es el tipo"
   ]
  },
  {
   "cell_type": "code",
   "execution_count": 43,
   "metadata": {},
   "outputs": [
    {
     "name": "stdout",
     "output_type": "stream",
     "text": [
      "Tipo: dragon\n",
      "            id       name   type1   type2  \\\n",
      "dragonite  149  dragonite  dragon  flying   \n",
      "garchomp   445   garchomp  dragon  ground   \n",
      "\n",
      "                                                       moves  \n",
      "dragonite  [{'name': 'mega-punch', 'url': 'https://pokeap...  \n",
      "garchomp   [{'name': 'swords-dance', 'url': 'https://poke...  \n",
      "\n",
      "\n",
      "Tipo: ghost\n",
      "        id    name  type1   type2  \\\n",
      "gengar  94  gengar  ghost  poison   \n",
      "\n",
      "                                                    moves  \n",
      "gengar  [{'name': 'mega-punch', 'url': 'https://pokeap...  \n",
      "\n",
      "\n",
      "Tipo: poison\n",
      "          id      name  type1   type2  \\\n",
      "gengar    94    gengar  ghost  poison   \n",
      "venusaur   3  venusaur  grass  poison   \n",
      "\n",
      "                                                      moves  \n",
      "gengar    [{'name': 'mega-punch', 'url': 'https://pokeap...  \n",
      "venusaur  [{'name': 'swords-dance', 'url': 'https://poke...  \n",
      "\n",
      "\n",
      "Tipo: water\n",
      "           id       name  type1 type2  \\\n",
      "blastoise   9  blastoise  water  None   \n",
      "\n",
      "                                                       moves  \n",
      "blastoise  [{'name': 'mega-punch', 'url': 'https://pokeap...  \n",
      "\n",
      "\n",
      "Tipo: steel\n",
      "          id     name     type1  type2  \\\n",
      "lucario  448  lucario  fighting  steel   \n",
      "\n",
      "                                                     moves  \n",
      "lucario  [{'name': 'mega-punch', 'url': 'https://pokeap...  \n",
      "\n",
      "\n",
      "Tipo: flying\n",
      "            id       name   type1   type2  \\\n",
      "charizard    6  charizard    fire  flying   \n",
      "dragonite  149  dragonite  dragon  flying   \n",
      "\n",
      "                                                       moves  \n",
      "charizard  [{'name': 'mega-punch', 'url': 'https://pokeap...  \n",
      "dragonite  [{'name': 'mega-punch', 'url': 'https://pokeap...  \n",
      "\n",
      "\n",
      "Tipo: psychic\n",
      "         id    name    type1 type2  \\\n",
      "mew     151     mew  psychic  None   \n",
      "mewtwo  150  mewtwo  psychic  None   \n",
      "\n",
      "                                                    moves  \n",
      "mew     [{'name': 'pound', 'url': 'https://pokeapi.co/...  \n",
      "mewtwo  [{'name': 'mega-punch', 'url': 'https://pokeap...  \n",
      "\n",
      "\n",
      "Tipo: ground\n",
      "           id      name   type1   type2  \\\n",
      "garchomp  445  garchomp  dragon  ground   \n",
      "\n",
      "                                                      moves  \n",
      "garchomp  [{'name': 'swords-dance', 'url': 'https://poke...  \n",
      "\n",
      "\n",
      "Tipo: grass\n",
      "          id      name  type1   type2  \\\n",
      "venusaur   3  venusaur  grass  poison   \n",
      "\n",
      "                                                      moves  \n",
      "venusaur  [{'name': 'swords-dance', 'url': 'https://poke...  \n",
      "\n",
      "\n",
      "Tipo: fire\n",
      "           id       name type1   type2  \\\n",
      "charizard   6  charizard  fire  flying   \n",
      "\n",
      "                                                       moves  \n",
      "charizard  [{'name': 'mega-punch', 'url': 'https://pokeap...  \n",
      "\n",
      "\n",
      "Tipo: electric\n",
      "         id     name     type1 type2  \\\n",
      "pikachu  25  pikachu  electric  None   \n",
      "\n",
      "                                                     moves  \n",
      "pikachu  [{'name': 'mega-punch', 'url': 'https://pokeap...  \n",
      "\n",
      "\n",
      "Tipo: fighting\n",
      "          id     name     type1  type2  \\\n",
      "lucario  448  lucario  fighting  steel   \n",
      "\n",
      "                                                     moves  \n",
      "lucario  [{'name': 'mega-punch', 'url': 'https://pokeap...  \n",
      "\n",
      "\n",
      "<class 'dict'>\n"
     ]
    }
   ],
   "source": [
    "df_tipos = {}\n",
    "\n",
    "# Obtener todos los tipos de Pokémon presentes en el DataFrame de Pokémon\n",
    "tipos_pokemon = set(pokemon_df['type1'].dropna().unique())\n",
    "tipos_pokemon.update(pokemon_df['type2'].dropna().unique())\n",
    "\n",
    "# Crear un DataFrame para cada tipo y almacenarlo en el diccionario df_tipos\n",
    "for tipo in tipos_pokemon:\n",
    "    # Filtrar Pokémon que son de un tipo específico en type1 o type2\n",
    "    tipo_df = pokemon_df[(pokemon_df['type1'] == tipo) | (pokemon_df['type2'] == tipo)]\n",
    "    \n",
    "    # Almacenar el DataFrame en el diccionario\n",
    "    df_tipos[tipo] = tipo_df\n",
    "\n",
    "# Mostrar el diccionario de DataFrames por tipo\n",
    "for tipo, df in df_tipos.items():\n",
    "    print(f\"Tipo: {tipo}\")\n",
    "    print(df)\n",
    "    print(\"\\n\")"
   ]
  },
  {
   "cell_type": "markdown",
   "metadata": {},
   "source": [
    "Despues guara ese diccionario en un json llamado `tipos.json`"
   ]
  },
  {
   "cell_type": "code",
   "execution_count": 44,
   "metadata": {},
   "outputs": [],
   "source": [
    "# Convertir DataFrames a lista de diccionarios\n",
    "df_tipos_serializable = {tipo: df.to_dict(orient='records') for tipo, df in df_tipos.items()}\n",
    "\n",
    "# Guardar el diccionario serializable en un archivo JSON\n",
    "with open('pokemon_types.json', 'w') as json_file:\n",
    "    json.dump(df_tipos_serializable, json_file)"
   ]
  },
  {
   "cell_type": "markdown",
   "metadata": {},
   "source": [
    "# Seleccion de Pokemones"
   ]
  },
  {
   "cell_type": "markdown",
   "metadata": {},
   "source": [
    "Ahora crea un DataFrame que para cada pokemon unicamente contenga los movimientos que son de su tipo (osea si es tipo fuego y voldaor solo usa movimientos de tipo volador y fuego). Y crea una tabla donde tengan los siguientes datos en formato `tidydata`:\n",
    "1. `pokemon_id`\n",
    "2. `pokemon_name`\n",
    "3. `type`(s) cada pokemon tiene a 1 o dos tipos (no mas). Tienes que guardar ambos  \n",
    "4. `name` (del movimiento)\n",
    "5. `accuracy`\n",
    "6. `type`\n",
    "7. `power`\n",
    "8. `pp`"
   ]
  },
  {
   "cell_type": "code",
   "execution_count": 48,
   "metadata": {},
   "outputs": [
    {
     "name": "stdout",
     "output_type": "stream",
     "text": [
      "DataFrame Tidy:\n",
      "     pokemon_id pokemon_name               type           name  accuracy  \\\n",
      "0           448      lucario  [fighting, steel]     mega-punch      85.0   \n",
      "1           448      lucario  [fighting, steel]      ice-punch     100.0   \n",
      "2           448      lucario  [fighting, steel]  thunder-punch     100.0   \n",
      "3           448      lucario  [fighting, steel]      mega-kick      75.0   \n",
      "4           448      lucario  [fighting, steel]       headbutt     100.0   \n",
      "..          ...          ...                ...            ...       ...   \n",
      "648         445     garchomp   [dragon, ground]      captivate     100.0   \n",
      "649         445     garchomp   [dragon, ground]          round     100.0   \n",
      "650         445     garchomp   [dragon, ground]        confide       NaN   \n",
      "651         445     garchomp   [dragon, ground]    laser-focus       NaN   \n",
      "652         445     garchomp   [dragon, ground]     tera-blast     100.0   \n",
      "\n",
      "    move_type  power  pp  \n",
      "0      normal   80.0  20  \n",
      "1         ice   75.0  15  \n",
      "2    electric   75.0  15  \n",
      "3      normal  120.0   5  \n",
      "4      normal   70.0  15  \n",
      "..        ...    ...  ..  \n",
      "648    normal    NaN  20  \n",
      "649    normal   60.0  15  \n",
      "650    normal    NaN  20  \n",
      "651    normal    NaN  30  \n",
      "652    normal   80.0  10  \n",
      "\n",
      "[653 rows x 8 columns]\n"
     ]
    }
   ],
   "source": [
    "# Crear un DataFrame tidy con la información requerida\n",
    "tidy_data_list = []\n",
    "\n",
    "# Iterar sobre cada Pokémon y sus movimientos\n",
    "for pokemon, info in pokemon_data_dict.items():\n",
    "    pokemon_id = info['id']\n",
    "    pokemon_name = info['name']\n",
    "    \n",
    "    # Obtener tipos directamente de las columnas type1 y type2\n",
    "    type1 = pokemon_df.loc[pokemon, 'type1']\n",
    "    type2 = pokemon_df.loc[pokemon, 'type2']\n",
    "\n",
    "    types = [type1]\n",
    "    if not pd.isnull(type2):\n",
    "        types.append(type2)\n",
    "\n",
    "    # Iterar sobre los movimientos del Pokémon\n",
    "    for move_info in info['moves']:\n",
    "        move_name = move_info['name']\n",
    "        \n",
    "        # Obtener información del movimiento desde el DataFrame\n",
    "        move_data = movimientos_por_tipo[types[0]].loc[movimientos_por_tipo[types[0]]['name'] == move_name]\n",
    "        \n",
    "        # Verificar si move_data tiene algún valor\n",
    "        if not move_data.empty:\n",
    "            # Añadir información al DataFrame tidy\n",
    "            tidy_data_list.append({\n",
    "                'pokemon_id': pokemon_id,\n",
    "                'pokemon_name': pokemon_name,\n",
    "                'type': types,\n",
    "                'name': move_name,\n",
    "                'accuracy': move_data['accuracy'].values[0],\n",
    "                'move_type': move_data['type'].values[0],\n",
    "                'power': move_data['power'].values[0],\n",
    "                'pp': move_data['pp'].values[0]\n",
    "            })\n",
    "\n",
    "# Crear el DataFrame tidy\n",
    "tidy_data_df = pd.DataFrame(tidy_data_list)\n",
    "\n",
    "# Mostrar el DataFrame tidy\n",
    "print(\"DataFrame Tidy:\")\n",
    "print(tidy_data_df)\n"
   ]
  },
  {
   "cell_type": "markdown",
   "metadata": {},
   "source": [
    "Finalmente guarda los datos en `.parquet`"
   ]
  },
  {
   "cell_type": "code",
   "execution_count": null,
   "metadata": {},
   "outputs": [],
   "source": [
    "# Guardar el DataFrame tidy en formato Parquet\n",
    "tidy_data_df.to_parquet('tabla_pokemon.parquet')"
   ]
  }
 ],
 "metadata": {
  "kernelspec": {
   "display_name": "Python 3",
   "language": "python",
   "name": "python3"
  },
  "language_info": {
   "codemirror_mode": {
    "name": "ipython",
    "version": 3
   },
   "file_extension": ".py",
   "mimetype": "text/x-python",
   "name": "python",
   "nbconvert_exporter": "python",
   "pygments_lexer": "ipython3",
   "version": "3.10.12"
  }
 },
 "nbformat": 4,
 "nbformat_minor": 2
}
