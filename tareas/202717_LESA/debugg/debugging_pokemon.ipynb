{
 "cells": [
  {
   "cell_type": "code",
   "execution_count": 1,
   "metadata": {},
   "outputs": [],
   "source": [
    "import pandas as pd\n",
    "import numpy as np\n",
    "from io import StringIO\n",
    "import chardet\n"
   ]
  },
  {
   "cell_type": "markdown",
   "metadata": {},
   "source": [
    "Imagina que eres un investigador en el mundo de Pokémon y has recibido una base de datos con información desactualizada y desordenada sobre avistamientos de Pokémon. Tu misión es limpiar y actualizar esta base de datos para que pueda ser utilizada en un estudio sobre la población de Pokémon en la región."
   ]
  },
  {
   "cell_type": "markdown",
   "metadata": {},
   "source": [
    "Datos Iniciales\n",
    "\n",
    "Los datos iniciales contienen las siguientes columnas:\n",
    "\n",
    "    SightingDate: Fecha del avistamiento.\n",
    "    TrainerID: Identificación del entrenador que reportó el avistamiento.\n",
    "    PokemonName: Nombre del Pokémon avistado.\n",
    "    CP: Puntos de combate del Pokémon reportado.\n",
    "    HP: Puntos de salud del Pokémon reportado.\n",
    "    Type: Tipo del Pokémon.\n",
    "    Weather: Clima durante el avistamiento."
   ]
  },
  {
   "cell_type": "markdown",
   "metadata": {},
   "source": [
    "# 1 Carga de Datos"
   ]
  },
  {
   "cell_type": "code",
   "execution_count": 5,
   "metadata": {},
   "outputs": [
    {
     "name": "stdout",
     "output_type": "stream",
     "text": [
      "ISO-8859-1\n",
      "               SightingDate    SightingTimeUTC TrainerID PokémonName       CP  \\\n",
      "0  2023-11-08T14:00:00+0000  2023-11-08T14:00Z     TR123     Pikachu      500   \n",
      "1  2023-07-12T09:30:00+0100  2023-07-12T08:30Z     TR456       Eevee  MISSING   \n",
      "2  2023/02/23T22:15:00+0900  2023-02-23T13:15Z     TR789    Magicarp    1,000   \n",
      "3  2023-04-30T06:45:00-0400  2023-04-30T10:45Z     TR101      Gengar      800   \n",
      "4  2023-08-15T16:00:00+1000                NaN     TR102   Bulbasaur      750   \n",
      "\n",
      "   HP          Type        Weather  \n",
      "0  35      Electric          Clear  \n",
      "1  55        Normal         Cloudy  \n",
      "2  10         Water           Rain  \n",
      "3  45         Ghost  PARTLY_CLOUDY  \n",
      "4  50  Grass/Poison          Sunny  \n"
     ]
    }
   ],
   "source": [
    "def find_encoding(fname):\n",
    "    r_file = open(fname, 'rb').read()\n",
    "    result = chardet.detect(r_file)\n",
    "    return result['encoding']\n",
    "\n",
    "encoding = find_encoding('pokemon.csv')\n",
    "print(encoding)\n",
    "\n",
    "path_datos = 'pokemon.csv'\n",
    "# TODO completa el codigo para cargar los datos\n",
    "df = pd.read_csv(path_datos, encoding= encoding)\n",
    "\n",
    "print(df)"
   ]
  },
  {
   "cell_type": "markdown",
   "metadata": {},
   "source": [
    "# Limpieza de Datos"
   ]
  },
  {
   "cell_type": "markdown",
   "metadata": {},
   "source": [
    "## 1 Normalizacion de Zonas Horarias"
   ]
  },
  {
   "cell_type": "markdown",
   "metadata": {},
   "source": [
    "Normaliza la columna `'SightingTimeUTC'` a la zona horaria UTC y convierte `'SightingDate'` al mismo formato de tiempo.\n"
   ]
  },
  {
   "cell_type": "code",
   "execution_count": 6,
   "metadata": {},
   "outputs": [
    {
     "name": "stdout",
     "output_type": "stream",
     "text": [
      "0   2023-11-08 14:00:00-06:00\n",
      "1   2023-07-12 08:30:00-06:00\n",
      "2   2023-02-23 13:15:00-06:00\n",
      "3   2023-04-30 10:45:00-06:00\n",
      "4                         NaT\n",
      "Name: SightingTimeUTC, dtype: datetime64[ns, America/Mexico_City]\n",
      "0    2023-11-08 14:00:00+00:00\n",
      "1    2023-07-12 09:30:00+01:00\n",
      "2    2023-02-23 22:15:00+09:00\n",
      "3    2023-04-30 06:45:00+04:00\n",
      "4    2023-08-15 16:00:00+10:00\n",
      "Name: SightingTimeLocal, dtype: object\n",
      "0   2023-11-08 08:00:00-06:00\n",
      "1   2023-07-12 02:30:00-06:00\n",
      "2   2023-02-23 07:15:00-06:00\n",
      "3   2023-04-29 20:45:00-06:00\n",
      "4   2023-08-15 00:00:00-06:00\n",
      "Name: SightingDate, dtype: datetime64[ns, America/Mexico_City]\n"
     ]
    }
   ],
   "source": [
    "df['SightingTimeUTC'] = pd.to_datetime(df['SightingTimeUTC'], format=\"%Y-%m-%dT%H:%MZ\").dt.tz_localize('America/Mexico_City')\n",
    "print(df['SightingTimeUTC'])\n",
    "df['SightingDate'] = df['SightingDate'].str.replace('/', '-')\n",
    "df['SightingDate'] = df['SightingDate'].str.replace(r'(\\d{2}:\\d{2}:\\d{2})-', r'\\1+', regex=True)\n",
    "#Viene de la parte de hacer un respaldo de tiempo local\n",
    "df['SightingTimeLocal'] = pd.to_datetime(df['SightingDate'])\n",
    "print(df['SightingTimeLocal'])\n",
    "df['SightingDate'] = pd.to_datetime(df['SightingDate'], utc=True).dt.tz_convert('America/Mexico_City')\n",
    "print(df['SightingDate'])"
   ]
  },
  {
   "cell_type": "markdown",
   "metadata": {},
   "source": [
    "Compara si la fecha de la columna `'SightingDate'` coincide con la fecha en `'SightingTimeUTC'` una vez normalizada.\n"
   ]
  },
  {
   "cell_type": "code",
   "execution_count": 7,
   "metadata": {},
   "outputs": [
    {
     "name": "stdout",
     "output_type": "stream",
     "text": [
      "               SightingDate           SightingTimeUTC TrainerID PokémonName  \\\n",
      "0 2023-11-08 08:00:00-06:00 2023-11-08 14:00:00-06:00     TR123     Pikachu   \n",
      "1 2023-07-12 02:30:00-06:00 2023-07-12 08:30:00-06:00     TR456       Eevee   \n",
      "2 2023-02-23 07:15:00-06:00 2023-02-23 13:15:00-06:00     TR789    Magicarp   \n",
      "3 2023-04-29 20:45:00-06:00 2023-04-30 10:45:00-06:00     TR101      Gengar   \n",
      "4 2023-08-15 00:00:00-06:00                       NaT     TR102   Bulbasaur   \n",
      "\n",
      "        CP  HP          Type        Weather          SightingTimeLocal  \\\n",
      "0      500  35      Electric          Clear  2023-11-08 14:00:00+00:00   \n",
      "1  MISSING  55        Normal         Cloudy  2023-07-12 09:30:00+01:00   \n",
      "2    1,000  10         Water           Rain  2023-02-23 22:15:00+09:00   \n",
      "3      800  45         Ghost  PARTLY_CLOUDY  2023-04-30 06:45:00+04:00   \n",
      "4      750  50  Grass/Poison          Sunny  2023-08-15 16:00:00+10:00   \n",
      "\n",
      "   DatesMatch  \n",
      "0        True  \n",
      "1        True  \n",
      "2        True  \n",
      "3       False  \n",
      "4       False  \n"
     ]
    }
   ],
   "source": [
    "# Pista: Puedes crear una columna nueva para el resultado de la comparación.\n",
    "df['DatesMatch'] = df['SightingDate'].dt.date == df['SightingTimeUTC'].dt.date\n",
    "print (df)"
   ]
  },
  {
   "cell_type": "markdown",
   "metadata": {},
   "source": [
    "Ajusta `'SightingTimeUTC'` a la zona horaria local de cada entrenador y crea una columna `'SightingTimeLocal'`."
   ]
  },
  {
   "cell_type": "code",
   "execution_count": 11,
   "metadata": {},
   "outputs": [
    {
     "name": "stdout",
     "output_type": "stream",
     "text": [
      "0    2023-11-08 14:00:00+00:00\n",
      "1    2023-07-12 09:30:00+01:00\n",
      "2    2023-02-23 22:15:00+09:00\n",
      "3    2023-04-30 06:45:00+04:00\n",
      "4    2023-08-15 16:00:00+10:00\n",
      "Name: SightingTimeLocal, dtype: object\n"
     ]
    }
   ],
   "source": [
    "# Se creo la columna antes de la comparación para poder ver los resultados\n",
    "print(df['SightingTimeLocal'])"
   ]
  },
  {
   "cell_type": "markdown",
   "metadata": {},
   "source": [
    "Calcula el tiempo transcurrido desde el momento del avistamiento hasta `'ahora'` (tu hora local) y crea una columna `'TimeSinceSighting'`."
   ]
  },
  {
   "cell_type": "code",
   "execution_count": 12,
   "metadata": {},
   "outputs": [
    {
     "name": "stdout",
     "output_type": "stream",
     "text": [
      "0     1 days 03:43:20.054486\n",
      "1   120 days 09:13:20.054486\n",
      "2   259 days 04:28:20.054486\n",
      "3   193 days 14:58:20.054486\n",
      "4    86 days 11:43:20.054486\n",
      "Name: TimeSinceSighting, dtype: timedelta64[ns]\n"
     ]
    }
   ],
   "source": [
    "from datetime import datetime\n",
    "\n",
    "now = pd.Timestamp(datetime.now(), tz='UTC').tz_convert('America/Mexico_City')\n",
    "df['TimeSinceSighting'] = now - df['SightingDate']\n",
    "print(df['TimeSinceSighting'])"
   ]
  },
  {
   "cell_type": "markdown",
   "metadata": {},
   "source": [
    "## 2. Limpeiza de IDs"
   ]
  },
  {
   "cell_type": "markdown",
   "metadata": {},
   "source": [
    "Llena los valores faltantes en `'TrainerID'` con el ID `'UNKNOWN'`.\n"
   ]
  },
  {
   "cell_type": "code",
   "execution_count": 13,
   "metadata": {},
   "outputs": [
    {
     "name": "stdout",
     "output_type": "stream",
     "text": [
      "0    TR123\n",
      "1    TR456\n",
      "2    TR789\n",
      "3    TR101\n",
      "4    TR102\n",
      "Name: TrainerID, dtype: object\n"
     ]
    }
   ],
   "source": [
    "df['TrainerID'] = df['TrainerID'].fillna('UNKNOWN')\n",
    "# Aunque en este caso no es necesario, pues no hay datos nulos en TrainerID\n",
    "print(df['TrainerID'])"
   ]
  },
  {
   "cell_type": "markdown",
   "metadata": {},
   "source": [
    "## 3. Corrección de Nombres de Pokémon"
   ]
  },
  {
   "cell_type": "markdown",
   "metadata": {},
   "source": [
    "Asegúrate de que los nombres de Pokémon estén capitalizados correctamente.\n"
   ]
  },
  {
   "cell_type": "code",
   "execution_count": 14,
   "metadata": {},
   "outputs": [
    {
     "name": "stdout",
     "output_type": "stream",
     "text": [
      "0      Pikachu\n",
      "1        Eevee\n",
      "2     Magicarp\n",
      "3       Gengar\n",
      "4    Bulbasaur\n",
      "Name: PokémonName, dtype: object\n"
     ]
    }
   ],
   "source": [
    "df['PokémonName'] = df['PokémonName'].str.capitalize()\n",
    "# Solo el primer caracter de la cadena tiene mayuscula\n",
    "print(df['PokémonName'])"
   ]
  },
  {
   "cell_type": "markdown",
   "metadata": {},
   "source": [
    "## 4. Conversión de 'CP' y 'HP' a Numéricos"
   ]
  },
  {
   "cell_type": "markdown",
   "metadata": {},
   "source": [
    "Convierte `'CP'` y `'HP'` a valores numéricos, manejando los `'MISSING'` y comas como separadores de miles."
   ]
  },
  {
   "cell_type": "code",
   "execution_count": 16,
   "metadata": {},
   "outputs": [
    {
     "name": "stdout",
     "output_type": "stream",
     "text": [
      "0     500.0\n",
      "1       NaN\n",
      "2    1000.0\n",
      "3     800.0\n",
      "4     750.0\n",
      "Name: CP, dtype: float64\n",
      "0    35\n",
      "1    55\n",
      "2    10\n",
      "3    45\n",
      "4    50\n",
      "Name: HP, dtype: int64\n"
     ]
    }
   ],
   "source": [
    "df['CP'] = df['CP'].astype(str)\n",
    "df['HP'] = df['HP'].astype(str)\n",
    "# Los volvemos cadenas para poder usar el replace\n",
    "df['CP'] = pd.to_numeric(df['CP'].str.replace(',', ''), errors='coerce')\n",
    "df['HP'] = pd.to_numeric(df['HP'].str.replace(',', ''), errors='coerce')\n",
    "# Los volvemos a numericos para poder usarlos\n",
    "print(df['CP'])\n",
    "print(df['HP'])"
   ]
  },
  {
   "cell_type": "markdown",
   "metadata": {},
   "source": [
    "## 5. Estandarización de 'Type'"
   ]
  },
  {
   "cell_type": "markdown",
   "metadata": {},
   "source": [
    "Divide la columna `'Type'` en `'PrimaryType'` y `'SecondaryType'` cuando hay dos tipos.\n"
   ]
  },
  {
   "cell_type": "code",
   "execution_count": 17,
   "metadata": {},
   "outputs": [
    {
     "name": "stdout",
     "output_type": "stream",
     "text": [
      "0    Electric\n",
      "1      Normal\n",
      "2       Water\n",
      "3       Ghost\n",
      "4       Grass\n",
      "Name: PrimaryType, dtype: object\n",
      "0      None\n",
      "1      None\n",
      "2      None\n",
      "3      None\n",
      "4    Poison\n",
      "Name: SecondaryType, dtype: object\n"
     ]
    }
   ],
   "source": [
    "df[['PrimaryType', 'SecondaryType']] = df['Type'].str.split('/', expand=True)\n",
    "print(df['PrimaryType'])\n",
    "print(df['SecondaryType'])"
   ]
  },
  {
   "cell_type": "markdown",
   "metadata": {},
   "source": [
    "## 6. Corrección del Clima"
   ]
  },
  {
   "cell_type": "markdown",
   "metadata": {},
   "source": [
    "Estándariza la columna `'Weather'` para que todos los valores sean mayúsculas.\n"
   ]
  },
  {
   "cell_type": "code",
   "execution_count": 18,
   "metadata": {},
   "outputs": [
    {
     "name": "stdout",
     "output_type": "stream",
     "text": [
      "0            CLEAR\n",
      "1           CLOUDY\n",
      "2             RAIN\n",
      "3    PARTLY_CLOUDY\n",
      "4            SUNNY\n",
      "Name: Weather, dtype: object\n"
     ]
    }
   ],
   "source": [
    "df['Weather'] = df['Weather'].str.upper()\n",
    "print(df['Weather'])"
   ]
  },
  {
   "cell_type": "markdown",
   "metadata": {},
   "source": [
    "# 3 Analisis de Datos"
   ]
  },
  {
   "cell_type": "markdown",
   "metadata": {},
   "source": [
    "## Agrupaciones"
   ]
  },
  {
   "cell_type": "markdown",
   "metadata": {},
   "source": [
    "Agrupa el DataFrame por `'Type'` y calcula la suma de `'CP'` para cada grupo."
   ]
  },
  {
   "cell_type": "code",
   "execution_count": 19,
   "metadata": {},
   "outputs": [
    {
     "name": "stdout",
     "output_type": "stream",
     "text": [
      "Type\n",
      "Electric         500.0\n",
      "Ghost            800.0\n",
      "Grass/Poison     750.0\n",
      "Normal             0.0\n",
      "Water           1000.0\n",
      "Name: CP, dtype: float64\n"
     ]
    }
   ],
   "source": [
    "groupByTiposCP = df.groupby('Type')['CP'].sum()\n",
    "print(groupByTiposCP)"
   ]
  },
  {
   "cell_type": "markdown",
   "metadata": {},
   "source": [
    "Después de la suma, agrega una columna que calcule la media de `'HP'` por cada `'Type'`, pero solo para aquellos Pokémon cuyo `'CP'` sea mayor que el promedio de `'CP'` de todo el DataFrame."
   ]
  },
  {
   "cell_type": "code",
   "execution_count": 21,
   "metadata": {},
   "outputs": [
    {
     "name": "stdout",
     "output_type": "stream",
     "text": [
      "              CP_Sum  HP_Mean\n",
      "Type                         \n",
      "Electric       500.0      NaN\n",
      "Ghost          800.0     45.0\n",
      "Grass/Poison   750.0      NaN\n",
      "Normal           0.0      NaN\n",
      "Water         1000.0     10.0\n"
     ]
    }
   ],
   "source": [
    "promedio_CP = df['CP'].mean()\n",
    "\n",
    "dfAltoCP = df[df['CP'] > promedio_CP]\n",
    "\n",
    "groupByTiposHP = dfAltoCP.groupby('Type')['HP'].mean()\n",
    "\n",
    "result = pd.DataFrame({'CP_Sum': groupByTiposCP, 'HP_Mean': groupByTiposHP})\n",
    "print(result)"
   ]
  }
 ],
 "metadata": {
  "kernelspec": {
   "display_name": "Python 3",
   "language": "python",
   "name": "python3"
  },
  "language_info": {
   "codemirror_mode": {
    "name": "ipython",
    "version": 3
   },
   "file_extension": ".py",
   "mimetype": "text/x-python",
   "name": "python",
   "nbconvert_exporter": "python",
   "pygments_lexer": "ipython3",
   "version": "3.11.5"
  }
 },
 "nbformat": 4,
 "nbformat_minor": 2
}
