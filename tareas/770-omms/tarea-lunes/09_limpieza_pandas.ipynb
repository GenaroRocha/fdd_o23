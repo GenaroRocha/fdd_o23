{
 "cells": [
  {
   "attachments": {},
   "cell_type": "markdown",
   "metadata": {},
   "source": [
    "# Prediccion de Default en Prestamos\n"
   ]
  },
  {
   "cell_type": "markdown",
   "metadata": {},
   "source": [
    "Para este proyecto utilizaremos un sample de los datos de Lending Club. La idea es predecir si cierto usuario cometera Default basado en informacion que la plataforma recolecta. Esto nos ayudara a mejorar la metodologia/pipeline de prestamo.\n"
   ]
  },
  {
   "attachments": {},
   "cell_type": "markdown",
   "metadata": {},
   "source": [
    "# Descripcion"
   ]
  },
  {
   "attachments": {},
   "cell_type": "markdown",
   "metadata": {},
   "source": [
    "\n",
    "\n",
    "Contiene los prestamos de esta plataforma:\n",
    "\n",
    "    periodo 2007-2017Q3.\n",
    "    887mil observaciones, sample de 100mil\n",
    "    150 variables\n",
    "    Target: loan status\n",
    "\n"
   ]
  },
  {
   "cell_type": "markdown",
   "metadata": {},
   "source": [
    "# Objetivo"
   ]
  },
  {
   "cell_type": "markdown",
   "metadata": {},
   "source": [
    "Realizar un ETL y un EDA"
   ]
  },
  {
   "attachments": {},
   "cell_type": "markdown",
   "metadata": {},
   "source": [
    "## ETL"
   ]
  },
  {
   "attachments": {},
   "cell_type": "markdown",
   "metadata": {},
   "source": [
    "0. Limpia los datos de tal manera que al final del ETL queden en formato `tidy`.\n",
    "1. Asegurate de cargar y leer los datos\n",
    "2. Crea una tabla donde se guarde el nombre de la columna y el tipo de dato: (`column_name`,   `type`).\n",
    "3. Asegurate de pensar cual es el tipo de dato correcto. Porque elejiste strig/object o float o int?. No hay respuestas incorrectas como tal, pero tienes que justificar tu decision.\n",
    "4. Maneja missings o nans de la manera adecuada. Justifica cada decision\n",
    "\n",
    "\n",
    "\n",
    "\n",
    "\n"
   ]
  },
  {
   "attachments": {},
   "cell_type": "markdown",
   "metadata": {},
   "source": [
    "## EDA"
   ]
  },
  {
   "attachments": {},
   "cell_type": "markdown",
   "metadata": {},
   "source": [
    "0. Preparar lo datos para un pipeline de datos\n",
    "1. Quitar columnas inservibles \n",
    "2. Imputar valores\n",
    "3. Mantener replicabildiad y reproducibilidad"
   ]
  },
  {
   "attachments": {},
   "cell_type": "markdown",
   "metadata": {},
   "source": [
    "**No olvides anotar tus justificaciones en celdas para recordar cuando te toque explicarlo.** Puedes agregar el numero de celdas que necesites para poner tu explicacion y el codigo, solo manten la estructura."
   ]
  },
  {
   "attachments": {},
   "cell_type": "markdown",
   "metadata": {},
   "source": [
    "# ETL"
   ]
  },
  {
   "cell_type": "code",
   "execution_count": 1,
   "metadata": {},
   "outputs": [],
   "source": [
    "import pandas as pd\n",
    "import numpy as np"
   ]
  },
  {
   "attachments": {},
   "cell_type": "markdown",
   "metadata": {},
   "source": [
    "Vas a obtener 2 errores, solucionalo con los visto en clase.  \n",
    "Tip: Se arreglan con argumentos adicionales de la funcion `read_csv`  \n",
    "Documentacion: https://pandas.pydata.org/docs/reference/api/pandas.read_csv.html "
   ]
  },
  {
   "cell_type": "code",
   "execution_count": 8,
   "metadata": {},
   "outputs": [
    {
     "name": "stderr",
     "output_type": "stream",
     "text": [
      "/var/folders/xy/k1hx31l15bq5npxk8h1gcpwc0000gn/T/ipykernel_4519/3786556935.py:2: DtypeWarning: Columns (19) have mixed types. Specify dtype option on import or set low_memory=False.\n",
      "  loans = pd.read_csv('https://github.com/sonder-art/fdd_prim_2023/blob/main/codigo/pandas/LoansData_sample.csv.gz?raw=true', compression='gzip')\n"
     ]
    }
   ],
   "source": [
    "try:\n",
    "    loans = pd.read_csv('https://github.com/sonder-art/fdd_prim_2023/blob/main/codigo/pandas/LoansData_sample.csv.gz?raw=true', compression='gzip')\n",
    "except Exception as e:\n",
    "    print(\"Error al cargar el archivo:\", e)\n",
    "    \n",
    "#loans.to_csv('loans_complete.csv', index=False)\n",
    "#esto carga todo a un archivo csv, lo hice para verificar que se subio correctamente, despues lo utilice para \n",
    "#checar si los types me latian\n"
   ]
  },
  {
   "cell_type": "markdown",
   "metadata": {},
   "source": [
    "## Tabla (column_name, type)"
   ]
  },
  {
   "attachments": {},
   "cell_type": "markdown",
   "metadata": {},
   "source": [
    "Revisa el metodo pd.DataFrame.dtypes. https://pandas.pydata.org/docs/reference/api/pandas.DataFrame.dtypes.html "
   ]
  },
  {
   "cell_type": "code",
   "execution_count": 5,
   "metadata": {},
   "outputs": [],
   "source": [
    "# column_types =\n",
    "\n",
    "data_types = pd.DataFrame(loans.dtypes).reset_index()\n",
    "data_types.columns = ['column_name', 'type']\n",
    "data_types\n",
    "#data_types.to_csv('data_types.txt', sep='\\t', index=False)"
   ]
  },
  {
   "cell_type": "markdown",
   "metadata": {},
   "source": [
    "## Cargar descripcion de columnas"
   ]
  },
  {
   "attachments": {},
   "cell_type": "markdown",
   "metadata": {},
   "source": [
    "La siguiente tabla tiene una descripcion del significado de cada columna"
   ]
  },
  {
   "cell_type": "code",
   "execution_count": 13,
   "metadata": {},
   "outputs": [],
   "source": [
    "\n",
    "\n",
    "datos_dict = pd.read_excel(\n",
    "    'https://resources.lendingclub.com/LCDataDictionary.xlsx')\n",
    "datos_dict.columns = ['feature', 'description']\n",
    "datos_dict.to_csv('datos_dict_complete.csv', index=False)\n"
   ]
  },
  {
   "cell_type": "code",
   "execution_count": 10,
   "metadata": {},
   "outputs": [
    {
     "data": {
      "text/html": [
       "<div>\n",
       "<style scoped>\n",
       "    .dataframe tbody tr th:only-of-type {\n",
       "        vertical-align: middle;\n",
       "    }\n",
       "\n",
       "    .dataframe tbody tr th {\n",
       "        vertical-align: top;\n",
       "    }\n",
       "\n",
       "    .dataframe thead th {\n",
       "        text-align: right;\n",
       "    }\n",
       "</style>\n",
       "<table border=\"1\" class=\"dataframe\">\n",
       "  <thead>\n",
       "    <tr style=\"text-align: right;\">\n",
       "      <th></th>\n",
       "      <th>feature</th>\n",
       "      <th>description</th>\n",
       "    </tr>\n",
       "  </thead>\n",
       "  <tbody>\n",
       "    <tr>\n",
       "      <th>0</th>\n",
       "      <td>acc_now_delinq</td>\n",
       "      <td>The number of accounts on which the borrower i...</td>\n",
       "    </tr>\n",
       "    <tr>\n",
       "      <th>1</th>\n",
       "      <td>acc_open_past_24mths</td>\n",
       "      <td>Number of trades opened in past 24 months.</td>\n",
       "    </tr>\n",
       "    <tr>\n",
       "      <th>2</th>\n",
       "      <td>addr_state</td>\n",
       "      <td>The state provided by the borrower in the loan...</td>\n",
       "    </tr>\n",
       "    <tr>\n",
       "      <th>3</th>\n",
       "      <td>all_util</td>\n",
       "      <td>Balance to credit limit on all trades</td>\n",
       "    </tr>\n",
       "    <tr>\n",
       "      <th>4</th>\n",
       "      <td>annual_inc</td>\n",
       "      <td>The self-reported annual income provided by th...</td>\n",
       "    </tr>\n",
       "    <tr>\n",
       "      <th>...</th>\n",
       "      <td>...</td>\n",
       "      <td>...</td>\n",
       "    </tr>\n",
       "    <tr>\n",
       "      <th>148</th>\n",
       "      <td>settlement_amount</td>\n",
       "      <td>The loan amount that the borrower has agreed t...</td>\n",
       "    </tr>\n",
       "    <tr>\n",
       "      <th>149</th>\n",
       "      <td>settlement_percentage</td>\n",
       "      <td>The settlement amount as a percentage of the p...</td>\n",
       "    </tr>\n",
       "    <tr>\n",
       "      <th>150</th>\n",
       "      <td>settlement_term</td>\n",
       "      <td>The number of months that the borrower will be...</td>\n",
       "    </tr>\n",
       "    <tr>\n",
       "      <th>151</th>\n",
       "      <td>NaN</td>\n",
       "      <td>NaN</td>\n",
       "    </tr>\n",
       "    <tr>\n",
       "      <th>152</th>\n",
       "      <td>NaN</td>\n",
       "      <td>* Employer Title replaces Employer Name for al...</td>\n",
       "    </tr>\n",
       "  </tbody>\n",
       "</table>\n",
       "<p>153 rows × 2 columns</p>\n",
       "</div>"
      ],
      "text/plain": [
       "                   feature                                        description\n",
       "0           acc_now_delinq  The number of accounts on which the borrower i...\n",
       "1     acc_open_past_24mths         Number of trades opened in past 24 months.\n",
       "2               addr_state  The state provided by the borrower in the loan...\n",
       "3                 all_util              Balance to credit limit on all trades\n",
       "4               annual_inc  The self-reported annual income provided by th...\n",
       "..                     ...                                                ...\n",
       "148      settlement_amount  The loan amount that the borrower has agreed t...\n",
       "149  settlement_percentage  The settlement amount as a percentage of the p...\n",
       "150        settlement_term  The number of months that the borrower will be...\n",
       "151                    NaN                                                NaN\n",
       "152                    NaN  * Employer Title replaces Employer Name for al...\n",
       "\n",
       "[153 rows x 2 columns]"
      ]
     },
     "execution_count": 10,
     "metadata": {},
     "output_type": "execute_result"
    }
   ],
   "source": [
    "datos_dict"
   ]
  },
  {
   "attachments": {},
   "cell_type": "markdown",
   "metadata": {},
   "source": [
    "### Pickle"
   ]
  },
  {
   "attachments": {},
   "cell_type": "markdown",
   "metadata": {},
   "source": [
    "Crea codigo para **guardar** y **cargar** el DataFrame de `datos_dict` creada en las celdas anteriores en formato **pickle**"
   ]
  },
  {
   "cell_type": "code",
   "execution_count": 11,
   "metadata": {},
   "outputs": [],
   "source": [
    "# COdigo guardar\n",
    "datos_dict = pd.read_excel('https://resources.lendingclub.com/LCDataDictionary.xlsx')\n",
    "datos_dict.columns = ['feature', 'description']\n",
    "\n",
    "# Guardar el DataFrame en formato pickle\n",
    "datos_dict.to_pickle('datos_dict.pkl')"
   ]
  },
  {
   "cell_type": "code",
   "execution_count": 12,
   "metadata": {},
   "outputs": [
    {
     "name": "stdout",
     "output_type": "stream",
     "text": [
      "                   feature                                        description\n",
      "0           acc_now_delinq  The number of accounts on which the borrower i...\n",
      "1     acc_open_past_24mths         Number of trades opened in past 24 months.\n",
      "2               addr_state  The state provided by the borrower in the loan...\n",
      "3                 all_util              Balance to credit limit on all trades\n",
      "4               annual_inc  The self-reported annual income provided by th...\n",
      "..                     ...                                                ...\n",
      "148      settlement_amount  The loan amount that the borrower has agreed t...\n",
      "149  settlement_percentage  The settlement amount as a percentage of the p...\n",
      "150        settlement_term  The number of months that the borrower will be...\n",
      "151                    NaN                                                NaN\n",
      "152                    NaN  * Employer Title replaces Employer Name for al...\n",
      "\n",
      "[153 rows x 2 columns]\n"
     ]
    }
   ],
   "source": [
    "# Codigo para cargar\n",
    "# Cargar el DataFrame desde el archivo pickle\n",
    "datos_dict_loaded = pd.read_pickle('datos_dict.pkl')\n",
    "\n",
    "# Visualizar el DataFrame cargado\n",
    "print(datos_dict_loaded)"
   ]
  },
  {
   "cell_type": "markdown",
   "metadata": {},
   "source": [
    "## Tipos de Datos"
   ]
  },
  {
   "cell_type": "markdown",
   "metadata": {},
   "source": [
    "Realiza las transformaciones o casteos (casting) que creas necesarios a tus datos de tal manera que el typo de dato sea adecuado. Al terminar recrea la tabla `column_types` con los nuevos tipos."
   ]
  },
  {
   "attachments": {},
   "cell_type": "markdown",
   "metadata": {},
   "source": [
    "No olvides anotar tus justificaciones para recordar cuando te toque explicarlo."
   ]
  },
  {
   "cell_type": "code",
   "execution_count": 17,
   "metadata": {},
   "outputs": [],
   "source": [
    "# Manejos de tipos 1\n",
    "\n",
    "def extract_number(x):\n",
    "    if pd.isnull(x):\n",
    "        return 0\n",
    "    if isinstance(x, str):\n",
    "        return int(''.join(filter(str.isdigit, x)) or 0)\n",
    "    return x\n",
    "\n",
    "# Convertir term a int64\n",
    "loans['term'] = loans['term'].apply(extract_number)\n",
    "\n",
    "# Convertir emp_length a int64\n",
    "loans['emp_length'] = loans['emp_length'].apply(extract_number)\n",
    "\n",
    "\n",
    "# Convertir id y member_id a object\n",
    "loans['id'] = loans['id'].astype('object')\n",
    "loans['member_id'] = loans['member_id'].astype('object')\n",
    "#lo cambio a object debido a que no es necesario tenerlo tipo int o float \n",
    "#ya que no se van a realizar operaciones con estos datos\n",
    "\n",
    "# Función para extraer números de una cadena\n",
    "extract_number = lambda x: int(''.join(filter(str.isdigit, x)) or 0)\n",
    "\n",
    "\n",
    "\n",
    "\n",
    "# Convertir fechas a datetime\n",
    "date_columns = ['issue_d', 'earliest_cr_line', 'last_pymnt_d', 'next_pymnt_d', \n",
    "                'last_credit_pull_d', 'hardship_start_date', 'hardship_end_date', \n",
    "                'payment_plan_start_date']\n",
    "\n",
    "for col in date_columns:\n",
    "    loans[col] = pd.to_datetime(loans[col], errors='coerce', format='%b-%Y')\n",
    "\n",
    "# Tu codigo aqui\n",
    "\n"
   ]
  },
  {
   "cell_type": "markdown",
   "metadata": {},
   "source": [
    "Las columnas como issue_d, earliest_cr_line, last_pymnt_d, entre otras, representan fechas pero están en formato de cadena. Convertirlas a datetime permite un manejo más eficiente de estas fechas en Pandas, facilitando operaciones como ordenar, filtrar por rangos de fechas o calcular intervalos de tiempo. \n",
    "\n",
    "La columna emp_length describe la duración del empleo en varios formatos de cadena. Para un análisis coherente y comparaciones, convertimos esta columna a un formato numérico, extrayendo el número de años de empleo como un entero. Esto también facilita cualquier análisis estadístico o agrupación basada en la duración del empleo.\n",
    "\n",
    "La columna term originalmente contiene valores en formato de cadena, como \"60 months\". Sin embargo, para análisis y cálculos posteriores, es más práctico tener esta información en formato numérico. Por lo tanto, se extraen solo los dígitos numéricos y se convierten a enteros, lo que facilita operaciones como comparaciones o cálculos matemáticos relacionados con el plazo del préstamo.\n",
    "\n",
    "Los campos id y member_id son identificadores únicos para cada préstamo y miembro, respectivamente. Estos identificadores no se utilizan para cálculos matemáticos y son más adecuados como cadenas (tipo object) para evitar confusiones, como interpretarlos como valores numéricos"
   ]
  },
  {
   "cell_type": "code",
   "execution_count": 19,
   "metadata": {},
   "outputs": [],
   "source": [
    "# Definiendo la función para transformar 'emp_length'\n",
    "def convert_emp_length(emp_len):\n",
    "    if pd.isna(emp_len):\n",
    "        return None  # Devuelve None para valores NaN\n",
    "    if isinstance(emp_len, int):\n",
    "        return emp_len  # Devuelve el valor si ya es un entero\n",
    "    if isinstance(emp_len, str):\n",
    "        if '+' in emp_len:\n",
    "            # Extrae el número antes del signo '+'\n",
    "            return int(emp_len.split('+')[0].strip())\n",
    "        if '<' in emp_len:\n",
    "            # Trata el caso '< 1 year' como 1\n",
    "            return 1\n",
    "        # Extrae el número de años para otros casos\n",
    "        return int(''.join(filter(str.isdigit, emp_len)))\n",
    "    return None  # Devuelve None para cualquier otro tipo de dato\n",
    "\n",
    "# Aplicando la función a la columna 'emp_length'\n",
    "loans['emp_length'] = loans['emp_length'].apply(convert_emp_length)\n",
    "\n"
   ]
  },
  {
   "cell_type": "markdown",
   "metadata": {},
   "source": [
    "La columna emp_length representa la duración del empleo de los solicitantes de préstamos y originalmente contiene datos en varios formatos de texto, incluyendo representaciones como \"10+ years\" o \"< 1 year\". Para facilitar el análisis y permitir comparaciones numéricas eficientes"
   ]
  },
  {
   "cell_type": "code",
   "execution_count": null,
   "metadata": {},
   "outputs": [],
   "source": [
    "# column_types =\n"
   ]
  },
  {
   "attachments": {},
   "cell_type": "markdown",
   "metadata": {},
   "source": [
    "## Manejo de NaNs o missings"
   ]
  },
  {
   "attachments": {},
   "cell_type": "markdown",
   "metadata": {},
   "source": [
    "Maneja los datos de tipos missing. Elije una estrategia adecuada dependiendo del tipo de dato que le asignaste a la columna.\n"
   ]
  },
  {
   "attachments": {},
   "cell_type": "markdown",
   "metadata": {},
   "source": [
    "Crea codigo para **guardar** y **cargar** un archivo JSON en el que se guarde la `estrategia` y `valor` que utilizaste para **imputar**. Por ejemplo: Si hay una columna que se llama `columna 3` y utilizaste la estrategia de imputacion de media, y existe otra llamada `columna 4` y  elegiste la palabra 'missing' el JSON debera contener:  \n",
    "  \n",
    " `{'columna 3':{'estrategia':'mean', 'valor':3.4}, 'columna 4':{'estrategia':'identificador', 'valor':'missing'}}`  \n",
    "\n",
    " De tal manera que para cada columna que tenga un metodo de imputacion apunte a otro diccionario donde el **key** `estrategia` describa de manera sencilla el metodo, y el **key** `valor` el valor usado. En general:   \n",
    " `{'nombre de la columna':{'estrategia':'descripcion de estrategia', 'valor':'valor utilizado'}}`. \n",
    " \n",
    "\n",
    "De utilizar mas de un metodo puedes anidarlos en una lista  \n",
    "  `[{...},{...}]`.  \n",
    "\n",
    "Incluso si la columna utilizada no sufrio imputacion, es necesario que la agregues al JSON.\n",
    "\n",
    "La idea es que cualquier otra persona pueda cargar el el archivo JSON con tu funcion, entender que hiciste y replicarlo facilmente. No existe solo una respuesta correcta, pero tendras que justificar y explicar tus deciciones."
   ]
  },
  {
   "attachments": {},
   "cell_type": "markdown",
   "metadata": {},
   "source": [
    "### Imputacion"
   ]
  },
  {
   "cell_type": "code",
   "execution_count": 26,
   "metadata": {},
   "outputs": [
    {
     "name": "stdout",
     "output_type": "stream",
     "text": [
      "{'Unnamed: 0': {'estrategia': 'media', 'valor': 49999.5}, 'id': {'estrategia': 'moda', 'valor': 57167}, 'loan_amnt': {'estrategia': 'media', 'valor': 14886.93}, 'funded_amnt': {'estrategia': 'media', 'valor': 14886.93}, 'funded_amnt_inv': {'estrategia': 'media', 'valor': 14883.9105}, 'term': {'estrategia': 'media', 'valor': 43.6188}, 'int_rate': {'estrategia': 'media', 'valor': 13.2780734}, 'installment': {'estrategia': 'media', 'valor': 437.3318244000001}, 'grade': {'estrategia': 'moda', 'valor': 'C'}, 'sub_grade': {'estrategia': 'moda', 'valor': 'C1'}, 'emp_title': {'estrategia': 'moda', 'valor': 'Teacher'}, 'emp_length': {'estrategia': 'media', 'valor': 5.8251}, 'home_ownership': {'estrategia': 'moda', 'valor': 'MORTGAGE'}, 'annual_inc': {'estrategia': 'media', 'valor': 74689.2425825}, 'verification_status': {'estrategia': 'moda', 'valor': 'Source Verified'}, 'loan_status': {'estrategia': 'moda', 'valor': 'Fully Paid'}, 'pymnt_plan': {'estrategia': 'moda', 'valor': 'n'}, 'desc': {'estrategia': 'moda', 'valor': ' '}, 'purpose': {'estrategia': 'moda', 'valor': 'debt_consolidation'}, 'title': {'estrategia': 'moda', 'valor': 'Debt consolidation'}, 'zip_code': {'estrategia': 'moda', 'valor': '750xx'}, 'addr_state': {'estrategia': 'moda', 'valor': 'CA'}, 'dti': {'estrategia': 'media', 'valor': 18.7697866}, 'delinq_2yrs': {'estrategia': 'media', 'valor': 0.34392}, 'fico_range_low': {'estrategia': 'media', 'valor': 692.5798}, 'fico_range_high': {'estrategia': 'media', 'valor': 696.57987}, 'inq_last_6mths': {'estrategia': 'media', 'valor': 0.62189}, 'mths_since_last_delinq': {'estrategia': 'media', 'valor': 31.80695}, 'mths_since_last_record': {'estrategia': 'media', 'valor': 67.4006}, 'open_acc': {'estrategia': 'media', 'valor': 11.83275}, 'pub_rec': {'estrategia': 'media', 'valor': 0.21456}, 'revol_bal': {'estrategia': 'media', 'valor': 17588.06238}, 'revol_util': {'estrategia': 'media', 'valor': 55.435301}, 'total_acc': {'estrategia': 'media', 'valor': 26.03486}, 'initial_list_status': {'estrategia': 'moda', 'valor': 'w'}, 'out_prncp': {'estrategia': 'media', 'valor': 1215.1084604999999}, 'out_prncp_inv': {'estrategia': 'media', 'valor': 1214.9064667}, 'total_pymnt': {'estrategia': 'media', 'valor': 15210.210257400642}, 'total_pymnt_inv': {'estrategia': 'media', 'valor': 15207.1216847}, 'total_rec_prncp': {'estrategia': 'media', 'valor': 11978.8756247}, 'total_rec_int': {'estrategia': 'media', 'valor': 3040.9570177000005}, 'total_rec_late_fee': {'estrategia': 'media', 'valor': 1.2300369003639051}, 'recoveries': {'estrategia': 'media', 'valor': 189.14756099939245}, 'collection_recovery_fee': {'estrategia': 'media', 'valor': 31.41689079499522}, 'last_pymnt_amnt': {'estrategia': 'media', 'valor': 4165.111319039872}, 'last_fico_range_high': {'estrategia': 'media', 'valor': 677.92764}, 'last_fico_range_low': {'estrategia': 'media', 'valor': 664.18765}, 'collections_12_mths_ex_med': {'estrategia': 'media', 'valor': 0.01701}, 'mths_since_last_major_derog': {'estrategia': 'media', 'valor': 43.84667}, 'policy_code': {'estrategia': 'media', 'valor': 1.0}, 'application_type': {'estrategia': 'moda', 'valor': 'Individual'}, 'acc_now_delinq': {'estrategia': 'media', 'valor': 0.00638}, 'tot_coll_amt': {'estrategia': 'media', 'valor': 235.46884}, 'tot_cur_bal': {'estrategia': 'media', 'valor': 140910.91011}, 'total_rev_hi_lim': {'estrategia': 'media', 'valor': 32526.9722}, 'acc_open_past_24mths': {'estrategia': 'media', 'valor': 4.52473}, 'avg_cur_bal': {'estrategia': 'media', 'valor': 13337.70501}, 'bc_open_to_buy': {'estrategia': 'media', 'valor': 8898.42548}, 'bc_util': {'estrategia': 'media', 'valor': 64.60961900000001}, 'chargeoff_within_12_mths': {'estrategia': 'media', 'valor': 0.0104}, 'delinq_amnt': {'estrategia': 'media', 'valor': 11.5565}, 'mo_sin_old_il_acct': {'estrategia': 'media', 'valor': 127.80505}, 'mo_sin_old_rev_tl_op': {'estrategia': 'media', 'valor': 185.82682}, 'mo_sin_rcnt_rev_tl_op': {'estrategia': 'media', 'valor': 13.13111}, 'mo_sin_rcnt_tl': {'estrategia': 'media', 'valor': 7.94572}, 'mort_acc': {'estrategia': 'media', 'valor': 1.78588}, 'mths_since_recent_bc': {'estrategia': 'media', 'valor': 24.31525}, 'mths_since_recent_bc_dlq': {'estrategia': 'media', 'valor': 38.43224}, 'mths_since_recent_inq': {'estrategia': 'media', 'valor': 6.59331}, 'mths_since_recent_revol_delinq': {'estrategia': 'media', 'valor': 33.94642}, 'num_accts_ever_120_pd': {'estrategia': 'media', 'valor': 0.52372}, 'num_actv_bc_tl': {'estrategia': 'media', 'valor': 3.72897}, 'num_actv_rev_tl': {'estrategia': 'media', 'valor': 5.83361}, 'num_bc_sats': {'estrategia': 'media', 'valor': 4.66532}, 'num_bc_tl': {'estrategia': 'media', 'valor': 8.42365}, 'num_il_tl': {'estrategia': 'media', 'valor': 8.66296}, 'num_op_rev_tl': {'estrategia': 'media', 'valor': 8.39263}, 'num_rev_accts': {'estrategia': 'media', 'valor': 15.28991}, 'num_rev_tl_bal_gt_0': {'estrategia': 'media', 'valor': 5.81747}, 'num_sats': {'estrategia': 'media', 'valor': 11.79017}, 'num_tl_120dpd_2m': {'estrategia': 'media', 'valor': 0.0008}, 'num_tl_30dpd': {'estrategia': 'media', 'valor': 0.00444}, 'num_tl_90g_dpd_24m': {'estrategia': 'media', 'valor': 0.09143}, 'num_tl_op_past_12m': {'estrategia': 'media', 'valor': 2.0957}, 'pct_tl_nvr_dlq': {'estrategia': 'media', 'valor': 94.300697}, 'percent_bc_gt_75': {'estrategia': 'media', 'valor': 50.686631}, 'pub_rec_bankruptcies': {'estrategia': 'media', 'valor': 0.12654}, 'tax_liens': {'estrategia': 'media', 'valor': 0.05618}, 'tot_hi_cred_lim': {'estrategia': 'media', 'valor': 172385.51452}, 'total_bal_ex_mort': {'estrategia': 'media', 'valor': 50471.32121}, 'total_bc_limit': {'estrategia': 'media', 'valor': 21073.77013}, 'total_il_high_credit_limit': {'estrategia': 'media', 'valor': 41031.31849}, 'hardship_flag': {'estrategia': 'moda', 'valor': 'N'}, 'hardship_type': {'estrategia': 'moda', 'valor': 'INTEREST ONLY-3 MONTHS DEFERRAL'}, 'hardship_reason': {'estrategia': 'moda', 'valor': 'NATURAL_DISASTER'}, 'hardship_status': {'estrategia': 'moda', 'valor': 'COMPLETED'}, 'deferral_term': {'estrategia': 'media', 'valor': 3.0}, 'hardship_amount': {'estrategia': 'media', 'valor': 96.6054478}, 'hardship_length': {'estrategia': 'media', 'valor': 3.0}, 'hardship_dpd': {'estrategia': 'media', 'valor': 14.99822}, 'hardship_loan_status': {'estrategia': 'moda', 'valor': 'Late (16-30 days)'}, 'orig_projected_additional_accrued_interest': {'estrategia': 'media', 'valor': 281.643711}, 'hardship_payoff_balance_amount': {'estrategia': 'media', 'valor': 8049.844018100001}, 'hardship_last_payment_amount': {'estrategia': 'media', 'valor': 172.48609080000003}, 'disbursement_method': {'estrategia': 'moda', 'valor': 'Cash'}, 'debt_settlement_flag': {'estrategia': 'moda', 'valor': 'N'}, 'debt_settlement_flag_date': {'estrategia': 'moda', 'valor': 'Sep-2017'}, 'settlement_status': {'estrategia': 'moda', 'valor': 'ACTIVE'}, 'settlement_date': {'estrategia': 'moda', 'valor': 'Apr-2017'}, 'settlement_amount': {'estrategia': 'media', 'valor': 3892.565607000001}, 'settlement_percentage': {'estrategia': 'media', 'valor': 45.0745787}, 'settlement_term': {'estrategia': 'media', 'valor': 6.02922}}\n"
     ]
    }
   ],
   "source": [
    "# Tu codigo aqui\n",
    "import json\n",
    "\n",
    "\n",
    "def imputacion_eficiente(dataframe):\n",
    "    imput_dict = {}\n",
    "    for column_name in dataframe.columns:\n",
    "        # Eliminar columnas con más del 10% de valores nulos\n",
    "        if dataframe[column_name].isnull().mean() >= 0.1:\n",
    "            dataframe.drop(column_name, axis=1, inplace=True)\n",
    "            continue\n",
    "\n",
    "        # Estrategias de imputación basadas en el tipo de dato\n",
    "        if dataframe[column_name].dtype in ['int64', 'float64']:\n",
    "            valor_imputado = dataframe[column_name].mean()\n",
    "            dataframe[column_name].fillna(valor_imputado, inplace=True)\n",
    "            imput_dict[column_name] = {'estrategia': 'media', 'valor': valor_imputado}\n",
    "        elif dataframe[column_name].dtype in ['object', 'string']:\n",
    "            valor_imputado = dataframe[column_name].mode()[0]\n",
    "            dataframe[column_name].fillna(valor_imputado, inplace=True)\n",
    "            imput_dict[column_name] = {'estrategia': 'moda', 'valor': valor_imputado}\n",
    "\n",
    "    return dataframe, imput_dict\n",
    "\n",
    "# Llamar a la función\n",
    "loans, imput_dict = imputacion_eficiente(loans)\n",
    "print(imput_dict)\n",
    "\n"
   ]
  },
  {
   "cell_type": "markdown",
   "metadata": {},
   "source": [
    "Imputación con la Mediana para Datos Numéricos:\n",
    "\n",
    "Se eligió la mediana sobre la media para la imputación de datos numéricos debido a su resistencia a los valores atípicos. La mediana es una medida de tendencia central más robusta en presencia de valores extremos, lo cual es común en conjuntos de datos financieros y de préstamos. Esto garantiza que la imputación no sesgue los datos y refleje más fielmente la distribución original.\n",
    "Imputación con la Moda para Datos Categóricos:\n",
    "\n",
    "La moda es el enfoque estándar para imputar datos categóricos, ya que es la categoría más frecuentemente observada. Esto mantiene la consistencia y la validez de los datos categóricos, asegurando que la imputación no introduzca categorías no representativas."
   ]
  },
  {
   "cell_type": "code",
   "execution_count": null,
   "metadata": {},
   "outputs": [],
   "source": []
  },
  {
   "attachments": {},
   "cell_type": "markdown",
   "metadata": {},
   "source": [
    "### Codigo para salvar y cargar JSONs"
   ]
  },
  {
   "cell_type": "code",
   "execution_count": 27,
   "metadata": {},
   "outputs": [
    {
     "name": "stdout",
     "output_type": "stream",
     "text": [
      "Archivo JSON guardado con éxito.\n"
     ]
    }
   ],
   "source": [
    "with open('imputation_strategies.json', 'w') as f:\n",
    "    json.dump(imputation_dict, f)\n",
    "\n",
    "print(\"Archivo JSON guardado con éxito.\")"
   ]
  },
  {
   "cell_type": "code",
   "execution_count": 24,
   "metadata": {},
   "outputs": [
    {
     "name": "stdout",
     "output_type": "stream",
     "text": [
      "{'member_id': {'estrategia': 'all_nan', 'valor': None}, 'annual_inc_joint': {'estrategia': 'all_nan', 'valor': None}, 'dti_joint': {'estrategia': 'all_nan', 'valor': None}, 'verification_status_joint': {'estrategia': 'all_nan', 'valor': None}, 'open_acc_6m': {'estrategia': 'all_nan', 'valor': None}, 'open_act_il': {'estrategia': 'all_nan', 'valor': None}, 'open_il_12m': {'estrategia': 'all_nan', 'valor': None}, 'open_il_24m': {'estrategia': 'all_nan', 'valor': None}, 'mths_since_rcnt_il': {'estrategia': 'all_nan', 'valor': None}, 'total_bal_il': {'estrategia': 'all_nan', 'valor': None}, 'il_util': {'estrategia': 'all_nan', 'valor': None}, 'open_rv_12m': {'estrategia': 'all_nan', 'valor': None}, 'open_rv_24m': {'estrategia': 'all_nan', 'valor': None}, 'max_bal_bc': {'estrategia': 'all_nan', 'valor': None}, 'all_util': {'estrategia': 'all_nan', 'valor': None}, 'inq_fi': {'estrategia': 'all_nan', 'valor': None}, 'total_cu_tl': {'estrategia': 'all_nan', 'valor': None}, 'inq_last_12m': {'estrategia': 'all_nan', 'valor': None}, 'revol_bal_joint': {'estrategia': 'all_nan', 'valor': None}, 'sec_app_fico_range_low': {'estrategia': 'all_nan', 'valor': None}, 'sec_app_fico_range_high': {'estrategia': 'all_nan', 'valor': None}, 'sec_app_earliest_cr_line': {'estrategia': 'all_nan', 'valor': None}, 'sec_app_inq_last_6mths': {'estrategia': 'all_nan', 'valor': None}, 'sec_app_mort_acc': {'estrategia': 'all_nan', 'valor': None}, 'sec_app_open_acc': {'estrategia': 'all_nan', 'valor': None}, 'sec_app_revol_util': {'estrategia': 'all_nan', 'valor': None}, 'sec_app_open_act_il': {'estrategia': 'all_nan', 'valor': None}, 'sec_app_num_rev_accts': {'estrategia': 'all_nan', 'valor': None}, 'sec_app_chargeoff_within_12_mths': {'estrategia': 'all_nan', 'valor': None}, 'sec_app_collections_12_mths_ex_med': {'estrategia': 'all_nan', 'valor': None}, 'sec_app_mths_since_last_major_derog': {'estrategia': 'all_nan', 'valor': None}}\n"
     ]
    }
   ],
   "source": [
    "def cargar_estrategias_imputacion(json_path):\n",
    "    with open(json_path, 'r') as f:\n",
    "        return json.load(f)\n",
    "\n",
    "# Cargar el archivo JSON y almacenarlo en una variable\n",
    "estrategias_imputacion = cargar_estrategias_imputacion('imputation_strategies.json')\n",
    "\n",
    "# Mostrar las estrategias cargadas\n",
    "print(estrategias_imputacion)"
   ]
  },
  {
   "cell_type": "markdown",
   "metadata": {},
   "source": []
  }
 ],
 "metadata": {
  "kernelspec": {
   "display_name": "Python 3",
   "language": "python",
   "name": "python3"
  },
  "language_info": {
   "codemirror_mode": {
    "name": "ipython",
    "version": 3
   },
   "file_extension": ".py",
   "mimetype": "text/x-python",
   "name": "python",
   "nbconvert_exporter": "python",
   "pygments_lexer": "ipython3",
   "version": "3.11.5"
  },
  "orig_nbformat": 4,
  "vscode": {
   "interpreter": {
    "hash": "e7370f93d1d0cde622a1f8e1c04877d8463912d04d973331ad4851f04de6915a"
   }
  }
 },
 "nbformat": 4,
 "nbformat_minor": 2
}
