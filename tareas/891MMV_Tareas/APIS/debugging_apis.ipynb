{
 "cells": [
  {
   "cell_type": "markdown",
   "metadata": {},
   "source": [
    "<a target=\"_blank\" href=\"https://colab.research.google.com/github/sonder-art/fdd_o23/blob/main/codigo/debugg/debugging_apis.ipynb\">\n",
    "  <img src=\"https://colab.research.google.com/assets/colab-badge.svg\" alt=\"Open In Colab\"/>\n",
    "</a>"
   ]
  },
  {
   "cell_type": "markdown",
   "metadata": {},
   "source": [
    "Se entrega a mas tardar el martes 14 de Noviembre a las 11:55 pm. Vale 40 puntos de tarea.\n",
    "Te recomiendo leer todo el ejercicio antes de empezar a ahcer codigo, para que te des una idea de que formato y estructura necesitamos"
   ]
  },
  {
   "cell_type": "code",
   "execution_count": 3,
   "metadata": {},
   "outputs": [],
   "source": [
    "import pandas as pd\n",
    "import requests\n",
    "# Completa las librerias que necesites"
   ]
  },
  {
   "cell_type": "markdown",
   "metadata": {},
   "source": [
    "Objetivos del Ejercicio:\n",
    "\n",
    "    Realizar una solicitud a la API de Pokémon para obtener datos sobre un Pokémon específico.\n",
    "    Cargar y visualizar los datos en bruto para comprender su estructura.\n",
    "    Limpiar y organizar los datos para un análisis posterior.\n",
    "    Guardar los datos limpios en un archivo CSV."
   ]
  },
  {
   "cell_type": "markdown",
   "metadata": {},
   "source": [
    "El objetivo es crear un `DataFrame` (tidydata) de varios pokemones que ademas contengan metadata de sus moviemientos.  \n",
    "Para ello deberas realizar request al `API` de pokemon, entender como vienen los datos y despues combinarlos con los `joins` correspondientes."
   ]
  },
  {
   "cell_type": "markdown",
   "metadata": {},
   "source": [
    "# API request"
   ]
  },
  {
   "cell_type": "markdown",
   "metadata": {},
   "source": [
    "Crea codigo para acceder al API de pokemon y hacer requests"
   ]
  },
  {
   "cell_type": "code",
   "execution_count": 4,
   "metadata": {},
   "outputs": [
    {
     "name": "stdout",
     "output_type": "stream",
     "text": [
      "Nombre: lucario\n",
      "Altura: 12\n",
      "Peso: 540\n",
      "Tipos:\n",
      "- fighting\n",
      "- steel\n"
     ]
    }
   ],
   "source": [
    "# URL de la API de Pokémon para Lucario\n",
    "url = \"https://pokeapi.co/api/v2/pokemon/lucario\"\n",
    "\n",
    "# Realizar la solicitud GET a la URL\n",
    "response = requests.get(url)\n",
    "\n",
    "# Comprobar si la solicitud fue exitosa (código de estado 200)\n",
    "if response.status_code == 200:\n",
    "    # Parsear los datos JSON de la respuesta\n",
    "    data = response.json()\n",
    "\n",
    "    # Imprimir información sobre Lucario\n",
    "    print(\"Nombre:\", data['name'])\n",
    "    print(\"Altura:\", data['height'])\n",
    "    print(\"Peso:\", data['weight'])\n",
    "    print(\"Tipos:\")\n",
    "    for tipo in data['types']:\n",
    "        print(\"- {}\".format(tipo['type']['name']))\n",
    "else:\n",
    "    print(\"No se pudo conectar a la API. Código de estado:\", response.status_code)"
   ]
  },
  {
   "cell_type": "markdown",
   "metadata": {},
   "source": [
    "Compelta el siguiente snippet para obter los datos del API de pokemon."
   ]
  },
  {
   "cell_type": "markdown",
   "metadata": {},
   "source": [
    "## Pokemon Data"
   ]
  },
  {
   "cell_type": "markdown",
   "metadata": {},
   "source": [
    "Para  el tipo de pokemon debes obtener:\n",
    "1. `pokemon_id`\n",
    "2. `pokemon_name`\n",
    "3. `type`(s) cada pokemon tiene a 1 o dos tipos (no mas). Tienes que guardar ambos  \n",
    "\n",
    "Guarda los `moves` del pokemon pues los usaremos mas adelante. En especial el `name` y la `url` de cada movimiento apra que podamos iterar despues"
   ]
  },
  {
   "cell_type": "code",
   "execution_count": null,
   "metadata": {},
   "outputs": [],
   "source": []
  },
  {
   "cell_type": "code",
   "execution_count": 13,
   "metadata": {},
   "outputs": [
    {
     "name": "stdout",
     "output_type": "stream",
     "text": [
      "Movimientos de Lucario:\n",
      "mega-punch\n",
      "ice-punch\n",
      "thunder-punch\n",
      "swords-dance\n",
      "mega-kick\n",
      "headbutt\n",
      "body-slam\n",
      "take-down\n",
      "roar\n",
      "hyper-beam\n",
      "low-kick\n",
      "counter\n",
      "strength\n",
      "earthquake\n",
      "dig\n",
      "toxic\n",
      "psychic\n",
      "agility\n",
      "quick-attack\n",
      "screech\n",
      "double-team\n",
      "focus-energy\n",
      "metronome\n",
      "swift\n",
      "rest\n",
      "rock-slide\n",
      "substitute\n",
      "snore\n",
      "reversal\n",
      "protect\n",
      "scary-face\n",
      "mud-slap\n",
      "foresight\n",
      "detect\n",
      "bone-rush\n",
      "endure\n",
      "swagger\n",
      "fury-cutter\n",
      "attract\n",
      "sleep-talk\n",
      "return\n",
      "frustration\n",
      "iron-tail\n",
      "metal-claw\n",
      "hidden-power\n",
      "rain-dance\n",
      "sunny-day\n",
      "crunch\n",
      "extreme-speed\n",
      "shadow-ball\n",
      "rock-smash\n",
      "facade\n",
      "focus-punch\n",
      "helping-hand\n",
      "role-play\n",
      "revenge\n",
      "brick-break\n",
      "secret-power\n",
      "blaze-kick\n",
      "meteor-mash\n",
      "rock-tomb\n",
      "metal-sound\n",
      "aerial-ace\n",
      "iron-defense\n",
      "bulk-up\n",
      "calm-mind\n",
      "water-pulse\n",
      "natural-gift\n",
      "feint\n",
      "close-combat\n",
      "payback\n",
      "fling\n",
      "me-first\n",
      "copycat\n",
      "magnet-rise\n",
      "force-palm\n",
      "aura-sphere\n",
      "poison-jab\n",
      "dark-pulse\n",
      "dragon-pulse\n",
      "drain-punch\n",
      "vacuum-wave\n",
      "focus-blast\n",
      "giga-impact\n",
      "nasty-plot\n",
      "shadow-claw\n",
      "zen-headbutt\n",
      "flash-cannon\n",
      "rock-climb\n",
      "stone-edge\n",
      "captivate\n",
      "hone-claws\n",
      "low-sweep\n",
      "round\n",
      "quick-guard\n",
      "heal-pulse\n",
      "retaliate\n",
      "final-gambit\n",
      "bulldoze\n",
      "work-up\n",
      "dual-chop\n",
      "confide\n",
      "power-up-punch\n",
      "laser-focus\n",
      "life-dew\n",
      "steel-beam\n",
      "terrain-pulse\n",
      "coaching\n",
      "tera-blast\n",
      "trailblaze\n"
     ]
    }
   ],
   "source": [
    "# Solicitud para obtener datos de un Pokémon\n",
    "pokemon_name= 'lucario'\n",
    "pokemon_url = f'https://pokeapi.co/api/v2/pokemon/{pokemon_name}'\n",
    "pokemon_response = requests.get(pokemon_url)\n",
    "pokemon_data =  response.json() #hasta este punto estan todos los datos de lucario  \n",
    "#consiguiendo solamente sus movimientos \n",
    "moves = [movimiento['move']['name'] for movimiento in data['moves']]\n",
    "    \n",
    "    # Imprimir la lista de movimientos\n",
    "print(\"Movimientos de Lucario:\")\n",
    "for movimiento in moves:\n",
    "        print(movimiento)\n",
    " \n",
    "\n"
   ]
  },
  {
   "cell_type": "markdown",
   "metadata": {},
   "source": [
    "## Moves Data"
   ]
  },
  {
   "cell_type": "markdown",
   "metadata": {},
   "source": [
    "Ahora para cada movimiento `move` del pokemon debes obtener los siguientes datos usando la `url`\n",
    "1. `name`\n",
    "2. `accuracy`\n",
    "3. `type`\n",
    "4. `power`\n",
    "5. `pp`"
   ]
  },
  {
   "cell_type": "code",
   "execution_count": null,
   "metadata": {},
   "outputs": [],
   "source": [
    "# Solicitud para obtener datos de movimientos de un Pokémon\n",
    "\n",
    "for move in moves: # Modifica el codigo dependiendo de como hayas guardado los movimientos anteriormente\n",
    "    url_move= f\"https://pokeapi.co/api/v2/move/{move}\" #Realizando el get \n",
    "    response_move = requests.get(url_move)\n",
    "    \n",
    "    \n",
    "    \n",
    "    \n",
    "    \n",
    "    \n",
    "\n"
   ]
  },
  {
   "cell_type": "markdown",
   "metadata": {},
   "source": [
    "# API Request para varios pokemons"
   ]
  },
  {
   "cell_type": "markdown",
   "metadata": {},
   "source": [
    "Ahora que sabes como funciona el `API` realiza las peticiones de los siguientes pokemones respecto a sus caracteristicas\n",
    "y moviemientos, y guardalas en una lista, diciconario o tabla (lo que mas te acomode). "
   ]
  },
  {
   "cell_type": "code",
   "execution_count": 8,
   "metadata": {},
   "outputs": [],
   "source": [
    "pokemons =['lucario', 'pikachu', 'gengar', 'charizard', 'blastoise', 'venusaur', 'dragonite', 'mew', 'mewtwo', 'garchomp']"
   ]
  },
  {
   "cell_type": "code",
   "execution_count": null,
   "metadata": {},
   "outputs": [],
   "source": [
    "# Solicitudes para obtener datos de un Pokémon\n",
    "for pokemon in pokemons:\n",
    "    # Datos del Pokémon\n",
    "    pokemon_url = f'https://pokeapi.co/api/v2/pokemon/{pokemon}'\n",
    "\n",
    "    \n",
    "    # No olvides incluir los movimientos"
   ]
  },
  {
   "cell_type": "markdown",
   "metadata": {},
   "source": [
    "# Evolucion a  Tabular"
   ]
  },
  {
   "cell_type": "markdown",
   "metadata": {},
   "source": [
    "Ahora para cada request (`pokemon` y `movimiento`) convierte su informacion a datos tabulares. Toma en cuenta que vamos a realizar operaciones sobre esos DataFrames, por lo tanto tienes que elegir un formato adecuado.  \n",
    "Para cada pokemon, y para cada movimiento debe existir un `DataFrame`"
   ]
  },
  {
   "cell_type": "code",
   "execution_count": null,
   "metadata": {},
   "outputs": [],
   "source": [
    "# Tu codigo aqui"
   ]
  },
  {
   "cell_type": "markdown",
   "metadata": {},
   "source": [
    "# Union de Informacion"
   ]
  },
  {
   "cell_type": "markdown",
   "metadata": {},
   "source": [
    "1. Obten el nombre y caracteristicas de todos lo movimientos que aparecen en por lo menos 3 pokemons de los de la lista, y guarda los datos de movimiento en un solo `DataFrame`"
   ]
  },
  {
   "cell_type": "code",
   "execution_count": null,
   "metadata": {},
   "outputs": [],
   "source": [
    "# Tu codigo aqui\n"
   ]
  },
  {
   "cell_type": "markdown",
   "metadata": {},
   "source": [
    "1.1 Salva los datos en un archivo csv"
   ]
  },
  {
   "cell_type": "code",
   "execution_count": null,
   "metadata": {},
   "outputs": [],
   "source": [
    "pd.DataFrame().to_csv('pokemon_moves_3.csv',index=False)"
   ]
  },
  {
   "cell_type": "markdown",
   "metadata": {},
   "source": [
    "2. Obten el nombre y caracteristicas todos los moviemientos que no se repiten en ningun otro pokemon, osea son movimientos unicos para un solo pokemon"
   ]
  },
  {
   "cell_type": "code",
   "execution_count": null,
   "metadata": {},
   "outputs": [],
   "source": [
    "# Tu codigo aqui"
   ]
  },
  {
   "cell_type": "markdown",
   "metadata": {},
   "source": [
    "2.2 Salvalos a un csv"
   ]
  },
  {
   "cell_type": "code",
   "execution_count": null,
   "metadata": {},
   "outputs": [],
   "source": [
    "pd.DataFrame().to_csv('unrepeated_moves.csv',index=False)"
   ]
  },
  {
   "cell_type": "markdown",
   "metadata": {},
   "source": [
    "# Manejo de tipos"
   ]
  },
  {
   "cell_type": "markdown",
   "metadata": {},
   "source": [
    "Para cada tipo de pokemon (fire, water, grass, etc) que aparecen en los datos. Obten una serie de dataframes que contengan a los pokemones que son de cada tipo. Y colocalos en un diccionarion donde la llave (`key`) es el tipo"
   ]
  },
  {
   "cell_type": "code",
   "execution_count": null,
   "metadata": {},
   "outputs": [],
   "source": [
    "# Tu codigo aqui\n",
    "\n",
    "\n",
    "# Esta es la estructura que debes crear al final\n",
    "df_tipos = {\n",
    "    'fire':pd.DataFrame(),\n",
    "    'water':pd.DataFrame(),\n",
    "    # \n",
    "}"
   ]
  },
  {
   "cell_type": "markdown",
   "metadata": {},
   "source": [
    "Despues guara ese diccionario en un json llamado `tipos.json`"
   ]
  },
  {
   "cell_type": "code",
   "execution_count": null,
   "metadata": {},
   "outputs": [],
   "source": [
    "# Tu codigo aqui\n",
    "# Nonbre del json `pokemon_tipes.json`"
   ]
  },
  {
   "cell_type": "markdown",
   "metadata": {},
   "source": [
    "# Seleccion de Pokemones"
   ]
  },
  {
   "cell_type": "markdown",
   "metadata": {},
   "source": [
    "Ahora crea un DataFrame que para cada pokemon unicamente contenga los movimientos que son de su tipo (osea si es tipo fuego y voldaor solo usa movimientos de tipo volador y fuego). Y crea una tabla donde tengan los siguientes datos en formato `tidydata`:\n",
    "1. `pokemon_id`\n",
    "2. `pokemon_name`\n",
    "3. `type`(s) cada pokemon tiene a 1 o dos tipos (no mas). Tienes que guardar ambos  \n",
    "4. `name` (del movimiento)\n",
    "5. `accuracy`\n",
    "6. `type`\n",
    "7. `power`\n",
    "8. `pp`"
   ]
  },
  {
   "cell_type": "code",
   "execution_count": null,
   "metadata": {},
   "outputs": [],
   "source": [
    "# Tu codigo aqui\n"
   ]
  },
  {
   "cell_type": "markdown",
   "metadata": {},
   "source": [
    "Finalmente guarda los datos en `.parquet`"
   ]
  },
  {
   "cell_type": "code",
   "execution_count": null,
   "metadata": {},
   "outputs": [],
   "source": [
    "# Nombre del archivo: tabla_pokemon.parquet"
   ]
  }
 ],
 "metadata": {
  "kernelspec": {
   "display_name": "Python 3",
   "language": "python",
   "name": "python3"
  },
  "language_info": {
   "codemirror_mode": {
    "name": "ipython",
    "version": 3
   },
   "file_extension": ".py",
   "mimetype": "text/x-python",
   "name": "python",
   "nbconvert_exporter": "python",
   "pygments_lexer": "ipython3",
   "version": "3.11.5"
  }
 },
 "nbformat": 4,
 "nbformat_minor": 2
}
