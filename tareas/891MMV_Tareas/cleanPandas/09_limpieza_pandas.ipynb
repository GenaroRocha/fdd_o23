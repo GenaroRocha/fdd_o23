{
 "cells": [
  {
   "attachments": {},
   "cell_type": "markdown",
   "metadata": {},
   "source": [
    "# Prediccion de Default en Prestamos\n"
   ]
  },
  {
   "cell_type": "markdown",
   "metadata": {},
   "source": [
    "Para este proyecto utilizaremos un sample de los datos de Lending Club. La idea es predecir si cierto usuario cometera Default basado en informacion que la plataforma recolecta. Esto nos ayudara a mejorar la metodologia/pipeline de prestamo.\n"
   ]
  },
  {
   "attachments": {},
   "cell_type": "markdown",
   "metadata": {},
   "source": [
    "# Descripcion"
   ]
  },
  {
   "attachments": {},
   "cell_type": "markdown",
   "metadata": {},
   "source": [
    "\n",
    "\n",
    "Contiene los prestamos de esta plataforma:\n",
    "\n",
    "    periodo 2007-2017Q3.\n",
    "    887mil observaciones, sample de 100mil\n",
    "    150 variables\n",
    "    Target: loan status\n",
    "\n"
   ]
  },
  {
   "cell_type": "markdown",
   "metadata": {},
   "source": [
    "# Objetivo"
   ]
  },
  {
   "cell_type": "markdown",
   "metadata": {},
   "source": [
    "Realizar un ETL y un EDA"
   ]
  },
  {
   "attachments": {},
   "cell_type": "markdown",
   "metadata": {},
   "source": [
    "## ETL"
   ]
  },
  {
   "attachments": {},
   "cell_type": "markdown",
   "metadata": {},
   "source": [
    "0. Limpia los datos de tal manera que al final del ETL queden en formato `tidy`.\n",
    "1. Asegurate de cargar y leer los datos\n",
    "2. Crea una tabla donde se guarde el nombre de la columna y el tipo de dato: (`column_name`,   `type`).\n",
    "3. Asegurate de pensar cual es el tipo de dato correcto. Porque elejiste strig/object o float o int?. No hay respuestas incorrectas como tal, pero tienes que justificar tu decision.\n",
    "4. Maneja missings o nans de la manera adecuada. Justifica cada decision\n",
    "\n",
    "\n",
    "\n",
    "\n",
    "\n"
   ]
  },
  {
   "attachments": {},
   "cell_type": "markdown",
   "metadata": {},
   "source": [
    "## EDA"
   ]
  },
  {
   "attachments": {},
   "cell_type": "markdown",
   "metadata": {},
   "source": [
    "0. Preparar lo datos para un pipeline de datos\n",
    "1. Quitar columnas inservibles \n",
    "2. Imputar valores\n",
    "3. Mantener replicabildiad y reproducibilidad"
   ]
  },
  {
   "attachments": {},
   "cell_type": "markdown",
   "metadata": {},
   "source": [
    "**No olvides anotar tus justificaciones en celdas para recordar cuando te toque explicarlo.** Puedes agregar el numero de celdas que necesites para poner tu explicacion y el codigo, solo manten la estructura."
   ]
  },
  {
   "attachments": {},
   "cell_type": "markdown",
   "metadata": {},
   "source": [
    "# ETL"
   ]
  },
  {
   "cell_type": "code",
   "execution_count": 1,
   "metadata": {},
   "outputs": [],
   "source": [
    "import pandas as pd\n",
    "import numpy as np\n",
    "import re\n"
   ]
  },
  {
   "attachments": {},
   "cell_type": "markdown",
   "metadata": {},
   "source": [
    "Vas a obtener 2 errores, solucionalo con los visto en clase.  \n",
    "Tip: Se arreglan con argumentos adicionales de la funcion `read_csv`  \n",
    "Documentacion: https://pandas.pydata.org/docs/reference/api/pandas.read_csv.html "
   ]
  },
  {
   "cell_type": "code",
   "execution_count": 2,
   "metadata": {},
   "outputs": [
    {
     "name": "stdout",
     "output_type": "stream",
     "text": [
      "       Unnamed: 0        id  member_id  loan_amnt  funded_amnt  \\\n",
      "0               0  38098114        NaN    15000.0      15000.0   \n",
      "1               1  36805548        NaN    10400.0      10400.0   \n",
      "2               2  37842129        NaN    21425.0      21425.0   \n",
      "3               3  37612354        NaN    12800.0      12800.0   \n",
      "4               4  37662224        NaN     7650.0       7650.0   \n",
      "...           ...       ...        ...        ...          ...   \n",
      "99995       99995  22454240        NaN     8400.0       8400.0   \n",
      "99996       99996  11396920        NaN    10000.0      10000.0   \n",
      "99997       99997   8556176        NaN    30000.0      30000.0   \n",
      "99998       99998  24023408        NaN     8475.0       8475.0   \n",
      "99999       99999  24023398        NaN    25000.0      25000.0   \n",
      "\n",
      "       funded_amnt_inv        term  int_rate  installment grade  ...  \\\n",
      "0              15000.0   60 months     12.39       336.64     C  ...   \n",
      "1              10400.0   36 months      6.99       321.08     A  ...   \n",
      "2              21425.0   60 months     15.59       516.36     D  ...   \n",
      "3              12800.0   60 months     17.14       319.08     D  ...   \n",
      "4               7650.0   36 months     13.66       260.20     C  ...   \n",
      "...                ...         ...       ...          ...   ...  ...   \n",
      "99995           8400.0   36 months      9.17       267.79     B  ...   \n",
      "99996          10000.0   36 months     12.99       336.90     C  ...   \n",
      "99997          30000.0   60 months     20.99       811.44     E  ...   \n",
      "99998           8475.0   36 months     24.99       336.92     F  ...   \n",
      "99999          25000.0   36 months     10.15       808.45     B  ...   \n",
      "\n",
      "      hardship_payoff_balance_amount hardship_last_payment_amount  \\\n",
      "0                                NaN                          NaN   \n",
      "1                                NaN                          NaN   \n",
      "2                                NaN                          NaN   \n",
      "3                                NaN                          NaN   \n",
      "4                                NaN                          NaN   \n",
      "...                              ...                          ...   \n",
      "99995                            NaN                          NaN   \n",
      "99996                            NaN                          NaN   \n",
      "99997                            NaN                          NaN   \n",
      "99998                            NaN                          NaN   \n",
      "99999                            NaN                          NaN   \n",
      "\n",
      "      disbursement_method debt_settlement_flag  debt_settlement_flag_date  \\\n",
      "0                    Cash                    N                        NaN   \n",
      "1                    Cash                    N                        NaN   \n",
      "2                    Cash                    N                        NaN   \n",
      "3                    Cash                    N                        NaN   \n",
      "4                    Cash                    N                        NaN   \n",
      "...                   ...                  ...                        ...   \n",
      "99995                Cash                    N                        NaN   \n",
      "99996                Cash                    N                        NaN   \n",
      "99997                Cash                    N                        NaN   \n",
      "99998                Cash                    N                        NaN   \n",
      "99999                Cash                    N                        NaN   \n",
      "\n",
      "      settlement_status settlement_date settlement_amount  \\\n",
      "0                   NaN             NaN               NaN   \n",
      "1                   NaN             NaN               NaN   \n",
      "2                   NaN             NaN               NaN   \n",
      "3                   NaN             NaN               NaN   \n",
      "4                   NaN             NaN               NaN   \n",
      "...                 ...             ...               ...   \n",
      "99995               NaN             NaN               NaN   \n",
      "99996               NaN             NaN               NaN   \n",
      "99997               NaN             NaN               NaN   \n",
      "99998               NaN             NaN               NaN   \n",
      "99999               NaN             NaN               NaN   \n",
      "\n",
      "      settlement_percentage settlement_term  \n",
      "0                       NaN             NaN  \n",
      "1                       NaN             NaN  \n",
      "2                       NaN             NaN  \n",
      "3                       NaN             NaN  \n",
      "4                       NaN             NaN  \n",
      "...                     ...             ...  \n",
      "99995                   NaN             NaN  \n",
      "99996                   NaN             NaN  \n",
      "99997                   NaN             NaN  \n",
      "99998                   NaN             NaN  \n",
      "99999                   NaN             NaN  \n",
      "\n",
      "[100000 rows x 151 columns]\n"
     ]
    },
    {
     "name": "stderr",
     "output_type": "stream",
     "text": [
      "/var/folders/81/3z5tmwbd7sq0s2qmqph5c0c80000gn/T/ipykernel_24567/1129007760.py:1: DtypeWarning: Columns (19) have mixed types. Specify dtype option on import or set low_memory=False.\n",
      "  loans = pd.read_csv('https://github.com/sonder-art/fdd_prim_2023/blob/main/codigo/pandas/LoansData_sample.csv.gz?raw=true', sep=',', compression='gzip', encoding='latin-1')\n"
     ]
    }
   ],
   "source": [
    "loans = pd.read_csv('https://github.com/sonder-art/fdd_prim_2023/blob/main/codigo/pandas/LoansData_sample.csv.gz?raw=true', sep=',', compression='gzip', encoding='latin-1')\n",
    "\n",
    "print(loans)"
   ]
  },
  {
   "cell_type": "code",
   "execution_count": 3,
   "metadata": {},
   "outputs": [],
   "source": [
    "#Limpiando los datos\n",
    "#Eliminando columnas inecesarias \n",
    "loans.drop(\"Unnamed: 0\", axis=1, inplace=True) #Al descomprimir los datos se crea una columna inecesaria\n",
    "loans.drop(\"member_id\", axis=1, inplace=True)#Es redundante tener la columna member_id ya que es lo mismo que la columna id\n",
    "\n"
   ]
  },
  {
   "cell_type": "code",
   "execution_count": 4,
   "metadata": {},
   "outputs": [
    {
     "data": {
      "text/html": [
       "<div>\n",
       "<style scoped>\n",
       "    .dataframe tbody tr th:only-of-type {\n",
       "        vertical-align: middle;\n",
       "    }\n",
       "\n",
       "    .dataframe tbody tr th {\n",
       "        vertical-align: top;\n",
       "    }\n",
       "\n",
       "    .dataframe thead th {\n",
       "        text-align: right;\n",
       "    }\n",
       "</style>\n",
       "<table border=\"1\" class=\"dataframe\">\n",
       "  <thead>\n",
       "    <tr style=\"text-align: right;\">\n",
       "      <th></th>\n",
       "      <th>emp_title</th>\n",
       "      <th>home_ownership</th>\n",
       "      <th>verification_status</th>\n",
       "      <th>purpose</th>\n",
       "      <th>title</th>\n",
       "    </tr>\n",
       "  </thead>\n",
       "  <tbody>\n",
       "    <tr>\n",
       "      <th>0</th>\n",
       "      <td>MANAGEMENT</td>\n",
       "      <td>RENT</td>\n",
       "      <td>Source Verified</td>\n",
       "      <td>debt_consolidation</td>\n",
       "      <td>Debt consolidation</td>\n",
       "    </tr>\n",
       "    <tr>\n",
       "      <th>1</th>\n",
       "      <td>Truck Driver Delivery Personel</td>\n",
       "      <td>MORTGAGE</td>\n",
       "      <td>Not Verified</td>\n",
       "      <td>credit_card</td>\n",
       "      <td>Credit card refinancing</td>\n",
       "    </tr>\n",
       "    <tr>\n",
       "      <th>2</th>\n",
       "      <td>Programming Analysis Supervisor</td>\n",
       "      <td>RENT</td>\n",
       "      <td>Source Verified</td>\n",
       "      <td>credit_card</td>\n",
       "      <td>Credit card refinancing</td>\n",
       "    </tr>\n",
       "    <tr>\n",
       "      <th>3</th>\n",
       "      <td>Senior Sales Professional</td>\n",
       "      <td>MORTGAGE</td>\n",
       "      <td>Verified</td>\n",
       "      <td>car</td>\n",
       "      <td>Car financing</td>\n",
       "    </tr>\n",
       "    <tr>\n",
       "      <th>4</th>\n",
       "      <td>Technical Specialist</td>\n",
       "      <td>RENT</td>\n",
       "      <td>Source Verified</td>\n",
       "      <td>debt_consolidation</td>\n",
       "      <td>Debt consolidation</td>\n",
       "    </tr>\n",
       "    <tr>\n",
       "      <th>...</th>\n",
       "      <td>...</td>\n",
       "      <td>...</td>\n",
       "      <td>...</td>\n",
       "      <td>...</td>\n",
       "      <td>...</td>\n",
       "    </tr>\n",
       "    <tr>\n",
       "      <th>99995</th>\n",
       "      <td>Software Engineer</td>\n",
       "      <td>MORTGAGE</td>\n",
       "      <td>Source Verified</td>\n",
       "      <td>debt_consolidation</td>\n",
       "      <td>Debt consolidation</td>\n",
       "    </tr>\n",
       "    <tr>\n",
       "      <th>99996</th>\n",
       "      <td>Assistant Professor of English</td>\n",
       "      <td>RENT</td>\n",
       "      <td>Not Verified</td>\n",
       "      <td>debt_consolidation</td>\n",
       "      <td>Debt consolidation</td>\n",
       "    </tr>\n",
       "    <tr>\n",
       "      <th>99997</th>\n",
       "      <td>Facilities Tech 3</td>\n",
       "      <td>RENT</td>\n",
       "      <td>Verified</td>\n",
       "      <td>debt_consolidation</td>\n",
       "      <td>Debt consolidation</td>\n",
       "    </tr>\n",
       "    <tr>\n",
       "      <th>99998</th>\n",
       "      <td>Records Examiner Analyst</td>\n",
       "      <td>RENT</td>\n",
       "      <td>Verified</td>\n",
       "      <td>debt_consolidation</td>\n",
       "      <td>Debt consolidation</td>\n",
       "    </tr>\n",
       "    <tr>\n",
       "      <th>99999</th>\n",
       "      <td>Occupational Theapy Assistant</td>\n",
       "      <td>OWN</td>\n",
       "      <td>Source Verified</td>\n",
       "      <td>debt_consolidation</td>\n",
       "      <td>Debt consolidation</td>\n",
       "    </tr>\n",
       "  </tbody>\n",
       "</table>\n",
       "<p>100000 rows × 5 columns</p>\n",
       "</div>"
      ],
      "text/plain": [
       "                             emp_title home_ownership verification_status  \\\n",
       "0                           MANAGEMENT           RENT     Source Verified   \n",
       "1       Truck Driver Delivery Personel       MORTGAGE        Not Verified   \n",
       "2      Programming Analysis Supervisor           RENT     Source Verified   \n",
       "3            Senior Sales Professional       MORTGAGE            Verified   \n",
       "4                 Technical Specialist           RENT     Source Verified   \n",
       "...                                ...            ...                 ...   \n",
       "99995                Software Engineer       MORTGAGE     Source Verified   \n",
       "99996   Assistant Professor of English           RENT        Not Verified   \n",
       "99997                Facilities Tech 3           RENT            Verified   \n",
       "99998         Records Examiner Analyst           RENT            Verified   \n",
       "99999    Occupational Theapy Assistant            OWN     Source Verified   \n",
       "\n",
       "                  purpose                    title  \n",
       "0      debt_consolidation       Debt consolidation  \n",
       "1             credit_card  Credit card refinancing  \n",
       "2             credit_card  Credit card refinancing  \n",
       "3                     car            Car financing  \n",
       "4      debt_consolidation       Debt consolidation  \n",
       "...                   ...                      ...  \n",
       "99995  debt_consolidation       Debt consolidation  \n",
       "99996  debt_consolidation       Debt consolidation  \n",
       "99997  debt_consolidation       Debt consolidation  \n",
       "99998  debt_consolidation       Debt consolidation  \n",
       "99999  debt_consolidation       Debt consolidation  \n",
       "\n",
       "[100000 rows x 5 columns]"
      ]
     },
     "execution_count": 4,
     "metadata": {},
     "output_type": "execute_result"
    }
   ],
   "source": [
    "#Capitalizando datos\n",
    "#Capitaliando valores de columnas de tipo texto\n",
    "valores_cap = [\"emp_title\", \"home_ownership\", \"verification_status\", \"purpose\", \"title\"] #Lista de columnas que se van a convertir a string\n",
    "loans[valores_cap] = loans[valores_cap].apply(lambda x: x.capitalize() if isinstance(x, str) else x)\n",
    "loans[valores_cap]"
   ]
  },
  {
   "cell_type": "code",
   "execution_count": 5,
   "metadata": {},
   "outputs": [],
   "source": [
    "'''para el caso de la columna emp_lenght voy a sustuir el nombre por emp_lenght (years) para tener unicamente valores numericos en la columna \n",
    "En el caso de los empleados que tengan menos de un año no se tomaran en cuenta por lo que sus valores seran 0\n",
    "En el caso de empleados que tienen mas de 10 años la antiguedad se le tomara igual a los que solo tienen 10 años '''\n",
    "#Cambiando nombre de columna\n",
    "loans.rename(columns={'emp_length': 'emp_lenght(years)'}, inplace=True)\n",
    "\n",
    "\n",
    "\n",
    "#Eliminando years de las columnas usando una regular expresion\n",
    "loans['emp_lenght(years)'] = loans['emp_lenght(years)'].str.replace(r'\\s*year(?:s)?$', '', regex=True)\n",
    "\n",
    "#Intercambiando valores \n",
    "loans['emp_lenght(years)'].replace({\"< 1\": \"0\", \"10+\":\"10\" }, inplace=True)\n",
    "\n",
    "#Pasando el valor a double\n",
    "loans['emp_lenght(years)'] = pd.to_numeric(loans['emp_lenght(years)'], errors= 'coerce')\n",
    "\n",
    "\n"
   ]
  },
  {
   "cell_type": "code",
   "execution_count": 11,
   "metadata": {},
   "outputs": [
    {
     "name": "stdout",
     "output_type": "stream",
     "text": [
      "float64\n"
     ]
    }
   ],
   "source": [
    "'''En este bloque de codigo volveremos a modificar el nombre de algunas columnas \n",
    "ademas de su contenido. Lo que buscamos es que en este dataframe todo este en la misma\n",
    "unidad de tiempo, en este caso años'''\n",
    "\n",
    "loans.rename(columns={'term': 'term(years)'}, inplace=True)\n",
    "\n",
    "#Usaremos una regex para eliminar months\n",
    "#loans['term(years)'] = loans['term(years)'].str.replace(r'\\bmonths\\b', '', regex=True)\n",
    "\n",
    "\n",
    "#Pasando los datos a double \n",
    "loans['term(years)'] = pd.to_numeric(loans['term(years)'], errors= 'coerce')\n",
    "\n",
    "#conviertiendo los meses a años \n",
    "#loans['term(years)'] = loans['term(years)']/ 12\n",
    "\n"
   ]
  },
  {
   "cell_type": "code",
   "execution_count": 18,
   "metadata": {},
   "outputs": [
    {
     "name": "stdout",
     "output_type": "stream",
     "text": [
      "int64\n"
     ]
    }
   ],
   "source": [
    "'''En este bloque haremos lo mismo algo similar pero para los zipcode '''\n",
    "\n",
    "#Quitando xx \n",
    "#loans['zip_code'] = loans['zip_code'].str.replace(r'xx$', '', regex=True) \n",
    "\n",
    "#Pasando los datos a numericos \n",
    "loans['zip_code'] = pd.to_numeric(loans['zip_code'], errors= 'coerce')\n",
    "\n"
   ]
  },
  {
   "cell_type": "code",
   "execution_count": 38,
   "metadata": {},
   "outputs": [
    {
     "name": "stdout",
     "output_type": "stream",
     "text": [
      "revol_bal_joint                        False\n",
      "sec_app_fico_range_low                 False\n",
      "sec_app_fico_range_high                False\n",
      "sec_app_earliest_cr_line               False\n",
      "sec_app_inq_last_6mths                 False\n",
      "sec_app_mort_acc                       False\n",
      "sec_app_open_acc                       False\n",
      "sec_app_revol_util                     False\n",
      "sec_app_open_act_il                    False\n",
      "sec_app_num_rev_accts                  False\n",
      "sec_app_chargeoff_within_12_mths       False\n",
      "sec_app_collections_12_mths_ex_med     False\n",
      "sec_app_mths_since_last_major_derog    False\n",
      "dtype: bool\n"
     ]
    }
   ],
   "source": [
    "'''Para facilitar la lectura de datos hay columnas completamente vacias y otras parcialmente vacias\n",
    "Las que esten completamente vacias se eliminaran para facilitar la lectura '''\n",
    "\n",
    "#resultado = loans.loc[:, 'columna2':'columna4']\n",
    "\n",
    "\n",
    "# Función para verificar si al menos un elemento en cada columna es distinto de NaN\n",
    "def verificar_nans(df, columnas):\n",
    "    return df[columnas].notnull().any()\n",
    "\n",
    "columnas_a_verificar = [\"annual_inc_joint\", \"dti_joint\",  \"verification_status_joint\"]\n",
    "resultados = verificar_nans(loans, columnas_a_verificar)\n",
    "#print(resultados)\n",
    "\n",
    "c_f_2 =loans.loc[:,\"open_acc_6m\": \"all_util\"]\n",
    "res= c_f_2.columns.tolist()\n",
    "res1= verificar_nans(loans, res)\n",
    "#print(res1) Eliminar \n",
    "\n",
    "c_f_3= loans.loc[:,\"inq_fi\": \"inq_last_12m\"]\n",
    "res2= c_f_3.columns.tolist()\n",
    "res11= verificar_nans(loans, res2)\n",
    "#print(res11) Eliminar\n",
    "\n",
    "c_f_4= loans.loc[:,\"revol_bal_joint\": \"sec_app_mths_since_last_major_derog\"]\n",
    "res3= c_f_4.columns.tolist()\n",
    "res22= verificar_nans(loans, res3)\n",
    "#print(res22) Eliminar \n",
    "\n",
    "c_f_5= loans.loc[:,\"hardship_type\": \"hardship_last_payment_amount\"]\n",
    "res4= c_f_5.columns.tolist()\n",
    "res33= verificar_nans(loans, res4)\n",
    "print(res33)\n",
    "\n",
    "\n"
   ]
  },
  {
   "cell_type": "markdown",
   "metadata": {},
   "source": [
    "## Tabla (column_name, type)"
   ]
  },
  {
   "attachments": {},
   "cell_type": "markdown",
   "metadata": {},
   "source": [
    "Revisa el metodo pd.DataFrame.dtypes. https://pandas.pydata.org/docs/reference/api/pandas.DataFrame.dtypes.html "
   ]
  },
  {
   "cell_type": "code",
   "execution_count": null,
   "metadata": {},
   "outputs": [],
   "source": [
    "column_types = loans[\"term\"].dtype\n",
    "print(column_types)"
   ]
  },
  {
   "cell_type": "markdown",
   "metadata": {},
   "source": [
    "## Cargar descripcion de columnas"
   ]
  },
  {
   "attachments": {},
   "cell_type": "markdown",
   "metadata": {},
   "source": [
    "La siguiente tabla tiene una descripcion del significado de cada columna"
   ]
  },
  {
   "cell_type": "code",
   "execution_count": null,
   "metadata": {},
   "outputs": [],
   "source": [
    "\n",
    "\n",
    "datos_dict = pd.read_excel(\n",
    "    'https://resources.lendingclub.com/LCDataDictionary.xlsx')\n",
    "datos_dict.columns = ['feature', 'description']\n"
   ]
  },
  {
   "cell_type": "code",
   "execution_count": null,
   "metadata": {},
   "outputs": [],
   "source": [
    "datos_dict"
   ]
  },
  {
   "attachments": {},
   "cell_type": "markdown",
   "metadata": {},
   "source": [
    "### Pickle"
   ]
  },
  {
   "attachments": {},
   "cell_type": "markdown",
   "metadata": {},
   "source": [
    "Crea codigo para **guardar** y **cargar** el DataFrame de `datos_dict` creada en las celdas anteriores en formato **pickle**"
   ]
  },
  {
   "cell_type": "code",
   "execution_count": null,
   "metadata": {},
   "outputs": [],
   "source": [
    "# COdigo guardar"
   ]
  },
  {
   "cell_type": "code",
   "execution_count": null,
   "metadata": {},
   "outputs": [],
   "source": [
    "# Codigo para cargar"
   ]
  },
  {
   "cell_type": "markdown",
   "metadata": {},
   "source": [
    "## Tipos de Datos"
   ]
  },
  {
   "cell_type": "markdown",
   "metadata": {},
   "source": [
    "Realiza las transformaciones o casteos (casting) que creas necesarios a tus datos de tal manera que el typo de dato sea adecuado. Al terminar recrea la tabla `column_types` con los nuevos tipos."
   ]
  },
  {
   "attachments": {},
   "cell_type": "markdown",
   "metadata": {},
   "source": [
    "No olvides anotar tus justificaciones para recordar cuando te toque explicarlo."
   ]
  },
  {
   "cell_type": "code",
   "execution_count": null,
   "metadata": {},
   "outputs": [],
   "source": [
    "# Manejos de tipos 1\n",
    "# Tu codigo aqui"
   ]
  },
  {
   "cell_type": "code",
   "execution_count": null,
   "metadata": {},
   "outputs": [],
   "source": [
    "# Manejos de tipos 2\n",
    "# Tu codigo aqui\n"
   ]
  },
  {
   "cell_type": "code",
   "execution_count": null,
   "metadata": {},
   "outputs": [],
   "source": [
    "# column_types =\n"
   ]
  },
  {
   "attachments": {},
   "cell_type": "markdown",
   "metadata": {},
   "source": [
    "## Manejo de NaNs o missings"
   ]
  },
  {
   "attachments": {},
   "cell_type": "markdown",
   "metadata": {},
   "source": [
    "Maneja los datos de tipos missing. Elije una estrategia adecuada dependiendo del tipo de dato que le asignaste a la columna.\n"
   ]
  },
  {
   "attachments": {},
   "cell_type": "markdown",
   "metadata": {},
   "source": [
    "Crea codigo para **guardar** y **cargar** un archivo JSON en el que se guarde la `estrategia` y `valor` que utilizaste para **imputar**. Por ejemplo: Si hay una columna que se llama `columna 3` y utilizaste la estrategia de imputacion de media, y existe otra llamada `columna 4` y  elegiste la palabra 'missing' el JSON debera contener:  \n",
    "  \n",
    " `{'columna 3':{'estrategia':'mean', 'valor':3.4}, 'columna 4':{'estrategia':'identificador', 'valor':'missing'}}`  \n",
    "\n",
    " De tal manera que para cada columna que tenga un metodo de imputacion apunte a otro diccionario donde el **key** `estrategia` describa de manera sencilla el metodo, y el **key** `valor` el valor usado. En general:   \n",
    " `{'nombre de la columna':{'estrategia':'descripcion de estrategia', 'valor':'valor utilizado'}}`. \n",
    " \n",
    "\n",
    "De utilizar mas de un metodo puedes anidarlos en una lista  \n",
    "  `[{...},{...}]`.  \n",
    "\n",
    "Incluso si la columna utilizada no sufrio imputacion, es necesario que la agregues al JSON.\n",
    "\n",
    "La idea es que cualquier otra persona pueda cargar el el archivo JSON con tu funcion, entender que hiciste y replicarlo facilmente. No existe solo una respuesta correcta, pero tendras que justificar y explicar tus deciciones."
   ]
  },
  {
   "attachments": {},
   "cell_type": "markdown",
   "metadata": {},
   "source": [
    "### Imputacion"
   ]
  },
  {
   "cell_type": "code",
   "execution_count": null,
   "metadata": {},
   "outputs": [],
   "source": [
    "# Tu codigo aqui"
   ]
  },
  {
   "cell_type": "code",
   "execution_count": null,
   "metadata": {},
   "outputs": [],
   "source": [
    "# TUcodigo aqui"
   ]
  },
  {
   "attachments": {},
   "cell_type": "markdown",
   "metadata": {},
   "source": [
    "### Codigo para salvar y cargar JSONs"
   ]
  }
 ],
 "metadata": {
  "kernelspec": {
   "display_name": "Python 3",
   "language": "python",
   "name": "python3"
  },
  "language_info": {
   "codemirror_mode": {
    "name": "ipython",
    "version": 3
   },
   "file_extension": ".py",
   "mimetype": "text/x-python",
   "name": "python",
   "nbconvert_exporter": "python",
   "pygments_lexer": "ipython3",
   "version": "3.11.5"
  },
  "orig_nbformat": 4,
  "vscode": {
   "interpreter": {
    "hash": "e7370f93d1d0cde622a1f8e1c04877d8463912d04d973331ad4851f04de6915a"
   }
  }
 },
 "nbformat": 4,
 "nbformat_minor": 2
}
