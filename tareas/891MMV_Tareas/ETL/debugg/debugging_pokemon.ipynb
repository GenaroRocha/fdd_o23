{
 "cells": [
  {
   "cell_type": "code",
   "execution_count": 1,
   "metadata": {},
   "outputs": [],
   "source": [
    "import pandas as pd\n",
    "import numpy as np\n",
    "from io import StringIO\n",
    "import pytz \n",
    "from datetime import datetime,timezone\n",
    "from zoneinfo import ZoneInfo\n"
   ]
  },
  {
   "cell_type": "markdown",
   "metadata": {},
   "source": [
    "Imagina que eres un investigador en el mundo de Pokémon y has recibido una base de datos con información desactualizada y desordenada sobre avistamientos de Pokémon. Tu misión es limpiar y actualizar esta base de datos para que pueda ser utilizada en un estudio sobre la población de Pokémon en la región."
   ]
  },
  {
   "cell_type": "markdown",
   "metadata": {},
   "source": [
    "Datos Iniciales\n",
    "\n",
    "Los datos iniciales contienen las siguientes columnas:\n",
    "\n",
    "    SightingDate: Fecha del avistamiento.\n",
    "    TrainerID: Identificación del entrenador que reportó el avistamiento.\n",
    "    PokemonName: Nombre del Pokémon avistado.\n",
    "    CP: Puntos de combate del Pokémon reportado.\n",
    "    HP: Puntos de salud del Pokémon reportado.\n",
    "    Type: Tipo del Pokémon.\n",
    "    Weather: Clima durante el avistamiento."
   ]
  },
  {
   "cell_type": "markdown",
   "metadata": {},
   "source": [
    "# 1 Carga de Datos"
   ]
  },
  {
   "cell_type": "code",
   "execution_count": 2,
   "metadata": {},
   "outputs": [
    {
     "name": "stdout",
     "output_type": "stream",
     "text": [
      "               SightingDate    SightingTimeUTC TrainerID PokémonName       CP  \\\n",
      "0  2023-11-08T14:00:00+0000  2023-11-08T14:00Z     TR123     Pikachu      500   \n",
      "1  2023-07-12T09:30:00+0100  2023-07-12T08:30Z     TR456       Eevee  MISSING   \n",
      "2  2023/02/23T22:15:00+0900  2023-02-23T13:15Z     TR789    Magicarp    1,000   \n",
      "3  2023-04-30T06:45:00-0400  2023-04-30T10:45Z     TR101      Gengar      800   \n",
      "4  2023-08-15T16:00:00+1000                NaN     TR102   Bulbasaur      750   \n",
      "\n",
      "   HP          Type        Weather  \n",
      "0  35      Electric          Clear  \n",
      "1  55        Normal         Cloudy  \n",
      "2  10         Water           Rain  \n",
      "3  45         Ghost  PARTLY_CLOUDY  \n",
      "4  50  Grass/Poison          Sunny  \n"
     ]
    }
   ],
   "source": [
    "path_datos = 'pokemon.csv'\n",
    "# TODO completa el codigo para cargar los datos\n",
    "df = pd.read_csv(path_datos, encoding= 'latin-1')\n",
    "print(df)"
   ]
  },
  {
   "cell_type": "markdown",
   "metadata": {},
   "source": [
    "# Limpieza de Datos"
   ]
  },
  {
   "cell_type": "markdown",
   "metadata": {},
   "source": [
    "## 1 Normalizacion de Zonas Horarias"
   ]
  },
  {
   "cell_type": "markdown",
   "metadata": {},
   "source": [
    "Normaliza la columna `'SightingTimeUTC'` a la zona horaria UTC y convierte `'SightingDate'` al mismo formato de tiempo.\n"
   ]
  },
  {
   "cell_type": "code",
   "execution_count": 3,
   "metadata": {},
   "outputs": [
    {
     "name": "stdout",
     "output_type": "stream",
     "text": [
      "               SightingDate           SightingTimeUTC TrainerID PokémonName  \\\n",
      "0 2023-11-08 14:00:00+00:00 2023-11-08 14:00:00+00:00     TR123     Pikachu   \n",
      "1 2023-07-12 08:30:00+00:00 2023-07-12 08:30:00+00:00     TR456       Eevee   \n",
      "2 2023-02-23 13:15:00+00:00 2023-02-23 13:15:00+00:00     TR789    Magicarp   \n",
      "3 2023-04-30 10:45:00+00:00 2023-04-30 10:45:00+00:00     TR101      Gengar   \n",
      "4 2023-08-15 06:00:00+00:00                       NaT     TR102   Bulbasaur   \n",
      "\n",
      "        CP  HP          Type        Weather  \n",
      "0      500  35      Electric          Clear  \n",
      "1  MISSING  55        Normal         Cloudy  \n",
      "2    1,000  10         Water           Rain  \n",
      "3      800  45         Ghost  PARTLY_CLOUDY  \n",
      "4      750  50  Grass/Poison          Sunny  \n"
     ]
    }
   ],
   "source": [
    "# Tu código aquí \n",
    "df['SightingTimeUTC'] =  pd.to_datetime(df['SightingTimeUTC'])\n",
    "\n",
    "df['SightingDate'] =  pd.to_datetime(df['SightingDate'], utc=True, format= \"mixed\")\n",
    "print(df)"
   ]
  },
  {
   "cell_type": "markdown",
   "metadata": {},
   "source": [
    "Compara si la fecha de la columna `'SightingDate'` coincide con la fecha en `'SightingTimeUTC'` una vez normalizada.\n"
   ]
  },
  {
   "cell_type": "code",
   "execution_count": 4,
   "metadata": {},
   "outputs": [
    {
     "name": "stdout",
     "output_type": "stream",
     "text": [
      "               SightingDate           SightingTimeUTC TrainerID PokémonName  \\\n",
      "0 2023-11-08 14:00:00+00:00 2023-11-08 14:00:00+00:00     TR123     Pikachu   \n",
      "1 2023-07-12 08:30:00+00:00 2023-07-12 08:30:00+00:00     TR456       Eevee   \n",
      "2 2023-02-23 13:15:00+00:00 2023-02-23 13:15:00+00:00     TR789    Magicarp   \n",
      "3 2023-04-30 10:45:00+00:00 2023-04-30 10:45:00+00:00     TR101      Gengar   \n",
      "4 2023-08-15 06:00:00+00:00                       NaT     TR102   Bulbasaur   \n",
      "\n",
      "        CP  HP          Type        Weather  DateMatch  \n",
      "0      500  35      Electric          Clear       True  \n",
      "1  MISSING  55        Normal         Cloudy       True  \n",
      "2    1,000  10         Water           Rain       True  \n",
      "3      800  45         Ghost  PARTLY_CLOUDY       True  \n",
      "4      750  50  Grass/Poison          Sunny      False  \n"
     ]
    }
   ],
   "source": [
    "# Pista: Puedes crear una columna nueva para el resultado de la comparación.\n",
    "df['DateMatch'] = df['SightingDate'] == df['SightingTimeUTC']\n",
    "print(df)\n"
   ]
  },
  {
   "cell_type": "markdown",
   "metadata": {},
   "source": [
    "Ajusta `'SightingTimeUTC'` a la zona horaria local de cada entrenador y crea una columna `'SightingTimeLocal'`."
   ]
  },
  {
   "cell_type": "code",
   "execution_count": 5,
   "metadata": {},
   "outputs": [
    {
     "name": "stdout",
     "output_type": "stream",
     "text": [
      "               SightingDate           SightingTimeUTC TrainerID PokémonName  \\\n",
      "0 2023-11-08 14:00:00+00:00 2023-11-08 14:00:00+00:00     TR123     Pikachu   \n",
      "1 2023-07-12 08:30:00+00:00 2023-07-12 08:30:00+00:00     TR456       Eevee   \n",
      "2 2023-02-23 13:15:00+00:00 2023-02-23 13:15:00+00:00     TR789    Magicarp   \n",
      "3 2023-04-30 10:45:00+00:00 2023-04-30 10:45:00+00:00     TR101      Gengar   \n",
      "4 2023-08-15 06:00:00+00:00                       NaT     TR102   Bulbasaur   \n",
      "\n",
      "        CP  HP          Type        Weather  DateMatch  \\\n",
      "0      500  35      Electric          Clear       True   \n",
      "1  MISSING  55        Normal         Cloudy       True   \n",
      "2    1,000  10         Water           Rain       True   \n",
      "3      800  45         Ghost  PARTLY_CLOUDY       True   \n",
      "4      750  50  Grass/Poison          Sunny      False   \n",
      "\n",
      "          SightingTimeLocal  \n",
      "0 2023-11-08 08:00:00-06:00  \n",
      "1 2023-07-12 02:30:00-06:00  \n",
      "2 2023-02-23 07:15:00-06:00  \n",
      "3 2023-04-30 04:45:00-06:00  \n",
      "4                       NaT  \n"
     ]
    }
   ],
   "source": [
    "df['SightingTimeLocal'] = df['SightingTimeUTC'].dt.tz_convert('Mexico/General')\n",
    "print(df)"
   ]
  },
  {
   "cell_type": "markdown",
   "metadata": {},
   "source": [
    "Calcula el tiempo transcurrido desde el momento del avistamiento hasta `'ahora'` (tu hora local) y crea una columna `'TimeSinceSighting'`."
   ]
  },
  {
   "cell_type": "code",
   "execution_count": 6,
   "metadata": {},
   "outputs": [
    {
     "name": "stdout",
     "output_type": "stream",
     "text": [
      "               SightingDate           SightingTimeUTC TrainerID PokémonName  \\\n",
      "0 2023-11-08 14:00:00+00:00 2023-11-08 14:00:00+00:00     TR123     Pikachu   \n",
      "1 2023-07-12 08:30:00+00:00 2023-07-12 08:30:00+00:00     TR456       Eevee   \n",
      "2 2023-02-23 13:15:00+00:00 2023-02-23 13:15:00+00:00     TR789    Magicarp   \n",
      "3 2023-04-30 10:45:00+00:00 2023-04-30 10:45:00+00:00     TR101      Gengar   \n",
      "4 2023-08-15 06:00:00+00:00                       NaT     TR102   Bulbasaur   \n",
      "\n",
      "        CP  HP          Type        Weather  DateMatch  \\\n",
      "0      500  35      Electric          Clear       True   \n",
      "1  MISSING  55        Normal         Cloudy       True   \n",
      "2    1,000  10         Water           Rain       True   \n",
      "3      800  45         Ghost  PARTLY_CLOUDY       True   \n",
      "4      750  50  Grass/Poison          Sunny      False   \n",
      "\n",
      "          SightingTimeLocal        TimeSinceSighting  \n",
      "0 2023-11-08 08:00:00-06:00   2 days 10:19:11.202709  \n",
      "1 2023-07-12 02:30:00-06:00 121 days 15:49:11.202709  \n",
      "2 2023-02-23 07:15:00-06:00 260 days 11:04:11.202709  \n",
      "3 2023-04-30 04:45:00-06:00 194 days 13:34:11.202709  \n",
      "4                       NaT                      NaT  \n"
     ]
    }
   ],
   "source": [
    "now_utc = datetime.now(timezone.utc)\n",
    "\n",
    "df['TimeSinceSighting'] = now_utc - df['SightingTimeLocal']\n",
    "print(df)"
   ]
  },
  {
   "cell_type": "markdown",
   "metadata": {},
   "source": [
    "## 2. Limpeiza de IDs"
   ]
  },
  {
   "cell_type": "markdown",
   "metadata": {},
   "source": [
    "Llena los valores faltantes en `'TrainerID'` con el ID `'UNKNOWN'`.\n"
   ]
  },
  {
   "cell_type": "code",
   "execution_count": 7,
   "metadata": {},
   "outputs": [
    {
     "name": "stdout",
     "output_type": "stream",
     "text": [
      "               SightingDate           SightingTimeUTC TrainerID PokémonName  \\\n",
      "0 2023-11-08 14:00:00+00:00 2023-11-08 14:00:00+00:00     TR123     Pikachu   \n",
      "1 2023-07-12 08:30:00+00:00 2023-07-12 08:30:00+00:00     TR456       Eevee   \n",
      "2 2023-02-23 13:15:00+00:00 2023-02-23 13:15:00+00:00     TR789    Magicarp   \n",
      "3 2023-04-30 10:45:00+00:00 2023-04-30 10:45:00+00:00     TR101      Gengar   \n",
      "4 2023-08-15 06:00:00+00:00                       NaT     TR102   Bulbasaur   \n",
      "\n",
      "        CP  HP          Type        Weather  DateMatch  \\\n",
      "0      500  35      Electric          Clear       True   \n",
      "1  MISSING  55        Normal         Cloudy       True   \n",
      "2    1,000  10         Water           Rain       True   \n",
      "3      800  45         Ghost  PARTLY_CLOUDY       True   \n",
      "4      750  50  Grass/Poison          Sunny      False   \n",
      "\n",
      "          SightingTimeLocal        TimeSinceSighting  \n",
      "0 2023-11-08 08:00:00-06:00   2 days 10:19:11.202709  \n",
      "1 2023-07-12 02:30:00-06:00 121 days 15:49:11.202709  \n",
      "2 2023-02-23 07:15:00-06:00 260 days 11:04:11.202709  \n",
      "3 2023-04-30 04:45:00-06:00 194 days 13:34:11.202709  \n",
      "4                       NaT                      NaT  \n"
     ]
    }
   ],
   "source": [
    "df['TrainerID'] = df['TrainerID'].fillna('UNKNOWN')\n",
    "print(df)"
   ]
  },
  {
   "cell_type": "markdown",
   "metadata": {},
   "source": [
    "## 3. Corrección de Nombres de Pokémon"
   ]
  },
  {
   "cell_type": "markdown",
   "metadata": {},
   "source": [
    "Asegúrate de que los nombres de Pokémon estén capitalizados correctamente.\n"
   ]
  },
  {
   "cell_type": "code",
   "execution_count": 8,
   "metadata": {},
   "outputs": [
    {
     "name": "stdout",
     "output_type": "stream",
     "text": [
      "               SightingDate           SightingTimeUTC TrainerID PokémonName  \\\n",
      "0 2023-11-08 14:00:00+00:00 2023-11-08 14:00:00+00:00     TR123     Pikachu   \n",
      "1 2023-07-12 08:30:00+00:00 2023-07-12 08:30:00+00:00     TR456       Eevee   \n",
      "2 2023-02-23 13:15:00+00:00 2023-02-23 13:15:00+00:00     TR789    Magicarp   \n",
      "3 2023-04-30 10:45:00+00:00 2023-04-30 10:45:00+00:00     TR101      Gengar   \n",
      "4 2023-08-15 06:00:00+00:00                       NaT     TR102   Bulbasaur   \n",
      "\n",
      "        CP  HP          Type        Weather  DateMatch  \\\n",
      "0      500  35      Electric          Clear       True   \n",
      "1  MISSING  55        Normal         Cloudy       True   \n",
      "2    1,000  10         Water           Rain       True   \n",
      "3      800  45         Ghost  PARTLY_CLOUDY       True   \n",
      "4      750  50  Grass/Poison          Sunny      False   \n",
      "\n",
      "          SightingTimeLocal        TimeSinceSighting  \n",
      "0 2023-11-08 08:00:00-06:00   2 days 10:19:11.202709  \n",
      "1 2023-07-12 02:30:00-06:00 121 days 15:49:11.202709  \n",
      "2 2023-02-23 07:15:00-06:00 260 days 11:04:11.202709  \n",
      "3 2023-04-30 04:45:00-06:00 194 days 13:34:11.202709  \n",
      "4                       NaT                      NaT  \n"
     ]
    }
   ],
   "source": [
    "df['PokémonName'] = df['PokémonName'].str.capitalize()\n",
    "print(df)\n"
   ]
  },
  {
   "cell_type": "markdown",
   "metadata": {},
   "source": [
    "## 4. Conversión de 'CP' y 'HP' a Numéricos"
   ]
  },
  {
   "cell_type": "markdown",
   "metadata": {},
   "source": [
    "Convierte `'CP'` y `'HP'` a valores numéricos, manejando los `'MISSING'` y comas como separadores de miles."
   ]
  },
  {
   "cell_type": "code",
   "execution_count": 15,
   "metadata": {},
   "outputs": [
    {
     "name": "stdout",
     "output_type": "stream",
     "text": [
      "               SightingDate           SightingTimeUTC TrainerID PokémonName  \\\n",
      "0 2023-11-08 14:00:00+00:00 2023-11-08 14:00:00+00:00     TR123     Pikachu   \n",
      "1 2023-07-12 08:30:00+00:00 2023-07-12 08:30:00+00:00     TR456       Eevee   \n",
      "2 2023-02-23 13:15:00+00:00 2023-02-23 13:15:00+00:00     TR789    Magicarp   \n",
      "3 2023-04-30 10:45:00+00:00 2023-04-30 10:45:00+00:00     TR101      Gengar   \n",
      "4 2023-08-15 06:00:00+00:00                       NaT     TR102   Bulbasaur   \n",
      "\n",
      "   CP  HP          Type        Weather  DateMatch         SightingTimeLocal  \\\n",
      "0  35  35      Electric          CLEAR       True 2023-11-08 08:00:00-06:00   \n",
      "1  55  55        Normal         CLOUDY       True 2023-07-12 02:30:00-06:00   \n",
      "2  10  10         Water           RAIN       True 2023-02-23 07:15:00-06:00   \n",
      "3  45  45         Ghost  PARTLY_CLOUDY       True 2023-04-30 04:45:00-06:00   \n",
      "4  50  50  Grass/Poison          SUNNY      False                       NaT   \n",
      "\n",
      "         TimeSinceSighting PrimaryType SecondaryType  \n",
      "0   2 days 10:19:11.202709    Electric          None  \n",
      "1 121 days 15:49:11.202709      Normal          None  \n",
      "2 260 days 11:04:11.202709       Water          None  \n",
      "3 194 days 13:34:11.202709       Ghost          None  \n",
      "4                      NaT       Grass        Poison  \n"
     ]
    }
   ],
   "source": [
    "df['CP'] = df['CP'].replace(',', '', regex=True)\n",
    "df['CP'] = df['CP'].replace('MISSING', np.nan)\n",
    "\n",
    "\n",
    "\n",
    "df['HP'] = df['HP'].replace(',', '', regex=True)\n",
    "df['HP'] = df['HP'].replace('MISSING', np.nan)\n",
    "\n",
    "print(df)\n",
    "#df['HP'] = \n"
   ]
  },
  {
   "cell_type": "markdown",
   "metadata": {},
   "source": [
    "## 5. Estandarización de 'Type'"
   ]
  },
  {
   "cell_type": "markdown",
   "metadata": {},
   "source": [
    "Divide la columna `'Type'` en `'PrimaryType'` y `'SecondaryType'` cuando hay dos tipos.\n"
   ]
  },
  {
   "cell_type": "code",
   "execution_count": 10,
   "metadata": {},
   "outputs": [
    {
     "name": "stdout",
     "output_type": "stream",
     "text": [
      "               SightingDate           SightingTimeUTC TrainerID PokémonName  \\\n",
      "0 2023-11-08 14:00:00+00:00 2023-11-08 14:00:00+00:00     TR123     Pikachu   \n",
      "1 2023-07-12 08:30:00+00:00 2023-07-12 08:30:00+00:00     TR456       Eevee   \n",
      "2 2023-02-23 13:15:00+00:00 2023-02-23 13:15:00+00:00     TR789    Magicarp   \n",
      "3 2023-04-30 10:45:00+00:00 2023-04-30 10:45:00+00:00     TR101      Gengar   \n",
      "4 2023-08-15 06:00:00+00:00                       NaT     TR102   Bulbasaur   \n",
      "\n",
      "     CP  HP          Type        Weather  DateMatch         SightingTimeLocal  \\\n",
      "0   500  35      Electric          Clear       True 2023-11-08 08:00:00-06:00   \n",
      "1   NaN  55        Normal         Cloudy       True 2023-07-12 02:30:00-06:00   \n",
      "2  1000  10         Water           Rain       True 2023-02-23 07:15:00-06:00   \n",
      "3   800  45         Ghost  PARTLY_CLOUDY       True 2023-04-30 04:45:00-06:00   \n",
      "4   750  50  Grass/Poison          Sunny      False                       NaT   \n",
      "\n",
      "         TimeSinceSighting PrimaryType SecondaryType  \n",
      "0   2 days 10:19:11.202709    Electric          None  \n",
      "1 121 days 15:49:11.202709      Normal          None  \n",
      "2 260 days 11:04:11.202709       Water          None  \n",
      "3 194 days 13:34:11.202709       Ghost          None  \n",
      "4                      NaT       Grass        Poison  \n"
     ]
    }
   ],
   "source": [
    "df[['PrimaryType', 'SecondaryType']] = df['Type'].str.split('/', expand=True)\n",
    "print(df)\n"
   ]
  },
  {
   "cell_type": "markdown",
   "metadata": {},
   "source": [
    "## 6. Corrección del Clima"
   ]
  },
  {
   "cell_type": "markdown",
   "metadata": {},
   "source": [
    "Estándariza la columna `'Weather'` para que todos los valores sean mayúsculas.\n"
   ]
  },
  {
   "cell_type": "code",
   "execution_count": 11,
   "metadata": {},
   "outputs": [
    {
     "name": "stdout",
     "output_type": "stream",
     "text": [
      "               SightingDate           SightingTimeUTC TrainerID PokémonName  \\\n",
      "0 2023-11-08 14:00:00+00:00 2023-11-08 14:00:00+00:00     TR123     Pikachu   \n",
      "1 2023-07-12 08:30:00+00:00 2023-07-12 08:30:00+00:00     TR456       Eevee   \n",
      "2 2023-02-23 13:15:00+00:00 2023-02-23 13:15:00+00:00     TR789    Magicarp   \n",
      "3 2023-04-30 10:45:00+00:00 2023-04-30 10:45:00+00:00     TR101      Gengar   \n",
      "4 2023-08-15 06:00:00+00:00                       NaT     TR102   Bulbasaur   \n",
      "\n",
      "     CP  HP          Type        Weather  DateMatch         SightingTimeLocal  \\\n",
      "0   500  35      Electric          CLEAR       True 2023-11-08 08:00:00-06:00   \n",
      "1   NaN  55        Normal         CLOUDY       True 2023-07-12 02:30:00-06:00   \n",
      "2  1000  10         Water           RAIN       True 2023-02-23 07:15:00-06:00   \n",
      "3   800  45         Ghost  PARTLY_CLOUDY       True 2023-04-30 04:45:00-06:00   \n",
      "4   750  50  Grass/Poison          SUNNY      False                       NaT   \n",
      "\n",
      "         TimeSinceSighting PrimaryType SecondaryType  \n",
      "0   2 days 10:19:11.202709    Electric          None  \n",
      "1 121 days 15:49:11.202709      Normal          None  \n",
      "2 260 days 11:04:11.202709       Water          None  \n",
      "3 194 days 13:34:11.202709       Ghost          None  \n",
      "4                      NaT       Grass        Poison  \n"
     ]
    }
   ],
   "source": [
    "df['Weather'] = df['Weather'].str.upper()\n",
    "print(df)"
   ]
  },
  {
   "cell_type": "markdown",
   "metadata": {},
   "source": [
    "# 3 Analisis de Datos"
   ]
  },
  {
   "cell_type": "markdown",
   "metadata": {},
   "source": [
    "## Agrupaciones"
   ]
  },
  {
   "cell_type": "markdown",
   "metadata": {},
   "source": [
    "Agrupa el DataFrame por `'Type'` y calcula la suma de `'CP'` para cada grupo."
   ]
  },
  {
   "cell_type": "code",
   "execution_count": 12,
   "metadata": {},
   "outputs": [
    {
     "name": "stdout",
     "output_type": "stream",
     "text": [
      "           Type    CP\n",
      "0      Electric   500\n",
      "1         Ghost   800\n",
      "2  Grass/Poison   750\n",
      "3        Normal     0\n",
      "4         Water  1000\n"
     ]
    }
   ],
   "source": [
    "res = df.groupby('Type')['CP'].sum().reset_index()\n",
    "print(res)"
   ]
  },
  {
   "cell_type": "markdown",
   "metadata": {},
   "source": [
    "Después de la suma, agrega una columna que calcule la media de `'HP'` por cada `'Type'`, pero solo para aquellos Pokémon cuyo `'CP'` sea mayor que el promedio de `'CP'` de todo el DataFrame."
   ]
  },
  {
   "cell_type": "code",
   "execution_count": 16,
   "metadata": {},
   "outputs": [
    {
     "name": "stdout",
     "output_type": "stream",
     "text": [
      "           Type  CP    HP\n",
      "0         Ghost  45  45.0\n",
      "1  Grass/Poison  50  50.0\n",
      "2        Normal  55  55.0\n"
     ]
    }
   ],
   "source": [
    "# Calcular la suma de 'CP' por 'Type'\n",
    "suma_cp_por_tipo = df.groupby('Type')['CP'].sum().reset_index()\n",
    "\n",
    "# Calcular el promedio de 'CP' en todo el DataFrame\n",
    "promedio_cp_global = df['CP'].mean()\n",
    "\n",
    "# Filtrar Pokémon cuyo 'CP' es mayor que el promedio global\n",
    "pokemon_cp_superior_promedio = df[df['CP'] > promedio_cp_global]\n",
    "\n",
    "# Calcular la media de 'HP' por 'Type' para Pokémon con 'CP' superior al promedio global\n",
    "media_hp_por_tipo = pokemon_cp_superior_promedio.groupby('Type')['HP'].mean().reset_index()\n",
    "\n",
    "# Fusionar los resultados en un solo DataFrame\n",
    "resultado_final = pd.merge(suma_cp_por_tipo, media_hp_por_tipo, on='Type', suffixes=('_CP', '_HP'))\n",
    "\n",
    "# Mostrar el resultado final\n",
    "print(resultado_final)"
   ]
  }
 ],
 "metadata": {
  "kernelspec": {
   "display_name": "Python 3",
   "language": "python",
   "name": "python3"
  },
  "language_info": {
   "codemirror_mode": {
    "name": "ipython",
    "version": 3
   },
   "file_extension": ".py",
   "mimetype": "text/x-python",
   "name": "python",
   "nbconvert_exporter": "python",
   "pygments_lexer": "ipython3",
   "version": "3.11.5"
  }
 },
 "nbformat": 4,
 "nbformat_minor": 2
}
