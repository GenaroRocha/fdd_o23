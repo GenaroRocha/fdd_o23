{
  "cells": [
    {
      "cell_type": "code",
      "execution_count": 2,
      "metadata": {
        "id": "jBoMT4cvEqFz"
      },
      "outputs": [],
      "source": [
        "\n",
        "import pandas as pd\n",
        "import numpy as np\n",
        "from io import StringIO\n",
        "import pytz\n",
        "from datetime import datetime, timezone\n",
        "from zoneinfo import ZoneInfo\n"
      ]
    },
    {
      "cell_type": "markdown",
      "metadata": {
        "id": "bAIZcinXEqF2"
      },
      "source": [
        "Imagina que eres un investigador en el mundo de Pokémon y has recibido una base de datos con información desactualizada y desordenada sobre avistamientos de Pokémon. Tu misión es limpiar y actualizar esta base de datos para que pueda ser utilizada en un estudio sobre la población de Pokémon en la región."
      ]
    },
    {
      "cell_type": "markdown",
      "metadata": {
        "id": "XgN3UY-zEqF4"
      },
      "source": [
        "Datos Iniciales\n",
        "\n",
        "Los datos iniciales contienen las siguientes columnas:\n",
        "\n",
        "    SightingDate: Fecha del avistamiento.\n",
        "    TrainerID: Identificación del entrenador que reportó el avistamiento.\n",
        "    PokemonName: Nombre del Pokémon avistado.\n",
        "    CP: Puntos de combate del Pokémon reportado.\n",
        "    HP: Puntos de salud del Pokémon reportado.\n",
        "    Type: Tipo del Pokémon.\n",
        "    Weather: Clima durante el avistamiento."
      ]
    },
    {
      "cell_type": "markdown",
      "metadata": {
        "id": "zWryQ0jEEqF5"
      },
      "source": [
        "# 1 Carga de Datos"
      ]
    },
    {
      "cell_type": "code",
      "execution_count": 6,
      "metadata": {
        "id": "m-fovgseEqF5",
        "colab": {
          "base_uri": "https://localhost:8080/"
        },
        "outputId": "9c93a52c-2ea7-489e-92cd-511dc1b2c202"
      },
      "outputs": [
        {
          "output_type": "stream",
          "name": "stdout",
          "text": [
            "               SightingDate    SightingTimeUTC TrainerID PokémonName       CP  \\\n",
            "0  2023-11-08T14:00:00+0000  2023-11-08T14:00Z     TR123     Pikachu      500   \n",
            "1  2023-07-12T09:30:00+0100  2023-07-12T08:30Z     TR456       Eevee  MISSING   \n",
            "2  2023/02/23T22:15:00+0900  2023-02-23T13:15Z     TR789    Magicarp    1,000   \n",
            "3  2023-04-30T06:45:00-0400  2023-04-30T10:45Z     TR101      Gengar      800   \n",
            "4  2023-08-15T16:00:00+1000                NaN     TR102   Bulbasaur      750   \n",
            "\n",
            "   HP          Type        Weather  \n",
            "0  35      Electric          Clear  \n",
            "1  55        Normal         Cloudy  \n",
            "2  10         Water           Rain  \n",
            "3  45         Ghost  PARTLY_CLOUDY  \n",
            "4  50  Grass/Poison          Sunny  \n"
          ]
        }
      ],
      "source": [
        "path_datos = '/pokemon.csv'\n",
        "# TODO: completa el código para cargar los datos\n",
        "df = pd.read_csv(path_datos, encoding='latin-1')\n",
        "print(df)\n"
      ]
    },
    {
      "cell_type": "markdown",
      "metadata": {
        "id": "i7oLdSR6EqF6"
      },
      "source": [
        "# Limpieza de Datos"
      ]
    },
    {
      "cell_type": "markdown",
      "metadata": {
        "id": "pd8NH8sOEqF7"
      },
      "source": [
        "## 1 Normalizacion de Zonas Horarias"
      ]
    },
    {
      "cell_type": "markdown",
      "metadata": {
        "id": "IrnSj3unEqF8"
      },
      "source": [
        "Normaliza la columna `'SightingTimeUTC'` a la zona horaria UTC y convierte `'SightingDate'` al mismo formato de tiempo.\n"
      ]
    },
    {
      "cell_type": "code",
      "execution_count": 9,
      "metadata": {
        "id": "h1Ax5t3QEqF8",
        "outputId": "9f053d3b-2b0b-4794-d817-3e8bf5842cf0",
        "colab": {
          "base_uri": "https://localhost:8080/"
        }
      },
      "outputs": [
        {
          "output_type": "stream",
          "name": "stdout",
          "text": [
            "               SightingDate           SightingTimeUTC TrainerID PokémonName  \\\n",
            "0 2023-11-08 14:00:00+00:00 2023-11-08 14:00:00+00:00     TR123     Pikachu   \n",
            "1 2023-07-12 08:30:00+00:00 2023-07-12 08:30:00+00:00     TR456       Eevee   \n",
            "2 2023-02-23 13:15:00+00:00 2023-02-23 13:15:00+00:00     TR789    Magicarp   \n",
            "3 2023-04-30 10:45:00+00:00 2023-04-30 10:45:00+00:00     TR101      Gengar   \n",
            "4 2023-08-15 06:00:00+00:00                       NaT     TR102   Bulbasaur   \n",
            "\n",
            "        CP  HP          Type        Weather  \n",
            "0      500  35      Electric          Clear  \n",
            "1  MISSING  55        Normal         Cloudy  \n",
            "2    1,000  10         Water           Rain  \n",
            "3      800  45         Ghost  PARTLY_CLOUDY  \n",
            "4      750  50  Grass/Poison          Sunny  \n"
          ]
        }
      ],
      "source": [
        "df['SightingTimeUTC'] = pd.to_datetime(df['SightingTimeUTC'],errors=\"coerce\", utc=True)\n",
        "df['SightingDate'] = pd.to_datetime(df['SightingDate'], errors=\"coerce\", utc=True)\n",
        "print(df)\n",
        "\n"
      ]
    },
    {
      "cell_type": "markdown",
      "metadata": {
        "id": "zKUQy39UEqF-"
      },
      "source": [
        "Compara si la fecha de la columna `'SightingDate'` coincide con la fecha en `'SightingTimeUTC'` una vez normalizada.\n"
      ]
    },
    {
      "cell_type": "code",
      "execution_count": 10,
      "metadata": {
        "id": "Gkd2EV3UEqF_",
        "outputId": "ec1fca2d-047b-4a37-89d3-29d3accebce7",
        "colab": {
          "base_uri": "https://localhost:8080/"
        }
      },
      "outputs": [
        {
          "output_type": "stream",
          "name": "stdout",
          "text": [
            "               SightingDate           SightingTimeUTC TrainerID PokémonName  \\\n",
            "0 2023-11-08 14:00:00+00:00 2023-11-08 14:00:00+00:00     TR123     Pikachu   \n",
            "1 2023-07-12 08:30:00+00:00 2023-07-12 08:30:00+00:00     TR456       Eevee   \n",
            "2 2023-02-23 13:15:00+00:00 2023-02-23 13:15:00+00:00     TR789    Magicarp   \n",
            "3 2023-04-30 10:45:00+00:00 2023-04-30 10:45:00+00:00     TR101      Gengar   \n",
            "4 2023-08-15 06:00:00+00:00                       NaT     TR102   Bulbasaur   \n",
            "\n",
            "        CP  HP          Type        Weather  DateMatch  \n",
            "0      500  35      Electric          Clear       True  \n",
            "1  MISSING  55        Normal         Cloudy       True  \n",
            "2    1,000  10         Water           Rain       True  \n",
            "3      800  45         Ghost  PARTLY_CLOUDY       True  \n",
            "4      750  50  Grass/Poison          Sunny      False  \n"
          ]
        }
      ],
      "source": [
        "# Pista: Puedes crear una columna nueva para el resultado de la comparación.\n",
        "df['DateMatch'] = df['SightingDate'] == df['SightingTimeUTC']\n",
        "print(df)\n",
        "\n"
      ]
    },
    {
      "cell_type": "markdown",
      "metadata": {
        "id": "tlprp4a7EqGA"
      },
      "source": [
        "Ajusta `'SightingTimeUTC'` a la zona horaria local de cada entrenador y crea una columna `'SightingTimeLocal'`."
      ]
    },
    {
      "cell_type": "code",
      "execution_count": 11,
      "metadata": {
        "id": "EvnkLWWAEqGA",
        "outputId": "e717b6c2-7f80-4be2-a74b-dd2e6c433197",
        "colab": {
          "base_uri": "https://localhost:8080/"
        }
      },
      "outputs": [
        {
          "output_type": "stream",
          "name": "stdout",
          "text": [
            "               SightingDate           SightingTimeUTC TrainerID PokémonName  \\\n",
            "0 2023-11-08 14:00:00+00:00 2023-11-08 14:00:00+00:00     TR123     Pikachu   \n",
            "1 2023-07-12 08:30:00+00:00 2023-07-12 08:30:00+00:00     TR456       Eevee   \n",
            "2 2023-02-23 13:15:00+00:00 2023-02-23 13:15:00+00:00     TR789    Magicarp   \n",
            "3 2023-04-30 10:45:00+00:00 2023-04-30 10:45:00+00:00     TR101      Gengar   \n",
            "4 2023-08-15 06:00:00+00:00                       NaT     TR102   Bulbasaur   \n",
            "\n",
            "        CP  HP          Type        Weather  DateMatch  \\\n",
            "0      500  35      Electric          Clear       True   \n",
            "1  MISSING  55        Normal         Cloudy       True   \n",
            "2    1,000  10         Water           Rain       True   \n",
            "3      800  45         Ghost  PARTLY_CLOUDY       True   \n",
            "4      750  50  Grass/Poison          Sunny      False   \n",
            "\n",
            "          SightingTimeLocal  \n",
            "0 2023-11-08 08:00:00-06:00  \n",
            "1 2023-07-12 02:30:00-06:00  \n",
            "2 2023-02-23 07:15:00-06:00  \n",
            "3 2023-04-30 04:45:00-06:00  \n",
            "4                       NaT  \n"
          ]
        }
      ],
      "source": [
        "df['SightingTimeLocal'] = df['SightingTimeUTC'].dt.tz_convert('Mexico/General')\n",
        "print(df)\n",
        "\n"
      ]
    },
    {
      "cell_type": "markdown",
      "metadata": {
        "id": "4d_xLndjEqGB"
      },
      "source": [
        "Calcula el tiempo transcurrido desde el momento del avistamiento hasta `'ahora'` (tu hora local) y crea una columna `'TimeSinceSighting'`."
      ]
    },
    {
      "cell_type": "code",
      "execution_count": 13,
      "metadata": {
        "id": "Kmsa_GcNEqGB",
        "colab": {
          "base_uri": "https://localhost:8080/"
        },
        "outputId": "8d43127b-42c4-449e-863b-a0a9decd91d8"
      },
      "outputs": [
        {
          "output_type": "stream",
          "name": "stdout",
          "text": [
            "               SightingDate           SightingTimeUTC TrainerID PokémonName  \\\n",
            "0 2023-11-08 14:00:00+00:00 2023-11-08 14:00:00+00:00     TR123     Pikachu   \n",
            "1 2023-07-12 08:30:00+00:00 2023-07-12 08:30:00+00:00     TR456       Eevee   \n",
            "2 2023-02-23 13:15:00+00:00 2023-02-23 13:15:00+00:00     TR789    Magicarp   \n",
            "3 2023-04-30 10:45:00+00:00 2023-04-30 10:45:00+00:00     TR101      Gengar   \n",
            "4 2023-08-15 06:00:00+00:00                       NaT     TR102   Bulbasaur   \n",
            "\n",
            "        CP  HP          Type        Weather  DateMatch  \\\n",
            "0      500  35      Electric          Clear       True   \n",
            "1  MISSING  55        Normal         Cloudy       True   \n",
            "2    1,000  10         Water           Rain       True   \n",
            "3      800  45         Ghost  PARTLY_CLOUDY       True   \n",
            "4      750  50  Grass/Poison          Sunny      False   \n",
            "\n",
            "          SightingTimeLocal        TimeSinceSighting  \n",
            "0 2023-11-08 08:00:00-06:00   7 days 08:31:33.796990  \n",
            "1 2023-07-12 02:30:00-06:00 126 days 14:01:33.796990  \n",
            "2 2023-02-23 07:15:00-06:00 265 days 09:16:33.796990  \n",
            "3 2023-04-30 04:45:00-06:00 199 days 11:46:33.796990  \n",
            "4                       NaT                      NaT  \n"
          ]
        }
      ],
      "source": [
        "now = datetime.now(timezone.utc)\n",
        "\n",
        "df['TimeSinceSighting'] = now - df['SightingTimeLocal']\n",
        "print(df)\n"
      ]
    },
    {
      "cell_type": "markdown",
      "metadata": {
        "id": "2OQJG31aEqGB"
      },
      "source": [
        "## 2. Limpeiza de IDs"
      ]
    },
    {
      "cell_type": "markdown",
      "metadata": {
        "id": "Adt8byRJEqGC"
      },
      "source": [
        "Llena los valores faltantes en `'TrainerID'` con el ID `'UNKNOWN'`.\n"
      ]
    },
    {
      "cell_type": "code",
      "execution_count": 14,
      "metadata": {
        "id": "LijhDGbxEqGC",
        "colab": {
          "base_uri": "https://localhost:8080/"
        },
        "outputId": "b30099ef-4745-4af3-859c-9727ce9c0672"
      },
      "outputs": [
        {
          "output_type": "stream",
          "name": "stdout",
          "text": [
            "               SightingDate           SightingTimeUTC TrainerID PokémonName  \\\n",
            "0 2023-11-08 14:00:00+00:00 2023-11-08 14:00:00+00:00     TR123     Pikachu   \n",
            "1 2023-07-12 08:30:00+00:00 2023-07-12 08:30:00+00:00     TR456       Eevee   \n",
            "2 2023-02-23 13:15:00+00:00 2023-02-23 13:15:00+00:00     TR789    Magicarp   \n",
            "3 2023-04-30 10:45:00+00:00 2023-04-30 10:45:00+00:00     TR101      Gengar   \n",
            "4 2023-08-15 06:00:00+00:00                       NaT     TR102   Bulbasaur   \n",
            "\n",
            "        CP  HP          Type        Weather  DateMatch  \\\n",
            "0      500  35      Electric          Clear       True   \n",
            "1  MISSING  55        Normal         Cloudy       True   \n",
            "2    1,000  10         Water           Rain       True   \n",
            "3      800  45         Ghost  PARTLY_CLOUDY       True   \n",
            "4      750  50  Grass/Poison          Sunny      False   \n",
            "\n",
            "          SightingTimeLocal        TimeSinceSighting  \n",
            "0 2023-11-08 08:00:00-06:00   7 days 08:31:33.796990  \n",
            "1 2023-07-12 02:30:00-06:00 126 days 14:01:33.796990  \n",
            "2 2023-02-23 07:15:00-06:00 265 days 09:16:33.796990  \n",
            "3 2023-04-30 04:45:00-06:00 199 days 11:46:33.796990  \n",
            "4                       NaT                      NaT  \n"
          ]
        }
      ],
      "source": [
        "df['TrainerID'] = df['TrainerID'].fillna('UNKNOWN')\n",
        "print(df)\n"
      ]
    },
    {
      "cell_type": "markdown",
      "metadata": {
        "id": "e6qaxPPfEqGD"
      },
      "source": [
        "## 3. Corrección de Nombres de Pokémon"
      ]
    },
    {
      "cell_type": "markdown",
      "metadata": {
        "id": "948_0MeYEqGD"
      },
      "source": [
        "Asegúrate de que los nombres de Pokémon estén capitalizados correctamente.\n"
      ]
    },
    {
      "cell_type": "code",
      "execution_count": 15,
      "metadata": {
        "id": "QZPsPCDLEqGE",
        "colab": {
          "base_uri": "https://localhost:8080/"
        },
        "outputId": "1ff369fa-7813-4790-df6b-4c2831997de5"
      },
      "outputs": [
        {
          "output_type": "stream",
          "name": "stdout",
          "text": [
            "               SightingDate           SightingTimeUTC TrainerID PokémonName  \\\n",
            "0 2023-11-08 14:00:00+00:00 2023-11-08 14:00:00+00:00     TR123     Pikachu   \n",
            "1 2023-07-12 08:30:00+00:00 2023-07-12 08:30:00+00:00     TR456       Eevee   \n",
            "2 2023-02-23 13:15:00+00:00 2023-02-23 13:15:00+00:00     TR789    Magicarp   \n",
            "3 2023-04-30 10:45:00+00:00 2023-04-30 10:45:00+00:00     TR101      Gengar   \n",
            "4 2023-08-15 06:00:00+00:00                       NaT     TR102   Bulbasaur   \n",
            "\n",
            "        CP  HP          Type        Weather  DateMatch  \\\n",
            "0      500  35      Electric          Clear       True   \n",
            "1  MISSING  55        Normal         Cloudy       True   \n",
            "2    1,000  10         Water           Rain       True   \n",
            "3      800  45         Ghost  PARTLY_CLOUDY       True   \n",
            "4      750  50  Grass/Poison          Sunny      False   \n",
            "\n",
            "          SightingTimeLocal        TimeSinceSighting  \n",
            "0 2023-11-08 08:00:00-06:00   7 days 08:31:33.796990  \n",
            "1 2023-07-12 02:30:00-06:00 126 days 14:01:33.796990  \n",
            "2 2023-02-23 07:15:00-06:00 265 days 09:16:33.796990  \n",
            "3 2023-04-30 04:45:00-06:00 199 days 11:46:33.796990  \n",
            "4                       NaT                      NaT  \n"
          ]
        }
      ],
      "source": [
        "df['PokémonName'] = df['PokémonName'].str.capitalize()\n",
        "print(df)\n"
      ]
    },
    {
      "cell_type": "markdown",
      "metadata": {
        "id": "7ipflPNGEqGE"
      },
      "source": [
        "## 4. Conversión de 'CP' y 'HP' a Numéricos"
      ]
    },
    {
      "cell_type": "markdown",
      "metadata": {
        "id": "Lujm7i2pEqGE"
      },
      "source": [
        "Convierte `'CP'` y `'HP'` a valores numéricos, manejando los `'MISSING'` y comas como separadores de miles."
      ]
    },
    {
      "cell_type": "code",
      "execution_count": 16,
      "metadata": {
        "id": "KjdcZ4ulEqGF",
        "colab": {
          "base_uri": "https://localhost:8080/"
        },
        "outputId": "48311ec3-2727-455b-c3ac-1b90293b2e3e"
      },
      "outputs": [
        {
          "output_type": "stream",
          "name": "stdout",
          "text": [
            "               SightingDate           SightingTimeUTC TrainerID PokémonName  \\\n",
            "0 2023-11-08 14:00:00+00:00 2023-11-08 14:00:00+00:00     TR123     Pikachu   \n",
            "1 2023-07-12 08:30:00+00:00 2023-07-12 08:30:00+00:00     TR456       Eevee   \n",
            "2 2023-02-23 13:15:00+00:00 2023-02-23 13:15:00+00:00     TR789    Magicarp   \n",
            "3 2023-04-30 10:45:00+00:00 2023-04-30 10:45:00+00:00     TR101      Gengar   \n",
            "4 2023-08-15 06:00:00+00:00                       NaT     TR102   Bulbasaur   \n",
            "\n",
            "     CP  HP          Type        Weather  DateMatch         SightingTimeLocal  \\\n",
            "0   500  35      Electric          Clear       True 2023-11-08 08:00:00-06:00   \n",
            "1   NaN  55        Normal         Cloudy       True 2023-07-12 02:30:00-06:00   \n",
            "2  1000  10         Water           Rain       True 2023-02-23 07:15:00-06:00   \n",
            "3   800  45         Ghost  PARTLY_CLOUDY       True 2023-04-30 04:45:00-06:00   \n",
            "4   750  50  Grass/Poison          Sunny      False                       NaT   \n",
            "\n",
            "         TimeSinceSighting  \n",
            "0   7 days 08:31:33.796990  \n",
            "1 126 days 14:01:33.796990  \n",
            "2 265 days 09:16:33.796990  \n",
            "3 199 days 11:46:33.796990  \n",
            "4                      NaT  \n"
          ]
        }
      ],
      "source": [
        "df['CP'] = df['CP'].replace(',', '', regex=True)\n",
        "df['CP'] = df['CP'].replace('MISSING', np.nan)\n",
        "\n",
        "df['HP'] = df['HP'].replace(',', '', regex=True)\n",
        "df['HP'] = df['HP'].replace('MISSING', np.nan)\n",
        "\n",
        "print(df)\n",
        "\n"
      ]
    },
    {
      "cell_type": "markdown",
      "metadata": {
        "id": "26s8JU1lEqGF"
      },
      "source": [
        "## 5. Estandarización de 'Type'"
      ]
    },
    {
      "cell_type": "markdown",
      "metadata": {
        "id": "nMUhKK0aEqGG"
      },
      "source": [
        "Divide la columna `'Type'` en `'PrimaryType'` y `'SecondaryType'` cuando hay dos tipos.\n"
      ]
    },
    {
      "cell_type": "code",
      "execution_count": 17,
      "metadata": {
        "id": "SDQ8EfP9EqGG",
        "colab": {
          "base_uri": "https://localhost:8080/"
        },
        "outputId": "04987cd3-b47c-4583-d81d-bc2c182d134e"
      },
      "outputs": [
        {
          "output_type": "stream",
          "name": "stdout",
          "text": [
            "               SightingDate           SightingTimeUTC TrainerID PokémonName  \\\n",
            "0 2023-11-08 14:00:00+00:00 2023-11-08 14:00:00+00:00     TR123     Pikachu   \n",
            "1 2023-07-12 08:30:00+00:00 2023-07-12 08:30:00+00:00     TR456       Eevee   \n",
            "2 2023-02-23 13:15:00+00:00 2023-02-23 13:15:00+00:00     TR789    Magicarp   \n",
            "3 2023-04-30 10:45:00+00:00 2023-04-30 10:45:00+00:00     TR101      Gengar   \n",
            "4 2023-08-15 06:00:00+00:00                       NaT     TR102   Bulbasaur   \n",
            "\n",
            "     CP  HP          Type        Weather  DateMatch         SightingTimeLocal  \\\n",
            "0   500  35      Electric          Clear       True 2023-11-08 08:00:00-06:00   \n",
            "1   NaN  55        Normal         Cloudy       True 2023-07-12 02:30:00-06:00   \n",
            "2  1000  10         Water           Rain       True 2023-02-23 07:15:00-06:00   \n",
            "3   800  45         Ghost  PARTLY_CLOUDY       True 2023-04-30 04:45:00-06:00   \n",
            "4   750  50  Grass/Poison          Sunny      False                       NaT   \n",
            "\n",
            "         TimeSinceSighting PrimaryType SecondaryType  \n",
            "0   7 days 08:31:33.796990    Electric          None  \n",
            "1 126 days 14:01:33.796990      Normal          None  \n",
            "2 265 days 09:16:33.796990       Water          None  \n",
            "3 199 days 11:46:33.796990       Ghost          None  \n",
            "4                      NaT       Grass        Poison  \n"
          ]
        }
      ],
      "source": [
        "df[['PrimaryType', 'SecondaryType']] = df['Type'].str.split('/', expand=True)\n",
        "print(df)\n"
      ]
    },
    {
      "cell_type": "markdown",
      "metadata": {
        "id": "sPKO34FMEqGG"
      },
      "source": [
        "## 6. Corrección del Clima"
      ]
    },
    {
      "cell_type": "markdown",
      "metadata": {
        "id": "W476lH2_EqGH"
      },
      "source": [
        "Estándariza la columna `'Weather'` para que todos los valores sean mayúsculas.\n"
      ]
    },
    {
      "cell_type": "code",
      "execution_count": 18,
      "metadata": {
        "id": "HqkPyFKkEqGH",
        "colab": {
          "base_uri": "https://localhost:8080/"
        },
        "outputId": "6dcdd4dd-ff33-4a89-83d3-a7e33c78ad33"
      },
      "outputs": [
        {
          "output_type": "stream",
          "name": "stdout",
          "text": [
            "               SightingDate           SightingTimeUTC TrainerID PokémonName  \\\n",
            "0 2023-11-08 14:00:00+00:00 2023-11-08 14:00:00+00:00     TR123     Pikachu   \n",
            "1 2023-07-12 08:30:00+00:00 2023-07-12 08:30:00+00:00     TR456       Eevee   \n",
            "2 2023-02-23 13:15:00+00:00 2023-02-23 13:15:00+00:00     TR789    Magicarp   \n",
            "3 2023-04-30 10:45:00+00:00 2023-04-30 10:45:00+00:00     TR101      Gengar   \n",
            "4 2023-08-15 06:00:00+00:00                       NaT     TR102   Bulbasaur   \n",
            "\n",
            "     CP  HP          Type        Weather  DateMatch         SightingTimeLocal  \\\n",
            "0   500  35      Electric          CLEAR       True 2023-11-08 08:00:00-06:00   \n",
            "1   NaN  55        Normal         CLOUDY       True 2023-07-12 02:30:00-06:00   \n",
            "2  1000  10         Water           RAIN       True 2023-02-23 07:15:00-06:00   \n",
            "3   800  45         Ghost  PARTLY_CLOUDY       True 2023-04-30 04:45:00-06:00   \n",
            "4   750  50  Grass/Poison          SUNNY      False                       NaT   \n",
            "\n",
            "         TimeSinceSighting PrimaryType SecondaryType  \n",
            "0   7 days 08:31:33.796990    Electric          None  \n",
            "1 126 days 14:01:33.796990      Normal          None  \n",
            "2 265 days 09:16:33.796990       Water          None  \n",
            "3 199 days 11:46:33.796990       Ghost          None  \n",
            "4                      NaT       Grass        Poison  \n"
          ]
        }
      ],
      "source": [
        "df['Weather'] = df['Weather'].str.upper()\n",
        "print(df)\n"
      ]
    },
    {
      "cell_type": "markdown",
      "metadata": {
        "id": "dlrOksjcEqGI"
      },
      "source": [
        "# 3 Analisis de Datos"
      ]
    },
    {
      "cell_type": "markdown",
      "metadata": {
        "id": "QaZi4xFXEqGI"
      },
      "source": [
        "## Agrupaciones"
      ]
    },
    {
      "cell_type": "markdown",
      "metadata": {
        "id": "4TtSkhMVEqGI"
      },
      "source": [
        "Agrupa el DataFrame por `'Type'` y calcula la suma de `'CP'` para cada grupo."
      ]
    },
    {
      "cell_type": "code",
      "execution_count": 19,
      "metadata": {
        "id": "vrophvP0EqGJ",
        "colab": {
          "base_uri": "https://localhost:8080/"
        },
        "outputId": "ccf86d35-66ea-4070-dba8-9370a44c3dec"
      },
      "outputs": [
        {
          "output_type": "stream",
          "name": "stdout",
          "text": [
            "           Type    CP\n",
            "0      Electric   500\n",
            "1         Ghost   800\n",
            "2  Grass/Poison   750\n",
            "3        Normal     0\n",
            "4         Water  1000\n"
          ]
        }
      ],
      "source": [
        "# Tu codigo aqui\n",
        "tipo = df.groupby('Type')['CP'].sum().reset_index()\n",
        "print(tipo)\n"
      ]
    },
    {
      "cell_type": "markdown",
      "metadata": {
        "id": "vNrc9_KdEqGJ"
      },
      "source": [
        "Después de la suma, agrega una columna que calcule la media de `'HP'` por cada `'Type'`, pero solo para aquellos Pokémon cuyo `'CP'` sea mayor que el promedio de `'CP'` de todo el DataFrame."
      ]
    },
    {
      "cell_type": "code",
      "source": [
        "# Convertir la columna 'CP' a tipo numérico\n",
        "df['CP'] = pd.to_numeric(df['CP'], errors='coerce')\n",
        "\n",
        "# Calcular la suma de 'CP' por 'Type'\n",
        "suma_cp_por_tipo = df.groupby('Type')['CP'].sum().reset_index()\n",
        "\n",
        "# Calcular el promedio de 'CP' en todo el DataFrame\n",
        "promedio_cp_global = df['CP'].mean()\n",
        "\n",
        "# Filtrar Pokémon cuyo 'CP' es mayor que el promedio global\n",
        "pokemon_cp_superior_promedio = df[df['CP'] > promedio_cp_global]\n",
        "\n",
        "# Calcular la media de 'HP' por 'Type' para Pokémon con 'CP' superior al promedio global\n",
        "media_hp_por_tipo = pokemon_cp_superior_promedio.groupby('Type')['HP'].mean().reset_index()\n",
        "\n",
        "# Fusionar los resultados en un solo DataFrame\n",
        "resultado_final = pd.merge(suma_cp_por_tipo, media_hp_por_tipo, on='Type', suffixes=('_CP', '_HP'))\n",
        "\n",
        "# Mostrar el resultado final\n",
        "print(resultado_final)\n"
      ],
      "metadata": {
        "colab": {
          "base_uri": "https://localhost:8080/"
        },
        "id": "O2JWRbcDIqSm",
        "outputId": "f20fb2f4-bab3-43f7-9bd3-ab5ae372fee8"
      },
      "execution_count": 21,
      "outputs": [
        {
          "output_type": "stream",
          "name": "stdout",
          "text": [
            "    Type      CP    HP\n",
            "0  Ghost   800.0  45.0\n",
            "1  Water  1000.0  10.0\n"
          ]
        }
      ]
    }
  ],
  "metadata": {
    "kernelspec": {
      "display_name": "Python 3",
      "language": "python",
      "name": "python3"
    },
    "language_info": {
      "codemirror_mode": {
        "name": "ipython",
        "version": 3
      },
      "file_extension": ".py",
      "mimetype": "text/x-python",
      "name": "python",
      "nbconvert_exporter": "python",
      "pygments_lexer": "ipython3",
      "version": "3.10.13"
    },
    "colab": {
      "provenance": []
    }
  },
  "nbformat": 4,
  "nbformat_minor": 0
}