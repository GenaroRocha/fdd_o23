{
  "cells": [
    {
      "cell_type": "markdown",
      "metadata": {
        "id": "2Cq_5Oy4KACI"
      },
      "source": [
        "# Prediccion de Default en Prestamos\n"
      ]
    },
    {
      "cell_type": "markdown",
      "metadata": {
        "id": "nmHkJ0TsKACM"
      },
      "source": [
        "Para este proyecto utilizaremos un sample de los datos de Lending Club. La idea es predecir si cierto usuario cometera Default basado en informacion que la plataforma recolecta. Esto nos ayudara a mejorar la metodologia/pipeline de prestamo.\n"
      ]
    },
    {
      "cell_type": "markdown",
      "metadata": {
        "id": "86oDP9SmKACN"
      },
      "source": [
        "# Descripcion"
      ]
    },
    {
      "cell_type": "markdown",
      "metadata": {
        "id": "eJev5lqzKACN"
      },
      "source": [
        "\n",
        "\n",
        "Contiene los prestamos de esta plataforma:\n",
        "\n",
        "    periodo 2007-2017Q3.\n",
        "    887mil observaciones, sample de 100mil\n",
        "    150 variables\n",
        "    Target: loan status\n",
        "\n"
      ]
    },
    {
      "cell_type": "markdown",
      "metadata": {
        "id": "L56c8ZCcKACO"
      },
      "source": [
        "# Objetivo"
      ]
    },
    {
      "cell_type": "markdown",
      "metadata": {
        "id": "8UCA_QzUKACO"
      },
      "source": [
        "Realizar un ETL y un EDA"
      ]
    },
    {
      "cell_type": "markdown",
      "metadata": {
        "id": "LtXp8RHXKACO"
      },
      "source": [
        "## ETL"
      ]
    },
    {
      "cell_type": "markdown",
      "metadata": {
        "id": "W6QaJvz4KACP"
      },
      "source": [
        "0. Limpia los datos de tal manera que al final del ETL queden en formato `tidy`.\n",
        "1. Asegurate de cargar y leer los datos\n",
        "2. Crea una tabla donde se guarde el nombre de la columna y el tipo de dato: (`column_name`,   `type`).\n",
        "3. Asegurate de pensar cual es el tipo de dato correcto. Porque elejiste strig/object o float o int?. No hay respuestas incorrectas como tal, pero tienes que justificar tu decision.\n",
        "4. Maneja missings o nans de la manera adecuada. Justifica cada decision\n",
        "\n",
        "\n",
        "\n",
        "\n",
        "\n"
      ]
    },
    {
      "cell_type": "markdown",
      "metadata": {
        "id": "VkwUnMWSKACP"
      },
      "source": [
        "## EDA"
      ]
    },
    {
      "cell_type": "markdown",
      "metadata": {
        "id": "f6mxBIlUKACP"
      },
      "source": [
        "0. Preparar lo datos para un pipeline de datos\n",
        "1. Quitar columnas inservibles\n",
        "2. Imputar valores\n",
        "3. Mantener replicabildiad y reproducibilidad"
      ]
    },
    {
      "cell_type": "markdown",
      "metadata": {
        "id": "TL9lkUGsKACQ"
      },
      "source": [
        "**No olvides anotar tus justificaciones en celdas para recordar cuando te toque explicarlo.** Puedes agregar el numero de celdas que necesites para poner tu explicacion y el codigo, solo manten la estructura."
      ]
    },
    {
      "cell_type": "markdown",
      "metadata": {
        "id": "ZliJUR4xKACQ"
      },
      "source": [
        "# ETL"
      ]
    },
    {
      "cell_type": "code",
      "execution_count": null,
      "metadata": {
        "id": "Lqlm8HJqKACR"
      },
      "outputs": [],
      "source": [
        "import pandas as pd\n",
        "import numpy as np"
      ]
    },
    {
      "cell_type": "markdown",
      "metadata": {
        "id": "oORZpwK3KACS"
      },
      "source": [
        "Vas a obtener 2 errores, solucionalo con los visto en clase.  \n",
        "Tip: Se arreglan con argumentos adicionales de la funcion `read_csv`  \n",
        "Documentacion: https://pandas.pydata.org/docs/reference/api/pandas.read_csv.html"
      ]
    },
    {
      "cell_type": "code",
      "execution_count": null,
      "metadata": {
        "id": "LkxP3kwSKACT",
        "colab": {
          "base_uri": "https://localhost:8080/"
        },
        "outputId": "a55cd55c-d6c1-47b6-a68e-7aa5db66e6d4"
      },
      "outputs": [
        {
          "output_type": "stream",
          "name": "stderr",
          "text": [
            "<ipython-input-3-7c14ca5d6519>:3: DtypeWarning: Columns (19) have mixed types. Specify dtype option on import or set low_memory=False.\n",
            "  loans = pd.read_csv('https://github.com/sonder-art/fdd_prim_2023/blob/main/codigo/pandas/LoansData_sample.csv.gz?raw=true', sep=',', compression='gzip', encoding='latin-1')\n"
          ]
        }
      ],
      "source": [
        "#loans = pd.read_csv('https://github.com/sonder-art/fdd_prim_2023/blob/main/codigo/pandas/LoansData_sample.csv.gz?raw=true')\n",
        "#El arichivo estaba comprimido y use la , como delimitador\n",
        "loans = pd.read_csv('https://github.com/sonder-art/fdd_prim_2023/blob/main/codigo/pandas/LoansData_sample.csv.gz?raw=true', sep=',', compression='gzip', encoding='latin-1')\n"
      ]
    },
    {
      "cell_type": "markdown",
      "metadata": {
        "id": "HJg1bqBUKACT"
      },
      "source": [
        "## Tabla (column_name, type)"
      ]
    },
    {
      "cell_type": "markdown",
      "metadata": {
        "id": "YhzIDVxNKACU"
      },
      "source": [
        "Revisa el metodo pd.DataFrame.dtypes. https://pandas.pydata.org/docs/reference/api/pandas.DataFrame.dtypes.html"
      ]
    },
    {
      "cell_type": "code",
      "execution_count": null,
      "metadata": {
        "id": "nqPrliUNKACU",
        "colab": {
          "base_uri": "https://localhost:8080/"
        },
        "outputId": "3db49a2c-e30a-4ed9-ff2d-784c226ac3a1"
      },
      "outputs": [
        {
          "output_type": "execute_result",
          "data": {
            "text/plain": [
              "Unnamed: 0                 int64\n",
              "id                         int64\n",
              "member_id                float64\n",
              "loan_amnt                float64\n",
              "funded_amnt              float64\n",
              "                          ...   \n",
              "settlement_status         object\n",
              "settlement_date           object\n",
              "settlement_amount        float64\n",
              "settlement_percentage    float64\n",
              "settlement_term          float64\n",
              "Length: 151, dtype: object"
            ]
          },
          "metadata": {},
          "execution_count": 4
        }
      ],
      "source": [
        "# column_types\n",
        "column_types = loans.dtypes\n",
        "column_types"
      ]
    },
    {
      "cell_type": "markdown",
      "metadata": {
        "id": "o_gqM2VpKACU"
      },
      "source": [
        "## Cargar descripcion de columnas"
      ]
    },
    {
      "cell_type": "markdown",
      "metadata": {
        "id": "sv-hT0AyKACV"
      },
      "source": [
        "La siguiente tabla tiene una descripcion del significado de cada columna"
      ]
    },
    {
      "cell_type": "code",
      "execution_count": null,
      "metadata": {
        "id": "guvwDb1IKACV"
      },
      "outputs": [],
      "source": [
        "datos_dict = pd.read_excel(\n",
        "    'https://resources.lendingclub.com/LCDataDictionary.xlsx')\n",
        "datos_dict.columns = ['feature', 'description']\n"
      ]
    },
    {
      "cell_type": "code",
      "execution_count": null,
      "metadata": {
        "id": "je6FabYbKACV",
        "outputId": "10d17344-f866-4f1d-a33a-dbbdbdb850e4",
        "colab": {
          "base_uri": "https://localhost:8080/",
          "height": 419
        }
      },
      "outputs": [
        {
          "output_type": "execute_result",
          "data": {
            "text/plain": [
              "                   feature                                        description\n",
              "0           acc_now_delinq  The number of accounts on which the borrower i...\n",
              "1     acc_open_past_24mths         Number of trades opened in past 24 months.\n",
              "2               addr_state  The state provided by the borrower in the loan...\n",
              "3                 all_util              Balance to credit limit on all trades\n",
              "4               annual_inc  The self-reported annual income provided by th...\n",
              "..                     ...                                                ...\n",
              "148      settlement_amount  The loan amount that the borrower has agreed t...\n",
              "149  settlement_percentage  The settlement amount as a percentage of the p...\n",
              "150        settlement_term  The number of months that the borrower will be...\n",
              "151                    NaN                                                NaN\n",
              "152                    NaN  * Employer Title replaces Employer Name for al...\n",
              "\n",
              "[153 rows x 2 columns]"
            ],
            "text/html": [
              "\n",
              "  <div id=\"df-3408a3a5-85a1-4a4b-b73b-62b7eff66326\" class=\"colab-df-container\">\n",
              "    <div>\n",
              "<style scoped>\n",
              "    .dataframe tbody tr th:only-of-type {\n",
              "        vertical-align: middle;\n",
              "    }\n",
              "\n",
              "    .dataframe tbody tr th {\n",
              "        vertical-align: top;\n",
              "    }\n",
              "\n",
              "    .dataframe thead th {\n",
              "        text-align: right;\n",
              "    }\n",
              "</style>\n",
              "<table border=\"1\" class=\"dataframe\">\n",
              "  <thead>\n",
              "    <tr style=\"text-align: right;\">\n",
              "      <th></th>\n",
              "      <th>feature</th>\n",
              "      <th>description</th>\n",
              "    </tr>\n",
              "  </thead>\n",
              "  <tbody>\n",
              "    <tr>\n",
              "      <th>0</th>\n",
              "      <td>acc_now_delinq</td>\n",
              "      <td>The number of accounts on which the borrower i...</td>\n",
              "    </tr>\n",
              "    <tr>\n",
              "      <th>1</th>\n",
              "      <td>acc_open_past_24mths</td>\n",
              "      <td>Number of trades opened in past 24 months.</td>\n",
              "    </tr>\n",
              "    <tr>\n",
              "      <th>2</th>\n",
              "      <td>addr_state</td>\n",
              "      <td>The state provided by the borrower in the loan...</td>\n",
              "    </tr>\n",
              "    <tr>\n",
              "      <th>3</th>\n",
              "      <td>all_util</td>\n",
              "      <td>Balance to credit limit on all trades</td>\n",
              "    </tr>\n",
              "    <tr>\n",
              "      <th>4</th>\n",
              "      <td>annual_inc</td>\n",
              "      <td>The self-reported annual income provided by th...</td>\n",
              "    </tr>\n",
              "    <tr>\n",
              "      <th>...</th>\n",
              "      <td>...</td>\n",
              "      <td>...</td>\n",
              "    </tr>\n",
              "    <tr>\n",
              "      <th>148</th>\n",
              "      <td>settlement_amount</td>\n",
              "      <td>The loan amount that the borrower has agreed t...</td>\n",
              "    </tr>\n",
              "    <tr>\n",
              "      <th>149</th>\n",
              "      <td>settlement_percentage</td>\n",
              "      <td>The settlement amount as a percentage of the p...</td>\n",
              "    </tr>\n",
              "    <tr>\n",
              "      <th>150</th>\n",
              "      <td>settlement_term</td>\n",
              "      <td>The number of months that the borrower will be...</td>\n",
              "    </tr>\n",
              "    <tr>\n",
              "      <th>151</th>\n",
              "      <td>NaN</td>\n",
              "      <td>NaN</td>\n",
              "    </tr>\n",
              "    <tr>\n",
              "      <th>152</th>\n",
              "      <td>NaN</td>\n",
              "      <td>* Employer Title replaces Employer Name for al...</td>\n",
              "    </tr>\n",
              "  </tbody>\n",
              "</table>\n",
              "<p>153 rows × 2 columns</p>\n",
              "</div>\n",
              "    <div class=\"colab-df-buttons\">\n",
              "\n",
              "  <div class=\"colab-df-container\">\n",
              "    <button class=\"colab-df-convert\" onclick=\"convertToInteractive('df-3408a3a5-85a1-4a4b-b73b-62b7eff66326')\"\n",
              "            title=\"Convert this dataframe to an interactive table.\"\n",
              "            style=\"display:none;\">\n",
              "\n",
              "  <svg xmlns=\"http://www.w3.org/2000/svg\" height=\"24px\" viewBox=\"0 -960 960 960\">\n",
              "    <path d=\"M120-120v-720h720v720H120Zm60-500h600v-160H180v160Zm220 220h160v-160H400v160Zm0 220h160v-160H400v160ZM180-400h160v-160H180v160Zm440 0h160v-160H620v160ZM180-180h160v-160H180v160Zm440 0h160v-160H620v160Z\"/>\n",
              "  </svg>\n",
              "    </button>\n",
              "\n",
              "  <style>\n",
              "    .colab-df-container {\n",
              "      display:flex;\n",
              "      gap: 12px;\n",
              "    }\n",
              "\n",
              "    .colab-df-convert {\n",
              "      background-color: #E8F0FE;\n",
              "      border: none;\n",
              "      border-radius: 50%;\n",
              "      cursor: pointer;\n",
              "      display: none;\n",
              "      fill: #1967D2;\n",
              "      height: 32px;\n",
              "      padding: 0 0 0 0;\n",
              "      width: 32px;\n",
              "    }\n",
              "\n",
              "    .colab-df-convert:hover {\n",
              "      background-color: #E2EBFA;\n",
              "      box-shadow: 0px 1px 2px rgba(60, 64, 67, 0.3), 0px 1px 3px 1px rgba(60, 64, 67, 0.15);\n",
              "      fill: #174EA6;\n",
              "    }\n",
              "\n",
              "    .colab-df-buttons div {\n",
              "      margin-bottom: 4px;\n",
              "    }\n",
              "\n",
              "    [theme=dark] .colab-df-convert {\n",
              "      background-color: #3B4455;\n",
              "      fill: #D2E3FC;\n",
              "    }\n",
              "\n",
              "    [theme=dark] .colab-df-convert:hover {\n",
              "      background-color: #434B5C;\n",
              "      box-shadow: 0px 1px 3px 1px rgba(0, 0, 0, 0.15);\n",
              "      filter: drop-shadow(0px 1px 2px rgba(0, 0, 0, 0.3));\n",
              "      fill: #FFFFFF;\n",
              "    }\n",
              "  </style>\n",
              "\n",
              "    <script>\n",
              "      const buttonEl =\n",
              "        document.querySelector('#df-3408a3a5-85a1-4a4b-b73b-62b7eff66326 button.colab-df-convert');\n",
              "      buttonEl.style.display =\n",
              "        google.colab.kernel.accessAllowed ? 'block' : 'none';\n",
              "\n",
              "      async function convertToInteractive(key) {\n",
              "        const element = document.querySelector('#df-3408a3a5-85a1-4a4b-b73b-62b7eff66326');\n",
              "        const dataTable =\n",
              "          await google.colab.kernel.invokeFunction('convertToInteractive',\n",
              "                                                    [key], {});\n",
              "        if (!dataTable) return;\n",
              "\n",
              "        const docLinkHtml = 'Like what you see? Visit the ' +\n",
              "          '<a target=\"_blank\" href=https://colab.research.google.com/notebooks/data_table.ipynb>data table notebook</a>'\n",
              "          + ' to learn more about interactive tables.';\n",
              "        element.innerHTML = '';\n",
              "        dataTable['output_type'] = 'display_data';\n",
              "        await google.colab.output.renderOutput(dataTable, element);\n",
              "        const docLink = document.createElement('div');\n",
              "        docLink.innerHTML = docLinkHtml;\n",
              "        element.appendChild(docLink);\n",
              "      }\n",
              "    </script>\n",
              "  </div>\n",
              "\n",
              "\n",
              "<div id=\"df-bb6376d9-59d0-482b-a8ac-64c439650c7b\">\n",
              "  <button class=\"colab-df-quickchart\" onclick=\"quickchart('df-bb6376d9-59d0-482b-a8ac-64c439650c7b')\"\n",
              "            title=\"Suggest charts\"\n",
              "            style=\"display:none;\">\n",
              "\n",
              "<svg xmlns=\"http://www.w3.org/2000/svg\" height=\"24px\"viewBox=\"0 0 24 24\"\n",
              "     width=\"24px\">\n",
              "    <g>\n",
              "        <path d=\"M19 3H5c-1.1 0-2 .9-2 2v14c0 1.1.9 2 2 2h14c1.1 0 2-.9 2-2V5c0-1.1-.9-2-2-2zM9 17H7v-7h2v7zm4 0h-2V7h2v10zm4 0h-2v-4h2v4z\"/>\n",
              "    </g>\n",
              "</svg>\n",
              "  </button>\n",
              "\n",
              "<style>\n",
              "  .colab-df-quickchart {\n",
              "      --bg-color: #E8F0FE;\n",
              "      --fill-color: #1967D2;\n",
              "      --hover-bg-color: #E2EBFA;\n",
              "      --hover-fill-color: #174EA6;\n",
              "      --disabled-fill-color: #AAA;\n",
              "      --disabled-bg-color: #DDD;\n",
              "  }\n",
              "\n",
              "  [theme=dark] .colab-df-quickchart {\n",
              "      --bg-color: #3B4455;\n",
              "      --fill-color: #D2E3FC;\n",
              "      --hover-bg-color: #434B5C;\n",
              "      --hover-fill-color: #FFFFFF;\n",
              "      --disabled-bg-color: #3B4455;\n",
              "      --disabled-fill-color: #666;\n",
              "  }\n",
              "\n",
              "  .colab-df-quickchart {\n",
              "    background-color: var(--bg-color);\n",
              "    border: none;\n",
              "    border-radius: 50%;\n",
              "    cursor: pointer;\n",
              "    display: none;\n",
              "    fill: var(--fill-color);\n",
              "    height: 32px;\n",
              "    padding: 0;\n",
              "    width: 32px;\n",
              "  }\n",
              "\n",
              "  .colab-df-quickchart:hover {\n",
              "    background-color: var(--hover-bg-color);\n",
              "    box-shadow: 0 1px 2px rgba(60, 64, 67, 0.3), 0 1px 3px 1px rgba(60, 64, 67, 0.15);\n",
              "    fill: var(--button-hover-fill-color);\n",
              "  }\n",
              "\n",
              "  .colab-df-quickchart-complete:disabled,\n",
              "  .colab-df-quickchart-complete:disabled:hover {\n",
              "    background-color: var(--disabled-bg-color);\n",
              "    fill: var(--disabled-fill-color);\n",
              "    box-shadow: none;\n",
              "  }\n",
              "\n",
              "  .colab-df-spinner {\n",
              "    border: 2px solid var(--fill-color);\n",
              "    border-color: transparent;\n",
              "    border-bottom-color: var(--fill-color);\n",
              "    animation:\n",
              "      spin 1s steps(1) infinite;\n",
              "  }\n",
              "\n",
              "  @keyframes spin {\n",
              "    0% {\n",
              "      border-color: transparent;\n",
              "      border-bottom-color: var(--fill-color);\n",
              "      border-left-color: var(--fill-color);\n",
              "    }\n",
              "    20% {\n",
              "      border-color: transparent;\n",
              "      border-left-color: var(--fill-color);\n",
              "      border-top-color: var(--fill-color);\n",
              "    }\n",
              "    30% {\n",
              "      border-color: transparent;\n",
              "      border-left-color: var(--fill-color);\n",
              "      border-top-color: var(--fill-color);\n",
              "      border-right-color: var(--fill-color);\n",
              "    }\n",
              "    40% {\n",
              "      border-color: transparent;\n",
              "      border-right-color: var(--fill-color);\n",
              "      border-top-color: var(--fill-color);\n",
              "    }\n",
              "    60% {\n",
              "      border-color: transparent;\n",
              "      border-right-color: var(--fill-color);\n",
              "    }\n",
              "    80% {\n",
              "      border-color: transparent;\n",
              "      border-right-color: var(--fill-color);\n",
              "      border-bottom-color: var(--fill-color);\n",
              "    }\n",
              "    90% {\n",
              "      border-color: transparent;\n",
              "      border-bottom-color: var(--fill-color);\n",
              "    }\n",
              "  }\n",
              "</style>\n",
              "\n",
              "  <script>\n",
              "    async function quickchart(key) {\n",
              "      const quickchartButtonEl =\n",
              "        document.querySelector('#' + key + ' button');\n",
              "      quickchartButtonEl.disabled = true;  // To prevent multiple clicks.\n",
              "      quickchartButtonEl.classList.add('colab-df-spinner');\n",
              "      try {\n",
              "        const charts = await google.colab.kernel.invokeFunction(\n",
              "            'suggestCharts', [key], {});\n",
              "      } catch (error) {\n",
              "        console.error('Error during call to suggestCharts:', error);\n",
              "      }\n",
              "      quickchartButtonEl.classList.remove('colab-df-spinner');\n",
              "      quickchartButtonEl.classList.add('colab-df-quickchart-complete');\n",
              "    }\n",
              "    (() => {\n",
              "      let quickchartButtonEl =\n",
              "        document.querySelector('#df-bb6376d9-59d0-482b-a8ac-64c439650c7b button');\n",
              "      quickchartButtonEl.style.display =\n",
              "        google.colab.kernel.accessAllowed ? 'block' : 'none';\n",
              "    })();\n",
              "  </script>\n",
              "</div>\n",
              "    </div>\n",
              "  </div>\n"
            ]
          },
          "metadata": {},
          "execution_count": 79
        }
      ],
      "source": [
        "datos_dict"
      ]
    },
    {
      "cell_type": "markdown",
      "metadata": {
        "id": "njcrKn0HKACX"
      },
      "source": [
        "### Pickle"
      ]
    },
    {
      "cell_type": "markdown",
      "metadata": {
        "id": "Zapqv9ZlKACX"
      },
      "source": [
        "Crea codigo para **guardar** y **cargar** el DataFrame de `datos_dict` creada en las celdas anteriores en formato **pickle**"
      ]
    },
    {
      "cell_type": "code",
      "execution_count": null,
      "metadata": {
        "id": "0VFt-FkOKACY"
      },
      "outputs": [],
      "source": [
        "# COdigo guardar\n",
        "datos_dict.to_pickle('datos_dict.pkl')"
      ]
    },
    {
      "cell_type": "code",
      "execution_count": null,
      "metadata": {
        "id": "iPeNjZTkKACY",
        "colab": {
          "base_uri": "https://localhost:8080/"
        },
        "outputId": "2e391d22-22ff-411f-8165-ef796a674af7"
      },
      "outputs": [
        {
          "output_type": "stream",
          "name": "stdout",
          "text": [
            "                   feature                                        description\n",
            "0           acc_now_delinq  The number of accounts on which the borrower i...\n",
            "1     acc_open_past_24mths         Number of trades opened in past 24 months.\n",
            "2               addr_state  The state provided by the borrower in the loan...\n",
            "3                 all_util              Balance to credit limit on all trades\n",
            "4               annual_inc  The self-reported annual income provided by th...\n",
            "..                     ...                                                ...\n",
            "148      settlement_amount  The loan amount that the borrower has agreed t...\n",
            "149  settlement_percentage  The settlement amount as a percentage of the p...\n",
            "150        settlement_term  The number of months that the borrower will be...\n",
            "151                    NaN                                                NaN\n",
            "152                    NaN  * Employer Title replaces Employer Name for al...\n",
            "\n",
            "[153 rows x 2 columns]\n"
          ]
        }
      ],
      "source": [
        "# Codigo para cargar\n",
        "datos_dict_cargado = pd.read_pickle('datos_dict.pkl')\n",
        "print(datos_dict_cargado)"
      ]
    },
    {
      "cell_type": "markdown",
      "metadata": {
        "id": "wBZfJnARKACY"
      },
      "source": [
        "## Tipos de Datos"
      ]
    },
    {
      "cell_type": "markdown",
      "metadata": {
        "id": "nsyx2u5VKACZ"
      },
      "source": [
        "Realiza las transformaciones o casteos (casting) que creas necesarios a tus datos de tal manera que el typo de dato sea adecuado. Al terminar recrea la tabla `column_types` con los nuevos tipos."
      ]
    },
    {
      "cell_type": "markdown",
      "metadata": {
        "id": "pqDYbB29KACZ"
      },
      "source": [
        "No olvides anotar tus justificaciones para recordar cuando te toque explicarlo."
      ]
    },
    {
      "cell_type": "code",
      "execution_count": 91,
      "metadata": {
        "id": "fD_bod5uKACZ",
        "colab": {
          "base_uri": "https://localhost:8080/"
        },
        "outputId": "dba814e7-87f6-42ab-8eff-25e9ee507334"
      },
      "outputs": [
        {
          "output_type": "stream",
          "name": "stdout",
          "text": [
            "             id  loan_amnt  funded_amnt  funded_amnt_inv  term  int_rate  \\\n",
            "0      38098114    15000.0      15000.0          15000.0    60     12.39   \n",
            "1      36805548    10400.0      10400.0          10400.0    36      6.99   \n",
            "2      37842129    21425.0      21425.0          21425.0    60     15.59   \n",
            "3      37612354    12800.0      12800.0          12800.0    60     17.14   \n",
            "4      37662224     7650.0       7650.0           7650.0    36     13.66   \n",
            "...         ...        ...          ...              ...   ...       ...   \n",
            "99995  22454240     8400.0       8400.0           8400.0    36      9.17   \n",
            "99996  11396920    10000.0      10000.0          10000.0    36     12.99   \n",
            "99997   8556176    30000.0      30000.0          30000.0    60     20.99   \n",
            "99998  24023408     8475.0       8475.0           8475.0    36     24.99   \n",
            "99999  24023398    25000.0      25000.0          25000.0    36     10.15   \n",
            "\n",
            "       installment grade sub_grade                        emp_title  ...  \\\n",
            "0           336.64     C        C1                       MANAGEMENT  ...   \n",
            "1           321.08     A        A3   Truck Driver Delivery Personel  ...   \n",
            "2           516.36     D        D1  Programming Analysis Supervisor  ...   \n",
            "3           319.08     D        D4        Senior Sales Professional  ...   \n",
            "4           260.20     C        C3             Technical Specialist  ...   \n",
            "...            ...   ...       ...                              ...  ...   \n",
            "99995       267.79     B        B1                Software Engineer  ...   \n",
            "99996       336.90     C        C1   Assistant Professor of English  ...   \n",
            "99997       811.44     E        E4                Facilities Tech 3  ...   \n",
            "99998       336.92     F        F4         Records Examiner Analyst  ...   \n",
            "99999       808.45     B        B2    Occupational Theapy Assistant  ...   \n",
            "\n",
            "      orig_projected_additional_accrued_interest  \\\n",
            "0                                     323.495132   \n",
            "1                                     323.495132   \n",
            "2                                     323.495132   \n",
            "3                                     323.495132   \n",
            "4                                     323.495132   \n",
            "...                                          ...   \n",
            "99995                                 323.495132   \n",
            "99996                                 323.495132   \n",
            "99997                                 323.495132   \n",
            "99998                                 323.495132   \n",
            "99999                                 323.495132   \n",
            "\n",
            "      hardship_payoff_balance_amount  hardship_last_payment_amount  \\\n",
            "0                        8046.616541                    186.563135   \n",
            "1                        8046.616541                    186.563135   \n",
            "2                        8046.616541                    186.563135   \n",
            "3                        8046.616541                    186.563135   \n",
            "4                        8046.616541                    186.563135   \n",
            "...                              ...                           ...   \n",
            "99995                    8046.616541                    186.563135   \n",
            "99996                    8046.616541                    186.563135   \n",
            "99997                    8046.616541                    186.563135   \n",
            "99998                    8046.616541                    186.563135   \n",
            "99999                    8046.616541                    186.563135   \n",
            "\n",
            "      disbursement_method debt_settlement_flag settlement_status  \\\n",
            "0                    Cash                 True            ACTIVE   \n",
            "1                    Cash                 True            ACTIVE   \n",
            "2                    Cash                 True            ACTIVE   \n",
            "3                    Cash                 True            ACTIVE   \n",
            "4                    Cash                 True            ACTIVE   \n",
            "...                   ...                  ...               ...   \n",
            "99995                Cash                 True            ACTIVE   \n",
            "99996                Cash                 True            ACTIVE   \n",
            "99997                Cash                 True            ACTIVE   \n",
            "99998                Cash                 True            ACTIVE   \n",
            "99999                Cash                 True            ACTIVE   \n",
            "\n",
            "      settlement_amount settlement_percentage settlement_term  \\\n",
            "0           4768.376357             47.720519        8.265116   \n",
            "1           4768.376357             47.720519        8.265116   \n",
            "2           4768.376357             47.720519        8.265116   \n",
            "3           4768.376357             47.720519        8.265116   \n",
            "4           4768.376357             47.720519        8.265116   \n",
            "...                 ...                   ...             ...   \n",
            "99995       4768.376357             47.720519        8.265116   \n",
            "99996       4768.376357             47.720519        8.265116   \n",
            "99997       4768.376357             47.720519        8.265116   \n",
            "99998       4768.376357             47.720519        8.265116   \n",
            "99999       4768.376357             47.720519        8.265116   \n",
            "\n",
            "      emp_length_numeric  \n",
            "0                   10.0  \n",
            "1                    8.0  \n",
            "2                    6.0  \n",
            "3                   10.0  \n",
            "4                    0.0  \n",
            "...                  ...  \n",
            "99995                2.0  \n",
            "99996                3.0  \n",
            "99997               10.0  \n",
            "99998               10.0  \n",
            "99999                3.0  \n",
            "\n",
            "[100000 rows x 111 columns]\n"
          ]
        }
      ],
      "source": [
        "# Manejos de tipos 1\n",
        "# Tu codigo aqui\n",
        "# Eliminare las columnas que no contengan ningun dato ya que no van a proporcionar información importante y en el caso de member_id con el id es mas que suficiente para identificar y unnamed que no me da ninguna información\n",
        "col_eliminar=['Unnamed','annual_inc_joint','dti_joint','verification_status_joint', 'revol_bal_joint','sec_app_fico_range_low', 'sec_app_fico_range_high', 'sec_app_earliest_cr_line', 'sec_app_inq_last_6mths', 'sec_app_mort_acc', 'sec_app_open_acc', 'sec_app_revol_util', 'sec_app_open_act_il', 'sec_app_num_rev_accts', 'sec_app_chargeoff_within_12_mths', 'sec_app_collections_12_mths_ex_med', 'sec_app_mths_since_last_major_derog', 'member_id']\n",
        "# Eliminar las columnas\n",
        "# Verificar la existencia de cada columna antes de intentar eliminarla\n",
        "for col in col_eliminar:\n",
        "    if col in loans.columns:\n",
        "        loans = loans.drop(columns=col)\n",
        "# Imprimir el DataFrame resultante\n",
        "loans = loans.loc[:, ~loans.columns.str.startswith('Unnamed')]\n",
        "print(loans)"
      ]
    },
    {
      "cell_type": "code",
      "source": [
        "print(loans.columns)"
      ],
      "metadata": {
        "colab": {
          "base_uri": "https://localhost:8080/"
        },
        "id": "E-R3X-6XrK9R",
        "outputId": "3f7ceafd-97b5-477f-d936-c3bacd070d4d"
      },
      "execution_count": 92,
      "outputs": [
        {
          "output_type": "stream",
          "name": "stdout",
          "text": [
            "Index(['id', 'loan_amnt', 'funded_amnt', 'funded_amnt_inv', 'term', 'int_rate',\n",
            "       'installment', 'grade', 'sub_grade', 'emp_title',\n",
            "       ...\n",
            "       'orig_projected_additional_accrued_interest',\n",
            "       'hardship_payoff_balance_amount', 'hardship_last_payment_amount',\n",
            "       'disbursement_method', 'debt_settlement_flag', 'settlement_status',\n",
            "       'settlement_amount', 'settlement_percentage', 'settlement_term',\n",
            "       'emp_length_numeric'],\n",
            "      dtype='object', length=111)\n"
          ]
        }
      ]
    },
    {
      "cell_type": "code",
      "source": [
        "# pymnt_plan lo voy a cambiar a valores booleanos para que sea mas fácil posteriormente\n",
        "loans['pymnt_plan'] = loans['pymnt_plan'].replace({'n': False})\n",
        "# Imprimir el DataFrame resultante\n",
        "print(loans['pymnt_plan'])"
      ],
      "metadata": {
        "colab": {
          "base_uri": "https://localhost:8080/"
        },
        "id": "HtCkfLXSOpkJ",
        "outputId": "be106138-1c20-40d3-e005-4710b2f64aab"
      },
      "execution_count": 94,
      "outputs": [
        {
          "output_type": "stream",
          "name": "stdout",
          "text": [
            "0        False\n",
            "1        False\n",
            "2        False\n",
            "3        False\n",
            "4        False\n",
            "         ...  \n",
            "99995    False\n",
            "99996    False\n",
            "99997    False\n",
            "99998    False\n",
            "99999    False\n",
            "Name: pymnt_plan, Length: 100000, dtype: object\n"
          ]
        },
        {
          "output_type": "stream",
          "name": "stderr",
          "text": [
            "<ipython-input-94-9e80e2409ebb>:2: SettingWithCopyWarning: \n",
            "A value is trying to be set on a copy of a slice from a DataFrame.\n",
            "Try using .loc[row_indexer,col_indexer] = value instead\n",
            "\n",
            "See the caveats in the documentation: https://pandas.pydata.org/pandas-docs/stable/user_guide/indexing.html#returning-a-view-versus-a-copy\n",
            "  loans['pymnt_plan'] = loans['pymnt_plan'].replace({'n': False})\n"
          ]
        }
      ]
    },
    {
      "cell_type": "code",
      "source": [
        "# Para la columna terms los valores pueden ser 36 or 60, entonces le voy a quitar la palabra months\n",
        "# Verificar si los valores son de tipo cadena y luego quitar \" months\" y convertir a int\n",
        "loans['term'] = loans['term'].astype(str).str.replace(' months', '').astype(int)\n",
        "# Imprimir el DataFrame resultante\n",
        "print(loans['term'])\n"
      ],
      "metadata": {
        "colab": {
          "base_uri": "https://localhost:8080/"
        },
        "id": "67FJAuJvVNLa",
        "outputId": "a7f3b855-e1a5-4b6d-8aca-a4e2ea5c689a"
      },
      "execution_count": 95,
      "outputs": [
        {
          "output_type": "stream",
          "name": "stdout",
          "text": [
            "0        60\n",
            "1        36\n",
            "2        60\n",
            "3        60\n",
            "4        36\n",
            "         ..\n",
            "99995    36\n",
            "99996    36\n",
            "99997    60\n",
            "99998    36\n",
            "99999    36\n",
            "Name: term, Length: 100000, dtype: int64\n"
          ]
        },
        {
          "output_type": "stream",
          "name": "stderr",
          "text": [
            "<ipython-input-95-04c471dc801f>:3: SettingWithCopyWarning: \n",
            "A value is trying to be set on a copy of a slice from a DataFrame.\n",
            "Try using .loc[row_indexer,col_indexer] = value instead\n",
            "\n",
            "See the caveats in the documentation: https://pandas.pydata.org/pandas-docs/stable/user_guide/indexing.html#returning-a-view-versus-a-copy\n",
            "  loans['term'] = loans['term'].astype(str).str.replace(' months', '').astype(int)\n"
          ]
        }
      ]
    },
    {
      "cell_type": "code",
      "source": [
        "# La columna emp_length podría traer problemas en un futuro a la hora de acceder, entonces  creamos otra con valores numéricos\n",
        "#representando <1 year como 0 y 10+ years como 10\n",
        "# Mapear las etiquetas existentes a valores numéricos\n",
        "mapping_emp_length = {\n",
        "    '< 1 year': 0,\n",
        "    '1 year': 1,\n",
        "    '2 years': 2,\n",
        "    '3 years': 3,\n",
        "    '4 years': 4,\n",
        "    '5 years': 5,\n",
        "    '6 years': 6,\n",
        "    '7 years': 7,\n",
        "    '8 years': 8,\n",
        "    '9 years': 9,\n",
        "    '10+ years': 10,\n",
        "}\n",
        "\n",
        "# Crear una nueva columna 'emp_length_numeric' con valores numéricos\n",
        "loans['emp_length_numeric'] = loans['emp_length'].replace(mapping_emp_length)\n",
        "\n",
        "# Imprimir el DataFrame resultante\n",
        "print(loans[['emp_length', 'emp_length_numeric']])\n"
      ],
      "metadata": {
        "colab": {
          "base_uri": "https://localhost:8080/"
        },
        "id": "YocarMEDZKsf",
        "outputId": "0b26442a-e075-4e8c-e47a-101d0de9798d"
      },
      "execution_count": 96,
      "outputs": [
        {
          "output_type": "stream",
          "name": "stdout",
          "text": [
            "      emp_length  emp_length_numeric\n",
            "0      10+ years                  10\n",
            "1        8 years                   8\n",
            "2        6 years                   6\n",
            "3      10+ years                  10\n",
            "4       < 1 year                   0\n",
            "...          ...                 ...\n",
            "99995    2 years                   2\n",
            "99996    3 years                   3\n",
            "99997  10+ years                  10\n",
            "99998  10+ years                  10\n",
            "99999    3 years                   3\n",
            "\n",
            "[100000 rows x 2 columns]\n"
          ]
        },
        {
          "output_type": "stream",
          "name": "stderr",
          "text": [
            "<ipython-input-96-7ed3619906b5>:19: SettingWithCopyWarning: \n",
            "A value is trying to be set on a copy of a slice from a DataFrame.\n",
            "Try using .loc[row_indexer,col_indexer] = value instead\n",
            "\n",
            "See the caveats in the documentation: https://pandas.pydata.org/pandas-docs/stable/user_guide/indexing.html#returning-a-view-versus-a-copy\n",
            "  loans['emp_length_numeric'] = loans['emp_length'].replace(mapping_emp_length)\n"
          ]
        }
      ]
    },
    {
      "cell_type": "code",
      "source": [
        "# vamos a cambair algunas columnas que son float pero no perderían nada de información si fueran int y así ocupan menos espacio\n",
        "columnas_float = loans.select_dtypes(include='float64').columns.tolist()\n",
        "# Imprimir las columnas de tipo float\n",
        "print(\"Columnas de tipo float:\", columnas_float)\n",
        "#checamos cuales se pueden cambiar a int dependiendo de su descricpción\n",
        "columnas_finales = [\"delinq_2yrs\", \"inq_last_6mths\", \"open_acc\", \"pub_rec\", \"collections_12_mths_ex_med\",\n",
        "                    \"policy_code\", \"acc_now_delinq\", \"tot_coll_amt\", \"acc_open_past_24mths\", \"chargeoff_within_12_mths\",\n",
        "                    \"delinq_amnt\", \"mo_sin_old_rev_tl_op\", \"mo_sin_rcnt_rev_tl_op\", \"mo_sin_rcnt_tl\", \"mort_acc\",\n",
        "                    \"num_accts_ever_120_pd\", \"num_actv_bc_tl\", \"num_actv_rev_tl\", \"num_bc_sats\", \"num_bc_tl\",\n",
        "                    \"num_il_tl\", \"num_op_rev_tl\", \"num_rev_accts\", \"num_rev_tl_bal_gt_0\", \"num_sats\",\n",
        "                    \"num_tl_30dpd\", \"num_tl_90g_dpd_24m\", \"num_tl_op_past_12m\", \"pub_rec_bankruptcies\", \"tax_liens\"]\n",
        "\n",
        "loans[columnas_finales] = loans[columnas_finales].astype('int')\n",
        "\n",
        "# Imprimir el DataFrame resultante\n",
        "print(loans[columnas_finales])"
      ],
      "metadata": {
        "colab": {
          "base_uri": "https://localhost:8080/"
        },
        "id": "oe4_sz5RPfQO",
        "outputId": "6f9a5103-9caa-4a0c-d959-21d4d6afaec0"
      },
      "execution_count": 97,
      "outputs": [
        {
          "output_type": "stream",
          "name": "stdout",
          "text": [
            "Columnas de tipo float: ['loan_amnt', 'funded_amnt', 'funded_amnt_inv', 'int_rate', 'installment', 'annual_inc', 'dti', 'fico_range_low', 'fico_range_high', 'mths_since_last_delinq', 'mths_since_last_record', 'revol_bal', 'revol_util', 'total_acc', 'out_prncp', 'out_prncp_inv', 'total_pymnt', 'total_pymnt_inv', 'total_rec_prncp', 'total_rec_int', 'total_rec_late_fee', 'recoveries', 'collection_recovery_fee', 'last_pymnt_amnt', 'last_fico_range_high', 'last_fico_range_low', 'mths_since_last_major_derog', 'tot_cur_bal', 'total_rev_hi_lim', 'avg_cur_bal', 'bc_open_to_buy', 'bc_util', 'mo_sin_old_il_acct', 'mths_since_recent_bc', 'mths_since_recent_bc_dlq', 'mths_since_recent_inq', 'mths_since_recent_revol_delinq', 'num_tl_120dpd_2m', 'pct_tl_nvr_dlq', 'percent_bc_gt_75', 'tot_hi_cred_lim', 'total_bal_ex_mort', 'total_bc_limit', 'total_il_high_credit_limit', 'deferral_term', 'hardship_amount', 'hardship_length', 'hardship_dpd', 'orig_projected_additional_accrued_interest', 'hardship_payoff_balance_amount', 'hardship_last_payment_amount', 'settlement_amount', 'settlement_percentage', 'settlement_term']\n",
            "       delinq_2yrs  inq_last_6mths  open_acc  pub_rec  \\\n",
            "0                0               0         6        0   \n",
            "1                0               2        17        0   \n",
            "2                0               0        10        0   \n",
            "3                1               0         8        0   \n",
            "4                0               1        11        0   \n",
            "...            ...             ...       ...      ...   \n",
            "99995            1               1         6        1   \n",
            "99996            0               0        11        0   \n",
            "99997            0               1        18        0   \n",
            "99998            2               1        11        1   \n",
            "99999            0               0        23        0   \n",
            "\n",
            "       collections_12_mths_ex_med  policy_code  acc_now_delinq  tot_coll_amt  \\\n",
            "0                               0            1               0             0   \n",
            "1                               0            1               0             0   \n",
            "2                               0            1               0             0   \n",
            "3                               0            1               0             0   \n",
            "4                               0            1               0             0   \n",
            "...                           ...          ...             ...           ...   \n",
            "99995                           0            1               0             0   \n",
            "99996                           0            1               0            98   \n",
            "99997                           0            1               0             0   \n",
            "99998                           0            1               0          2066   \n",
            "99999                           0            1               0             0   \n",
            "\n",
            "       acc_open_past_24mths  chargeoff_within_12_mths  ...  num_il_tl  \\\n",
            "0                         5                         0  ...          8   \n",
            "1                         7                         0  ...          2   \n",
            "2                         4                         0  ...         16   \n",
            "3                         2                         0  ...          1   \n",
            "4                         6                         0  ...         12   \n",
            "...                     ...                       ...  ...        ...   \n",
            "99995                     2                         0  ...          7   \n",
            "99996                     3                         0  ...          4   \n",
            "99997                     5                         0  ...          5   \n",
            "99998                     8                         0  ...         11   \n",
            "99999                     5                         0  ...         13   \n",
            "\n",
            "       num_op_rev_tl  num_rev_accts  num_rev_tl_bal_gt_0  num_sats  \\\n",
            "0                  5              9                    4         6   \n",
            "1                 14             32                    9        17   \n",
            "2                  5             18                    4        10   \n",
            "3                  5              7                    5         8   \n",
            "4                  4              8                    4        11   \n",
            "...              ...            ...                  ...       ...   \n",
            "99995              3              7                    2         6   \n",
            "99996              9             13                    5        11   \n",
            "99997             15             22                   12        18   \n",
            "99998              8             18                    3        11   \n",
            "99999             10             19                    7        23   \n",
            "\n",
            "       num_tl_30dpd  num_tl_90g_dpd_24m  num_tl_op_past_12m  \\\n",
            "0                 0                   0                   4   \n",
            "1                 0                   0                   4   \n",
            "2                 0                   0                   2   \n",
            "3                 0                   0                   0   \n",
            "4                 0                   0                   2   \n",
            "...             ...                 ...                 ...   \n",
            "99995             0                   0                   2   \n",
            "99996             0                   0                   1   \n",
            "99997             0                   0                   4   \n",
            "99998             0                   1                   6   \n",
            "99999             0                   0                   3   \n",
            "\n",
            "       pub_rec_bankruptcies  tax_liens  \n",
            "0                         0          0  \n",
            "1                         0          0  \n",
            "2                         0          0  \n",
            "3                         0          0  \n",
            "4                         0          0  \n",
            "...                     ...        ...  \n",
            "99995                     0          0  \n",
            "99996                     0          0  \n",
            "99997                     0          0  \n",
            "99998                     1          0  \n",
            "99999                     0          0  \n",
            "\n",
            "[100000 rows x 30 columns]\n"
          ]
        },
        {
          "output_type": "stream",
          "name": "stderr",
          "text": [
            "<ipython-input-97-41ec497738ec>:13: SettingWithCopyWarning: \n",
            "A value is trying to be set on a copy of a slice from a DataFrame.\n",
            "Try using .loc[row_indexer,col_indexer] = value instead\n",
            "\n",
            "See the caveats in the documentation: https://pandas.pydata.org/pandas-docs/stable/user_guide/indexing.html#returning-a-view-versus-a-copy\n",
            "  loans[columnas_finales] = loans[columnas_finales].astype('int')\n"
          ]
        }
      ]
    },
    {
      "cell_type": "code",
      "source": [
        "descripcion_hardship_flag = loans['hardship_flag'].describe()\n",
        "print(descripcion_hardship_flag)"
      ],
      "metadata": {
        "colab": {
          "base_uri": "https://localhost:8080/"
        },
        "id": "G6aYhxmNV8GK",
        "outputId": "cbfe66a2-9857-4162-cf26-c12f3516e966"
      },
      "execution_count": 98,
      "outputs": [
        {
          "output_type": "stream",
          "name": "stdout",
          "text": [
            "count     100000\n",
            "unique         1\n",
            "top         True\n",
            "freq      100000\n",
            "Name: hardship_flag, dtype: object\n"
          ]
        }
      ]
    },
    {
      "cell_type": "code",
      "source": [
        "#hardship_flag\tFlags whether or not the borrower is on a hardship plan las N a valores booleanos porque es mas facil trabajar con boolean\n",
        "# Actualizar los valores en la columna 'hardship_flag'\n",
        "loans.loc[loans['hardship_flag'] == 'N', 'hardship_flag'] = False\n",
        "loans.loc[loans['hardship_flag'] != 'N', 'hardship_flag'] = True\n",
        "# Imprimir el DataFrame resultante\n",
        "print(loans['hardship_flag'])\n",
        "\n",
        "#igual que debt_settlement_flag\n",
        "# Actualizar los valores en la columna 'debt_settlement_flag'\n",
        "loans.loc[loans['debt_settlement_flag'] == 'N', 'debt_settlement_flag'] = False\n",
        "loans.loc[loans['debt_settlement_flag'] != 'N', 'debt_settlement_flag'] = True\n",
        "\n",
        "# Imprimir el DataFrame resultante\n",
        "print(loans['debt_settlement_flag'])\n"
      ],
      "metadata": {
        "colab": {
          "base_uri": "https://localhost:8080/"
        },
        "id": "pa9WouQ5U-_O",
        "outputId": "bf69cfe4-d5f8-4f43-adc6-0572a62d91c7"
      },
      "execution_count": 99,
      "outputs": [
        {
          "output_type": "stream",
          "name": "stdout",
          "text": [
            "0        True\n",
            "1        True\n",
            "2        True\n",
            "3        True\n",
            "4        True\n",
            "         ... \n",
            "99995    True\n",
            "99996    True\n",
            "99997    True\n",
            "99998    True\n",
            "99999    True\n",
            "Name: hardship_flag, Length: 100000, dtype: bool\n",
            "0        True\n",
            "1        True\n",
            "2        True\n",
            "3        True\n",
            "4        True\n",
            "         ... \n",
            "99995    True\n",
            "99996    True\n",
            "99997    True\n",
            "99998    True\n",
            "99999    True\n",
            "Name: debt_settlement_flag, Length: 100000, dtype: object\n"
          ]
        }
      ]
    },
    {
      "cell_type": "code",
      "source": [
        "# Recrear la tabla column_types con los nuevos tipos de datos\n",
        "column_types = pd.DataFrame(loans.dtypes, columns=['type']).reset_index()\n",
        "column_types.rename(columns={'index': 'column_name'}, inplace=True)\n",
        "\n",
        "# Mostrar la nueva tabla de tipos de datos\n",
        "print(\"Nueva tabla de tipos de datos:\")\n",
        "print(column_types)"
      ],
      "metadata": {
        "colab": {
          "base_uri": "https://localhost:8080/"
        },
        "id": "TGlyX1jNlwvL",
        "outputId": "e3a74f75-fbe6-4180-f273-6fb23678d5bc"
      },
      "execution_count": 100,
      "outputs": [
        {
          "output_type": "stream",
          "name": "stdout",
          "text": [
            "Nueva tabla de tipos de datos:\n",
            "               column_name     type\n",
            "0                       id    int64\n",
            "1                loan_amnt  float64\n",
            "2              funded_amnt  float64\n",
            "3          funded_amnt_inv  float64\n",
            "4                     term    int64\n",
            "..                     ...      ...\n",
            "106      settlement_status   object\n",
            "107      settlement_amount  float64\n",
            "108  settlement_percentage  float64\n",
            "109        settlement_term  float64\n",
            "110     emp_length_numeric    int64\n",
            "\n",
            "[111 rows x 2 columns]\n"
          ]
        }
      ]
    },
    {
      "cell_type": "markdown",
      "metadata": {
        "id": "GAwn2WhiKACb"
      },
      "source": [
        "## Manejo de NaNs o missings"
      ]
    },
    {
      "cell_type": "markdown",
      "metadata": {
        "id": "REp-TDNIKACc"
      },
      "source": [
        "Crea codigo para **guardar** y **cargar** un archivo JSON en el que se guarde la `estrategia` y `valor` que utilizaste para **imputar**. Por ejemplo: Si hay una columna que se llama `columna 3` y utilizaste la estrategia de imputacion de media, y existe otra llamada `columna 4` y  elegiste la palabra 'missing' el JSON debera contener:  \n",
        "  \n",
        " `{'columna 3':{'estrategia':'mean', 'valor':3.4}, 'columna 4':{'estrategia':'identificador', 'valor':'missing'}}`  \n",
        "\n",
        " De tal manera que para cada columna que tenga un metodo de imputacion apunte a otro diccionario donde el **key** `estrategia` describa de manera sencilla el metodo, y el **key** `valor` el valor usado. En general:   \n",
        " `{'nombre de la columna':{'estrategia':'descripcion de estrategia', 'valor':'valor utilizado'}}`.\n",
        "\n",
        "\n",
        "De utilizar mas de un metodo puedes anidarlos en una lista  \n",
        "  `[{...},{...}]`.  \n",
        "\n",
        "Incluso si la columna utilizada no sufrio imputacion, es necesario que la agregues al JSON.\n",
        "\n",
        "La idea es que cualquier otra persona pueda cargar el el archivo JSON con tu funcion, entender que hiciste y replicarlo facilmente. No existe solo una respuesta correcta, pero tendras que justificar y explicar tus deciciones."
      ]
    },
    {
      "cell_type": "markdown",
      "metadata": {
        "id": "-TnSsQ3bKACd"
      },
      "source": [
        "### Imputacion"
      ]
    },
    {
      "cell_type": "code",
      "source": [
        "import numpy as np\n",
        "\n",
        "# Inicializar el diccionario de imputación\n",
        "imput_dict = {}\n",
        "\n",
        "# Reemplazar espacios en blanco por NaN\n",
        "loans.replace('', np.nan, inplace=True)\n",
        "\n",
        "def imputacion(dataframe):\n",
        "    for column_name in dataframe.columns:\n",
        "        if dataframe[column_name].dtype == 'int64':\n",
        "            # Imputar NaN con la media para columnas de tipo int64\n",
        "            mean_value = int(dataframe[column_name].mean())\n",
        "            dataframe[column_name].fillna(mean_value, inplace=True)\n",
        "            imput_dict[column_name] = {'estrategia': 'media', 'valor': mean_value}\n",
        "        elif dataframe[column_name].dtype == 'float64':\n",
        "            # Imputar NaN con la media para columnas de tipo float64\n",
        "            mean_value = dataframe[column_name].mean()\n",
        "            dataframe[column_name].fillna(mean_value, inplace=True)\n",
        "            imput_dict[column_name] = {'estrategia': 'media', 'valor': mean_value}\n",
        "        elif dataframe[column_name].dtype == 'object':\n",
        "            # Imputar NaN con la moda para columnas de tipo object\n",
        "            mode_value = str(dataframe[column_name].mode().iloc[0])  # Obtener el primer valor de la moda\n",
        "            dataframe[column_name].fillna(mode_value, inplace=True)\n",
        "            imput_dict[column_name] = {'estrategia': 'moda', 'valor': mode_value}\n",
        "        elif dataframe[column_name].dtype == 'string':  # Corregir dtype 'string' a 'object'\n",
        "            # Imputar NaN con la moda para columnas de tipo object\n",
        "            mode_value = str(dataframe[column_name].mode().iloc[0])  # Obtener el primer valor de la moda\n",
        "            dataframe[column_name].fillna(mode_value, inplace=True)\n",
        "            imput_dict[column_name] = {'estrategia': 'moda', 'valor': mode_value}\n",
        "\n",
        "        # Eliminar columnas con más del 80% de NaN\n",
        "        if dataframe[column_name].isnull().mean() >= 0.8:\n",
        "            dataframe.drop(column_name, axis=1, inplace=True)\n",
        "\n",
        "    return dataframe\n",
        "\n",
        "# Aplicar la función de imputación al DataFrame 'loans'\n",
        "loans = imputacion(loans)\n",
        "\n",
        "# Imprimir el diccionario de imputación resultante\n",
        "print(\"Diccionario de imputación:\")\n",
        "print(imput_dict)\n"
      ],
      "metadata": {
        "colab": {
          "base_uri": "https://localhost:8080/"
        },
        "id": "S3Ho9du3mgCP",
        "outputId": "20bd19cd-4dbf-4b6a-ae59-e59899c06ab6"
      },
      "execution_count": 101,
      "outputs": [
        {
          "output_type": "stream",
          "name": "stderr",
          "text": [
            "<ipython-input-101-0faff63a546e>:7: SettingWithCopyWarning: \n",
            "A value is trying to be set on a copy of a slice from a DataFrame\n",
            "\n",
            "See the caveats in the documentation: https://pandas.pydata.org/pandas-docs/stable/user_guide/indexing.html#returning-a-view-versus-a-copy\n",
            "  loans.replace('', np.nan, inplace=True)\n",
            "<ipython-input-101-0faff63a546e>:14: SettingWithCopyWarning: \n",
            "A value is trying to be set on a copy of a slice from a DataFrame\n",
            "\n",
            "See the caveats in the documentation: https://pandas.pydata.org/pandas-docs/stable/user_guide/indexing.html#returning-a-view-versus-a-copy\n",
            "  dataframe[column_name].fillna(mean_value, inplace=True)\n",
            "<ipython-input-101-0faff63a546e>:19: SettingWithCopyWarning: \n",
            "A value is trying to be set on a copy of a slice from a DataFrame\n",
            "\n",
            "See the caveats in the documentation: https://pandas.pydata.org/pandas-docs/stable/user_guide/indexing.html#returning-a-view-versus-a-copy\n",
            "  dataframe[column_name].fillna(mean_value, inplace=True)\n",
            "<ipython-input-101-0faff63a546e>:24: SettingWithCopyWarning: \n",
            "A value is trying to be set on a copy of a slice from a DataFrame\n",
            "\n",
            "See the caveats in the documentation: https://pandas.pydata.org/pandas-docs/stable/user_guide/indexing.html#returning-a-view-versus-a-copy\n",
            "  dataframe[column_name].fillna(mode_value, inplace=True)\n",
            "<ipython-input-101-0faff63a546e>:24: SettingWithCopyWarning: \n",
            "A value is trying to be set on a copy of a slice from a DataFrame\n",
            "\n",
            "See the caveats in the documentation: https://pandas.pydata.org/pandas-docs/stable/user_guide/indexing.html#returning-a-view-versus-a-copy\n",
            "  dataframe[column_name].fillna(mode_value, inplace=True)\n",
            "<ipython-input-101-0faff63a546e>:24: SettingWithCopyWarning: \n",
            "A value is trying to be set on a copy of a slice from a DataFrame\n",
            "\n",
            "See the caveats in the documentation: https://pandas.pydata.org/pandas-docs/stable/user_guide/indexing.html#returning-a-view-versus-a-copy\n",
            "  dataframe[column_name].fillna(mode_value, inplace=True)\n",
            "<ipython-input-101-0faff63a546e>:24: SettingWithCopyWarning: \n",
            "A value is trying to be set on a copy of a slice from a DataFrame\n",
            "\n",
            "See the caveats in the documentation: https://pandas.pydata.org/pandas-docs/stable/user_guide/indexing.html#returning-a-view-versus-a-copy\n",
            "  dataframe[column_name].fillna(mode_value, inplace=True)\n",
            "<ipython-input-101-0faff63a546e>:24: SettingWithCopyWarning: \n",
            "A value is trying to be set on a copy of a slice from a DataFrame\n",
            "\n",
            "See the caveats in the documentation: https://pandas.pydata.org/pandas-docs/stable/user_guide/indexing.html#returning-a-view-versus-a-copy\n",
            "  dataframe[column_name].fillna(mode_value, inplace=True)\n",
            "<ipython-input-101-0faff63a546e>:19: SettingWithCopyWarning: \n",
            "A value is trying to be set on a copy of a slice from a DataFrame\n",
            "\n",
            "See the caveats in the documentation: https://pandas.pydata.org/pandas-docs/stable/user_guide/indexing.html#returning-a-view-versus-a-copy\n",
            "  dataframe[column_name].fillna(mean_value, inplace=True)\n",
            "<ipython-input-101-0faff63a546e>:24: SettingWithCopyWarning: \n",
            "A value is trying to be set on a copy of a slice from a DataFrame\n",
            "\n",
            "See the caveats in the documentation: https://pandas.pydata.org/pandas-docs/stable/user_guide/indexing.html#returning-a-view-versus-a-copy\n",
            "  dataframe[column_name].fillna(mode_value, inplace=True)\n",
            "<ipython-input-101-0faff63a546e>:24: SettingWithCopyWarning: \n",
            "A value is trying to be set on a copy of a slice from a DataFrame\n",
            "\n",
            "See the caveats in the documentation: https://pandas.pydata.org/pandas-docs/stable/user_guide/indexing.html#returning-a-view-versus-a-copy\n",
            "  dataframe[column_name].fillna(mode_value, inplace=True)\n",
            "<ipython-input-101-0faff63a546e>:24: SettingWithCopyWarning: \n",
            "A value is trying to be set on a copy of a slice from a DataFrame\n",
            "\n",
            "See the caveats in the documentation: https://pandas.pydata.org/pandas-docs/stable/user_guide/indexing.html#returning-a-view-versus-a-copy\n",
            "  dataframe[column_name].fillna(mode_value, inplace=True)\n",
            "<ipython-input-101-0faff63a546e>:24: SettingWithCopyWarning: \n",
            "A value is trying to be set on a copy of a slice from a DataFrame\n",
            "\n",
            "See the caveats in the documentation: https://pandas.pydata.org/pandas-docs/stable/user_guide/indexing.html#returning-a-view-versus-a-copy\n",
            "  dataframe[column_name].fillna(mode_value, inplace=True)\n",
            "<ipython-input-101-0faff63a546e>:24: SettingWithCopyWarning: \n",
            "A value is trying to be set on a copy of a slice from a DataFrame\n",
            "\n",
            "See the caveats in the documentation: https://pandas.pydata.org/pandas-docs/stable/user_guide/indexing.html#returning-a-view-versus-a-copy\n",
            "  dataframe[column_name].fillna(mode_value, inplace=True)\n",
            "<ipython-input-101-0faff63a546e>:24: SettingWithCopyWarning: \n",
            "A value is trying to be set on a copy of a slice from a DataFrame\n",
            "\n",
            "See the caveats in the documentation: https://pandas.pydata.org/pandas-docs/stable/user_guide/indexing.html#returning-a-view-versus-a-copy\n",
            "  dataframe[column_name].fillna(mode_value, inplace=True)\n",
            "<ipython-input-101-0faff63a546e>:24: SettingWithCopyWarning: \n",
            "A value is trying to be set on a copy of a slice from a DataFrame\n",
            "\n",
            "See the caveats in the documentation: https://pandas.pydata.org/pandas-docs/stable/user_guide/indexing.html#returning-a-view-versus-a-copy\n",
            "  dataframe[column_name].fillna(mode_value, inplace=True)\n",
            "<ipython-input-101-0faff63a546e>:24: SettingWithCopyWarning: \n",
            "A value is trying to be set on a copy of a slice from a DataFrame\n",
            "\n",
            "See the caveats in the documentation: https://pandas.pydata.org/pandas-docs/stable/user_guide/indexing.html#returning-a-view-versus-a-copy\n",
            "  dataframe[column_name].fillna(mode_value, inplace=True)\n",
            "<ipython-input-101-0faff63a546e>:19: SettingWithCopyWarning: \n",
            "A value is trying to be set on a copy of a slice from a DataFrame\n",
            "\n",
            "See the caveats in the documentation: https://pandas.pydata.org/pandas-docs/stable/user_guide/indexing.html#returning-a-view-versus-a-copy\n",
            "  dataframe[column_name].fillna(mean_value, inplace=True)\n",
            "<ipython-input-101-0faff63a546e>:14: SettingWithCopyWarning: \n",
            "A value is trying to be set on a copy of a slice from a DataFrame\n",
            "\n",
            "See the caveats in the documentation: https://pandas.pydata.org/pandas-docs/stable/user_guide/indexing.html#returning-a-view-versus-a-copy\n",
            "  dataframe[column_name].fillna(mean_value, inplace=True)\n",
            "<ipython-input-101-0faff63a546e>:24: SettingWithCopyWarning: \n",
            "A value is trying to be set on a copy of a slice from a DataFrame\n",
            "\n",
            "See the caveats in the documentation: https://pandas.pydata.org/pandas-docs/stable/user_guide/indexing.html#returning-a-view-versus-a-copy\n",
            "  dataframe[column_name].fillna(mode_value, inplace=True)\n",
            "<ipython-input-101-0faff63a546e>:19: SettingWithCopyWarning: \n",
            "A value is trying to be set on a copy of a slice from a DataFrame\n",
            "\n",
            "See the caveats in the documentation: https://pandas.pydata.org/pandas-docs/stable/user_guide/indexing.html#returning-a-view-versus-a-copy\n",
            "  dataframe[column_name].fillna(mean_value, inplace=True)\n",
            "<ipython-input-101-0faff63a546e>:24: SettingWithCopyWarning: \n",
            "A value is trying to be set on a copy of a slice from a DataFrame\n",
            "\n",
            "See the caveats in the documentation: https://pandas.pydata.org/pandas-docs/stable/user_guide/indexing.html#returning-a-view-versus-a-copy\n",
            "  dataframe[column_name].fillna(mode_value, inplace=True)\n",
            "<ipython-input-101-0faff63a546e>:19: SettingWithCopyWarning: \n",
            "A value is trying to be set on a copy of a slice from a DataFrame\n",
            "\n",
            "See the caveats in the documentation: https://pandas.pydata.org/pandas-docs/stable/user_guide/indexing.html#returning-a-view-versus-a-copy\n",
            "  dataframe[column_name].fillna(mean_value, inplace=True)\n",
            "<ipython-input-101-0faff63a546e>:14: SettingWithCopyWarning: \n",
            "A value is trying to be set on a copy of a slice from a DataFrame\n",
            "\n",
            "See the caveats in the documentation: https://pandas.pydata.org/pandas-docs/stable/user_guide/indexing.html#returning-a-view-versus-a-copy\n",
            "  dataframe[column_name].fillna(mean_value, inplace=True)\n",
            "<ipython-input-101-0faff63a546e>:24: SettingWithCopyWarning: \n",
            "A value is trying to be set on a copy of a slice from a DataFrame\n",
            "\n",
            "See the caveats in the documentation: https://pandas.pydata.org/pandas-docs/stable/user_guide/indexing.html#returning-a-view-versus-a-copy\n",
            "  dataframe[column_name].fillna(mode_value, inplace=True)\n",
            "<ipython-input-101-0faff63a546e>:14: SettingWithCopyWarning: \n",
            "A value is trying to be set on a copy of a slice from a DataFrame\n",
            "\n",
            "See the caveats in the documentation: https://pandas.pydata.org/pandas-docs/stable/user_guide/indexing.html#returning-a-view-versus-a-copy\n",
            "  dataframe[column_name].fillna(mean_value, inplace=True)\n",
            "<ipython-input-101-0faff63a546e>:19: SettingWithCopyWarning: \n",
            "A value is trying to be set on a copy of a slice from a DataFrame\n",
            "\n",
            "See the caveats in the documentation: https://pandas.pydata.org/pandas-docs/stable/user_guide/indexing.html#returning-a-view-versus-a-copy\n",
            "  dataframe[column_name].fillna(mean_value, inplace=True)\n"
          ]
        },
        {
          "output_type": "stream",
          "name": "stdout",
          "text": [
            "Diccionario de imputación:\n",
            "{'id': {'estrategia': 'media', 'valor': 30299954}, 'loan_amnt': {'estrategia': 'media', 'valor': 14886.93}, 'funded_amnt': {'estrategia': 'media', 'valor': 14886.93}, 'funded_amnt_inv': {'estrategia': 'media', 'valor': 14883.9105}, 'term': {'estrategia': 'media', 'valor': 43}, 'int_rate': {'estrategia': 'media', 'valor': 13.2780734}, 'installment': {'estrategia': 'media', 'valor': 437.3318244000001}, 'grade': {'estrategia': 'moda', 'valor': 'C'}, 'sub_grade': {'estrategia': 'moda', 'valor': 'C1'}, 'emp_title': {'estrategia': 'moda', 'valor': 'Teacher'}, 'emp_length': {'estrategia': 'moda', 'valor': '10+ years'}, 'home_ownership': {'estrategia': 'moda', 'valor': 'MORTGAGE'}, 'annual_inc': {'estrategia': 'media', 'valor': 74689.2425825}, 'verification_status': {'estrategia': 'moda', 'valor': 'Source Verified'}, 'loan_status': {'estrategia': 'moda', 'valor': 'Fully Paid'}, 'pymnt_plan': {'estrategia': 'moda', 'valor': 'False'}, 'desc': {'estrategia': 'moda', 'valor': ' '}, 'purpose': {'estrategia': 'moda', 'valor': 'debt_consolidation'}, 'title': {'estrategia': 'moda', 'valor': 'Debt consolidation'}, 'zip_code': {'estrategia': 'moda', 'valor': '750xx'}, 'addr_state': {'estrategia': 'moda', 'valor': 'CA'}, 'dti': {'estrategia': 'media', 'valor': 18.7697866}, 'delinq_2yrs': {'estrategia': 'media', 'valor': 0}, 'fico_range_low': {'estrategia': 'media', 'valor': 692.5798}, 'fico_range_high': {'estrategia': 'media', 'valor': 696.57987}, 'inq_last_6mths': {'estrategia': 'media', 'valor': 0}, 'mths_since_last_delinq': {'estrategia': 'media', 'valor': 33.52252568376319}, 'mths_since_last_record': {'estrategia': 'media', 'valor': 69.39421467846044}, 'open_acc': {'estrategia': 'media', 'valor': 11}, 'pub_rec': {'estrategia': 'media', 'valor': 0}, 'revol_bal': {'estrategia': 'media', 'valor': 17588.06238}, 'revol_util': {'estrategia': 'media', 'valor': 55.43498459137117}, 'total_acc': {'estrategia': 'media', 'valor': 26.03486}, 'initial_list_status': {'estrategia': 'moda', 'valor': 'w'}, 'out_prncp': {'estrategia': 'media', 'valor': 1215.1084604999999}, 'out_prncp_inv': {'estrategia': 'media', 'valor': 1214.9064667}, 'total_pymnt': {'estrategia': 'media', 'valor': 15210.210257400642}, 'total_pymnt_inv': {'estrategia': 'media', 'valor': 15207.1216847}, 'total_rec_prncp': {'estrategia': 'media', 'valor': 11978.8756247}, 'total_rec_int': {'estrategia': 'media', 'valor': 3040.9570177000005}, 'total_rec_late_fee': {'estrategia': 'media', 'valor': 1.2300369003639051}, 'recoveries': {'estrategia': 'media', 'valor': 189.14756099939245}, 'collection_recovery_fee': {'estrategia': 'media', 'valor': 31.41689079499522}, 'last_pymnt_amnt': {'estrategia': 'media', 'valor': 4165.111319039872}, 'last_credit_pull_d': {'estrategia': 'moda', 'valor': 'Dec-2017'}, 'last_fico_range_high': {'estrategia': 'media', 'valor': 677.92764}, 'last_fico_range_low': {'estrategia': 'media', 'valor': 664.18765}, 'collections_12_mths_ex_med': {'estrategia': 'media', 'valor': 0}, 'mths_since_last_major_derog': {'estrategia': 'media', 'valor': 43.45123653412547}, 'policy_code': {'estrategia': 'media', 'valor': 1}, 'application_type': {'estrategia': 'moda', 'valor': 'Individual'}, 'acc_now_delinq': {'estrategia': 'media', 'valor': 0}, 'tot_coll_amt': {'estrategia': 'media', 'valor': 235}, 'tot_cur_bal': {'estrategia': 'media', 'valor': 140910.91011}, 'total_rev_hi_lim': {'estrategia': 'media', 'valor': 32526.9722}, 'acc_open_past_24mths': {'estrategia': 'media', 'valor': 4}, 'avg_cur_bal': {'estrategia': 'media', 'valor': 13337.70501}, 'bc_open_to_buy': {'estrategia': 'media', 'valor': 8956.451808021038}, 'bc_util': {'estrategia': 'media', 'valor': 64.5600220643307}, 'chargeoff_within_12_mths': {'estrategia': 'media', 'valor': 0}, 'delinq_amnt': {'estrategia': 'media', 'valor': 11}, 'mo_sin_old_il_acct': {'estrategia': 'media', 'valor': 127.73700163929357}, 'mo_sin_old_rev_tl_op': {'estrategia': 'media', 'valor': 185}, 'mo_sin_rcnt_rev_tl_op': {'estrategia': 'media', 'valor': 13}, 'mo_sin_rcnt_tl': {'estrategia': 'media', 'valor': 7}, 'mort_acc': {'estrategia': 'media', 'valor': 1}, 'mths_since_recent_bc': {'estrategia': 'media', 'valor': 24.435205303635133}, 'mths_since_recent_bc_dlq': {'estrategia': 'media', 'valor': 39.633868833868846}, 'mths_since_recent_inq': {'estrategia': 'media', 'valor': 6.7667716395733075}, 'mths_since_recent_revol_delinq': {'estrategia': 'media', 'valor': 35.61543138230253}, 'num_accts_ever_120_pd': {'estrategia': 'media', 'valor': 0}, 'num_actv_bc_tl': {'estrategia': 'media', 'valor': 3}, 'num_actv_rev_tl': {'estrategia': 'media', 'valor': 5}, 'num_bc_sats': {'estrategia': 'media', 'valor': 4}, 'num_bc_tl': {'estrategia': 'media', 'valor': 8}, 'num_il_tl': {'estrategia': 'media', 'valor': 8}, 'num_op_rev_tl': {'estrategia': 'media', 'valor': 8}, 'num_rev_accts': {'estrategia': 'media', 'valor': 15}, 'num_rev_tl_bal_gt_0': {'estrategia': 'media', 'valor': 5}, 'num_sats': {'estrategia': 'media', 'valor': 11}, 'num_tl_120dpd_2m': {'estrategia': 'media', 'valor': 0.0008159601811431601}, 'num_tl_30dpd': {'estrategia': 'media', 'valor': 0}, 'num_tl_90g_dpd_24m': {'estrategia': 'media', 'valor': 0}, 'num_tl_op_past_12m': {'estrategia': 'media', 'valor': 2}, 'pct_tl_nvr_dlq': {'estrategia': 'media', 'valor': 94.300697}, 'percent_bc_gt_75': {'estrategia': 'media', 'valor': 50.69469642550006}, 'pub_rec_bankruptcies': {'estrategia': 'media', 'valor': 0}, 'tax_liens': {'estrategia': 'media', 'valor': 0}, 'tot_hi_cred_lim': {'estrategia': 'media', 'valor': 172385.51452}, 'total_bal_ex_mort': {'estrategia': 'media', 'valor': 50471.32121}, 'total_bc_limit': {'estrategia': 'media', 'valor': 21073.77013}, 'total_il_high_credit_limit': {'estrategia': 'media', 'valor': 41031.31849}, 'hardship_type': {'estrategia': 'moda', 'valor': 'INTEREST ONLY-3 MONTHS DEFERRAL'}, 'hardship_reason': {'estrategia': 'moda', 'valor': 'NATURAL_DISASTER'}, 'hardship_status': {'estrategia': 'moda', 'valor': 'COMPLETED'}, 'deferral_term': {'estrategia': 'media', 'valor': 3.0}, 'hardship_amount': {'estrategia': 'media', 'valor': 110.33556756756752}, 'hardship_length': {'estrategia': 'media', 'valor': 3.0}, 'hardship_dpd': {'estrategia': 'media', 'valor': 14.037837837837836}, 'hardship_loan_status': {'estrategia': 'moda', 'valor': 'Late (16-30 days)'}, 'orig_projected_additional_accrued_interest': {'estrategia': 'media', 'valor': 323.49513157894734}, 'hardship_payoff_balance_amount': {'estrategia': 'media', 'valor': 8046.616540540536}, 'hardship_last_payment_amount': {'estrategia': 'media', 'valor': 186.56313513513516}, 'disbursement_method': {'estrategia': 'moda', 'valor': 'Cash'}, 'debt_settlement_flag': {'estrategia': 'moda', 'valor': 'True'}, 'settlement_status': {'estrategia': 'moda', 'valor': 'ACTIVE'}, 'settlement_amount': {'estrategia': 'media', 'valor': 4768.376356589147}, 'settlement_percentage': {'estrategia': 'media', 'valor': 47.72051937984495}, 'settlement_term': {'estrategia': 'media', 'valor': 8.265116279069767}, 'emp_length_numeric': {'estrategia': 'media', 'valor': 6}}\n"
          ]
        },
        {
          "output_type": "stream",
          "name": "stderr",
          "text": [
            "<ipython-input-101-0faff63a546e>:24: SettingWithCopyWarning: \n",
            "A value is trying to be set on a copy of a slice from a DataFrame\n",
            "\n",
            "See the caveats in the documentation: https://pandas.pydata.org/pandas-docs/stable/user_guide/indexing.html#returning-a-view-versus-a-copy\n",
            "  dataframe[column_name].fillna(mode_value, inplace=True)\n",
            "<ipython-input-101-0faff63a546e>:24: SettingWithCopyWarning: \n",
            "A value is trying to be set on a copy of a slice from a DataFrame\n",
            "\n",
            "See the caveats in the documentation: https://pandas.pydata.org/pandas-docs/stable/user_guide/indexing.html#returning-a-view-versus-a-copy\n",
            "  dataframe[column_name].fillna(mode_value, inplace=True)\n",
            "<ipython-input-101-0faff63a546e>:24: SettingWithCopyWarning: \n",
            "A value is trying to be set on a copy of a slice from a DataFrame\n",
            "\n",
            "See the caveats in the documentation: https://pandas.pydata.org/pandas-docs/stable/user_guide/indexing.html#returning-a-view-versus-a-copy\n",
            "  dataframe[column_name].fillna(mode_value, inplace=True)\n",
            "<ipython-input-101-0faff63a546e>:19: SettingWithCopyWarning: \n",
            "A value is trying to be set on a copy of a slice from a DataFrame\n",
            "\n",
            "See the caveats in the documentation: https://pandas.pydata.org/pandas-docs/stable/user_guide/indexing.html#returning-a-view-versus-a-copy\n",
            "  dataframe[column_name].fillna(mean_value, inplace=True)\n",
            "<ipython-input-101-0faff63a546e>:24: SettingWithCopyWarning: \n",
            "A value is trying to be set on a copy of a slice from a DataFrame\n",
            "\n",
            "See the caveats in the documentation: https://pandas.pydata.org/pandas-docs/stable/user_guide/indexing.html#returning-a-view-versus-a-copy\n",
            "  dataframe[column_name].fillna(mode_value, inplace=True)\n",
            "<ipython-input-101-0faff63a546e>:19: SettingWithCopyWarning: \n",
            "A value is trying to be set on a copy of a slice from a DataFrame\n",
            "\n",
            "See the caveats in the documentation: https://pandas.pydata.org/pandas-docs/stable/user_guide/indexing.html#returning-a-view-versus-a-copy\n",
            "  dataframe[column_name].fillna(mean_value, inplace=True)\n",
            "<ipython-input-101-0faff63a546e>:24: SettingWithCopyWarning: \n",
            "A value is trying to be set on a copy of a slice from a DataFrame\n",
            "\n",
            "See the caveats in the documentation: https://pandas.pydata.org/pandas-docs/stable/user_guide/indexing.html#returning-a-view-versus-a-copy\n",
            "  dataframe[column_name].fillna(mode_value, inplace=True)\n",
            "<ipython-input-101-0faff63a546e>:24: SettingWithCopyWarning: \n",
            "A value is trying to be set on a copy of a slice from a DataFrame\n",
            "\n",
            "See the caveats in the documentation: https://pandas.pydata.org/pandas-docs/stable/user_guide/indexing.html#returning-a-view-versus-a-copy\n",
            "  dataframe[column_name].fillna(mode_value, inplace=True)\n",
            "<ipython-input-101-0faff63a546e>:24: SettingWithCopyWarning: \n",
            "A value is trying to be set on a copy of a slice from a DataFrame\n",
            "\n",
            "See the caveats in the documentation: https://pandas.pydata.org/pandas-docs/stable/user_guide/indexing.html#returning-a-view-versus-a-copy\n",
            "  dataframe[column_name].fillna(mode_value, inplace=True)\n",
            "<ipython-input-101-0faff63a546e>:19: SettingWithCopyWarning: \n",
            "A value is trying to be set on a copy of a slice from a DataFrame\n",
            "\n",
            "See the caveats in the documentation: https://pandas.pydata.org/pandas-docs/stable/user_guide/indexing.html#returning-a-view-versus-a-copy\n",
            "  dataframe[column_name].fillna(mean_value, inplace=True)\n",
            "<ipython-input-101-0faff63a546e>:14: SettingWithCopyWarning: \n",
            "A value is trying to be set on a copy of a slice from a DataFrame\n",
            "\n",
            "See the caveats in the documentation: https://pandas.pydata.org/pandas-docs/stable/user_guide/indexing.html#returning-a-view-versus-a-copy\n",
            "  dataframe[column_name].fillna(mean_value, inplace=True)\n"
          ]
        }
      ]
    },
    {
      "cell_type": "markdown",
      "metadata": {
        "id": "AHFUsVgIKACf"
      },
      "source": [
        "### Codigo para salvar y cargar JSONs"
      ]
    },
    {
      "cell_type": "code",
      "source": [
        "import json\n",
        "# Guardar el diccionario en un archivo JSON\n",
        "with open('imput_dict.json', 'w') as archivo_json:\n",
        "    json.dump(imput_dict, archivo_json)"
      ],
      "metadata": {
        "id": "wg-Dm0a8kKu-"
      },
      "execution_count": 102,
      "outputs": []
    },
    {
      "cell_type": "code",
      "source": [
        "# Cargar el diccionario desde el archivo JSON\n",
        "with open('imput_dict.json', 'r') as archivo_json:\n",
        "    json_dict = json.load(archivo_json)\n",
        "# Imprimir el diccionario cargado\n",
        "print(json_dict)\n"
      ],
      "metadata": {
        "colab": {
          "base_uri": "https://localhost:8080/"
        },
        "id": "5wpIx7IofoOr",
        "outputId": "a2f7b47f-14b1-48ce-8703-51f402018ce2"
      },
      "execution_count": 103,
      "outputs": [
        {
          "output_type": "stream",
          "name": "stdout",
          "text": [
            "{'id': {'estrategia': 'media', 'valor': 30299954}, 'loan_amnt': {'estrategia': 'media', 'valor': 14886.93}, 'funded_amnt': {'estrategia': 'media', 'valor': 14886.93}, 'funded_amnt_inv': {'estrategia': 'media', 'valor': 14883.9105}, 'term': {'estrategia': 'media', 'valor': 43}, 'int_rate': {'estrategia': 'media', 'valor': 13.2780734}, 'installment': {'estrategia': 'media', 'valor': 437.3318244000001}, 'grade': {'estrategia': 'moda', 'valor': 'C'}, 'sub_grade': {'estrategia': 'moda', 'valor': 'C1'}, 'emp_title': {'estrategia': 'moda', 'valor': 'Teacher'}, 'emp_length': {'estrategia': 'moda', 'valor': '10+ years'}, 'home_ownership': {'estrategia': 'moda', 'valor': 'MORTGAGE'}, 'annual_inc': {'estrategia': 'media', 'valor': 74689.2425825}, 'verification_status': {'estrategia': 'moda', 'valor': 'Source Verified'}, 'loan_status': {'estrategia': 'moda', 'valor': 'Fully Paid'}, 'pymnt_plan': {'estrategia': 'moda', 'valor': 'False'}, 'desc': {'estrategia': 'moda', 'valor': ' '}, 'purpose': {'estrategia': 'moda', 'valor': 'debt_consolidation'}, 'title': {'estrategia': 'moda', 'valor': 'Debt consolidation'}, 'zip_code': {'estrategia': 'moda', 'valor': '750xx'}, 'addr_state': {'estrategia': 'moda', 'valor': 'CA'}, 'dti': {'estrategia': 'media', 'valor': 18.7697866}, 'delinq_2yrs': {'estrategia': 'media', 'valor': 0}, 'fico_range_low': {'estrategia': 'media', 'valor': 692.5798}, 'fico_range_high': {'estrategia': 'media', 'valor': 696.57987}, 'inq_last_6mths': {'estrategia': 'media', 'valor': 0}, 'mths_since_last_delinq': {'estrategia': 'media', 'valor': 33.52252568376319}, 'mths_since_last_record': {'estrategia': 'media', 'valor': 69.39421467846044}, 'open_acc': {'estrategia': 'media', 'valor': 11}, 'pub_rec': {'estrategia': 'media', 'valor': 0}, 'revol_bal': {'estrategia': 'media', 'valor': 17588.06238}, 'revol_util': {'estrategia': 'media', 'valor': 55.43498459137117}, 'total_acc': {'estrategia': 'media', 'valor': 26.03486}, 'initial_list_status': {'estrategia': 'moda', 'valor': 'w'}, 'out_prncp': {'estrategia': 'media', 'valor': 1215.1084604999999}, 'out_prncp_inv': {'estrategia': 'media', 'valor': 1214.9064667}, 'total_pymnt': {'estrategia': 'media', 'valor': 15210.210257400642}, 'total_pymnt_inv': {'estrategia': 'media', 'valor': 15207.1216847}, 'total_rec_prncp': {'estrategia': 'media', 'valor': 11978.8756247}, 'total_rec_int': {'estrategia': 'media', 'valor': 3040.9570177000005}, 'total_rec_late_fee': {'estrategia': 'media', 'valor': 1.2300369003639051}, 'recoveries': {'estrategia': 'media', 'valor': 189.14756099939245}, 'collection_recovery_fee': {'estrategia': 'media', 'valor': 31.41689079499522}, 'last_pymnt_amnt': {'estrategia': 'media', 'valor': 4165.111319039872}, 'last_credit_pull_d': {'estrategia': 'moda', 'valor': 'Dec-2017'}, 'last_fico_range_high': {'estrategia': 'media', 'valor': 677.92764}, 'last_fico_range_low': {'estrategia': 'media', 'valor': 664.18765}, 'collections_12_mths_ex_med': {'estrategia': 'media', 'valor': 0}, 'mths_since_last_major_derog': {'estrategia': 'media', 'valor': 43.45123653412547}, 'policy_code': {'estrategia': 'media', 'valor': 1}, 'application_type': {'estrategia': 'moda', 'valor': 'Individual'}, 'acc_now_delinq': {'estrategia': 'media', 'valor': 0}, 'tot_coll_amt': {'estrategia': 'media', 'valor': 235}, 'tot_cur_bal': {'estrategia': 'media', 'valor': 140910.91011}, 'total_rev_hi_lim': {'estrategia': 'media', 'valor': 32526.9722}, 'acc_open_past_24mths': {'estrategia': 'media', 'valor': 4}, 'avg_cur_bal': {'estrategia': 'media', 'valor': 13337.70501}, 'bc_open_to_buy': {'estrategia': 'media', 'valor': 8956.451808021038}, 'bc_util': {'estrategia': 'media', 'valor': 64.5600220643307}, 'chargeoff_within_12_mths': {'estrategia': 'media', 'valor': 0}, 'delinq_amnt': {'estrategia': 'media', 'valor': 11}, 'mo_sin_old_il_acct': {'estrategia': 'media', 'valor': 127.73700163929357}, 'mo_sin_old_rev_tl_op': {'estrategia': 'media', 'valor': 185}, 'mo_sin_rcnt_rev_tl_op': {'estrategia': 'media', 'valor': 13}, 'mo_sin_rcnt_tl': {'estrategia': 'media', 'valor': 7}, 'mort_acc': {'estrategia': 'media', 'valor': 1}, 'mths_since_recent_bc': {'estrategia': 'media', 'valor': 24.435205303635133}, 'mths_since_recent_bc_dlq': {'estrategia': 'media', 'valor': 39.633868833868846}, 'mths_since_recent_inq': {'estrategia': 'media', 'valor': 6.7667716395733075}, 'mths_since_recent_revol_delinq': {'estrategia': 'media', 'valor': 35.61543138230253}, 'num_accts_ever_120_pd': {'estrategia': 'media', 'valor': 0}, 'num_actv_bc_tl': {'estrategia': 'media', 'valor': 3}, 'num_actv_rev_tl': {'estrategia': 'media', 'valor': 5}, 'num_bc_sats': {'estrategia': 'media', 'valor': 4}, 'num_bc_tl': {'estrategia': 'media', 'valor': 8}, 'num_il_tl': {'estrategia': 'media', 'valor': 8}, 'num_op_rev_tl': {'estrategia': 'media', 'valor': 8}, 'num_rev_accts': {'estrategia': 'media', 'valor': 15}, 'num_rev_tl_bal_gt_0': {'estrategia': 'media', 'valor': 5}, 'num_sats': {'estrategia': 'media', 'valor': 11}, 'num_tl_120dpd_2m': {'estrategia': 'media', 'valor': 0.0008159601811431601}, 'num_tl_30dpd': {'estrategia': 'media', 'valor': 0}, 'num_tl_90g_dpd_24m': {'estrategia': 'media', 'valor': 0}, 'num_tl_op_past_12m': {'estrategia': 'media', 'valor': 2}, 'pct_tl_nvr_dlq': {'estrategia': 'media', 'valor': 94.300697}, 'percent_bc_gt_75': {'estrategia': 'media', 'valor': 50.69469642550006}, 'pub_rec_bankruptcies': {'estrategia': 'media', 'valor': 0}, 'tax_liens': {'estrategia': 'media', 'valor': 0}, 'tot_hi_cred_lim': {'estrategia': 'media', 'valor': 172385.51452}, 'total_bal_ex_mort': {'estrategia': 'media', 'valor': 50471.32121}, 'total_bc_limit': {'estrategia': 'media', 'valor': 21073.77013}, 'total_il_high_credit_limit': {'estrategia': 'media', 'valor': 41031.31849}, 'hardship_type': {'estrategia': 'moda', 'valor': 'INTEREST ONLY-3 MONTHS DEFERRAL'}, 'hardship_reason': {'estrategia': 'moda', 'valor': 'NATURAL_DISASTER'}, 'hardship_status': {'estrategia': 'moda', 'valor': 'COMPLETED'}, 'deferral_term': {'estrategia': 'media', 'valor': 3.0}, 'hardship_amount': {'estrategia': 'media', 'valor': 110.33556756756752}, 'hardship_length': {'estrategia': 'media', 'valor': 3.0}, 'hardship_dpd': {'estrategia': 'media', 'valor': 14.037837837837836}, 'hardship_loan_status': {'estrategia': 'moda', 'valor': 'Late (16-30 days)'}, 'orig_projected_additional_accrued_interest': {'estrategia': 'media', 'valor': 323.49513157894734}, 'hardship_payoff_balance_amount': {'estrategia': 'media', 'valor': 8046.616540540536}, 'hardship_last_payment_amount': {'estrategia': 'media', 'valor': 186.56313513513516}, 'disbursement_method': {'estrategia': 'moda', 'valor': 'Cash'}, 'debt_settlement_flag': {'estrategia': 'moda', 'valor': 'True'}, 'settlement_status': {'estrategia': 'moda', 'valor': 'ACTIVE'}, 'settlement_amount': {'estrategia': 'media', 'valor': 4768.376356589147}, 'settlement_percentage': {'estrategia': 'media', 'valor': 47.72051937984495}, 'settlement_term': {'estrategia': 'media', 'valor': 8.265116279069767}, 'emp_length_numeric': {'estrategia': 'media', 'valor': 6}}\n"
          ]
        }
      ]
    }
  ],
  "metadata": {
    "kernelspec": {
      "display_name": "Python 3",
      "language": "python",
      "name": "python3"
    },
    "language_info": {
      "codemirror_mode": {
        "name": "ipython",
        "version": 3
      },
      "file_extension": ".py",
      "mimetype": "text/x-python",
      "name": "python",
      "nbconvert_exporter": "python",
      "pygments_lexer": "ipython3",
      "version": "3.10.9"
    },
    "orig_nbformat": 4,
    "vscode": {
      "interpreter": {
        "hash": "e7370f93d1d0cde622a1f8e1c04877d8463912d04d973331ad4851f04de6915a"
      }
    },
    "colab": {
      "provenance": []
    }
  },
  "nbformat": 4,
  "nbformat_minor": 0
}